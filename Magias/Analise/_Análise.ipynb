{
 "cells": [
  {
   "cell_type": "code",
   "execution_count": 2,
   "metadata": {},
   "outputs": [
    {
     "name": "stderr",
     "output_type": "stream",
     "text": [
<<<<<<< HEAD
      "Spells: 100%|██████████| 115/115 [00:03<00:00, 34.36it/s]\n"
=======
      "Spells: 100%|██████████| 135/135 [00:00<00:00, 542.75it/s]\n"
>>>>>>> 9dd5592ff8a01595259b3eb82b70817517fe7bde
     ]
    }
   ],
   "source": [
    "from dfs.DFReader import get_asserted_spells_df\n",
    "\n",
    "spells_df = get_asserted_spells_df(verbose=True)\n"
   ]
  },
  {
   "cell_type": "code",
<<<<<<< HEAD
   "execution_count": 3,
=======
   "execution_count": 4,
>>>>>>> 9dd5592ff8a01595259b3eb82b70817517fe7bde
   "metadata": {},
   "outputs": [
    {
     "data": {
      "text/markdown": [
       "<span style='color:None;font-size:None'>**Absorver Elementos _(Absorve Elements)_** lvl 1<br></span><span style='color:None;font-size:13px'>&emsp;**Escola(s):** elemental (_sombras_)<br>&emsp;**Tempo conjuração:** 1 reação<br>&emsp;**Alcance:** pessoal<br>&emsp;**Componentes:** S<br>&emsp;**Mana:** 350<br>&emsp;**Duração:** 1 rodada<br>&emsp;**Dano**: 1d6<br>&emsp;**Dmg/effect:** elemental<br></span><span style='color:None;font-size:None'>A magia reverte parte da energia recebida, minimizando seu efeito em você e armazenando-a no seu próximo ataque corpo-a-corpo. Se você recebe um dano elemental, você pode usar sua reação para diminuir o dano pela metade. Além disso, da primeira vez que você atingir um ataque corpo-a-corpo no seu próximo turno, o alvo sofre 1d6 de dano extra do tipo relacionado e a magia termina.<br>&emsp;**Melhorar Magia**. A cada 500 de mana que você gasta a mais para conjurar essa magia, você adiciona 1d6 a mais (máximo de 5).<br></span><span style='color:gray;font-size:11px'>[dano, defesa]<br></span><span style='color:gray;font-size:11px'>[clérigo, paladino]<br></span><span style='color:gray;font-size:10px'>_Xanathar_</span>"
      ],
      "text/plain": [
       "<IPython.core.display.Markdown object>"
      ]
     },
     "metadata": {},
     "output_type": "display_data"
    },
    {
     "name": "stdout",
     "output_type": "stream",
     "text": [
      "\n"
     ]
    },
    {
     "data": {
      "text/markdown": [
       "<span style='color:None;font-size:None'>**Alarme _(Alarm)_** lvl 1 - ritual<br></span><span style='color:None;font-size:13px'>&emsp;**Escola(s):** musical, ilusionista<br>&emsp;**Tempo conjuração:** 1 minuto<br>&emsp;**Alcance:** 9 metros<br>&emsp;**Componentes:** VSM _(um pequeno sino e um pequeno fio de prata)_<br>&emsp;**Mana:** 300<br>&emsp;**Duração:** 8 horas<br></span><span style='color:None;font-size:None'>Você coloca um alarme para intrusos desavisados.<br>&emsp;Escolha uma porta, uma janela ou uma área dentro do alcance que não seja maior que 6 metros cúbicos. Até a magia acabar, um alarme alerta você sempre que uma criatura Miúda ou maior tocarem ou entrarem na área protegida. Quando você conjura a magia, você pode designar as criaturas que não ativarão o alarme. Você também escolhe se o alarme será mental ou audível.<br>&emsp;Um alarme mental alerta você com um silvo na sua mente, se você estiver a até de 1,5 quilômetro da área protegida. Esse silvo acordará você se você estiver dormindo.<br>&emsp;Um alarme audível produz o som de um sino de mão por 10 minutos num raio de 18 metros. <br></span><span style='color:gray;font-size:11px'>[detecção, utilidade]<br></span><span style='color:gray;font-size:11px'>[bardo, bruxo, clérigo, guerreiro, ladino, mago, monge, paladino]<br></span><span style='color:gray;font-size:10px'>_LDJ_</span>"
      ],
      "text/plain": [
       "<IPython.core.display.Markdown object>"
      ]
     },
     "metadata": {},
     "output_type": "display_data"
    },
    {
     "name": "stdout",
     "output_type": "stream",
     "text": [
      "\n"
     ]
    },
    {
     "data": {
      "text/markdown": [
       "<span style='color:None;font-size:None'>**Amizade Animal _(Animal Friendship)_** lvl 1<br></span><span style='color:None;font-size:13px'>&emsp;**Escola(s):** musical<br>&emsp;**Tempo conjuração:** 1 ação<br>&emsp;**Alcance:** 9 metros<br>&emsp;**Componentes:** VSM _(um punhado de comida)_<br>&emsp;**Mana:** 300<br>&emsp;**Duração:** 24 horas<br>&emsp;**Attack/Save:** WIS Save<br></span><span style='color:None;font-size:None'>Essa magia deixa você convencer uma besta que você não quer prejudicar. Escolha uma besta que você possa ver dentro do alcance. Ela deve ver e ouvir você. Se a Inteligência da besta for 4 ou maior, a magia falha. Do contrário, a besta deve ser bem sucedida num teste de resistência de Sabedoria ou ficará enfeitiçada por você pela duração da magia. Se você ou um dos seus companheiros ferir o alvo, a magia termina.<br>&emsp;**Melhorar Magia**. A cada 500 de mana adicional que você gastar, você pode afetar uma besta adicional até o máximo de 5.<br></span><span style='color:gray;font-size:11px'>[controle, social]<br></span><span style='color:gray;font-size:11px'>[bardo, bruxo, clérigo, feiticeiro, guerreiro, ladino, mago, monge, paladino]<br></span><span style='color:gray;font-size:10px'>_LDJ_</span>"
      ],
      "text/plain": [
       "<IPython.core.display.Markdown object>"
      ]
     },
     "metadata": {},
     "output_type": "display_data"
    },
    {
     "name": "stdout",
     "output_type": "stream",
     "text": [
      "\n"
     ]
    },
    {
     "data": {
      "text/markdown": [
       "<span style='color:None;font-size:None'>**Armadura Refletora _(Armor of Agathys)_** lvl 1<br></span><span style='color:None;font-size:13px'>&emsp;**Escola(s):** elemental, musical, psíquica (_água, terra, fogo, ar, luz, sombras, relâmpago, metal, veneno_)<br>&emsp;**Tempo conjuração:** 1 ação<br>&emsp;**Alcance:** pessoal<br>&emsp;**Componentes:** VS<br>&emsp;**Mana:** 300<br>&emsp;**Duração:** 1 hora<br>&emsp;**Dano**: 5<br>&emsp;**Dmg/effect:** elemental<br></span><span style='color:None;font-size:None'>Uma força magica protetora envolve você, manifestando-se de acordo com o seu elemento. Você ganha 5 pontos de vida temporários pela duração. Se uma criatura atingir você com um ataque corpo-a-corpo enquanto estiver com esses pontos de vida, a criatura sofrerá 5 de dano elemental.<br>&emsp;**Melhorar Magia**. Para cada 500 de mana adicional gasto, tanto os pontos de vida temporários quanto o dano aumentam em 5.<br></span><span style='color:gray;font-size:11px'>[dano, defesa]<br></span><span style='color:gray;font-size:11px'>[bardo, bruxo, clérigo, feiticeiro, mago, monge, paladino]<br></span><span style='color:gray;font-size:10px'>_LDJ_</span>"
      ],
      "text/plain": [
       "<IPython.core.display.Markdown object>"
      ]
     },
     "metadata": {},
     "output_type": "display_data"
    },
    {
     "name": "stdout",
     "output_type": "stream",
     "text": [
      "\n"
     ]
    },
    {
     "data": {
      "text/markdown": [
       "<span style='color:None;font-size:None'>**Braços de Hadar _(Arms of Hadar)_** lvl 1<br></span><span style='color:None;font-size:13px'>&emsp;**Escola(s):** elemental (_sombras_)<br>&emsp;**Tempo conjuração:** 1 ação<br>&emsp;**Alcance:** 3 metros<br>&emsp;**Componentes:** VS<br>&emsp;**Mana:** 500<br>&emsp;**Duração:** instantânea<br>&emsp;**Dano**: 2d6<br>&emsp;**Attack/Save:** STR Save<br>&emsp;**Dmg/effect:** necrótico<br></span><span style='color:None;font-size:None'>Você invoca o poder de Hadar, o Faminto Sombrio.<br>&emsp;Tentáculos de energia negra brotam de você e golpeiam todas as criaturas a até 3 metros de você. Cada criatura na área deve realizar um teste de resistência de Força. Se falhar, o alvo sofre 2d6 de dano necrótico e não pode fazer reações até o próximo turno dela. Em um sucesso, uma criatura sofre metade do dano e não sofre qualquer outro efeito.<br>&emsp;**Melhorar Magia.** Para cada 600 de mana adicionais gastos, o dano aumenta 1d6 até um máximo de 5d6 adicionais.<br></span><span style='color:gray;font-size:11px'>[dano]<br></span><span style='color:gray;font-size:11px'>[bardo, bruxo, clérigo, feiticeiro, guerreiro, ladino, mago, monge, paladino]<br></span><span style='color:gray;font-size:10px'>_LDJ_</span>"
      ],
      "text/plain": [
       "<IPython.core.display.Markdown object>"
      ]
     },
     "metadata": {},
     "output_type": "display_data"
    },
    {
     "name": "stdout",
     "output_type": "stream",
     "text": [
      "\n"
     ]
    },
    {
     "data": {
      "text/markdown": [
       "<span style='color:None;font-size:None'>**Perdição _(Bane)_** lvl 1<br></span><span style='color:None;font-size:13px'>&emsp;**Escola(s):** musical<br>&emsp;**Tempo conjuração:** 1 ação<br>&emsp;**Alcance:** 9 metros<br>&emsp;**Componentes:** VSM _(uma gota de sangue)_<br>&emsp;**Mana:** 350 (_+ 75 por turno_)<br>&emsp;**Duração:** concentração, até 1 minuto<br>&emsp;**Attack/Save:** CHA Save<br></span><span style='color:None;font-size:None'>Até três criaturas, à sua escolha, que você possa ver dentro do alcance, devem realizar um teste de resistência de Carisma. Sempre que um alvo que falhou nessa resistência realizar uma jogada de ataque ou um teste de resistência antes da magia acabar, o alvo deve rolar 1d4 e subtrair o valor rolado da jogada de ataque ou teste de resistência.<br>&emsp;**Melhorar Magia:** Para cada 500 de mana adicional gasto, mais uma criatura é afetada até um máximo de 5. Você pode gastar mais 500 para cada criatura criatura afetada para transformar o d4 em d6.<br></span><span style='color:gray;font-size:11px'>[debuff]<br></span><span style='color:gray;font-size:11px'>[bardo, bruxo, clérigo, feiticeiro, mago, paladino]<br></span><span style='color:gray;font-size:10px'>_LDJ_</span>"
      ],
      "text/plain": [
       "<IPython.core.display.Markdown object>"
      ]
     },
     "metadata": {},
     "output_type": "display_data"
    },
    {
     "name": "stdout",
     "output_type": "stream",
     "text": [
      "\n"
     ]
    },
    {
     "data": {
      "text/markdown": [
       "<span style='color:None;font-size:None'>**Vínculo com a Besta _(Beast Bond)_** lvl 1<br></span><span style='color:None;font-size:13px'>&emsp;**Escola(s):** psíquica<br>&emsp;**Tempo conjuração:** 1 ação<br>&emsp;**Alcance:** toque<br>&emsp;**Componentes:** VSM _(um tufo de pelos envolto por um pano)_<br>&emsp;**Mana:** 150 (_+ 10 por minuto_)<br>&emsp;**Duração:** concentração, até 10 minutos<br></span><span style='color:None;font-size:None'>Você estabelece um elo telepático com uma besta que você tocar que seja amigável a você ou que esteja enfeitiçada por você. A magia falha se o valor de Inteligência da besta for 4 ou maior. Até a magia acabar, o elo permanece ativo contato que você e a besta tenham linha de visão um do outro. Através do elo, a besta pode compreender suas mensagens telepáticas para ela e pode comunicar telepaticamente emoções e conceitos simples de volta para você.<br>&emsp;Enquanto o elo estiver ativo, a besta ganha vantagem nas jogadas de ataque contra qualquer criatura a até 1,5 metros de você que você possa ver.<br></span><span style='color:gray;font-size:11px'>[buff, comunicação]<br></span><span style='color:gray;font-size:11px'>[bardo, bruxo, clérigo, feiticeiro, guerreiro, ladino, mago, monge, paladino]<br></span><span style='color:gray;font-size:10px'>_Xanathar_</span>"
      ],
      "text/plain": [
       "<IPython.core.display.Markdown object>"
      ]
     },
     "metadata": {},
     "output_type": "display_data"
    },
    {
     "name": "stdout",
     "output_type": "stream",
     "text": [
      "\n"
     ]
    },
    {
     "data": {
      "text/markdown": [
       "<span style='color:None;font-size:None'>**Bênção _(Bless)_** lvl 1<br></span><span style='color:None;font-size:13px'>&emsp;**Escola(s):** elemental (_água, luz_)<br>&emsp;**Tempo conjuração:** 1 ação<br>&emsp;**Alcance:** 9 metros<br>&emsp;**Componentes:** VSM _(um borrifo de água benta)_<br>&emsp;**Mana:** 300 (_+ 30 por turno_)<br>&emsp;**Duração:** concentração, até 1 minuto<br></span><span style='color:None;font-size:None'>Você abençoa até três criaturas, à sua escolha, dentro do alcance. Sempre que um alvo realizar uma jogada de ataque ou teste de resistência antes da magia acabar, o alvo pode jogar um d4 e adicionar o valor jogado ao ataque ou teste de resistência.<br>&emsp;**Melhorar Magia**. Você pode gastar 500 de mana adicionais para adicionar mais uma pessoa até um máximo de 6 pessoas no total.<br></span><span style='color:gray;font-size:11px'>[buff]<br></span><span style='color:gray;font-size:11px'>[bardo, bruxo, clérigo, feiticeiro, mago, monge, paladino]<br></span><span style='color:gray;font-size:10px'>_LDJ_</span>"
      ],
      "text/plain": [
       "<IPython.core.display.Markdown object>"
      ]
     },
     "metadata": {},
     "output_type": "display_data"
    },
    {
     "name": "stdout",
     "output_type": "stream",
     "text": [
      "\n"
     ]
    },
    {
     "data": {
      "text/markdown": [
       "<span style='color:None;font-size:None'>**Mãos Flamejantes _(Burning Hands)_** lvl 1<br></span><span style='color:None;font-size:13px'>&emsp;**Escola(s):** elemental (_fogo, sombras, relâmpago, veneno_)<br>&emsp;**Tempo conjuração:** 1 ação<br>&emsp;**Alcance:** pessoal (cone de 4,5 metros)<br>&emsp;**Componentes:** VS<br>&emsp;**Mana:** 400<br>&emsp;**Duração:** instantânea<br>&emsp;**Dano**: 3d6<br>&emsp;**Attack/Save:** DEX Save<br>&emsp;**Dmg/effect:** fogo<br></span><span style='color:None;font-size:None'>Enquanto você mantiver suas mãos com os polegares juntos e os dedos abertos, uma fino leque de chamas emerge das pontas dos seus dedos erguidos. Cada criatura num cone de 4,5 metros deve realizar um teste de resistência de Destreza. Uma criatura sofre 3d6 de dano elemental se falhar no teste, ou metade desse dano se obtiver sucesso.<br>&emsp;O fogo incendeia qualquer objeto inflamável na área que não esteja sendo vestido ou carregado.<br>&emsp;**Melhorar Magia.** Para cada 500 de mana a mais gasto, adicione 1d6 ao dano até um máximo de 5 dados extras.<br></span><span style='color:gray;font-size:11px'>[dano]<br></span><span style='color:gray;font-size:11px'>[bardo, bruxo, clérigo, feiticeiro, guerreiro, ladino, mago, monge, paladino]<br></span><span style='color:gray;font-size:10px'>_LDJ_</span>"
      ],
      "text/plain": [
       "<IPython.core.display.Markdown object>"
      ]
     },
     "metadata": {},
     "output_type": "display_data"
    },
    {
     "name": "stdout",
     "output_type": "stream",
     "text": [
      "\n"
     ]
    },
    {
     "data": {
      "text/markdown": [
       "<span style='color:None;font-size:None'>**Catapulta _(Catapult)_** lvl 1<br></span><span style='color:None;font-size:13px'>&emsp;**Escola(s):** elemental (_terra, luz, sombras, metal_)<br>&emsp;**Tempo conjuração:** 1 ação<br>&emsp;**Alcance:** 45 metros<br>&emsp;**Componentes:** S<br>&emsp;**Mana:** 400<br>&emsp;**Duração:** instantânea<br>&emsp;**Dano**: 3d8<br>&emsp;**Attack/Save:** DEX Save<br>&emsp;**Dmg/effect:** concussão<br></span><span style='color:None;font-size:None'>Você cria uma pedra pesando entre 0,5 e 2,5 quilos. A pedra voa em linha reta até 18 metros na direção que você escolher, antes de cair no chão, parando prematuramente se atingir uma superfície sólida. Se a pedra puder atingir uma criatura, a criatura deve realizar um teste de resistência de Destreza. Se falhar na resistência, a pedra atinge o alvo e para de se mover. Em qualquer caso, tanto a pedra quanto a criatura ou superfície sólida sofrem 3d8 de dano de concussão.<br>&emsp;**Melhorar Magia.** A cada 600 de mana adicional gasto, o peso total da pedra pode aumentar em 2,5 quilos e o dano aumenta em 1d8 com um máximo de 5d8 adicionais.<br></span><span style='color:gray;font-size:11px'>[controle, dano]<br></span><span style='color:gray;font-size:11px'>[bardo, bruxo, clérigo, feiticeiro, mago]<br></span><span style='color:gray;font-size:10px'>_Xanathar_</span>"
      ],
      "text/plain": [
       "<IPython.core.display.Markdown object>"
      ]
     },
     "metadata": {},
     "output_type": "display_data"
    },
    {
     "name": "stdout",
     "output_type": "stream",
     "text": [
      "\n"
     ]
    },
    {
     "data": {
      "text/markdown": [
       "<span style='color:None;font-size:None'>**Causar Medo _(Cause Fear)_** lvl 1<br></span><span style='color:None;font-size:13px'>&emsp;**Escola(s):** psíquica<br>&emsp;**Tempo conjuração:** 1 ação<br>&emsp;**Alcance:** 18 metros<br>&emsp;**Componentes:** V<br>&emsp;**Mana:** 250 (_+ 25 por turno_)<br>&emsp;**Duração:** concentração, até 1 minuto<br>&emsp;**Dano**: 1d6<br>&emsp;**Attack/Save:** WIS Save<br>&emsp;**Dmg/effect:** amedrontado<br></span><span style='color:None;font-size:None'>Você desperta o senso de mortalidade em uma criatura que você possa ver dentro do alcance. O alvo precisa ser bem sucedido em teste de resistência de Sabedoria ou se tornará amedrontada por você até que a magia termine. O alvo amedrontado pode repetir o teste de resistência ao fim de cada um de seus turnos, terminando o efeito em si mesmo com um sucesso.<br>&emsp;**Melhorar Magia.** Para cada 500 de mana adicionais gastos, você adiciona uma criatura extra como alvo, com um máximo de 7 alvos. As criaturas precisam estar a no máximo 9 metros uma da outra quando você as incluir como alvos.<br></span><span style='color:gray;font-size:11px'>[controle, debuff]<br></span><span style='color:gray;font-size:11px'>[bardo, bruxo, clérigo, feiticeiro, mago]<br></span><span style='color:gray;font-size:10px'>_Xanathar_</span>"
      ],
      "text/plain": [
       "<IPython.core.display.Markdown object>"
      ]
     },
     "metadata": {},
     "output_type": "display_data"
    },
    {
     "name": "stdout",
     "output_type": "stream",
     "text": [
      "\n"
     ]
    },
    {
     "data": {
      "text/markdown": [
       "<span style='color:None;font-size:None'>**Raio de Caos _(Chaos Boat)_** lvl 1<br></span><span style='color:None;font-size:13px'>&emsp;**Escola(s):** elemental (_água, terra, fogo, ar, luz, sombras, relâmpago, metal, veneno_)<br>&emsp;**Tempo conjuração:** 1 ação<br>&emsp;**Alcance:** 36 metros<br>&emsp;**Componentes:** VS<br>&emsp;**Mana:** 600<br>&emsp;**Duração:** instantânea<br>&emsp;**Dano**: 2d8 + 1d6<br>&emsp;**Attack/Save:** distância<br>&emsp;**Dmg/effect:** elemental<br></span><span style='color:None;font-size:None'>Você conjura uma massa ondulante de energia caótica elemental em uma criatura no alcance. Faça um ataque a distância com magia contra o alvo. Se atingir, o alvo leva 2d8 + 1d6 de dano elemental.<br>&emsp;Se os dois d8 rolados possuírem o mesmo valor, então a energia caótica salta para um alvo dentro de 9 metros de distância a sua escolha. Faça uma nova rolagem de ataque a distância contra o novo e role novamente o dano, fazendo com que a magia possa novamente saltar para outro alvo.<br>&emsp;[Corpo-a-corpo] Você pode, ao invés de realizar um ataque à distância, utilizar uma arma corpo-a-corpo para fazer um ataque. Sua arma se enche dessa energia caótica e o efeito é o mesmo, mas a diferença é que o alvo inicial sofre 2d8 + o dano que sua arma possui naturalmente.<br>&emsp;**Melhorar Magia.** Para cada 500 adicionais de mana gasto, o dano da magia aumenta em 1d6, com um limite de 5d6 extras.<br></span><span style='color:gray;font-size:11px'>[dano]<br></span><span style='color:gray;font-size:11px'>[bardo, bruxo, clérigo, feiticeiro, guerreiro, ladino, mago, monge, paladino]<br></span><span style='color:gray;font-size:10px'>_Xanathar_</span>"
      ],
      "text/plain": [
       "<IPython.core.display.Markdown object>"
      ]
     },
     "metadata": {},
     "output_type": "display_data"
    },
    {
     "name": "stdout",
     "output_type": "stream",
     "text": [
      "\n"
     ]
    },
    {
     "data": {
      "text/markdown": [
       "<span style='color:None;font-size:None'>**Enfeitiçar Pessoa _(Charm Person)_** lvl 1<br></span><span style='color:None;font-size:13px'>&emsp;**Escola(s):** psíquica, musical<br>&emsp;**Tempo conjuração:** 1 ação<br>&emsp;**Alcance:** 9 metros<br>&emsp;**Componentes:** VS<br>&emsp;**Mana:** 400<br>&emsp;**Duração:** 1 hora<br>&emsp;**Attack/Save:** WIS Save<br>&emsp;**Dmg/effect:** enfeitiçado<br></span><span style='color:None;font-size:None'>Você tenta enfeitiçar um humanoide que você possa ver dentro do alcance. Ele deve realizar um teste de resistência de Sabedoria, e recebe vantagem nesse teste se você ou seus companheiros estiverem lutando com ele.  Se ele falhar, ficará enfeitiçado por você até a magia acabar ou até você ou seus companheiros fizerem qualquer coisa nociva contra ele. A criatura enfeitiçada reconhece você como um conhecido amigável. Quando a magia acabar, a criatura saberá que foi enfeitiçada por você.<br>&emsp;**Melhorar Magia.** Para cada 500 de mana adicionais gastos, você pode afetar mais uma humanoide até um máximo de 5 humanoides. Para cada 500 de mana adicionais gastos por humanoide afetado, você pode extender o tempo de duração em 1 hora, até um máximo de 5 horas. Gastando 2500 de mana por humanoide afetado, você pode remover a parte da magia que fala que a criatura saberá que foi enfeitiçada por você.<br></span><span style='color:gray;font-size:11px'>[controle, debuff, social]<br></span><span style='color:gray;font-size:11px'>[bardo, bruxo, clérigo, feiticeiro, guerreiro, ladino, mago, monge, paladino]<br></span><span style='color:gray;font-size:10px'>_LDJ_</span>"
      ],
      "text/plain": [
       "<IPython.core.display.Markdown object>"
      ]
     },
     "metadata": {},
     "output_type": "display_data"
    },
    {
     "name": "stdout",
     "output_type": "stream",
     "text": [
      "\n"
     ]
    },
    {
     "data": {
      "text/markdown": [
       "<span style='color:None;font-size:None'>**Orbe Elemental _(Chromatic Orb)_** lvl 1<br></span><span style='color:None;font-size:13px'>&emsp;**Escola(s):** elemental (_água, terra, fogo, ar, luz, sombras, relâmpago, metal, veneno_)<br>&emsp;**Tempo conjuração:** 1 ação<br>&emsp;**Alcance:** 27 metros<br>&emsp;**Componentes:** VS<br>&emsp;**Mana:** 400<br>&emsp;**Duração:** instantânea<br>&emsp;**Dano**: 3d8<br>&emsp;**Attack/Save:** distância<br>&emsp;**Dmg/effect:** elemental<br></span><span style='color:None;font-size:None'>Você arremessa uma esfera de energia elemental de 12 centímetros de diâmetro numa criatura que você possa ver dentro do alcance. Você realiza um ataque à distância com magia. Se o ataque atingir, a criatura sofre 3d8 de dano elemental. **Melhorar Magia.** Para cada 500 de mana adicional gasto, você pode adicionar 1d8 no dano até um máximo de 5d8 extras.<br></span><span style='color:gray;font-size:11px'>[dano]<br></span><span style='color:gray;font-size:11px'>[bardo, bruxo, feiticeiro, mago]<br></span><span style='color:gray;font-size:10px'>_LDJ_</span>"
      ],
      "text/plain": [
       "<IPython.core.display.Markdown object>"
      ]
     },
     "metadata": {},
     "output_type": "display_data"
    },
    {
     "name": "stdout",
     "output_type": "stream",
     "text": [
      "\n"
     ]
    },
    {
     "data": {
      "text/markdown": [
       "<span style='color:None;font-size:None'>**Flash _(Color Spray)_** lvl 1<br></span><span style='color:None;font-size:13px'>&emsp;**Escola(s):** elemental (_sombras_)<br>&emsp;**Tempo conjuração:** 1 ação<br>&emsp;**Alcance:** pessoal (cone de 4,5 metros)<br>&emsp;**Componentes:** VSM _(um punhado de pó ou areia)_<br>&emsp;**Mana:** 300<br>&emsp;**Duração:** 2 rodadas<br>&emsp;**Attack/Save:** WIS Save<br>&emsp;**Dmg/effect:** amedrontado<br></span><span style='color:None;font-size:None'>Um feixe de luzes negras surge da sua mão. Role 6d10; o total é a quantidade de pontos de vida de criaturas que essa magia pode afetar. As criaturas num cone de 4,5 metros, originado de você, são afetadas em ordem ascendente dos seus pontos de vida (ignorando criaturas inconsciente e que não podem ver).<br>&emsp;Começando com as criaturas que tiverem menos pontos de vida, cada criatura afetada por essa magia deve fazer um teste de Sabedoria CD 8 + seu modificador de magia. Se falhar, ficará amedrontada até o fim da magia. Subtraia os pontos de vida de cada criatura do total antes de considerar os pontos de vida da próxima criatura. Os pontos de vida de uma criatura devem ser iguais ou menores que o total restante para que essa criatura seja afetada<br>&emsp;**Melhorar Magia.** Você pode gastar 500 de mana adicionais para receber 2d10 extras até um limite de 10d10 extras. Você pode gastar 1500 de mana adicionais para fazer o efeito durar mais uma rodada até um máximo de 3 rodadas.<br></span><span style='color:gray;font-size:11px'>[controle, debuff]<br></span><span style='color:gray;font-size:11px'>[bardo, bruxo, clérigo, feiticeiro, guerreiro, ladino, mago, monge, paladino]<br></span><span style='color:gray;font-size:10px'>_LDJ_</span>"
      ],
      "text/plain": [
       "<IPython.core.display.Markdown object>"
      ]
     },
     "metadata": {},
     "output_type": "display_data"
    },
    {
     "name": "stdout",
     "output_type": "stream",
     "text": [
      "\n"
     ]
    },
    {
     "data": {
      "text/markdown": [
       "<span style='color:None;font-size:None'>**Flash _(Color Spray)_** lvl 1<br></span><span style='color:None;font-size:13px'>&emsp;**Escola(s):** elemental (_luz_)<br>&emsp;**Tempo conjuração:** 1 ação<br>&emsp;**Alcance:** pessoal (cone de 4,5 metros)<br>&emsp;**Componentes:** VSM _(um punhado de pó ou areia)_<br>&emsp;**Mana:** 300<br>&emsp;**Duração:** 1 rodada<br>&emsp;**Dmg/effect:** cego<br></span><span style='color:None;font-size:None'>Um feixe de luzes surge da sua mão. Role 6d10; o total é a quantidade de pontos de vida de criaturas que essa magia pode afetar. As criaturas num cone de 4,5 metros, originado de você, são afetadas em ordem ascendente dos seus pontos de vida (ignorando criaturas inconsciente e que não podem ver).<br>&emsp;Começando com as criaturas que tiverem menos pontos de vida, cada criatura afetada por essa magia ficará cega até o fim da magia. Subtraia os pontos de vida de cada criatura do total antes de considerar os pontos de vida da próxima criatura. Os pontos de vida de uma criatura devem ser iguais ou menores que o total restante para que essa criatura seja afetada<br>&emsp;**Melhorar Magia.** Você pode gastar 500 de mana adicionais para receber 2d10 extras até um limite de 10d10 extras. Você pode gastar 1500 de mana adicionais para fazer o efeito durar mais uma rodada até um máximo de 3 rodadas.<br></span><span style='color:gray;font-size:11px'>[controle, debuff]<br></span><span style='color:gray;font-size:11px'>[bardo, bruxo, clérigo, feiticeiro, guerreiro, ladino, mago, monge, paladino]<br></span><span style='color:gray;font-size:10px'>_LDJ_</span>"
      ],
      "text/plain": [
       "<IPython.core.display.Markdown object>"
      ]
     },
     "metadata": {},
     "output_type": "display_data"
    },
    {
     "name": "stdout",
     "output_type": "stream",
     "text": [
      "\n"
     ]
    },
    {
     "data": {
      "text/markdown": [
       "<span style='color:None;font-size:None'>**Comando _(Command)_** lvl 1<br></span><span style='color:None;font-size:13px'>&emsp;**Escola(s):** psíquica<br>&emsp;**Tempo conjuração:** 1 ação<br>&emsp;**Alcance:** pessoal<br>&emsp;**Componentes:** V<br>&emsp;**Mana:** 300<br>&emsp;**Duração:** instantânea<br>&emsp;**Attack/Save:** WIS Save<br></span><span style='color:None;font-size:None'>Você pronuncia uma palavra de comando para uma criatura que você possa ver dentro do alcance. O alvo deve ser bem sucedido num teste de resistência de Sabedoria ou seguirá seu comando no próximo turno dele. A magia não tem efeito se o alvo for um morto-vivo, se ele não entender seu idioma ou se o comando for diretamente nocivo a ele.<br>&emsp;Alguns comandos típicos e seus efeitos a seguir. Você pode proferir um comando diferente dos descritos aqui. Se o fizer, o Mestre descreve como o alvo reage. Se o alvo não puder cumprir o comando, a magia termina. <br>&emsp;__Aproxime-se.__ O alvo se move para próximo de você o máximo que puder na rota mais direta, terminando seu turno, se ele se mover a até 1,5 metro de você.<br>&emsp;__Largue.__ O alvo larga o que quer que ele esteja segurando, e termina seu turno.<br>&emsp;__Fuja.__ O alvo gasta seu turno se movendo para longe de você da forma mais rápida que puder.<br>&emsp;__Deite-se.__ O alvo deita-se no chão e então, termina seu turno.<br>&emsp;__Parado.__ O alvo não se move e não realiza nenhuma ação. Uma criatura voadora continua no alto, considerando que ela seja capaz de fazê-lo. Se ela tiver que se mover para continuar no alto, ela voa a mínima distância necessária para permanecer no ar.<br>&emsp;**Melhorar Magia.** Você pode gastar 500 de mana extra para adicionar mais uma criatura como alvo. As criaturas devem estar a 9 metros entre si para serem afetadas.<br></span><span style='color:gray;font-size:11px'>[controle, social]<br></span><span style='color:gray;font-size:11px'>[bardo, bruxo, clérigo, feiticeiro, guerreiro, ladino, mago, monge, paladino]<br></span><span style='color:gray;font-size:10px'>_LDJ_</span>"
      ],
      "text/plain": [
       "<IPython.core.display.Markdown object>"
      ]
     },
     "metadata": {},
     "output_type": "display_data"
    },
    {
     "name": "stdout",
     "output_type": "stream",
     "text": [
      "\n"
     ]
    },
    {
     "data": {
      "text/markdown": [
       "<span style='color:None;font-size:None'>**Duelo Compelido _(Compelled Duel)_** lvl 1<br></span><span style='color:None;font-size:13px'>&emsp;**Escola(s):** receita<br>&emsp;**Tempo conjuração:** 1 ação<br>&emsp;**Alcance:** pessoal<br>&emsp;**Componentes:** VSM _(um conjuro de ferramentas de adivinhação - como ossos, bastões de marfim, dentes ou runas esculpidas - no valor de 100 po e um objeto do lugar que você deseja encontrar)_<br>&emsp;**Mana:** 1000 (_+ 100 por hora_)<br>&emsp;**Duração:** concentração, até 1 dia<br></span><span style='color:None;font-size:None'>Essa magia permite que você encontre a rota física mais curta e direta para um local especifico estático, que você seja familiar, no mesmo plano de existência. Se você denominar um destino em outro plano de existência, um local que se mova (como uma fortaleza andante) ou um destino que não seja especifico (como “o covil do dragão verde”), a magia falha.<br>&emsp;Pela duração, contanto que você esteja no mesmo plano de existência do destino, você saberá o quão longe ele está e em que direção ele se encontra. Enquanto estiver viajando, sempre que você se deparar com uma escolha de trajetória no caminho, você automaticamente determina qual trajetória tem a rota mais curta e direta (mas não necessariamente a rota mais segura) para o destino<br></span><span style='color:gray;font-size:11px'>[utilidade]<br></span><span style='color:gray;font-size:11px'>[bardo, bruxo, clérigo, feiticeiro, guerreiro, ladino, mago, monge, paladino]<br></span><span style='color:gray;font-size:10px'>_LDJ_</span>"
      ],
      "text/plain": [
       "<IPython.core.display.Markdown object>"
      ]
     },
     "metadata": {},
     "output_type": "display_data"
    },
    {
     "name": "stdout",
     "output_type": "stream",
     "text": [
      "\n"
     ]
    },
    {
     "data": {
      "text/markdown": [
       "<span style='color:None;font-size:None'>**Compreender Idiomas _(Comprehend Languages)_** lvl 1 - ritual<br></span><span style='color:None;font-size:13px'>&emsp;**Escola(s):** psíquica<br>&emsp;**Tempo conjuração:** 1 ação<br>&emsp;**Alcance:** pessoal<br>&emsp;**Componentes:** VSM _(uma pitada de fuligem e sal)_<br>&emsp;**Mana:** 350<br>&emsp;**Duração:** 1 hora<br></span><span style='color:None;font-size:None'>Pela duração, você compreende o significado literal de qualquer idioma falado que você ouvir. Você também compreende qualquer idioma escrito que vir, mas você deve tocar a superfície onde as palavras estão escritas.<br>&emsp;Leva, aproximadamente, 1 minuto para ler uma página de texto.<br>&emsp;Essa magia não decifra mensagens secretas em textos ou glifos, como um selo arcano, que não seja parte de um idioma escrito.<br></span><span style='color:gray;font-size:11px'>[social]<br></span><span style='color:gray;font-size:11px'>[bardo, bruxo, clérigo, feiticeiro, guerreiro, ladino, mago, monge, paladino]<br></span><span style='color:gray;font-size:10px'>_LDJ_</span>"
      ],
      "text/plain": [
       "<IPython.core.display.Markdown object>"
      ]
     },
     "metadata": {},
     "output_type": "display_data"
    },
    {
     "name": "stdout",
     "output_type": "stream",
     "text": [
      "\n"
     ]
    },
    {
     "data": {
      "text/markdown": [
       "<span style='color:None;font-size:None'>**Criar ou Destruir Água _(Create or Destroy Water)_** lvl 1<br></span><span style='color:None;font-size:13px'>&emsp;**Escola(s):** elemental (_água_)<br>&emsp;**Tempo conjuração:** 1 ação<br>&emsp;**Alcance:** 9 metros<br>&emsp;**Componentes:** VSM _(uma gota de água se estiver criando ou alguns grãos de areia se estiver destruindo)_<br>&emsp;**Mana:** 300<br>&emsp;**Duração:** instantânea<br></span><span style='color:None;font-size:None'>Você pode tanto criar quanto destruir água.<br>&emsp;**Criar Água.** Você cria 30 litros de água limpa dentro do alcance, em um recipiente aberto. Alternativamente, a água pode cair como chuva em um cubo de 9 metros dentro do alcance, extinguindo chamas expostas na área.<br>&emsp;**Destruir Água.** Você destrói até 30 litros de água de um recipiente aberto dentro do alcance. Alternativamente, você pode destruir um nevoeiro em um cubo de 9 metros dentro do alcance.<br>&emsp;**Melhorar Magia.** Você pode adicionais mais 30 litros de água para cada 500 de mana gastos até um total de 150 litro adicionais máximos. Você pode aumentar o tamanho do cubo em 1,5 para cada 500 de mana gastos adicionalmente até um máximo de 7,5 metros.<br></span><span style='color:gray;font-size:11px'>[controle, utilidade]<br></span><span style='color:gray;font-size:11px'>[bardo, bruxo, clérigo, feiticeiro, guerreiro, ladino, mago, monge, paladino]<br></span><span style='color:gray;font-size:10px'>_LDJ_</span>"
      ],
      "text/plain": [
       "<IPython.core.display.Markdown object>"
      ]
     },
     "metadata": {},
     "output_type": "display_data"
    },
    {
     "name": "stdout",
     "output_type": "stream",
     "text": [
      "\n"
     ]
    },
    {
     "data": {
      "text/markdown": [
       "<span style='color:None;font-size:None'>**Curar Ferimentos _(Cure Wounds)_** lvl 1<br></span><span style='color:None;font-size:13px'>&emsp;**Escola(s):** elemental (_água, luz_)<br>&emsp;**Tempo conjuração:** 1 ação<br>&emsp;**Alcance:** toque<br>&emsp;**Componentes:** VS<br>&emsp;**Mana:** 350<br>&emsp;**Duração:** instantânea<br>&emsp;**Dano**: 1d8 + mod<br></span><span style='color:None;font-size:None'>Uma criatura que você tocar recupera uma quantidade de pontos de vida igual a 1d8 + seu modificador de habilidade de conjuração. Essa magia não produz efeito em mortos-vivos ou constructos.<br>&emsp;**Melhorar Magia** Para cada 500 adicionais de mana gastos, a cura aumenta em 1d8 até um máximo de 5d8.<br></span><span style='color:gray;font-size:11px'>[cura]<br></span><span style='color:gray;font-size:11px'>[bardo, bruxo, clérigo, feiticeiro, mago, monge, paladino]<br></span><span style='color:gray;font-size:10px'>_LDJ_</span>"
      ],
      "text/plain": [
       "<IPython.core.display.Markdown object>"
      ]
     },
     "metadata": {},
     "output_type": "display_data"
    },
    {
     "name": "stdout",
     "output_type": "stream",
     "text": [
      "\n"
     ]
    },
    {
     "data": {
      "text/markdown": [
       "<span style='color:None;font-size:None'>**Detectar o Bem e Mal _(Detect Evil and Good)_** lvl 1<br></span><span style='color:None;font-size:13px'>&emsp;**Escola(s):** receita<br>&emsp;**Tempo conjuração:** 1 ação<br>&emsp;**Alcance:** 9 metros<br>&emsp;**Componentes:** VS<br>&emsp;**Mana:** 300 (_+ 10 por minuto_)<br>&emsp;**Duração:** concentração, até 10 minutos<br></span><span style='color:None;font-size:None'>Pela duração, você sabe se existe uma aberração, celestial, corruptor, elemental, fada ou morto-vivo, a até 9 metros de você, assim como onde a criatura está localizada. Similarmente, você sabe se existe um local ou objeto, a até 9 metros de você, que tenha sido consagrado ou profanado magicamente.<br>&emsp;A magia pode penetrar a maioria das barreiras, mas é bloqueada por 30 centímetros de rocha, 2,5 centímetros de metal comum, uma fina camada de chumbo, ou 90 centímetros de madeira ou terra.<br></span><span style='color:gray;font-size:11px'>[detecção]<br></span><span style='color:gray;font-size:11px'>[bardo, bruxo, clérigo, feiticeiro, guerreiro, ladino, mago, monge, paladino]<br></span><span style='color:gray;font-size:10px'>_LDJ_</span>"
      ],
      "text/plain": [
       "<IPython.core.display.Markdown object>"
      ]
     },
     "metadata": {},
     "output_type": "display_data"
    },
    {
     "name": "stdout",
     "output_type": "stream",
     "text": [
      "\n"
     ]
    },
    {
     "data": {
      "text/markdown": [
       "<span style='color:None;font-size:None'>**Detectar Magia _(Detect Magic)_** lvl 1<br></span><span style='color:None;font-size:13px'>&emsp;**Escola(s):** receita<br>&emsp;**Tempo conjuração:** 1 ação<br>&emsp;**Alcance:** 9 metros<br>&emsp;**Componentes:** VS<br>&emsp;**Mana:** 300 (_+ 10 por minuto_)<br>&emsp;**Duração:** concentração, até 10 minutos<br></span><span style='color:None;font-size:None'>Pela duração, você sente a presença de magia a até 9 metros de você. Se você sentir magia dessa forma, você pode usar sua ação para ver uma aura suave em volta de qualquer criatura ou objeto visível, na área que carrega magia, e você descobre a escolha de magia, se houver uma.<br>&emsp;A magia pode penetrar a maioria das barreiras, mas é bloqueada por 30 centímetros de rocha, 2,5 centímetros de metal comum, uma fina camada de chumbo, ou 90 centímetros de madeira ou terra.<br></span><span style='color:gray;font-size:11px'>[detecção]<br></span><span style='color:gray;font-size:11px'>[bardo, bruxo, clérigo, feiticeiro, guerreiro, ladino, mago, monge, paladino]<br></span><span style='color:gray;font-size:10px'>_LDJ_</span>"
      ],
      "text/plain": [
       "<IPython.core.display.Markdown object>"
      ]
     },
     "metadata": {},
     "output_type": "display_data"
    },
    {
     "name": "stdout",
     "output_type": "stream",
     "text": [
      "\n"
     ]
    },
    {
     "data": {
      "text/markdown": [
       "<span style='color:None;font-size:None'>**Detectar Veneno e Doença _(Detect Poison and Disease)_** lvl 1<br></span><span style='color:None;font-size:13px'>&emsp;**Escola(s):** receita<br>&emsp;**Tempo conjuração:** 1 ação<br>&emsp;**Alcance:** 9 metros<br>&emsp;**Componentes:** VS<br>&emsp;**Mana:** 300 (_+ 10 por minuto_)<br>&emsp;**Duração:** concentração, até 10 minutos<br></span><span style='color:None;font-size:None'>Pela duração, você sente a presença e localização de venenos, criaturas venenosas e doenças a até 9 metros de você. Você também identifica o tipo de veneno, criatura venenosa ou doença em cada caso.<br>&emsp;A magia pode penetrar a maioria das barreiras, mas é bloqueada por 30 centímetros de rocha, 2,5 centímetros de metal comum, uma fina camada de chumbo, ou 90 centímetros de madeira ou terra.<br>&emsp;Ao utilizar a magia, role 1d20 e some seu modificador de conjuração. Se o veneno ou doença foi criado por um mago do veneno, sua rolagem deve dar 10 + o modificador de conjuração do mago para você detectar a presença e deve dar 15 + o modificador de conjuração do mago para você identificar o tipo.<br></span><span style='color:gray;font-size:11px'>[detecção]<br></span><span style='color:gray;font-size:11px'>[bardo, bruxo, clérigo, feiticeiro, guerreiro, ladino, mago, monge, paladino]<br></span><span style='color:gray;font-size:10px'>_LDJ_</span>"
      ],
      "text/plain": [
       "<IPython.core.display.Markdown object>"
      ]
     },
     "metadata": {},
     "output_type": "display_data"
    },
    {
     "name": "stdout",
     "output_type": "stream",
     "text": [
      "\n"
     ]
    },
    {
     "data": {
      "text/markdown": [
       "<span style='color:None;font-size:None'>**Disfarçar-se _(Disguise Self)_** lvl 1<br></span><span style='color:None;font-size:13px'>&emsp;**Escola(s):** ilusionista<br>&emsp;**Tempo conjuração:** 1 ação<br>&emsp;**Alcance:** pessoal<br>&emsp;**Componentes:** VS<br>&emsp;**Mana:** 250 (_+ 20 a cada 10 minutos_)<br>&emsp;**Duração:** 1 hora<br>&emsp;**Attack/Save:** INT Test<br></span><span style='color:None;font-size:None'>Você faz com que você mesmo – incluindo suas roupas, armadura, armas e outros pertences no seu personagem – pareça diferente até a magia acabar ou até você usar sua ação para dispensa-la. Você pode se parecer 30 centímetros mais baixo ou mais alto, e pode parecer magro, gordo ou entre ambos. Você não pode mudar o tipo do seu corpo, portanto, você deve adotar uma forma que tenha a mesma disposição básica de membros. No mais, a extensão da sua ilusão cabe a você.<br>&emsp;As mudanças criadas por essa magia não conseguem se sustentar perante uma inspeção física. Por exemplo, se você usar essa magia para adicionar um chapéu ao seu visual, objetos que passarem pelo chapéu e qualquer um que tocá-lo não sentirá nada ou sentirá sua cabeça e cabelo. Se você usar essa magia para aparentar ser mais magro do que é, a mão de alguém que a erguer para tocar em você, irá esbarrar em você enquanto ainda está, aparentemente, está no ar.<br>&emsp;Para perceber que você está disfarçado, uma criatura pode usar a ação dela para inspecionar sua aparência e deve ser bem sucedida em um teste de Inteligência (Investigação) contra a CD da sua magia<br></span><span style='color:gray;font-size:11px'>[dano]<br></span><span style='color:gray;font-size:11px'>[bardo, bruxo, clérigo, feiticeiro, guerreiro, ladino, mago, monge, paladino]<br></span><span style='color:gray;font-size:10px'>_LDJ_</span>"
      ],
      "text/plain": [
       "<IPython.core.display.Markdown object>"
      ]
     },
     "metadata": {},
     "output_type": "display_data"
    },
    {
     "name": "stdout",
     "output_type": "stream",
     "text": [
      "\n"
     ]
    },
    {
     "data": {
      "text/markdown": [
       "<span style='color:None;font-size:None'>**Sussorros Dissonantes _(Dissonant Whispers)_** lvl 1<br></span><span style='color:None;font-size:13px'>&emsp;**Escola(s):** musical<br>&emsp;**Tempo conjuração:** 1 ação<br>&emsp;**Alcance:** 18 metros<br>&emsp;**Componentes:** V<br>&emsp;**Mana:** 350<br>&emsp;**Duração:** instantânea<br>&emsp;**Dano**: 3d6<br>&emsp;**Attack/Save:** WIS Save<br>&emsp;**Dmg/effect:** psíquico<br></span><span style='color:None;font-size:None'>Você sussurra uma melodia dissonante que apenas uma criatura, à sua escolha, dentro do alcance pode ouvir, causando-lhe uma terrível dor. O alvo deve realizar um teste de resistência de Sabedoria. Se falhar na resistência, ele sofrerá 3d6 de dano psíquico e deve, imediatamente, usar sua reação, se disponível, para se mover para o mais longe possível de você. A criatura não se moverá para um terreno obviamente perigoso, como uma fogueira ou abismo. Se obtiver sucesso na resistência, o alvo sofre metade do dano e não precisa se afastar de você. Uma criatura surda obtém sucesso automaticamente na sua resistência.<br>&emsp;**Melhorar Magia**. Você pode adicionar mais uma criatura, à sua escolha, dentro do alcance para cada 500 de mana até um máximo de 5 criaturas adicionais. Além disso, você pode adicionar mais 1d6 de dano para cada 500 de mana adicionais até um máximo de 5d6.<br></span><span style='color:gray;font-size:11px'>[controle, dano]<br></span><span style='color:gray;font-size:11px'>[bardo, bruxo, clérigo, feiticeiro, guerreiro, ladino, mago, monge, paladino]<br></span><span style='color:gray;font-size:10px'>_LDJ_</span>"
      ],
      "text/plain": [
       "<IPython.core.display.Markdown object>"
      ]
     },
     "metadata": {},
     "output_type": "display_data"
    },
    {
     "name": "stdout",
     "output_type": "stream",
     "text": [
      "\n"
     ]
    },
    {
     "data": {
      "text/markdown": [
       "<span style='color:None;font-size:None'>**Distorcer Valor _(Distort Value)_** lvl 1<br></span><span style='color:None;font-size:13px'>&emsp;**Escola(s):** ilusionista<br>&emsp;**Tempo conjuração:** 1 minuto<br>&emsp;**Alcance:** toque<br>&emsp;**Componentes:** V<br>&emsp;**Mana:** 250<br>&emsp;**Duração:** 8 horas<br>&emsp;**Attack/Save:** INT Save<br></span><span style='color:None;font-size:None'>Você conjura essa magia em um objeto com não mais que 30 cm em qualquer dimensão e ou dobra o valor percebido do objeto ao adicionar um floreio ilusório ou reduz pela metade o valor percebido do objeto com amassados e arranhões ilusórios. Qualquer pessoa examinando o objeto deve rolar um Teste de Investigação contra seu CD de magia.<br>&emsp;**Melhorar Magia.** Você pode gastar mais 500 de mana para adicionar mais 30 cm de dimensão ao item.<br></span><span style='color:gray;font-size:11px'>[social, utilidade]<br></span><span style='color:gray;font-size:11px'>[bardo, bruxo, clérigo, feiticeiro, guerreiro, ladino, mago, monge, paladino]<br></span><span style='color:gray;font-size:10px'>_LDJ_</span>"
      ],
      "text/plain": [
       "<IPython.core.display.Markdown object>"
      ]
     },
     "metadata": {},
     "output_type": "display_data"
    },
    {
     "name": "stdout",
     "output_type": "stream",
     "text": [
      "\n"
     ]
    },
    {
     "data": {
      "text/markdown": [
       "<span style='color:None;font-size:None'>**Tremor de Terra _(Earth Tremor)_** lvl 1<br></span><span style='color:None;font-size:13px'>&emsp;**Escola(s):** elemental (_terra, relâmpago_)<br>&emsp;**Tempo conjuração:** 1 ação<br>&emsp;**Alcance:** 3 metros<br>&emsp;**Componentes:** VS<br>&emsp;**Mana:** 350<br>&emsp;**Duração:** instantânea<br>&emsp;**Dano**: 1d6<br>&emsp;**Attack/Save:** DEX Save<br>&emsp;**Dmg/effect:** concussão<br></span><span style='color:None;font-size:None'>Você causa um tremor no solo dentro do alcance. Toda criatura além de você deve fazer um Teste de Resistência de Destreza. Se falhar, a criatura recebe 1d6 de dano de concussão e cai no chão. Se o terreno for de terra solta ou pedra, ele se torna terreno difícil.<br>&emsp;**Melhorar Magia.** Você pode adicionar mais 500 de mana para adicionar mais 1d6 de dano até um máximo de 5d6 adicionais. Você pode adicionar mais 600 de mana para aumentar o alcance da magia em 1,5m até um máximo de 4,5m adicionais.<br></span><span style='color:gray;font-size:11px'>[controle, dano]<br></span><span style='color:gray;font-size:11px'>[bardo, bruxo, clérigo, feiticeiro, guerreiro, ladino, mago, monge, paladino]<br></span><span style='color:gray;font-size:10px'>_Custom_</span>"
      ],
      "text/plain": [
       "<IPython.core.display.Markdown object>"
      ]
     },
     "metadata": {},
     "output_type": "display_data"
    },
    {
     "name": "stdout",
     "output_type": "stream",
     "text": [
      "\n"
     ]
    },
    {
     "data": {
      "text/markdown": [
       "<span style='color:None;font-size:None'>**Golpe Constritor _(Ensnaring Strike)_** lvl 1<br></span><span style='color:None;font-size:13px'>&emsp;**Escola(s):** elemental (_terra, sombras, relâmpago, metal, veneno_)<br>&emsp;**Tempo conjuração:** 1 ação bônus<br>&emsp;**Alcance:** pessoal<br>&emsp;**Componentes:** V<br>&emsp;**Mana:** 400<br>&emsp;**Duração:** concentração, até 1 minuto<br>&emsp;**Dano**: 1d6<br>&emsp;**Attack/Save:** STR Save<br>&emsp;**Dmg/effect:** perfurante<br></span><span style='color:None;font-size:None'>Da próxima vez que você atingir uma criatura com um ataque com arma, antes do final da magia, um emaranhado maciço de vinhas espinhentas elementais aparecem no local do impacto e o alvo deve ser bem sucedido num teste de resistência de Força ou ficará impedido pelas vinhas mágicas, até o fim da magia. Uma criatura Grande ou maior tem vantagem no seu teste de resistência. Se o alvo for bem sucedido na resistência, as vinhas murcharão.<br>&emsp;Enquanto estiver impedido pela magia, um alvo sofre 1d6 de dano perfurante no início de cada um dos turnos dele. Uma criatura impedida pelas vinhas ou uma que possa tocar a criatura, pode usar sua ação para realizar um teste de Força contra a CD da magia. Num sucesso, o alvo é libertado.<br>&emsp;**Melhorar Magia.** Você pode gastar 500 de mana extras para adicionar 1d6 no dano até um máximo de 5d6 adicionais.<br></span><span style='color:gray;font-size:11px'>[controle, dano]<br></span><span style='color:gray;font-size:11px'>[ladino, monge, paladino]<br></span><span style='color:gray;font-size:10px'>_LDJ_</span>"
      ],
      "text/plain": [
       "<IPython.core.display.Markdown object>"
      ]
     },
     "metadata": {},
     "output_type": "display_data"
    },
    {
     "name": "stdout",
     "output_type": "stream",
     "text": [
      "\n"
     ]
    },
    {
     "data": {
      "text/markdown": [
       "<span style='color:None;font-size:None'>**Constrição _(Entangle)_** lvl 1<br></span><span style='color:None;font-size:13px'>&emsp;**Escola(s):** elemental (_terra, sombras, relâmpago, metal, veneno_)<br>&emsp;**Tempo conjuração:** 1 ação<br>&emsp;**Alcance:** 27 metros<br>&emsp;**Componentes:** VS<br>&emsp;**Mana:** 400<br>&emsp;**Duração:** concentração, até 1 minuto<br>&emsp;**Attack/Save:** STR Save<br></span><span style='color:None;font-size:None'>Ervas e vinhas poderosas brotam do solo num quadrado de 6 metros a partir de um ponto dentro do alcance. Pela duração, essas plantas transformam o solo na área em terreno difícil.<br>&emsp;Uma criatura na área quando você conjurar a magia deve ser bem sucedida num teste de resistência de Força ou ficará impedida pelo emaranhado de plantas, até a magia acabar. Uma criatura impedida pelas plantas pode usar sua ação para realizar um teste de Força, contra a CD da magia. Se for bem sucedido, irá se libertar.<br>&emsp;Quando a magia termina, as plantas conjuradas murcharão.<br></span><span style='color:gray;font-size:11px'>[controle]<br></span><span style='color:gray;font-size:11px'>[bardo, bruxo, clérigo, feiticeiro, guerreiro, ladino, mago, monge, paladino]<br></span><span style='color:gray;font-size:10px'>_LDJ_</span>"
      ],
      "text/plain": [
       "<IPython.core.display.Markdown object>"
      ]
     },
     "metadata": {},
     "output_type": "display_data"
    },
    {
     "name": "stdout",
     "output_type": "stream",
     "text": [
      "\n"
     ]
    },
    {
     "data": {
      "text/markdown": [
       "<span style='color:None;font-size:None'>**Pés Leves (Recuo Acelerado) _(Expeditious Retreat)_** lvl 1<br></span><span style='color:None;font-size:13px'>&emsp;**Escola(s):** elemental (_ar, luz, relâmpago_)<br>&emsp;**Tempo conjuração:** 1 ação bônus<br>&emsp;**Alcance:** pessoal<br>&emsp;**Componentes:** VS<br>&emsp;**Mana:** 250 (_+ 10 por minuto_)<br>&emsp;**Duração:** concentração, até 10 minutos<br></span><span style='color:None;font-size:None'>Essa magia permite que você se mova a um ritmo incrível. Quando você a conjura, a partir de então, você pode, com uma ação bônus em cada um de seus turnos até a magia terminar, realizar a ação de Disparada.<br></span><span style='color:gray;font-size:11px'>[buff]<br></span><span style='color:gray;font-size:11px'>[clérigo, guerreiro, ladino, monge, paladino]<br></span><span style='color:gray;font-size:10px'>_LDJ_</span>"
      ],
      "text/plain": [
       "<IPython.core.display.Markdown object>"
      ]
     },
     "metadata": {},
     "output_type": "display_data"
    },
    {
     "name": "stdout",
     "output_type": "stream",
     "text": [
      "\n"
     ]
    },
    {
     "data": {
      "text/markdown": [
       "<span style='color:None;font-size:None'>**Fogo das Fadas _(Faerie Fire)_** lvl 1<br></span><span style='color:None;font-size:13px'>&emsp;**Escola(s):** elemental (_luz_)<br>&emsp;**Tempo conjuração:** 1 ação<br>&emsp;**Alcance:** 18 metros<br>&emsp;**Componentes:** V<br>&emsp;**Mana:** 300 (_+ 10 por turno_)<br>&emsp;**Duração:** concentração, até 1 minuto<br>&emsp;**Attack/Save:** DEX Save<br></span><span style='color:None;font-size:None'>Cada objeto num cubo de 6 metros dentro do alcance fica delineado com luz azul, verde ou violeta (à sua escolha).<br>&emsp;Qualquer criatura na área, quando a magia é conjurada, também fica delineada com luz, se falhar num teste de resistência de Destreza. Pela duração, os objetos e criaturas afetadas emitem penumbra num raio de 3 metros.<br>&emsp;Qualquer jogada de ataque contra uma criatura afetada ou objeto tem vantagem, se o atacante puder ver o alvo e, a criatura afetada ou objeto não recebe benefício por estar invisível<br></span><span style='color:gray;font-size:11px'>[debuff]<br></span><span style='color:gray;font-size:11px'>[bardo, bruxo, clérigo, feiticeiro, guerreiro, ladino, mago, monge, paladino]<br></span><span style='color:gray;font-size:10px'>_LDJ_</span>"
      ],
      "text/plain": [
       "<IPython.core.display.Markdown object>"
      ]
     },
     "metadata": {},
     "output_type": "display_data"
    },
    {
     "name": "stdout",
     "output_type": "stream",
     "text": [
      "\n"
     ]
    },
    {
     "data": {
      "text/markdown": [
       "<span style='color:None;font-size:None'>**Falsa Vida _(False Life)_** lvl 1<br></span><span style='color:None;font-size:13px'>&emsp;**Escola(s):** necromancia, elemental (_sombras_)<br>&emsp;**Tempo conjuração:** 1 ação<br>&emsp;**Alcance:** pessoal<br>&emsp;**Componentes:** VSM _(uma pequena quantidade de álcool)_<br>&emsp;**Mana:** 400<br>&emsp;**Duração:** 1 hora<br></span><span style='color:None;font-size:None'>Você envolve-se com uma aura sombria e ganha 1d4 + 4 pontos de vida temporários pela duração da magia.<br>&emsp;**Melhorar Magia.** Você pode gastar 500 extras para adicionar 5 pontos de vida até um máximo de 20 pontos de vida adicionais.<br></span><span style='color:gray;font-size:11px'>[buff]<br></span><span style='color:gray;font-size:11px'>[bardo, bruxo, clérigo, feiticeiro, guerreiro, ladino, mago, monge, paladino]<br></span><span style='color:gray;font-size:10px'>_LDJ_</span>"
      ],
      "text/plain": [
       "<IPython.core.display.Markdown object>"
      ]
     },
     "metadata": {},
     "output_type": "display_data"
    },
    {
     "name": "stdout",
     "output_type": "stream",
     "text": [
      "\n"
     ]
    },
    {
     "data": {
      "text/markdown": [
       "<span style='color:None;font-size:None'>**Queda Suave _(Feather Fall)_** lvl 1<br></span><span style='color:None;font-size:13px'>&emsp;**Escola(s):** elemental (_ar, luz_)<br>&emsp;**Tempo conjuração:** 1 reação<br>&emsp;**Alcance:** 18 metros<br>&emsp;**Componentes:** VM _(uma pequena pena ou penugem similar)_<br>&emsp;**Mana:** 200<br>&emsp;**Duração:** 1 minuto<br></span><span style='color:None;font-size:None'>Escolha até cinco criaturas caindo, dentro do alcance. A taxa de descendência de uma criatura caindo é reduzida para 18 metros por rodada, até o fim da magia. Se a criatura aterrissar antes da magia acabar, ela não sofre nenhum dano de queda, pode aterrissar em pé e a magia termina para essa criatura.<br></span><span style='color:gray;font-size:11px'>[exploração, utilidade]<br></span><span style='color:gray;font-size:11px'>[bardo, bruxo, clérigo, feiticeiro, guerreiro, ladino, mago, monge, paladino]<br></span><span style='color:gray;font-size:10px'>_LDJ_</span>"
      ],
      "text/plain": [
       "<IPython.core.display.Markdown object>"
      ]
     },
     "metadata": {},
     "output_type": "display_data"
    },
    {
     "name": "stdout",
     "output_type": "stream",
     "text": [
      "\n"
     ]
    },
    {
     "data": {
      "text/markdown": [
       "<span style='color:None;font-size:None'>**Convocar Familiar _(Find Familiar)_** lvl 1<br></span><span style='color:None;font-size:13px'>&emsp;**Escola(s):** invocação<br>&emsp;**Tempo conjuração:** 1 hora<br>&emsp;**Alcance:** 3 metros<br>&emsp;**Componentes:** VSM _(carvão, incenso e ervas no valor de 10 po, que devem ser consumidos pelo fogo em um braseiro de bronze)_<br>&emsp;**Mana:** 700<br>&emsp;**Duração:** instantânea<br></span><span style='color:None;font-size:None'>Você adquire os serviços de uma familiar, um espírito que toma a forma de um animal, à sua escolha: aranha, caranguejo, cavalo marinho, coruja, corvo, doninha, gato, falcão, lagarto, morcego, peixe (arenque), polvo, rato, rã (sapo) ou serpente venenosa. Aparecendo em um espaço desocupado dentro do alcance, o familiar tem as mesmas estatísticas da forma escolhida, no entanto, ele é um celestial, corruptor ou fada (à sua escolha) ao invés de uma besta.<br>&emsp; Seu familiar até independentemente de você, mas ele sempre obedece aos seus comandos. Em combate, ele rola sua a própria iniciativa e age no seu próprio turno. Um familiar não pode atacar, mas ele pode realizar outras ações, como de costume.<br>&emsp; Quando um familiar cai a 0 pontos de vida, ele desaparece, não deixando qualquer corpo físico para trás.  Ele reaparece depois de você conjurar essa magia novamente.<br>&emsp; Enquanto seu familiar estiver a até 30 metros de você, você pode se comunicar telepaticamente com ele. Além disso, com uma ação e 50 de mana, você pode ver através dos olhos do familiar e ouvir através dos ouvidos dele, até o início do seu próximo turno, adquirindo os benefícios de qualquer sentido especial que o familiar possua. Durante esse período, você estará cego e surdo em relação aos seus próprios sentidos.<br>&emsp; Com uma ação, você pode, temporariamente, dispensar seu familiar. Ele desaparece dentro seu Plano Astral, onde ele aguarda sua convocação. Alternativamente, você pode dispensa-lo para sempre.  Com uma ação e 50 de mana, enquanto ele estiver temporariamente dispensado, você pode fazê-lo reaparecer em qualquer espaço desocupado a até 9 metros de você.<br>&emsp; Você não pode ter mais de um familiar por vez. Se você conjurar essa magia enquanto já tiver um familiar, ao invés disso, você faz seu familiar existente adotar uma nova forma. Escolha uma das formas da lista acima. Seu familiar se transforma na criatura escolhida.<br>&emsp; Finalmente, quando você conjura uma magia com alcance de toque, seu familiar pode transmitir a magia, como se ele tivesse conjurado ela. Seu familiar precisa estar a até 30 metros de você e deve usar a reação dele para transmitir a magia quando você a conjurar. Se a magia necessitar de uma jogada de ataque, você usa seu modificador de ataque para essa jogada.<br></span><span style='color:gray;font-size:11px'>[utilidade]<br></span><span style='color:gray;font-size:11px'>[bruxo, feiticeiro, mago]<br></span><span style='color:gray;font-size:10px'>_LDJ_</span>"
      ],
      "text/plain": [
       "<IPython.core.display.Markdown object>"
      ]
     },
     "metadata": {},
     "output_type": "display_data"
    },
    {
     "name": "stdout",
     "output_type": "stream",
     "text": [
      "\n"
     ]
    },
    {
     "data": {
      "text/markdown": [
       "<span style='color:None;font-size:None'>**Disco Flutuante _(Floating Disk)_** lvl 1<br></span><span style='color:None;font-size:13px'>&emsp;**Escola(s):** elemental (_água, terra, luz, sombras, metal_)<br>&emsp;**Tempo conjuração:** 1 ação<br>&emsp;**Alcance:** 9 metros<br>&emsp;**Componentes:** VSM _(uma gota de mercúrio)_<br>&emsp;**Mana:** 200 (_+ 5 a cada 5 minutos_)<br>&emsp;**Duração:** 1 hora<br></span><span style='color:None;font-size:None'>Essa magia cria um plano horizontal, circular elemental de 90 cm de diâmetro por 2,5 cm de espessura, que flutua 90 centímetros acima do chão em um espaço desocupado, à sua escolha, que você possa ver dentro do alcance. O disco permanece pela duração e pode suportar até 250 quilos. Se mais peso for colocado nele, a magia termina, e tudo em cima do disco cai no chão.<br>&emsp;O disco é imóvel enquanto você estiver a até 6 metros dele. Se você se afastar a mais de 6 metros dele, o disco seguirá você, mantendo-se a 6 metros de você. Ele pode atravessar terreno irregular, subir ou descer escadas, encostas e similares, mas ele não pode atravessar mudanças de elevação de 3 metros ou mais. Por exemplo, o disco não pode atravessar um fosso de 3 metros de profundidade nem poderia sair de tal fosso se tivesse sido criado no fundo dele.<br>&emsp;Se você se afastar mais de 30 metros do disco (tipicamente por ele não poder rodear um obstáculo para seguir você), a magia acaba.<br></span><span style='color:gray;font-size:11px'>[exploração, utilidade]<br></span><span style='color:gray;font-size:11px'>[bardo, bruxo, clérigo, feiticeiro, guerreiro, ladino, mago, monge, paladino]<br></span><span style='color:gray;font-size:10px'>_LDJ_</span>"
      ],
      "text/plain": [
       "<IPython.core.display.Markdown object>"
      ]
     },
     "metadata": {},
     "output_type": "display_data"
    },
    {
     "name": "stdout",
     "output_type": "stream",
     "text": [
      "\n"
     ]
    },
    {
     "data": {
      "text/markdown": [
       "<span style='color:None;font-size:None'>**Névoa Obscurecente _(Fog Cloud)_** lvl 1<br></span><span style='color:None;font-size:13px'>&emsp;**Escola(s):** elemental (_água, sombras, metal, veneno_)<br>&emsp;**Tempo conjuração:** 1 ação<br>&emsp;**Alcance:** 36 metros<br>&emsp;**Componentes:** VS<br>&emsp;**Mana:** 300 (_+ 10 a cada 5 minutos_)<br>&emsp;**Duração:** concentração, até 1 hora<br>&emsp;**Dano**: 1d6<br>&emsp;**Dmg/effect:** elemental<br></span><span style='color:None;font-size:None'>Você cria uma esfera de 6 metros de raio de névoa, centrada num ponto, dentro do alcance. A esfera se espalha, dobrando esquinas, e a área dela é de escuridão densa. Ela permanece pela duração ou até um vento moderado ou mais rápido (pelo menos 15 quilômetros por hora) dispersa-la. Caso o elemento da névoa seja Sombras, Metal ou Veneno, a magia também causa 1d4 de dano em todas as criaturas que começam seu turno dentro do efeito da magia, exceto o conjurador.<br>&emsp;**Melhorar Magia.** Para cada 500 de mana adicionais gastos, você pode aumentar em 6 metros o raio da nevoa até um adicional de 30 metros. Se seu elemento pode dar dano com essa magia, você pode gastar 500 adicionais para adicionar 1d4 ao dano até um máximo de 5d4 adicionais.<br></span><span style='color:gray;font-size:11px'>[controle, dano]<br></span><span style='color:gray;font-size:11px'>[bardo, bruxo, clérigo, feiticeiro, guerreiro, ladino, mago, monge, paladino]<br></span><span style='color:gray;font-size:10px'>_LDJ_</span>"
      ],
      "text/plain": [
       "<IPython.core.display.Markdown object>"
      ]
     },
     "metadata": {},
     "output_type": "display_data"
    },
    {
     "name": "stdout",
     "output_type": "stream",
     "text": [
      "\n"
     ]
    },
    {
     "data": {
      "text/markdown": [
       "<span style='color:None;font-size:None'>**Dedos Congelantes _(Frost Fingers)_** lvl 1<br></span><span style='color:None;font-size:13px'>&emsp;**Escola(s):** elemental (_água_)<br>&emsp;**Tempo conjuração:** 1 ação<br>&emsp;**Alcance:** pessoal<br>&emsp;**Componentes:** VS<br>&emsp;**Mana:** 450<br>&emsp;**Duração:** instantânea<br>&emsp;**Dano**: 2d8<br>&emsp;**Attack/Save:** CON Save<br>&emsp;**Dmg/effect:** água<br></span><span style='color:None;font-size:None'>Um vento congelante assopra de seus dedos em um cone de 4,5 metros. Toda criatura nessa área deve fazer um Teste de Resistência de Constituição, levando 2d8 de dano congelante em uma falha ou metade em um sucesso.<br>&emsp;O vento congela líquidos não-mágicos na área que não estão sendo vestidos ou carregados.<br></span><span style='color:gray;font-size:11px'>[dano, utilidade]<br></span><span style='color:gray;font-size:11px'>[bardo, bruxo, clérigo, feiticeiro, mago, paladino]<br></span><span style='color:gray;font-size:10px'>_Etc._</span>"
      ],
      "text/plain": [
       "<IPython.core.display.Markdown object>"
      ]
     },
     "metadata": {},
     "output_type": "display_data"
    },
    {
     "name": "stdout",
     "output_type": "stream",
     "text": [
      "\n"
     ]
    },
    {
     "data": {
      "text/markdown": [
       "<span style='color:None;font-size:None'>**Área Escorregadia _(Grease)_** lvl 1<br></span><span style='color:None;font-size:13px'>&emsp;**Escola(s):** elemental (_terra_)<br>&emsp;**Tempo conjuração:** 1 ação<br>&emsp;**Alcance:** 18 metros<br>&emsp;**Componentes:** VSM _(um pouco de pele de porco ou manteiga)_<br>&emsp;**Mana:** 350<br>&emsp;**Duração:** 1 minuto<br>&emsp;**Attack/Save:** DEX Save<br>&emsp;**Dmg/effect:** caído<br></span><span style='color:None;font-size:None'>Se o terreno for de pedra, você transforma essa pedra em uma pedra extremamente polida em um quadrado de 3 metros centrado em um ponto, dentro do alcance, tornando essa área terreno difícil pela duração.<br>&emsp;Quando a pedra fica polida, cada criatura de pé na área deve ser bem sucedida num teste de resistência de Destreza ou cairá no chão. Uma criatura que entre na área ou termine seu turno nela também deve passar um teste de resistência de Destreza ou cairá no chão.<br></span><span style='color:gray;font-size:11px'>[controle]<br></span><span style='color:gray;font-size:11px'>[bardo, bruxo, clérigo, feiticeiro, guerreiro, ladino, mago, monge, paladino]<br></span><span style='color:gray;font-size:10px'>_LDJ_</span>"
      ],
      "text/plain": [
       "<IPython.core.display.Markdown object>"
      ]
     },
     "metadata": {},
     "output_type": "display_data"
    },
    {
     "name": "stdout",
     "output_type": "stream",
     "text": [
      "\n"
     ]
    },
    {
     "data": {
      "text/markdown": [
       "<span style='color:None;font-size:None'>**Raio Guiador _(Guiding Boat)_** lvl 1<br></span><span style='color:None;font-size:13px'>&emsp;**Escola(s):** elemental (_luz, sombras, relâmpago_)<br>&emsp;**Tempo conjuração:** 1 ação<br>&emsp;**Alcance:** 36 metros<br>&emsp;**Componentes:** VS<br>&emsp;**Mana:** 400<br>&emsp;**Duração:** 1 rodada<br>&emsp;**Dano**: 4d6<br>&emsp;**Dmg/effect:** elemental<br></span><span style='color:None;font-size:None'>Um lampejo de luz se lança em direção de uma criatura, à sua escolha, dentro do alcance. Realize um ataque à distância com magia contra o alvo. Se atingir, o alvo sofre 4d6 de dano radiante e, a próxima jogada de ataque contra esse alvo, antes do final do seu próximo turno, terá vantagem, graças a penumbra mística cintilando no alvo, até então.<br>&emsp;**Melhorar Magia.** Para cada 500 de mana adicionais gastos, você pode adicionar 2d6 ao dano até um máximo de 6d6 adicionais. Você pode gastar mais mana para reforçar a penumbra mística e adicionais mais uma jogada de ataque a cada 300 de mana adicionais gastos, até um máximo de 3000 de mana.<br></span><span style='color:gray;font-size:11px'>[buff, dano]<br></span><span style='color:gray;font-size:11px'>[bardo, bruxo, clérigo, feiticeiro, guerreiro, ladino, mago, monge, paladino]<br></span><span style='color:gray;font-size:10px'>_LDJ_</span>"
      ],
      "text/plain": [
       "<IPython.core.display.Markdown object>"
      ]
     },
     "metadata": {},
     "output_type": "display_data"
    },
    {
     "name": "stdout",
     "output_type": "stream",
     "text": [
      "\n"
     ]
    },
    {
     "data": {
      "text/markdown": [
       "<span style='color:None;font-size:None'>**Palavra Curativa _(Healing Word)_** lvl 1<br></span><span style='color:None;font-size:13px'>&emsp;**Escola(s):** elemental (_água, luz_)<br>&emsp;**Tempo conjuração:** 1 ação bônus<br>&emsp;**Alcance:** 18 metros<br>&emsp;**Componentes:** V<br>&emsp;**Mana:** 250<br>&emsp;**Duração:** instantânea<br>&emsp;**Dano**: 1d4 + mod<br>&emsp;**Dmg/effect:** cura<br></span><span style='color:None;font-size:None'>Uma criatura, à sua escolha, que você possa ver dentro do alcance recupera uma quantidade de pontos de vida igual a 1d4 + seu modificador de habilidade de conjuração. Essa magia não tem efeito em mortos-vivos ou constructos.<br>&emsp;**Melhorar Magia**. Para cada 500 de mana adicionais, você pode adicionar 1d4 na cura total. Para cada 500 de mana adicional, você pode escolher uma criatura a mais para ser curada. O valor rolado é o total de cura, você determina como essa cura é distribuída entre as criaturas curadas.<br></span><span style='color:gray;font-size:11px'>[cura]<br></span><span style='color:gray;font-size:11px'>[bardo, bruxo, clérigo, feiticeiro, guerreiro, ladino, mago, monge, paladino]<br></span><span style='color:gray;font-size:10px'>_LDJ_</span>"
      ],
      "text/plain": [
       "<IPython.core.display.Markdown object>"
      ]
     },
     "metadata": {},
     "output_type": "display_data"
    },
    {
     "name": "stdout",
     "output_type": "stream",
     "text": [
      "\n"
     ]
    },
    {
     "data": {
      "text/markdown": [
       "<span style='color:None;font-size:None'>**Repreensão Infernal _(Hellish Rebuke)_** lvl 1<br></span><span style='color:None;font-size:13px'>&emsp;**Escola(s):** elemental (_fogo, sombras, relâmpago, veneno_)<br>&emsp;**Tempo conjuração:** 1 reação<br>&emsp;**Alcance:** 18 metros<br>&emsp;**Componentes:** VS<br>&emsp;**Mana:** 350<br>&emsp;**Duração:** instantânea<br>&emsp;**Dano**: 2d10<br>&emsp;**Attack/Save:** DEX Save<br>&emsp;**Dmg/effect:** elemental<br></span><span style='color:None;font-size:None'>Você aponta seu dedo e a criatura que causou dano a você é, momentaneamente, envolta por chamas infernais. A criatura deve realizar um teste de resistência de Destreza. Ela sofre 2d10 de dano elemental se falhar na resistência ou metade desse dano se obtiver sucesso.<br>&emsp;**Melhorar Magia**. Para cada 600 adicionais de mana gastos, você pode adicionar 1d10 no dano.<br></span><span style='color:gray;font-size:11px'>[dano]<br></span><span style='color:gray;font-size:11px'>[bardo, bruxo, clérigo, feiticeiro, mago, monge, paladino]<br></span><span style='color:gray;font-size:10px'>_LDJ_</span>"
      ],
      "text/plain": [
       "<IPython.core.display.Markdown object>"
      ]
     },
     "metadata": {},
     "output_type": "display_data"
    },
    {
     "name": "stdout",
     "output_type": "stream",
     "text": [
      "\n"
     ]
    },
    {
     "data": {
      "text/markdown": [
       "<span style='color:None;font-size:None'>**Heroísmo _(Heroism)_** lvl 1<br></span><span style='color:None;font-size:13px'>&emsp;**Escola(s):** musical<br>&emsp;**Tempo conjuração:** 1 ação<br>&emsp;**Alcance:** toque<br>&emsp;**Componentes:** VS<br>&emsp;**Mana:** 200 (_+ 20 por turno_)<br>&emsp;**Duração:** concentração, até 1 minuto<br></span><span style='color:None;font-size:None'>Uma criatura voluntária que você tocar é imbuída com bravura. Até a magia acabar, a criatura é imune a ser amedrontada e ganha pontos de vida temporários igual ao seu modificador de habilidade de conjuração, no início de cada turno dela. Quando a magia acabar, o alvo perde qualquer ponto de vida temporário restante dessa magia.<br>&emsp;**Melhorar Magia**. Para cada 350 de mana adicionais (e gastando 10 a mais por turno), você pode adicionar mais uma criatura ao efeito da magia.<br></span><span style='color:gray;font-size:11px'>[buff]<br></span><span style='color:gray;font-size:11px'>[bardo, bruxo, clérigo, feiticeiro, guerreiro, ladino, mago, monge, paladino]<br></span><span style='color:gray;font-size:10px'>_LDJ_</span>"
      ],
      "text/plain": [
       "<IPython.core.display.Markdown object>"
      ]
     },
     "metadata": {},
     "output_type": "display_data"
    },
    {
     "name": "stdout",
     "output_type": "stream",
     "text": [
      "\n"
     ]
    },
    {
     "data": {
      "text/markdown": [
       "<span style='color:None;font-size:None'>**Bruxaria _(Hex)_** lvl 1<br></span><span style='color:None;font-size:13px'>&emsp;**Escola(s):** necromancia, elemental (_sombras, veneno_)<br>&emsp;**Tempo conjuração:** 1 ação bônus<br>&emsp;**Alcance:** 18 metros<br>&emsp;**Componentes:** VSM _(o olho petrificado de um tritão)_<br>&emsp;**Mana:** 300 (_+ 50 por criatura amaldiçoada_)<br>&emsp;**Duração:** concentração, até 1 hora<br>&emsp;**Dano**: 1d6<br>&emsp;**Dmg/effect:** necrótico<br></span><span style='color:None;font-size:None'>Você coloca uma maldição em uma criatura que você possa ver, dentro do alcance. Até a magia acabar, você causa 1d6 de dano necrótico extra no alvo sempre que atingi-lo com um ataque. Além disso, escolha uma habilidade quando você conjurar a magia. O alvo tem desvantagem em testes de habilidade feitos com a habilidade escolhida.  Se o alvo cair a 0 pontos de vida antes da magia acabar, você pode usar uma ação bônus, no seu turno subsequente para amaldiçoar outra criatura.<br>&emsp;Uma magia _remover maldição_ conjurada no alvo acaba com a magia prematuramente.<br>&emsp;**Melhorar Magia**. A cada 1000 de mana adicionais, você pode adicionar 1d6 ao dano até um máximo de 5d6. A cada 3000 de mana adicionais, você pode adicionar uma desvantagem a mais, até um máximo de 2 desvantagens extras. Para cada dado de dano extra, você gasta 50 a mais ao trocar de alvo. Para cada desvantagem extra, você gasta 200 a mais para trocar de alvo.<br></span><span style='color:gray;font-size:11px'>[dano, debuff]<br></span><span style='color:gray;font-size:11px'>[bardo, bruxo, clérigo, feiticeiro, guerreiro, ladino, mago, monge, paladino]<br></span><span style='color:gray;font-size:10px'>_LDJ_</span>"
      ],
      "text/plain": [
       "<IPython.core.display.Markdown object>"
      ]
     },
     "metadata": {},
     "output_type": "display_data"
    },
    {
     "name": "stdout",
     "output_type": "stream",
     "text": [
      "\n"
     ]
    },
    {
     "data": {
      "text/markdown": [
       "<span style='color:None;font-size:None'>**Riso Histérico de Tasha _(Hideous Laughter)_** lvl 1<br></span><span style='color:None;font-size:13px'>&emsp;**Escola(s):** musical<br>&emsp;**Tempo conjuração:** 1 ação<br>&emsp;**Alcance:** 9 metros<br>&emsp;**Componentes:** VSM _(pequenas tortas e uma pena que é balançada no ar)_<br>&emsp;**Mana:** 300 (_+ 10 por turno_)<br>&emsp;**Duração:** concentração, até 1 minuto<br>&emsp;**Attack/Save:** WIS Save<br>&emsp;**Dmg/effect:** incapacitado<br></span><span style='color:None;font-size:None'>Uma criatura, à sua escolha, que você possa ver, dentro do alcance, acha tudo hilariantemente engraçado e cai na gargalhada, se essa magia afeta-la. O alvo deve ser bem sucedido em um teste de resistência de Sabedoria ou cairá no chão, ficando incapacitado e incapaz de se levantar pela duração. Uma criatura com valor de Inteligência 4 ou inferior não é afetada.<br>&emsp;Ao final de cada um dos turnos dela e toda vez que sofrer dano o alvo pode realizar outro teste de resistência de Sabedoria. O alvo terá vantagem no teste de resistência se ele for garantido por ele ter sofrido dano. Se obtiver sucesso, a magia acaba.<br></span><span style='color:gray;font-size:11px'>[controle, debuff]<br></span><span style='color:gray;font-size:11px'>[bardo, bruxo, clérigo, feiticeiro, ladino, mago, monge, paladino]<br></span><span style='color:gray;font-size:10px'>_LDJ_</span>"
      ],
      "text/plain": [
       "<IPython.core.display.Markdown object>"
      ]
     },
     "metadata": {},
     "output_type": "display_data"
    },
    {
     "name": "stdout",
     "output_type": "stream",
     "text": [
      "\n"
     ]
    },
    {
     "data": {
      "text/markdown": [
       "<span style='color:None;font-size:None'>**Faca de Gelo _(Ice Knife (adaptação))_** lvl 1<br></span><span style='color:None;font-size:13px'>&emsp;**Escola(s):** elemental (_água_)<br>&emsp;**Tempo conjuração:** 1 ação<br>&emsp;**Alcance:** pessoal<br>&emsp;**Componentes:** VSM _(uma arma corpo-a-corpo)_<br>&emsp;**Mana:** 400<br>&emsp;**Duração:** instantânea<br>&emsp;**Dano**: 1d6<br>&emsp;**Attack/Save:** corpo-a-corpo<br>&emsp;**Dmg/effect:** gelo<br></span><span style='color:None;font-size:None'>Você congela a lâmina de uma arma que estiver empunhando e faz um ataque contra uma criatura que esteja no alcance da arma. Em um acerto, o ataque causa 1d10 a mais de dano congelante e a criatura deve fazer um teste de resistência de Força ou terá seu movimento reduzido pela metade no seu próximo turno.<br>&emsp;**Melhorar Magia**. A cada 550 de mana adicionais gastos, você adiciona 1d10 ao dano.<br></span><span style='color:gray;font-size:11px'>[corpo-a-corpo, dano]<br></span><span style='color:gray;font-size:11px'>[bardo, bruxo, clérigo, feiticeiro, guerreiro, ladino, mago, monge, paladino]<br></span><span style='color:gray;font-size:10px'>_LDJ_</span>"
      ],
      "text/plain": [
       "<IPython.core.display.Markdown object>"
      ]
     },
     "metadata": {},
     "output_type": "display_data"
    },
    {
     "name": "stdout",
     "output_type": "stream",
     "text": [
      "\n"
     ]
    },
    {
     "data": {
      "text/markdown": [
       "<span style='color:None;font-size:None'>**Identificação _(Identify)_** lvl 1 - ritual<br></span><span style='color:None;font-size:13px'>&emsp;**Escola(s):** espiritual<br>&emsp;**Tempo conjuração:** 1 minuto<br>&emsp;**Alcance:** toque<br>&emsp;**Componentes:** VSM _(uma perola valendo, no mínimo, 100 po e uma pena de coruja)_<br>&emsp;**Mana:** 500<br>&emsp;**Duração:** instantânea<br></span><span style='color:None;font-size:None'>Você escolhe um objeto que você deve tocar durante toda a conjuração da magia. Se ele for um item mágico ou algum outro objeto imbuído por magia, você descobre suas propriedades e como usá-lo, se exige sintonia para ser usado e quantas cargas ele tem, se aplicável. Você descobre se quaisquer magias estão afetando o item e quais eles são. Se o item foi criado por magia, você descobre que magia o criou.  <br>&emsp;Se você, ao invés, tocar uma criatura durante toda a conjuração, você descobre quais magias, se houver alguma, estão afetando-a atualmente.<br></span><span style='color:gray;font-size:11px'>[detecção]<br></span><span style='color:gray;font-size:11px'>[bardo, bruxo, clérigo, feiticeiro, guerreiro, ladino, mago, monge, paladino]<br></span><span style='color:gray;font-size:10px'>_LDJ_</span>"
      ],
      "text/plain": [
       "<IPython.core.display.Markdown object>"
      ]
     },
     "metadata": {},
     "output_type": "display_data"
    },
    {
     "name": "stdout",
     "output_type": "stream",
     "text": [
      "\n"
     ]
    },
    {
     "data": {
      "text/markdown": [
       "<span style='color:None;font-size:None'>**Escrita Ilusória _(Illusory Script)_** lvl 1 - ritual<br></span><span style='color:None;font-size:13px'>&emsp;**Escola(s):** ilusionista<br>&emsp;**Tempo conjuração:** 1 minuto<br>&emsp;**Alcance:** toque<br>&emsp;**Componentes:** SM _(uma tina à base de chumbo valendo, no mínimo, 10 po, que é consumida pela magia)_<br>&emsp;**Mana:** 300<br>&emsp;**Duração:** 10 dias<br></span><span style='color:None;font-size:None'>Você escreve em um pergaminho, papel ou qualquer outro material adequado e tinge ele com uma poderosa ilusão que permanece pela duração.<br>&emsp;Para você e para qualquer criatura que você designar quando você conjura essa magia, a escrita parece normal, escrita com a sua caligrafia e transmite qualquer que seja a mensagem que você desejava quando escreveu o texto. Para todos os outros, a escrita aparece como se tivesse sido escrita com uma caligrafia desconhecida ou mágica que é inteligível. Alternativamente, você pode fazer a escrita parecer uma mensagem totalmente diferente, escrita com uma caligrafia e idioma diferentes, apesar de o idioma precisar ser um que você conheça.<br>&emsp;No caso da magia ser dissipada, tanto a escrita original quanto a ilusória desaparecem.<br>&emsp;Uma criatura com visão verdadeira pode ler a mensagem escondida.<br></span><span style='color:gray;font-size:11px'>[comunicação, social, utilidade]<br></span><span style='color:gray;font-size:11px'>[bardo, bruxo, clérigo, feiticeiro, guerreiro, ladino, mago, monge, paladino]<br></span><span style='color:gray;font-size:10px'>_LDJ_</span>"
      ],
      "text/plain": [
       "<IPython.core.display.Markdown object>"
      ]
     },
     "metadata": {},
     "output_type": "display_data"
    },
    {
     "name": "stdout",
     "output_type": "stream",
     "text": [
      "\n"
     ]
    },
    {
     "data": {
      "text/markdown": [
       "<span style='color:None;font-size:None'>**Infligir Ferimentos _(Inflict Wounds)_** lvl 1<br></span><span style='color:None;font-size:13px'>&emsp;**Escola(s):** necromancia<br>&emsp;**Tempo conjuração:** 1 ação<br>&emsp;**Alcance:** toque<br>&emsp;**Componentes:** VS<br>&emsp;**Mana:** 500<br>&emsp;**Duração:** instantânea<br>&emsp;**Dano**: 3d10<br>&emsp;**Attack/Save:** corpo-a-corpo<br>&emsp;**Dmg/effect:** necrótico<br></span><span style='color:None;font-size:None'>Faça um ataque corpo-a-corpo com magia contra uma criatura dentro do alcance. Se atingir, o alvo sofre 3d10 de dano necrótico.<br>&emsp;**Melhorar Magia**. Para cada 500 de mana adicionais, adicione 1d10 ao dano até um máximo de 5d10. Você pode gastar 5000 de mana adicional e adicionar 1d4 total para acertar.<br></span><span style='color:gray;font-size:11px'>[dano]<br></span><span style='color:gray;font-size:11px'>[bardo, bruxo, clérigo, feiticeiro, guerreiro, ladino, mago, monge, paladino]<br></span><span style='color:gray;font-size:10px'>_LDJ_</span>"
      ],
      "text/plain": [
       "<IPython.core.display.Markdown object>"
      ]
     },
     "metadata": {},
     "output_type": "display_data"
    },
    {
     "name": "stdout",
     "output_type": "stream",
     "text": [
      "\n"
     ]
    },
    {
     "data": {
      "text/markdown": [
       "<span style='color:None;font-size:None'>**Salto _(Jump)_** lvl 1<br></span><span style='color:None;font-size:13px'>&emsp;**Escola(s):** elemental (_água, terra, ar, luz, relâmpago, metal_)<br>&emsp;**Tempo conjuração:** 1 ação<br>&emsp;**Alcance:** toque<br>&emsp;**Componentes:** VSM _(uma perna de gafanhoto)_<br>&emsp;**Mana:** 200<br>&emsp;**Duração:** 1 minuto<br></span><span style='color:None;font-size:None'>Você toca uma criatura. A distância de salto da criatura é triplicada até a magia acabar.<br></span><span style='color:gray;font-size:11px'>[buff]<br></span><span style='color:gray;font-size:11px'>[bruxo, feiticeiro, ladino, mago, monge]<br></span><span style='color:gray;font-size:10px'>_LDJ_</span>"
      ],
      "text/plain": [
       "<IPython.core.display.Markdown object>"
      ]
     },
     "metadata": {},
     "output_type": "display_data"
    },
    {
     "name": "stdout",
     "output_type": "stream",
     "text": [
      "\n"
     ]
    },
    {
     "data": {
      "text/markdown": [
       "<span style='color:None;font-size:None'>**Passos Longos _(Longstrider)_** lvl 1<br></span><span style='color:None;font-size:13px'>&emsp;**Escola(s):** elemental (_ar, luz_)<br>&emsp;**Tempo conjuração:** 1 ação<br>&emsp;**Alcance:** toque<br>&emsp;**Componentes:** VSM _(um pouco de barro)_<br>&emsp;**Mana:** 200<br>&emsp;**Duração:** 1 hora<br></span><span style='color:None;font-size:None'>Você toca uma criatura. O deslocamento da criatura aumenta em 3 metros até a magia acabar.<br>&emsp;**Melhorar Magia**. Você pode gastar mais 500 de mana para aumentar em mais 3 metros e, depois, gastar mais 1500 para aumentar em mais 3 metros, totalizando 9 metros adicionais.<br></span><span style='color:gray;font-size:11px'>[buff]<br></span><span style='color:gray;font-size:11px'>[bruxo, feiticeiro, ladino, mago, monge]<br></span><span style='color:gray;font-size:10px'>_LDJ_</span>"
      ],
      "text/plain": [
       "<IPython.core.display.Markdown object>"
      ]
     },
     "metadata": {},
     "output_type": "display_data"
    },
    {
     "name": "stdout",
     "output_type": "stream",
     "text": [
      "\n"
     ]
    },
    {
     "data": {
      "text/markdown": [
       "<span style='color:None;font-size:None'>**Armadura Arcana _(Mage Armor)_** lvl 1<br></span><span style='color:None;font-size:13px'>&emsp;**Escola(s):** elemental, musical, psíquica (_água, terra, fogo, ar, luz, sombras, relâmpago, metal, veneno_)<br>&emsp;**Tempo conjuração:** 1 ação<br>&emsp;**Alcance:** toque<br>&emsp;**Componentes:** VSM _(um pedaço de couro curado)_<br>&emsp;**Mana:** 350<br>&emsp;**Duração:** 8 horas<br></span><span style='color:None;font-size:None'>Você toca uma criatura voluntária que não esteja vestindo armadura e uma energia mágica protetora a envolve até a magia acabar. A CA base do alvo se torna 13 ([Metal] 15) + o modificador de Destreza dele. A magia acaba se o alvo colocar uma armadura ou se você dissipa-la usando uma ação.<br></span><span style='color:gray;font-size:11px'>[buff, defesa]<br></span><span style='color:gray;font-size:11px'>[bardo, bruxo, clérigo, feiticeiro, guerreiro, ladino, mago, monge, paladino]<br></span><span style='color:gray;font-size:10px'>_LDJ_</span>"
      ],
      "text/plain": [
       "<IPython.core.display.Markdown object>"
      ]
     },
     "metadata": {},
     "output_type": "display_data"
    },
    {
     "name": "stdout",
     "output_type": "stream",
     "text": [
      "\n"
     ]
    },
    {
     "data": {
      "text/markdown": [
       "<span style='color:None;font-size:None'>**Mísseis Mágicos _(Magic Missile)_** lvl 1<br></span><span style='color:None;font-size:13px'>&emsp;**Escola(s):** elemental (_água, terra, fogo, ar, luz, sombras, relâmpago, metal, veneno_)<br>&emsp;**Tempo conjuração:** 1 ação<br>&emsp;**Alcance:** 36 metros<br>&emsp;**Componentes:** VS<br>&emsp;**Mana:** 350<br>&emsp;**Duração:** instantânea<br>&emsp;**Dano**: 1d4 + 1<br>&emsp;**Dmg/effect:** elemental<br></span><span style='color:None;font-size:None'>Você cria três dardos elementais. Cada dardo atinge uma criatura, à sua escolha, que você possa ver, dentro do alcance. Um dardo causa 1d4 + 1 de dano elemental ao alvo. Todos os dardos atingem simultaneamente e você pode direciona-los para atingir uma criatura ou várias.<br>&emsp;**Melhorar Magia**. Para cada 500 de mana adicionais, você adiciona mais um dardo à magia, até um máximo de 10 dardos totais.<br></span><span style='color:gray;font-size:11px'>[dano]<br></span><span style='color:gray;font-size:11px'>[bardo, bruxo, clérigo, feiticeiro, guerreiro, ladino, mago, monge, paladino]<br></span><span style='color:gray;font-size:10px'>_LDJ_</span>"
      ],
      "text/plain": [
       "<IPython.core.display.Markdown object>"
      ]
     },
     "metadata": {},
     "output_type": "display_data"
    },
    {
     "name": "stdout",
     "output_type": "stream",
     "text": [
      "\n"
     ]
    },
    {
     "data": {
      "text/markdown": [
       "<span style='color:None;font-size:None'>**Proteção contra o Bem e Mal _(Protection from Evil and Good)_** lvl 1<br></span><span style='color:None;font-size:13px'>&emsp;**Escola(s):** elemental (_água, terra, luz, veneno_)<br>&emsp;**Tempo conjuração:** 1 ação<br>&emsp;**Alcance:** toque<br>&emsp;**Componentes:** VSM _(água benta ou pó de prata e ferro, consumidos pela magia)_<br>&emsp;**Mana:** 250 (_+ 10 de mana por minuto_)<br>&emsp;**Duração:** concentração, até 10 minutos<br></span><span style='color:None;font-size:None'>Até a magia acabar, uma criatura voluntária que você tocar estará protegida contra certos tipos de criaturas: aberrações, celestiais, corruptores, elementais, fadas e mortos-vivos.<br>&emsp;A proteção garante diversos benefícios. As criaturas desse tipo tem desvantagem nas jogadas de ataque contra o alvo. O alvo não pode ser enfeitiçado, amedrontado ou possuído por elas. Se o alvo já estiver enfeitiçado, amedrontado ou possuído por uma dessas criaturas, o alvo terá vantagem em qualquer novo teste de resistência contra o efeito relevante.<br></span><span style='color:gray;font-size:11px'>[buff, debuff, defesa]<br></span><span style='color:gray;font-size:11px'>[bardo, bruxo, clérigo, feiticeiro, guerreiro, ladino, mago, monge, paladino]<br></span><span style='color:gray;font-size:10px'>_LDJ_</span>"
      ],
      "text/plain": [
       "<IPython.core.display.Markdown object>"
      ]
     },
     "metadata": {},
     "output_type": "display_data"
    },
    {
     "name": "stdout",
     "output_type": "stream",
     "text": [
      "\n"
     ]
    },
    {
     "data": {
      "text/markdown": [
       "<span style='color:None;font-size:None'>**Purificar Alimentos _(Purify Food and Drink)_** lvl 1 - ritual<br></span><span style='color:None;font-size:13px'>&emsp;**Escola(s):** elemental (_água, terra, luz, veneno_)<br>&emsp;**Tempo conjuração:** 1 ação<br>&emsp;**Alcance:** 3 metros<br>&emsp;**Componentes:** VS<br>&emsp;**Mana:** 300<br>&emsp;**Duração:** instantânea<br></span><span style='color:None;font-size:None'>Toda comida e bebida não-mágica dentro de uma esfera de 1,5 metro de raio centrada num ponto, à sua escolha, dentro do alcance é purificada e se livrada de venenos ou doenças.<br></span><span style='color:gray;font-size:11px'>[utilidade]<br></span><span style='color:gray;font-size:11px'>[bardo, bruxo, clérigo, feiticeiro, guerreiro, ladino, mago, monge, paladino]<br></span><span style='color:gray;font-size:10px'>_LDJ_</span>"
      ],
      "text/plain": [
       "<IPython.core.display.Markdown object>"
      ]
     },
     "metadata": {},
     "output_type": "display_data"
    },
    {
     "name": "stdout",
     "output_type": "stream",
     "text": [
      "\n"
     ]
    },
    {
     "data": {
      "text/markdown": [
       "<span style='color:None;font-size:None'>**Raio da Doença _(Ray of Sickness)_** lvl 1<br></span><span style='color:None;font-size:13px'>&emsp;**Escola(s):** elemental, necromancia (_sombras, metal, veneno_)<br>&emsp;**Tempo conjuração:** 1 ação<br>&emsp;**Alcance:** 18 metros<br>&emsp;**Componentes:** VS<br>&emsp;**Mana:** 400<br>&emsp;**Duração:** instantânea<br>&emsp;**Dano**: 2d8<br>&emsp;**Attack/Save:** CON Save<br>&emsp;**Dmg/effect:** veneno<br></span><span style='color:None;font-size:None'>Um raio adoecente de energia esverdeada chicoteia na direção de uma criatura dentro do alcance. Faça um ataque à distância com magia contra o alvo. Se atingir, o alvo sofrerá 2d8 de dano de veneno e deve realizar um teste de resistência de Constituição. Se falhar na resistência, ele também ficará envenenado até o final do seu próximo turno.<br>&emsp;**Melhorar Magia**. Para cada 550 de mana adicionais gastos, adicione 1d8 até um máximo de 5d8.<br></span><span style='color:gray;font-size:11px'>[dano, debuff]<br></span><span style='color:gray;font-size:11px'>[bardo, bruxo, clérigo, feiticeiro, guerreiro, ladino, mago, monge, paladino]<br></span><span style='color:gray;font-size:10px'>_LDJ_</span>"
      ],
      "text/plain": [
       "<IPython.core.display.Markdown object>"
      ]
     },
     "metadata": {},
     "output_type": "display_data"
    },
    {
     "name": "stdout",
     "output_type": "stream",
     "text": [
      "\n"
     ]
    },
    {
     "data": {
      "text/markdown": [
       "<span style='color:None;font-size:None'>**Santuário _(Santuary)_** lvl 1<br></span><span style='color:None;font-size:13px'>&emsp;**Escola(s):** psíquica<br>&emsp;**Tempo conjuração:** 1 ação bônus<br>&emsp;**Alcance:** 9 metros<br>&emsp;**Componentes:** VSM _(um pequeno espelho de prata)_<br>&emsp;**Mana:** 300<br>&emsp;**Duração:** 1 minuto<br>&emsp;**Attack/Save:** WIS Save<br></span><span style='color:None;font-size:None'>Você protege uma criatura, dentro do alcance, contra ataques. Até a magia acabar, qualquer criatura que tentar atacar ou usar magias que causem dano contra criatura protegida deve, primeiro, realizar um teste de resistência de Sabedoria. Se falhar na resistência, a criatura deve escolher um novo alvo ou perderá o ataque ou magia. Essa magia não protege a criatura contra efeitos de área, como a explosão de uma bola de fogo.<br>&emsp;Se a criatura protegida realizar um ataque ou conjurar uma magia que afete uma criatura inimiga, essa magia acaba.<br></span><span style='color:gray;font-size:11px'>[buff, defesa]<br></span><span style='color:gray;font-size:11px'>[bardo, bruxo, clérigo, feiticeiro, mago, monge, paladino]<br></span><span style='color:gray;font-size:10px'>_LDJ_</span>"
      ],
      "text/plain": [
       "<IPython.core.display.Markdown object>"
      ]
     },
     "metadata": {},
     "output_type": "display_data"
    },
    {
     "name": "stdout",
     "output_type": "stream",
     "text": [
      "\n"
     ]
    },
    {
     "data": {
      "text/markdown": [
       "<span style='color:None;font-size:None'>**Encantar Arma (Auxílio Divino) _(Searing Smite)_** lvl 1<br></span><span style='color:None;font-size:13px'>&emsp;**Escola(s):** elemental (_água, terra, fogo, ar, luz, sombras, relâmpago, metal, veneno_)<br>&emsp;**Tempo conjuração:** 1 ação bônus<br>&emsp;**Alcance:** pessoal<br>&emsp;**Componentes:** VS<br>&emsp;**Mana:** 300 (_+ 20 por turno_)<br>&emsp;**Duração:** concentração, até 1 minuto<br>&emsp;**Dano**: 1d4<br>&emsp;**Dmg/effect:** elemental<br></span><span style='color:None;font-size:None'>Você envolve sua arma com seu elemento. Até o final da magia, seus ataques com aruma causa 1d4 de dano elemento extra ao atingirem.<br>&emsp;**Melhorar Magia**. Você pode gastar mais 500 de mana e mais 30 de mana por turno para transformar o d4 em d6. Você pode gastar mais 1500 de mana e mais 50 de mana por turno para transformar o d6 em d8. Você pode gastar mais 5000 de mana e mais 100 de mana por turno para transformar o d8 em d10.<br></span><span style='color:gray;font-size:11px'>[buff, dano]<br></span><span style='color:gray;font-size:11px'>[bardo, bruxo, clérigo, feiticeiro, guerreiro, ladino, mago, monge, paladino]<br></span><span style='color:gray;font-size:10px'>_LDJ_</span>"
      ],
      "text/plain": [
       "<IPython.core.display.Markdown object>"
      ]
     },
     "metadata": {},
     "output_type": "display_data"
    },
    {
     "name": "stdout",
     "output_type": "stream",
     "text": [
      "\n"
     ]
    },
    {
     "data": {
      "text/markdown": [
       "<span style='color:None;font-size:None'>**Escudo Arcano _(Shield)_** lvl 1<br></span><span style='color:None;font-size:13px'>&emsp;**Escola(s):** elemental, necromancia, musical, psíquica (_água, terra, fogo, ar, luz, sombras, relâmpago, metal, veneno_)<br>&emsp;**Tempo conjuração:** 1 reação<br>&emsp;**Alcance:** pessoal<br>&emsp;**Componentes:** VS<br>&emsp;**Mana:** 350<br>&emsp;**Duração:** instantânea<br></span><span style='color:None;font-size:None'>Uma barreira de energia aparece e protege você.<br>&emsp;Até o final do turno da criatura que fez a magia contra você, você recebe +3 de bônus na CA, incluindo contra o ataque que desencadeou a magia, e você não sofre dado de mísseis mágicos.<br>&emsp;Você não pode usar essa magia junto com outros escudos mágicos. **Melhorar Magia**. Você pode gastar mais 500 mana para transformar o efeito em +4 ou então mais 2000 de mana para transformar o efeito em +5.<br></span><span style='color:gray;font-size:11px'>[defesa]<br></span><span style='color:gray;font-size:11px'>[bardo, bruxo, clérigo, feiticeiro, guerreiro, ladino, mago, monge, paladino]<br></span><span style='color:gray;font-size:10px'>_LDJ_</span>"
      ],
      "text/plain": [
       "<IPython.core.display.Markdown object>"
      ]
     },
     "metadata": {},
     "output_type": "display_data"
    },
    {
     "name": "stdout",
     "output_type": "stream",
     "text": [
      "\n"
     ]
    },
    {
     "data": {
      "text/markdown": [
       "<span style='color:None;font-size:None'>**Escudo Protetor _(Shield of Faith)_** lvl 1<br></span><span style='color:None;font-size:13px'>&emsp;**Escola(s):** elemental, musical, psíquica (_água, terra, fogo, ar, luz, sombras, relâmpago, metal, veneno_)<br>&emsp;**Tempo conjuração:** 1 ação bônus<br>&emsp;**Alcance:** 18 metros<br>&emsp;**Componentes:** VSM _(um pequeno pergaminho com alguns textos sagrados escritos nele)_<br>&emsp;**Mana:** 350 (_+ 10 a cada minuto_)<br>&emsp;**Duração:** concentração, até 10 minuto<br></span><span style='color:None;font-size:None'>Um campo cintilante aparece ao redor de uma criatura, à sua escolha, dentro do alcance, concedendo +1 de bônus na CA pela duração.<br>&emsp;Esta magia não pode ser utilizada se a criatura já estiver sob efeito de outros escudos mágicos.<br>&emsp;**Melhorar Magia**. Você pode gastar mais 500 mana para transformar o efeito em +2 ou então mais 2000 de mana para transformar o efeito em +3.<br></span><span style='color:gray;font-size:11px'>[buff, defesa]<br></span><span style='color:gray;font-size:11px'>[bardo, bruxo, clérigo, feiticeiro, mago, monge, paladino]<br></span><span style='color:gray;font-size:10px'>_LDJ_</span>"
      ],
      "text/plain": [
       "<IPython.core.display.Markdown object>"
      ]
     },
     "metadata": {},
     "output_type": "display_data"
    },
    {
     "name": "stdout",
     "output_type": "stream",
     "text": [
      "\n"
     ]
    },
    {
     "data": {
      "text/markdown": [
       "<span style='color:None;font-size:None'>**Imagem Silenciosa _(Silent Image)_** lvl 1<br></span><span style='color:None;font-size:13px'>&emsp;**Escola(s):** ilusionista<br>&emsp;**Tempo conjuração:** 1 ação<br>&emsp;**Alcance:** 18 metros<br>&emsp;**Componentes:** VSM _(um pouco de lã)_<br>&emsp;**Mana:** 250 (_+ 10 por turno_)<br>&emsp;**Duração:** concentração, até 10 minutos<br>&emsp;**Attack/Save:** INT Save<br></span><span style='color:None;font-size:None'>Você cria a imagem de um objeto, criatura ou outro fenômeno visual que não tenha mais de 4,5 metros cúbicos. A imagem aparece num ponto, dentro do alcança, e permanece pela duração. A imagem é puramente visual; não é acompanhada por som, cheiro ou outros efeitos sensoriais.<br>&emsp;Você pode usar sua ação e 10 de mana para fazer a imagem se mover para qualquer ponto, dentro do alcance. À medida que a imagem muda de lugar, você pode alterar a aparência dela para que seu movimento pareça ser o natural para a imagem. Por exemplo, se você criar uma imagem de uma criatura e move-la, você pode alterar a imagem para que ela pareça estar andando.<br>&emsp;Interação física com a imagem, revelará que ela é uma ilusão, já que as coisas podem passar através dela. Uma criatura que usar sua ação para examinar a imagem, pode determinar que ela é uma ilusão com um teste de Inteligência (Investigação) bem sucedido contra a CD da magia. Se uma criatura discernir a ilusão como sendo isso, a criatura poderá ver através da imagem.<br></span><span style='color:gray;font-size:11px'>[utilidade]<br></span><span style='color:gray;font-size:11px'>[bardo, bruxo, clérigo, feiticeiro, guerreiro, ladino, mago, monge, paladino]<br></span><span style='color:gray;font-size:10px'>_LDJ_</span>"
      ],
      "text/plain": [
       "<IPython.core.display.Markdown object>"
      ]
     },
     "metadata": {},
     "output_type": "display_data"
    },
    {
     "name": "stdout",
     "output_type": "stream",
     "text": [
      "\n"
     ]
    },
    {
     "data": {
      "text/markdown": [
       "<span style='color:None;font-size:None'>**Sono _(Sleep)_** lvl 1<br></span><span style='color:None;font-size:13px'>&emsp;**Escola(s):** elemental, musical (_veneno_)<br>&emsp;**Tempo conjuração:** 1 ação<br>&emsp;**Alcance:** 36 metros<br>&emsp;**Componentes:** VSM _(um punhado de areia fina, pétalas de rosa ou um grilo)_<br>&emsp;**Mana:** 300<br>&emsp;**Duração:** 1 minuto<br>&emsp;**Attack/Save:** DEX Save<br>&emsp;**Dmg/effect:** inconsciente<br></span><span style='color:None;font-size:None'>Essa magia põem as criaturas num entorpecimento mágico. Jogue 5d8, o total é a quantidade de pontos de vida de criaturas afetados pela magia. As criaturas numa área de 6 metros de raio, centrada no ponto escolhido, dentro do alcance, são afetadas em ordem ascendente dos pontos de vida atuais delas (ignorando criaturas inconscientes).<br>&emsp;Começando com as criaturas com menos pontos de vida atuais, cada criatura afetada por essa magia cai inconsciente até a magia acabar, sofrer dano ou alguém usar sua ação para sacudi-la ou esbofeteá-la até acordar.<br>&emsp;Subtraia os pontos de vida de cada criatura do total antes de seguir para a próxima criatura com menos pontos de vida atuais. Os pontos de vida atuais da criatura devem ser iguais ou menores que o valor restante para que a criatura possa ser afetada.<br>&emsp;Mortos-vivos e criaturas imunes a serem enfeitiçadas não são afetadas por essa magia.<br>&emsp;**Melhorar Magia**. Para cada 500 de mana adicionais, adicione mais 2d8 até um máximo de 10d8 adicionais.<br></span><span style='color:gray;font-size:11px'>[debuff, utilidade]<br></span><span style='color:gray;font-size:11px'>[bardo, bruxo, clérigo, feiticeiro, guerreiro, ladino, mago, monge, paladino]<br></span><span style='color:gray;font-size:10px'>_LDJ_</span>"
      ],
      "text/plain": [
       "<IPython.core.display.Markdown object>"
      ]
     },
     "metadata": {},
     "output_type": "display_data"
    },
    {
     "name": "stdout",
     "output_type": "stream",
     "text": [
      "\n"
     ]
    },
    {
     "data": {
      "text/markdown": [
       "<span style='color:None;font-size:None'>**Beberagem Cáustica de Tasha _(Tasha's Caustic Brew)_** lvl 1<br></span><span style='color:None;font-size:13px'>&emsp;**Escola(s):** elemental (_veneno_)<br>&emsp;**Tempo conjuração:** 1 ação<br>&emsp;**Alcance:** pessoal<br>&emsp;**Componentes:** VSM _(um pedaço de comida apodrecida)_<br>&emsp;**Mana:** 350 (_+ 10 por turno_)<br>&emsp;**Duração:** concentração, até 1 minuto<br>&emsp;**Dano**: 2d4<br>&emsp;**Attack/Save:** DEX Save<br>&emsp;**Dmg/effect:** ácido<br></span><span style='color:None;font-size:None'>Um jorro de ácido emana de você em uma linha de 9m de comprimento e 1,5m de largura em uma direção a sua escolha. Cada criatura na linha deve ser bem-sucedida em uma salvaguarda de Destreza ou fica coberta de ácido pela duração da magia ou até que use sua ação para tirar ou lavar o ácido de si ou de outra criatura. Uma criatura coberta pelo ácido sofre 2d4 de dano ácido no começo de cada um dos turnos dela.<br>&emsp;**Melhorar Magia**. Você pode gastar mais 500 de mana para adicionar 2d4 até um máximo de 10d4 adicionais.<br></span><span style='color:gray;font-size:11px'>[controle, dano]<br></span><span style='color:gray;font-size:11px'>[bardo, bruxo, clérigo, feiticeiro, guerreiro, ladino, mago, monge, paladino]<br></span><span style='color:gray;font-size:10px'>_Tasha_</span>"
      ],
      "text/plain": [
       "<IPython.core.display.Markdown object>"
      ]
     },
     "metadata": {},
     "output_type": "display_data"
    },
    {
     "name": "stdout",
     "output_type": "stream",
     "text": [
      "\n"
     ]
    },
    {
     "data": {
      "text/markdown": [
       "<span style='color:None;font-size:None'>**Destruição Trovejante _(Thunderous Smite)_** lvl 1<br></span><span style='color:None;font-size:13px'>&emsp;**Escola(s):** elemental (_relâmpago_)<br>&emsp;**Tempo conjuração:** 1 ação bônus<br>&emsp;**Alcance:** pessoal<br>&emsp;**Componentes:** V<br>&emsp;**Mana:** 450 (_+ 10 por turno_)<br>&emsp;**Duração:** concentração, até 1 minuto<br>&emsp;**Dano**: 2d6<br>&emsp;**Attack/Save:** STR Save<br>&emsp;**Dmg/effect:** trovejante<br></span><span style='color:None;font-size:None'>Da primeira vez que você atingir um ataque corpo-a-corpo enquanto essa magia durar, sua arma (ou mão) é rodeada por trovões que são audíveis a até 90 metros de você e o ataque causa 2d6 de dano trovejante extra no alvo. Além disso, se o alvo for uma criatura, ele deve ser bem sucedido num teste de resistência de Força ou será empurrado 3 metros para longe de você e cairá no chão.<br></span><span style='color:gray;font-size:11px'>[controle, dano, debuff]<br></span><span style='color:gray;font-size:11px'>[clérigo, guerreiro, ladino, monge, paladino]<br></span><span style='color:gray;font-size:10px'>_LDJ_</span>"
      ],
      "text/plain": [
       "<IPython.core.display.Markdown object>"
      ]
     },
     "metadata": {},
     "output_type": "display_data"
    },
    {
     "name": "stdout",
     "output_type": "stream",
     "text": [
      "\n"
     ]
    },
    {
     "data": {
      "text/markdown": [
       "<span style='color:None;font-size:None'>**Onda Trovejante _(Thunderwave)_** lvl 1<br></span><span style='color:None;font-size:13px'>&emsp;**Escola(s):** elemental (_relâmpago_)<br>&emsp;**Tempo conjuração:** 1 ação<br>&emsp;**Alcance:** pessoal<br>&emsp;**Componentes:** VS<br>&emsp;**Mana:** 450<br>&emsp;**Duração:** instantânea<br>&emsp;**Dano**: 2d8<br>&emsp;**Attack/Save:** CON Save<br>&emsp;**Dmg/effect:** trovejante<br></span><span style='color:None;font-size:None'>Uma onda de força trovejante varre tudo a partir de você.<br>&emsp;Cada criatura num cubo de 4,5 metros originado em você, deve realizar um teste de resistência de Constituição. Se falhar na resistência, uma criatura sofrerá 2d8 de dano trovejante e será empurrada 3 metros para longe de você.<br>&emsp;Se obtive sucesso na resistência, a criatura sofrerá metade desse dano e não será empurrada.<br>&emsp;Além disso, objetos soltos que estiverem completamente dentro da área de efeito serão automaticamente empurrados 3 metros para longe de você pelo efeito da magia e a magia emitirá um ressonante barulho de trovão audível a até 90 metros.<br>&emsp;**Melhorar Magia**. Você pode gastar 550 de mana adicionais para adicionar 1d8 ao dano, até um máximo de 5d8 adicionais.<br></span><span style='color:gray;font-size:11px'>[controle, dano]<br></span><span style='color:gray;font-size:11px'>[bardo, bruxo, clérigo, feiticeiro, guerreiro, ladino, mago, monge, paladino]<br></span><span style='color:gray;font-size:10px'>_LDJ_</span>"
      ],
      "text/plain": [
       "<IPython.core.display.Markdown object>"
      ]
     },
     "metadata": {},
     "output_type": "display_data"
    },
    {
     "name": "stdout",
     "output_type": "stream",
     "text": [
      "\n"
     ]
    },
    {
     "data": {
      "text/markdown": [
       "<span style='color:None;font-size:None'>**Servo Invisível _(Unseen Servant)_** lvl 1 - ritual<br></span><span style='color:None;font-size:13px'>&emsp;**Escola(s):** invocação<br>&emsp;**Tempo conjuração:** 1 ação<br>&emsp;**Alcance:** 18 metros<br>&emsp;**Componentes:** VSM _(um pedaço de barbante e um pouco de madeira)_<br>&emsp;**Mana:** 200<br>&emsp;**Duração:** 1 hora<br></span><span style='color:None;font-size:None'>Essa magia cria uma força invisível, sem mente e sem forma que realiza tarefas simples, ao seu comando, até a magia acabar. O servo aparece do nada em um espaço desocupado no chão, dentro do alcance. Ele tem CA 10, 1 ponto de vida, Força 2 e não pode atacar. Se ele cair a 0 pontos de vida, a magia acaba.<br>&emsp;Uma vez em cada um dos seus turnos, com uma ação bônus, você pode comandar, mentalmente, o servo para se mover até 4,5 metros e interagir com um objeto. O servo pode realizar tarefas simples que um serviçal humano faria, como buscar coisas, limpar, consertar, dobrar roupas, acender chamas, servir comida ou derramar vinho. Uma vez que um comando seja dado, o servo realiza a tarefa da melhor forma possível, até completar a tarefa, então esperará o seu próximo comando.<br>&emsp;Se você comandar o servo a realizar uma tarefa que poderia afasta-lo a mais de 18 metros de você, a magia termina.<br></span><span style='color:gray;font-size:11px'>[utilidade]<br></span><span style='color:gray;font-size:11px'>[bardo, bruxo, clérigo, feiticeiro, guerreiro, ladino, mago, monge, paladino]<br></span><span style='color:gray;font-size:10px'>_LDJ_</span>"
      ],
      "text/plain": [
       "<IPython.core.display.Markdown object>"
      ]
     },
     "metadata": {},
     "output_type": "display_data"
    },
    {
     "name": "stdout",
     "output_type": "stream",
     "text": [
      "\n"
     ]
    },
    {
     "data": {
      "text/markdown": [
       "<span style='color:None;font-size:None'>**Raio de Bruxa _(Witch Bolt)_** lvl 1<br></span><span style='color:None;font-size:13px'>&emsp;**Escola(s):** elemental (_sombras, relâmpago_)<br>&emsp;**Tempo conjuração:** 1 ação<br>&emsp;**Alcance:** 9 metros<br>&emsp;**Componentes:** VSM _(um galho de uma árvore que tenha sido atingida por um relâmpago)_<br>&emsp;**Mana:** 500 (_+ 20 por turno_)<br>&emsp;**Duração:** concentração, até 1 minuto<br>&emsp;**Dano**: 1d12<br>&emsp;**Attack/Save:** distância<br>&emsp;**Dmg/effect:** elemental<br></span><span style='color:None;font-size:None'>Um raio crepitante de energia elemental é arremessado em uma criatura dentro do alcance, formando um arco elétrico contínuo entre você e o alvo. Faça um ataque à distância com magia contra a criatura. Se atingir, o alvo sofrerá 1d12 de dano elemental e, em cada um dos seus turnos, pela duração, você pode usar sua ação para causar 1d12 de dano elétrico ao alvo, automaticamente. A magia acaba se você usar sua ação para fazer qualquer outra coisa. A magia também acaba se o alvo estiver fora do alcance da magia ou se você tiver cobertura total para ele.<br>&emsp;**Melhorar Magia**. Você pode gastar mais 600 de mana e mais 20 por turno para adicionar 1d12 ao dano, até um máximo de 3d12 adicionais.<br></span><span style='color:gray;font-size:11px'>[dano]<br></span><span style='color:gray;font-size:11px'>[bardo, bruxo, clérigo, feiticeiro, mago, monge, paladino]<br></span><span style='color:gray;font-size:10px'>_LDJ_</span>"
      ],
      "text/plain": [
       "<IPython.core.display.Markdown object>"
      ]
     },
     "metadata": {},
     "output_type": "display_data"
    },
    {
     "name": "stdout",
     "output_type": "stream",
     "text": [
      "\n"
     ]
    },
    {
     "data": {
      "text/markdown": [
<<<<<<< HEAD
       "<span style='color:None;font-size:None'>**Golpe de Zephyr _(Zephyr Strike)_** lvl 1<br></span><span style='color:None;font-size:13px'>&emsp;**Escola(s):** elemental (_ar_)<br>&emsp;**Tempo conjuração:** 1 ação bônus<br>&emsp;**Alcance:** pessoal<br>&emsp;**Componentes:** V<br>&emsp;**Mana:** 300 (_+ 10 por turno_)<br>&emsp;**Duração:** concentração, até 1 minuto<br>&emsp;**Dano**: 1d8<br>&emsp;**Dmg/effect:** ar<br></span><span style='color:None;font-size:None'>Você se move como o vento. Até o fim da magia, seu movimento não provoca ataques de oportunidade.<br>&emsp;Uma vez até o fim da magia, você pode se dar vantagem em uma rolagem de ataque com arma no seu turno. Esse ataque infringe 1d8 de dano de ar extra caso acerte. Não importa se acertar ou errar, sua velocidade de deslocamento aumenta em 9 metros até o final desse turno.<br></span><span style='color:gray;font-size:11px'>[buff, dano]<br></span><span style='color:gray;font-size:11px'>[bardo, clérigo, guerreiro, ladino, monge, paladino]<br></span><span style='color:gray;font-size:10px'>_Xanathar_</span>"
=======
       "<span style='color:None;font-size:None'>**Destruição Lancinante _(Wrathful Smite)_** lvl 1<br></span><span style='color:None;font-size:13px'>&emsp;**Escola(s):** elemental (_fogo, luz, sombras_)<br>&emsp;**Tempo conjuração:** 1 ação bônus<br>&emsp;**Alcance:** pessoal<br>&emsp;**Componentes:** V<br>&emsp;**Mana:** 400 (_+ 10 por turno_)<br>&emsp;**Duração:** concentração, até 1 minuto<br>&emsp;**Dano**: 1d6<br>&emsp;**Attack/Save:** corpo-a-corpo<br>&emsp;**Dmg/effect:** elemental<br></span><span style='color:None;font-size:None'>Da próxima vez que você atingir uma criatura com um ataque corpo-a-corpo com arma enquanto essa magia durar, sua arma flameja com intensas chamas e o ataque causa 1d6 de dano elemental extra ao alvo, fazendo-o incendiar pelas chamas. No início de cada turno dele, até a magia acabar, o alvo deve realizar um teste de resistência de Constituição. Se falhar na resistência, ele sofre 1d6 de dano de fogo. Se passar na resistência, a magia acaba. Se o alvo ou uma criatura a 1,5 metro dele usar uma ação para apagar as chamas ou se algum outro efeito extinguir as chamas (como submergir o alvo em água), a magia acaba.<br>&emsp;**Melhorar Magia**. Você pode gastar 500 de mana adicionais e 10 por turno para adicionar 1d6 no dano até um máximo de 5d6 adicionais.<br></span><span style='color:gray;font-size:11px'>[buff, dano]<br></span><span style='color:gray;font-size:11px'>[bardo, bruxo, clérigo, feiticeiro, guerreiro, ladino, mago, monge, paladino]<br></span><span style='color:gray;font-size:10px'>_LDJ_</span>"
>>>>>>> 9dd5592ff8a01595259b3eb82b70817517fe7bde
      ],
      "text/plain": [
       "<IPython.core.display.Markdown object>"
      ]
     },
     "metadata": {},
     "output_type": "display_data"
    },
    {
     "name": "stdout",
     "output_type": "stream",
     "text": [
      "\n"
     ]
<<<<<<< HEAD
    }
   ],
   "source": [
    "from dfs.DFFilter import filter_df\n",
    "from spell.SpellPrinter import (\n",
    "    print_spell,\n",
    "    print_spells_by_name,\n",
    "    print_spells_for_df,\n",
    ")\n",
    "\n",
    "my_filter = {\"escola\": \"elemental\", \"nivel\": 1}\n",
    "filtered_df = filter_df(spells_df, my_filter)\n",
    "\n",
    "print_spells_for_df(filtered_df)\n"
   ]
  },
  {
   "cell_type": "code",
   "execution_count": 4,
   "metadata": {},
   "outputs": [
=======
    },
>>>>>>> 9dd5592ff8a01595259b3eb82b70817517fe7bde
    {
     "data": {
      "text/markdown": [
       "<span style='color:None;font-size:None'>**Golpe de Zephyr _(Zephyr Strike)_** lvl 1<br></span><span style='color:None;font-size:13px'>&emsp;**Escola(s):** elemental (_ar_)<br>&emsp;**Tempo conjuração:** 1 ação bônus<br>&emsp;**Alcance:** pessoal<br>&emsp;**Componentes:** V<br>&emsp;**Mana:** 300 (_+ 10 por turno_)<br>&emsp;**Duração:** concentração, até 1 minuto<br>&emsp;**Dano**: 1d8<br>&emsp;**Dmg/effect:** ar<br></span><span style='color:None;font-size:None'>Você se move como o vento. Até o fim da magia, seu movimento não provoca ataques de oportunidade.<br>&emsp;Uma vez até o fim da magia, você pode se dar vantagem em uma rolagem de ataque com arma no seu turno. Esse ataque infringe 1d8 de dano de ar extra caso acerte. Não importa se acertar ou errar, sua velocidade de deslocamento aumenta em 9 metros até o final desse turno.<br></span><span style='color:gray;font-size:11px'>[buff, dano]<br></span><span style='color:gray;font-size:11px'>[bardo, clérigo, guerreiro, ladino, monge, paladino]<br></span><span style='color:gray;font-size:10px'>_Xanathar_</span>"
      ],
      "text/plain": [
       "<IPython.core.display.Markdown object>"
      ]
     },
     "metadata": {},
     "output_type": "display_data"
    },
    {
     "name": "stdout",
     "output_type": "stream",
     "text": [
      "\n"
     ]
    },
    {
     "data": {
      "text/markdown": [
       "<span style='color:None;font-size:None'>**Ataque Ilusório _(custom)_** lvl 1<br></span><span style='color:None;font-size:13px'>&emsp;**Escola(s):** ilusionista<br>&emsp;**Tempo conjuração:** 1 reação<br>&emsp;**Alcance:** 18 metros<br>&emsp;**Componentes:** VSM _(um pouco de pó de prata)_<br>&emsp;**Mana:** 350<br>&emsp;**Duração:** instantânea<br>&emsp;**Attack/Save:** INT Save<br></span><span style='color:None;font-size:None'>Quando uma criatura aliada dentro do alcance receber um ataque de uma criatura também dentro do alcance, você pode usar sua reação para distorcer a visão do atacante. Ele deve fazer um teste de resistência de Inteligência. Se ele falhar, então ele faz o ataque com desvantagem.<br></span><span style='color:gray;font-size:11px'>[debuff]<br></span><span style='color:gray;font-size:11px'>[bardo, bruxo, clérigo, feiticeiro, guerreiro, ladino, mago, monge, paladino]<br></span><span style='color:gray;font-size:10px'>_Custom_</span>"
      ],
      "text/plain": [
       "<IPython.core.display.Markdown object>"
      ]
     },
     "metadata": {},
     "output_type": "display_data"
    },
    {
     "name": "stdout",
     "output_type": "stream",
     "text": [
      "\n"
     ]
    }
   ],
   "source": [
<<<<<<< HEAD
    "print_spells_by_name(spells_df, \"shield\")\n"
=======
    "from DFFilter import filter_df\n",
    "from SpellPrinter import print_spell, print_spells_by_name, print_spells_for_df\n",
    "\n",
    "my_filter = {\n",
    "    \"nivel\": 2\n",
    "}\n",
    "filtered_df = filter_df(spells_df, my_filter)\n",
    "\n",
    "print_spells_for_df(filtered_df)"
>>>>>>> 9dd5592ff8a01595259b3eb82b70817517fe7bde
   ]
  },
  {
   "cell_type": "code",
<<<<<<< HEAD
   "execution_count": 5,
=======
   "execution_count": 3,
>>>>>>> 9dd5592ff8a01595259b3eb82b70817517fe7bde
   "metadata": {},
   "outputs": [
    {
     "data": {
      "text/plain": [
<<<<<<< HEAD
       "600     1\n",
       "500     2\n",
       "450     3\n",
       "400    10\n",
       "350    10\n",
       "300    12\n",
       "250     3\n",
       "200     4\n",
=======
       "1500    1\n",
       "1000    3\n",
       "800     1\n",
       "700     6\n",
       "650     4\n",
       "600     3\n",
       "500     1\n",
       "200     1\n",
>>>>>>> 9dd5592ff8a01595259b3eb82b70817517fe7bde
       "Name: mana, dtype: int64"
      ]
     },
     "metadata": {},
     "output_type": "display_data"
    },
    {
     "name": "stdout",
     "output_type": "stream",
     "text": [
<<<<<<< HEAD
      "Mean =\t346.667\n",
      "Std  =\t84.208\n"
=======
      "Mean =\t730.000\n",
      "Std  =\t254.641\n"
>>>>>>> 9dd5592ff8a01595259b3eb82b70817517fe7bde
     ]
    }
   ],
   "source": [
    "from IPython.display import display\n",
    "\n",
    "\n",
    "def get_mana_stats(spells_df):\n",
    "    display(spells_df.mana.value_counts().sort_index(ascending=False))\n",
    "    print(f\"Mean =\\t{filtered_df.mana.mean():.3f}\")\n",
    "    print(f\"Std  =\\t{filtered_df.mana.std():.3f}\")\n",
    "\n",
    "\n",
    "get_mana_stats(filtered_df)\n"
   ]
  },
  {
   "cell_type": "code",
<<<<<<< HEAD
   "execution_count": 6,
   "metadata": {},
   "outputs": [],
   "source": [
    "from spell.SpellExporter import export_spells\n",
    "\n",
    "\n",
    "EXPORT_SPELLS = False\n",
    "VERBOSE = False\n",
    "OPEN_FILE = False\n",
    "DELETE_TEX = False\n",
    "filename = \"../../Classes/Ladino_Fogo_Spells\"\n",
    "\n",
    "if EXPORT_SPELLS:\n",
    "    export_spells(\n",
    "        filtered_df,\n",
    "        filename=filename,\n",
    "        verbose=VERBOSE,\n",
    "        open_file=OPEN_FILE,\n",
    "        delete_tex=DELETE_TEX,\n",
    "    )\n"
   ]
  },
  {
   "cell_type": "code",
=======
>>>>>>> 9dd5592ff8a01595259b3eb82b70817517fe7bde
   "execution_count": null,
   "metadata": {},
   "outputs": [],
   "source": []
  }
 ],
 "metadata": {
  "interpreter": {
   "hash": "d36adf45757a947aebb41e19531952e79d7da656c5a3acf675af965b060eaf9d"
  },
  "kernelspec": {
   "display_name": "Python 3.10.2 64-bit",
   "language": "python",
   "name": "python3"
  },
  "language_info": {
   "codemirror_mode": {
    "name": "ipython",
    "version": 3
   },
   "file_extension": ".py",
   "mimetype": "text/x-python",
   "name": "python",
   "nbconvert_exporter": "python",
   "pygments_lexer": "ipython3",
   "version": "3.10.2"
  },
  "orig_nbformat": 4
 },
 "nbformat": 4,
 "nbformat_minor": 2
}
