{
 "cells": [
  {
   "cell_type": "code",
   "execution_count": 1,
   "metadata": {},
   "outputs": [],
   "source": [
    "from DFReader import get_spells_df\n",
    "from DFFormatAsserter import (\n",
    "    assert_columns_not_null,\n",
    "    fill_na_by_column,\n",
    "    assert_df_schema,\n",
    "    convert_and_assert_column_to_list,\n",
    ")\n",
    "\n",
    "spells_df = get_spells_df()\n",
    "spells_df = fill_na_by_column(spells_df)\n",
    "assert_columns_not_null(spells_df)\n",
    "spells_df = convert_and_assert_column_to_list(spells_df, \"escola\")\n",
    "\n",
    "try:\n",
    "    assert_df_schema(spells_df)\n",
    "except ValueError as e:\n",
    "    print(\"Wrong values.\")\n",
    "    print(e)\n"
   ]
  },
  {
   "cell_type": "code",
   "execution_count": 2,
   "metadata": {},
   "outputs": [
    {
     "data": {
      "text/markdown": [
       "<span style='color:None;font-size:None'>**Absorver Elementos _(Absorve Elements)_** lvl 1<br></span><span style='color:None;font-size:13px'>&emsp;Escola(s): **elemental** (_sombras_)<br>&emsp;Tempo conjuração: **1 reação**<br>&emsp;Alcance: **pessoal**<br>&emsp;Componentes: **S**<br>&emsp;Mana: **350**<br>&emsp;Duração: **1 rodada**<br>&emsp;Dano: **1d6**<br>&emsp;Dmg effect: **elemental**<br></span><span style='color:None;font-size:None'>A magia reverte parte da energia recebida, minimizando seu efeito em você e armazenando-a no seu próximo ataque corpo-a-corpo. Se você recebe um dano elemental, você pode usar sua reação para diminuir o dano pela metade. Além disso, da primeira vez que você atingir um ataque corpo-a-corpo no seu próximo turno, o alvo sofre 1d6 de dano extra do tipo relacionado e a magia termina.<br>&emsp;**Melhorar Magia**. A cada 500 de mana que você gasta a mais para conjurar essa magia, você adiciona 1d6 a mais (máximo de 5).<br></span><span style='color:gray;font-size:11px'>[dano, defesa]<br></span><span style='color:gray;font-size:11px'>[clérigo, paladino]<br></span><span style='color:gray;font-size:10px'>_Xanathar_</span>"
      ],
      "text/plain": [
       "<IPython.core.display.Markdown object>"
      ]
     },
     "metadata": {},
     "output_type": "display_data"
    },
    {
     "name": "stdout",
     "output_type": "stream",
     "text": [
      "\n"
     ]
    },
    {
     "data": {
      "text/markdown": [
       "<span style='color:None;font-size:None'>**Alarme _(Alarm)_** lvl 1 - ritual<br></span><span style='color:None;font-size:13px'>&emsp;Escola(s): **musical**<br>&emsp;Tempo conjuração: **1 minuto**<br>&emsp;Alcance: **9 metros**<br>&emsp;Componentes: **VSM** _(um pequeno sino e um pequeno fio de prata)_<br>&emsp;Mana: **200**<br>&emsp;Duração: **8 horas**<br></span><span style='color:None;font-size:None'>Você coloca um alarme para intrusos desavisados.<br>&emsp;Escolha uma porta, uma janela ou uma área dentro do alcance que não seja maior que 6 metros cúbicos. Até a magia acabar, um alarme alerta você sempre que uma criatura Miúda ou maior tocarem ou entrarem na área protegida. Quando você conjura a magia, você pode designar as criaturas que não ativarão o alarme. Você também escolhe se o alarme será mental ou audível.<br>&emsp;Um alarme mental alerta você com um silvo na sua mente, se você estiver a até de 1,5 quilômetro da área protegida. Esse silvo acordará você se você estiver dormindo.<br>&emsp;Um alarme audível produz o som de um sino de mão por 10 minutos num raio de 18 metros. <br></span><span style='color:gray;font-size:11px'>[detecção, utilidade]<br></span><span style='color:gray;font-size:11px'>[bardo, bruxo, clérigo, guerreiro, ladino, mago, monge, paladino]<br></span><span style='color:gray;font-size:10px'>_LDJ_</span>"
      ],
      "text/plain": [
       "<IPython.core.display.Markdown object>"
      ]
     },
     "metadata": {},
     "output_type": "display_data"
    },
    {
     "name": "stdout",
     "output_type": "stream",
     "text": [
      "\n"
     ]
    },
    {
     "data": {
      "text/markdown": [
       "<span style='color:None;font-size:None'>**Amizade Animal _(Animal Friendship)_** lvl 1<br></span><span style='color:None;font-size:13px'>&emsp;Escola(s): **musical**<br>&emsp;Tempo conjuração: **1 ação**<br>&emsp;Alcance: **9 metros**<br>&emsp;Componentes: **VSM** _(um punhado de comida)_<br>&emsp;Mana: **200**<br>&emsp;Duração: **24 horas**<br>&emsp;Attack/Save: **WIS Save**<br></span><span style='color:None;font-size:None'>Essa magia deixa você convencer uma besta que você não quer prejudicar. Escolha uma besta que você possa ver dentro do alcance. Ela deve ver e ouvir você. Se a Inteligência da besta for 4 ou maior, a magia falha. Do contrário, a besta deve ser bem sucedida num teste de resistência de Sabedoria ou ficará enfeitiçada por você pela duração da magia. Se você ou um dos seus companheiros ferir o alvo, a magia termina.<br>&emsp;**Melhorar Magia**. A cada 400 de mana adicional que você gastar, você pode afetar uma besta adicional até o máximo de 5.<br></span><span style='color:gray;font-size:11px'>[controle, social]<br></span><span style='color:gray;font-size:11px'>[bardo, bruxo, clérigo, feiticeiro, guerreiro, ladino, mago, monge, paladino]<br></span><span style='color:gray;font-size:10px'>_LDJ_</span>"
      ],
      "text/plain": [
       "<IPython.core.display.Markdown object>"
      ]
     },
     "metadata": {},
     "output_type": "display_data"
    },
    {
     "name": "stdout",
     "output_type": "stream",
     "text": [
      "\n"
     ]
    },
    {
     "data": {
      "text/markdown": [
       "<span style='color:None;font-size:None'>**Armadura de Agathys _(Armor of Agathys)_** lvl 1<br></span><span style='color:None;font-size:13px'>&emsp;Escola(s): **elemental** (_água, terra, fogo, ar, luz, sombras, relâmpago, metal, veneno_)<br>&emsp;Tempo conjuração: **1 ação**<br>&emsp;Alcance: **pessoal**<br>&emsp;Componentes: **VS**<br>&emsp;Mana: **300**<br>&emsp;Duração: **1 hora**<br>&emsp;Dano: **5**<br>&emsp;Dmg effect: **elemental**<br></span><span style='color:None;font-size:None'>Uma força magica protetora envolve você, manifestando-se de acordo com o seu elemento. Você ganha 5 pontos de vida temporários pela duração. Se uma criatura atingir você com um ataque corpo-a-corpo enquanto estiver com esses pontos de vida, a criatura sofrerá 5 de dano elemental.<br>&emsp;**Melhorar Magia**. Para cada 500 de mana adicional gasto, tanto os pontos de vida temporários quanto o dano aumentam em 5.<br></span><span style='color:gray;font-size:11px'>[dano, defesa]<br></span><span style='color:gray;font-size:11px'>[bardo, bruxo, clérigo, feiticeiro, mago, monge, paladino]<br></span><span style='color:gray;font-size:10px'>_LDJ_</span>"
      ],
      "text/plain": [
       "<IPython.core.display.Markdown object>"
      ]
     },
     "metadata": {},
     "output_type": "display_data"
    },
    {
     "name": "stdout",
     "output_type": "stream",
     "text": [
      "\n"
     ]
    },
    {
     "data": {
      "text/markdown": [
       "<span style='color:None;font-size:None'>**Braços de Hadar _(Arms of Hadar)_** lvl 1<br></span><span style='color:None;font-size:13px'>&emsp;Escola(s): **elemental** (_sombras_)<br>&emsp;Tempo conjuração: **1 ação**<br>&emsp;Alcance: **3 metros**<br>&emsp;Componentes: **VS**<br>&emsp;Mana: **500**<br>&emsp;Duração: **instantânea**<br>&emsp;Dano: **2d6**<br>&emsp;Attack/Save: **STR Save**<br>&emsp;Dmg effect: **necrótico**<br></span><span style='color:None;font-size:None'>Você invoca o poder de Hadar, o Faminto Sombrio.<br>&emsp;Tentáculos de energia negra brotam de você e golpeiam todas as criaturas a até 3 metros de você. Cada criatura na área deve realizar um teste de resistência de Força. Se falhar, o alvo sofre 2d6 de dano necrótico e não pode fazer reações até o próximo turno dela. Em um sucesso, uma criatura sofre metade do dano e não sofre qualquer outro efeito.<br>&emsp;**Melhorar Magia.** Para cada 600 de mana adicionais gastos, o dano aumenta 1d6 até um máximo de 5d6 adicionais.<br></span><span style='color:gray;font-size:11px'>[dano]<br></span><span style='color:gray;font-size:11px'>[bardo, bruxo, clérigo, feiticeiro, guerreiro, ladino, mago, monge, paladino]<br></span><span style='color:gray;font-size:10px'>_LDJ_</span>"
      ],
      "text/plain": [
       "<IPython.core.display.Markdown object>"
      ]
     },
     "metadata": {},
     "output_type": "display_data"
    },
    {
     "name": "stdout",
     "output_type": "stream",
     "text": [
      "\n"
     ]
    },
    {
     "data": {
      "text/markdown": [
       "<span style='color:None;font-size:None'>**Perdição _(Bane)_** lvl 1<br></span><span style='color:None;font-size:13px'>&emsp;Escola(s): **musical**<br>&emsp;Tempo conjuração: **1 ação**<br>&emsp;Alcance: **9 metros**<br>&emsp;Componentes: **VSM** _(uma gota de sangue)_<br>&emsp;Mana: **350** (_+ 75 por turno_)<br>&emsp;Duração: **concentração, até 1 minuto**<br>&emsp;Attack/Save: **CHA Save**<br></span><span style='color:None;font-size:None'>Até três criaturas, à sua escolha, que você possa ver dentro do alcance, devem realizar um teste de resistência de Carisma. Sempre que um alvo que falhou nessa resistência realizar uma jogada de ataque ou um teste de resistência antes da magia acabar, o alvo deve rolar 1d4 e subtrair o valor rolado da jogada de ataque ou teste de resistência.<br>&emsp;**Melhorar Magia:** Para cada 500 de mana adicional gasto, mais uma criatura é afetada até um máximo de 5. Você pode gastar mais 500 para cada criatura criatura afetada para transformar o d4 em d6.<br></span><span style='color:gray;font-size:11px'>[debuff]<br></span><span style='color:gray;font-size:11px'>[bardo, bruxo, clérigo, feiticeiro, mago, paladino]<br></span><span style='color:gray;font-size:10px'>_LDJ_</span>"
      ],
      "text/plain": [
       "<IPython.core.display.Markdown object>"
      ]
     },
     "metadata": {},
     "output_type": "display_data"
    },
    {
     "name": "stdout",
     "output_type": "stream",
     "text": [
      "\n"
     ]
    },
    {
     "data": {
      "text/markdown": [
       "<span style='color:None;font-size:None'>**Vínculo com a Besta _(Beast Bond)_** lvl 1<br></span><span style='color:None;font-size:13px'>&emsp;Escola(s): **psíquica**<br>&emsp;Tempo conjuração: **1 ação**<br>&emsp;Alcance: **toque**<br>&emsp;Componentes: **VSM** _(um tufo de pelos envolto por um pano)_<br>&emsp;Mana: **150** (_+ 10 por minuto_)<br>&emsp;Duração: **concentração, até 10 minutos**<br></span><span style='color:None;font-size:None'>Você estabelece um elo telepático com uma besta que você tocar que seja amigável a você ou que esteja enfeitiçada por você. A magia falha se o valor de Inteligência da besta for 4 ou maior. Até a magia acabar, o elo permanece ativo contato que você e a besta tenham linha de visão um do outro. Através do elo, a besta pode compreender suas mensagens telepáticas para ela e pode comunicar telepaticamente emoções e conceitos simples de volta para você.<br>&emsp;Enquanto o elo estiver ativo, a besta ganha vantagem nas jogadas de ataque contra qualquer criatura a até 1,5 metros de você que você possa ver.<br></span><span style='color:gray;font-size:11px'>[buff, comunicação]<br></span><span style='color:gray;font-size:11px'>[bardo, bruxo, clérigo, feiticeiro, guerreiro, ladino, mago, monge, paladino]<br></span><span style='color:gray;font-size:10px'>_Xanathar_</span>"
      ],
      "text/plain": [
       "<IPython.core.display.Markdown object>"
      ]
     },
     "metadata": {},
     "output_type": "display_data"
    },
    {
     "name": "stdout",
     "output_type": "stream",
     "text": [
      "\n"
     ]
    },
    {
     "data": {
      "text/markdown": [
       "<span style='color:None;font-size:None'>**Bênção _(Bless)_** lvl 1<br></span><span style='color:None;font-size:13px'>&emsp;Escola(s): **elemental** (_água, luz_)<br>&emsp;Tempo conjuração: **1 ação**<br>&emsp;Alcance: **9 metros**<br>&emsp;Componentes: **VSM** _(um borrifo de água benta)_<br>&emsp;Mana: **300** (_+ 30 por turno_)<br>&emsp;Duração: **concentração, até 1 minuto**<br></span><span style='color:None;font-size:None'>Um texto longo pra k7 aqui<br></span><span style='color:gray;font-size:11px'>[buff]<br></span><span style='color:gray;font-size:11px'>[bardo, bruxo, clérigo, feiticeiro, mago, monge, paladino]<br></span><span style='color:gray;font-size:10px'>_LDJ_</span>"
      ],
      "text/plain": [
       "<IPython.core.display.Markdown object>"
      ]
     },
     "metadata": {},
     "output_type": "display_data"
    },
    {
     "name": "stdout",
     "output_type": "stream",
     "text": [
      "\n"
     ]
    },
    {
     "data": {
      "text/markdown": [
       "<span style='color:None;font-size:None'>**Mãos Flamejantes _(Burning Hands)_** lvl 1<br></span><span style='color:None;font-size:13px'>&emsp;Escola(s): **elemental** (_fogo, sombras, relâmpago, veneno_)<br>&emsp;Tempo conjuração: **1 ação**<br>&emsp;Alcance: **pessoal (cone de 4,5 metros)**<br>&emsp;Componentes: **VS**<br>&emsp;Mana: **400**<br>&emsp;Duração: **instantânea**<br>&emsp;Dano: **3d6**<br>&emsp;Attack/Save: **DEX Save**<br>&emsp;Dmg effect: **fogo**<br></span><span style='color:None;font-size:None'>Enquanto você mantiver suas mãos com os polegares juntos e os dedos abertos, uma fino leque de chamas emerge das pontas dos seus dedos erguidos. Cada criatura num cone de 4,5 metros deve realizar um teste de resistência de Destreza. Uma criatura sofre 3d6 de dano elemental se falhar no teste, ou metade desse dano se obtiver sucesso.<br>&emsp;O fogo incendeia qualquer objeto inflamável na área que não esteja sendo vestido ou carregado.<br>&emsp;**Melhorar Magia.** Para cada 500 de mana a mais gasto, adicione 1d6 ao dano até um máximo de 5 dados extras.<br></span><span style='color:gray;font-size:11px'>[dano]<br></span><span style='color:gray;font-size:11px'>[bardo, bruxo, clérigo, feiticeiro, guerreiro, ladino, mago, monge, paladino]<br></span><span style='color:gray;font-size:10px'>_LDJ_</span>"
      ],
      "text/plain": [
       "<IPython.core.display.Markdown object>"
      ]
     },
     "metadata": {},
     "output_type": "display_data"
    },
    {
     "name": "stdout",
     "output_type": "stream",
     "text": [
      "\n"
     ]
    },
    {
     "data": {
      "text/markdown": [
       "<span style='color:None;font-size:None'>**Catapulta _(Catapult)_** lvl 1<br></span><span style='color:None;font-size:13px'>&emsp;Escola(s): **elemental** (_terra, luz, sombras, metal_)<br>&emsp;Tempo conjuração: **1 ação**<br>&emsp;Alcance: **45 metros**<br>&emsp;Componentes: **S**<br>&emsp;Mana: **400**<br>&emsp;Duração: **instantânea**<br>&emsp;Dano: **3d8**<br>&emsp;Attack/Save: **DEX Save**<br>&emsp;Dmg effect: **concussão**<br></span><span style='color:None;font-size:None'>Você cria uma pedra pesando entre 0,5 e 2,5 quilos. A pedra voa em linha reta até 18 metros na direção que você escolher, antes de cair no chão, parando prematuramente se atingir uma superfície sólida. Se a pedra puder atingir uma criatura, a criatura deve realizar um teste de resistência de Destreza. Se falhar na resistência, a pedra atinge o alvo e para de se mover. Em qualquer caso, tanto a pedra quanto a criatura ou superfície sólida sofrem 3d8 de dano de concussão.<br>&emsp;**Melhorar Magia.** A cada 600 de mana adicional gasto, o peso total da pedra pode aumentar em 2,5 quilos e o dano aumenta em 1d8 com um máximo de 5d8 adicionais.<br></span><span style='color:gray;font-size:11px'>[controle, dano]<br></span><span style='color:gray;font-size:11px'>[bardo, bruxo, clérigo, feiticeiro, mago]<br></span><span style='color:gray;font-size:10px'>_Xanathar_</span>"
      ],
      "text/plain": [
       "<IPython.core.display.Markdown object>"
      ]
     },
     "metadata": {},
     "output_type": "display_data"
    },
    {
     "name": "stdout",
     "output_type": "stream",
     "text": [
      "\n"
     ]
    },
    {
     "data": {
      "text/markdown": [
       "<span style='color:None;font-size:None'>**Causar Medo _(Cause Fear)_** lvl 1<br></span><span style='color:None;font-size:13px'>&emsp;Escola(s): **psíquica**<br>&emsp;Tempo conjuração: **1 ação**<br>&emsp;Alcance: **18 metros**<br>&emsp;Componentes: **V**<br>&emsp;Mana: **250** (_+ 25 por turno_)<br>&emsp;Duração: **concentração, até 1 minuto**<br>&emsp;Dano: **1d6**<br>&emsp;Attack/Save: **WIS Save**<br>&emsp;Dmg effect: **amedrontado**<br></span><span style='color:None;font-size:None'>Você desperta o senso de mortalidade em uma criatura que você possa ver dentro do alcance. O alvo precisa ser bem sucedido em teste de resistência de Sabedoria ou se tornará amedrontada por você até que a magia termine. O alvo amedrontado pode repetir o teste de resistência ao fim de cada um de seus turnos, terminando o efeito em si mesmo com um sucesso.<br>&emsp;**Melhorar Magia.** Para cada 500 de mana adicionais gastos, você adiciona uma criatura extra como alvo, com um máximo de 7 alvos. As criaturas precisam estar a no máximo 9 metros uma da outra quando você as incluir como alvos.<br></span><span style='color:gray;font-size:11px'>[controle, debuff]<br></span><span style='color:gray;font-size:11px'>[bardo, bruxo, clérigo, feiticeiro, mago]<br></span><span style='color:gray;font-size:10px'>_Xanathar_</span>"
      ],
      "text/plain": [
       "<IPython.core.display.Markdown object>"
      ]
     },
     "metadata": {},
     "output_type": "display_data"
    },
    {
     "name": "stdout",
     "output_type": "stream",
     "text": [
      "\n"
     ]
    },
    {
     "data": {
      "text/markdown": [
       "<span style='color:None;font-size:None'>**Raio de Caos _(Chaos Boat)_** lvl 1<br></span><span style='color:None;font-size:13px'>&emsp;Escola(s): **elemental** (_água, terra, fogo, ar, luz, sombras, relâmpago, metal, veneno_)<br>&emsp;Tempo conjuração: **1 ação**<br>&emsp;Alcance: **36 metros**<br>&emsp;Componentes: **VS**<br>&emsp;Mana: **600**<br>&emsp;Duração: **instantânea**<br>&emsp;Dano: **2d8 + 1d6**<br>&emsp;Attack/Save: **distância**<br>&emsp;Dmg effect: **elemental**<br></span><span style='color:None;font-size:None'>Você conjura uma massa ondulante de energia caótica elemental em uma criatura no alcance. Faça um ataque a distância com magia contra o alvo. Se atingir, o alvo leva 2d8 + 1d6 de dano elemental.<br>&emsp;Se os dois d8 rolados possuírem o mesmo valor, então a energia caótica salta para um alvo dentro de 9 metros de distância a sua escolha. Faça uma nova rolagem de ataque a distância contra o novo e role novamente o dano, fazendo com que a magia possa novamente saltar para outro alvo.<br>&emsp;[Corpo-a-corpo] Você pode, ao invés de realizar um ataque à distância, utilizar uma arma corpo-a-corpo para fazer um ataque. Sua arma se enche dessa energia caótica e o efeito é o mesmo, mas a diferença é que o alvo inicial sofre 2d8 + o dano que sua arma possui naturalmente.<br>&emsp;**Melhorar Magia.** Para cada 500 adicionais de mana gasto, o dano da magia aumenta em 1d6, com um limite de 5d6 extras.<br></span><span style='color:gray;font-size:11px'>[dano]<br></span><span style='color:gray;font-size:11px'>[bardo, bruxo, clérigo, feiticeiro, guerreiro, ladino, mago, monge, paladino]<br></span><span style='color:gray;font-size:10px'>_Xanathar_</span>"
      ],
      "text/plain": [
       "<IPython.core.display.Markdown object>"
      ]
     },
     "metadata": {},
     "output_type": "display_data"
    },
    {
     "name": "stdout",
     "output_type": "stream",
     "text": [
      "\n"
     ]
    },
    {
     "data": {
      "text/markdown": [
       "<span style='color:None;font-size:None'>**Enfeitiçar Pessoa _(Charm Person)_** lvl 1<br></span><span style='color:None;font-size:13px'>&emsp;Escola(s): **psíquica, musical**<br>&emsp;Tempo conjuração: **1 ação**<br>&emsp;Alcance: **9 metros**<br>&emsp;Componentes: **VS**<br>&emsp;Mana: **400**<br>&emsp;Duração: **1 hora**<br>&emsp;Attack/Save: **WIS Save**<br>&emsp;Dmg effect: **enfeitiçado**<br></span><span style='color:None;font-size:None'>Você tenta enfeitiçar um humanoide que você possa ver dentro do alcance. Ele deve realizar um teste de resistência de Sabedoria, e recebe vantagem nesse teste se você ou seus companheiros estiverem lutando com ele.  Se ele falhar, ficará enfeitiçado por você até a magia acabar ou até você ou seus companheiros fizerem qualquer coisa nociva contra ele. A criatura enfeitiçada reconhece você como um conhecido amigável. Quando a magia acabar, a criatura saberá que foi enfeitiçada por você.<br>&emsp;**Melhorar Magia.** Para cada 500 de mana adicionais gastos, você pode afetar mais uma humanoide até um máximo de 5 humanoides. Para cada 500 de mana adicionais gastos por humanoide afetado, você pode extender o tempo de duração em 1 hora, até um máximo de 5 horas. Gastando 2500 de mana por humanoide afetado, você pode remover a parte da magia que fala que a criatura saberá que foi enfeitiçada por você.<br></span><span style='color:gray;font-size:11px'>[controle, debuff, social]<br></span><span style='color:gray;font-size:11px'>[bardo, bruxo, clérigo, feiticeiro, guerreiro, ladino, mago, monge, paladino]<br></span><span style='color:gray;font-size:10px'>_LDJ_</span>"
      ],
      "text/plain": [
       "<IPython.core.display.Markdown object>"
      ]
     },
     "metadata": {},
     "output_type": "display_data"
    },
    {
     "name": "stdout",
     "output_type": "stream",
     "text": [
      "\n"
     ]
    },
    {
     "data": {
      "text/markdown": [
       "<span style='color:None;font-size:None'>**Orbe Elemental _(Chromatic Orb)_** lvl 1<br></span><span style='color:None;font-size:13px'>&emsp;Escola(s): **elemental** (_água, terra, fogo, ar, luz, sombras, relâmpago, metal, veneno_)<br>&emsp;Tempo conjuração: **1 ação**<br>&emsp;Alcance: **27 metros**<br>&emsp;Componentes: **VS**<br>&emsp;Mana: **400**<br>&emsp;Duração: **instantânea**<br>&emsp;Dano: **3d8**<br>&emsp;Attack/Save: **distância**<br>&emsp;Dmg effect: **elemental**<br></span><span style='color:None;font-size:None'>Você arremessa uma esfera de energia elemental de 12 centímetros de diâmetro numa criatura que você possa ver dentro do alcance. Você realiza um ataque à distância com magia. Se o ataque atingir, a criatura sofre 3d8 de dano elemental. **Melhorar Magia.** Para cada 500 de mana adicional gasto, você pode adicionar 1d8 no dano até um máximo de 5d8 extras.<br></span><span style='color:gray;font-size:11px'>[dano]<br></span><span style='color:gray;font-size:11px'>[bardo, bruxo, feiticeiro, mago]<br></span><span style='color:gray;font-size:10px'>_LDJ_</span>"
      ],
      "text/plain": [
       "<IPython.core.display.Markdown object>"
      ]
     },
     "metadata": {},
     "output_type": "display_data"
    },
    {
     "name": "stdout",
     "output_type": "stream",
     "text": [
      "\n"
     ]
    },
    {
     "data": {
      "text/markdown": [
       "<span style='color:None;font-size:None'>**Flash _(Color Spray)_** lvl 1<br></span><span style='color:None;font-size:13px'>&emsp;Escola(s): **elemental** (_sombras_)<br>&emsp;Tempo conjuração: **1 ação**<br>&emsp;Alcance: **pessoal (cone de 4,5 metros)**<br>&emsp;Componentes: **VSM** _(um punhado de pó ou areia)_<br>&emsp;Mana: **300**<br>&emsp;Duração: **2 rodadas**<br>&emsp;Attack/Save: **WIS Save**<br>&emsp;Dmg effect: **amedrontado**<br></span><span style='color:None;font-size:None'>Um feixe de luzes negras surge da sua mão. Role 6d10; o total é a quantidade de pontos de vida de criaturas que essa magia pode afetar. As criaturas num cone de 4,5 metros, originado de você, são afetadas em ordem ascendente dos seus pontos de vida (ignorando criaturas inconsciente e que não podem ver).<br>&emsp;Começando com as criaturas que tiverem menos pontos de vida, cada criatura afetada por essa magia deve fazer um teste de Sabedoria CD 8 + seu modificador de magia. Se falhar, ficará amedrontada até o fim da magia. Subtraia os pontos de vida de cada criatura do total antes de considerar os pontos de vida da próxima criatura. Os pontos de vida de uma criatura devem ser iguais ou menores que o total restante para que essa criatura seja afetada<br>&emsp;**Melhorar Magia.** Você pode gastar 500 de mana adicionais para receber 2d10 extras até um limite de 10d10 extras. Você pode gastar 1500 de mana adicionais para fazer o efeito durar mais uma rodada até um máximo de 3 rodadas.<br></span><span style='color:gray;font-size:11px'>[controle, debuff]<br></span><span style='color:gray;font-size:11px'>[bardo, bruxo, clérigo, feiticeiro, guerreiro, ladino, mago, monge, paladino]<br></span><span style='color:gray;font-size:10px'>_LDJ_</span>"
      ],
      "text/plain": [
       "<IPython.core.display.Markdown object>"
      ]
     },
     "metadata": {},
     "output_type": "display_data"
    },
    {
     "name": "stdout",
     "output_type": "stream",
     "text": [
      "\n"
     ]
    },
    {
     "data": {
      "text/markdown": [
       "<span style='color:None;font-size:None'>**Flash _(Color Spray)_** lvl 1<br></span><span style='color:None;font-size:13px'>&emsp;Escola(s): **elemental** (_luz_)<br>&emsp;Tempo conjuração: **1 ação**<br>&emsp;Alcance: **pessoal (cone de 4,5 metros)**<br>&emsp;Componentes: **VSM** _(um punhado de pó ou areia)_<br>&emsp;Mana: **300**<br>&emsp;Duração: **1 rodada**<br>&emsp;Dmg effect: **cego**<br></span><span style='color:None;font-size:None'>Um feixe de luzes surge da sua mão. Role 6d10; o total é a quantidade de pontos de vida de criaturas que essa magia pode afetar. As criaturas num cone de 4,5 metros, originado de você, são afetadas em ordem ascendente dos seus pontos de vida (ignorando criaturas inconsciente e que não podem ver).<br>&emsp;Começando com as criaturas que tiverem menos pontos de vida, cada criatura afetada por essa magia ficará cega até o fim da magia. Subtraia os pontos de vida de cada criatura do total antes de considerar os pontos de vida da próxima criatura. Os pontos de vida de uma criatura devem ser iguais ou menores que o total restante para que essa criatura seja afetada<br>&emsp;**Melhorar Magia.** Você pode gastar 500 de mana adicionais para receber 2d10 extras até um limite de 10d10 extras. Você pode gastar 1500 de mana adicionais para fazer o efeito durar mais uma rodada até um máximo de 3 rodadas.<br></span><span style='color:gray;font-size:11px'>[controle, debuff]<br></span><span style='color:gray;font-size:11px'>[bardo, bruxo, clérigo, feiticeiro, guerreiro, ladino, mago, monge, paladino]<br></span><span style='color:gray;font-size:10px'>_LDJ_</span>"
      ],
      "text/plain": [
       "<IPython.core.display.Markdown object>"
      ]
     },
     "metadata": {},
     "output_type": "display_data"
    },
    {
     "name": "stdout",
     "output_type": "stream",
     "text": [
      "\n"
     ]
    },
    {
     "data": {
      "text/markdown": [
       "<span style='color:None;font-size:None'>**Comando _(Command)_** lvl 1<br></span><span style='color:None;font-size:13px'>&emsp;Escola(s): **psíquica**<br>&emsp;Tempo conjuração: **1 ação**<br>&emsp;Alcance: **pessoal**<br>&emsp;Componentes: **V**<br>&emsp;Mana: **300**<br>&emsp;Duração: **instantânea**<br>&emsp;Attack/Save: **WIS Save**<br></span><span style='color:None;font-size:None'>Você pronuncia uma palavra de comando para uma criatura que você possa ver dentro do alcance. O alvo deve ser bem sucedido num teste de resistência de Sabedoria ou seguirá seu comando no próximo turno dele. A magia não tem efeito se o alvo for um morto-vivo, se ele não entender seu idioma ou se o comando for diretamente nocivo a ele.<br>&emsp;Alguns comandos típicos e seus efeitos a seguir. Você pode proferir um comando diferente dos descritos aqui. Se o fizer, o Mestre descreve como o alvo reage. Se o alvo não puder cumprir o comando, a magia termina. <br>&emsp;__Aproxime-se.__ O alvo se move para próximo de você o máximo que puder na rota mais direta, terminando seu turno, se ele se mover a até 1,5 metro de você.<br>&emsp;__Largue.__ O alvo larga o que quer que ele esteja segurando, e termina seu turno.<br>&emsp;__Fuja.__ O alvo gasta seu turno se movendo para longe de você da forma mais rápida que puder.<br>&emsp;__Deite-se.__ O alvo deita-se no chão e então, termina seu turno.<br>&emsp;__Parado.__ O alvo não se move e não realiza nenhuma ação. Uma criatura voadora continua no alto, considerando que ela seja capaz de fazê-lo. Se ela tiver que se mover para continuar no alto, ela voa a mínima distância necessária para permanecer no ar.<br>&emsp;**Melhorar Magia.** Você pode gastar 500 de mana extra para adicionar mais uma criatura como alvo. As criaturas devem estar a 9 metros entre si para serem afetadas.<br></span><span style='color:gray;font-size:11px'>[controle, social]<br></span><span style='color:gray;font-size:11px'>[bardo, bruxo, clérigo, feiticeiro, guerreiro, ladino, mago, monge, paladino]<br></span><span style='color:gray;font-size:10px'>_LDJ_</span>"
      ],
      "text/plain": [
       "<IPython.core.display.Markdown object>"
      ]
     },
     "metadata": {},
     "output_type": "display_data"
    },
    {
     "name": "stdout",
     "output_type": "stream",
     "text": [
      "\n"
     ]
    },
    {
     "data": {
      "text/markdown": [
       "<span style='color:None;font-size:None'>**Duelo Compelido _(Compelled Duel)_** lvl 1<br></span><span style='color:None;font-size:13px'>&emsp;Escola(s): **receita**<br>&emsp;Tempo conjuração: **1 ação**<br>&emsp;Alcance: **pessoal**<br>&emsp;Componentes: **VSM** _(um conjuro de ferramentas de adivinhação - como ossos, bastões de marfim, dentes ou runas esculpidas - no valor de 100 po e um objeto do lugar que você deseja encontrar)_<br>&emsp;Mana: **1000** (_+ 100 por hora_)<br>&emsp;Duração: **concentração, até 1 dia**<br></span><span style='color:None;font-size:None'>Essa magia permite que você encontre a rota física mais curta e direta para um local especifico estático, que você seja familiar, no mesmo plano de existência. Se você denominar um destino em outro plano de existência, um local que se mova (como uma fortaleza andante) ou um destino que não seja especifico (como “o covil do dragão verde”), a magia falha.<br>&emsp;Pela duração, contanto que você esteja no mesmo plano de existência do destino, você saberá o quão longe ele está e em que direção ele se encontra. Enquanto estiver viajando, sempre que você se deparar com uma escolha de trajetória no caminho, você automaticamente determina qual trajetória tem a rota mais curta e direta (mas não necessariamente a rota mais segura) para o destino<br></span><span style='color:gray;font-size:11px'>[utilidade]<br></span><span style='color:gray;font-size:11px'>[bardo, bruxo, clérigo, feiticeiro, guerreiro, ladino, mago, monge, paladino]<br></span><span style='color:gray;font-size:10px'>_LDJ_</span>"
      ],
      "text/plain": [
       "<IPython.core.display.Markdown object>"
      ]
     },
     "metadata": {},
     "output_type": "display_data"
    },
    {
     "name": "stdout",
     "output_type": "stream",
     "text": [
      "\n"
     ]
    },
    {
     "data": {
      "text/markdown": [
       "<span style='color:None;font-size:None'>**Compreender Idiomas _(Comprehend Languages)_** lvl 1 - ritual<br></span><span style='color:None;font-size:13px'>&emsp;Escola(s): **psíquica**<br>&emsp;Tempo conjuração: **1 ação**<br>&emsp;Alcance: **pessoal**<br>&emsp;Componentes: **VSM** _(uma pitada de fuligem e sal)_<br>&emsp;Mana: **350**<br>&emsp;Duração: **1 hora**<br></span><span style='color:None;font-size:None'>Pela duração, você compreende o significado literal de qualquer idioma falado que você ouvir. Você também compreende qualquer idioma escrito que vir, mas você deve tocar a superfície onde as palavras estão escritas.<br>&emsp;Leva, aproximadamente, 1 minuto para ler uma página de texto.<br>&emsp;Essa magia não decifra mensagens secretas em textos ou glifos, como um selo arcano, que não seja parte de um idioma escrito.<br></span><span style='color:gray;font-size:11px'>[social]<br></span><span style='color:gray;font-size:11px'>[bardo, bruxo, clérigo, feiticeiro, guerreiro, ladino, mago, monge, paladino]<br></span><span style='color:gray;font-size:10px'>_LDJ_</span>"
      ],
      "text/plain": [
       "<IPython.core.display.Markdown object>"
      ]
     },
     "metadata": {},
     "output_type": "display_data"
    },
    {
     "name": "stdout",
     "output_type": "stream",
     "text": [
      "\n"
     ]
    },
    {
     "data": {
      "text/markdown": [
       "<span style='color:None;font-size:None'>**Criar ou Destruir Água _(Create or Destroy Water)_** lvl 1<br></span><span style='color:None;font-size:13px'>&emsp;Escola(s): **elemental** (_água_)<br>&emsp;Tempo conjuração: **1 ação**<br>&emsp;Alcance: **9 metros**<br>&emsp;Componentes: **VSM** _(uma gota de água se estiver criando ou alguns grãos de areia se estiver destruindo)_<br>&emsp;Mana: **300**<br>&emsp;Duração: **instantânea**<br></span><span style='color:None;font-size:None'>Você pode tanto criar quanto destruir água.<br>&emsp;**Criar Água.** Você cria 30 litros de água limpa dentro do alcance, em um recipiente aberto. Alternativamente, a água pode cair como chuva em um cubo de 9 metros dentro do alcance, extinguindo chamas expostas na área.<br>&emsp;**Destruir Água.** Você destrói até 30 litros de água de um recipiente aberto dentro do alcance. Alternativamente, você pode destruir um nevoeiro em um cubo de 9 metros dentro do alcance.<br>&emsp;**Melhorar Magia.** Você pode adicionais mais 30 litros de água para cada 500 de mana gastos até um total de 150 litro adicionais máximos. Você pode aumentar o tamanho do cubo em 1,5 para cada 500 de mana gastos adicionalmente até um máximo de 7,5 metros.<br></span><span style='color:gray;font-size:11px'>[controle, utilidade]<br></span><span style='color:gray;font-size:11px'>[bardo, bruxo, clérigo, feiticeiro, guerreiro, ladino, mago, monge, paladino]<br></span><span style='color:gray;font-size:10px'>_LDJ_</span>"
      ],
      "text/plain": [
       "<IPython.core.display.Markdown object>"
      ]
     },
     "metadata": {},
     "output_type": "display_data"
    },
    {
     "name": "stdout",
     "output_type": "stream",
     "text": [
      "\n"
     ]
    },
    {
     "data": {
      "text/markdown": [
       "<span style='color:None;font-size:None'>**Curar Ferimentos _(Cure Wounds)_** lvl 1<br></span><span style='color:None;font-size:13px'>&emsp;Escola(s): **elemental** (_água, luz_)<br>&emsp;Tempo conjuração: **1 ação**<br>&emsp;Alcance: **toque**<br>&emsp;Componentes: **VS**<br>&emsp;Mana: **350**<br>&emsp;Duração: **instantânea**<br>&emsp;Dano: **1d8 + mod**<br></span><span style='color:None;font-size:None'>Uma criatura que você tocar recupera uma quantidade de pontos de vida igual a 1d8 + seu modificador de habilidade de conjuração. Essa magia não produz efeito em mortos-vivos ou constructos.<br>&emsp;**Melhorar Magia** Para cada 500 adicionais de mana gastos, a cura aumenta em 1d8 até um máximo de 5d8.<br></span><span style='color:gray;font-size:11px'>[cura]<br></span><span style='color:gray;font-size:11px'>[bardo, bruxo, clérigo, feiticeiro, mago, monge, paladino]<br></span><span style='color:gray;font-size:10px'>_LDJ_</span>"
      ],
      "text/plain": [
       "<IPython.core.display.Markdown object>"
      ]
     },
     "metadata": {},
     "output_type": "display_data"
    },
    {
     "name": "stdout",
     "output_type": "stream",
     "text": [
      "\n"
     ]
    },
    {
     "data": {
      "text/markdown": [
       "<span style='color:None;font-size:None'>**Detectar o Bem e Mal _(Detect Evil and Good)_** lvl 1<br></span><span style='color:None;font-size:13px'>&emsp;Escola(s): **receita**<br>&emsp;Tempo conjuração: **1 ação**<br>&emsp;Alcance: **9 metros**<br>&emsp;Componentes: **VS**<br>&emsp;Mana: **200** (_+ 10 por minuto_)<br>&emsp;Duração: **concentração, até 10 minutos**<br></span><span style='color:None;font-size:None'>Pela duração, você sabe se existe uma aberração, celestial, corruptor, elemental, fada ou morto-vivo, a até 9 metros de você, assim como onde a criatura está localizada. Similarmente, você sabe se existe um local ou objeto, a até 9 metros de você, que tenha sido consagrado ou profanado magicamente.<br>&emsp;A magia pode penetrar a maioria das barreiras, mas é bloqueada por 30 centímetros de rocha, 2,5 centímetros de metal comum, uma fina camada de chumbo, ou 90 centímetros de madeira ou terra.<br></span><span style='color:gray;font-size:11px'>[detecção]<br></span><span style='color:gray;font-size:11px'>[bardo, bruxo, clérigo, feiticeiro, guerreiro, ladino, mago, monge, paladino]<br></span><span style='color:gray;font-size:10px'>_LDJ_</span>"
      ],
      "text/plain": [
       "<IPython.core.display.Markdown object>"
      ]
     },
     "metadata": {},
     "output_type": "display_data"
    },
    {
     "name": "stdout",
     "output_type": "stream",
     "text": [
      "\n"
     ]
    },
    {
     "data": {
      "text/markdown": [
       "<span style='color:None;font-size:None'>**Detectar Magia _(Detect Magic)_** lvl 1<br></span><span style='color:None;font-size:13px'>&emsp;Escola(s): **receita**<br>&emsp;Tempo conjuração: **1 ação**<br>&emsp;Alcance: **9 metros**<br>&emsp;Componentes: **VS**<br>&emsp;Mana: **200** (_+ 10 por minuto_)<br>&emsp;Duração: **concentração, até 10 minutos**<br></span><span style='color:None;font-size:None'>Pela duração, você sente a presença de magia a até 9 metros de você. Se você sentir magia dessa forma, você pode usar sua ação para ver uma aura suave em volta de qualquer criatura ou objeto visível, na área que carrega magia, e você descobre a escolha de magia, se houver uma.<br>&emsp;A magia pode penetrar a maioria das barreiras, mas é bloqueada por 30 centímetros de rocha, 2,5 centímetros de metal comum, uma fina camada de chumbo, ou 90 centímetros de madeira ou terra.<br></span><span style='color:gray;font-size:11px'>[detecção]<br></span><span style='color:gray;font-size:11px'>[bardo, bruxo, clérigo, feiticeiro, guerreiro, ladino, mago, monge, paladino]<br></span><span style='color:gray;font-size:10px'>_LDJ_</span>"
      ],
      "text/plain": [
       "<IPython.core.display.Markdown object>"
      ]
     },
     "metadata": {},
     "output_type": "display_data"
    },
    {
     "name": "stdout",
     "output_type": "stream",
     "text": [
      "\n"
     ]
    },
    {
     "data": {
      "text/markdown": [
       "<span style='color:None;font-size:None'>**Detectar Veneno e Doença _(Detect Poison and Disease)_** lvl 1<br></span><span style='color:None;font-size:13px'>&emsp;Escola(s): **receita**<br>&emsp;Tempo conjuração: **1 ação**<br>&emsp;Alcance: **9 metros**<br>&emsp;Componentes: **VS**<br>&emsp;Mana: **200** (_+ 10 por minuto_)<br>&emsp;Duração: **concentração, até 10 minutos**<br></span><span style='color:None;font-size:None'>Pela duração, você sente a presença e localização de venenos, criaturas venenosas e doenças a até 9 metros de você. Você também identifica o tipo de veneno, criatura venenosa ou doença em cada caso.<br>&emsp;A magia pode penetrar a maioria das barreiras, mas é bloqueada por 30 centímetros de rocha, 2,5 centímetros de metal comum, uma fina camada de chumbo, ou 90 centímetros de madeira ou terra.<br>&emsp;Ao utilizar a magia, role 1d20 e some seu modificador de conjuração. Se o veneno ou doença foi criado por um mago do veneno, sua rolagem deve dar 10 + o modificador de conjuração do mago para você detectar a presença e deve dar 15 + o modificador de conjuração do mago para você identificar o tipo.<br></span><span style='color:gray;font-size:11px'>[detecção]<br></span><span style='color:gray;font-size:11px'>[bardo, bruxo, clérigo, feiticeiro, guerreiro, ladino, mago, monge, paladino]<br></span><span style='color:gray;font-size:10px'>_LDJ_</span>"
      ],
      "text/plain": [
       "<IPython.core.display.Markdown object>"
      ]
     },
     "metadata": {},
     "output_type": "display_data"
    },
    {
     "name": "stdout",
     "output_type": "stream",
     "text": [
      "\n"
     ]
    },
    {
     "data": {
      "text/markdown": [
       "<span style='color:None;font-size:None'>**Disfarçar-se _(Disguise Self)_** lvl 1<br></span><span style='color:None;font-size:13px'>&emsp;Escola(s): **ilusionista**<br>&emsp;Tempo conjuração: **1 ação**<br>&emsp;Alcance: **pessoal**<br>&emsp;Componentes: **VS**<br>&emsp;Mana: **200** (_+ 20 a cada 10 minutos_)<br>&emsp;Duração: **1 hora**<br>&emsp;Attack/Save: **INT Test**<br></span><span style='color:None;font-size:None'>Você faz com que você mesmo – incluindo suas roupas, armadura, armas e outros pertences no seu personagem – pareça diferente até a magia acabar ou até você usar sua ação para dispensa-la. Você pode se parecer 30 centímetros mais baixo ou mais alto, e pode parecer magro, gordo ou entre ambos. Você não pode mudar o tipo do seu corpo, portanto, você deve adotar uma forma que tenha a mesma disposição básica de membros. No mais, a extensão da sua ilusão cabe a você.<br>&emsp;As mudanças criadas por essa magia não conseguem se sustentar perante uma inspeção física. Por exemplo, se você usar essa magia para adicionar um chapéu ao seu visual, objetos que passarem pelo chapéu e qualquer um que tocá-lo não sentirá nada ou sentirá sua cabeça e cabelo. Se você usar essa magia para aparentar ser mais magro do que é, a mão de alguém que a erguer para tocar em você, irá esbarrar em você enquanto ainda está, aparentemente, está no ar.<br>&emsp;Para perceber que você está disfarçado, uma criatura pode usar a ação dela para inspecionar sua aparência e deve ser bem sucedida em um teste de Inteligência (Investigação) contra a CD da sua magia<br></span><span style='color:gray;font-size:11px'>[dano]<br></span><span style='color:gray;font-size:11px'>[bardo, bruxo, clérigo, feiticeiro, guerreiro, ladino, mago, monge, paladino]<br></span><span style='color:gray;font-size:10px'>_LDJ_</span>"
      ],
      "text/plain": [
       "<IPython.core.display.Markdown object>"
      ]
     },
     "metadata": {},
     "output_type": "display_data"
    },
    {
     "name": "stdout",
     "output_type": "stream",
     "text": [
      "\n"
     ]
    },
    {
     "data": {
      "text/markdown": [
       "<span style='color:None;font-size:None'>**Sussorros Dissonantes _(Dissonant Whispers)_** lvl 1<br></span><span style='color:None;font-size:13px'>&emsp;Escola(s): **musical**<br>&emsp;Tempo conjuração: **1 ação**<br>&emsp;Alcance: **18 metros**<br>&emsp;Componentes: **V**<br>&emsp;Mana: **350**<br>&emsp;Duração: **instantânea**<br>&emsp;Dano: **3d6**<br>&emsp;Attack/Save: **WIS Save**<br>&emsp;Dmg effect: **psíquico**<br></span><span style='color:None;font-size:None'>Você sussurra uma melodia dissonante que apenas uma criatura, à sua escolha, dentro do alcance pode ouvir, causando-lhe uma terrível dor. O alvo deve realizar um teste de resistência de Sabedoria. Se falhar na resistência, ele sofrerá 3d6 de dano psíquico e deve, imediatamente, usar sua reação, se disponível, para se mover para o mais longe possível de você. A criatura não se moverá para um terreno obviamente perigoso, como uma fogueira ou abismo. Se obtiver sucesso na resistência, o alvo sofre metade do dano e não precisa se afastar de você. Uma criatura surda obtém sucesso automaticamente na sua resistência.<br>&emsp;**Melhorar Magia**. Você pode adicionar mais uma criatura, à sua escolha, dentro do alcance para cada 500 de mana até um máximo de 5 criaturas adicionais. Além disso, você pode adicionar mais 1d6 de dano para cada 500 de mana adicionais até um máximo de 5d6.<br></span><span style='color:gray;font-size:11px'>[controle, dano]<br></span><span style='color:gray;font-size:11px'>[bardo, bruxo, clérigo, feiticeiro, guerreiro, ladino, mago, monge, paladino]<br></span><span style='color:gray;font-size:10px'>_LDJ_</span>"
      ],
      "text/plain": [
       "<IPython.core.display.Markdown object>"
      ]
     },
     "metadata": {},
     "output_type": "display_data"
    },
    {
     "name": "stdout",
     "output_type": "stream",
     "text": [
      "\n"
     ]
    },
    {
     "data": {
      "text/markdown": [
       "<span style='color:None;font-size:None'>**Distorcer Valor _(Distort Value)_** lvl 1<br></span><span style='color:None;font-size:13px'>&emsp;Escola(s): **ilusionista**<br>&emsp;Tempo conjuração: **1 minuto**<br>&emsp;Alcance: **toque**<br>&emsp;Componentes: **V**<br>&emsp;Mana: **250**<br>&emsp;Duração: **8 horas**<br>&emsp;Attack/Save: **INT Save**<br></span><span style='color:None;font-size:None'>Você conjura essa magia em um objeto com não mais que 30 cm em qualquer dimensão e ou dobra o valor percebido do objeto ao adicionar um floreio ilusório ou reduz pela metade o valor percebido do objeto com amassados e arranhões ilusórios. Qualquer pessoa examinando o objeto deve rolar um Teste de Investigação contra seu CD de magia.<br>&emsp;**Melhorar Magia.** Você pode gastar mais 500 de mana para adicionar mais 30 cm de dimensão ao item.<br></span><span style='color:gray;font-size:11px'>[social, utilidade]<br></span><span style='color:gray;font-size:11px'>[bardo, bruxo, clérigo, feiticeiro, guerreiro, ladino, mago, monge, paladino]<br></span><span style='color:gray;font-size:10px'>_LDJ_</span>"
      ],
      "text/plain": [
       "<IPython.core.display.Markdown object>"
      ]
     },
     "metadata": {},
     "output_type": "display_data"
    },
    {
     "name": "stdout",
     "output_type": "stream",
     "text": [
      "\n"
     ]
    },
    {
     "data": {
      "text/markdown": [
       "<span style='color:None;font-size:None'>**Auxílio Elemental _(Divine Favor)_** lvl 1<br></span><span style='color:None;font-size:13px'>&emsp;Escola(s): **elemental** (_água, terra, fogo, ar, luz, sombras, relâmpago, metal, veneno_)<br>&emsp;Tempo conjuração: **1 ação bônus**<br>&emsp;Alcance: **pessoal**<br>&emsp;Componentes: **VS**<br>&emsp;Mana: **200**<br>&emsp;Duração: **concentração, até 1 minuto**<br>&emsp;Dano: **1d4**<br>&emsp;Dmg effect: **elemental**<br></span><span style='color:None;font-size:None'>Você conjura uma força elemental ao redor da sua arma, fraca mais nociva. Até o fim da magia, seus ataques com arma causam 1d4 de dano elemental extra ao atingirem.<br></span><span style='color:gray;font-size:11px'>[buff, dano]<br></span><span style='color:gray;font-size:11px'>[bardo, bruxo, clérigo, feiticeiro, guerreiro, ladino, mago, monge, paladino]<br></span><span style='color:gray;font-size:10px'>_LDJ_</span>"
      ],
      "text/plain": [
       "<IPython.core.display.Markdown object>"
      ]
     },
     "metadata": {},
     "output_type": "display_data"
    },
    {
     "name": "stdout",
     "output_type": "stream",
     "text": [
      "\n"
     ]
    },
    {
     "data": {
      "text/markdown": [
       "<span style='color:None;font-size:None'>**Tremor de Terra _(Earth Tremor)_** lvl 1<br></span><span style='color:None;font-size:13px'>&emsp;Escola(s): **elemental** (_terra, relâmpago_)<br>&emsp;Tempo conjuração: **1 ação**<br>&emsp;Alcance: **3 metros**<br>&emsp;Componentes: **VS**<br>&emsp;Mana: **350**<br>&emsp;Duração: **instantânea**<br>&emsp;Dano: **1d6**<br>&emsp;Attack/Save: **DEX Save**<br>&emsp;Dmg effect: **concussão**<br></span><span style='color:None;font-size:None'>Você causa um tremor no solo dentro do alcance. Toda criatura além de você deve fazer um Teste de Resistência de Destreza. Se falhar, a criatura recebe 1d6 de dano de concussão e cai no chão. Se o terreno for de terra solta ou pedra, ele se torna terreno difícil.<br>&emsp;**Melhorar Magia.** Você pode adicionar mais 500 de mana para adicionar mais 1d6 de dano até um máximo de 5d6 adicionais. Você pode adicionar mais 600 de mana para aumentar o alcance da magia em 1,5m até um máximo de 4,5m adicionais.<br></span><span style='color:gray;font-size:11px'>[combate, controle, dano]<br></span><span style='color:gray;font-size:11px'>[bardo, bruxo, clérigo, feiticeiro, guerreiro, ladino, mago, monge, paladino]<br></span><span style='color:gray;font-size:10px'>_Custom_</span>"
      ],
      "text/plain": [
       "<IPython.core.display.Markdown object>"
      ]
     },
     "metadata": {},
     "output_type": "display_data"
    },
    {
     "name": "stdout",
     "output_type": "stream",
     "text": [
      "\n"
     ]
    },
    {
     "data": {
      "text/markdown": [
       "<span style='color:None;font-size:None'>**Golpe Constritor _(Ensnaring Strike)_** lvl 1<br></span><span style='color:None;font-size:13px'>&emsp;Escola(s): **elemental** (_terra, sombras, relâmpago, metal, veneno_)<br>&emsp;Tempo conjuração: **1 ação bônus**<br>&emsp;Alcance: **pessoal**<br>&emsp;Componentes: **V**<br>&emsp;Mana: **400**<br>&emsp;Duração: **concentração, até 1 minuto**<br>&emsp;Dano: **1d6**<br>&emsp;Attack/Save: **STR Save**<br>&emsp;Dmg effect: **perfurante**<br></span><span style='color:None;font-size:None'>Da próxima vez que você atingir uma criatura com um ataque com arma, antes do final da magia, um emaranhado maciço de vinhas espinhentas elementais aparecem no local do impacto e o alvo deve ser bem sucedido num teste de resistência de Força ou ficará impedido pelas vinhas mágicas, até o fim da magia. Uma criatura Grande ou maior tem vantagem no seu teste de resistência. Se o alvo for bem sucedido na resistência, as vinhas murcharão.<br>&emsp;Enquanto estiver impedido pela magia, um alvo sofre 1d6 de dano perfurante no início de cada um dos turnos dele. Uma criatura impedida pelas vinhas ou uma que possa tocar a criatura, pode usar sua ação para realizar um teste de Força contra a CD da magia. Num sucesso, o alvo é libertado.<br>&emsp;**Melhorar Magia.** Você pode gastar 500 de mana extras para adicionar 1d6 no dano até um máximo de 5d6 adicionais.<br></span><span style='color:gray;font-size:11px'>[combate, controle, dano]<br></span><span style='color:gray;font-size:11px'>[ladino, monge, paladino]<br></span><span style='color:gray;font-size:10px'>_LDJ_</span>"
      ],
      "text/plain": [
       "<IPython.core.display.Markdown object>"
      ]
     },
     "metadata": {},
     "output_type": "display_data"
    },
    {
     "name": "stdout",
     "output_type": "stream",
     "text": [
      "\n"
     ]
    },
    {
     "data": {
      "text/markdown": [
       "<span style='color:None;font-size:None'>**Constrição _(Entangle)_** lvl 1<br></span><span style='color:None;font-size:13px'>&emsp;Escola(s): **elemental** (_terra, sombras, relâmpago, metal, veneno_)<br>&emsp;Tempo conjuração: **1 ação**<br>&emsp;Alcance: **27 metros**<br>&emsp;Componentes: **VS**<br>&emsp;Mana: **400**<br>&emsp;Duração: **concentração, até 1 minuto**<br>&emsp;Attack/Save: **STR Save**<br></span><span style='color:None;font-size:None'>Ervas e vinhas poderosas brotam do solo num quadrado de 6 metros a partir de um ponto dentro do alcance. Pela duração, essas plantas transformam o solo na área em terreno difícil.<br>&emsp;Uma criatura na área quando você conjurar a magia deve ser bem sucedida num teste de resistência de Força ou ficará impedida pelo emaranhado de plantas, até a magia acabar. Uma criatura impedida pelas plantas pode usar sua ação para realizar um teste de Força, contra a CD da magia. Se for bem sucedido, irá se libertar.<br>&emsp;Quando a magia termina, as plantas conjuradas murcharão.<br></span><span style='color:gray;font-size:11px'>[controle]<br></span><span style='color:gray;font-size:11px'>[bardo, bruxo, clérigo, feiticeiro, guerreiro, ladino, mago, monge, paladino]<br></span><span style='color:gray;font-size:10px'>_LDJ_</span>"
      ],
      "text/plain": [
       "<IPython.core.display.Markdown object>"
      ]
     },
     "metadata": {},
     "output_type": "display_data"
    },
    {
     "name": "stdout",
     "output_type": "stream",
     "text": [
      "\n"
     ]
    },
    {
     "data": {
      "text/markdown": [
       "<span style='color:None;font-size:None'>**Pés Leves (Recuo Acelerado) _(Expeditious Retreat)_** lvl 1<br></span><span style='color:None;font-size:13px'>&emsp;Escola(s): **elemental** (_ar, luz, relâmpago_)<br>&emsp;Tempo conjuração: **1 ação bônus**<br>&emsp;Alcance: **pessoal**<br>&emsp;Componentes: **VS**<br>&emsp;Mana: **100** (_+ 10 por minuto_)<br>&emsp;Duração: **concentração, até 10 minutos**<br></span><span style='color:None;font-size:None'>Essa magia permite que você se mova a um ritmo incrível. Quando você a conjura, a partir de então, você pode, com uma ação bônus em cada um de seus turnos até a magia terminar, realizar a ação de Disparada.<br></span><span style='color:gray;font-size:11px'>[buff]<br></span><span style='color:gray;font-size:11px'>[clérigo, guerreiro, ladino, monge, paladino]<br></span><span style='color:gray;font-size:10px'>_LDJ_</span>"
      ],
      "text/plain": [
       "<IPython.core.display.Markdown object>"
      ]
     },
     "metadata": {},
     "output_type": "display_data"
    },
    {
     "name": "stdout",
     "output_type": "stream",
     "text": [
      "\n"
     ]
    },
    {
     "data": {
      "text/markdown": [
       "<span style='color:None;font-size:None'>**Fogo das Fadas _(Faerie Fire)_** lvl 1<br></span><span style='color:None;font-size:13px'>&emsp;Escola(s): **elemental** (_luz_)<br>&emsp;Tempo conjuração: **1 ação**<br>&emsp;Alcance: **18 metros**<br>&emsp;Componentes: **V**<br>&emsp;Mana: **200** (_+ 10 por turno_)<br>&emsp;Duração: **concentração, até 1 minuto**<br>&emsp;Attack/Save: **DEX Save**<br></span><span style='color:None;font-size:None'>Cada objeto num cubo de 6 metros dentro do alcance fica delineado com luz azul, verde ou violeta (à sua escolha).<br>&emsp;Qualquer criatura na área, quando a magia é conjurada, também fica delineada com luz, se falhar num teste de resistência de Destreza. Pela duração, os objetos e criaturas afetadas emitem penumbra num raio de 3 metros.<br>&emsp;Qualquer jogada de ataque contra uma criatura afetada ou objeto tem vantagem, se o atacante puder ver o alvo e, a criatura afetada ou objeto não recebe benefício por estar invisível<br></span><span style='color:gray;font-size:11px'>[debuff]<br></span><span style='color:gray;font-size:11px'>[bardo, bruxo, clérigo, feiticeiro, guerreiro, ladino, mago, monge, paladino]<br></span><span style='color:gray;font-size:10px'>_LDJ_</span>"
      ],
      "text/plain": [
       "<IPython.core.display.Markdown object>"
      ]
     },
     "metadata": {},
     "output_type": "display_data"
    },
    {
     "name": "stdout",
     "output_type": "stream",
     "text": [
      "\n"
     ]
    },
    {
     "data": {
      "text/markdown": [
       "<span style='color:None;font-size:None'>**Falsa Vida _(False Life)_** lvl 1<br></span><span style='color:None;font-size:13px'>&emsp;Escola(s): **necromancia, elemental** (_sombras_)<br>&emsp;Tempo conjuração: **1 ação**<br>&emsp;Alcance: **pessoal**<br>&emsp;Componentes: **VSM** _(uma pequena quantidade de álcool)_<br>&emsp;Mana: **400**<br>&emsp;Duração: **1 hora**<br></span><span style='color:None;font-size:None'>Você envolve-se com uma aura sombria e ganha 1d4 + 4 pontos de vida temporários pela duração da magia.<br>&emsp;**Melhorar Magia.** Você pode gastar 500 extras para adicionar 5 pontos de vida até um máximo de 20 pontos de vida adicionais.<br></span><span style='color:gray;font-size:11px'>[buff]<br></span><span style='color:gray;font-size:11px'>[bardo, bruxo, clérigo, feiticeiro, guerreiro, ladino, mago, monge, paladino]<br></span><span style='color:gray;font-size:10px'>_LDJ_</span>"
      ],
      "text/plain": [
       "<IPython.core.display.Markdown object>"
      ]
     },
     "metadata": {},
     "output_type": "display_data"
    },
    {
     "name": "stdout",
     "output_type": "stream",
     "text": [
      "\n"
     ]
    }
   ],
   "source": [
    "from DFFilter import filter_df\n",
    "from SpellPrinter import print_spell, print_spells_for_df\n",
    "\n",
    "my_filter = {\n",
    "    #'elementos': 'fogo',\n",
    "    \"nivel\": 1\n",
    "}\n",
    "filtered_df = filter_df(spells_df, my_filter)\n",
    "\n",
    "print_spells_for_df(filtered_df)\n"
   ]
  },
  {
   "cell_type": "code",
   "execution_count": 3,
   "metadata": {},
   "outputs": [
    {
     "data": {
      "text/html": [
       "<div>\n",
       "<style scoped>\n",
       "    .dataframe tbody tr th:only-of-type {\n",
       "        vertical-align: middle;\n",
       "    }\n",
       "\n",
       "    .dataframe tbody tr th {\n",
       "        vertical-align: top;\n",
       "    }\n",
       "\n",
       "    .dataframe thead th {\n",
       "        text-align: right;\n",
       "    }\n",
       "</style>\n",
       "<table border=\"1\" class=\"dataframe\">\n",
       "  <thead>\n",
       "    <tr style=\"text-align: right;\">\n",
       "      <th></th>\n",
       "      <th>nome</th>\n",
       "      <th>name</th>\n",
       "      <th>nivel</th>\n",
       "      <th>escola</th>\n",
       "      <th>ritual</th>\n",
       "      <th>elementos</th>\n",
       "      <th>tempo_conjuracao</th>\n",
       "      <th>alcance_area</th>\n",
       "      <th>componentes</th>\n",
       "      <th>mana</th>\n",
       "      <th>duracao</th>\n",
       "      <th>attack_save</th>\n",
       "      <th>dmg_effect</th>\n",
       "      <th>dmg</th>\n",
       "      <th>classes</th>\n",
       "      <th>tags</th>\n",
       "      <th>descricao</th>\n",
       "      <th>source</th>\n",
       "      <th>mana_adicional</th>\n",
       "    </tr>\n",
       "  </thead>\n",
       "  <tbody>\n",
       "    <tr>\n",
       "      <th>0</th>\n",
       "      <td>Absorver Elementos</td>\n",
       "      <td>Absorve Elements</td>\n",
       "      <td>1</td>\n",
       "      <td>[elemental]</td>\n",
       "      <td>False</td>\n",
       "      <td>[sombras]</td>\n",
       "      <td>1 reação</td>\n",
       "      <td>pessoal</td>\n",
       "      <td>S</td>\n",
       "      <td>350</td>\n",
       "      <td>1 rodada</td>\n",
       "      <td>N/A</td>\n",
       "      <td>elemental</td>\n",
       "      <td>1d6</td>\n",
       "      <td>[clérigo, paladino]</td>\n",
       "      <td>[dano, defesa]</td>\n",
       "      <td>A magia reverte parte da energia recebida, min...</td>\n",
       "      <td>Xanathar</td>\n",
       "      <td>N/A</td>\n",
       "    </tr>\n",
       "    <tr>\n",
       "      <th>2</th>\n",
       "      <td>Alarme</td>\n",
       "      <td>Alarm</td>\n",
       "      <td>1</td>\n",
       "      <td>[musical]</td>\n",
       "      <td>True</td>\n",
       "      <td>[]</td>\n",
       "      <td>1 minuto</td>\n",
       "      <td>9 metros</td>\n",
       "      <td>VSM (um pequeno sino e um pequeno fio de prata)</td>\n",
       "      <td>200</td>\n",
       "      <td>8 horas</td>\n",
       "      <td>N/A</td>\n",
       "      <td>N/A</td>\n",
       "      <td>N/A</td>\n",
       "      <td>[clérigo, paladino, mago, bruxo, ladino, guerr...</td>\n",
       "      <td>[utilidade, detecção]</td>\n",
       "      <td>Você coloca um alarme para intrusos desavisado...</td>\n",
       "      <td>LDJ</td>\n",
       "      <td>N/A</td>\n",
       "    </tr>\n",
       "    <tr>\n",
       "      <th>3</th>\n",
       "      <td>Amizade Animal</td>\n",
       "      <td>Animal Friendship</td>\n",
       "      <td>1</td>\n",
       "      <td>[musical]</td>\n",
       "      <td>False</td>\n",
       "      <td>[]</td>\n",
       "      <td>1 ação</td>\n",
       "      <td>9 metros</td>\n",
       "      <td>VSM (um punhado de comida)</td>\n",
       "      <td>200</td>\n",
       "      <td>24 horas</td>\n",
       "      <td>WIS Save</td>\n",
       "      <td>N/A</td>\n",
       "      <td>N/A</td>\n",
       "      <td>[clérigo, paladino, ladino, guerreiro, bardo, ...</td>\n",
       "      <td>[controle, social]</td>\n",
       "      <td>Essa magia deixa você convencer uma besta que ...</td>\n",
       "      <td>LDJ</td>\n",
       "      <td>N/A</td>\n",
       "    </tr>\n",
       "    <tr>\n",
       "      <th>4</th>\n",
       "      <td>Armadura de Agathys</td>\n",
       "      <td>Armor of Agathys</td>\n",
       "      <td>1</td>\n",
       "      <td>[elemental]</td>\n",
       "      <td>False</td>\n",
       "      <td>[água, terra, fogo, ar, luz, sombras, relâmpag...</td>\n",
       "      <td>1 ação</td>\n",
       "      <td>pessoal</td>\n",
       "      <td>VS</td>\n",
       "      <td>300</td>\n",
       "      <td>1 hora</td>\n",
       "      <td>N/A</td>\n",
       "      <td>elemental</td>\n",
       "      <td>5</td>\n",
       "      <td>[clérigo, paladino, bardo, monge, mago, feitic...</td>\n",
       "      <td>[defesa, dano]</td>\n",
       "      <td>Uma força magica protetora envolve você, manif...</td>\n",
       "      <td>LDJ</td>\n",
       "      <td>N/A</td>\n",
       "    </tr>\n",
       "    <tr>\n",
       "      <th>5</th>\n",
       "      <td>Braços de Hadar</td>\n",
       "      <td>Arms of Hadar</td>\n",
       "      <td>1</td>\n",
       "      <td>[elemental]</td>\n",
       "      <td>False</td>\n",
       "      <td>[sombras]</td>\n",
       "      <td>1 ação</td>\n",
       "      <td>3 metros</td>\n",
       "      <td>VS</td>\n",
       "      <td>500</td>\n",
       "      <td>instantânea</td>\n",
       "      <td>STR Save</td>\n",
       "      <td>necrótico</td>\n",
       "      <td>2d6</td>\n",
       "      <td>[clérigo, paladino, ladino, guerreiro, bardo, ...</td>\n",
       "      <td>[dano]</td>\n",
       "      <td>Você invoca o poder de Hadar, o Faminto Sombri...</td>\n",
       "      <td>LDJ</td>\n",
       "      <td>N/A</td>\n",
       "    </tr>\n",
       "    <tr>\n",
       "      <th>6</th>\n",
       "      <td>Perdição</td>\n",
       "      <td>Bane</td>\n",
       "      <td>1</td>\n",
       "      <td>[musical]</td>\n",
       "      <td>False</td>\n",
       "      <td>[]</td>\n",
       "      <td>1 ação</td>\n",
       "      <td>9 metros</td>\n",
       "      <td>VSM (uma gota de sangue)</td>\n",
       "      <td>350</td>\n",
       "      <td>concentração, até 1 minuto</td>\n",
       "      <td>CHA Save</td>\n",
       "      <td>N/A</td>\n",
       "      <td>N/A</td>\n",
       "      <td>[clérigo, paladino, bardo, mago, feiticeiro, b...</td>\n",
       "      <td>[debuff]</td>\n",
       "      <td>Até três criaturas, à sua escolha, que você po...</td>\n",
       "      <td>LDJ</td>\n",
       "      <td>75 por turno</td>\n",
       "    </tr>\n",
       "    <tr>\n",
       "      <th>7</th>\n",
       "      <td>Vínculo com a Besta</td>\n",
       "      <td>Beast Bond</td>\n",
       "      <td>1</td>\n",
       "      <td>[psíquica]</td>\n",
       "      <td>False</td>\n",
       "      <td>[]</td>\n",
       "      <td>1 ação</td>\n",
       "      <td>toque</td>\n",
       "      <td>VSM (um tufo de pelos envolto por um pano)</td>\n",
       "      <td>150</td>\n",
       "      <td>concentração, até 10 minutos</td>\n",
       "      <td>N/A</td>\n",
       "      <td>N/A</td>\n",
       "      <td>N/A</td>\n",
       "      <td>[clérigo, paladino, ladino, guerreiro, bardo, ...</td>\n",
       "      <td>[comunicação, buff]</td>\n",
       "      <td>Você estabelece um elo telepático com uma best...</td>\n",
       "      <td>Xanathar</td>\n",
       "      <td>10 por minuto</td>\n",
       "    </tr>\n",
       "    <tr>\n",
       "      <th>9</th>\n",
       "      <td>Bênção</td>\n",
       "      <td>Bless</td>\n",
       "      <td>1</td>\n",
       "      <td>[elemental]</td>\n",
       "      <td>False</td>\n",
       "      <td>[água, luz]</td>\n",
       "      <td>1 ação</td>\n",
       "      <td>9 metros</td>\n",
       "      <td>VSM (um borrifo de água benta)</td>\n",
       "      <td>300</td>\n",
       "      <td>concentração, até 1 minuto</td>\n",
       "      <td>N/A</td>\n",
       "      <td>N/A</td>\n",
       "      <td>N/A</td>\n",
       "      <td>[clérigo, paladino, bardo, monge, mago, feitic...</td>\n",
       "      <td>[buff]</td>\n",
       "      <td>Um texto longo pra k7 aqui</td>\n",
       "      <td>LDJ</td>\n",
       "      <td>30 por turno</td>\n",
       "    </tr>\n",
       "    <tr>\n",
       "      <th>11</th>\n",
       "      <td>Mãos Flamejantes</td>\n",
       "      <td>Burning Hands</td>\n",
       "      <td>1</td>\n",
       "      <td>[elemental]</td>\n",
       "      <td>False</td>\n",
       "      <td>[fogo, sombras, relâmpago, veneno]</td>\n",
       "      <td>1 ação</td>\n",
       "      <td>pessoal (cone de 4,5 metros)</td>\n",
       "      <td>VS</td>\n",
       "      <td>400</td>\n",
       "      <td>instantânea</td>\n",
       "      <td>DEX Save</td>\n",
       "      <td>fogo</td>\n",
       "      <td>3d6</td>\n",
       "      <td>[clérigo, paladino, ladino, guerreiro, bardo, ...</td>\n",
       "      <td>[dano]</td>\n",
       "      <td>Enquanto você mantiver suas mãos com os polega...</td>\n",
       "      <td>LDJ</td>\n",
       "      <td>N/A</td>\n",
       "    </tr>\n",
       "    <tr>\n",
       "      <th>12</th>\n",
       "      <td>Catapulta</td>\n",
       "      <td>Catapult</td>\n",
       "      <td>1</td>\n",
       "      <td>[elemental]</td>\n",
       "      <td>False</td>\n",
       "      <td>[terra, luz, sombras, metal]</td>\n",
       "      <td>1 ação</td>\n",
       "      <td>45 metros</td>\n",
       "      <td>S</td>\n",
       "      <td>400</td>\n",
       "      <td>instantânea</td>\n",
       "      <td>DEX Save</td>\n",
       "      <td>concussão</td>\n",
       "      <td>3d8</td>\n",
       "      <td>[clérigo, bardo, mago, feiticeiro, bruxo]</td>\n",
       "      <td>[dano, controle]</td>\n",
       "      <td>Você cria uma pedra pesando entre 0,5 e 2,5 qu...</td>\n",
       "      <td>Xanathar</td>\n",
       "      <td>N/A</td>\n",
       "    </tr>\n",
       "    <tr>\n",
       "      <th>13</th>\n",
       "      <td>Causar Medo</td>\n",
       "      <td>Cause Fear</td>\n",
       "      <td>1</td>\n",
       "      <td>[psíquica]</td>\n",
       "      <td>False</td>\n",
       "      <td>[]</td>\n",
       "      <td>1 ação</td>\n",
       "      <td>18 metros</td>\n",
       "      <td>V</td>\n",
       "      <td>250</td>\n",
       "      <td>concentração, até 1 minuto</td>\n",
       "      <td>WIS Save</td>\n",
       "      <td>amedrontado</td>\n",
       "      <td>1d6</td>\n",
       "      <td>[clérigo, bardo, mago, feiticeiro, bruxo]</td>\n",
       "      <td>[controle, debuff]</td>\n",
       "      <td>Você desperta o senso de mortalidade em uma cr...</td>\n",
       "      <td>Xanathar</td>\n",
       "      <td>25 por turno</td>\n",
       "    </tr>\n",
       "    <tr>\n",
       "      <th>14</th>\n",
       "      <td>Raio de Caos</td>\n",
       "      <td>Chaos Boat</td>\n",
       "      <td>1</td>\n",
       "      <td>[elemental]</td>\n",
       "      <td>False</td>\n",
       "      <td>[água, terra, fogo, ar, luz, sombras, relâmpag...</td>\n",
       "      <td>1 ação</td>\n",
       "      <td>36 metros</td>\n",
       "      <td>VS</td>\n",
       "      <td>600</td>\n",
       "      <td>instantânea</td>\n",
       "      <td>distância</td>\n",
       "      <td>elemental</td>\n",
       "      <td>2d8 + 1d6</td>\n",
       "      <td>[clérigo, paladino, ladino, guerreiro, bardo, ...</td>\n",
       "      <td>[dano]</td>\n",
       "      <td>Você conjura uma massa ondulante de energia ca...</td>\n",
       "      <td>Xanathar</td>\n",
       "      <td>N/A</td>\n",
       "    </tr>\n",
       "    <tr>\n",
       "      <th>15</th>\n",
       "      <td>Enfeitiçar Pessoa</td>\n",
       "      <td>Charm Person</td>\n",
       "      <td>1</td>\n",
       "      <td>[psíquica, musical]</td>\n",
       "      <td>False</td>\n",
       "      <td>[]</td>\n",
       "      <td>1 ação</td>\n",
       "      <td>9 metros</td>\n",
       "      <td>VS</td>\n",
       "      <td>400</td>\n",
       "      <td>1 hora</td>\n",
       "      <td>WIS Save</td>\n",
       "      <td>enfeitiçado</td>\n",
       "      <td>N/A</td>\n",
       "      <td>[clérigo, paladino, ladino, guerreiro, bardo, ...</td>\n",
       "      <td>[controle, debuff, social]</td>\n",
       "      <td>Você tenta enfeitiçar um humanoide que você po...</td>\n",
       "      <td>LDJ</td>\n",
       "      <td>N/A</td>\n",
       "    </tr>\n",
       "    <tr>\n",
       "      <th>17</th>\n",
       "      <td>Orbe Elemental</td>\n",
       "      <td>Chromatic Orb</td>\n",
       "      <td>1</td>\n",
       "      <td>[elemental]</td>\n",
       "      <td>False</td>\n",
       "      <td>[água, terra, fogo, ar, luz, sombras, relâmpag...</td>\n",
       "      <td>1 ação</td>\n",
       "      <td>27 metros</td>\n",
       "      <td>VS</td>\n",
       "      <td>400</td>\n",
       "      <td>instantânea</td>\n",
       "      <td>distância</td>\n",
       "      <td>elemental</td>\n",
       "      <td>3d8</td>\n",
       "      <td>[bardo, mago, feiticeiro, bruxo]</td>\n",
       "      <td>[dano]</td>\n",
       "      <td>Você arremessa uma esfera de energia elemental...</td>\n",
       "      <td>LDJ</td>\n",
       "      <td>N/A</td>\n",
       "    </tr>\n",
       "    <tr>\n",
       "      <th>18</th>\n",
       "      <td>Flash</td>\n",
       "      <td>Color Spray</td>\n",
       "      <td>1</td>\n",
       "      <td>[elemental]</td>\n",
       "      <td>False</td>\n",
       "      <td>[sombras]</td>\n",
       "      <td>1 ação</td>\n",
       "      <td>pessoal (cone de 4,5 metros)</td>\n",
       "      <td>VSM (um punhado de pó ou areia)</td>\n",
       "      <td>300</td>\n",
       "      <td>2 rodadas</td>\n",
       "      <td>WIS Save</td>\n",
       "      <td>amedrontado</td>\n",
       "      <td>N/A</td>\n",
       "      <td>[clérigo, paladino, ladino, guerreiro, bardo, ...</td>\n",
       "      <td>[controle, debuff]</td>\n",
       "      <td>Um feixe de luzes negras surge da sua mão. Rol...</td>\n",
       "      <td>LDJ</td>\n",
       "      <td>N/A</td>\n",
       "    </tr>\n",
       "    <tr>\n",
       "      <th>19</th>\n",
       "      <td>Flash</td>\n",
       "      <td>Color Spray</td>\n",
       "      <td>1</td>\n",
       "      <td>[elemental]</td>\n",
       "      <td>False</td>\n",
       "      <td>[luz]</td>\n",
       "      <td>1 ação</td>\n",
       "      <td>pessoal (cone de 4,5 metros)</td>\n",
       "      <td>VSM (um punhado de pó ou areia)</td>\n",
       "      <td>300</td>\n",
       "      <td>1 rodada</td>\n",
       "      <td>N/A</td>\n",
       "      <td>cego</td>\n",
       "      <td>N/A</td>\n",
       "      <td>[clérigo, paladino, ladino, guerreiro, bardo, ...</td>\n",
       "      <td>[controle, debuff]</td>\n",
       "      <td>Um feixe de luzes surge da sua mão. Role 6d10;...</td>\n",
       "      <td>LDJ</td>\n",
       "      <td>N/A</td>\n",
       "    </tr>\n",
       "    <tr>\n",
       "      <th>20</th>\n",
       "      <td>Comando</td>\n",
       "      <td>Command</td>\n",
       "      <td>1</td>\n",
       "      <td>[psíquica]</td>\n",
       "      <td>False</td>\n",
       "      <td>[]</td>\n",
       "      <td>1 ação</td>\n",
       "      <td>pessoal</td>\n",
       "      <td>V</td>\n",
       "      <td>300</td>\n",
       "      <td>instantânea</td>\n",
       "      <td>WIS Save</td>\n",
       "      <td>N/A</td>\n",
       "      <td>N/A</td>\n",
       "      <td>[clérigo, paladino, ladino, guerreiro, bardo, ...</td>\n",
       "      <td>[social, controle]</td>\n",
       "      <td>Você pronuncia uma palavra de comando para uma...</td>\n",
       "      <td>LDJ</td>\n",
       "      <td>N/A</td>\n",
       "    </tr>\n",
       "    <tr>\n",
       "      <th>21</th>\n",
       "      <td>Duelo Compelido</td>\n",
       "      <td>Compelled Duel</td>\n",
       "      <td>1</td>\n",
       "      <td>[receita]</td>\n",
       "      <td>False</td>\n",
       "      <td>[]</td>\n",
       "      <td>1 ação</td>\n",
       "      <td>pessoal</td>\n",
       "      <td>VSM (um conjuro de ferramentas de adivinhação ...</td>\n",
       "      <td>1000</td>\n",
       "      <td>concentração, até 1 dia</td>\n",
       "      <td>N/A</td>\n",
       "      <td>N/A</td>\n",
       "      <td>N/A</td>\n",
       "      <td>[clérigo, paladino, ladino, guerreiro, bardo, ...</td>\n",
       "      <td>[utilidade]</td>\n",
       "      <td>Essa magia permite que você encontre a rota fí...</td>\n",
       "      <td>LDJ</td>\n",
       "      <td>100 por hora</td>\n",
       "    </tr>\n",
       "    <tr>\n",
       "      <th>22</th>\n",
       "      <td>Compreender Idiomas</td>\n",
       "      <td>Comprehend Languages</td>\n",
       "      <td>1</td>\n",
       "      <td>[psíquica]</td>\n",
       "      <td>True</td>\n",
       "      <td>[]</td>\n",
       "      <td>1 ação</td>\n",
       "      <td>pessoal</td>\n",
       "      <td>VSM (uma pitada de fuligem e sal)</td>\n",
       "      <td>350</td>\n",
       "      <td>1 hora</td>\n",
       "      <td>N/A</td>\n",
       "      <td>N/A</td>\n",
       "      <td>N/A</td>\n",
       "      <td>[clérigo, paladino, ladino, guerreiro, bardo, ...</td>\n",
       "      <td>[social]</td>\n",
       "      <td>Pela duração, você compreende o significado li...</td>\n",
       "      <td>LDJ</td>\n",
       "      <td>N/A</td>\n",
       "    </tr>\n",
       "    <tr>\n",
       "      <th>26</th>\n",
       "      <td>Criar ou Destruir Água</td>\n",
       "      <td>Create or Destroy Water</td>\n",
       "      <td>1</td>\n",
       "      <td>[elemental]</td>\n",
       "      <td>False</td>\n",
       "      <td>[água]</td>\n",
       "      <td>1 ação</td>\n",
       "      <td>9 metros</td>\n",
       "      <td>VSM (uma gota de água se estiver criando ou al...</td>\n",
       "      <td>300</td>\n",
       "      <td>instantânea</td>\n",
       "      <td>N/A</td>\n",
       "      <td>N/A</td>\n",
       "      <td>N/A</td>\n",
       "      <td>[clérigo, paladino, ladino, guerreiro, bardo, ...</td>\n",
       "      <td>[utilidade, controle]</td>\n",
       "      <td>Você pode tanto criar quanto destruir água.\\n\\...</td>\n",
       "      <td>LDJ</td>\n",
       "      <td>N/A</td>\n",
       "    </tr>\n",
       "    <tr>\n",
       "      <th>27</th>\n",
       "      <td>Curar Ferimentos</td>\n",
       "      <td>Cure Wounds</td>\n",
       "      <td>1</td>\n",
       "      <td>[elemental]</td>\n",
       "      <td>False</td>\n",
       "      <td>[água, luz]</td>\n",
       "      <td>1 ação</td>\n",
       "      <td>toque</td>\n",
       "      <td>VS</td>\n",
       "      <td>350</td>\n",
       "      <td>instantânea</td>\n",
       "      <td>N/A</td>\n",
       "      <td>N/A</td>\n",
       "      <td>1d8 + mod</td>\n",
       "      <td>[clérigo, paladino, bardo, monge, mago, feitic...</td>\n",
       "      <td>[cura]</td>\n",
       "      <td>Uma criatura que você tocar recupera uma quant...</td>\n",
       "      <td>LDJ</td>\n",
       "      <td>N/A</td>\n",
       "    </tr>\n",
       "    <tr>\n",
       "      <th>29</th>\n",
       "      <td>Detectar o Bem e Mal</td>\n",
       "      <td>Detect Evil and Good</td>\n",
       "      <td>1</td>\n",
       "      <td>[receita]</td>\n",
       "      <td>False</td>\n",
       "      <td>[]</td>\n",
       "      <td>1 ação</td>\n",
       "      <td>9 metros</td>\n",
       "      <td>VS</td>\n",
       "      <td>200</td>\n",
       "      <td>concentração, até 10 minutos</td>\n",
       "      <td>N/A</td>\n",
       "      <td>N/A</td>\n",
       "      <td>N/A</td>\n",
       "      <td>[clérigo, paladino, ladino, guerreiro, bardo, ...</td>\n",
       "      <td>[detecção]</td>\n",
       "      <td>Pela duração, você sabe se existe uma aberraçã...</td>\n",
       "      <td>LDJ</td>\n",
       "      <td>10 por minuto</td>\n",
       "    </tr>\n",
       "    <tr>\n",
       "      <th>30</th>\n",
       "      <td>Detectar Magia</td>\n",
       "      <td>Detect Magic</td>\n",
       "      <td>1</td>\n",
       "      <td>[receita]</td>\n",
       "      <td>False</td>\n",
       "      <td>[]</td>\n",
       "      <td>1 ação</td>\n",
       "      <td>9 metros</td>\n",
       "      <td>VS</td>\n",
       "      <td>200</td>\n",
       "      <td>concentração, até 10 minutos</td>\n",
       "      <td>N/A</td>\n",
       "      <td>N/A</td>\n",
       "      <td>N/A</td>\n",
       "      <td>[clérigo, paladino, ladino, guerreiro, bardo, ...</td>\n",
       "      <td>[detecção]</td>\n",
       "      <td>Pela duração, você sente a presença de magia a...</td>\n",
       "      <td>LDJ</td>\n",
       "      <td>10 por minuto</td>\n",
       "    </tr>\n",
       "    <tr>\n",
       "      <th>31</th>\n",
       "      <td>Detectar Veneno e Doença</td>\n",
       "      <td>Detect Poison and Disease</td>\n",
       "      <td>1</td>\n",
       "      <td>[receita]</td>\n",
       "      <td>False</td>\n",
       "      <td>[]</td>\n",
       "      <td>1 ação</td>\n",
       "      <td>9 metros</td>\n",
       "      <td>VS</td>\n",
       "      <td>200</td>\n",
       "      <td>concentração, até 10 minutos</td>\n",
       "      <td>N/A</td>\n",
       "      <td>N/A</td>\n",
       "      <td>N/A</td>\n",
       "      <td>[clérigo, paladino, ladino, guerreiro, bardo, ...</td>\n",
       "      <td>[detecção]</td>\n",
       "      <td>Pela duração, você sente a presença e localiza...</td>\n",
       "      <td>LDJ</td>\n",
       "      <td>10 por minuto</td>\n",
       "    </tr>\n",
       "    <tr>\n",
       "      <th>32</th>\n",
       "      <td>Disfarçar-se</td>\n",
       "      <td>Disguise Self</td>\n",
       "      <td>1</td>\n",
       "      <td>[ilusionista]</td>\n",
       "      <td>False</td>\n",
       "      <td>[]</td>\n",
       "      <td>1 ação</td>\n",
       "      <td>pessoal</td>\n",
       "      <td>VS</td>\n",
       "      <td>200</td>\n",
       "      <td>1 hora</td>\n",
       "      <td>INT Test</td>\n",
       "      <td>N/A</td>\n",
       "      <td>N/A</td>\n",
       "      <td>[clérigo, paladino, ladino, guerreiro, bardo, ...</td>\n",
       "      <td>[dano]</td>\n",
       "      <td>Você faz com que você mesmo – incluindo suas r...</td>\n",
       "      <td>LDJ</td>\n",
       "      <td>20 a cada 10 minutos</td>\n",
       "    </tr>\n",
       "    <tr>\n",
       "      <th>33</th>\n",
       "      <td>Sussorros Dissonantes</td>\n",
       "      <td>Dissonant Whispers</td>\n",
       "      <td>1</td>\n",
       "      <td>[musical]</td>\n",
       "      <td>False</td>\n",
       "      <td>[]</td>\n",
       "      <td>1 ação</td>\n",
       "      <td>18 metros</td>\n",
       "      <td>V</td>\n",
       "      <td>350</td>\n",
       "      <td>instantânea</td>\n",
       "      <td>WIS Save</td>\n",
       "      <td>psíquico</td>\n",
       "      <td>3d6</td>\n",
       "      <td>[clérigo, paladino, ladino, guerreiro, bardo, ...</td>\n",
       "      <td>[dano, controle]</td>\n",
       "      <td>Você sussurra uma melodia dissonante que apena...</td>\n",
       "      <td>LDJ</td>\n",
       "      <td>N/A</td>\n",
       "    </tr>\n",
       "    <tr>\n",
       "      <th>34</th>\n",
       "      <td>Distorcer Valor</td>\n",
       "      <td>Distort Value</td>\n",
       "      <td>1</td>\n",
       "      <td>[ilusionista]</td>\n",
       "      <td>False</td>\n",
       "      <td>[]</td>\n",
       "      <td>1 minuto</td>\n",
       "      <td>toque</td>\n",
       "      <td>V</td>\n",
       "      <td>250</td>\n",
       "      <td>8 horas</td>\n",
       "      <td>INT Save</td>\n",
       "      <td>N/A</td>\n",
       "      <td>N/A</td>\n",
       "      <td>[clérigo, paladino, ladino, guerreiro, bardo, ...</td>\n",
       "      <td>[social, utilidade]</td>\n",
       "      <td>Você conjura essa magia em um objeto com não m...</td>\n",
       "      <td>LDJ</td>\n",
       "      <td>N/A</td>\n",
       "    </tr>\n",
       "    <tr>\n",
       "      <th>35</th>\n",
       "      <td>Auxílio Elemental</td>\n",
       "      <td>Divine Favor</td>\n",
       "      <td>1</td>\n",
       "      <td>[elemental]</td>\n",
       "      <td>False</td>\n",
       "      <td>[água, terra, fogo, ar, luz, sombras, relâmpag...</td>\n",
       "      <td>1 ação bônus</td>\n",
       "      <td>pessoal</td>\n",
       "      <td>VS</td>\n",
       "      <td>200</td>\n",
       "      <td>concentração, até 1 minuto</td>\n",
       "      <td>N/A</td>\n",
       "      <td>elemental</td>\n",
       "      <td>1d4</td>\n",
       "      <td>[clérigo, paladino, ladino, guerreiro, bardo, ...</td>\n",
       "      <td>[dano, buff]</td>\n",
       "      <td>Você conjura uma força elemental ao redor da s...</td>\n",
       "      <td>LDJ</td>\n",
       "      <td>N/A</td>\n",
       "    </tr>\n",
       "    <tr>\n",
       "      <th>36</th>\n",
       "      <td>Tremor de Terra</td>\n",
       "      <td>Earth Tremor</td>\n",
       "      <td>1</td>\n",
       "      <td>[elemental]</td>\n",
       "      <td>False</td>\n",
       "      <td>[terra, relâmpago]</td>\n",
       "      <td>1 ação</td>\n",
       "      <td>3 metros</td>\n",
       "      <td>VS</td>\n",
       "      <td>350</td>\n",
       "      <td>instantânea</td>\n",
       "      <td>DEX Save</td>\n",
       "      <td>concussão</td>\n",
       "      <td>1d6</td>\n",
       "      <td>[clérigo, paladino, ladino, guerreiro, bardo, ...</td>\n",
       "      <td>[dano, controle, combate]</td>\n",
       "      <td>Você causa um tremor no solo dentro do alcance...</td>\n",
       "      <td>Custom</td>\n",
       "      <td>N/A</td>\n",
       "    </tr>\n",
       "    <tr>\n",
       "      <th>38</th>\n",
       "      <td>Golpe Constritor</td>\n",
       "      <td>Ensnaring Strike</td>\n",
       "      <td>1</td>\n",
       "      <td>[elemental]</td>\n",
       "      <td>False</td>\n",
       "      <td>[terra, sombras, relâmpago, metal, veneno]</td>\n",
       "      <td>1 ação bônus</td>\n",
       "      <td>pessoal</td>\n",
       "      <td>V</td>\n",
       "      <td>400</td>\n",
       "      <td>concentração, até 1 minuto</td>\n",
       "      <td>STR Save</td>\n",
       "      <td>perfurante</td>\n",
       "      <td>1d6</td>\n",
       "      <td>[paladino, ladino, monge]</td>\n",
       "      <td>[dano, controle, combate]</td>\n",
       "      <td>Da próxima vez que você atingir uma criatura c...</td>\n",
       "      <td>LDJ</td>\n",
       "      <td>N/A</td>\n",
       "    </tr>\n",
       "    <tr>\n",
       "      <th>39</th>\n",
       "      <td>Constrição</td>\n",
       "      <td>Entangle</td>\n",
       "      <td>1</td>\n",
       "      <td>[elemental]</td>\n",
       "      <td>False</td>\n",
       "      <td>[terra, sombras, relâmpago, metal, veneno]</td>\n",
       "      <td>1 ação</td>\n",
       "      <td>27 metros</td>\n",
       "      <td>VS</td>\n",
       "      <td>400</td>\n",
       "      <td>concentração, até 1 minuto</td>\n",
       "      <td>STR Save</td>\n",
       "      <td>N/A</td>\n",
       "      <td>N/A</td>\n",
       "      <td>[clérigo, paladino, ladino, guerreiro, bardo, ...</td>\n",
       "      <td>[controle]</td>\n",
       "      <td>Ervas e vinhas poderosas brotam do solo num qu...</td>\n",
       "      <td>LDJ</td>\n",
       "      <td>N/A</td>\n",
       "    </tr>\n",
       "    <tr>\n",
       "      <th>40</th>\n",
       "      <td>Pés Leves (Recuo Acelerado)</td>\n",
       "      <td>Expeditious Retreat</td>\n",
       "      <td>1</td>\n",
       "      <td>[elemental]</td>\n",
       "      <td>False</td>\n",
       "      <td>[ar, luz, relâmpago]</td>\n",
       "      <td>1 ação bônus</td>\n",
       "      <td>pessoal</td>\n",
       "      <td>VS</td>\n",
       "      <td>100</td>\n",
       "      <td>concentração, até 10 minutos</td>\n",
       "      <td>N/A</td>\n",
       "      <td>N/A</td>\n",
       "      <td>N/A</td>\n",
       "      <td>[clérigo, paladino, ladino, guerreiro, monge]</td>\n",
       "      <td>[buff]</td>\n",
       "      <td>Essa magia permite que você se mova a um ritmo...</td>\n",
       "      <td>LDJ</td>\n",
       "      <td>10 por minuto</td>\n",
       "    </tr>\n",
       "    <tr>\n",
       "      <th>41</th>\n",
       "      <td>Fogo das Fadas</td>\n",
       "      <td>Faerie Fire</td>\n",
       "      <td>1</td>\n",
       "      <td>[elemental]</td>\n",
       "      <td>False</td>\n",
       "      <td>[luz]</td>\n",
       "      <td>1 ação</td>\n",
       "      <td>18 metros</td>\n",
       "      <td>V</td>\n",
       "      <td>200</td>\n",
       "      <td>concentração, até 1 minuto</td>\n",
       "      <td>DEX Save</td>\n",
       "      <td>N/A</td>\n",
       "      <td>N/A</td>\n",
       "      <td>[clérigo, paladino, ladino, guerreiro, bardo, ...</td>\n",
       "      <td>[debuff]</td>\n",
       "      <td>Cada objeto num cubo de 6 metros dentro do alc...</td>\n",
       "      <td>LDJ</td>\n",
       "      <td>10 por turno</td>\n",
       "    </tr>\n",
       "    <tr>\n",
       "      <th>42</th>\n",
       "      <td>Falsa Vida</td>\n",
       "      <td>False Life</td>\n",
       "      <td>1</td>\n",
       "      <td>[necromancia, elemental]</td>\n",
       "      <td>False</td>\n",
       "      <td>[sombras]</td>\n",
       "      <td>1 ação</td>\n",
       "      <td>pessoal</td>\n",
       "      <td>VSM (uma pequena quantidade de álcool)</td>\n",
       "      <td>400</td>\n",
       "      <td>1 hora</td>\n",
       "      <td>N/A</td>\n",
       "      <td>N/A</td>\n",
       "      <td>N/A</td>\n",
       "      <td>[clérigo, paladino, ladino, guerreiro, bardo, ...</td>\n",
       "      <td>[buff]</td>\n",
       "      <td>Você envolve-se com uma aura sombria e ganha 1...</td>\n",
       "      <td>LDJ</td>\n",
       "      <td>N/A</td>\n",
       "    </tr>\n",
       "  </tbody>\n",
       "</table>\n",
       "</div>"
      ],
      "text/plain": [
       "                           nome                       name  nivel  \\\n",
       "0            Absorver Elementos           Absorve Elements      1   \n",
       "2                        Alarme                      Alarm      1   \n",
       "3                Amizade Animal          Animal Friendship      1   \n",
       "4           Armadura de Agathys           Armor of Agathys      1   \n",
       "5               Braços de Hadar              Arms of Hadar      1   \n",
       "6                      Perdição                       Bane      1   \n",
       "7           Vínculo com a Besta                 Beast Bond      1   \n",
       "9                        Bênção                      Bless      1   \n",
       "11             Mãos Flamejantes              Burning Hands      1   \n",
       "12                    Catapulta                   Catapult      1   \n",
       "13                  Causar Medo                 Cause Fear      1   \n",
       "14                 Raio de Caos                 Chaos Boat      1   \n",
       "15            Enfeitiçar Pessoa               Charm Person      1   \n",
       "17               Orbe Elemental              Chromatic Orb      1   \n",
       "18                        Flash                Color Spray      1   \n",
       "19                        Flash                Color Spray      1   \n",
       "20                      Comando                    Command      1   \n",
       "21              Duelo Compelido             Compelled Duel      1   \n",
       "22          Compreender Idiomas       Comprehend Languages      1   \n",
       "26       Criar ou Destruir Água    Create or Destroy Water      1   \n",
       "27             Curar Ferimentos                Cure Wounds      1   \n",
       "29         Detectar o Bem e Mal       Detect Evil and Good      1   \n",
       "30               Detectar Magia               Detect Magic      1   \n",
       "31     Detectar Veneno e Doença  Detect Poison and Disease      1   \n",
       "32                 Disfarçar-se              Disguise Self      1   \n",
       "33        Sussorros Dissonantes         Dissonant Whispers      1   \n",
       "34              Distorcer Valor              Distort Value      1   \n",
       "35            Auxílio Elemental               Divine Favor      1   \n",
       "36              Tremor de Terra               Earth Tremor      1   \n",
       "38             Golpe Constritor           Ensnaring Strike      1   \n",
       "39                   Constrição                   Entangle      1   \n",
       "40  Pés Leves (Recuo Acelerado)        Expeditious Retreat      1   \n",
       "41               Fogo das Fadas                Faerie Fire      1   \n",
       "42                   Falsa Vida                 False Life      1   \n",
       "\n",
       "                      escola  ritual  \\\n",
       "0                [elemental]   False   \n",
       "2                  [musical]    True   \n",
       "3                  [musical]   False   \n",
       "4                [elemental]   False   \n",
       "5                [elemental]   False   \n",
       "6                  [musical]   False   \n",
       "7                 [psíquica]   False   \n",
       "9                [elemental]   False   \n",
       "11               [elemental]   False   \n",
       "12               [elemental]   False   \n",
       "13                [psíquica]   False   \n",
       "14               [elemental]   False   \n",
       "15       [psíquica, musical]   False   \n",
       "17               [elemental]   False   \n",
       "18               [elemental]   False   \n",
       "19               [elemental]   False   \n",
       "20                [psíquica]   False   \n",
       "21                 [receita]   False   \n",
       "22                [psíquica]    True   \n",
       "26               [elemental]   False   \n",
       "27               [elemental]   False   \n",
       "29                 [receita]   False   \n",
       "30                 [receita]   False   \n",
       "31                 [receita]   False   \n",
       "32             [ilusionista]   False   \n",
       "33                 [musical]   False   \n",
       "34             [ilusionista]   False   \n",
       "35               [elemental]   False   \n",
       "36               [elemental]   False   \n",
       "38               [elemental]   False   \n",
       "39               [elemental]   False   \n",
       "40               [elemental]   False   \n",
       "41               [elemental]   False   \n",
       "42  [necromancia, elemental]   False   \n",
       "\n",
       "                                            elementos tempo_conjuracao  \\\n",
       "0                                           [sombras]         1 reação   \n",
       "2                                                  []         1 minuto   \n",
       "3                                                  []           1 ação   \n",
       "4   [água, terra, fogo, ar, luz, sombras, relâmpag...           1 ação   \n",
       "5                                           [sombras]           1 ação   \n",
       "6                                                  []           1 ação   \n",
       "7                                                  []           1 ação   \n",
       "9                                         [água, luz]           1 ação   \n",
       "11                 [fogo, sombras, relâmpago, veneno]           1 ação   \n",
       "12                       [terra, luz, sombras, metal]           1 ação   \n",
       "13                                                 []           1 ação   \n",
       "14  [água, terra, fogo, ar, luz, sombras, relâmpag...           1 ação   \n",
       "15                                                 []           1 ação   \n",
       "17  [água, terra, fogo, ar, luz, sombras, relâmpag...           1 ação   \n",
       "18                                          [sombras]           1 ação   \n",
       "19                                              [luz]           1 ação   \n",
       "20                                                 []           1 ação   \n",
       "21                                                 []           1 ação   \n",
       "22                                                 []           1 ação   \n",
       "26                                             [água]           1 ação   \n",
       "27                                        [água, luz]           1 ação   \n",
       "29                                                 []           1 ação   \n",
       "30                                                 []           1 ação   \n",
       "31                                                 []           1 ação   \n",
       "32                                                 []           1 ação   \n",
       "33                                                 []           1 ação   \n",
       "34                                                 []         1 minuto   \n",
       "35  [água, terra, fogo, ar, luz, sombras, relâmpag...     1 ação bônus   \n",
       "36                                 [terra, relâmpago]           1 ação   \n",
       "38         [terra, sombras, relâmpago, metal, veneno]     1 ação bônus   \n",
       "39         [terra, sombras, relâmpago, metal, veneno]           1 ação   \n",
       "40                               [ar, luz, relâmpago]     1 ação bônus   \n",
       "41                                              [luz]           1 ação   \n",
       "42                                          [sombras]           1 ação   \n",
       "\n",
       "                    alcance_area  \\\n",
       "0                        pessoal   \n",
       "2                       9 metros   \n",
       "3                       9 metros   \n",
       "4                        pessoal   \n",
       "5                       3 metros   \n",
       "6                       9 metros   \n",
       "7                          toque   \n",
       "9                       9 metros   \n",
       "11  pessoal (cone de 4,5 metros)   \n",
       "12                     45 metros   \n",
       "13                     18 metros   \n",
       "14                     36 metros   \n",
       "15                      9 metros   \n",
       "17                     27 metros   \n",
       "18  pessoal (cone de 4,5 metros)   \n",
       "19  pessoal (cone de 4,5 metros)   \n",
       "20                       pessoal   \n",
       "21                       pessoal   \n",
       "22                       pessoal   \n",
       "26                      9 metros   \n",
       "27                         toque   \n",
       "29                      9 metros   \n",
       "30                      9 metros   \n",
       "31                      9 metros   \n",
       "32                       pessoal   \n",
       "33                     18 metros   \n",
       "34                         toque   \n",
       "35                       pessoal   \n",
       "36                      3 metros   \n",
       "38                       pessoal   \n",
       "39                     27 metros   \n",
       "40                       pessoal   \n",
       "41                     18 metros   \n",
       "42                       pessoal   \n",
       "\n",
       "                                          componentes  mana  \\\n",
       "0                                                   S   350   \n",
       "2     VSM (um pequeno sino e um pequeno fio de prata)   200   \n",
       "3                          VSM (um punhado de comida)   200   \n",
       "4                                                  VS   300   \n",
       "5                                                  VS   500   \n",
       "6                            VSM (uma gota de sangue)   350   \n",
       "7          VSM (um tufo de pelos envolto por um pano)   150   \n",
       "9                      VSM (um borrifo de água benta)   300   \n",
       "11                                                 VS   400   \n",
       "12                                                  S   400   \n",
       "13                                                  V   250   \n",
       "14                                                 VS   600   \n",
       "15                                                 VS   400   \n",
       "17                                                 VS   400   \n",
       "18                    VSM (um punhado de pó ou areia)   300   \n",
       "19                    VSM (um punhado de pó ou areia)   300   \n",
       "20                                                  V   300   \n",
       "21  VSM (um conjuro de ferramentas de adivinhação ...  1000   \n",
       "22                  VSM (uma pitada de fuligem e sal)   350   \n",
       "26  VSM (uma gota de água se estiver criando ou al...   300   \n",
       "27                                                 VS   350   \n",
       "29                                                 VS   200   \n",
       "30                                                 VS   200   \n",
       "31                                                 VS   200   \n",
       "32                                                 VS   200   \n",
       "33                                                  V   350   \n",
       "34                                                  V   250   \n",
       "35                                                 VS   200   \n",
       "36                                                 VS   350   \n",
       "38                                                  V   400   \n",
       "39                                                 VS   400   \n",
       "40                                                 VS   100   \n",
       "41                                                  V   200   \n",
       "42             VSM (uma pequena quantidade de álcool)   400   \n",
       "\n",
       "                         duracao attack_save   dmg_effect        dmg  \\\n",
       "0                       1 rodada         N/A    elemental        1d6   \n",
       "2                        8 horas         N/A          N/A        N/A   \n",
       "3                       24 horas    WIS Save          N/A        N/A   \n",
       "4                         1 hora         N/A    elemental          5   \n",
       "5                    instantânea    STR Save    necrótico        2d6   \n",
       "6     concentração, até 1 minuto    CHA Save          N/A        N/A   \n",
       "7   concentração, até 10 minutos         N/A          N/A        N/A   \n",
       "9     concentração, até 1 minuto         N/A          N/A        N/A   \n",
       "11                   instantânea    DEX Save         fogo        3d6   \n",
       "12                   instantânea    DEX Save    concussão        3d8   \n",
       "13    concentração, até 1 minuto    WIS Save  amedrontado        1d6   \n",
       "14                   instantânea   distância    elemental  2d8 + 1d6   \n",
       "15                        1 hora    WIS Save  enfeitiçado        N/A   \n",
       "17                   instantânea   distância    elemental        3d8   \n",
       "18                     2 rodadas    WIS Save  amedrontado        N/A   \n",
       "19                      1 rodada         N/A         cego        N/A   \n",
       "20                   instantânea    WIS Save          N/A        N/A   \n",
       "21       concentração, até 1 dia         N/A          N/A        N/A   \n",
       "22                        1 hora         N/A          N/A        N/A   \n",
       "26                   instantânea         N/A          N/A        N/A   \n",
       "27                   instantânea         N/A          N/A  1d8 + mod   \n",
       "29  concentração, até 10 minutos         N/A          N/A        N/A   \n",
       "30  concentração, até 10 minutos         N/A          N/A        N/A   \n",
       "31  concentração, até 10 minutos         N/A          N/A        N/A   \n",
       "32                        1 hora    INT Test          N/A        N/A   \n",
       "33                   instantânea    WIS Save     psíquico        3d6   \n",
       "34                       8 horas    INT Save          N/A        N/A   \n",
       "35    concentração, até 1 minuto         N/A    elemental        1d4   \n",
       "36                   instantânea    DEX Save    concussão        1d6   \n",
       "38    concentração, até 1 minuto    STR Save   perfurante        1d6   \n",
       "39    concentração, até 1 minuto    STR Save          N/A        N/A   \n",
       "40  concentração, até 10 minutos         N/A          N/A        N/A   \n",
       "41    concentração, até 1 minuto    DEX Save          N/A        N/A   \n",
       "42                        1 hora         N/A          N/A        N/A   \n",
       "\n",
       "                                              classes  \\\n",
       "0                                 [clérigo, paladino]   \n",
       "2   [clérigo, paladino, mago, bruxo, ladino, guerr...   \n",
       "3   [clérigo, paladino, ladino, guerreiro, bardo, ...   \n",
       "4   [clérigo, paladino, bardo, monge, mago, feitic...   \n",
       "5   [clérigo, paladino, ladino, guerreiro, bardo, ...   \n",
       "6   [clérigo, paladino, bardo, mago, feiticeiro, b...   \n",
       "7   [clérigo, paladino, ladino, guerreiro, bardo, ...   \n",
       "9   [clérigo, paladino, bardo, monge, mago, feitic...   \n",
       "11  [clérigo, paladino, ladino, guerreiro, bardo, ...   \n",
       "12          [clérigo, bardo, mago, feiticeiro, bruxo]   \n",
       "13          [clérigo, bardo, mago, feiticeiro, bruxo]   \n",
       "14  [clérigo, paladino, ladino, guerreiro, bardo, ...   \n",
       "15  [clérigo, paladino, ladino, guerreiro, bardo, ...   \n",
       "17                   [bardo, mago, feiticeiro, bruxo]   \n",
       "18  [clérigo, paladino, ladino, guerreiro, bardo, ...   \n",
       "19  [clérigo, paladino, ladino, guerreiro, bardo, ...   \n",
       "20  [clérigo, paladino, ladino, guerreiro, bardo, ...   \n",
       "21  [clérigo, paladino, ladino, guerreiro, bardo, ...   \n",
       "22  [clérigo, paladino, ladino, guerreiro, bardo, ...   \n",
       "26  [clérigo, paladino, ladino, guerreiro, bardo, ...   \n",
       "27  [clérigo, paladino, bardo, monge, mago, feitic...   \n",
       "29  [clérigo, paladino, ladino, guerreiro, bardo, ...   \n",
       "30  [clérigo, paladino, ladino, guerreiro, bardo, ...   \n",
       "31  [clérigo, paladino, ladino, guerreiro, bardo, ...   \n",
       "32  [clérigo, paladino, ladino, guerreiro, bardo, ...   \n",
       "33  [clérigo, paladino, ladino, guerreiro, bardo, ...   \n",
       "34  [clérigo, paladino, ladino, guerreiro, bardo, ...   \n",
       "35  [clérigo, paladino, ladino, guerreiro, bardo, ...   \n",
       "36  [clérigo, paladino, ladino, guerreiro, bardo, ...   \n",
       "38                          [paladino, ladino, monge]   \n",
       "39  [clérigo, paladino, ladino, guerreiro, bardo, ...   \n",
       "40      [clérigo, paladino, ladino, guerreiro, monge]   \n",
       "41  [clérigo, paladino, ladino, guerreiro, bardo, ...   \n",
       "42  [clérigo, paladino, ladino, guerreiro, bardo, ...   \n",
       "\n",
       "                          tags  \\\n",
       "0               [dano, defesa]   \n",
       "2        [utilidade, detecção]   \n",
       "3           [controle, social]   \n",
       "4               [defesa, dano]   \n",
       "5                       [dano]   \n",
       "6                     [debuff]   \n",
       "7          [comunicação, buff]   \n",
       "9                       [buff]   \n",
       "11                      [dano]   \n",
       "12            [dano, controle]   \n",
       "13          [controle, debuff]   \n",
       "14                      [dano]   \n",
       "15  [controle, debuff, social]   \n",
       "17                      [dano]   \n",
       "18          [controle, debuff]   \n",
       "19          [controle, debuff]   \n",
       "20          [social, controle]   \n",
       "21                 [utilidade]   \n",
       "22                    [social]   \n",
       "26       [utilidade, controle]   \n",
       "27                      [cura]   \n",
       "29                  [detecção]   \n",
       "30                  [detecção]   \n",
       "31                  [detecção]   \n",
       "32                      [dano]   \n",
       "33            [dano, controle]   \n",
       "34         [social, utilidade]   \n",
       "35                [dano, buff]   \n",
       "36   [dano, controle, combate]   \n",
       "38   [dano, controle, combate]   \n",
       "39                  [controle]   \n",
       "40                      [buff]   \n",
       "41                    [debuff]   \n",
       "42                      [buff]   \n",
       "\n",
       "                                            descricao    source  \\\n",
       "0   A magia reverte parte da energia recebida, min...  Xanathar   \n",
       "2   Você coloca um alarme para intrusos desavisado...       LDJ   \n",
       "3   Essa magia deixa você convencer uma besta que ...       LDJ   \n",
       "4   Uma força magica protetora envolve você, manif...       LDJ   \n",
       "5   Você invoca o poder de Hadar, o Faminto Sombri...       LDJ   \n",
       "6   Até três criaturas, à sua escolha, que você po...       LDJ   \n",
       "7   Você estabelece um elo telepático com uma best...  Xanathar   \n",
       "9                          Um texto longo pra k7 aqui       LDJ   \n",
       "11  Enquanto você mantiver suas mãos com os polega...       LDJ   \n",
       "12  Você cria uma pedra pesando entre 0,5 e 2,5 qu...  Xanathar   \n",
       "13  Você desperta o senso de mortalidade em uma cr...  Xanathar   \n",
       "14  Você conjura uma massa ondulante de energia ca...  Xanathar   \n",
       "15  Você tenta enfeitiçar um humanoide que você po...       LDJ   \n",
       "17  Você arremessa uma esfera de energia elemental...       LDJ   \n",
       "18  Um feixe de luzes negras surge da sua mão. Rol...       LDJ   \n",
       "19  Um feixe de luzes surge da sua mão. Role 6d10;...       LDJ   \n",
       "20  Você pronuncia uma palavra de comando para uma...       LDJ   \n",
       "21  Essa magia permite que você encontre a rota fí...       LDJ   \n",
       "22  Pela duração, você compreende o significado li...       LDJ   \n",
       "26  Você pode tanto criar quanto destruir água.\\n\\...       LDJ   \n",
       "27  Uma criatura que você tocar recupera uma quant...       LDJ   \n",
       "29  Pela duração, você sabe se existe uma aberraçã...       LDJ   \n",
       "30  Pela duração, você sente a presença de magia a...       LDJ   \n",
       "31  Pela duração, você sente a presença e localiza...       LDJ   \n",
       "32  Você faz com que você mesmo – incluindo suas r...       LDJ   \n",
       "33  Você sussurra uma melodia dissonante que apena...       LDJ   \n",
       "34  Você conjura essa magia em um objeto com não m...       LDJ   \n",
       "35  Você conjura uma força elemental ao redor da s...       LDJ   \n",
       "36  Você causa um tremor no solo dentro do alcance...    Custom   \n",
       "38  Da próxima vez que você atingir uma criatura c...       LDJ   \n",
       "39  Ervas e vinhas poderosas brotam do solo num qu...       LDJ   \n",
       "40  Essa magia permite que você se mova a um ritmo...       LDJ   \n",
       "41  Cada objeto num cubo de 6 metros dentro do alc...       LDJ   \n",
       "42  Você envolve-se com uma aura sombria e ganha 1...       LDJ   \n",
       "\n",
       "          mana_adicional  \n",
       "0                    N/A  \n",
       "2                    N/A  \n",
       "3                    N/A  \n",
       "4                    N/A  \n",
       "5                    N/A  \n",
       "6           75 por turno  \n",
       "7          10 por minuto  \n",
       "9           30 por turno  \n",
       "11                   N/A  \n",
       "12                   N/A  \n",
       "13          25 por turno  \n",
       "14                   N/A  \n",
       "15                   N/A  \n",
       "17                   N/A  \n",
       "18                   N/A  \n",
       "19                   N/A  \n",
       "20                   N/A  \n",
       "21          100 por hora  \n",
       "22                   N/A  \n",
       "26                   N/A  \n",
       "27                   N/A  \n",
       "29         10 por minuto  \n",
       "30         10 por minuto  \n",
       "31         10 por minuto  \n",
       "32  20 a cada 10 minutos  \n",
       "33                   N/A  \n",
       "34                   N/A  \n",
       "35                   N/A  \n",
       "36                   N/A  \n",
       "38                   N/A  \n",
       "39                   N/A  \n",
       "40         10 por minuto  \n",
       "41          10 por turno  \n",
       "42                   N/A  "
      ]
     },
     "execution_count": 3,
     "metadata": {},
     "output_type": "execute_result"
    }
   ],
   "source": [
    "filtered_df\n"
   ]
  },
  {
   "cell_type": "code",
   "execution_count": 5,
   "metadata": {},
   "outputs": [
    {
     "data": {
      "text/plain": [
       "1000    1\n",
       "600     1\n",
       "500     1\n",
       "400     7\n",
       "350     6\n",
       "300     6\n",
       "250     2\n",
       "200     8\n",
       "150     1\n",
       "100     1\n",
       "Name: mana, dtype: int64"
      ]
     },
     "metadata": {},
     "output_type": "display_data"
    },
    {
     "name": "stdout",
     "output_type": "stream",
     "text": [
      "Mean =\t327.941\n",
      "Std\t  =\t158.205\n"
     ]
    }
   ],
   "source": [
    "from IPython.display import display\n",
    "\n",
    "\n",
    "def get_mana_stats(spells_df):\n",
    "    display(spells_df.mana.value_counts().sort_index(ascending=False))\n",
    "    print(f\"Mean =\\t{filtered_df.mana.mean():.3f}\")\n",
    "    print(f\"Std\\t  =\\t{filtered_df.mana.std():.3f}\")\n",
    "\n",
    "\n",
    "get_mana_stats(filtered_df)"
   ]
  },
  {
   "cell_type": "code",
   "execution_count": 6,
   "metadata": {},
   "outputs": [
    {
     "name": "stdout",
     "output_type": "stream",
     "text": [
      "1d6 3.5\n",
      "'5' is not a valid die format. It should be XdY where X and Y are integers.\n",
      "5 0\n",
      "2d6 7.0\n",
      "3d6 10.5\n",
      "3d8 13.5\n",
      "1d6 3.5\n",
      "2d8 + 1d6 12.5\n",
      "3d8 13.5\n",
      "'mo' should be an integer.\n",
      "'' should be a kind of die.\n",
      "1d8 + mod 0\n",
      "3d6 10.5\n",
      "1d4 2.5\n",
      "1d6 3.5\n",
      "1d6 3.5\n"
     ]
    }
   ],
   "source": [
    "from DiceCalculator import get_dice_formula_mean, get_dice_formula_std\n",
    "\n",
    "for _, row in filtered_df.iterrows():\n",
    "    dmg = row[\"dmg\"]\n",
    "    if dmg != \"N/A\" and dmg != \"mod\":\n",
    "        print(dmg, get_dice_formula_mean(dmg))\n"
   ]
  },
  {
   "cell_type": "code",
   "execution_count": null,
   "metadata": {},
   "outputs": [],
   "source": []
  }
 ],
 "metadata": {
  "interpreter": {
   "hash": "d36adf45757a947aebb41e19531952e79d7da656c5a3acf675af965b060eaf9d"
  },
  "kernelspec": {
   "display_name": "Python 3.10.2 64-bit",
   "language": "python",
   "name": "python3"
  },
  "language_info": {
   "codemirror_mode": {
    "name": "ipython",
    "version": 3
   },
   "file_extension": ".py",
   "mimetype": "text/x-python",
   "name": "python",
   "nbconvert_exporter": "python",
   "pygments_lexer": "ipython3",
   "version": "3.10.2"
  },
  "orig_nbformat": 4
 },
 "nbformat": 4,
 "nbformat_minor": 2
}
