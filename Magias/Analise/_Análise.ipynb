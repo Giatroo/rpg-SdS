{
 "cells": [
  {
   "cell_type": "code",
   "execution_count": 1,
   "metadata": {},
   "outputs": [],
   "source": [
    "from DFReader import get_spells_df\n",
    "from DFFormatAsserter import (\n",
    "    assert_columns_not_null,\n",
    "    fill_na_by_column,\n",
    "    assert_df_schema,\n",
    "    convert_and_assert_column_to_list,\n",
    ")\n",
    "\n",
    "spells_df = get_spells_df()\n",
    "spells_df = fill_na_by_column(spells_df)\n",
    "assert_columns_not_null(spells_df)\n",
    "spells_df = convert_and_assert_column_to_list(spells_df, \"escola\")\n",
    "\n",
    "try:\n",
    "    assert_df_schema(spells_df)\n",
    "except ValueError as e:\n",
    "    print(\"Wrong values.\")\n",
    "    print(e)\n",
    "except TypeError as e:\n",
    "    print(\"Wrong types.\")\n",
    "    print(e)\n"
   ]
  },
  {
   "cell_type": "code",
   "execution_count": 2,
   "metadata": {},
   "outputs": [
    {
     "data": {
      "text/markdown": [
       "<span style='color:None;font-size:None'>**Armadura de Agathys _(Armor of Agathys)_** lvl 1<br></span><span style='color:None;font-size:13px'>&emsp;**Escola(s):** elemental (_água, terra, fogo, ar, luz, sombras, relâmpago, metal, veneno_)<br>&emsp;**Tempo conjuração:** 1 ação<br>&emsp;**Alcance:** pessoal<br>&emsp;**Componentes:** VS<br>&emsp;**Mana:** 300<br>&emsp;**Duração:** 1 hora<br>&emsp;**Dano**: 5<br>&emsp;**Dmg/effect:** elemental<br></span><span style='color:None;font-size:None'>Uma força magica protetora envolve você, manifestando-se de acordo com o seu elemento. Você ganha 5 pontos de vida temporários pela duração. Se uma criatura atingir você com um ataque corpo-a-corpo enquanto estiver com esses pontos de vida, a criatura sofrerá 5 de dano elemental.<br>&emsp;**Melhorar Magia**. Para cada 500 de mana adicional gasto, tanto os pontos de vida temporários quanto o dano aumentam em 5.<br></span><span style='color:gray;font-size:11px'>[dano, defesa]<br></span><span style='color:gray;font-size:11px'>[bardo, bruxo, clérigo, feiticeiro, mago, monge, paladino]<br></span><span style='color:gray;font-size:10px'>_LDJ_</span>"
      ],
      "text/plain": [
       "<IPython.core.display.Markdown object>"
      ]
     },
     "metadata": {},
     "output_type": "display_data"
    },
    {
     "name": "stdout",
     "output_type": "stream",
     "text": [
      "\n"
     ]
    },
    {
     "data": {
      "text/markdown": [
       "<span style='color:None;font-size:None'>**Catapulta _(Catapult)_** lvl 1<br></span><span style='color:None;font-size:13px'>&emsp;**Escola(s):** elemental (_terra, luz, sombras, metal_)<br>&emsp;**Tempo conjuração:** 1 ação<br>&emsp;**Alcance:** 45 metros<br>&emsp;**Componentes:** S<br>&emsp;**Mana:** 400<br>&emsp;**Duração:** instantânea<br>&emsp;**Dano**: 3d8<br>&emsp;**Attack/Save:** DEX Save<br>&emsp;**Dmg/effect:** concussão<br></span><span style='color:None;font-size:None'>Você cria uma pedra pesando entre 0,5 e 2,5 quilos. A pedra voa em linha reta até 18 metros na direção que você escolher, antes de cair no chão, parando prematuramente se atingir uma superfície sólida. Se a pedra puder atingir uma criatura, a criatura deve realizar um teste de resistência de Destreza. Se falhar na resistência, a pedra atinge o alvo e para de se mover. Em qualquer caso, tanto a pedra quanto a criatura ou superfície sólida sofrem 3d8 de dano de concussão.<br>&emsp;**Melhorar Magia.** A cada 600 de mana adicional gasto, o peso total da pedra pode aumentar em 2,5 quilos e o dano aumenta em 1d8 com um máximo de 5d8 adicionais.<br></span><span style='color:gray;font-size:11px'>[controle, dano]<br></span><span style='color:gray;font-size:11px'>[bardo, bruxo, clérigo, feiticeiro, mago]<br></span><span style='color:gray;font-size:10px'>_Xanathar_</span>"
      ],
      "text/plain": [
       "<IPython.core.display.Markdown object>"
      ]
     },
     "metadata": {},
     "output_type": "display_data"
    },
    {
     "name": "stdout",
     "output_type": "stream",
     "text": [
      "\n"
     ]
    },
    {
     "data": {
      "text/markdown": [
       "<span style='color:None;font-size:None'>**Raio de Caos _(Chaos Boat)_** lvl 1<br></span><span style='color:None;font-size:13px'>&emsp;**Escola(s):** elemental (_água, terra, fogo, ar, luz, sombras, relâmpago, metal, veneno_)<br>&emsp;**Tempo conjuração:** 1 ação<br>&emsp;**Alcance:** 36 metros<br>&emsp;**Componentes:** VS<br>&emsp;**Mana:** 600<br>&emsp;**Duração:** instantânea<br>&emsp;**Dano**: 2d8 + 1d6<br>&emsp;**Attack/Save:** distância<br>&emsp;**Dmg/effect:** elemental<br></span><span style='color:None;font-size:None'>Você conjura uma massa ondulante de energia caótica elemental em uma criatura no alcance. Faça um ataque a distância com magia contra o alvo. Se atingir, o alvo leva 2d8 + 1d6 de dano elemental.<br>&emsp;Se os dois d8 rolados possuírem o mesmo valor, então a energia caótica salta para um alvo dentro de 9 metros de distância a sua escolha. Faça uma nova rolagem de ataque a distância contra o novo e role novamente o dano, fazendo com que a magia possa novamente saltar para outro alvo.<br>&emsp;[Corpo-a-corpo] Você pode, ao invés de realizar um ataque à distância, utilizar uma arma corpo-a-corpo para fazer um ataque. Sua arma se enche dessa energia caótica e o efeito é o mesmo, mas a diferença é que o alvo inicial sofre 2d8 + o dano que sua arma possui naturalmente.<br>&emsp;**Melhorar Magia.** Para cada 500 adicionais de mana gasto, o dano da magia aumenta em 1d6, com um limite de 5d6 extras.<br></span><span style='color:gray;font-size:11px'>[dano]<br></span><span style='color:gray;font-size:11px'>[bardo, bruxo, clérigo, feiticeiro, guerreiro, ladino, mago, monge, paladino]<br></span><span style='color:gray;font-size:10px'>_Xanathar_</span>"
      ],
      "text/plain": [
       "<IPython.core.display.Markdown object>"
      ]
     },
     "metadata": {},
     "output_type": "display_data"
    },
    {
     "name": "stdout",
     "output_type": "stream",
     "text": [
      "\n"
     ]
    },
    {
     "data": {
      "text/markdown": [
       "<span style='color:None;font-size:None'>**Orbe Elemental _(Chromatic Orb)_** lvl 1<br></span><span style='color:None;font-size:13px'>&emsp;**Escola(s):** elemental (_água, terra, fogo, ar, luz, sombras, relâmpago, metal, veneno_)<br>&emsp;**Tempo conjuração:** 1 ação<br>&emsp;**Alcance:** 27 metros<br>&emsp;**Componentes:** VS<br>&emsp;**Mana:** 400<br>&emsp;**Duração:** instantânea<br>&emsp;**Dano**: 3d8<br>&emsp;**Attack/Save:** distância<br>&emsp;**Dmg/effect:** elemental<br></span><span style='color:None;font-size:None'>Você arremessa uma esfera de energia elemental de 12 centímetros de diâmetro numa criatura que você possa ver dentro do alcance. Você realiza um ataque à distância com magia. Se o ataque atingir, a criatura sofre 3d8 de dano elemental. **Melhorar Magia.** Para cada 500 de mana adicional gasto, você pode adicionar 1d8 no dano até um máximo de 5d8 extras.<br></span><span style='color:gray;font-size:11px'>[dano]<br></span><span style='color:gray;font-size:11px'>[bardo, bruxo, feiticeiro, mago]<br></span><span style='color:gray;font-size:10px'>_LDJ_</span>"
      ],
      "text/plain": [
       "<IPython.core.display.Markdown object>"
      ]
     },
     "metadata": {},
     "output_type": "display_data"
    },
    {
     "name": "stdout",
     "output_type": "stream",
     "text": [
      "\n"
     ]
    },
    {
     "data": {
      "text/markdown": [
       "<span style='color:None;font-size:None'>**Auxílio Elemental _(Divine Favor)_** lvl 1<br></span><span style='color:None;font-size:13px'>&emsp;**Escola(s):** elemental (_água, terra, fogo, ar, luz, sombras, relâmpago, metal, veneno_)<br>&emsp;**Tempo conjuração:** 1 ação bônus<br>&emsp;**Alcance:** pessoal<br>&emsp;**Componentes:** VS<br>&emsp;**Mana:** 200<br>&emsp;**Duração:** concentração, até 1 minuto<br>&emsp;**Dano**: 1d4<br>&emsp;**Dmg/effect:** elemental<br></span><span style='color:None;font-size:None'>Você conjura uma força elemental ao redor da sua arma, fraca mais nociva. Até o fim da magia, seus ataques com arma causam 1d4 de dano elemental extra ao atingirem.<br></span><span style='color:gray;font-size:11px'>[buff, dano]<br></span><span style='color:gray;font-size:11px'>[bardo, bruxo, clérigo, feiticeiro, guerreiro, ladino, mago, monge, paladino]<br></span><span style='color:gray;font-size:10px'>_LDJ_</span>"
      ],
      "text/plain": [
       "<IPython.core.display.Markdown object>"
      ]
     },
     "metadata": {},
     "output_type": "display_data"
    },
    {
     "name": "stdout",
     "output_type": "stream",
     "text": [
      "\n"
     ]
    },
    {
     "data": {
      "text/markdown": [
       "<span style='color:None;font-size:None'>**Tremor de Terra _(Earth Tremor)_** lvl 1<br></span><span style='color:None;font-size:13px'>&emsp;**Escola(s):** elemental (_terra, relâmpago_)<br>&emsp;**Tempo conjuração:** 1 ação<br>&emsp;**Alcance:** 3 metros<br>&emsp;**Componentes:** VS<br>&emsp;**Mana:** 350<br>&emsp;**Duração:** instantânea<br>&emsp;**Dano**: 1d6<br>&emsp;**Attack/Save:** DEX Save<br>&emsp;**Dmg/effect:** concussão<br></span><span style='color:None;font-size:None'>Você causa um tremor no solo dentro do alcance. Toda criatura além de você deve fazer um Teste de Resistência de Destreza. Se falhar, a criatura recebe 1d6 de dano de concussão e cai no chão. Se o terreno for de terra solta ou pedra, ele se torna terreno difícil.<br>&emsp;**Melhorar Magia.** Você pode adicionar mais 500 de mana para adicionar mais 1d6 de dano até um máximo de 5d6 adicionais. Você pode adicionar mais 600 de mana para aumentar o alcance da magia em 1,5m até um máximo de 4,5m adicionais.<br></span><span style='color:gray;font-size:11px'>[combate, controle, dano]<br></span><span style='color:gray;font-size:11px'>[bardo, bruxo, clérigo, feiticeiro, guerreiro, ladino, mago, monge, paladino]<br></span><span style='color:gray;font-size:10px'>_Custom_</span>"
      ],
      "text/plain": [
       "<IPython.core.display.Markdown object>"
      ]
     },
     "metadata": {},
     "output_type": "display_data"
    },
    {
     "name": "stdout",
     "output_type": "stream",
     "text": [
      "\n"
     ]
    },
    {
     "data": {
      "text/markdown": [
       "<span style='color:None;font-size:None'>**Golpe Constritor _(Ensnaring Strike)_** lvl 1<br></span><span style='color:None;font-size:13px'>&emsp;**Escola(s):** elemental (_terra, sombras, relâmpago, metal, veneno_)<br>&emsp;**Tempo conjuração:** 1 ação bônus<br>&emsp;**Alcance:** pessoal<br>&emsp;**Componentes:** V<br>&emsp;**Mana:** 400<br>&emsp;**Duração:** concentração, até 1 minuto<br>&emsp;**Dano**: 1d6<br>&emsp;**Attack/Save:** STR Save<br>&emsp;**Dmg/effect:** perfurante<br></span><span style='color:None;font-size:None'>Da próxima vez que você atingir uma criatura com um ataque com arma, antes do final da magia, um emaranhado maciço de vinhas espinhentas elementais aparecem no local do impacto e o alvo deve ser bem sucedido num teste de resistência de Força ou ficará impedido pelas vinhas mágicas, até o fim da magia. Uma criatura Grande ou maior tem vantagem no seu teste de resistência. Se o alvo for bem sucedido na resistência, as vinhas murcharão.<br>&emsp;Enquanto estiver impedido pela magia, um alvo sofre 1d6 de dano perfurante no início de cada um dos turnos dele. Uma criatura impedida pelas vinhas ou uma que possa tocar a criatura, pode usar sua ação para realizar um teste de Força contra a CD da magia. Num sucesso, o alvo é libertado.<br>&emsp;**Melhorar Magia.** Você pode gastar 500 de mana extras para adicionar 1d6 no dano até um máximo de 5d6 adicionais.<br></span><span style='color:gray;font-size:11px'>[combate, controle, dano]<br></span><span style='color:gray;font-size:11px'>[ladino, monge, paladino]<br></span><span style='color:gray;font-size:10px'>_LDJ_</span>"
      ],
      "text/plain": [
       "<IPython.core.display.Markdown object>"
      ]
     },
     "metadata": {},
     "output_type": "display_data"
    },
    {
     "name": "stdout",
     "output_type": "stream",
     "text": [
      "\n"
     ]
    },
    {
     "data": {
      "text/markdown": [
       "<span style='color:None;font-size:None'>**Constrição _(Entangle)_** lvl 1<br></span><span style='color:None;font-size:13px'>&emsp;**Escola(s):** elemental (_terra, sombras, relâmpago, metal, veneno_)<br>&emsp;**Tempo conjuração:** 1 ação<br>&emsp;**Alcance:** 27 metros<br>&emsp;**Componentes:** VS<br>&emsp;**Mana:** 400<br>&emsp;**Duração:** concentração, até 1 minuto<br>&emsp;**Attack/Save:** STR Save<br></span><span style='color:None;font-size:None'>Ervas e vinhas poderosas brotam do solo num quadrado de 6 metros a partir de um ponto dentro do alcance. Pela duração, essas plantas transformam o solo na área em terreno difícil.<br>&emsp;Uma criatura na área quando você conjurar a magia deve ser bem sucedida num teste de resistência de Força ou ficará impedida pelo emaranhado de plantas, até a magia acabar. Uma criatura impedida pelas plantas pode usar sua ação para realizar um teste de Força, contra a CD da magia. Se for bem sucedido, irá se libertar.<br>&emsp;Quando a magia termina, as plantas conjuradas murcharão.<br></span><span style='color:gray;font-size:11px'>[controle]<br></span><span style='color:gray;font-size:11px'>[bardo, bruxo, clérigo, feiticeiro, guerreiro, ladino, mago, monge, paladino]<br></span><span style='color:gray;font-size:10px'>_LDJ_</span>"
      ],
      "text/plain": [
       "<IPython.core.display.Markdown object>"
      ]
     },
     "metadata": {},
     "output_type": "display_data"
    },
    {
     "name": "stdout",
     "output_type": "stream",
     "text": [
      "\n"
     ]
    },
    {
     "data": {
      "text/markdown": [
       "<span style='color:None;font-size:None'>**Disco Flutuante _(Floating Disk)_** lvl 1<br></span><span style='color:None;font-size:13px'>&emsp;**Escola(s):** elemental (_água, terra, luz, sombras, metal_)<br>&emsp;**Tempo conjuração:** 1 ação<br>&emsp;**Alcance:** 9 metros<br>&emsp;**Componentes:** VSM _(uma gota de mercúrio)_<br>&emsp;**Mana:** 200 (_+ 5 a cada 5 minutos_)<br>&emsp;**Duração:** 1 hora<br></span><span style='color:None;font-size:None'>Essa magia cria um plano horizontal, circular elemental de 90 cm de diâmetro por 2,5 cm de espessura, que flutua 90 centímetros acima do chão em um espaço desocupado, à sua escolha, que você possa ver dentro do alcance. O disco permanece pela duração e pode suportar até 250 quilos. Se mais peso for colocado nele, a magia termina, e tudo em cima do disco cai no chão.<br>&emsp;O disco é imóvel enquanto você estiver a até 6 metros dele. Se você se afastar a mais de 6 metros dele, o disco seguirá você, mantendo-se a 6 metros de você. Ele pode atravessar terreno irregular, subir ou descer escadas, encostas e similares, mas ele não pode atravessar mudanças de elevação de 3 metros ou mais. Por exemplo, o disco não pode atravessar um fosso de 3 metros de profundidade nem poderia sair de tal fosso se tivesse sido criado no fundo dele.<br>&emsp;Se você se afastar mais de 30 metros do disco (tipicamente por ele não poder rodear um obstáculo para seguir você), a magia acaba.<br></span><span style='color:gray;font-size:11px'>[exploração, utilidade]<br></span><span style='color:gray;font-size:11px'>[bardo, bruxo, clérigo, feiticeiro, guerreiro, ladino, mago, monge, paladino]<br></span><span style='color:gray;font-size:10px'>_LDJ_</span>"
      ],
      "text/plain": [
       "<IPython.core.display.Markdown object>"
      ]
     },
     "metadata": {},
     "output_type": "display_data"
    },
    {
     "name": "stdout",
     "output_type": "stream",
     "text": [
      "\n"
     ]
    },
    {
     "data": {
      "text/markdown": [
       "<span style='color:None;font-size:None'>**Área Escorregadia _(Grease)_** lvl 1<br></span><span style='color:None;font-size:13px'>&emsp;**Escola(s):** elemental (_terra_)<br>&emsp;**Tempo conjuração:** 1 ação<br>&emsp;**Alcance:** 18 metros<br>&emsp;**Componentes:** VSM _(um pouco de pele de porco ou manteiga)_<br>&emsp;**Mana:** 350<br>&emsp;**Duração:** 1 minuto<br>&emsp;**Attack/Save:** DEX Save<br>&emsp;**Dmg/effect:** caído<br></span><span style='color:None;font-size:None'>Se o terreno for de pedra, você transforma essa pedra em uma pedra extremamente polida em um quadrado de 3 metros centrado em um ponto, dentro do alcance, tornando essa área terreno difícil pela duração.<br>&emsp;Quando a pedra fica polida, cada criatura de pé na área deve ser bem sucedida num teste de resistência de Destreza ou cairá no chão. Uma criatura que entre na área ou termine seu turno nela também deve passar um teste de resistência de Destreza ou cairá no chão.<br></span><span style='color:gray;font-size:11px'>[controle]<br></span><span style='color:gray;font-size:11px'>[bardo, bruxo, clérigo, feiticeiro, guerreiro, ladino, mago, monge, paladino]<br></span><span style='color:gray;font-size:10px'>_LDJ_</span>"
      ],
      "text/plain": [
       "<IPython.core.display.Markdown object>"
      ]
     },
     "metadata": {},
     "output_type": "display_data"
    },
    {
     "name": "stdout",
     "output_type": "stream",
     "text": [
      "\n"
     ]
    },
    {
     "data": {
      "text/markdown": [
       "<span style='color:None;font-size:None'>**Salto _(Jump)_** lvl 1<br></span><span style='color:None;font-size:13px'>&emsp;**Escola(s):** elemental (_água, terra, ar, luz, relâmpago, metal_)<br>&emsp;**Tempo conjuração:** 1 ação<br>&emsp;**Alcance:** toque<br>&emsp;**Componentes:** VSM _(uma perna de gafanhoto)_<br>&emsp;**Mana:** 200<br>&emsp;**Duração:** 1 minuto<br></span><span style='color:None;font-size:None'>Você toca uma criatura. A distância de salto da criatura é triplicada até a magia acabar.<br></span><span style='color:gray;font-size:11px'>[buff]<br></span><span style='color:gray;font-size:11px'>[bruxo, feiticeiro, ladino, mago, monge]<br></span><span style='color:gray;font-size:10px'>_LDJ_</span>"
      ],
      "text/plain": [
       "<IPython.core.display.Markdown object>"
      ]
     },
     "metadata": {},
     "output_type": "display_data"
    },
    {
     "name": "stdout",
     "output_type": "stream",
     "text": [
      "\n"
     ]
    },
    {
     "data": {
      "text/markdown": [
       "<span style='color:None;font-size:None'>**Armadura Arcana _(Mage Armor)_** lvl 1<br></span><span style='color:None;font-size:13px'>&emsp;**Escola(s):** elemental (_água, terra, fogo, ar, luz, sombras, relâmpago, metal, veneno_)<br>&emsp;**Tempo conjuração:** 1 ação<br>&emsp;**Alcance:** toque<br>&emsp;**Componentes:** VSM _(um pedaço de couro curado)_<br>&emsp;**Mana:** 350<br>&emsp;**Duração:** 8 horas<br></span><span style='color:None;font-size:None'>Você toca uma criatura voluntária que não esteja vestindo armadura e uma energia mágica protetora a envolve até a magia acabar. A CA base do alvo se torna 13 ([Metal] 15) + o modificador de Destreza dele. A magia acaba se o alvo colocar uma armadura ou se você dissipa-la usando uma ação.<br></span><span style='color:gray;font-size:11px'>[buff, defesa]<br></span><span style='color:gray;font-size:11px'>[bardo, bruxo, clérigo, feiticeiro, guerreiro, ladino, mago, monge, paladino]<br></span><span style='color:gray;font-size:10px'>_LDJ_</span>"
      ],
      "text/plain": [
       "<IPython.core.display.Markdown object>"
      ]
     },
     "metadata": {},
     "output_type": "display_data"
    },
    {
     "name": "stdout",
     "output_type": "stream",
     "text": [
      "\n"
     ]
    },
    {
     "data": {
      "text/markdown": [
       "<span style='color:None;font-size:None'>**Mísseis Mágicos _(Magic Missile)_** lvl 1<br></span><span style='color:None;font-size:13px'>&emsp;**Escola(s):** elemental (_água, terra, fogo, ar, luz, sombras, relâmpago, metal, veneno_)<br>&emsp;**Tempo conjuração:** 1 ação<br>&emsp;**Alcance:** 36 metros<br>&emsp;**Componentes:** VS<br>&emsp;**Mana:** 350<br>&emsp;**Duração:** instantânea<br>&emsp;**Dano**: 1d4 + 1<br>&emsp;**Dmg/effect:** elemental<br></span><span style='color:None;font-size:None'>Você cria três dardos elementais. Cada dardo atinge uma criatura, à sua escolha, que você possa ver, dentro do alcance. Um dardo causa 1d4 + 1 de dano elemental ao alvo. Todos os dardos atingem simultaneamente e você pode direciona-los para atingir uma criatura ou várias.<br>&emsp;**Melhorar Magia**. Para cada 500 de mana adicionais, você adiciona mais um dardo à magia, até um máximo de 10 dardos totais.<br></span><span style='color:gray;font-size:11px'>[dano]<br></span><span style='color:gray;font-size:11px'>[bardo, bruxo, clérigo, feiticeiro, guerreiro, ladino, mago, monge, paladino]<br></span><span style='color:gray;font-size:10px'>_LDJ_</span>"
      ],
      "text/plain": [
       "<IPython.core.display.Markdown object>"
      ]
     },
     "metadata": {},
     "output_type": "display_data"
    },
    {
     "name": "stdout",
     "output_type": "stream",
     "text": [
      "\n"
     ]
    },
    {
     "data": {
      "text/markdown": [
       "<span style='color:None;font-size:None'>**Proteção contra o Bem e Mal _(Protection from Evil and Good)_** lvl 1<br></span><span style='color:None;font-size:13px'>&emsp;**Escola(s):** elemental (_água, terra, luz, veneno_)<br>&emsp;**Tempo conjuração:** 1 ação<br>&emsp;**Alcance:** toque<br>&emsp;**Componentes:** VSM _(água benta ou pó de prata e ferro, consumidos pela magia)_<br>&emsp;**Mana:** 250 (_+ 10 de mana por minuto_)<br>&emsp;**Duração:** concentração, até 10 minutos<br></span><span style='color:None;font-size:None'>Até a magia acabar, uma criatura voluntária que você tocar estará protegida contra certos tipos de criaturas: aberrações, celestiais, corruptores, elementais, fadas e mortos-vivos.<br>&emsp;A proteção garante diversos benefícios. As criaturas desse tipo tem desvantagem nas jogadas de ataque contra o alvo. O alvo não pode ser enfeitiçado, amedrontado ou possuído por elas. Se o alvo já estiver enfeitiçado, amedrontado ou possuído por uma dessas criaturas, o alvo terá vantagem em qualquer novo teste de resistência contra o efeito relevante.<br></span><span style='color:gray;font-size:11px'>[buff, debuff, defesa]<br></span><span style='color:gray;font-size:11px'>[bardo, bruxo, clérigo, feiticeiro, guerreiro, ladino, mago, monge, paladino]<br></span><span style='color:gray;font-size:10px'>_LDJ_</span>"
      ],
      "text/plain": [
       "<IPython.core.display.Markdown object>"
      ]
     },
     "metadata": {},
     "output_type": "display_data"
    },
    {
     "name": "stdout",
     "output_type": "stream",
     "text": [
      "\n"
     ]
    },
    {
     "data": {
      "text/markdown": [
       "<span style='color:None;font-size:None'>**Purificar Alimentos _(Purify Food and Drink)_** lvl 1 - ritual<br></span><span style='color:None;font-size:13px'>&emsp;**Escola(s):** elemental (_água, terra, luz, veneno_)<br>&emsp;**Tempo conjuração:** 1 ação<br>&emsp;**Alcance:** 3 metros<br>&emsp;**Componentes:** VS<br>&emsp;**Mana:** 300<br>&emsp;**Duração:** instantânea<br></span><span style='color:None;font-size:None'>Toda comida e bebida não-mágica dentro de uma esfera de 1,5 metro de raio centrada num ponto, à sua escolha, dentro do alcance é purificada e se livrada de venenos ou doenças.<br></span><span style='color:gray;font-size:11px'>[utilidade]<br></span><span style='color:gray;font-size:11px'>[bardo, bruxo, clérigo, feiticeiro, guerreiro, ladino, mago, monge, paladino]<br></span><span style='color:gray;font-size:10px'>_LDJ_</span>"
      ],
      "text/plain": [
       "<IPython.core.display.Markdown object>"
      ]
     },
     "metadata": {},
     "output_type": "display_data"
    },
    {
     "name": "stdout",
     "output_type": "stream",
     "text": [
      "\n"
     ]
    },
    {
     "data": {
      "text/markdown": [
       "<span style='color:None;font-size:None'>**Encantar Arma (Auxílio Divino) _(Searing Smite)_** lvl 1<br></span><span style='color:None;font-size:13px'>&emsp;**Escola(s):** elemental (_água, terra, fogo, ar, luz, sombras, relâmpago, metal, veneno_)<br>&emsp;**Tempo conjuração:** 1 ação bônus<br>&emsp;**Alcance:** pessoal<br>&emsp;**Componentes:** VS<br>&emsp;**Mana:** 300 (_+ 20 por turno_)<br>&emsp;**Duração:** concentração, até 1 minuto<br>&emsp;**Dano**: 1d4<br>&emsp;**Dmg/effect:** elemental<br></span><span style='color:None;font-size:None'>Você envolve sua arma com seu elemento. Até o final da magia, seus ataques com aruma causa 1d4 de dano elemento extra ao atingirem.<br>&emsp;**Melhorar Magia**. Você pode gastar mais 500 de mana e mais 30 de mana por turno para transformar o d4 em d6. Você pode gastar mais 1500 de mana e mais 50 de mana por turno para transformar o d6 em d8. Você pode gastar mais 5000 de mana e mais 100 de mana por turno para transformar o d8 em d10.<br></span><span style='color:gray;font-size:11px'>[buff, dano]<br></span><span style='color:gray;font-size:11px'>[bardo, bruxo, clérigo, feiticeiro, guerreiro, ladino, mago, monge, paladino]<br></span><span style='color:gray;font-size:10px'>_LDJ_</span>"
      ],
      "text/plain": [
       "<IPython.core.display.Markdown object>"
      ]
     },
     "metadata": {},
     "output_type": "display_data"
    },
    {
     "name": "stdout",
     "output_type": "stream",
     "text": [
      "\n"
     ]
    },
    {
     "data": {
      "text/markdown": [
       "<span style='color:None;font-size:None'>**Escudo Arcano _(Shield)_** lvl 1<br></span><span style='color:None;font-size:13px'>&emsp;**Escola(s):** elemental (_água, terra, fogo, ar, luz, sombras, relâmpago, metal, veneno_)<br>&emsp;**Tempo conjuração:** 1 reação<br>&emsp;**Alcance:** pessoal<br>&emsp;**Componentes:** VS<br>&emsp;**Mana:** 200<br>&emsp;**Duração:** 1 rodada<br></span><span style='color:None;font-size:None'>Uma barreira de energia aparece e protege você.<br>&emsp;Até o início do seu próximo turno, você recebe +5 de bônus na CA, incluindo contra o ataque que desencadeou a magia, e você não sofre dado de mísseis mágicos.<br></span><span style='color:gray;font-size:11px'>[defesa]<br></span><span style='color:gray;font-size:11px'>[bardo, bruxo, clérigo, feiticeiro, guerreiro, ladino, mago, monge, paladino]<br></span><span style='color:gray;font-size:10px'>_LDJ_</span>"
      ],
      "text/plain": [
       "<IPython.core.display.Markdown object>"
      ]
     },
     "metadata": {},
     "output_type": "display_data"
    },
    {
     "name": "stdout",
     "output_type": "stream",
     "text": [
      "\n"
     ]
    },
    {
     "data": {
      "text/markdown": [
       "<span style='color:None;font-size:None'>**Escudo Protetor _(Shield of Faith)_** lvl 1<br></span><span style='color:None;font-size:13px'>&emsp;**Escola(s):** elemental (_água, terra, fogo, ar, luz, sombras, relâmpago, metal, veneno_)<br>&emsp;**Tempo conjuração:** 1 ação bônus<br>&emsp;**Alcance:** 18 metros<br>&emsp;**Componentes:** VSM _(um pequeno pergaminho com alguns textos sagrados escritos nele)_<br>&emsp;**Mana:** 200 (_+ 10 a cada minuto_)<br>&emsp;**Duração:** concentração, até 10 minuto<br></span><span style='color:None;font-size:None'>Um campo cintilante aparece ao redor de uma criatura, à sua escolha, dentro do alcance, concedendo +2 de bônus na CA pela duração<br></span><span style='color:gray;font-size:11px'>[buff, defesa]<br></span><span style='color:gray;font-size:11px'>[bardo, bruxo, clérigo, feiticeiro, mago, monge, paladino]<br></span><span style='color:gray;font-size:10px'>_LDJ_</span>"
      ],
      "text/plain": [
       "<IPython.core.display.Markdown object>"
      ]
     },
     "metadata": {},
     "output_type": "display_data"
    },
    {
     "name": "stdout",
     "output_type": "stream",
     "text": [
      "\n"
     ]
    }
   ],
   "source": [
    "from DFFilter import filter_df\n",
    "from SpellPrinter import print_spell, print_spells_for_df\n",
    "\n",
    "my_filter = {\"elementos\": \"terra\", \"nivel\": 1}\n",
    "filtered_df = filter_df(spells_df, my_filter)\n",
    "\n",
    "print_spells_for_df(filtered_df)\n"
   ]
  },
  {
   "cell_type": "code",
   "execution_count": 3,
   "metadata": {},
   "outputs": [
    {
     "data": {
      "text/html": [
       "<div>\n",
       "<style scoped>\n",
       "    .dataframe tbody tr th:only-of-type {\n",
       "        vertical-align: middle;\n",
       "    }\n",
       "\n",
       "    .dataframe tbody tr th {\n",
       "        vertical-align: top;\n",
       "    }\n",
       "\n",
       "    .dataframe thead th {\n",
       "        text-align: right;\n",
       "    }\n",
       "</style>\n",
       "<table border=\"1\" class=\"dataframe\">\n",
       "  <thead>\n",
       "    <tr style=\"text-align: right;\">\n",
       "      <th></th>\n",
       "      <th>nome</th>\n",
       "      <th>name</th>\n",
       "      <th>nivel</th>\n",
       "      <th>escola</th>\n",
       "      <th>ritual</th>\n",
       "      <th>elementos</th>\n",
       "      <th>tempo_conjuracao</th>\n",
       "      <th>alcance_area</th>\n",
       "      <th>componentes</th>\n",
       "      <th>mana</th>\n",
       "      <th>duracao</th>\n",
       "      <th>attack_save</th>\n",
       "      <th>dmg_effect</th>\n",
       "      <th>dmg</th>\n",
       "      <th>classes</th>\n",
       "      <th>tags</th>\n",
       "      <th>descricao</th>\n",
       "      <th>source</th>\n",
       "      <th>mana_adicional</th>\n",
       "    </tr>\n",
       "  </thead>\n",
       "  <tbody>\n",
       "    <tr>\n",
       "      <th>4</th>\n",
       "      <td>Armadura de Agathys</td>\n",
       "      <td>Armor of Agathys</td>\n",
       "      <td>1</td>\n",
       "      <td>[elemental]</td>\n",
       "      <td>False</td>\n",
       "      <td>[água, terra, fogo, ar, luz, sombras, relâmpag...</td>\n",
       "      <td>1 ação</td>\n",
       "      <td>pessoal</td>\n",
       "      <td>VS</td>\n",
       "      <td>300</td>\n",
       "      <td>1 hora</td>\n",
       "      <td>N/A</td>\n",
       "      <td>elemental</td>\n",
       "      <td>5</td>\n",
       "      <td>[clérigo, paladino, bardo, monge, mago, feitic...</td>\n",
       "      <td>[defesa, dano]</td>\n",
       "      <td>Uma força magica protetora envolve você, manif...</td>\n",
       "      <td>LDJ</td>\n",
       "      <td>N/A</td>\n",
       "    </tr>\n",
       "    <tr>\n",
       "      <th>12</th>\n",
       "      <td>Catapulta</td>\n",
       "      <td>Catapult</td>\n",
       "      <td>1</td>\n",
       "      <td>[elemental]</td>\n",
       "      <td>False</td>\n",
       "      <td>[terra, luz, sombras, metal]</td>\n",
       "      <td>1 ação</td>\n",
       "      <td>45 metros</td>\n",
       "      <td>S</td>\n",
       "      <td>400</td>\n",
       "      <td>instantânea</td>\n",
       "      <td>DEX Save</td>\n",
       "      <td>concussão</td>\n",
       "      <td>3d8</td>\n",
       "      <td>[clérigo, bardo, mago, feiticeiro, bruxo]</td>\n",
       "      <td>[dano, controle]</td>\n",
       "      <td>Você cria uma pedra pesando entre 0,5 e 2,5 qu...</td>\n",
       "      <td>Xanathar</td>\n",
       "      <td>N/A</td>\n",
       "    </tr>\n",
       "    <tr>\n",
       "      <th>14</th>\n",
       "      <td>Raio de Caos</td>\n",
       "      <td>Chaos Boat</td>\n",
       "      <td>1</td>\n",
       "      <td>[elemental]</td>\n",
       "      <td>False</td>\n",
       "      <td>[água, terra, fogo, ar, luz, sombras, relâmpag...</td>\n",
       "      <td>1 ação</td>\n",
       "      <td>36 metros</td>\n",
       "      <td>VS</td>\n",
       "      <td>600</td>\n",
       "      <td>instantânea</td>\n",
       "      <td>distância</td>\n",
       "      <td>elemental</td>\n",
       "      <td>2d8 + 1d6</td>\n",
       "      <td>[clérigo, paladino, ladino, guerreiro, bardo, ...</td>\n",
       "      <td>[dano]</td>\n",
       "      <td>Você conjura uma massa ondulante de energia ca...</td>\n",
       "      <td>Xanathar</td>\n",
       "      <td>N/A</td>\n",
       "    </tr>\n",
       "    <tr>\n",
       "      <th>17</th>\n",
       "      <td>Orbe Elemental</td>\n",
       "      <td>Chromatic Orb</td>\n",
       "      <td>1</td>\n",
       "      <td>[elemental]</td>\n",
       "      <td>False</td>\n",
       "      <td>[água, terra, fogo, ar, luz, sombras, relâmpag...</td>\n",
       "      <td>1 ação</td>\n",
       "      <td>27 metros</td>\n",
       "      <td>VS</td>\n",
       "      <td>400</td>\n",
       "      <td>instantânea</td>\n",
       "      <td>distância</td>\n",
       "      <td>elemental</td>\n",
       "      <td>3d8</td>\n",
       "      <td>[bardo, mago, feiticeiro, bruxo]</td>\n",
       "      <td>[dano]</td>\n",
       "      <td>Você arremessa uma esfera de energia elemental...</td>\n",
       "      <td>LDJ</td>\n",
       "      <td>N/A</td>\n",
       "    </tr>\n",
       "    <tr>\n",
       "      <th>35</th>\n",
       "      <td>Auxílio Elemental</td>\n",
       "      <td>Divine Favor</td>\n",
       "      <td>1</td>\n",
       "      <td>[elemental]</td>\n",
       "      <td>False</td>\n",
       "      <td>[água, terra, fogo, ar, luz, sombras, relâmpag...</td>\n",
       "      <td>1 ação bônus</td>\n",
       "      <td>pessoal</td>\n",
       "      <td>VS</td>\n",
       "      <td>200</td>\n",
       "      <td>concentração, até 1 minuto</td>\n",
       "      <td>N/A</td>\n",
       "      <td>elemental</td>\n",
       "      <td>1d4</td>\n",
       "      <td>[clérigo, paladino, ladino, guerreiro, bardo, ...</td>\n",
       "      <td>[dano, buff]</td>\n",
       "      <td>Você conjura uma força elemental ao redor da s...</td>\n",
       "      <td>LDJ</td>\n",
       "      <td>N/A</td>\n",
       "    </tr>\n",
       "    <tr>\n",
       "      <th>36</th>\n",
       "      <td>Tremor de Terra</td>\n",
       "      <td>Earth Tremor</td>\n",
       "      <td>1</td>\n",
       "      <td>[elemental]</td>\n",
       "      <td>False</td>\n",
       "      <td>[terra, relâmpago]</td>\n",
       "      <td>1 ação</td>\n",
       "      <td>3 metros</td>\n",
       "      <td>VS</td>\n",
       "      <td>350</td>\n",
       "      <td>instantânea</td>\n",
       "      <td>DEX Save</td>\n",
       "      <td>concussão</td>\n",
       "      <td>1d6</td>\n",
       "      <td>[clérigo, paladino, ladino, guerreiro, bardo, ...</td>\n",
       "      <td>[dano, controle, combate]</td>\n",
       "      <td>Você causa um tremor no solo dentro do alcance...</td>\n",
       "      <td>Custom</td>\n",
       "      <td>N/A</td>\n",
       "    </tr>\n",
       "    <tr>\n",
       "      <th>38</th>\n",
       "      <td>Golpe Constritor</td>\n",
       "      <td>Ensnaring Strike</td>\n",
       "      <td>1</td>\n",
       "      <td>[elemental]</td>\n",
       "      <td>False</td>\n",
       "      <td>[terra, sombras, relâmpago, metal, veneno]</td>\n",
       "      <td>1 ação bônus</td>\n",
       "      <td>pessoal</td>\n",
       "      <td>V</td>\n",
       "      <td>400</td>\n",
       "      <td>concentração, até 1 minuto</td>\n",
       "      <td>STR Save</td>\n",
       "      <td>perfurante</td>\n",
       "      <td>1d6</td>\n",
       "      <td>[paladino, ladino, monge]</td>\n",
       "      <td>[dano, controle, combate]</td>\n",
       "      <td>Da próxima vez que você atingir uma criatura c...</td>\n",
       "      <td>LDJ</td>\n",
       "      <td>N/A</td>\n",
       "    </tr>\n",
       "    <tr>\n",
       "      <th>39</th>\n",
       "      <td>Constrição</td>\n",
       "      <td>Entangle</td>\n",
       "      <td>1</td>\n",
       "      <td>[elemental]</td>\n",
       "      <td>False</td>\n",
       "      <td>[terra, sombras, relâmpago, metal, veneno]</td>\n",
       "      <td>1 ação</td>\n",
       "      <td>27 metros</td>\n",
       "      <td>VS</td>\n",
       "      <td>400</td>\n",
       "      <td>concentração, até 1 minuto</td>\n",
       "      <td>STR Save</td>\n",
       "      <td>N/A</td>\n",
       "      <td>N/A</td>\n",
       "      <td>[clérigo, paladino, ladino, guerreiro, bardo, ...</td>\n",
       "      <td>[controle]</td>\n",
       "      <td>Ervas e vinhas poderosas brotam do solo num qu...</td>\n",
       "      <td>LDJ</td>\n",
       "      <td>N/A</td>\n",
       "    </tr>\n",
       "    <tr>\n",
       "      <th>46</th>\n",
       "      <td>Disco Flutuante</td>\n",
       "      <td>Floating Disk</td>\n",
       "      <td>1</td>\n",
       "      <td>[elemental]</td>\n",
       "      <td>False</td>\n",
       "      <td>[água, terra, luz, sombras, metal]</td>\n",
       "      <td>1 ação</td>\n",
       "      <td>9 metros</td>\n",
       "      <td>VSM (uma gota de mercúrio)</td>\n",
       "      <td>200</td>\n",
       "      <td>1 hora</td>\n",
       "      <td>N/A</td>\n",
       "      <td>N/A</td>\n",
       "      <td>N/A</td>\n",
       "      <td>[clérigo, paladino, ladino, guerreiro, bardo, ...</td>\n",
       "      <td>[utilidade, exploração]</td>\n",
       "      <td>Essa magia cria um plano horizontal, circular ...</td>\n",
       "      <td>LDJ</td>\n",
       "      <td>5 a cada 5 minutos</td>\n",
       "    </tr>\n",
       "    <tr>\n",
       "      <th>51</th>\n",
       "      <td>Área Escorregadia</td>\n",
       "      <td>Grease</td>\n",
       "      <td>1</td>\n",
       "      <td>[elemental]</td>\n",
       "      <td>False</td>\n",
       "      <td>[terra]</td>\n",
       "      <td>1 ação</td>\n",
       "      <td>18 metros</td>\n",
       "      <td>VSM (um pouco de pele de porco ou manteiga)</td>\n",
       "      <td>350</td>\n",
       "      <td>1 minuto</td>\n",
       "      <td>DEX Save</td>\n",
       "      <td>caído</td>\n",
       "      <td>N/A</td>\n",
       "      <td>[clérigo, paladino, ladino, guerreiro, bardo, ...</td>\n",
       "      <td>[controle]</td>\n",
       "      <td>Se o terreno for de pedra, você transforma ess...</td>\n",
       "      <td>LDJ</td>\n",
       "      <td>N/A</td>\n",
       "    </tr>\n",
       "    <tr>\n",
       "      <th>66</th>\n",
       "      <td>Salto</td>\n",
       "      <td>Jump</td>\n",
       "      <td>1</td>\n",
       "      <td>[elemental]</td>\n",
       "      <td>False</td>\n",
       "      <td>[água, terra, ar, luz, relâmpago, metal]</td>\n",
       "      <td>1 ação</td>\n",
       "      <td>toque</td>\n",
       "      <td>VSM (uma perna de gafanhoto)</td>\n",
       "      <td>200</td>\n",
       "      <td>1 minuto</td>\n",
       "      <td>N/A</td>\n",
       "      <td>N/A</td>\n",
       "      <td>N/A</td>\n",
       "      <td>[ladino, monge, mago, feiticeiro, bruxo]</td>\n",
       "      <td>[buff]</td>\n",
       "      <td>Você toca uma criatura. A distância de salto d...</td>\n",
       "      <td>LDJ</td>\n",
       "      <td>N/A</td>\n",
       "    </tr>\n",
       "    <tr>\n",
       "      <th>70</th>\n",
       "      <td>Armadura Arcana</td>\n",
       "      <td>Mage Armor</td>\n",
       "      <td>1</td>\n",
       "      <td>[elemental]</td>\n",
       "      <td>False</td>\n",
       "      <td>[água, terra, fogo, ar, luz, sombras, relâmpag...</td>\n",
       "      <td>1 ação</td>\n",
       "      <td>toque</td>\n",
       "      <td>VSM (um pedaço de couro curado)</td>\n",
       "      <td>350</td>\n",
       "      <td>8 horas</td>\n",
       "      <td>N/A</td>\n",
       "      <td>N/A</td>\n",
       "      <td>N/A</td>\n",
       "      <td>[clérigo, paladino, ladino, guerreiro, bardo, ...</td>\n",
       "      <td>[buff, defesa]</td>\n",
       "      <td>Você toca uma criatura voluntária que não este...</td>\n",
       "      <td>LDJ</td>\n",
       "      <td>N/A</td>\n",
       "    </tr>\n",
       "    <tr>\n",
       "      <th>72</th>\n",
       "      <td>Mísseis Mágicos</td>\n",
       "      <td>Magic Missile</td>\n",
       "      <td>1</td>\n",
       "      <td>[elemental]</td>\n",
       "      <td>False</td>\n",
       "      <td>[água, terra, fogo, ar, luz, sombras, relâmpag...</td>\n",
       "      <td>1 ação</td>\n",
       "      <td>36 metros</td>\n",
       "      <td>VS</td>\n",
       "      <td>350</td>\n",
       "      <td>instantânea</td>\n",
       "      <td>N/A</td>\n",
       "      <td>elemental</td>\n",
       "      <td>1d4 + 1</td>\n",
       "      <td>[clérigo, paladino, ladino, guerreiro, bardo, ...</td>\n",
       "      <td>[dano]</td>\n",
       "      <td>Você cria três dardos elementais. Cada dardo a...</td>\n",
       "      <td>LDJ</td>\n",
       "      <td>N/A</td>\n",
       "    </tr>\n",
       "    <tr>\n",
       "      <th>83</th>\n",
       "      <td>Proteção contra o Bem e Mal</td>\n",
       "      <td>Protection from Evil and Good</td>\n",
       "      <td>1</td>\n",
       "      <td>[elemental]</td>\n",
       "      <td>False</td>\n",
       "      <td>[água, terra, luz, veneno]</td>\n",
       "      <td>1 ação</td>\n",
       "      <td>toque</td>\n",
       "      <td>VSM (água benta ou pó de prata e ferro, consum...</td>\n",
       "      <td>250</td>\n",
       "      <td>concentração, até 10 minutos</td>\n",
       "      <td>N/A</td>\n",
       "      <td>N/A</td>\n",
       "      <td>N/A</td>\n",
       "      <td>[clérigo, paladino, ladino, guerreiro, bardo, ...</td>\n",
       "      <td>[buff, debuff, defesa]</td>\n",
       "      <td>Até a magia acabar, uma criatura voluntária qu...</td>\n",
       "      <td>LDJ</td>\n",
       "      <td>10 de mana por minuto</td>\n",
       "    </tr>\n",
       "    <tr>\n",
       "      <th>84</th>\n",
       "      <td>Purificar Alimentos</td>\n",
       "      <td>Purify Food and Drink</td>\n",
       "      <td>1</td>\n",
       "      <td>[elemental]</td>\n",
       "      <td>True</td>\n",
       "      <td>[água, terra, luz, veneno]</td>\n",
       "      <td>1 ação</td>\n",
       "      <td>3 metros</td>\n",
       "      <td>VS</td>\n",
       "      <td>300</td>\n",
       "      <td>instantânea</td>\n",
       "      <td>N/A</td>\n",
       "      <td>N/A</td>\n",
       "      <td>N/A</td>\n",
       "      <td>[clérigo, paladino, ladino, guerreiro, bardo, ...</td>\n",
       "      <td>[utilidade]</td>\n",
       "      <td>Toda comida e bebida não-mágica dentro de uma ...</td>\n",
       "      <td>LDJ</td>\n",
       "      <td>N/A</td>\n",
       "    </tr>\n",
       "    <tr>\n",
       "      <th>90</th>\n",
       "      <td>Encantar Arma (Auxílio Divino)</td>\n",
       "      <td>Searing Smite</td>\n",
       "      <td>1</td>\n",
       "      <td>[elemental]</td>\n",
       "      <td>False</td>\n",
       "      <td>[água, terra, fogo, ar, luz, sombras, relâmpag...</td>\n",
       "      <td>1 ação bônus</td>\n",
       "      <td>pessoal</td>\n",
       "      <td>VS</td>\n",
       "      <td>300</td>\n",
       "      <td>concentração, até 1 minuto</td>\n",
       "      <td>N/A</td>\n",
       "      <td>elemental</td>\n",
       "      <td>1d4</td>\n",
       "      <td>[clérigo, paladino, ladino, guerreiro, bardo, ...</td>\n",
       "      <td>[dano, buff]</td>\n",
       "      <td>Você envolve sua arma com seu elemento. Até o ...</td>\n",
       "      <td>LDJ</td>\n",
       "      <td>20 por turno</td>\n",
       "    </tr>\n",
       "    <tr>\n",
       "      <th>92</th>\n",
       "      <td>Escudo Arcano</td>\n",
       "      <td>Shield</td>\n",
       "      <td>1</td>\n",
       "      <td>[elemental]</td>\n",
       "      <td>False</td>\n",
       "      <td>[água, terra, fogo, ar, luz, sombras, relâmpag...</td>\n",
       "      <td>1 reação</td>\n",
       "      <td>pessoal</td>\n",
       "      <td>VS</td>\n",
       "      <td>200</td>\n",
       "      <td>1 rodada</td>\n",
       "      <td>N/A</td>\n",
       "      <td>N/A</td>\n",
       "      <td>N/A</td>\n",
       "      <td>[clérigo, paladino, ladino, guerreiro, bardo, ...</td>\n",
       "      <td>[defesa]</td>\n",
       "      <td>Uma barreira de energia aparece e protege você...</td>\n",
       "      <td>LDJ</td>\n",
       "      <td>N/A</td>\n",
       "    </tr>\n",
       "    <tr>\n",
       "      <th>93</th>\n",
       "      <td>Escudo Protetor</td>\n",
       "      <td>Shield of Faith</td>\n",
       "      <td>1</td>\n",
       "      <td>[elemental]</td>\n",
       "      <td>False</td>\n",
       "      <td>[água, terra, fogo, ar, luz, sombras, relâmpag...</td>\n",
       "      <td>1 ação bônus</td>\n",
       "      <td>18 metros</td>\n",
       "      <td>VSM (um pequeno pergaminho com alguns textos s...</td>\n",
       "      <td>200</td>\n",
       "      <td>concentração, até 10 minuto</td>\n",
       "      <td>N/A</td>\n",
       "      <td>N/A</td>\n",
       "      <td>N/A</td>\n",
       "      <td>[clérigo, paladino, bardo, monge, mago, feitic...</td>\n",
       "      <td>[buff, defesa]</td>\n",
       "      <td>Um campo cintilante aparece ao redor de uma cr...</td>\n",
       "      <td>LDJ</td>\n",
       "      <td>10 a cada minuto</td>\n",
       "    </tr>\n",
       "  </tbody>\n",
       "</table>\n",
       "</div>"
      ],
      "text/plain": [
       "                              nome                           name  nivel  \\\n",
       "4              Armadura de Agathys               Armor of Agathys      1   \n",
       "12                       Catapulta                       Catapult      1   \n",
       "14                    Raio de Caos                     Chaos Boat      1   \n",
       "17                  Orbe Elemental                  Chromatic Orb      1   \n",
       "35               Auxílio Elemental                   Divine Favor      1   \n",
       "36                 Tremor de Terra                   Earth Tremor      1   \n",
       "38                Golpe Constritor               Ensnaring Strike      1   \n",
       "39                      Constrição                       Entangle      1   \n",
       "46                 Disco Flutuante                  Floating Disk      1   \n",
       "51               Área Escorregadia                         Grease      1   \n",
       "66                           Salto                           Jump      1   \n",
       "70                 Armadura Arcana                     Mage Armor      1   \n",
       "72                 Mísseis Mágicos                  Magic Missile      1   \n",
       "83     Proteção contra o Bem e Mal  Protection from Evil and Good      1   \n",
       "84             Purificar Alimentos          Purify Food and Drink      1   \n",
       "90  Encantar Arma (Auxílio Divino)                  Searing Smite      1   \n",
       "92                   Escudo Arcano                         Shield      1   \n",
       "93                 Escudo Protetor                Shield of Faith      1   \n",
       "\n",
       "         escola  ritual                                          elementos  \\\n",
       "4   [elemental]   False  [água, terra, fogo, ar, luz, sombras, relâmpag...   \n",
       "12  [elemental]   False                       [terra, luz, sombras, metal]   \n",
       "14  [elemental]   False  [água, terra, fogo, ar, luz, sombras, relâmpag...   \n",
       "17  [elemental]   False  [água, terra, fogo, ar, luz, sombras, relâmpag...   \n",
       "35  [elemental]   False  [água, terra, fogo, ar, luz, sombras, relâmpag...   \n",
       "36  [elemental]   False                                 [terra, relâmpago]   \n",
       "38  [elemental]   False         [terra, sombras, relâmpago, metal, veneno]   \n",
       "39  [elemental]   False         [terra, sombras, relâmpago, metal, veneno]   \n",
       "46  [elemental]   False                 [água, terra, luz, sombras, metal]   \n",
       "51  [elemental]   False                                            [terra]   \n",
       "66  [elemental]   False           [água, terra, ar, luz, relâmpago, metal]   \n",
       "70  [elemental]   False  [água, terra, fogo, ar, luz, sombras, relâmpag...   \n",
       "72  [elemental]   False  [água, terra, fogo, ar, luz, sombras, relâmpag...   \n",
       "83  [elemental]   False                         [água, terra, luz, veneno]   \n",
       "84  [elemental]    True                         [água, terra, luz, veneno]   \n",
       "90  [elemental]   False  [água, terra, fogo, ar, luz, sombras, relâmpag...   \n",
       "92  [elemental]   False  [água, terra, fogo, ar, luz, sombras, relâmpag...   \n",
       "93  [elemental]   False  [água, terra, fogo, ar, luz, sombras, relâmpag...   \n",
       "\n",
       "   tempo_conjuracao alcance_area  \\\n",
       "4            1 ação      pessoal   \n",
       "12           1 ação    45 metros   \n",
       "14           1 ação    36 metros   \n",
       "17           1 ação    27 metros   \n",
       "35     1 ação bônus      pessoal   \n",
       "36           1 ação     3 metros   \n",
       "38     1 ação bônus      pessoal   \n",
       "39           1 ação    27 metros   \n",
       "46           1 ação     9 metros   \n",
       "51           1 ação    18 metros   \n",
       "66           1 ação        toque   \n",
       "70           1 ação        toque   \n",
       "72           1 ação    36 metros   \n",
       "83           1 ação        toque   \n",
       "84           1 ação     3 metros   \n",
       "90     1 ação bônus      pessoal   \n",
       "92         1 reação      pessoal   \n",
       "93     1 ação bônus    18 metros   \n",
       "\n",
       "                                          componentes  mana  \\\n",
       "4                                                  VS   300   \n",
       "12                                                  S   400   \n",
       "14                                                 VS   600   \n",
       "17                                                 VS   400   \n",
       "35                                                 VS   200   \n",
       "36                                                 VS   350   \n",
       "38                                                  V   400   \n",
       "39                                                 VS   400   \n",
       "46                         VSM (uma gota de mercúrio)   200   \n",
       "51        VSM (um pouco de pele de porco ou manteiga)   350   \n",
       "66                       VSM (uma perna de gafanhoto)   200   \n",
       "70                    VSM (um pedaço de couro curado)   350   \n",
       "72                                                 VS   350   \n",
       "83  VSM (água benta ou pó de prata e ferro, consum...   250   \n",
       "84                                                 VS   300   \n",
       "90                                                 VS   300   \n",
       "92                                                 VS   200   \n",
       "93  VSM (um pequeno pergaminho com alguns textos s...   200   \n",
       "\n",
       "                         duracao attack_save  dmg_effect        dmg  \\\n",
       "4                         1 hora         N/A   elemental          5   \n",
       "12                   instantânea    DEX Save   concussão        3d8   \n",
       "14                   instantânea   distância   elemental  2d8 + 1d6   \n",
       "17                   instantânea   distância   elemental        3d8   \n",
       "35    concentração, até 1 minuto         N/A   elemental        1d4   \n",
       "36                   instantânea    DEX Save   concussão        1d6   \n",
       "38    concentração, até 1 minuto    STR Save  perfurante        1d6   \n",
       "39    concentração, até 1 minuto    STR Save         N/A        N/A   \n",
       "46                        1 hora         N/A         N/A        N/A   \n",
       "51                      1 minuto    DEX Save       caído        N/A   \n",
       "66                      1 minuto         N/A         N/A        N/A   \n",
       "70                       8 horas         N/A         N/A        N/A   \n",
       "72                   instantânea         N/A   elemental    1d4 + 1   \n",
       "83  concentração, até 10 minutos         N/A         N/A        N/A   \n",
       "84                   instantânea         N/A         N/A        N/A   \n",
       "90    concentração, até 1 minuto         N/A   elemental        1d4   \n",
       "92                      1 rodada         N/A         N/A        N/A   \n",
       "93   concentração, até 10 minuto         N/A         N/A        N/A   \n",
       "\n",
       "                                              classes  \\\n",
       "4   [clérigo, paladino, bardo, monge, mago, feitic...   \n",
       "12          [clérigo, bardo, mago, feiticeiro, bruxo]   \n",
       "14  [clérigo, paladino, ladino, guerreiro, bardo, ...   \n",
       "17                   [bardo, mago, feiticeiro, bruxo]   \n",
       "35  [clérigo, paladino, ladino, guerreiro, bardo, ...   \n",
       "36  [clérigo, paladino, ladino, guerreiro, bardo, ...   \n",
       "38                          [paladino, ladino, monge]   \n",
       "39  [clérigo, paladino, ladino, guerreiro, bardo, ...   \n",
       "46  [clérigo, paladino, ladino, guerreiro, bardo, ...   \n",
       "51  [clérigo, paladino, ladino, guerreiro, bardo, ...   \n",
       "66           [ladino, monge, mago, feiticeiro, bruxo]   \n",
       "70  [clérigo, paladino, ladino, guerreiro, bardo, ...   \n",
       "72  [clérigo, paladino, ladino, guerreiro, bardo, ...   \n",
       "83  [clérigo, paladino, ladino, guerreiro, bardo, ...   \n",
       "84  [clérigo, paladino, ladino, guerreiro, bardo, ...   \n",
       "90  [clérigo, paladino, ladino, guerreiro, bardo, ...   \n",
       "92  [clérigo, paladino, ladino, guerreiro, bardo, ...   \n",
       "93  [clérigo, paladino, bardo, monge, mago, feitic...   \n",
       "\n",
       "                         tags  \\\n",
       "4              [defesa, dano]   \n",
       "12           [dano, controle]   \n",
       "14                     [dano]   \n",
       "17                     [dano]   \n",
       "35               [dano, buff]   \n",
       "36  [dano, controle, combate]   \n",
       "38  [dano, controle, combate]   \n",
       "39                 [controle]   \n",
       "46    [utilidade, exploração]   \n",
       "51                 [controle]   \n",
       "66                     [buff]   \n",
       "70             [buff, defesa]   \n",
       "72                     [dano]   \n",
       "83     [buff, debuff, defesa]   \n",
       "84                [utilidade]   \n",
       "90               [dano, buff]   \n",
       "92                   [defesa]   \n",
       "93             [buff, defesa]   \n",
       "\n",
       "                                            descricao    source  \\\n",
       "4   Uma força magica protetora envolve você, manif...       LDJ   \n",
       "12  Você cria uma pedra pesando entre 0,5 e 2,5 qu...  Xanathar   \n",
       "14  Você conjura uma massa ondulante de energia ca...  Xanathar   \n",
       "17  Você arremessa uma esfera de energia elemental...       LDJ   \n",
       "35  Você conjura uma força elemental ao redor da s...       LDJ   \n",
       "36  Você causa um tremor no solo dentro do alcance...    Custom   \n",
       "38  Da próxima vez que você atingir uma criatura c...       LDJ   \n",
       "39  Ervas e vinhas poderosas brotam do solo num qu...       LDJ   \n",
       "46  Essa magia cria um plano horizontal, circular ...       LDJ   \n",
       "51  Se o terreno for de pedra, você transforma ess...       LDJ   \n",
       "66  Você toca uma criatura. A distância de salto d...       LDJ   \n",
       "70  Você toca uma criatura voluntária que não este...       LDJ   \n",
       "72  Você cria três dardos elementais. Cada dardo a...       LDJ   \n",
       "83  Até a magia acabar, uma criatura voluntária qu...       LDJ   \n",
       "84  Toda comida e bebida não-mágica dentro de uma ...       LDJ   \n",
       "90  Você envolve sua arma com seu elemento. Até o ...       LDJ   \n",
       "92  Uma barreira de energia aparece e protege você...       LDJ   \n",
       "93  Um campo cintilante aparece ao redor de uma cr...       LDJ   \n",
       "\n",
       "           mana_adicional  \n",
       "4                     N/A  \n",
       "12                    N/A  \n",
       "14                    N/A  \n",
       "17                    N/A  \n",
       "35                    N/A  \n",
       "36                    N/A  \n",
       "38                    N/A  \n",
       "39                    N/A  \n",
       "46     5 a cada 5 minutos  \n",
       "51                    N/A  \n",
       "66                    N/A  \n",
       "70                    N/A  \n",
       "72                    N/A  \n",
       "83  10 de mana por minuto  \n",
       "84                    N/A  \n",
       "90           20 por turno  \n",
       "92                    N/A  \n",
       "93       10 a cada minuto  "
      ]
     },
     "execution_count": 3,
     "metadata": {},
     "output_type": "execute_result"
    }
   ],
   "source": [
    "filtered_df\n"
   ]
  },
  {
   "cell_type": "code",
   "execution_count": 4,
   "metadata": {},
   "outputs": [
    {
     "data": {
      "text/plain": [
       "600    1\n",
       "400    4\n",
       "350    4\n",
       "300    3\n",
       "250    1\n",
       "200    5\n",
       "Name: mana, dtype: int64"
      ]
     },
     "metadata": {},
     "output_type": "display_data"
    },
    {
     "name": "stdout",
     "output_type": "stream",
     "text": [
      "Mean =\t319.444\n",
      "Std  =\t104.514\n"
     ]
    }
   ],
   "source": [
    "from IPython.display import display\n",
    "\n",
    "\n",
    "def get_mana_stats(spells_df):\n",
    "    display(spells_df.mana.value_counts().sort_index(ascending=False))\n",
    "    print(f\"Mean =\\t{filtered_df.mana.mean():.3f}\")\n",
    "    print(f\"Std  =\\t{filtered_df.mana.std():.3f}\")\n",
    "\n",
    "\n",
    "get_mana_stats(filtered_df)\n"
   ]
  },
  {
   "cell_type": "code",
   "execution_count": 5,
   "metadata": {},
   "outputs": [
    {
     "name": "stdout",
     "output_type": "stream",
     "text": [
      "'5' is not a valid die format. It should be XdY where X and Y are integers.\n",
      "5 0\n",
      "3d8 13.5\n",
      "2d8 + 1d6 12.5\n",
      "3d8 13.5\n",
      "1d4 2.5\n",
      "1d6 3.5\n",
      "1d6 3.5\n",
      "'1' is not a valid die format. It should be XdY where X and Y are integers.\n",
      "1d4 + 1 0\n",
      "1d4 2.5\n"
     ]
    }
   ],
   "source": [
    "from DiceCalculator import get_dice_formula_mean, get_dice_formula_std\n",
    "\n",
    "for _, row in filtered_df.iterrows():\n",
    "    dmg = row[\"dmg\"]\n",
    "    if dmg != \"N/A\" and dmg != \"mod\":\n",
    "        print(dmg, get_dice_formula_mean(dmg))\n"
   ]
  },
  {
   "cell_type": "code",
   "execution_count": 18,
   "metadata": {},
   "outputs": [
    {
     "name": "stdout",
     "output_type": "stream",
     "text": [
      "{\\normalsize \\textbf{Armadura de Agathys \\textit{(Armor of Agathys)}} lvl 1\\\\}\n",
      "{\\small \\t \\textbf{Escola(s):} elemental (\\textit{água, terra, fogo, ar, luz, sombras, relâmpago, metal, veneno})\\\\\\t \\textbf{Tempo conjuração:} 1 ação\\\\\\t \\textbf{Alcance:} pessoal\\\\\\t \\textbf{Componentes:} VS\\\\\\t \\textbf{Mana:} 300\\\\\\t \\textbf{Duração:} 1 hora\\\\\\t \\textbf{Dano}: 5\\\\\\t \\textbf{Dmg/effect:} elemental\\\\}\n",
      "{\\normalsize Uma força magica protetora envolve você, manifestando-se de acordo com o seu elemento. Você ganha 5 pontos de vida temporários pela duração. Se uma criatura atingir você com um ataque corpo-a-corpo enquanto estiver com esses pontos de vida, a criatura sofrerá 5 de dano elemental.\\\\\\t \\textbf{Melhorar Magia}. Para cada 500 de mana adicional gasto, tanto os pontos de vida temporários quanto o dano aumentam em 5.\\\\}\n",
      "{\\scriptsize \\textcolor{gray}{[dano, defesa]\\\\}}\n",
      "{\\scriptsize \\textcolor{gray}{[bardo, bruxo, clérigo, feiticeiro, mago, monge, paladino]\\\\}}\n",
      "{\\tiny \\textcolor{gray}{\\textit{LDJ}}}\\jump{\\normalsize \\textbf{Catapulta \\textit{(Catapult)}} lvl 1\\\\}\n",
      "{\\small \\t \\textbf{Escola(s):} elemental (\\textit{terra, luz, sombras, metal})\\\\\\t \\textbf{Tempo conjuração:} 1 ação\\\\\\t \\textbf{Alcance:} 45 metros\\\\\\t \\textbf{Componentes:} S\\\\\\t \\textbf{Mana:} 400\\\\\\t \\textbf{Duração:} instantânea\\\\\\t \\textbf{Dano}: 3d8\\\\\\t \\textbf{Attack/Save:} DEX Save\\\\\\t \\textbf{Dmg/effect:} concussão\\\\}\n",
      "{\\normalsize Você cria uma pedra pesando entre 0,5 e 2,5 quilos. A pedra voa em linha reta até 18 metros na direção que você escolher, antes de cair no chão, parando prematuramente se atingir uma superfície sólida. Se a pedra puder atingir uma criatura, a criatura deve realizar um teste de resistência de Destreza. Se falhar na resistência, a pedra atinge o alvo e para de se mover. Em qualquer caso, tanto a pedra quanto a criatura ou superfície sólida sofrem 3d8 de dano de concussão.\\\\\\t \\textbf{Melhorar Magia.} A cada 600 de mana adicional gasto, o peso total da pedra pode aumentar em 2,5 quilos e o dano aumenta em 1d8 com um máximo de 5d8 adicionais.\\\\}\n",
      "{\\scriptsize \\textcolor{gray}{[controle, dano]\\\\}}\n",
      "{\\scriptsize \\textcolor{gray}{[bardo, bruxo, clérigo, feiticeiro, mago]\\\\}}\n",
      "{\\tiny \\textcolor{gray}{\\textit{Xanathar}}}\\jump{\\normalsize \\textbf{Raio de Caos \\textit{(Chaos Boat)}} lvl 1\\\\}\n",
      "{\\small \\t \\textbf{Escola(s):} elemental (\\textit{água, terra, fogo, ar, luz, sombras, relâmpago, metal, veneno})\\\\\\t \\textbf{Tempo conjuração:} 1 ação\\\\\\t \\textbf{Alcance:} 36 metros\\\\\\t \\textbf{Componentes:} VS\\\\\\t \\textbf{Mana:} 600\\\\\\t \\textbf{Duração:} instantânea\\\\\\t \\textbf{Dano}: 2d8 + 1d6\\\\\\t \\textbf{Attack/Save:} distância\\\\\\t \\textbf{Dmg/effect:} elemental\\\\}\n",
      "{\\normalsize Você conjura uma massa ondulante de energia caótica elemental em uma criatura no alcance. Faça um ataque a distância com magia contra o alvo. Se atingir, o alvo leva 2d8 + 1d6 de dano elemental.\\\\\\t Se os dois d8 rolados possuírem o mesmo valor, então a energia caótica salta para um alvo dentro de 9 metros de distância a sua escolha. Faça uma nova rolagem de ataque a distância contra o novo e role novamente o dano, fazendo com que a magia possa novamente saltar para outro alvo.\\\\\\t [Corpo-a-corpo] Você pode, ao invés de realizar um ataque à distância, utilizar uma arma corpo-a-corpo para fazer um ataque. Sua arma se enche dessa energia caótica e o efeito é o mesmo, mas a diferença é que o alvo inicial sofre 2d8 + o dano que sua arma possui naturalmente.\\\\\\t \\textbf{Melhorar Magia.} Para cada 500 adicionais de mana gasto, o dano da magia aumenta em 1d6, com um limite de 5d6 extras.\\\\}\n",
      "{\\scriptsize \\textcolor{gray}{[dano]\\\\}}\n",
      "{\\scriptsize \\textcolor{gray}{[bardo, bruxo, clérigo, feiticeiro, guerreiro, ladino, mago, monge, paladino]\\\\}}\n",
      "{\\tiny \\textcolor{gray}{\\textit{Xanathar}}}\\jump{\\normalsize \\textbf{Orbe Elemental \\textit{(Chromatic Orb)}} lvl 1\\\\}\n",
      "{\\small \\t \\textbf{Escola(s):} elemental (\\textit{água, terra, fogo, ar, luz, sombras, relâmpago, metal, veneno})\\\\\\t \\textbf{Tempo conjuração:} 1 ação\\\\\\t \\textbf{Alcance:} 27 metros\\\\\\t \\textbf{Componentes:} VS\\\\\\t \\textbf{Mana:} 400\\\\\\t \\textbf{Duração:} instantânea\\\\\\t \\textbf{Dano}: 3d8\\\\\\t \\textbf{Attack/Save:} distância\\\\\\t \\textbf{Dmg/effect:} elemental\\\\}\n",
      "{\\normalsize Você arremessa uma esfera de energia elemental de 12 centímetros de diâmetro numa criatura que você possa ver dentro do alcance. Você realiza um ataque à distância com magia. Se o ataque atingir, a criatura sofre 3d8 de dano elemental. \\textbf{Melhorar Magia.} Para cada 500 de mana adicional gasto, você pode adicionar 1d8 no dano até um máximo de 5d8 extras.\\\\}\n",
      "{\\scriptsize \\textcolor{gray}{[dano]\\\\}}\n",
      "{\\scriptsize \\textcolor{gray}{[bardo, bruxo, feiticeiro, mago]\\\\}}\n",
      "{\\tiny \\textcolor{gray}{\\textit{LDJ}}}\\jump{\\normalsize \\textbf{Auxílio Elemental \\textit{(Divine Favor)}} lvl 1\\\\}\n",
      "{\\small \\t \\textbf{Escola(s):} elemental (\\textit{água, terra, fogo, ar, luz, sombras, relâmpago, metal, veneno})\\\\\\t \\textbf{Tempo conjuração:} 1 ação bônus\\\\\\t \\textbf{Alcance:} pessoal\\\\\\t \\textbf{Componentes:} VS\\\\\\t \\textbf{Mana:} 200\\\\\\t \\textbf{Duração:} concentração, até 1 minuto\\\\\\t \\textbf{Dano}: 1d4\\\\\\t \\textbf{Dmg/effect:} elemental\\\\}\n",
      "{\\normalsize Você conjura uma força elemental ao redor da sua arma, fraca mais nociva. Até o fim da magia, seus ataques com arma causam 1d4 de dano elemental extra ao atingirem.\\\\}\n",
      "{\\scriptsize \\textcolor{gray}{[buff, dano]\\\\}}\n",
      "{\\scriptsize \\textcolor{gray}{[bardo, bruxo, clérigo, feiticeiro, guerreiro, ladino, mago, monge, paladino]\\\\}}\n",
      "{\\tiny \\textcolor{gray}{\\textit{LDJ}}}\\jump{\\normalsize \\textbf{Tremor de Terra \\textit{(Earth Tremor)}} lvl 1\\\\}\n",
      "{\\small \\t \\textbf{Escola(s):} elemental (\\textit{terra, relâmpago})\\\\\\t \\textbf{Tempo conjuração:} 1 ação\\\\\\t \\textbf{Alcance:} 3 metros\\\\\\t \\textbf{Componentes:} VS\\\\\\t \\textbf{Mana:} 350\\\\\\t \\textbf{Duração:} instantânea\\\\\\t \\textbf{Dano}: 1d6\\\\\\t \\textbf{Attack/Save:} DEX Save\\\\\\t \\textbf{Dmg/effect:} concussão\\\\}\n",
      "{\\normalsize Você causa um tremor no solo dentro do alcance. Toda criatura além de você deve fazer um Teste de Resistência de Destreza. Se falhar, a criatura recebe 1d6 de dano de concussão e cai no chão. Se o terreno for de terra solta ou pedra, ele se torna terreno difícil.\\\\\\t \\textbf{Melhorar Magia.} Você pode adicionar mais 500 de mana para adicionar mais 1d6 de dano até um máximo de 5d6 adicionais. Você pode adicionar mais 600 de mana para aumentar o alcance da magia em 1,5m até um máximo de 4,5m adicionais.\\\\}\n",
      "{\\scriptsize \\textcolor{gray}{[combate, controle, dano]\\\\}}\n",
      "{\\scriptsize \\textcolor{gray}{[bardo, bruxo, clérigo, feiticeiro, guerreiro, ladino, mago, monge, paladino]\\\\}}\n",
      "{\\tiny \\textcolor{gray}{\\textit{Custom}}}\\jump{\\normalsize \\textbf{Golpe Constritor \\textit{(Ensnaring Strike)}} lvl 1\\\\}\n",
      "{\\small \\t \\textbf{Escola(s):} elemental (\\textit{terra, sombras, relâmpago, metal, veneno})\\\\\\t \\textbf{Tempo conjuração:} 1 ação bônus\\\\\\t \\textbf{Alcance:} pessoal\\\\\\t \\textbf{Componentes:} V\\\\\\t \\textbf{Mana:} 400\\\\\\t \\textbf{Duração:} concentração, até 1 minuto\\\\\\t \\textbf{Dano}: 1d6\\\\\\t \\textbf{Attack/Save:} STR Save\\\\\\t \\textbf{Dmg/effect:} perfurante\\\\}\n",
      "{\\normalsize Da próxima vez que você atingir uma criatura com um ataque com arma, antes do final da magia, um emaranhado maciço de vinhas espinhentas elementais aparecem no local do impacto e o alvo deve ser bem sucedido num teste de resistência de Força ou ficará impedido pelas vinhas mágicas, até o fim da magia. Uma criatura Grande ou maior tem vantagem no seu teste de resistência. Se o alvo for bem sucedido na resistência, as vinhas murcharão.\\\\\\t Enquanto estiver impedido pela magia, um alvo sofre 1d6 de dano perfurante no início de cada um dos turnos dele. Uma criatura impedida pelas vinhas ou uma que possa tocar a criatura, pode usar sua ação para realizar um teste de Força contra a CD da magia. Num sucesso, o alvo é libertado.\\\\\\t \\textbf{Melhorar Magia.} Você pode gastar 500 de mana extras para adicionar 1d6 no dano até um máximo de 5d6 adicionais.\\\\}\n",
      "{\\scriptsize \\textcolor{gray}{[combate, controle, dano]\\\\}}\n",
      "{\\scriptsize \\textcolor{gray}{[ladino, monge, paladino]\\\\}}\n",
      "{\\tiny \\textcolor{gray}{\\textit{LDJ}}}\\jump{\\normalsize \\textbf{Constrição \\textit{(Entangle)}} lvl 1\\\\}\n",
      "{\\small \\t \\textbf{Escola(s):} elemental (\\textit{terra, sombras, relâmpago, metal, veneno})\\\\\\t \\textbf{Tempo conjuração:} 1 ação\\\\\\t \\textbf{Alcance:} 27 metros\\\\\\t \\textbf{Componentes:} VS\\\\\\t \\textbf{Mana:} 400\\\\\\t \\textbf{Duração:} concentração, até 1 minuto\\\\\\t \\textbf{Attack/Save:} STR Save\\\\}\n",
      "{\\normalsize Ervas e vinhas poderosas brotam do solo num quadrado de 6 metros a partir de um ponto dentro do alcance. Pela duração, essas plantas transformam o solo na área em terreno difícil.\\\\\\t Uma criatura na área quando você conjurar a magia deve ser bem sucedida num teste de resistência de Força ou ficará impedida pelo emaranhado de plantas, até a magia acabar. Uma criatura impedida pelas plantas pode usar sua ação para realizar um teste de Força, contra a CD da magia. Se for bem sucedido, irá se libertar.\\\\\\t Quando a magia termina, as plantas conjuradas murcharão.\\\\}\n",
      "{\\scriptsize \\textcolor{gray}{[controle]\\\\}}\n",
      "{\\scriptsize \\textcolor{gray}{[bardo, bruxo, clérigo, feiticeiro, guerreiro, ladino, mago, monge, paladino]\\\\}}\n",
      "{\\tiny \\textcolor{gray}{\\textit{LDJ}}}\\jump{\\normalsize \\textbf{Disco Flutuante \\textit{(Floating Disk)}} lvl 1\\\\}\n",
      "{\\small \\t \\textbf{Escola(s):} elemental (\\textit{água, terra, luz, sombras, metal})\\\\\\t \\textbf{Tempo conjuração:} 1 ação\\\\\\t \\textbf{Alcance:} 9 metros\\\\\\t \\textbf{Componentes:} VSM \\textit{(uma gota de mercúrio)}\\\\\\t \\textbf{Mana:} 200 (\\textit{+ 5 a cada 5 minutos})\\\\\\t \\textbf{Duração:} 1 hora\\\\}\n",
      "{\\normalsize Essa magia cria um plano horizontal, circular elemental de 90 cm de diâmetro por 2,5 cm de espessura, que flutua 90 centímetros acima do chão em um espaço desocupado, à sua escolha, que você possa ver dentro do alcance. O disco permanece pela duração e pode suportar até 250 quilos. Se mais peso for colocado nele, a magia termina, e tudo em cima do disco cai no chão.\\\\\\t O disco é imóvel enquanto você estiver a até 6 metros dele. Se você se afastar a mais de 6 metros dele, o disco seguirá você, mantendo-se a 6 metros de você. Ele pode atravessar terreno irregular, subir ou descer escadas, encostas e similares, mas ele não pode atravessar mudanças de elevação de 3 metros ou mais. Por exemplo, o disco não pode atravessar um fosso de 3 metros de profundidade nem poderia sair de tal fosso se tivesse sido criado no fundo dele.\\\\\\t Se você se afastar mais de 30 metros do disco (tipicamente por ele não poder rodear um obstáculo para seguir você), a magia acaba.\\\\}\n",
      "{\\scriptsize \\textcolor{gray}{[exploração, utilidade]\\\\}}\n",
      "{\\scriptsize \\textcolor{gray}{[bardo, bruxo, clérigo, feiticeiro, guerreiro, ladino, mago, monge, paladino]\\\\}}\n",
      "{\\tiny \\textcolor{gray}{\\textit{LDJ}}}\\jump{\\normalsize \\textbf{Área Escorregadia \\textit{(Grease)}} lvl 1\\\\}\n",
      "{\\small \\t \\textbf{Escola(s):} elemental (\\textit{terra})\\\\\\t \\textbf{Tempo conjuração:} 1 ação\\\\\\t \\textbf{Alcance:} 18 metros\\\\\\t \\textbf{Componentes:} VSM \\textit{(um pouco de pele de porco ou manteiga)}\\\\\\t \\textbf{Mana:} 350\\\\\\t \\textbf{Duração:} 1 minuto\\\\\\t \\textbf{Attack/Save:} DEX Save\\\\\\t \\textbf{Dmg/effect:} caído\\\\}\n",
      "{\\normalsize Se o terreno for de pedra, você transforma essa pedra em uma pedra extremamente polida em um quadrado de 3 metros centrado em um ponto, dentro do alcance, tornando essa área terreno difícil pela duração.\\\\\\t Quando a pedra fica polida, cada criatura de pé na área deve ser bem sucedida num teste de resistência de Destreza ou cairá no chão. Uma criatura que entre na área ou termine seu turno nela também deve passar um teste de resistência de Destreza ou cairá no chão.\\\\}\n",
      "{\\scriptsize \\textcolor{gray}{[controle]\\\\}}\n",
      "{\\scriptsize \\textcolor{gray}{[bardo, bruxo, clérigo, feiticeiro, guerreiro, ladino, mago, monge, paladino]\\\\}}\n",
      "{\\tiny \\textcolor{gray}{\\textit{LDJ}}}\\jump{\\normalsize \\textbf{Salto \\textit{(Jump)}} lvl 1\\\\}\n",
      "{\\small \\t \\textbf{Escola(s):} elemental (\\textit{água, terra, ar, luz, relâmpago, metal})\\\\\\t \\textbf{Tempo conjuração:} 1 ação\\\\\\t \\textbf{Alcance:} toque\\\\\\t \\textbf{Componentes:} VSM \\textit{(uma perna de gafanhoto)}\\\\\\t \\textbf{Mana:} 200\\\\\\t \\textbf{Duração:} 1 minuto\\\\}\n",
      "{\\normalsize Você toca uma criatura. A distância de salto da criatura é triplicada até a magia acabar.\\\\}\n",
      "{\\scriptsize \\textcolor{gray}{[buff]\\\\}}\n",
      "{\\scriptsize \\textcolor{gray}{[bruxo, feiticeiro, ladino, mago, monge]\\\\}}\n",
      "{\\tiny \\textcolor{gray}{\\textit{LDJ}}}\\jump{\\normalsize \\textbf{Armadura Arcana \\textit{(Mage Armor)}} lvl 1\\\\}\n",
      "{\\small \\t \\textbf{Escola(s):} elemental (\\textit{água, terra, fogo, ar, luz, sombras, relâmpago, metal, veneno})\\\\\\t \\textbf{Tempo conjuração:} 1 ação\\\\\\t \\textbf{Alcance:} toque\\\\\\t \\textbf{Componentes:} VSM \\textit{(um pedaço de couro curado)}\\\\\\t \\textbf{Mana:} 350\\\\\\t \\textbf{Duração:} 8 horas\\\\}\n",
      "{\\normalsize Você toca uma criatura voluntária que não esteja vestindo armadura e uma energia mágica protetora a envolve até a magia acabar. A CA base do alvo se torna 13 ([Metal] 15) + o modificador de Destreza dele. A magia acaba se o alvo colocar uma armadura ou se você dissipa-la usando uma ação.\\\\}\n",
      "{\\scriptsize \\textcolor{gray}{[buff, defesa]\\\\}}\n",
      "{\\scriptsize \\textcolor{gray}{[bardo, bruxo, clérigo, feiticeiro, guerreiro, ladino, mago, monge, paladino]\\\\}}\n",
      "{\\tiny \\textcolor{gray}{\\textit{LDJ}}}\\jump{\\normalsize \\textbf{Mísseis Mágicos \\textit{(Magic Missile)}} lvl 1\\\\}\n",
      "{\\small \\t \\textbf{Escola(s):} elemental (\\textit{água, terra, fogo, ar, luz, sombras, relâmpago, metal, veneno})\\\\\\t \\textbf{Tempo conjuração:} 1 ação\\\\\\t \\textbf{Alcance:} 36 metros\\\\\\t \\textbf{Componentes:} VS\\\\\\t \\textbf{Mana:} 350\\\\\\t \\textbf{Duração:} instantânea\\\\\\t \\textbf{Dano}: 1d4 + 1\\\\\\t \\textbf{Dmg/effect:} elemental\\\\}\n",
      "{\\normalsize Você cria três dardos elementais. Cada dardo atinge uma criatura, à sua escolha, que você possa ver, dentro do alcance. Um dardo causa 1d4 + 1 de dano elemental ao alvo. Todos os dardos atingem simultaneamente e você pode direciona-los para atingir uma criatura ou várias.\\\\\\t \\textbf{Melhorar Magia}. Para cada 500 de mana adicionais, você adiciona mais um dardo à magia, até um máximo de 10 dardos totais.\\\\}\n",
      "{\\scriptsize \\textcolor{gray}{[dano]\\\\}}\n",
      "{\\scriptsize \\textcolor{gray}{[bardo, bruxo, clérigo, feiticeiro, guerreiro, ladino, mago, monge, paladino]\\\\}}\n",
      "{\\tiny \\textcolor{gray}{\\textit{LDJ}}}\\jump{\\normalsize \\textbf{Proteção contra o Bem e Mal \\textit{(Protection from Evil and Good)}} lvl 1\\\\}\n",
      "{\\small \\t \\textbf{Escola(s):} elemental (\\textit{água, terra, luz, veneno})\\\\\\t \\textbf{Tempo conjuração:} 1 ação\\\\\\t \\textbf{Alcance:} toque\\\\\\t \\textbf{Componentes:} VSM \\textit{(água benta ou pó de prata e ferro, consumidos pela magia)}\\\\\\t \\textbf{Mana:} 250 (\\textit{+ 10 de mana por minuto})\\\\\\t \\textbf{Duração:} concentração, até 10 minutos\\\\}\n",
      "{\\normalsize Até a magia acabar, uma criatura voluntária que você tocar estará protegida contra certos tipos de criaturas: aberrações, celestiais, corruptores, elementais, fadas e mortos-vivos.\\\\\\t A proteção garante diversos benefícios. As criaturas desse tipo tem desvantagem nas jogadas de ataque contra o alvo. O alvo não pode ser enfeitiçado, amedrontado ou possuído por elas. Se o alvo já estiver enfeitiçado, amedrontado ou possuído por uma dessas criaturas, o alvo terá vantagem em qualquer novo teste de resistência contra o efeito relevante.\\\\}\n",
      "{\\scriptsize \\textcolor{gray}{[buff, debuff, defesa]\\\\}}\n",
      "{\\scriptsize \\textcolor{gray}{[bardo, bruxo, clérigo, feiticeiro, guerreiro, ladino, mago, monge, paladino]\\\\}}\n",
      "{\\tiny \\textcolor{gray}{\\textit{LDJ}}}\\jump{\\normalsize \\textbf{Purificar Alimentos \\textit{(Purify Food and Drink)}} lvl 1 - ritual\\\\}\n",
      "{\\small \\t \\textbf{Escola(s):} elemental (\\textit{água, terra, luz, veneno})\\\\\\t \\textbf{Tempo conjuração:} 1 ação\\\\\\t \\textbf{Alcance:} 3 metros\\\\\\t \\textbf{Componentes:} VS\\\\\\t \\textbf{Mana:} 300\\\\\\t \\textbf{Duração:} instantânea\\\\}\n",
      "{\\normalsize Toda comida e bebida não-mágica dentro de uma esfera de 1,5 metro de raio centrada num ponto, à sua escolha, dentro do alcance é purificada e se livrada de venenos ou doenças.\\\\}\n",
      "{\\scriptsize \\textcolor{gray}{[utilidade]\\\\}}\n",
      "{\\scriptsize \\textcolor{gray}{[bardo, bruxo, clérigo, feiticeiro, guerreiro, ladino, mago, monge, paladino]\\\\}}\n",
      "{\\tiny \\textcolor{gray}{\\textit{LDJ}}}\\jump{\\normalsize \\textbf{Encantar Arma (Auxílio Divino) \\textit{(Searing Smite)}} lvl 1\\\\}\n",
      "{\\small \\t \\textbf{Escola(s):} elemental (\\textit{água, terra, fogo, ar, luz, sombras, relâmpago, metal, veneno})\\\\\\t \\textbf{Tempo conjuração:} 1 ação bônus\\\\\\t \\textbf{Alcance:} pessoal\\\\\\t \\textbf{Componentes:} VS\\\\\\t \\textbf{Mana:} 300 (\\textit{+ 20 por turno})\\\\\\t \\textbf{Duração:} concentração, até 1 minuto\\\\\\t \\textbf{Dano}: 1d4\\\\\\t \\textbf{Dmg/effect:} elemental\\\\}\n",
      "{\\normalsize Você envolve sua arma com seu elemento. Até o final da magia, seus ataques com aruma causa 1d4 de dano elemento extra ao atingirem.\\\\\\t \\textbf{Melhorar Magia}. Você pode gastar mais 500 de mana e mais 30 de mana por turno para transformar o d4 em d6. Você pode gastar mais 1500 de mana e mais 50 de mana por turno para transformar o d6 em d8. Você pode gastar mais 5000 de mana e mais 100 de mana por turno para transformar o d8 em d10.\\\\}\n",
      "{\\scriptsize \\textcolor{gray}{[buff, dano]\\\\}}\n",
      "{\\scriptsize \\textcolor{gray}{[bardo, bruxo, clérigo, feiticeiro, guerreiro, ladino, mago, monge, paladino]\\\\}}\n",
      "{\\tiny \\textcolor{gray}{\\textit{LDJ}}}\\jump{\\normalsize \\textbf{Escudo Arcano \\textit{(Shield)}} lvl 1\\\\}\n",
      "{\\small \\t \\textbf{Escola(s):} elemental (\\textit{água, terra, fogo, ar, luz, sombras, relâmpago, metal, veneno})\\\\\\t \\textbf{Tempo conjuração:} 1 reação\\\\\\t \\textbf{Alcance:} pessoal\\\\\\t \\textbf{Componentes:} VS\\\\\\t \\textbf{Mana:} 200\\\\\\t \\textbf{Duração:} 1 rodada\\\\}\n",
      "{\\normalsize Uma barreira de energia aparece e protege você.\\\\\\t Até o início do seu próximo turno, você recebe +5 de bônus na CA, incluindo contra o ataque que desencadeou a magia, e você não sofre dado de mísseis mágicos.\\\\}\n",
      "{\\scriptsize \\textcolor{gray}{[defesa]\\\\}}\n",
      "{\\scriptsize \\textcolor{gray}{[bardo, bruxo, clérigo, feiticeiro, guerreiro, ladino, mago, monge, paladino]\\\\}}\n",
      "{\\tiny \\textcolor{gray}{\\textit{LDJ}}}\\jump{\\normalsize \\textbf{Escudo Protetor \\textit{(Shield of Faith)}} lvl 1\\\\}\n",
      "{\\small \\t \\textbf{Escola(s):} elemental (\\textit{água, terra, fogo, ar, luz, sombras, relâmpago, metal, veneno})\\\\\\t \\textbf{Tempo conjuração:} 1 ação bônus\\\\\\t \\textbf{Alcance:} 18 metros\\\\\\t \\textbf{Componentes:} VSM \\textit{(um pequeno pergaminho com alguns textos sagrados escritos nele)}\\\\\\t \\textbf{Mana:} 200 (\\textit{+ 10 a cada minuto})\\\\\\t \\textbf{Duração:} concentração, até 10 minuto\\\\}\n",
      "{\\normalsize Um campo cintilante aparece ao redor de uma criatura, à sua escolha, dentro do alcance, concedendo +2 de bônus na CA pela duração\\\\}\n",
      "{\\scriptsize \\textcolor{gray}{[buff, defesa]\\\\}}\n",
      "{\\scriptsize \\textcolor{gray}{[bardo, bruxo, clérigo, feiticeiro, mago, monge, paladino]\\\\}}\n",
      "{\\tiny \\textcolor{gray}{\\textit{LDJ}}}\\jump\n"
     ]
    }
   ],
   "source": [
    "import SpellExporter as spell_exporter\n",
    "\n",
    "EXPORT_SPELLS = False\n",
    "\n",
    "if EXPORT_SPELLS:\n",
    "    spell_exporter.export_spells(filtered_df, \"spells.tex\", verbose=True)"
   ]
  },
  {
   "cell_type": "code",
   "execution_count": null,
   "metadata": {},
   "outputs": [],
   "source": []
  }
 ],
 "metadata": {
  "interpreter": {
   "hash": "d36adf45757a947aebb41e19531952e79d7da656c5a3acf675af965b060eaf9d"
  },
  "kernelspec": {
   "display_name": "Python 3.10.2 64-bit",
   "language": "python",
   "name": "python3"
  },
  "language_info": {
   "codemirror_mode": {
    "name": "ipython",
    "version": 3
   },
   "file_extension": ".py",
   "mimetype": "text/x-python",
   "name": "python",
   "nbconvert_exporter": "python",
   "pygments_lexer": "ipython3",
   "version": "3.10.2"
  },
  "orig_nbformat": 4
 },
 "nbformat": 4,
 "nbformat_minor": 2
}
