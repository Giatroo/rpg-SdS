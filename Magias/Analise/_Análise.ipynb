{
 "cells": [
  {
   "cell_type": "code",
   "execution_count": 1,
   "metadata": {},
   "outputs": [
    {
     "name": "stdout",
     "output_type": "stream",
     "text": [
      "Wrong values.\n",
      "Column 'escola' have wrong values:\n",
      "                 nome          name               escola\n",
      "15  Enfeitiçar Pessoa  Charm Person  [psíquica, musical]\n"
     ]
    }
   ],
   "source": [
    "from DFReader import get_spells_df\n",
    "from DFFormatAsserter import assert_columns_not_null, fill_na_by_column, assert_df_schema   \n",
    "\n",
    "spells_df = get_spells_df()\n",
    "fill_na_by_column(spells_df)\n",
    "assert_columns_not_null(spells_df)\n",
    "\n",
    "try:\n",
    "    assert_df_schema(spells_df)\n",
    "except ValueError as e:\n",
    "    print('Wrong values.')\n",
    "    print(e)"
   ]
  },
  {
   "cell_type": "code",
   "execution_count": 6,
   "metadata": {},
   "outputs": [
    {
     "data": {
      "text/markdown": [
       "<span style='color:None;font-size:None'>**Absorver Elementos _(Absorve Elements)_** lvl 1<br></span><span style='color:None;font-size:13px'>&emsp;Escola: **elemental** (_sombras_)<br>&emsp;Tempo conjuração: **1 reação**<br>&emsp;Alcance: **pessoal**<br>&emsp;Componentes: **S**<br>&emsp;Mana: **350**<br>&emsp;Duração: **1 rodada**<br>&emsp;Dano: **1d6**<br>&emsp;Dmg effect: **elemental**<br></span><span style='color:None;font-size:None'>A magia reverte parte da energia recebida, minimizando seu efeito em você e armazenando-a no seu próximo ataque corpo-a-corpo. Se você recebe um dano elemental, você pode usar sua reação para diminuir o dano pela metade. Além disso, da primeira vez que você atingir um ataque corpo-a-corpo no seu próximo turno, o alvo sofre 1d6 de dano extra do tipo relacionado e a magia termina.<br>&emsp;**Melhorar Magia**. A cada 500 de mana que você gasta a mais para conjurar essa magia, você adiciona 1d6 a mais (máximo de 5).<br></span><span style='color:gray;font-size:11px'>[dano, defesa]<br></span><span style='color:gray;font-size:11px'>[clérigo, paladino]<br></span><span style='color:gray;font-size:10px'>_Xanathar_</span>"
      ],
      "text/plain": [
       "<IPython.core.display.Markdown object>"
      ]
     },
     "metadata": {},
     "output_type": "display_data"
    },
    {
     "name": "stdout",
     "output_type": "stream",
     "text": [
      "\n"
     ]
    },
    {
     "data": {
      "text/markdown": [
       "<span style='color:None;font-size:None'>**Alarme _(Alarm)_** lvl 1 - ritual<br></span><span style='color:None;font-size:13px'>&emsp;Escola: **musical**<br>&emsp;Tempo conjuração: **1 minuto**<br>&emsp;Alcance: **9 metros**<br>&emsp;Componentes: **VSM** _(um pequeno sino e um pequeno fio de prata)_<br>&emsp;Mana: **200**<br>&emsp;Duração: **8 horas**<br></span><span style='color:None;font-size:None'>Você coloca um alarme para intrusos desavisados.<br>&emsp;Escolha uma porta, uma janela ou uma área dentro do alcance que não seja maior que 6 metros cúbicos. Até a magia acabar, um alarme alerta você sempre que uma criatura Miúda ou maior tocarem ou entrarem na área protegida. Quando você conjura a magia, você pode designar as criaturas que não ativarão o alarme. Você também escolhe se o alarme será mental ou audível.<br>&emsp;Um alarme mental alerta você com um silvo na sua mente, se você estiver a até de 1,5 quilômetro da área protegida. Esse silvo acordará você se você estiver dormindo.<br>&emsp;Um alarme audível produz o som de um sino de mão por 10 minutos num raio de 18 metros. <br></span><span style='color:gray;font-size:11px'>[detecção, utilidade]<br></span><span style='color:gray;font-size:11px'>[bardo, bruxo, clérigo, guerreiro, ladino, mago, monge, paladino]<br></span><span style='color:gray;font-size:10px'>_LDJ_</span>"
      ],
      "text/plain": [
       "<IPython.core.display.Markdown object>"
      ]
     },
     "metadata": {},
     "output_type": "display_data"
    },
    {
     "name": "stdout",
     "output_type": "stream",
     "text": [
      "\n"
     ]
    },
    {
     "data": {
      "text/markdown": [
       "<span style='color:None;font-size:None'>**Amizade Animal _(Animal Friendship)_** lvl 1<br></span><span style='color:None;font-size:13px'>&emsp;Escola: **musical**<br>&emsp;Tempo conjuração: **1 ação**<br>&emsp;Alcance: **9 metros**<br>&emsp;Componentes: **VSM** _(um punhado de comida)_<br>&emsp;Mana: **200**<br>&emsp;Duração: **24 horas**<br>&emsp;Attack/Save: **WIS Save**<br></span><span style='color:None;font-size:None'>Essa magia deixa você convencer uma besta que você não quer prejudicar. Escolha uma besta que você possa ver dentro do alcance. Ela deve ver e ouvir você. Se a Inteligência da besta for 4 ou maior, a magia falha. Do contrário, a besta deve ser bem sucedida num teste de resistência de Sabedoria ou ficará enfeitiçada por você pela duração da magia. Se você ou um dos seus companheiros ferir o alvo, a magia termina.<br>&emsp;**Melhorar Magia**. A cada 400 de mana adicional que você gastar, você pode afetar uma besta adicional até o máximo de 5.<br></span><span style='color:gray;font-size:11px'>[controle, social]<br></span><span style='color:gray;font-size:11px'>[bardo, bruxo, clérigo, feiticeiro, guerreiro, ladino, mago, monge, paladino]<br></span><span style='color:gray;font-size:10px'>_LDJ_</span>"
      ],
      "text/plain": [
       "<IPython.core.display.Markdown object>"
      ]
     },
     "metadata": {},
     "output_type": "display_data"
    },
    {
     "name": "stdout",
     "output_type": "stream",
     "text": [
      "\n"
     ]
    },
    {
     "data": {
      "text/markdown": [
       "<span style='color:None;font-size:None'>**Armadura de Agathys _(Armor of Agathys)_** lvl 1<br></span><span style='color:None;font-size:13px'>&emsp;Escola: **elemental** (_água, terra, fogo, ar, luz, sombras, relâmpago, metal, veneno_)<br>&emsp;Tempo conjuração: **1 ação**<br>&emsp;Alcance: **pessoal**<br>&emsp;Componentes: **VS**<br>&emsp;Mana: **300**<br>&emsp;Duração: **1 hora**<br>&emsp;Dano: **5**<br>&emsp;Dmg effect: **elemental**<br></span><span style='color:None;font-size:None'>Uma força magica protetora envolve você, manifestando-se de acordo com o seu elemento. Você ganha 5 pontos de vida temporários pela duração. Se uma criatura atingir você com um ataque corpo-a-corpo enquanto estiver com esses pontos de vida, a criatura sofrerá 5 de dano elemental.<br>&emsp;**Melhorar Magia**. Para cada 500 de mana adicional gasto, tanto os pontos de vida temporários quanto o dano aumentam em 5.<br></span><span style='color:gray;font-size:11px'>[dano, defesa]<br></span><span style='color:gray;font-size:11px'>[bardo, bruxo, clérigo, feiticeiro, mago, monge, paladino]<br></span><span style='color:gray;font-size:10px'>_LDJ_</span>"
      ],
      "text/plain": [
       "<IPython.core.display.Markdown object>"
      ]
     },
     "metadata": {},
     "output_type": "display_data"
    },
    {
     "name": "stdout",
     "output_type": "stream",
     "text": [
      "\n"
     ]
    },
    {
     "data": {
      "text/markdown": [
       "<span style='color:None;font-size:None'>**Braços de Hadar _(Arms of Hadar)_** lvl 1<br></span><span style='color:None;font-size:13px'>&emsp;Escola: **elemental** (_sombras_)<br>&emsp;Tempo conjuração: **1 ação**<br>&emsp;Alcance: **3 metros**<br>&emsp;Componentes: **VS**<br>&emsp;Mana: **500**<br>&emsp;Duração: **instantânea**<br>&emsp;Dano: **2d6**<br>&emsp;Attack/Save: **STR Save**<br>&emsp;Dmg effect: **necrótico**<br></span><span style='color:None;font-size:None'>Você invoca o poder de Hadar, o Faminto Sombrio.<br>&emsp;Tentáculos de energia negra brotam de você e golpeiam todas as criaturas a até 3 metros de você. Cada criatura na área deve realizar um teste de resistência de Força. Se falhar, o alvo sofre 2d6 de dano necrótico e não pode fazer reações até o próximo turno dela. Em um sucesso, uma criatura sofre metade do dano e não sofre qualquer outro efeito.<br>&emsp;**Melhorar Magia.** Para cada 600 de mana adicionais gastos, o dano aumenta 1d6 até um máximo de 5d6 adicionais.<br></span><span style='color:gray;font-size:11px'>[dano]<br></span><span style='color:gray;font-size:11px'>[bardo, bruxo, clérigo, feiticeiro, guerreiro, ladino, mago, monge, paladino]<br></span><span style='color:gray;font-size:10px'>_LDJ_</span>"
      ],
      "text/plain": [
       "<IPython.core.display.Markdown object>"
      ]
     },
     "metadata": {},
     "output_type": "display_data"
    },
    {
     "name": "stdout",
     "output_type": "stream",
     "text": [
      "\n"
     ]
    },
    {
     "data": {
      "text/markdown": [
       "<span style='color:None;font-size:None'>**Perdição _(Bane)_** lvl 1<br></span><span style='color:None;font-size:13px'>&emsp;Escola: **musical**<br>&emsp;Tempo conjuração: **1 ação**<br>&emsp;Alcance: **9 metros**<br>&emsp;Componentes: **VSM** _(uma gota de sangue)_<br>&emsp;Mana: **350** (_+ 75 por turno_)<br>&emsp;Duração: **concentração, até 1 minuto**<br>&emsp;Attack/Save: **CHA Save**<br></span><span style='color:None;font-size:None'>Até três criaturas, à sua escolha, que você possa ver dentro do alcance, devem realizar um teste de resistência de Carisma. Sempre que um alvo que falhou nessa resistência realizar uma jogada de ataque ou um teste de resistência antes da magia acabar, o alvo deve rolar 1d4 e subtrair o valor rolado da jogada de ataque ou teste de resistência.<br>&emsp;**Melhorar Magia:** Para cada 500 de mana adicional gasto, mais uma criatura é afetada até um máximo de 5. Você pode gastar mais 500 para cada criatura criatura afetada para transformar o d4 em d6.<br></span><span style='color:gray;font-size:11px'>[debuff]<br></span><span style='color:gray;font-size:11px'>[bardo, bruxo, clérigo, feiticeiro, mago, paladino]<br></span><span style='color:gray;font-size:10px'>_LDJ_</span>"
      ],
      "text/plain": [
       "<IPython.core.display.Markdown object>"
      ]
     },
     "metadata": {},
     "output_type": "display_data"
    },
    {
     "name": "stdout",
     "output_type": "stream",
     "text": [
      "\n"
     ]
    },
    {
     "data": {
      "text/markdown": [
       "<span style='color:None;font-size:None'>**Vínculo com a Besta _(Beast Bond)_** lvl 1<br></span><span style='color:None;font-size:13px'>&emsp;Escola: **psíquica**<br>&emsp;Tempo conjuração: **1 ação**<br>&emsp;Alcance: **toque**<br>&emsp;Componentes: **VSM** _(um tufo de pelos envolto por um pano)_<br>&emsp;Mana: **150** (_+ 10 por minuto_)<br>&emsp;Duração: **concentração, até 10 minutos**<br></span><span style='color:None;font-size:None'>Você estabelece um elo telepático com uma besta que você tocar que seja amigável a você ou que esteja enfeitiçada por você. A magia falha se o valor de Inteligência da besta for 4 ou maior. Até a magia acabar, o elo permanece ativo contato que você e a besta tenham linha de visão um do outro. Através do elo, a besta pode compreender suas mensagens telepáticas para ela e pode comunicar telepaticamente emoções e conceitos simples de volta para você.<br>&emsp;Enquanto o elo estiver ativo, a besta ganha vantagem nas jogadas de ataque contra qualquer criatura a até 1,5 metros de você que você possa ver.<br></span><span style='color:gray;font-size:11px'>[buff, comunicação]<br></span><span style='color:gray;font-size:11px'>[bardo, bruxo, clérigo, feiticeiro, guerreiro, ladino, mago, monge, paladino]<br></span><span style='color:gray;font-size:10px'>_Xanathar_</span>"
      ],
      "text/plain": [
       "<IPython.core.display.Markdown object>"
      ]
     },
     "metadata": {},
     "output_type": "display_data"
    },
    {
     "name": "stdout",
     "output_type": "stream",
     "text": [
      "\n"
     ]
    },
    {
     "data": {
      "text/markdown": [
       "<span style='color:None;font-size:None'>**Bênção _(Bless)_** lvl 1<br></span><span style='color:None;font-size:13px'>&emsp;Escola: **elemental** (_água, luz_)<br>&emsp;Tempo conjuração: **1 ação**<br>&emsp;Alcance: **9 metros**<br>&emsp;Componentes: **VSM** _(um borrifo de água benta)_<br>&emsp;Mana: **300** (_+ 30 por turno_)<br>&emsp;Duração: **concentração, até 1 minuto**<br></span><span style='color:None;font-size:None'>Um texto longo pra k7 aqui<br></span><span style='color:gray;font-size:11px'>[buff]<br></span><span style='color:gray;font-size:11px'>[bardo, bruxo, clérigo, feiticeiro, mago, monge, paladino]<br></span><span style='color:gray;font-size:10px'>_LDJ_</span>"
      ],
      "text/plain": [
       "<IPython.core.display.Markdown object>"
      ]
     },
     "metadata": {},
     "output_type": "display_data"
    },
    {
     "name": "stdout",
     "output_type": "stream",
     "text": [
      "\n"
     ]
    },
    {
     "data": {
      "text/markdown": [
       "<span style='color:None;font-size:None'>**Mãos Flamejantes _(Burning Hands)_** lvl 1<br></span><span style='color:None;font-size:13px'>&emsp;Escola: **elemental** (_fogo, sombras, relâmpago, veneno_)<br>&emsp;Tempo conjuração: **1 ação**<br>&emsp;Alcance: **pessoal (cone de 4,5 metros)**<br>&emsp;Componentes: **VS**<br>&emsp;Mana: **400**<br>&emsp;Duração: **instantânea**<br>&emsp;Dano: **3d6**<br>&emsp;Attack/Save: **DEX Save**<br>&emsp;Dmg effect: **fogo**<br></span><span style='color:None;font-size:None'>Enquanto você mantiver suas mãos com os polegares juntos e os dedos abertos, uma fino leque de chamas emerge das pontas dos seus dedos erguidos. Cada criatura num cone de 4,5 metros deve realizar um teste de resistência de Destreza. Uma criatura sofre 3d6 de dano elemental se falhar no teste, ou metade desse dano se obtiver sucesso.<br>&emsp;O fogo incendeia qualquer objeto inflamável na área que não esteja sendo vestido ou carregado.<br>&emsp;**Melhorar Magia.** Para cada 500 de mana a mais gasto, adicione 1d6 ao dano até um máximo de 5 dados extras.<br></span><span style='color:gray;font-size:11px'>[dano]<br></span><span style='color:gray;font-size:11px'>[bardo, bruxo, clérigo, feiticeiro, guerreiro, ladino, mago, monge, paladino]<br></span><span style='color:gray;font-size:10px'>_LDJ_</span>"
      ],
      "text/plain": [
       "<IPython.core.display.Markdown object>"
      ]
     },
     "metadata": {},
     "output_type": "display_data"
    },
    {
     "name": "stdout",
     "output_type": "stream",
     "text": [
      "\n"
     ]
    },
    {
     "data": {
      "text/markdown": [
       "<span style='color:None;font-size:None'>**Catapulta _(Catapult)_** lvl 1<br></span><span style='color:None;font-size:13px'>&emsp;Escola: **elemental** (_terra, luz, sombras, metal_)<br>&emsp;Tempo conjuração: **1 ação**<br>&emsp;Alcance: **45 metros**<br>&emsp;Componentes: **S**<br>&emsp;Mana: **400**<br>&emsp;Duração: **instantânea**<br>&emsp;Dano: **3d8**<br>&emsp;Attack/Save: **DEX Save**<br>&emsp;Dmg effect: **concussão**<br></span><span style='color:None;font-size:None'>Você cria uma pedra pesando entre 0,5 e 2,5 quilos. A pedra voa em linha reta até 18 metros na direção que você escolher, antes de cair no chão, parando prematuramente se atingir uma superfície sólida. Se a pedra puder atingir uma criatura, a criatura deve realizar um teste de resistência de Destreza. Se falhar na resistência, a pedra atinge o alvo e para de se mover. Em qualquer caso, tanto a pedra quanto a criatura ou superfície sólida sofrem 3d8 de dano de concussão.<br>&emsp;**Melhorar Magia.** A cada 600 de mana adicional gasto, o peso total da pedra pode aumentar em 2,5 quilos e o dano aumenta em 1d8 com um máximo de 5d8 adicionais.<br></span><span style='color:gray;font-size:11px'>[controle, dano]<br></span><span style='color:gray;font-size:11px'>[bardo, bruxo, clérigo, feiticeiro, mago]<br></span><span style='color:gray;font-size:10px'>_Xanathar_</span>"
      ],
      "text/plain": [
       "<IPython.core.display.Markdown object>"
      ]
     },
     "metadata": {},
     "output_type": "display_data"
    },
    {
     "name": "stdout",
     "output_type": "stream",
     "text": [
      "\n"
     ]
    },
    {
     "data": {
      "text/markdown": [
       "<span style='color:None;font-size:None'>**Causar Medo _(Cause Fear)_** lvl 1<br></span><span style='color:None;font-size:13px'>&emsp;Escola: **psíquica**<br>&emsp;Tempo conjuração: **1 ação**<br>&emsp;Alcance: **18 metros**<br>&emsp;Componentes: **V**<br>&emsp;Mana: **250** (_+ 25 por turno_)<br>&emsp;Duração: **concentração, até 1 minuto**<br>&emsp;Dano: **1d6**<br>&emsp;Attack/Save: **WIS Save**<br>&emsp;Dmg effect: **amedrontado**<br></span><span style='color:None;font-size:None'>Você desperta o senso de mortalidade em uma criatura que você possa ver dentro do alcance. O alvo precisa ser bem sucedido em teste de resistência de Sabedoria ou se tornará amedrontada por você até que a magia termine. O alvo amedrontado pode repetir o teste de resistência ao fim de cada um de seus turnos, terminando o efeito em si mesmo com um sucesso.<br>&emsp;**Melhorar Magia.** Para cada 500 de mana adicionais gastos, você adiciona uma criatura extra como alvo, com um máximo de 7 alvos. As criaturas precisam estar a no máximo 9 metros uma da outra quando você as incluir como alvos.<br></span><span style='color:gray;font-size:11px'>[controle, debuff]<br></span><span style='color:gray;font-size:11px'>[bardo, bruxo, clérigo, feiticeiro, mago]<br></span><span style='color:gray;font-size:10px'>_Xanathar_</span>"
      ],
      "text/plain": [
       "<IPython.core.display.Markdown object>"
      ]
     },
     "metadata": {},
     "output_type": "display_data"
    },
    {
     "name": "stdout",
     "output_type": "stream",
     "text": [
      "\n"
     ]
    },
    {
     "data": {
      "text/markdown": [
       "<span style='color:None;font-size:None'>**Raio de Caos _(Chaos Boat)_** lvl 1<br></span><span style='color:None;font-size:13px'>&emsp;Escola: **elemental** (_água, terra, fogo, ar, luz, sombras, relâmpago, metal, veneno_)<br>&emsp;Tempo conjuração: **1 ação**<br>&emsp;Alcance: **36 metros**<br>&emsp;Componentes: **VS**<br>&emsp;Mana: **600**<br>&emsp;Duração: **instantânea**<br>&emsp;Dano: **2d8 + 1d6**<br>&emsp;Attack/Save: **distancia**<br>&emsp;Dmg effect: **elemental**<br></span><span style='color:None;font-size:None'>Você conjura uma massa ondulante de energia caótica elemental em uma criatura no alcance. Faça um ataque a distância com magia contra o alvo. Se atingir, o alvo leva 2d8 + 1d6 de dano elemental.<br>&emsp;Se os dois d8 rolados possuírem o mesmo valor, então a energia caótica salta para um alvo dentro de 9 metros de distância a sua escolha. Faça uma nova rolagem de ataque a distância contra o novo e role novamente o dano, fazendo com que a magia possa novamente saltar para outro alvo.<br>&emsp;[Corpo-a-corpo] Você pode, ao invés de realizar um ataque à distância, utilizar uma arma corpo-a-corpo para fazer um ataque. Sua arma se enche dessa energia caótica e o efeito é o mesmo, mas a diferença é que o alvo inicial sofre 2d8 + o dano que sua arma possui naturalmente.<br>&emsp;**Melhorar Magia.** Para cada 500 adicionais de mana gasto, o dano da magia aumenta em 1d6, com um limite de 5d6 extras.<br></span><span style='color:gray;font-size:11px'>[dano]<br></span><span style='color:gray;font-size:11px'>[bardo, bruxo, clérigo, feiticeiro, guerreiro, ladino, mago, monge, paladino]<br></span><span style='color:gray;font-size:10px'>_Xanathar_</span>"
      ],
      "text/plain": [
       "<IPython.core.display.Markdown object>"
      ]
     },
     "metadata": {},
     "output_type": "display_data"
    },
    {
     "name": "stdout",
     "output_type": "stream",
     "text": [
      "\n"
     ]
    },
    {
     "data": {
      "text/markdown": [
       "<span style='color:None;font-size:None'>**Enfeitiçar Pessoa _(Charm Person)_** lvl 1<br></span><span style='color:None;font-size:13px'>&emsp;Escola: **['psíquica', 'musical']**<br>&emsp;Tempo conjuração: **1 ação**<br>&emsp;Alcance: **9 metros**<br>&emsp;Componentes: **VS**<br>&emsp;Mana: **400**<br>&emsp;Duração: **1 hora**<br>&emsp;Attack/Save: **WIS Save**<br>&emsp;Dmg effect: **enfeitiçado**<br></span><span style='color:None;font-size:None'>Você tenta enfeitiçar um humanoide que você possa ver dentro do alcance. Ele deve realizar um teste de resistência de Sabedoria, e recebe vantagem nesse teste se você ou seus companheiros estiverem lutando com ele.  Se ele falhar, ficará enfeitiçado por você até a magia acabar ou até você ou seus companheiros fizerem qualquer coisa nociva contra ele. A criatura enfeitiçada reconhece você como um conhecido amigável. Quando a magia acabar, a criatura saberá que foi enfeitiçada por você.<br>&emsp;**Melhorar Magia.** Para cada 500 de mana adicionais gastos, você pode afetar mais uma humanoide até um máximo de 5 humanoides. Para cada 500 de mana adicionais gastos por humanoide afetado, você pode extender o tempo de duração em 1 hora, até um máximo de 5 horas. Gastando 2500 de mana por humanoide afetado, você pode remover a parte da magia que fala que a criatura saberá que foi enfeitiçada por você.<br></span><span style='color:gray;font-size:11px'>[controle, debuff, social]<br></span><span style='color:gray;font-size:11px'>[bardo, bruxo, clérigo, feiticeiro, guerreiro, ladino, mago, monge, paladino]<br></span><span style='color:gray;font-size:10px'>_LDJ_</span>"
      ],
      "text/plain": [
       "<IPython.core.display.Markdown object>"
      ]
     },
     "metadata": {},
     "output_type": "display_data"
    },
    {
     "name": "stdout",
     "output_type": "stream",
     "text": [
      "\n"
     ]
    }
   ],
   "source": [
    "from DFFilter import filter_df\n",
    "from SpellPrinter import print_spell, print_spells_for_df\n",
    "\n",
    "my_filter = {\n",
    "    #'elementos': 'fogo',\n",
    "    'nivel': 1\n",
    "}\n",
    "filtered_df = filter_df(spells_df, my_filter)\n",
    "\n",
    "print_spells_for_df(filtered_df)"
   ]
  },
  {
   "cell_type": "code",
   "execution_count": 3,
   "metadata": {},
   "outputs": [
    {
     "data": {
      "text/html": [
       "<div>\n",
       "<style scoped>\n",
       "    .dataframe tbody tr th:only-of-type {\n",
       "        vertical-align: middle;\n",
       "    }\n",
       "\n",
       "    .dataframe tbody tr th {\n",
       "        vertical-align: top;\n",
       "    }\n",
       "\n",
       "    .dataframe thead th {\n",
       "        text-align: right;\n",
       "    }\n",
       "</style>\n",
       "<table border=\"1\" class=\"dataframe\">\n",
       "  <thead>\n",
       "    <tr style=\"text-align: right;\">\n",
       "      <th></th>\n",
       "      <th>nome</th>\n",
       "      <th>name</th>\n",
       "      <th>nivel</th>\n",
       "      <th>escola</th>\n",
       "      <th>ritual</th>\n",
       "      <th>elementos</th>\n",
       "      <th>tempo_conjuracao</th>\n",
       "      <th>alcance_area</th>\n",
       "      <th>componentes</th>\n",
       "      <th>mana</th>\n",
       "      <th>duracao</th>\n",
       "      <th>attack_save</th>\n",
       "      <th>dmg_effect</th>\n",
       "      <th>dmg</th>\n",
       "      <th>classes</th>\n",
       "      <th>tags</th>\n",
       "      <th>descricao</th>\n",
       "      <th>source</th>\n",
       "      <th>mana_adicional</th>\n",
       "    </tr>\n",
       "  </thead>\n",
       "  <tbody>\n",
       "    <tr>\n",
       "      <th>0</th>\n",
       "      <td>Absorver Elementos</td>\n",
       "      <td>Absorve Elements</td>\n",
       "      <td>1</td>\n",
       "      <td>elemental</td>\n",
       "      <td>False</td>\n",
       "      <td>[sombras]</td>\n",
       "      <td>1 reação</td>\n",
       "      <td>pessoal</td>\n",
       "      <td>S</td>\n",
       "      <td>350</td>\n",
       "      <td>1 rodada</td>\n",
       "      <td>N/A</td>\n",
       "      <td>elemental</td>\n",
       "      <td>1d6</td>\n",
       "      <td>[clérigo, paladino]</td>\n",
       "      <td>[dano, defesa]</td>\n",
       "      <td>A magia reverte parte da energia recebida, min...</td>\n",
       "      <td>Xanathar</td>\n",
       "      <td>N/A</td>\n",
       "    </tr>\n",
       "    <tr>\n",
       "      <th>2</th>\n",
       "      <td>Alarme</td>\n",
       "      <td>Alarm</td>\n",
       "      <td>1</td>\n",
       "      <td>musical</td>\n",
       "      <td>True</td>\n",
       "      <td>[]</td>\n",
       "      <td>1 minuto</td>\n",
       "      <td>9 metros</td>\n",
       "      <td>VSM (um pequeno sino e um pequeno fio de prata)</td>\n",
       "      <td>200</td>\n",
       "      <td>8 horas</td>\n",
       "      <td>N/A</td>\n",
       "      <td>N/A</td>\n",
       "      <td>N/A</td>\n",
       "      <td>[clérigo, paladino, mago, bruxo, ladino, guerr...</td>\n",
       "      <td>[utilidade, detecção]</td>\n",
       "      <td>Você coloca um alarme para intrusos desavisado...</td>\n",
       "      <td>LDJ</td>\n",
       "      <td>N/A</td>\n",
       "    </tr>\n",
       "    <tr>\n",
       "      <th>3</th>\n",
       "      <td>Amizade Animal</td>\n",
       "      <td>Animal Friendship</td>\n",
       "      <td>1</td>\n",
       "      <td>musical</td>\n",
       "      <td>False</td>\n",
       "      <td>[]</td>\n",
       "      <td>1 ação</td>\n",
       "      <td>9 metros</td>\n",
       "      <td>VSM (um punhado de comida)</td>\n",
       "      <td>200</td>\n",
       "      <td>24 horas</td>\n",
       "      <td>WIS Save</td>\n",
       "      <td>N/A</td>\n",
       "      <td>N/A</td>\n",
       "      <td>[clérigo, paladino, ladino, guerreiro, bardo, ...</td>\n",
       "      <td>[controle, social]</td>\n",
       "      <td>Essa magia deixa você convencer uma besta que ...</td>\n",
       "      <td>LDJ</td>\n",
       "      <td>N/A</td>\n",
       "    </tr>\n",
       "    <tr>\n",
       "      <th>4</th>\n",
       "      <td>Armadura de Agathys</td>\n",
       "      <td>Armor of Agathys</td>\n",
       "      <td>1</td>\n",
       "      <td>elemental</td>\n",
       "      <td>False</td>\n",
       "      <td>[água, terra, fogo, ar, luz, sombras, relâmpag...</td>\n",
       "      <td>1 ação</td>\n",
       "      <td>pessoal</td>\n",
       "      <td>VS</td>\n",
       "      <td>300</td>\n",
       "      <td>1 hora</td>\n",
       "      <td>N/A</td>\n",
       "      <td>elemental</td>\n",
       "      <td>5</td>\n",
       "      <td>[clérigo, paladino, bardo, monge, mago, feitic...</td>\n",
       "      <td>[defesa, dano]</td>\n",
       "      <td>Uma força magica protetora envolve você, manif...</td>\n",
       "      <td>LDJ</td>\n",
       "      <td>N/A</td>\n",
       "    </tr>\n",
       "    <tr>\n",
       "      <th>5</th>\n",
       "      <td>Braços de Hadar</td>\n",
       "      <td>Arms of Hadar</td>\n",
       "      <td>1</td>\n",
       "      <td>elemental</td>\n",
       "      <td>False</td>\n",
       "      <td>[sombras]</td>\n",
       "      <td>1 ação</td>\n",
       "      <td>3 metros</td>\n",
       "      <td>VS</td>\n",
       "      <td>500</td>\n",
       "      <td>instantânea</td>\n",
       "      <td>STR Save</td>\n",
       "      <td>necrótico</td>\n",
       "      <td>2d6</td>\n",
       "      <td>[clérigo, paladino, ladino, guerreiro, bardo, ...</td>\n",
       "      <td>[dano]</td>\n",
       "      <td>Você invoca o poder de Hadar, o Faminto Sombri...</td>\n",
       "      <td>LDJ</td>\n",
       "      <td>N/A</td>\n",
       "    </tr>\n",
       "    <tr>\n",
       "      <th>6</th>\n",
       "      <td>Perdição</td>\n",
       "      <td>Bane</td>\n",
       "      <td>1</td>\n",
       "      <td>musical</td>\n",
       "      <td>False</td>\n",
       "      <td>[]</td>\n",
       "      <td>1 ação</td>\n",
       "      <td>9 metros</td>\n",
       "      <td>VSM (uma gota de sangue)</td>\n",
       "      <td>350</td>\n",
       "      <td>concentração, até 1 minuto</td>\n",
       "      <td>CHA Save</td>\n",
       "      <td>N/A</td>\n",
       "      <td>N/A</td>\n",
       "      <td>[clérigo, paladino, bardo, mago, feiticeiro, b...</td>\n",
       "      <td>[debuff]</td>\n",
       "      <td>Até três criaturas, à sua escolha, que você po...</td>\n",
       "      <td>LDJ</td>\n",
       "      <td>75 por turno</td>\n",
       "    </tr>\n",
       "    <tr>\n",
       "      <th>7</th>\n",
       "      <td>Vínculo com a Besta</td>\n",
       "      <td>Beast Bond</td>\n",
       "      <td>1</td>\n",
       "      <td>psíquica</td>\n",
       "      <td>False</td>\n",
       "      <td>[]</td>\n",
       "      <td>1 ação</td>\n",
       "      <td>toque</td>\n",
       "      <td>VSM (um tufo de pelos envolto por um pano)</td>\n",
       "      <td>150</td>\n",
       "      <td>concentração, até 10 minutos</td>\n",
       "      <td>N/A</td>\n",
       "      <td>N/A</td>\n",
       "      <td>N/A</td>\n",
       "      <td>[clérigo, paladino, ladino, guerreiro, bardo, ...</td>\n",
       "      <td>[comunicação, buff]</td>\n",
       "      <td>Você estabelece um elo telepático com uma best...</td>\n",
       "      <td>Xanathar</td>\n",
       "      <td>10 por minuto</td>\n",
       "    </tr>\n",
       "    <tr>\n",
       "      <th>9</th>\n",
       "      <td>Bênção</td>\n",
       "      <td>Bless</td>\n",
       "      <td>1</td>\n",
       "      <td>elemental</td>\n",
       "      <td>False</td>\n",
       "      <td>[água, luz]</td>\n",
       "      <td>1 ação</td>\n",
       "      <td>9 metros</td>\n",
       "      <td>VSM (um borrifo de água benta)</td>\n",
       "      <td>300</td>\n",
       "      <td>concentração, até 1 minuto</td>\n",
       "      <td>N/A</td>\n",
       "      <td>N/A</td>\n",
       "      <td>N/A</td>\n",
       "      <td>[clérigo, paladino, bardo, monge, mago, feitic...</td>\n",
       "      <td>[buff]</td>\n",
       "      <td>Um texto longo pra k7 aqui</td>\n",
       "      <td>LDJ</td>\n",
       "      <td>30 por turno</td>\n",
       "    </tr>\n",
       "    <tr>\n",
       "      <th>11</th>\n",
       "      <td>Mãos Flamejantes</td>\n",
       "      <td>Burning Hands</td>\n",
       "      <td>1</td>\n",
       "      <td>elemental</td>\n",
       "      <td>False</td>\n",
       "      <td>[fogo, sombras, relâmpago, veneno]</td>\n",
       "      <td>1 ação</td>\n",
       "      <td>pessoal (cone de 4,5 metros)</td>\n",
       "      <td>VS</td>\n",
       "      <td>400</td>\n",
       "      <td>instantânea</td>\n",
       "      <td>DEX Save</td>\n",
       "      <td>fogo</td>\n",
       "      <td>3d6</td>\n",
       "      <td>[clérigo, paladino, ladino, guerreiro, bardo, ...</td>\n",
       "      <td>[dano]</td>\n",
       "      <td>Enquanto você mantiver suas mãos com os polega...</td>\n",
       "      <td>LDJ</td>\n",
       "      <td>N/A</td>\n",
       "    </tr>\n",
       "    <tr>\n",
       "      <th>12</th>\n",
       "      <td>Catapulta</td>\n",
       "      <td>Catapult</td>\n",
       "      <td>1</td>\n",
       "      <td>elemental</td>\n",
       "      <td>False</td>\n",
       "      <td>[terra, luz, sombras, metal]</td>\n",
       "      <td>1 ação</td>\n",
       "      <td>45 metros</td>\n",
       "      <td>S</td>\n",
       "      <td>400</td>\n",
       "      <td>instantânea</td>\n",
       "      <td>DEX Save</td>\n",
       "      <td>concussão</td>\n",
       "      <td>3d8</td>\n",
       "      <td>[clérigo, bardo, mago, feiticeiro, bruxo]</td>\n",
       "      <td>[dano, controle]</td>\n",
       "      <td>Você cria uma pedra pesando entre 0,5 e 2,5 qu...</td>\n",
       "      <td>Xanathar</td>\n",
       "      <td>N/A</td>\n",
       "    </tr>\n",
       "    <tr>\n",
       "      <th>13</th>\n",
       "      <td>Causar Medo</td>\n",
       "      <td>Cause Fear</td>\n",
       "      <td>1</td>\n",
       "      <td>psíquica</td>\n",
       "      <td>False</td>\n",
       "      <td>[]</td>\n",
       "      <td>1 ação</td>\n",
       "      <td>18 metros</td>\n",
       "      <td>V</td>\n",
       "      <td>250</td>\n",
       "      <td>concentração, até 1 minuto</td>\n",
       "      <td>WIS Save</td>\n",
       "      <td>amedrontado</td>\n",
       "      <td>1d6</td>\n",
       "      <td>[clérigo, bardo, mago, feiticeiro, bruxo]</td>\n",
       "      <td>[controle, debuff]</td>\n",
       "      <td>Você desperta o senso de mortalidade em uma cr...</td>\n",
       "      <td>Xanathar</td>\n",
       "      <td>25 por turno</td>\n",
       "    </tr>\n",
       "    <tr>\n",
       "      <th>14</th>\n",
       "      <td>Raio de Caos</td>\n",
       "      <td>Chaos Boat</td>\n",
       "      <td>1</td>\n",
       "      <td>elemental</td>\n",
       "      <td>False</td>\n",
       "      <td>[água, terra, fogo, ar, luz, sombras, relâmpag...</td>\n",
       "      <td>1 ação</td>\n",
       "      <td>36 metros</td>\n",
       "      <td>VS</td>\n",
       "      <td>600</td>\n",
       "      <td>instantânea</td>\n",
       "      <td>distancia</td>\n",
       "      <td>elemental</td>\n",
       "      <td>2d8 + 1d6</td>\n",
       "      <td>[clérigo, paladino, ladino, guerreiro, bardo, ...</td>\n",
       "      <td>[dano]</td>\n",
       "      <td>Você conjura uma massa ondulante de energia ca...</td>\n",
       "      <td>Xanathar</td>\n",
       "      <td>N/A</td>\n",
       "    </tr>\n",
       "    <tr>\n",
       "      <th>15</th>\n",
       "      <td>Enfeitiçar Pessoa</td>\n",
       "      <td>Charm Person</td>\n",
       "      <td>1</td>\n",
       "      <td>[psíquica, musical]</td>\n",
       "      <td>False</td>\n",
       "      <td>[]</td>\n",
       "      <td>1 ação</td>\n",
       "      <td>9 metros</td>\n",
       "      <td>VS</td>\n",
       "      <td>400</td>\n",
       "      <td>1 hora</td>\n",
       "      <td>WIS Save</td>\n",
       "      <td>enfeitiçado</td>\n",
       "      <td>N/A</td>\n",
       "      <td>[clérigo, paladino, ladino, guerreiro, bardo, ...</td>\n",
       "      <td>[controle, debuff, social]</td>\n",
       "      <td>Você tenta enfeitiçar um humanoide que você po...</td>\n",
       "      <td>LDJ</td>\n",
       "      <td>N/A</td>\n",
       "    </tr>\n",
       "  </tbody>\n",
       "</table>\n",
       "</div>"
      ],
      "text/plain": [
       "                   nome               name  nivel               escola  \\\n",
       "0    Absorver Elementos   Absorve Elements      1            elemental   \n",
       "2                Alarme              Alarm      1              musical   \n",
       "3        Amizade Animal  Animal Friendship      1              musical   \n",
       "4   Armadura de Agathys   Armor of Agathys      1            elemental   \n",
       "5       Braços de Hadar      Arms of Hadar      1            elemental   \n",
       "6              Perdição               Bane      1              musical   \n",
       "7   Vínculo com a Besta         Beast Bond      1             psíquica   \n",
       "9                Bênção              Bless      1            elemental   \n",
       "11     Mãos Flamejantes      Burning Hands      1            elemental   \n",
       "12            Catapulta           Catapult      1            elemental   \n",
       "13          Causar Medo         Cause Fear      1             psíquica   \n",
       "14         Raio de Caos         Chaos Boat      1            elemental   \n",
       "15    Enfeitiçar Pessoa       Charm Person      1  [psíquica, musical]   \n",
       "\n",
       "    ritual                                          elementos  \\\n",
       "0    False                                          [sombras]   \n",
       "2     True                                                 []   \n",
       "3    False                                                 []   \n",
       "4    False  [água, terra, fogo, ar, luz, sombras, relâmpag...   \n",
       "5    False                                          [sombras]   \n",
       "6    False                                                 []   \n",
       "7    False                                                 []   \n",
       "9    False                                        [água, luz]   \n",
       "11   False                 [fogo, sombras, relâmpago, veneno]   \n",
       "12   False                       [terra, luz, sombras, metal]   \n",
       "13   False                                                 []   \n",
       "14   False  [água, terra, fogo, ar, luz, sombras, relâmpag...   \n",
       "15   False                                                 []   \n",
       "\n",
       "   tempo_conjuracao                  alcance_area  \\\n",
       "0          1 reação                       pessoal   \n",
       "2          1 minuto                      9 metros   \n",
       "3            1 ação                      9 metros   \n",
       "4            1 ação                       pessoal   \n",
       "5            1 ação                      3 metros   \n",
       "6            1 ação                      9 metros   \n",
       "7            1 ação                         toque   \n",
       "9            1 ação                      9 metros   \n",
       "11           1 ação  pessoal (cone de 4,5 metros)   \n",
       "12           1 ação                     45 metros   \n",
       "13           1 ação                     18 metros   \n",
       "14           1 ação                     36 metros   \n",
       "15           1 ação                      9 metros   \n",
       "\n",
       "                                        componentes  mana  \\\n",
       "0                                                 S   350   \n",
       "2   VSM (um pequeno sino e um pequeno fio de prata)   200   \n",
       "3                        VSM (um punhado de comida)   200   \n",
       "4                                                VS   300   \n",
       "5                                                VS   500   \n",
       "6                          VSM (uma gota de sangue)   350   \n",
       "7        VSM (um tufo de pelos envolto por um pano)   150   \n",
       "9                    VSM (um borrifo de água benta)   300   \n",
       "11                                               VS   400   \n",
       "12                                                S   400   \n",
       "13                                                V   250   \n",
       "14                                               VS   600   \n",
       "15                                               VS   400   \n",
       "\n",
       "                         duracao attack_save   dmg_effect        dmg  \\\n",
       "0                       1 rodada         N/A    elemental        1d6   \n",
       "2                        8 horas         N/A          N/A        N/A   \n",
       "3                       24 horas    WIS Save          N/A        N/A   \n",
       "4                         1 hora         N/A    elemental          5   \n",
       "5                    instantânea    STR Save    necrótico        2d6   \n",
       "6     concentração, até 1 minuto    CHA Save          N/A        N/A   \n",
       "7   concentração, até 10 minutos         N/A          N/A        N/A   \n",
       "9     concentração, até 1 minuto         N/A          N/A        N/A   \n",
       "11                   instantânea    DEX Save         fogo        3d6   \n",
       "12                   instantânea    DEX Save    concussão        3d8   \n",
       "13    concentração, até 1 minuto    WIS Save  amedrontado        1d6   \n",
       "14                   instantânea   distancia    elemental  2d8 + 1d6   \n",
       "15                        1 hora    WIS Save  enfeitiçado        N/A   \n",
       "\n",
       "                                              classes  \\\n",
       "0                                 [clérigo, paladino]   \n",
       "2   [clérigo, paladino, mago, bruxo, ladino, guerr...   \n",
       "3   [clérigo, paladino, ladino, guerreiro, bardo, ...   \n",
       "4   [clérigo, paladino, bardo, monge, mago, feitic...   \n",
       "5   [clérigo, paladino, ladino, guerreiro, bardo, ...   \n",
       "6   [clérigo, paladino, bardo, mago, feiticeiro, b...   \n",
       "7   [clérigo, paladino, ladino, guerreiro, bardo, ...   \n",
       "9   [clérigo, paladino, bardo, monge, mago, feitic...   \n",
       "11  [clérigo, paladino, ladino, guerreiro, bardo, ...   \n",
       "12          [clérigo, bardo, mago, feiticeiro, bruxo]   \n",
       "13          [clérigo, bardo, mago, feiticeiro, bruxo]   \n",
       "14  [clérigo, paladino, ladino, guerreiro, bardo, ...   \n",
       "15  [clérigo, paladino, ladino, guerreiro, bardo, ...   \n",
       "\n",
       "                          tags  \\\n",
       "0               [dano, defesa]   \n",
       "2        [utilidade, detecção]   \n",
       "3           [controle, social]   \n",
       "4               [defesa, dano]   \n",
       "5                       [dano]   \n",
       "6                     [debuff]   \n",
       "7          [comunicação, buff]   \n",
       "9                       [buff]   \n",
       "11                      [dano]   \n",
       "12            [dano, controle]   \n",
       "13          [controle, debuff]   \n",
       "14                      [dano]   \n",
       "15  [controle, debuff, social]   \n",
       "\n",
       "                                            descricao    source mana_adicional  \n",
       "0   A magia reverte parte da energia recebida, min...  Xanathar            N/A  \n",
       "2   Você coloca um alarme para intrusos desavisado...       LDJ            N/A  \n",
       "3   Essa magia deixa você convencer uma besta que ...       LDJ            N/A  \n",
       "4   Uma força magica protetora envolve você, manif...       LDJ            N/A  \n",
       "5   Você invoca o poder de Hadar, o Faminto Sombri...       LDJ            N/A  \n",
       "6   Até três criaturas, à sua escolha, que você po...       LDJ   75 por turno  \n",
       "7   Você estabelece um elo telepático com uma best...  Xanathar  10 por minuto  \n",
       "9                          Um texto longo pra k7 aqui       LDJ   30 por turno  \n",
       "11  Enquanto você mantiver suas mãos com os polega...       LDJ            N/A  \n",
       "12  Você cria uma pedra pesando entre 0,5 e 2,5 qu...  Xanathar            N/A  \n",
       "13  Você desperta o senso de mortalidade em uma cr...  Xanathar   25 por turno  \n",
       "14  Você conjura uma massa ondulante de energia ca...  Xanathar            N/A  \n",
       "15  Você tenta enfeitiçar um humanoide que você po...       LDJ            N/A  "
      ]
     },
     "execution_count": 3,
     "metadata": {},
     "output_type": "execute_result"
    }
   ],
   "source": [
    "filtered_df"
   ]
  },
  {
   "cell_type": "code",
   "execution_count": 4,
   "metadata": {},
   "outputs": [
    {
     "data": {
      "text/plain": [
       "600    1\n",
       "500    1\n",
       "400    3\n",
       "350    2\n",
       "300    2\n",
       "250    1\n",
       "200    2\n",
       "150    1\n",
       "Name: mana, dtype: int64"
      ]
     },
     "metadata": {},
     "output_type": "display_data"
    },
    {
     "name": "stdout",
     "output_type": "stream",
     "text": [
      "Mean =\t338.462\n",
      "Std\t  =\t126.085\n"
     ]
    }
   ],
   "source": [
    "from IPython.display import display\n",
    "\n",
    "def get_mana_stats(spells_df):\n",
    "    display(spells_df.mana.value_counts().sort_index(ascending=False))\n",
    "    print(f'Mean =\\t{filtered_df.mana.mean():.3f}')\n",
    "    print(f'Std\\t  =\\t{filtered_df.mana.std():.3f}')\n",
    "\n",
    "get_mana_stats(filtered_df)"
   ]
  },
  {
   "cell_type": "code",
   "execution_count": 5,
   "metadata": {},
   "outputs": [
    {
     "name": "stdout",
     "output_type": "stream",
     "text": [
      "1d6 3.5\n",
      "'5' is not a valid die format. It should be XdY where X and Y are integers.\n",
      "5 0\n",
      "2d6 7.0\n",
      "3d6 10.5\n",
      "3d8 13.5\n",
      "1d6 3.5\n",
      "2d8 + 1d6 12.5\n"
     ]
    }
   ],
   "source": [
    "from DiceCalculator import get_dice_formula_mean, get_dice_formula_std\n",
    "\n",
    "for _, row in filtered_df.iterrows():\n",
    "    dmg = row['dmg']\n",
    "    if dmg != 'N/A' and dmg != 'mod':\n",
    "        print(dmg, get_dice_formula_mean(dmg))"
   ]
  },
  {
   "cell_type": "code",
   "execution_count": null,
   "metadata": {},
   "outputs": [],
   "source": []
  }
 ],
 "metadata": {
  "interpreter": {
   "hash": "d36adf45757a947aebb41e19531952e79d7da656c5a3acf675af965b060eaf9d"
  },
  "kernelspec": {
   "display_name": "Python 3.10.2 64-bit",
   "language": "python",
   "name": "python3"
  },
  "language_info": {
   "codemirror_mode": {
    "name": "ipython",
    "version": 3
   },
   "file_extension": ".py",
   "mimetype": "text/x-python",
   "name": "python",
   "nbconvert_exporter": "python",
   "pygments_lexer": "ipython3",
   "version": "3.10.2"
  },
  "orig_nbformat": 4
 },
 "nbformat": 4,
 "nbformat_minor": 2
}
