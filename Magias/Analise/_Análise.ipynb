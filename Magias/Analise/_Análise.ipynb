{
 "cells": [
  {
   "cell_type": "code",
   "execution_count": 1,
   "metadata": {},
   "outputs": [],
   "source": [
    "from DFReader import get_spells_df\n",
    "from DFFormatAsserter import assert_columns_not_null, fill_na_by_column, assert_df_schema   \n",
    "\n",
    "spells_df = get_spells_df()\n",
    "fill_na_by_column(spells_df)\n",
    "assert_columns_not_null(spells_df)\n",
    "\n",
    "try:\n",
    "    assert_df_schema(spells_df)\n",
    "except ValueError as e:\n",
    "    print('Wrong values.')\n",
    "    print(e)"
   ]
  },
  {
   "cell_type": "code",
   "execution_count": 2,
   "metadata": {},
   "outputs": [
    {
     "name": "stdout",
     "output_type": "stream",
     "text": [
      "value\n",
      "nivel 1\n"
     ]
    },
    {
     "data": {
      "text/markdown": [
       "<span style='color:None;font-size:None'>**Absorver Elementos _(Absorve Elements)_** lvl 1<br></span><span style='color:None;font-size:13px'>&emsp;Escola: **elemental** (_sombras_)<br>&emsp;Tempo conjuração: **1 reação**<br>&emsp;Alcance: **pessoal**<br>&emsp;Componentes: **S**<br>&emsp;Mana: **350**<br>&emsp;Duração: **1 rodada**<br>&emsp;Dano: **1d6**<br>&emsp;Dmg effect: **elemental**<br></span><span style='color:None;font-size:None'>A magia reverte parte da energia recebida, minimizando seu efeito em você e armazenando-a no seu próximo ataque corpo-a-corpo. Se você recebe um dano elemental, você pode usar sua reação para diminuir o dano pela metade. Além disso, da primeira vez que você atingir um ataque corpo-a-corpo no seu próximo turno, o alvo sofre 1d6 de dano extra do tipo relacionado e a magia termina.<br>&emsp;**Melhorar Magia**. A cada 500 de mana que você gasta a mais para conjurar essa magia, você adiciona 1d6 a mais (máximo de 5).<br></span><span style='color:gray;font-size:11px'>[dano, defesa]<br></span><span style='color:gray;font-size:11px'>[clérigo, paladino]<br></span><span style='color:gray;font-size:10px'>_Xanathar_</span>"
      ],
      "text/plain": [
       "<IPython.core.display.Markdown object>"
      ]
     },
     "metadata": {},
     "output_type": "display_data"
    },
    {
     "name": "stdout",
     "output_type": "stream",
     "text": [
      "\n"
     ]
    },
    {
     "data": {
      "text/markdown": [
       "<span style='color:None;font-size:None'>**Alarme _(Alarm)_** lvl 1 - ritual<br></span><span style='color:None;font-size:13px'>&emsp;Escola: <br>&emsp;Tempo conjuração: **1 minuto**<br>&emsp;Alcance: **9 metros**<br>&emsp;Componentes: **VSM** _(um pequeno sino e um pequeno fio de prata)_<br>&emsp;Mana: **200**<br>&emsp;Duração: **8 horas**<br></span><span style='color:None;font-size:None'>Você coloca um alarme para intrusos desavisados.<br>&emsp;Escolha uma porta, uma janela ou uma área dentro do alcance que não seja maior que 6 metros cúbicos. Até a magia acabar, um alarme alerta você sempre que uma criatura Miúda ou maior tocarem ou entrarem na área protegida. Quando você conjura a magia, você pode designar as criaturas que não ativarão o alarme. Você também escolhe se o alarme será mental ou audível.<br>&emsp;Um alarme mental alerta você com um silvo na sua mente, se você estiver a até de 1,5 quilômetro da área protegida. Esse silvo acordará você se você estiver dormindo.<br>&emsp;Um alarme audível produz o som de um sino de mão por 10 minutos num raio de 18 metros. <br></span><span style='color:gray;font-size:11px'>[detecção, utilidade]<br></span><span style='color:gray;font-size:11px'>[bardo, bruxo, clérigo, guerreiro, ladino, mago, monge, paladino]<br></span><span style='color:gray;font-size:10px'>_LDJ_</span>"
      ],
      "text/plain": [
       "<IPython.core.display.Markdown object>"
      ]
     },
     "metadata": {},
     "output_type": "display_data"
    },
    {
     "name": "stdout",
     "output_type": "stream",
     "text": [
      "\n"
     ]
    },
    {
     "data": {
      "text/markdown": [
       "<span style='color:None;font-size:None'>**Amizade Animal _(Animal Friendship)_** lvl 1<br></span><span style='color:None;font-size:13px'>&emsp;Escola: <br>&emsp;Tempo conjuração: **1 ação**<br>&emsp;Alcance: **9 metros**<br>&emsp;Componentes: **VSM** _(um punhado de comida)_<br>&emsp;Mana: **200**<br>&emsp;Duração: **24 horas**<br>&emsp;Attack/Save: **WIS Save**<br></span><span style='color:None;font-size:None'>Essa magia deixa você convencer uma besta que você não quer prejudicar. Escolha uma besta que você possa ver dentro do alcance. Ela deve ver e ouvir você. Se a Inteligência da besta for 4 ou maior, a magia falha. Do contrário, a besta deve ser bem sucedida num teste de resistência de Sabedoria ou ficará enfeitiçada por você pela duração da magia. Se você ou um dos seus companheiros ferir o alvo, a magia termina.<br>&emsp;**Melhorar Magia**. A cada 400 de mana adicional que você gastar, você pode afetar uma besta adicional até o máximo de 5.<br></span><span style='color:gray;font-size:11px'>[controle, social]<br></span><span style='color:gray;font-size:11px'>[bardo, bruxo, clérigo, feiticeiro, guerreiro, ladino, mago, monge, paladino]<br></span><span style='color:gray;font-size:10px'>_LDJ_</span>"
      ],
      "text/plain": [
       "<IPython.core.display.Markdown object>"
      ]
     },
     "metadata": {},
     "output_type": "display_data"
    },
    {
     "name": "stdout",
     "output_type": "stream",
     "text": [
      "\n"
     ]
    },
    {
     "data": {
      "text/markdown": [
       "<span style='color:None;font-size:None'>**Armadura de Agathys _(Armor of Agathys)_** lvl 1<br></span><span style='color:None;font-size:13px'>&emsp;Escola: **elemental** (_água, terra, fogo, ar, luz, sombras, relâmpago, metal, veneno_)<br>&emsp;Tempo conjuração: **1 ação**<br>&emsp;Alcance: **pessoal**<br>&emsp;Componentes: **VS**<br>&emsp;Mana: **300**<br>&emsp;Duração: **1 hora**<br>&emsp;Dano: **5**<br>&emsp;Dmg effect: **elemental**<br></span><span style='color:None;font-size:None'>Uma força magica protetora envolve você, manifestando-se de acordo com o seu elemento. Você ganha 5 pontos de vida temporários pela duração. Se uma criatura atingir você com um ataque corpo-a-corpo enquanto estiver com esses pontos de vida, a criatura sofrerá 5 de dano elemental.<br>&emsp;**Melhorar Magia**. Para cada 500 de mana adicional gasto, tanto os pontos de vida temporários quanto o dano aumentam em 5.<br></span><span style='color:gray;font-size:11px'>[dano, defesa]<br></span><span style='color:gray;font-size:11px'>[bardo, bruxo, clérigo, feiticeiro, mago, monge, paladino]<br></span><span style='color:gray;font-size:10px'>_LDJ_</span>"
      ],
      "text/plain": [
       "<IPython.core.display.Markdown object>"
      ]
     },
     "metadata": {},
     "output_type": "display_data"
    },
    {
     "name": "stdout",
     "output_type": "stream",
     "text": [
      "\n"
     ]
    },
    {
     "data": {
      "text/markdown": [
       "<span style='color:None;font-size:None'>**Braços de Hadar _(Arms of Hadar)_** lvl 1<br></span><span style='color:None;font-size:13px'>&emsp;Escola: **elemental** (_sombras_)<br>&emsp;Tempo conjuração: **1 ação**<br>&emsp;Alcance: **3 metros**<br>&emsp;Componentes: **VS**<br>&emsp;Mana: **500**<br>&emsp;Duração: **instantânea**<br>&emsp;Dano: **2d6**<br>&emsp;Attack/Save: **STR Save**<br>&emsp;Dmg effect: **necrótico**<br></span><span style='color:None;font-size:None'>Você invoca o poder de Hadar, o Faminto Sombrio.<br>&emsp;Tentáculos de energia negra brotam de você e golpeiam todas as criaturas a até 3 metros de você. Cada criatura na área deve realizar um teste de resistência de Força. Se falhar, o alvo sofre 2d6 de dano necrótico e não pode fazer reações até o próximo turno dela. Em um sucesso, uma criatura sofre metade do dano e não sofre qualquer outro efeito.<br>&emsp;**Melhorar Magia.** Para cada 600 de mana adicionais gastos, o dano aumenta 1d6 até um máximo de 5d6 adicionais.<br></span><span style='color:gray;font-size:11px'>[dano]<br></span><span style='color:gray;font-size:11px'>[bardo, bruxo, clérigo, feiticeiro, guerreiro, ladino, mago, monge, paladino]<br></span><span style='color:gray;font-size:10px'>_LDJ_</span>"
      ],
      "text/plain": [
       "<IPython.core.display.Markdown object>"
      ]
     },
     "metadata": {},
     "output_type": "display_data"
    },
    {
     "name": "stdout",
     "output_type": "stream",
     "text": [
      "\n"
     ]
    },
    {
     "data": {
      "text/markdown": [
       "<span style='color:None;font-size:None'>**Perdição _(Bane)_** lvl 1<br></span><span style='color:None;font-size:13px'>&emsp;Escola: <br>&emsp;Tempo conjuração: **1 ação**<br>&emsp;Alcance: **9 metros**<br>&emsp;Componentes: **VSM** _(uma gota de sangue)_<br>&emsp;Mana: **350** (_+ 75 por turno_)<br>&emsp;Duração: **concentração, até 1 minuto**<br>&emsp;Attack/Save: **CHA Save**<br></span><span style='color:None;font-size:None'>Até três criaturas, à sua escolha, que você possa ver dentro do alcance, devem realizar um teste de resistência de Carisma. Sempre que um alvo que falhou nessa resistência realizar uma jogada de ataque ou um teste de resistência antes da magia acabar, o alvo deve rolar um d4 e subtrair o valor rolado da jogada de ataque ou teste de resistência.  **Melhorar Magia:** Para cada 500 de mana adicional gasto, mais uma criatura é afetada até um máximo de 5. Você pode gastar mais 500 para cada criatura criatura afetada para transformar o d4 em d6.<br></span><span style='color:gray;font-size:11px'>[debuff]<br></span><span style='color:gray;font-size:11px'>[bardo, bruxo, clérigo, feiticeiro, mago, paladino]<br></span><span style='color:gray;font-size:10px'>_LDJ_</span>"
      ],
      "text/plain": [
       "<IPython.core.display.Markdown object>"
      ]
     },
     "metadata": {},
     "output_type": "display_data"
    },
    {
     "name": "stdout",
     "output_type": "stream",
     "text": [
      "\n"
     ]
    }
   ],
   "source": [
    "from DFFilter import filter_df\n",
    "from SpellPrinter import print_spell, print_spells_for_df\n",
    "\n",
    "my_filter = {\n",
    "    #'elementos': 'fogo',\n",
    "    'nivel': 1\n",
    "}\n",
    "filtered_df = filter_df(spells_df, my_filter)\n",
    "\n",
    "print_spells_for_df(filtered_df)"
   ]
  },
  {
   "cell_type": "code",
   "execution_count": 5,
   "metadata": {},
   "outputs": [
    {
     "data": {
      "text/html": [
       "<div>\n",
       "<style scoped>\n",
       "    .dataframe tbody tr th:only-of-type {\n",
       "        vertical-align: middle;\n",
       "    }\n",
       "\n",
       "    .dataframe tbody tr th {\n",
       "        vertical-align: top;\n",
       "    }\n",
       "\n",
       "    .dataframe thead th {\n",
       "        text-align: right;\n",
       "    }\n",
       "</style>\n",
       "<table border=\"1\" class=\"dataframe\">\n",
       "  <thead>\n",
       "    <tr style=\"text-align: right;\">\n",
       "      <th></th>\n",
       "      <th>nome</th>\n",
       "      <th>name</th>\n",
       "      <th>nivel</th>\n",
       "      <th>escola</th>\n",
       "      <th>ritual</th>\n",
       "      <th>elementos</th>\n",
       "      <th>tempo_conjuracao</th>\n",
       "      <th>alcance_area</th>\n",
       "      <th>componentes</th>\n",
       "      <th>mana</th>\n",
       "      <th>duracao</th>\n",
       "      <th>attack_save</th>\n",
       "      <th>dmg_effect</th>\n",
       "      <th>dmg</th>\n",
       "      <th>classes</th>\n",
       "      <th>tags</th>\n",
       "      <th>descricao</th>\n",
       "      <th>source</th>\n",
       "      <th>mana_adicional</th>\n",
       "    </tr>\n",
       "  </thead>\n",
       "  <tbody>\n",
       "    <tr>\n",
       "      <th>0</th>\n",
       "      <td>Absorver Elementos</td>\n",
       "      <td>Absorve Elements</td>\n",
       "      <td>1</td>\n",
       "      <td>elemental</td>\n",
       "      <td>False</td>\n",
       "      <td>[sombras]</td>\n",
       "      <td>1 reação</td>\n",
       "      <td>pessoal</td>\n",
       "      <td>S</td>\n",
       "      <td>350</td>\n",
       "      <td>1 rodada</td>\n",
       "      <td>N/A</td>\n",
       "      <td>elemental</td>\n",
       "      <td>1d6</td>\n",
       "      <td>[clérigo, paladino]</td>\n",
       "      <td>[dano, defesa]</td>\n",
       "      <td>A magia reverte parte da energia recebida, min...</td>\n",
       "      <td>Xanathar</td>\n",
       "      <td>N/A</td>\n",
       "    </tr>\n",
       "    <tr>\n",
       "      <th>2</th>\n",
       "      <td>Alarme</td>\n",
       "      <td>Alarm</td>\n",
       "      <td>1</td>\n",
       "      <td>musical</td>\n",
       "      <td>True</td>\n",
       "      <td>[]</td>\n",
       "      <td>1 minuto</td>\n",
       "      <td>9 metros</td>\n",
       "      <td>VSM (um pequeno sino e um pequeno fio de prata)</td>\n",
       "      <td>200</td>\n",
       "      <td>8 horas</td>\n",
       "      <td>N/A</td>\n",
       "      <td>N/A</td>\n",
       "      <td>N/A</td>\n",
       "      <td>[clérigo, paladino, mago, bruxo, ladino, guerr...</td>\n",
       "      <td>[utilidade, detecção]</td>\n",
       "      <td>Você coloca um alarme para intrusos desavisado...</td>\n",
       "      <td>LDJ</td>\n",
       "      <td>N/A</td>\n",
       "    </tr>\n",
       "    <tr>\n",
       "      <th>3</th>\n",
       "      <td>Amizade Animal</td>\n",
       "      <td>Animal Friendship</td>\n",
       "      <td>1</td>\n",
       "      <td>musical</td>\n",
       "      <td>False</td>\n",
       "      <td>[]</td>\n",
       "      <td>1 ação</td>\n",
       "      <td>9 metros</td>\n",
       "      <td>VSM (um punhado de comida)</td>\n",
       "      <td>200</td>\n",
       "      <td>24 horas</td>\n",
       "      <td>WIS Save</td>\n",
       "      <td>N/A</td>\n",
       "      <td>N/A</td>\n",
       "      <td>[clérigo, paladino, ladino, guerreiro, bardo, ...</td>\n",
       "      <td>[controle, social]</td>\n",
       "      <td>Essa magia deixa você convencer uma besta que ...</td>\n",
       "      <td>LDJ</td>\n",
       "      <td>N/A</td>\n",
       "    </tr>\n",
       "    <tr>\n",
       "      <th>4</th>\n",
       "      <td>Armadura de Agathys</td>\n",
       "      <td>Armor of Agathys</td>\n",
       "      <td>1</td>\n",
       "      <td>elemental</td>\n",
       "      <td>False</td>\n",
       "      <td>[água, terra, fogo, ar, luz, sombras, relâmpag...</td>\n",
       "      <td>1 ação</td>\n",
       "      <td>pessoal</td>\n",
       "      <td>VS</td>\n",
       "      <td>300</td>\n",
       "      <td>1 hora</td>\n",
       "      <td>N/A</td>\n",
       "      <td>elemental</td>\n",
       "      <td>5</td>\n",
       "      <td>[clérigo, paladino, bardo, monge, mago, feitic...</td>\n",
       "      <td>[defesa, dano]</td>\n",
       "      <td>Uma força magica protetora envolve você, manif...</td>\n",
       "      <td>LDJ</td>\n",
       "      <td>N/A</td>\n",
       "    </tr>\n",
       "    <tr>\n",
       "      <th>5</th>\n",
       "      <td>Braços de Hadar</td>\n",
       "      <td>Arms of Hadar</td>\n",
       "      <td>1</td>\n",
       "      <td>elemental</td>\n",
       "      <td>False</td>\n",
       "      <td>[sombras]</td>\n",
       "      <td>1 ação</td>\n",
       "      <td>3 metros</td>\n",
       "      <td>VS</td>\n",
       "      <td>500</td>\n",
       "      <td>instantânea</td>\n",
       "      <td>STR Save</td>\n",
       "      <td>necrótico</td>\n",
       "      <td>2d6</td>\n",
       "      <td>[clérigo, paladino, ladino, guerreiro, bardo, ...</td>\n",
       "      <td>[dano]</td>\n",
       "      <td>Você invoca o poder de Hadar, o Faminto Sombri...</td>\n",
       "      <td>LDJ</td>\n",
       "      <td>N/A</td>\n",
       "    </tr>\n",
       "    <tr>\n",
       "      <th>6</th>\n",
       "      <td>Perdição</td>\n",
       "      <td>Bane</td>\n",
       "      <td>1</td>\n",
       "      <td>musical</td>\n",
       "      <td>False</td>\n",
       "      <td>[]</td>\n",
       "      <td>1 ação</td>\n",
       "      <td>9 metros</td>\n",
       "      <td>VSM (uma gota de sangue)</td>\n",
       "      <td>350</td>\n",
       "      <td>concentração, até 1 minuto</td>\n",
       "      <td>CHA Save</td>\n",
       "      <td>N/A</td>\n",
       "      <td>N/A</td>\n",
       "      <td>[clérigo, paladino, bardo, mago, feiticeiro, b...</td>\n",
       "      <td>[debuff]</td>\n",
       "      <td>Até três criaturas, à sua escolha, que você po...</td>\n",
       "      <td>LDJ</td>\n",
       "      <td>75 por turno</td>\n",
       "    </tr>\n",
       "  </tbody>\n",
       "</table>\n",
       "</div>"
      ],
      "text/plain": [
       "                  nome               name  nivel     escola  ritual  \\\n",
       "0   Absorver Elementos   Absorve Elements      1  elemental   False   \n",
       "2               Alarme              Alarm      1    musical    True   \n",
       "3       Amizade Animal  Animal Friendship      1    musical   False   \n",
       "4  Armadura de Agathys   Armor of Agathys      1  elemental   False   \n",
       "5      Braços de Hadar      Arms of Hadar      1  elemental   False   \n",
       "6             Perdição               Bane      1    musical   False   \n",
       "\n",
       "                                           elementos tempo_conjuracao  \\\n",
       "0                                          [sombras]         1 reação   \n",
       "2                                                 []         1 minuto   \n",
       "3                                                 []           1 ação   \n",
       "4  [água, terra, fogo, ar, luz, sombras, relâmpag...           1 ação   \n",
       "5                                          [sombras]           1 ação   \n",
       "6                                                 []           1 ação   \n",
       "\n",
       "  alcance_area                                      componentes  mana  \\\n",
       "0      pessoal                                                S   350   \n",
       "2     9 metros  VSM (um pequeno sino e um pequeno fio de prata)   200   \n",
       "3     9 metros                       VSM (um punhado de comida)   200   \n",
       "4      pessoal                                               VS   300   \n",
       "5     3 metros                                               VS   500   \n",
       "6     9 metros                         VSM (uma gota de sangue)   350   \n",
       "\n",
       "                      duracao attack_save dmg_effect  dmg  \\\n",
       "0                    1 rodada         N/A  elemental  1d6   \n",
       "2                     8 horas         N/A        N/A  N/A   \n",
       "3                    24 horas    WIS Save        N/A  N/A   \n",
       "4                      1 hora         N/A  elemental    5   \n",
       "5                 instantânea    STR Save  necrótico  2d6   \n",
       "6  concentração, até 1 minuto    CHA Save        N/A  N/A   \n",
       "\n",
       "                                             classes                   tags  \\\n",
       "0                                [clérigo, paladino]         [dano, defesa]   \n",
       "2  [clérigo, paladino, mago, bruxo, ladino, guerr...  [utilidade, detecção]   \n",
       "3  [clérigo, paladino, ladino, guerreiro, bardo, ...     [controle, social]   \n",
       "4  [clérigo, paladino, bardo, monge, mago, feitic...         [defesa, dano]   \n",
       "5  [clérigo, paladino, ladino, guerreiro, bardo, ...                 [dano]   \n",
       "6  [clérigo, paladino, bardo, mago, feiticeiro, b...               [debuff]   \n",
       "\n",
       "                                           descricao    source mana_adicional  \n",
       "0  A magia reverte parte da energia recebida, min...  Xanathar            N/A  \n",
       "2  Você coloca um alarme para intrusos desavisado...       LDJ            N/A  \n",
       "3  Essa magia deixa você convencer uma besta que ...       LDJ            N/A  \n",
       "4  Uma força magica protetora envolve você, manif...       LDJ            N/A  \n",
       "5  Você invoca o poder de Hadar, o Faminto Sombri...       LDJ            N/A  \n",
       "6  Até três criaturas, à sua escolha, que você po...       LDJ   75 por turno  "
      ]
     },
     "execution_count": 5,
     "metadata": {},
     "output_type": "execute_result"
    }
   ],
   "source": [
    "filtered_df"
   ]
  },
  {
   "cell_type": "code",
   "execution_count": 3,
   "metadata": {},
   "outputs": [
    {
     "data": {
      "text/plain": [
       "500    1\n",
       "350    2\n",
       "300    1\n",
       "200    2\n",
       "Name: mana, dtype: int64"
      ]
     },
     "metadata": {},
     "output_type": "display_data"
    },
    {
     "name": "stdout",
     "output_type": "stream",
     "text": [
      "Mean =\t316.667\n",
      "Std\t  =\t112.546\n"
     ]
    }
   ],
   "source": [
    "from IPython.display import display\n",
    "\n",
    "def get_mana_stats(spells_df):\n",
    "    display(spells_df.mana.value_counts().sort_index(ascending=False))\n",
    "    print(f'Mean =\\t{filtered_df.mana.mean():.3f}')\n",
    "    print(f'Std\\t  =\\t{filtered_df.mana.std():.3f}')\n",
    "\n",
    "get_mana_stats(filtered_df)"
   ]
  },
  {
   "cell_type": "code",
   "execution_count": 4,
   "metadata": {},
   "outputs": [
    {
     "name": "stdout",
     "output_type": "stream",
     "text": [
      "1d6 3.5\n",
      "'5' is not a valid die format. It should be XdY where X and Y are integers.\n",
      "5 0\n",
      "2d6 7.0\n"
     ]
    }
   ],
   "source": [
    "from DiceCalculator import get_dice_formula_mean, get_dice_formula_std\n",
    "\n",
    "for _, row in filtered_df.iterrows():\n",
    "    dmg = row['dmg']\n",
    "    if dmg != 'N/A' and dmg != 'mod':\n",
    "        print(dmg, get_dice_formula_mean(dmg))"
   ]
  },
  {
   "cell_type": "code",
   "execution_count": null,
   "metadata": {},
   "outputs": [],
   "source": []
  }
 ],
 "metadata": {
  "interpreter": {
   "hash": "d36adf45757a947aebb41e19531952e79d7da656c5a3acf675af965b060eaf9d"
  },
  "kernelspec": {
   "display_name": "Python 3.10.2 64-bit",
   "language": "python",
   "name": "python3"
  },
  "language_info": {
   "codemirror_mode": {
    "name": "ipython",
    "version": 3
   },
   "file_extension": ".py",
   "mimetype": "text/x-python",
   "name": "python",
   "nbconvert_exporter": "python",
   "pygments_lexer": "ipython3",
   "version": "3.10.2"
  },
  "orig_nbformat": 4
 },
 "nbformat": 4,
 "nbformat_minor": 2
}
