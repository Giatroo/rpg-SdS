{
 "cells": [
  {
   "cell_type": "code",
   "execution_count": 1,
   "metadata": {},
   "outputs": [],
   "source": [
    "from global_var import *"
   ]
  },
  {
   "cell_type": "code",
   "execution_count": 2,
   "metadata": {},
   "outputs": [],
   "source": [
    "from DFReader import get_spells_df\n",
    "from DFFormatAsserter import assert_columns_not_null, fill_na_by_column, assert_df_schema   \n",
    "\n",
    "spells_df = get_spells_df()\n",
    "fill_na_by_column(spells_df)\n",
    "assert_columns_not_null(spells_df)\n",
    "\n",
    "try:\n",
    "    assert_df_schema(spells_df)\n",
    "except ValueError as e:\n",
    "    print('Wrong values.')\n",
    "    print(e)"
   ]
  },
  {
   "cell_type": "code",
   "execution_count": 3,
   "metadata": {},
   "outputs": [],
   "source": [
    "from DFFilter import filter_df\n",
    "\n",
    "my_filter = {\n",
    "    'elementos': 'água',\n",
    "}\n",
    "filtered_df = filter_df(spells_df, my_filter)"
   ]
  },
  {
   "cell_type": "code",
   "execution_count": 4,
   "metadata": {},
   "outputs": [
    {
     "data": {
      "text/html": [
       "<div>\n",
       "<style scoped>\n",
       "    .dataframe tbody tr th:only-of-type {\n",
       "        vertical-align: middle;\n",
       "    }\n",
       "\n",
       "    .dataframe tbody tr th {\n",
       "        vertical-align: top;\n",
       "    }\n",
       "\n",
       "    .dataframe thead th {\n",
       "        text-align: right;\n",
       "    }\n",
       "</style>\n",
       "<table border=\"1\" class=\"dataframe\">\n",
       "  <thead>\n",
       "    <tr style=\"text-align: right;\">\n",
       "      <th></th>\n",
       "      <th>nome</th>\n",
       "      <th>name</th>\n",
       "      <th>nivel</th>\n",
       "      <th>escola</th>\n",
       "      <th>ritual</th>\n",
       "      <th>elementos</th>\n",
       "      <th>tempo_conjuracao</th>\n",
       "      <th>alcance_area</th>\n",
       "      <th>componentes</th>\n",
       "      <th>mana</th>\n",
       "      <th>duracao</th>\n",
       "      <th>attack_save</th>\n",
       "      <th>dmg_effect</th>\n",
       "      <th>dmg</th>\n",
       "      <th>classes</th>\n",
       "      <th>tags</th>\n",
       "      <th>descricao</th>\n",
       "      <th>source</th>\n",
       "      <th>mana_adicional</th>\n",
       "    </tr>\n",
       "  </thead>\n",
       "  <tbody>\n",
       "    <tr>\n",
       "      <th>1</th>\n",
       "      <td>Proteção contra Lâminas</td>\n",
       "      <td>Blade Ward</td>\n",
       "      <td>0</td>\n",
       "      <td>elemental</td>\n",
       "      <td>False</td>\n",
       "      <td>[água, terra, ar, metal]</td>\n",
       "      <td>1 ação</td>\n",
       "      <td>pessoal</td>\n",
       "      <td>VS</td>\n",
       "      <td>100</td>\n",
       "      <td>1 rodada</td>\n",
       "      <td>N/A</td>\n",
       "      <td>N/A</td>\n",
       "      <td>N/A</td>\n",
       "      <td>[mago, bardo]</td>\n",
       "      <td>[defesa, combate]</td>\n",
       "      <td>[Ar] Você estende sua mão e traça uma parede d...</td>\n",
       "      <td>LDJ</td>\n",
       "      <td>0</td>\n",
       "    </tr>\n",
       "    <tr>\n",
       "      <th>8</th>\n",
       "      <td>Rajada Mística</td>\n",
       "      <td>Eldritch Blast</td>\n",
       "      <td>0</td>\n",
       "      <td>elemental</td>\n",
       "      <td>False</td>\n",
       "      <td>[água, terra, ar, fogo, luz, sombras, relâmpago]</td>\n",
       "      <td>1 ação</td>\n",
       "      <td>36 metros</td>\n",
       "      <td>VS</td>\n",
       "      <td>150</td>\n",
       "      <td>instantânea</td>\n",
       "      <td>distância</td>\n",
       "      <td>elemental</td>\n",
       "      <td>1d10</td>\n",
       "      <td>[clérigo, paladino, guerreiro, ladino, monge, ...</td>\n",
       "      <td>[dano, distância]</td>\n",
       "      <td>Um feixe elemental vai em direção a uma criatu...</td>\n",
       "      <td>LDJ</td>\n",
       "      <td>0</td>\n",
       "    </tr>\n",
       "    <tr>\n",
       "      <th>11</th>\n",
       "      <td>Mordida Congelante</td>\n",
       "      <td>Frostbite</td>\n",
       "      <td>0</td>\n",
       "      <td>elemental</td>\n",
       "      <td>False</td>\n",
       "      <td>[água, terra, veneno, metal, sombras]</td>\n",
       "      <td>1 ação</td>\n",
       "      <td>18 metros</td>\n",
       "      <td>VS</td>\n",
       "      <td>100</td>\n",
       "      <td>instantânea</td>\n",
       "      <td>CON Save</td>\n",
       "      <td>elemental</td>\n",
       "      <td>1d6</td>\n",
       "      <td>[clérigo, paladino, ladino, guerreiro, mago, b...</td>\n",
       "      <td>[dano, debuff]</td>\n",
       "      <td>Você faz com que um frio entorpecente se forme...</td>\n",
       "      <td>Xanathar</td>\n",
       "      <td>0</td>\n",
       "    </tr>\n",
       "    <tr>\n",
       "      <th>12</th>\n",
       "      <td>Lâmina Elemental</td>\n",
       "      <td>Green-Flame Blade</td>\n",
       "      <td>0</td>\n",
       "      <td>elemental</td>\n",
       "      <td>False</td>\n",
       "      <td>[água, terra, fogo, ar, luz, sombras, relâmpag...</td>\n",
       "      <td>1 ação</td>\n",
       "      <td>pessoal</td>\n",
       "      <td>SM (uma arma marcial corpo-a-corpo)</td>\n",
       "      <td>50</td>\n",
       "      <td>instantânea</td>\n",
       "      <td>corpo-a-corpo</td>\n",
       "      <td>elemental</td>\n",
       "      <td>mod</td>\n",
       "      <td>[clérigo, paladino, mago, bruxo, feiticeiro, l...</td>\n",
       "      <td>[dano, corpo-a-corpo, arma]</td>\n",
       "      <td>Você brande a arma utilizada na conjuração des...</td>\n",
       "      <td>Tasha</td>\n",
       "      <td>0</td>\n",
       "    </tr>\n",
       "    <tr>\n",
       "      <th>13</th>\n",
       "      <td>Orientação</td>\n",
       "      <td>Guidance</td>\n",
       "      <td>0</td>\n",
       "      <td>elemental</td>\n",
       "      <td>False</td>\n",
       "      <td>[luz, água]</td>\n",
       "      <td>1 ação</td>\n",
       "      <td>toque</td>\n",
       "      <td>VS</td>\n",
       "      <td>75</td>\n",
       "      <td>concentração, até 1 minuto</td>\n",
       "      <td>N/A</td>\n",
       "      <td>N/A</td>\n",
       "      <td>N/A</td>\n",
       "      <td>[clérigo, paladino, bardo, bruxo, feiticeiro, ...</td>\n",
       "      <td>[buff]</td>\n",
       "      <td>Você toca uma criatura voluntária e uma aura e...</td>\n",
       "      <td>LDJ</td>\n",
       "      <td>50 por turno</td>\n",
       "    </tr>\n",
       "    <tr>\n",
       "      <th>14</th>\n",
       "      <td>Lufada</td>\n",
       "      <td>Gust</td>\n",
       "      <td>0</td>\n",
       "      <td>elemental</td>\n",
       "      <td>False</td>\n",
       "      <td>[água, terra, ar, sombras, metal]</td>\n",
       "      <td>1 ação</td>\n",
       "      <td>9 metros</td>\n",
       "      <td>VS</td>\n",
       "      <td>50</td>\n",
       "      <td>instantânea</td>\n",
       "      <td>STR Save</td>\n",
       "      <td>N/A</td>\n",
       "      <td>N/A</td>\n",
       "      <td>[ladino, mago, feiticeiro, bruxo, bardo, monge]</td>\n",
       "      <td>[utilidade, controle]</td>\n",
       "      <td>Você utiliza seu elemento para causar um dos e...</td>\n",
       "      <td>Xanathar</td>\n",
       "      <td>0</td>\n",
       "    </tr>\n",
       "    <tr>\n",
       "      <th>25</th>\n",
       "      <td>Moldar Água</td>\n",
       "      <td>Mold Water</td>\n",
       "      <td>0</td>\n",
       "      <td>elemental</td>\n",
       "      <td>False</td>\n",
       "      <td>[água]</td>\n",
       "      <td>1 ação</td>\n",
       "      <td>pessoal</td>\n",
       "      <td>S</td>\n",
       "      <td>50</td>\n",
       "      <td>instantânea ou 1 hora</td>\n",
       "      <td>N/A</td>\n",
       "      <td>N/A</td>\n",
       "      <td>N/A</td>\n",
       "      <td>[clérigo, paladino, bardo, monge, ladino, guer...</td>\n",
       "      <td>[controle]</td>\n",
       "      <td>Você escolhe uma área de água que você possa v...</td>\n",
       "      <td>Xanathar</td>\n",
       "      <td>0</td>\n",
       "    </tr>\n",
       "    <tr>\n",
       "      <th>27</th>\n",
       "      <td>Prestidigitação</td>\n",
       "      <td>Prestidigitation</td>\n",
       "      <td>0</td>\n",
       "      <td>elemental</td>\n",
       "      <td>False</td>\n",
       "      <td>[água, terra, fogo, ar, sombras, relâmpago, me...</td>\n",
       "      <td>1 ação</td>\n",
       "      <td>3 metros</td>\n",
       "      <td>VS</td>\n",
       "      <td>50</td>\n",
       "      <td>até 1 hora</td>\n",
       "      <td>DEX Save</td>\n",
       "      <td>fogo</td>\n",
       "      <td>1d6</td>\n",
       "      <td>[clérigo, paladino]</td>\n",
       "      <td>[dano]</td>\n",
       "      <td>Essa magia é um truque mágico simples que conj...</td>\n",
       "      <td>LDJ</td>\n",
       "      <td>0</td>\n",
       "    </tr>\n",
       "    <tr>\n",
       "      <th>29</th>\n",
       "      <td>Raio de Gelo</td>\n",
       "      <td>Ray of Frost</td>\n",
       "      <td>0</td>\n",
       "      <td>elemental</td>\n",
       "      <td>False</td>\n",
       "      <td>[água, ar, relâmpago]</td>\n",
       "      <td>1 ação</td>\n",
       "      <td>18 metros</td>\n",
       "      <td>VS</td>\n",
       "      <td>150</td>\n",
       "      <td>instantânea</td>\n",
       "      <td>distância</td>\n",
       "      <td>elemental</td>\n",
       "      <td>1d8</td>\n",
       "      <td>[paladino, ladino, guerreiro, mago, feiticeiro...</td>\n",
       "      <td>[dano, controle]</td>\n",
       "      <td>Um raio elemental parte em direção de uma cria...</td>\n",
       "      <td>LDJ</td>\n",
       "      <td>0</td>\n",
       "    </tr>\n",
       "    <tr>\n",
       "      <th>30</th>\n",
       "      <td>Resistência</td>\n",
       "      <td>Resistence</td>\n",
       "      <td>0</td>\n",
       "      <td>elemental</td>\n",
       "      <td>False</td>\n",
       "      <td>[luz, água]</td>\n",
       "      <td>1 ação</td>\n",
       "      <td>toque</td>\n",
       "      <td>VSM (um manto em miniatura)</td>\n",
       "      <td>75</td>\n",
       "      <td>concentração, até 1 minuto</td>\n",
       "      <td>N/A</td>\n",
       "      <td>N/A</td>\n",
       "      <td>N/A</td>\n",
       "      <td>[clérigo, paladino, bardo, bruxo, feiticeiro, ...</td>\n",
       "      <td>[buff]</td>\n",
       "      <td>Você toca uma criatura voluntária e uma aura e...</td>\n",
       "      <td>LDJ</td>\n",
       "      <td>50 por turno</td>\n",
       "    </tr>\n",
       "    <tr>\n",
       "      <th>35</th>\n",
       "      <td>Estabilizar</td>\n",
       "      <td>Spare the Dying</td>\n",
       "      <td>0</td>\n",
       "      <td>elemental</td>\n",
       "      <td>False</td>\n",
       "      <td>[água, luz]</td>\n",
       "      <td>1 ação</td>\n",
       "      <td>toque</td>\n",
       "      <td>VS</td>\n",
       "      <td>100</td>\n",
       "      <td>instantânea</td>\n",
       "      <td>N/A</td>\n",
       "      <td>N/A</td>\n",
       "      <td>N/A</td>\n",
       "      <td>[clérigo, paladino]</td>\n",
       "      <td>[cura, utilidade]</td>\n",
       "      <td>Você toca uma criatura viva que esteja com 0 p...</td>\n",
       "      <td>LDJ</td>\n",
       "      <td>0</td>\n",
       "    </tr>\n",
       "    <tr>\n",
       "      <th>37</th>\n",
       "      <td>Rompante de Espadas</td>\n",
       "      <td>Sword Burst</td>\n",
       "      <td>0</td>\n",
       "      <td>elemental</td>\n",
       "      <td>False</td>\n",
       "      <td>[água, terra, ar, fogo, sombras, luz, metal]</td>\n",
       "      <td>1 ação</td>\n",
       "      <td>pessoal</td>\n",
       "      <td>VSM (um pouco de pó de prata)</td>\n",
       "      <td>50</td>\n",
       "      <td>instantânea</td>\n",
       "      <td>DEX Save</td>\n",
       "      <td>fogo</td>\n",
       "      <td>1d6</td>\n",
       "      <td>[clérigo, paladino, monge, ladino, guerreiro, ...</td>\n",
       "      <td>[dano]</td>\n",
       "      <td>Você cria um círculo momentâneo de lâminas ele...</td>\n",
       "      <td>Tasha</td>\n",
       "      <td>0</td>\n",
       "    </tr>\n",
       "  </tbody>\n",
       "</table>\n",
       "</div>"
      ],
      "text/plain": [
       "                       nome               name  nivel     escola  ritual  \\\n",
       "1   Proteção contra Lâminas         Blade Ward      0  elemental   False   \n",
       "8            Rajada Mística     Eldritch Blast      0  elemental   False   \n",
       "11       Mordida Congelante          Frostbite      0  elemental   False   \n",
       "12         Lâmina Elemental  Green-Flame Blade      0  elemental   False   \n",
       "13               Orientação           Guidance      0  elemental   False   \n",
       "14                   Lufada               Gust      0  elemental   False   \n",
       "25              Moldar Água         Mold Water      0  elemental   False   \n",
       "27          Prestidigitação   Prestidigitation      0  elemental   False   \n",
       "29             Raio de Gelo       Ray of Frost      0  elemental   False   \n",
       "30              Resistência         Resistence      0  elemental   False   \n",
       "35              Estabilizar    Spare the Dying      0  elemental   False   \n",
       "37      Rompante de Espadas        Sword Burst      0  elemental   False   \n",
       "\n",
       "                                            elementos tempo_conjuracao  \\\n",
       "1                            [água, terra, ar, metal]           1 ação   \n",
       "8    [água, terra, ar, fogo, luz, sombras, relâmpago]           1 ação   \n",
       "11              [água, terra, veneno, metal, sombras]           1 ação   \n",
       "12  [água, terra, fogo, ar, luz, sombras, relâmpag...           1 ação   \n",
       "13                                        [luz, água]           1 ação   \n",
       "14                  [água, terra, ar, sombras, metal]           1 ação   \n",
       "25                                             [água]           1 ação   \n",
       "27  [água, terra, fogo, ar, sombras, relâmpago, me...           1 ação   \n",
       "29                              [água, ar, relâmpago]           1 ação   \n",
       "30                                        [luz, água]           1 ação   \n",
       "35                                        [água, luz]           1 ação   \n",
       "37       [água, terra, ar, fogo, sombras, luz, metal]           1 ação   \n",
       "\n",
       "   alcance_area                          componentes  mana  \\\n",
       "1       pessoal                                   VS   100   \n",
       "8     36 metros                                   VS   150   \n",
       "11    18 metros                                   VS   100   \n",
       "12      pessoal  SM (uma arma marcial corpo-a-corpo)    50   \n",
       "13        toque                                   VS    75   \n",
       "14     9 metros                                   VS    50   \n",
       "25      pessoal                                    S    50   \n",
       "27     3 metros                                   VS    50   \n",
       "29    18 metros                                   VS   150   \n",
       "30        toque          VSM (um manto em miniatura)    75   \n",
       "35        toque                                   VS   100   \n",
       "37      pessoal        VSM (um pouco de pó de prata)    50   \n",
       "\n",
       "                       duracao    attack_save dmg_effect   dmg  \\\n",
       "1                     1 rodada            N/A        N/A   N/A   \n",
       "8                  instantânea      distância  elemental  1d10   \n",
       "11                 instantânea       CON Save  elemental   1d6   \n",
       "12                 instantânea  corpo-a-corpo  elemental   mod   \n",
       "13  concentração, até 1 minuto            N/A        N/A   N/A   \n",
       "14                 instantânea       STR Save        N/A   N/A   \n",
       "25       instantânea ou 1 hora            N/A        N/A   N/A   \n",
       "27                  até 1 hora       DEX Save       fogo   1d6   \n",
       "29                 instantânea      distância  elemental   1d8   \n",
       "30  concentração, até 1 minuto            N/A        N/A   N/A   \n",
       "35                 instantânea            N/A        N/A   N/A   \n",
       "37                 instantânea       DEX Save       fogo   1d6   \n",
       "\n",
       "                                              classes  \\\n",
       "1                                       [mago, bardo]   \n",
       "8   [clérigo, paladino, guerreiro, ladino, monge, ...   \n",
       "11  [clérigo, paladino, ladino, guerreiro, mago, b...   \n",
       "12  [clérigo, paladino, mago, bruxo, feiticeiro, l...   \n",
       "13  [clérigo, paladino, bardo, bruxo, feiticeiro, ...   \n",
       "14    [ladino, mago, feiticeiro, bruxo, bardo, monge]   \n",
       "25  [clérigo, paladino, bardo, monge, ladino, guer...   \n",
       "27                                [clérigo, paladino]   \n",
       "29  [paladino, ladino, guerreiro, mago, feiticeiro...   \n",
       "30  [clérigo, paladino, bardo, bruxo, feiticeiro, ...   \n",
       "35                                [clérigo, paladino]   \n",
       "37  [clérigo, paladino, monge, ladino, guerreiro, ...   \n",
       "\n",
       "                           tags  \\\n",
       "1             [defesa, combate]   \n",
       "8             [dano, distância]   \n",
       "11               [dano, debuff]   \n",
       "12  [dano, corpo-a-corpo, arma]   \n",
       "13                       [buff]   \n",
       "14        [utilidade, controle]   \n",
       "25                   [controle]   \n",
       "27                       [dano]   \n",
       "29             [dano, controle]   \n",
       "30                       [buff]   \n",
       "35            [cura, utilidade]   \n",
       "37                       [dano]   \n",
       "\n",
       "                                            descricao    source mana_adicional  \n",
       "1   [Ar] Você estende sua mão e traça uma parede d...       LDJ              0  \n",
       "8   Um feixe elemental vai em direção a uma criatu...       LDJ              0  \n",
       "11  Você faz com que um frio entorpecente se forme...  Xanathar              0  \n",
       "12  Você brande a arma utilizada na conjuração des...     Tasha              0  \n",
       "13  Você toca uma criatura voluntária e uma aura e...       LDJ   50 por turno  \n",
       "14  Você utiliza seu elemento para causar um dos e...  Xanathar              0  \n",
       "25  Você escolhe uma área de água que você possa v...  Xanathar              0  \n",
       "27  Essa magia é um truque mágico simples que conj...       LDJ              0  \n",
       "29  Um raio elemental parte em direção de uma cria...       LDJ              0  \n",
       "30  Você toca uma criatura voluntária e uma aura e...       LDJ   50 por turno  \n",
       "35  Você toca uma criatura viva que esteja com 0 p...       LDJ              0  \n",
       "37  Você cria um círculo momentâneo de lâminas ele...     Tasha              0  "
      ]
     },
     "execution_count": 4,
     "metadata": {},
     "output_type": "execute_result"
    }
   ],
   "source": [
    "filtered_df"
   ]
  },
  {
   "cell_type": "code",
   "execution_count": 35,
   "metadata": {},
   "outputs": [],
   "source": [
    "from IPython.display import Markdown, display\n",
    "\n",
    "def printmd(string, color=None):\n",
    "    colorstr = f\"<span style='color:{color}'>{string}</span>\"\n",
    "    display(Markdown(colorstr))\n",
    "\n",
    "def print_spell(spell_series):\n",
    "    lvl_str = f\"lvl {spell_series['nivel']}\" if spell_series['nivel'] > 0 else 'truque'\n",
    "    printmd(f\"**{spell_series['nome']} _({spell_series['name']})_** - {lvl_str}\")\n",
    "    "
   ]
  },
  {
   "cell_type": "code",
   "execution_count": 36,
   "metadata": {},
   "outputs": [
    {
     "data": {
      "text/markdown": [
       "<span style='color:None'>**Proteção contra Lâminas _(Blade Ward)_** - truque</span>"
      ],
      "text/plain": [
       "<IPython.core.display.Markdown object>"
      ]
     },
     "metadata": {},
     "output_type": "display_data"
    },
    {
     "data": {
      "text/markdown": [
       "<span style='color:None'>**Rajada Mística _(Eldritch Blast)_** - truque</span>"
      ],
      "text/plain": [
       "<IPython.core.display.Markdown object>"
      ]
     },
     "metadata": {},
     "output_type": "display_data"
    },
    {
     "data": {
      "text/markdown": [
       "<span style='color:None'>**Mordida Congelante _(Frostbite)_** - truque</span>"
      ],
      "text/plain": [
       "<IPython.core.display.Markdown object>"
      ]
     },
     "metadata": {},
     "output_type": "display_data"
    },
    {
     "data": {
      "text/markdown": [
       "<span style='color:None'>**Lâmina Elemental _(Green-Flame Blade)_** - truque</span>"
      ],
      "text/plain": [
       "<IPython.core.display.Markdown object>"
      ]
     },
     "metadata": {},
     "output_type": "display_data"
    },
    {
     "data": {
      "text/markdown": [
       "<span style='color:None'>**Orientação _(Guidance)_** - truque</span>"
      ],
      "text/plain": [
       "<IPython.core.display.Markdown object>"
      ]
     },
     "metadata": {},
     "output_type": "display_data"
    },
    {
     "data": {
      "text/markdown": [
       "<span style='color:None'>**Lufada _(Gust)_** - truque</span>"
      ],
      "text/plain": [
       "<IPython.core.display.Markdown object>"
      ]
     },
     "metadata": {},
     "output_type": "display_data"
    },
    {
     "data": {
      "text/markdown": [
       "<span style='color:None'>**Moldar Água _(Mold Water)_** - truque</span>"
      ],
      "text/plain": [
       "<IPython.core.display.Markdown object>"
      ]
     },
     "metadata": {},
     "output_type": "display_data"
    },
    {
     "data": {
      "text/markdown": [
       "<span style='color:None'>**Prestidigitação _(Prestidigitation)_** - truque</span>"
      ],
      "text/plain": [
       "<IPython.core.display.Markdown object>"
      ]
     },
     "metadata": {},
     "output_type": "display_data"
    },
    {
     "data": {
      "text/markdown": [
       "<span style='color:None'>**Raio de Gelo _(Ray of Frost)_** - truque</span>"
      ],
      "text/plain": [
       "<IPython.core.display.Markdown object>"
      ]
     },
     "metadata": {},
     "output_type": "display_data"
    },
    {
     "data": {
      "text/markdown": [
       "<span style='color:None'>**Resistência _(Resistence)_** - truque</span>"
      ],
      "text/plain": [
       "<IPython.core.display.Markdown object>"
      ]
     },
     "metadata": {},
     "output_type": "display_data"
    },
    {
     "data": {
      "text/markdown": [
       "<span style='color:None'>**Estabilizar _(Spare the Dying)_** - truque</span>"
      ],
      "text/plain": [
       "<IPython.core.display.Markdown object>"
      ]
     },
     "metadata": {},
     "output_type": "display_data"
    },
    {
     "data": {
      "text/markdown": [
       "<span style='color:None'>**Rompante de Espadas _(Sword Burst)_** - truque</span>"
      ],
      "text/plain": [
       "<IPython.core.display.Markdown object>"
      ]
     },
     "metadata": {},
     "output_type": "display_data"
    }
   ],
   "source": [
    "for idx, row in filtered_df.iterrows():\n",
    "    print_spell(row)"
   ]
  },
  {
   "cell_type": "code",
   "execution_count": null,
   "metadata": {},
   "outputs": [],
   "source": []
  }
 ],
 "metadata": {
  "interpreter": {
   "hash": "d36adf45757a947aebb41e19531952e79d7da656c5a3acf675af965b060eaf9d"
  },
  "kernelspec": {
   "display_name": "Python 3.10.2 64-bit",
   "language": "python",
   "name": "python3"
  },
  "language_info": {
   "codemirror_mode": {
    "name": "ipython",
    "version": 3
   },
   "file_extension": ".py",
   "mimetype": "text/x-python",
   "name": "python",
   "nbconvert_exporter": "python",
   "pygments_lexer": "ipython3",
   "version": "3.10.2"
  },
  "orig_nbformat": 4
 },
 "nbformat": 4,
 "nbformat_minor": 2
}
