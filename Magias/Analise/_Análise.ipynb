{
 "cells": [
  {
   "cell_type": "code",
   "execution_count": 17,
   "metadata": {},
   "outputs": [],
   "source": [
    "from DFReader import get_spells_df\n",
    "from DFFormatAsserter import assert_columns_not_null, fill_na_by_column, assert_df_schema   \n",
    "\n",
    "spells_df = get_spells_df()\n",
    "fill_na_by_column(spells_df)\n",
    "assert_columns_not_null(spells_df)\n",
    "\n",
    "try:\n",
    "    assert_df_schema(spells_df)\n",
    "except ValueError as e:\n",
    "    print('Wrong values.')\n",
    "    print(e)"
   ]
  },
  {
   "cell_type": "code",
   "execution_count": 18,
   "metadata": {},
   "outputs": [
    {
     "data": {
      "text/markdown": [
       "<span style='color:None;font-size:None'>**Controlar Chamas _(Control Flames)_** - truque<br></span><span style='color:None;font-size:13px'>&emsp;Escola: **elemental** (_fogo, sombras_)<br>&emsp;Tempo conjuração: **1 ação**<br>&emsp;Alcance: **18 metros**<br>&emsp;Componentes: **S**<br>&emsp;Mana: **100** (_+ 5 a cada 5 minutos_)<br>&emsp;Duração: **instantânea ou 1 hora**<br></span><span style='color:None;font-size:None'>Você escolhe uma chama não mágica que você possa ver, dentro do alcance, e que ocupe até um cubo de 1,5 metros. Você afeta ela de uma das seguintes formas:<br>&emsp;• Você instantaneamente expande a chama em 1,5 metro em uma direção, considerando que exista madeira ou outro combustível no local novo.<br>&emsp;• Você instantaneamente extingue as chamas dentro do cubo.<br>&emsp;• Você dobra ou reduz à metade a área de luz plena e de penumbra emitida pela chama, muda a cor dela, ou ambos. As mudanças duram por 1 hora.<br>&emsp;• Você faz com que formas simples - como um forma imprecisa de uma criatura, objeto inanimado ou local - apareçam dentro das chamas e se animem como você quiser. As formas duram por 1 hora.<br>&emsp;Se você conjurar essa magia diversas vezes , você pode ter até três dos seus efeitos não instantâneos ativos ao mesmo tempo, e você pode dissipar um efeito desses com uma ação.<br></span><span style='color:gray;font-size:11px'>[controle, utilidade]<br></span><span style='color:gray;font-size:11px'>[bruxo, feiticeiro, mago]<br></span><span style='color:gray;font-size:10px'>_Xanathar_</span>"
      ],
      "text/plain": [
       "<IPython.core.display.Markdown object>"
      ]
     },
     "metadata": {},
     "output_type": "display_data"
    },
    {
     "name": "stdout",
     "output_type": "stream",
     "text": [
      "\n"
     ]
    },
    {
     "data": {
      "text/markdown": [
       "<span style='color:None;font-size:None'>**Criar Fogueira Instantânea _(Create Bonfire)_** - truque<br></span><span style='color:None;font-size:13px'>&emsp;Escola: **elemental** (_fogo, sombras_)<br>&emsp;Tempo conjuração: **1 ação**<br>&emsp;Alcance: **18 metros**<br>&emsp;Componentes: **VS**<br>&emsp;Mana: **150**<br>&emsp;Duração: **instantânea**<br>&emsp;Dano: **1d8**<br>&emsp;Attack/Save: **DEX Save**<br>&emsp;Dmg effect: **fogo**<br></span><span style='color:None;font-size:None'>Você cria uma fogueira no solo em um ponto que você possa ver, dentro do alcance. A fogueira preenche um cubo de 1,5 metros. Qualquer criatura no espaço da fogueira quando você a conjura deve ser bem sucedida num teste de resistência de Destreza ou sofrerá 1d8 de dano de fogo.<br>&emsp;O dano da magia aumenta em 1d8 quando você alcança o 5º nível (2d8), 11º nível (3d8) e 17º nível (4d8).<br></span><span style='color:gray;font-size:11px'>[dano]<br></span><span style='color:gray;font-size:11px'>[clérigo, guerreiro, ladino, paladino]<br></span><span style='color:gray;font-size:10px'>_Xanathar_</span>"
      ],
      "text/plain": [
       "<IPython.core.display.Markdown object>"
      ]
     },
     "metadata": {},
     "output_type": "display_data"
    },
    {
     "name": "stdout",
     "output_type": "stream",
     "text": [
      "\n"
     ]
    },
    {
     "data": {
      "text/markdown": [
       "<span style='color:None;font-size:None'>**Criar Fogueira _(Create Bonfire)_** - truque<br></span><span style='color:None;font-size:13px'>&emsp;Escola: **elemental** (_fogo, sombras_)<br>&emsp;Tempo conjuração: **1 ação**<br>&emsp;Alcance: **18 metros**<br>&emsp;Componentes: **VS**<br>&emsp;Mana: **100** (_+ 25 por turno_)<br>&emsp;Duração: **concentração, até 1 minuto**<br>&emsp;Dano: **1d8**<br>&emsp;Attack/Save: **DEX Save**<br>&emsp;Dmg effect: **fogo**<br></span><span style='color:None;font-size:None'>Você cria uma fogueira no solo em um ponto que você possa ver, dentro do alcance. Até a magia acabar, a fogueira preenche um cubo de 1,5 metros. Qualquer criatura no espaço da fogueira quando você a conjura deve ser bem sucedida num teste de resistência de Destreza ou sofrerá 1d8 de dano de fogo. Uma criatura também deve realizar o teste de resistência quando entrar no espaço da fogueira pela primeira vez em um turno, ou terminar seu turno nela.<br>&emsp;Você gasta mais 25 de mana por turno para continuar se concentrando na magia.<br>&emsp;O dano da magia aumenta em 1d8 quando você alcança o 5º nível (2d8), 11º nível (3d8) e 17º nível (4d8).<br></span><span style='color:gray;font-size:11px'>[controle, dano]<br></span><span style='color:gray;font-size:11px'>[bruxo, feiticeiro, mago]<br></span><span style='color:gray;font-size:10px'>_Xanathar_</span>"
      ],
      "text/plain": [
       "<IPython.core.display.Markdown object>"
      ]
     },
     "metadata": {},
     "output_type": "display_data"
    },
    {
     "name": "stdout",
     "output_type": "stream",
     "text": [
      "\n"
     ]
    },
    {
     "data": {
      "text/markdown": [
       "<span style='color:None;font-size:None'>**Globos de Luz _(Dancing Lights)_** - truque<br></span><span style='color:None;font-size:13px'>&emsp;Escola: **elemental** (_luz, fogo, sombras_)<br>&emsp;Tempo conjuração: **1 ação**<br>&emsp;Alcance: **36 metros**<br>&emsp;Componentes: **VSM** _(um pouco de fósforo ou wychwood ou um inseto luminoso)_<br>&emsp;Mana: **50** (_+ 5 por turno, 25 para mover_)<br>&emsp;Duração: **concentração, até 1 minuto**<br></span><span style='color:None;font-size:None'>Você cria até quatro luzes do tamanho de tochas dentro do alcance, fazendo-as parecerem tochas, lanternas ou esferas luminosas que flutuam no ar pela duração. Você também pode combinar as quatro luzes em uma forma luminosa, vagamente humanoide, de tamanho Médio. Qualquer que seja a forma que você escolher, cada luz produz penumbra num raio de 3 metros.<br>&emsp;Com uma ação bônus, no seu turno, você pode mover as luzes, até 18 metros, para um novo local dentro do alcance. Uma luz deve estar a, pelo menos, 6 metros de outra luz criada por essa magia e uma luz some se exceder o alcance da magia.<br>&emsp;[Sombras] Todos os alcances de iluminação descritos anteriormente são metade para um Mago das Sombras.<br>&emsp;Você gasta 5 de mana por turno para manter essa magia ativa.<br>&emsp;Você gasta 25 de mana caso queira mover as luzes.<br></span><span style='color:gray;font-size:11px'>[utilidade]<br></span><span style='color:gray;font-size:11px'>[bardo, bruxo, clérigo, feiticeiro, guerreiro, ladino, mago, monge, paladino]<br></span><span style='color:gray;font-size:10px'>_LDJ_</span>"
      ],
      "text/plain": [
       "<IPython.core.display.Markdown object>"
      ]
     },
     "metadata": {},
     "output_type": "display_data"
    },
    {
     "name": "stdout",
     "output_type": "stream",
     "text": [
      "\n"
     ]
    },
    {
     "data": {
      "text/markdown": [
       "<span style='color:None;font-size:None'>**Rajada Mística _(Eldritch Blast)_** - truque<br></span><span style='color:None;font-size:13px'>&emsp;Escola: **elemental** (_água, terra, ar, fogo, luz, sombras, relâmpago_)<br>&emsp;Tempo conjuração: **1 ação**<br>&emsp;Alcance: **36 metros**<br>&emsp;Componentes: **VS**<br>&emsp;Mana: **150**<br>&emsp;Duração: **instantânea**<br>&emsp;Dano: **1d10**<br>&emsp;Attack/Save: **distância**<br>&emsp;Dmg effect: **elemental**<br></span><span style='color:None;font-size:None'>Um feixe elemental vai em direção a uma criatura dentro do alcance. Realize uma jogada de ataque à distância com magia contra o alvo. Se atingir, o alvo sofre 1d10 de dano do seu elemento.<br>&emsp;Caso você utilize apenas uma mão para fazer o ataque, o dano cai pela metade.<br>&emsp;A magia cria mais de um feixe quando você alcança níveis elevados: dois feixes no 5° nível, três feixes no 11° nível e quatro feixes no 17° nível. Você pode direcionar os feixes para o mesmo alvo ou para alvos diferentes. Realize jogadas de ataque separadas para cada feixe.<br></span><span style='color:gray;font-size:11px'>[dano, distância]<br></span><span style='color:gray;font-size:11px'>[bardo, bruxo, clérigo, feiticeiro, guerreiro, ladino, mago, monge, paladino]<br></span><span style='color:gray;font-size:10px'>_LDJ_</span>"
      ],
      "text/plain": [
       "<IPython.core.display.Markdown object>"
      ]
     },
     "metadata": {},
     "output_type": "display_data"
    },
    {
     "name": "stdout",
     "output_type": "stream",
     "text": [
      "\n"
     ]
    },
    {
     "data": {
      "text/markdown": [
       "<span style='color:None;font-size:None'>**Raio de Fogo _(Fire Bolt)_** - truque<br></span><span style='color:None;font-size:13px'>&emsp;Escola: **elemental** (_fogo, sombras, luz_)<br>&emsp;Tempo conjuração: **1 ação**<br>&emsp;Alcance: **36 metros**<br>&emsp;Componentes: **VS**<br>&emsp;Mana: **150**<br>&emsp;Duração: **instantânea**<br>&emsp;Dano: **1d10**<br>&emsp;Attack/Save: **distância**<br>&emsp;Dmg effect: **elemental**<br></span><span style='color:None;font-size:None'>Você arremessa um cisco elemental em uma criatura ou objeto dentro do alcance. Faça um ataque à distância com magia contra o alvo. Se atingir, o alvo sofre 1d10 de dano de elemental.<br>&emsp;[Fogo|Sombras] Um objeto inflamável atingido por essa magia, incendeia se não estiver sendo vestido ou carregado.<br>&emsp;O dano dessa magia aumenta em 1d10 quando você alcança o 5° nível (2d10), 11° nível (3d10) e 17° nível (4d10).<br></span><span style='color:gray;font-size:11px'>[combate, dano]<br></span><span style='color:gray;font-size:11px'>[bardo, bruxo, feiticeiro, guerreiro, ladino, mago, monge, paladino]<br></span><span style='color:gray;font-size:10px'>_LDJ_</span>"
      ],
      "text/plain": [
       "<IPython.core.display.Markdown object>"
      ]
     },
     "metadata": {},
     "output_type": "display_data"
    },
    {
     "name": "stdout",
     "output_type": "stream",
     "text": [
      "\n"
     ]
    },
    {
     "data": {
      "text/markdown": [
       "<span style='color:None;font-size:None'>**Lâmina Elemental _(Green-Flame Blade)_** - truque<br></span><span style='color:None;font-size:13px'>&emsp;Escola: **elemental** (_água, terra, fogo, ar, luz, sombras, relâmpago, metal, veneno_)<br>&emsp;Tempo conjuração: **1 ação**<br>&emsp;Alcance: **pessoal**<br>&emsp;Componentes: **SM** _(uma arma marcial corpo-a-corpo)_<br>&emsp;Mana: **200**<br>&emsp;Duração: **instantânea**<br>&emsp;Dano: **mod**<br>&emsp;Attack/Save: **corpo-a-corpo**<br>&emsp;Dmg effect: **elemental**<br></span><span style='color:None;font-size:None'>Você brande a arma utilizada na conjuração dessa magia e faz um ataque corpo a corpo contra uma criatura a té 1,5m de você. Em um acerto, o alvo sofre os efeitos normais do ataque da arma e você faz com que uma rajada elemental salte do alvo para uma criatura diferente a sua escolha que você possa ver a até 1,5m do primeiro alvo. A segunda criatura sofre dano elemental igual ao seu modificador de atributo de conjuração.<br>&emsp;O dano dessa magia aumenta quando você alcança certos níveis. No 5º nível, o ataque corpo a corpo provoca 1d8 de dano elemental adicional se acertar, e o dano elemental que a segunda criatura recebe aumenta para 1d8 + o modificador de seu atributo de conjuração. Ambos os danos aumentam em 1d8 no 11º nível (2d8 e 2d8) e novamente no 17º nível (3d8 e 3d8).<br></span><span style='color:gray;font-size:11px'>[arma, corpo-a-corpo, dano]<br></span><span style='color:gray;font-size:11px'>[bruxo, clérigo, feiticeiro, guerreiro, ladino, mago, monge, paladino]<br></span><span style='color:gray;font-size:10px'>_Tasha_</span>"
      ],
      "text/plain": [
       "<IPython.core.display.Markdown object>"
      ]
     },
     "metadata": {},
     "output_type": "display_data"
    },
    {
     "name": "stdout",
     "output_type": "stream",
     "text": [
      "\n"
     ]
    },
    {
     "data": {
      "text/markdown": [
       "<span style='color:None;font-size:None'>**Chicote _(Lightning Lure)_** - truque<br></span><span style='color:None;font-size:13px'>&emsp;Escola: **elemental** (_relâmpago, luz, sombras, metal, terra, fogo_)<br>&emsp;Tempo conjuração: **1 ação**<br>&emsp;Alcance: **4,5 metros**<br>&emsp;Componentes: **VS**<br>&emsp;Mana: **150**<br>&emsp;Duração: **instantânea**<br>&emsp;Dano: **1d8**<br>&emsp;Attack/Save: **STR Save**<br>&emsp;Dmg effect: **elemental**<br></span><span style='color:None;font-size:None'>Você cria um chicote elemental que golpeia uma criatura a sua escolha a sua vista a até 4,5m de você. O alvo deve ser bem-sucedido em uma salvaguarda de Força ou é puxado por até 3m em linha reta na sua direção, e então recebe 1d8 de dano elemental se estiver a até 1,5m de você.  O dano dessa magia aumenta em 1d8 quando você alcança o 5º nível (2d8), 11º nível (3d8), e 17º nível (4d8).<br></span><span style='color:gray;font-size:11px'>[combate, controle, dano, distância]<br></span><span style='color:gray;font-size:11px'>[bruxo, clérigo, feiticeiro, guerreiro, mago, monge, paladino]<br></span><span style='color:gray;font-size:10px'>_Tasha_</span>"
      ],
      "text/plain": [
       "<IPython.core.display.Markdown object>"
      ]
     },
     "metadata": {},
     "output_type": "display_data"
    },
    {
     "name": "stdout",
     "output_type": "stream",
     "text": [
      "\n"
     ]
    },
    {
     "data": {
      "text/markdown": [
       "<span style='color:None;font-size:None'>**Prestidigitação _(Prestidigitation)_** - truque<br></span><span style='color:None;font-size:13px'>&emsp;Escola: **elemental** (_água, terra, fogo, ar, sombras, relâmpago, metal, veneno_)<br>&emsp;Tempo conjuração: **1 ação**<br>&emsp;Alcance: **3 metros**<br>&emsp;Componentes: **VS**<br>&emsp;Mana: **50**<br>&emsp;Duração: **até 1 hora**<br></span><span style='color:None;font-size:None'>Essa magia é um truque mágico simples que conjuradores iniciantes usam para praticar. Você cria um dos seguintes efeitos mágicos dentro do alcance:<br>&emsp;• Você cria, instantaneamente, um efeito sensorial inofensivo, como uma [relâmpago] chuva de faíscas, [ar] um sopro de vento, [bardo] notas musicais suaves ou [veneno] um odor estranho.<br>&emsp;•[Fogo] Você, instantaneamente, acende ou apaga uma vela, uma tocha ou uma pequena fogueira.<br>&emsp;•[Terra] Você, instantaneamente, limpa ou suja um objeto de até 1 metro cúbico. Você pode limpar ou sujar uma parte de uma roupa com lama.<br>&emsp;•[Água] Você seca ou molha uma porção de tecido, madeira ou algo do tipo.<br>&emsp;•[Fogo] Você esfria, esquenta ou melhora o sabor de até 1 metro cubico de matéria orgânica não viva por 1 hora.<br>&emsp;•[Metal] Você faz uma cor, uma pequena marca ou um símbolo aparecer em um objeto ou superfície metálica por 1 hora.<br>&emsp;•[Ilusão] Você cria uma bugiganga não-mágica ou uma imagem ilusória que caiba na sua mão e que dura até o final do seu próximo turno.<br>&emsp;Se você conjurar essa magia diversas vezes, você pode ter até três dos seus efeitos não-instantâneos ativos, ao mesmo tempo, e você pode dissipar um desses efeitos com uma ação.<br></span><span style='color:gray;font-size:11px'>[utilidade]<br></span><span style='color:gray;font-size:11px'>[bardo, bruxo, clérigo, feiticeiro, guerreiro, ladino, mago, monge, paladino]<br></span><span style='color:gray;font-size:10px'>_LDJ_</span>"
      ],
      "text/plain": [
       "<IPython.core.display.Markdown object>"
      ]
     },
     "metadata": {},
     "output_type": "display_data"
    },
    {
     "name": "stdout",
     "output_type": "stream",
     "text": [
      "\n"
     ]
    },
    {
     "data": {
      "text/markdown": [
       "<span style='color:None;font-size:None'>**Criar Chamas _(Produce Flame)_** - truque<br></span><span style='color:None;font-size:13px'>&emsp;Escola: **elemental** (_fogo, luz, sombras_)<br>&emsp;Tempo conjuração: **1 ação**<br>&emsp;Alcance: **pessoal**<br>&emsp;Componentes: **VS**<br>&emsp;Mana: **50** (_+ 10 por minuto_)<br>&emsp;Duração: **10 minutos**<br>&emsp;Dano: **1d8**<br>&emsp;Attack/Save: **distância**<br>&emsp;Dmg effect: **fogo**<br></span><span style='color:None;font-size:None'>Uma chama tremulante aparece na sua mão. A chama permanece ai pela duração e não machuca nem você nem seu equipamento. A chama emite luz plena num raio de 3 metros e penumbra por 3 metros adicionais. A magia acaba se você dissipa-la usando uma ação ou se conjura-la novamente.<br>&emsp;Você pode, também, atacar com a chama, no entanto, fazer isso acaba com a magia. Quando você conjura essa magia ou com uma ação em um turno posterior, você pode arremessar a chama numa criatura a até 9 metros de você. Faça um ataque à distância com magia. Se atingir, o alvo sofre 1d8 de dano de fogo ou luz.<br>&emsp;[Sombras] Todos os alcances de iluminação descritos anteriormente são metade para um Mago das Sombras.<br>&emsp;Você gasta 10 de mana por minuto até a magia acabar.<br>&emsp;O dano dessa magia aumenta em 1d8 quando você alcança o 5° nível (2d8), 11° nível (3d8) e 17° nível (4d8).<br></span><span style='color:gray;font-size:11px'>[dano, distância, utilidade]<br></span><span style='color:gray;font-size:11px'>[bardo, bruxo, clérigo, feiticeiro, guerreiro, ladino, mago, monge, paladino]<br></span><span style='color:gray;font-size:10px'>_LDJ_</span>"
      ],
      "text/plain": [
       "<IPython.core.display.Markdown object>"
      ]
     },
     "metadata": {},
     "output_type": "display_data"
    },
    {
     "name": "stdout",
     "output_type": "stream",
     "text": [
      "\n"
     ]
    },
    {
     "data": {
      "text/markdown": [
       "<span style='color:None;font-size:None'>**Rompante de Espadas _(Sword Burst)_** - truque<br></span><span style='color:None;font-size:13px'>&emsp;Escola: **elemental** (_água, terra, ar, fogo, sombras, luz, metal_)<br>&emsp;Tempo conjuração: **1 ação**<br>&emsp;Alcance: **pessoal**<br>&emsp;Componentes: **VSM** _(um pouco de pó de prata)_<br>&emsp;Mana: **50**<br>&emsp;Duração: **instantânea**<br>&emsp;Dano: **1d6**<br>&emsp;Attack/Save: **DEX Save**<br>&emsp;Dmg effect: **fogo**<br></span><span style='color:None;font-size:None'>Você cria um círculo momentâneo de lâminas elementais que giram ao seu redor. Todas as outras criaturas a até 1,5m de você devem ser bem-sucedidas em uma salvaguarda de Destreza ou recebem 1d6 de dano elemental.<br>&emsp;O dano da magia aumenta em 1d6 quando você alcança o 5º nível (2d6), 11 nível (3d6), e 17º nível (4d6).<br></span><span style='color:gray;font-size:11px'>[dano]<br></span><span style='color:gray;font-size:11px'>[bruxo, clérigo, feiticeiro, guerreiro, ladino, mago, monge, paladino]<br></span><span style='color:gray;font-size:10px'>_Tasha_</span>"
      ],
      "text/plain": [
       "<IPython.core.display.Markdown object>"
      ]
     },
     "metadata": {},
     "output_type": "display_data"
    },
    {
     "name": "stdout",
     "output_type": "stream",
     "text": [
      "\n"
     ]
    }
   ],
   "source": [
    "from DFFilter import filter_df\n",
    "from SpellPrinter import print_spell, print_spells_for_df\n",
    "\n",
    "my_filter = {\n",
    "    'elementos': 'fogo',\n",
    "}\n",
    "filtered_df = filter_df(spells_df, my_filter)\n",
    "\n",
    "print_spells_for_df(filtered_df)"
   ]
  },
  {
   "cell_type": "code",
   "execution_count": 19,
   "metadata": {},
   "outputs": [
    {
     "data": {
      "text/plain": [
       "200    1\n",
       "150    4\n",
       "100    2\n",
       "50     4\n",
       "Name: mana, dtype: int64"
      ]
     },
     "metadata": {},
     "output_type": "display_data"
    },
    {
     "name": "stdout",
     "output_type": "stream",
     "text": [
      "Mean =\t109.091\n",
      "Std\t  =\t53.936\n"
     ]
    }
   ],
   "source": [
    "from IPython.display import display\n",
    "\n",
    "def get_mana_stats(spells_df):\n",
    "    display(spells_df.mana.value_counts().sort_index(ascending=False))\n",
    "    print(f'Mean =\\t{filtered_df.mana.mean():.3f}')\n",
    "    print(f'Std\\t  =\\t{filtered_df.mana.std():.3f}')\n",
    "\n",
    "get_mana_stats(filtered_df)"
   ]
  },
  {
   "cell_type": "code",
   "execution_count": 20,
   "metadata": {},
   "outputs": [
    {
     "name": "stdout",
     "output_type": "stream",
     "text": [
      "1d8 4.5\n",
      "1d8 4.5\n",
      "1d10 5.5\n",
      "1d10 5.5\n",
      "1d8 4.5\n",
      "1d8 4.5\n",
      "1d6 3.5\n"
     ]
    }
   ],
   "source": [
    "from DiceCalculator import get_dice_formula_mean, get_dice_formula_std\n",
    "\n",
    "for _, row in filtered_df.iterrows():\n",
    "    dmg = row['dmg']\n",
    "    if dmg != 'N/A' and dmg != 'mod':\n",
    "        print(dmg, get_dice_formula_mean(dmg))"
   ]
  },
  {
   "cell_type": "code",
   "execution_count": null,
   "metadata": {},
   "outputs": [],
   "source": []
  }
 ],
 "metadata": {
  "interpreter": {
   "hash": "d36adf45757a947aebb41e19531952e79d7da656c5a3acf675af965b060eaf9d"
  },
  "kernelspec": {
   "display_name": "Python 3.10.2 64-bit",
   "language": "python",
   "name": "python3"
  },
  "language_info": {
   "codemirror_mode": {
    "name": "ipython",
    "version": 3
   },
   "file_extension": ".py",
   "mimetype": "text/x-python",
   "name": "python",
   "nbconvert_exporter": "python",
   "pygments_lexer": "ipython3",
   "version": "3.10.2"
  },
  "orig_nbformat": 4
 },
 "nbformat": 4,
 "nbformat_minor": 2
}
