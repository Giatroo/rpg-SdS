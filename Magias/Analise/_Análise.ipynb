{
  "cells": [
    {
      "cell_type": "code",
      "execution_count": 1,
      "metadata": {},
      "outputs": [
        {
          "name": "stderr",
          "output_type": "stream",
          "text": [
            "Spells: 100%|██████████| 200/200 [00:01<00:00, 184.96it/s]\n"
          ]
        }
      ],
      "source": [
        "from dfs.DFReader import get_asserted_spells_df\n",
        "\n",
        "spells_df = get_asserted_spells_df(verbose=True)"
      ]
    },
    {
      "cell_type": "code",
      "execution_count": 6,
      "metadata": {},
      "outputs": [
        {
          "data": {
            "text/markdown": [
              "<span style='color:None;font-size:None'>**Acalmar Emoções _(Calm Emotions)_** lvl 2<br></span><span style='color:None;font-size:13px'>&emsp;**Escola(s):** elemental, musical, psíquica (_água, terra, luz_)<br>&emsp;**Tempo conjuração:** 1 ação<br>&emsp;**Alcance:** 18 metros<br>&emsp;**Componentes:** VS<br>&emsp;**Mana:** 650 (_+ 10 de mana por turno_)<br>&emsp;**Duração:** concentração, até 1 minuto<br>&emsp;**Attack/Save:** CHA Save<br></span><span style='color:None;font-size:None'>Você tenta suprimir emoções fortes em um grupo de pessoas. Cada humanoide em uma esfera de 6 metros de raio, centrada em um ponto que você escolher dentro do alcance, deve realizar um teste de resistência de Carisma; uma criatura pode escolher falhar nesse teste, se desejar.  Se uma criatura falhar na resistência, escolha um dentre os dois efeitos a seguir.<br>&emsp;Você pode suprimir qualquer efeito que esteja deixando a criatura enfeitiçada ou amedrontada. Quando essa magia terminar, qualquer efeito suprimido volta a funcionar, considerando que sua duração não tenha acabado nesse meio tempo.<br>&emsp;Alternativamente, você pode tornar um alvo indiferente às criaturas que você escolher que forem hostis a ele. Essa indiferença acaba se o alvo for atacado ou ferido por uma magia ou se ele testemunhar qualquer dos seus amigos sendo ferido. Quando a magia terminar, a criatura se tornará hostil novamente, a não ser que o Mestre diga o contrário.<br></span><span style='color:gray;font-size:11px'>[buff, controle, debuff, defesa]<br></span><span style='color:gray;font-size:11px'>[bardo, bruxo, clérigo, feiticeiro, guerreiro, mago, monge, paladino]<br></span><span style='color:gray;font-size:10px'>_LDJ_</span>"
            ],
            "text/plain": [
              "<IPython.core.display.Markdown object>"
            ]
          },
          "metadata": {},
          "output_type": "display_data"
        },
        {
          "name": "stdout",
          "output_type": "stream",
          "text": [
            "\n"
          ]
        },
        {
          "data": {
            "text/markdown": [
              "<span style='color:None;font-size:None'>**Agarrão da Terra _(Earthbind)_** lvl 2<br></span><span style='color:None;font-size:13px'>&emsp;**Escola(s):** elemental (_terra, sombras, metal_)<br>&emsp;**Tempo conjuração:** 1 ação<br>&emsp;**Alcance:** 90 metros<br>&emsp;**Componentes:** VS<br>&emsp;**Mana:** 900 (_+ 10 por turno_)<br>&emsp;**Duração:** concentração, até 1 minuto<br>&emsp;**Attack/Save:** STR Save<br></span><span style='color:None;font-size:None'>Escolha uma criatura que você possa ver, dentro do alcance. Laços de energia mágica rodeiam a criatura. O alvo deve ser bem sucedido num teste de resistência de Força ou seu deslocamento de voo (se possuir) será reduzido para 0 metros pela duração da magia. Uma criatura voadora afetada por essa magia desce 18 metros por turno até aterrissar no solo ou a magia acabar.<br></span><span style='color:gray;font-size:11px'>[controle]<br></span><span style='color:gray;font-size:11px'>[bruxo, clérigo, feiticeiro, guerreiro, mago, paladino]<br></span><span style='color:gray;font-size:10px'>_LDJ_</span>"
            ],
            "text/plain": [
              "<IPython.core.display.Markdown object>"
            ]
          },
          "metadata": {},
          "output_type": "display_data"
        },
        {
          "name": "stdout",
          "output_type": "stream",
          "text": [
            "\n"
          ]
        },
        {
          "data": {
            "text/markdown": [
              "<span style='color:None;font-size:None'>**Ajuda _(Aid)_** lvl 2<br></span><span style='color:None;font-size:13px'>&emsp;**Escola(s):** elemental, musical (_água, luz_)<br>&emsp;**Tempo conjuração:** 1 ação<br>&emsp;**Alcance:** 9 metros<br>&emsp;**Componentes:** VSM _(uma pequena fita de tecido branco)_<br>&emsp;**Mana:** 700<br>&emsp;**Duração:** 8 horas<br>&emsp;**Dano**: 5<br></span><span style='color:None;font-size:None'>Sua magia inspira seus aliados com vigor e determinação.<br>&emsp;Escolha até três criaturas dentro do alcance. O máximo de pontos de vida e os pontos de vida atuais de cada alvo aumentam em 5, pela duração.<br>&emsp;**Melhorar Magia**. Para cada 600 de mana adicionais gastos, você aumenta em 5 o total de pontos de vida até um máximo de 25 totais.<br></span><span style='color:gray;font-size:11px'>[buff, cura]<br></span><span style='color:gray;font-size:11px'>[bardo, guerreiro, mago, monge]<br></span><span style='color:gray;font-size:10px'>_LDJ_</span>"
            ],
            "text/plain": [
              "<IPython.core.display.Markdown object>"
            ]
          },
          "metadata": {},
          "output_type": "display_data"
        },
        {
          "name": "stdout",
          "output_type": "stream",
          "text": [
            "\n"
          ]
        },
        {
          "data": {
            "text/markdown": [
              "<span style='color:None;font-size:None'>**Alterar-se _(Alter Self)_** lvl 2<br></span><span style='color:None;font-size:13px'>&emsp;**Escola(s):** elemental, ilusionista (_água, terra, fogo, ar, luz, sombras, relâmpago, metal, veneno_)<br>&emsp;**Tempo conjuração:** 1 ação<br>&emsp;**Alcance:** pessoal<br>&emsp;**Componentes:** VS<br>&emsp;**Mana:** 600 (_+ 15 a cada 5 minutos_)<br>&emsp;**Duração:** concentração, até 1 hora<br></span><span style='color:None;font-size:None'>Você assume uma forma diferente. Quando conjurar essa magia, escolha uma das seguintes opções, o efeito durará pela duração da magia. Enquanto a magia durar, você pode terminar uma opção com uma ação para ganhar os benefícios de uma diferente.<br>&emsp;**_Adaptação Aquática._** [Água] Você adapta seu corpo para um ambiente aquático, brotando guelras e crescendo membranas entre seus dedos. Você pode respirar embaixo d’água e ganha deslocamento de natação igual a seu deslocamento terrestre.<br>&emsp;**_Mudar Aparência._** [Ilusão] Você transforam sua aparência. Você decide com o que você parece, incluindo altura, peso, traços faciais, timbre da sua voz, comprimento do cabelo, coloração e características distintas, se tiverem. Você pode ficar parecido com um membro de outra raça, apesar de nenhuma de suas estatísticas mudar. Você também não pode parecer com uma criatura de um tamanho diferente do seu, e seu formado básico permanece o mesmo; se você for bípede, você não pode usar essa magia para se tornar quadrupede, por exemplo. A qualquer momento, pela duração da magia, você pode usar sua ação para mudar sua aparência dessa forma, novamente.<br>&emsp;**_Armas Naturais._** [Elemental] Você faz crescerem garras, presas, espinhos, chifres ou armas naturais diferentes, à sua escolha de acordo com seu elemento. Seus ataques desarmados causam 1d6 de dano de concussão, perfurante ou cortante, como apropriado para a arma natural que você escolheu, e você é proficiente com seus ataques desarmados. Finalmente, a arma natural é mágica e você tem +1 de bônus nas jogadas de ataque e dano que você fizer com ela.<br></span><span style='color:gray;font-size:11px'>[buff, dano, exploração, utilidade]<br></span><span style='color:gray;font-size:11px'>[bardo, bruxo, clérigo, feiticeiro, guerreiro, ladino, mago, monge, paladino]<br></span><span style='color:gray;font-size:10px'>_LDJ_</span>"
            ],
            "text/plain": [
              "<IPython.core.display.Markdown object>"
            ]
          },
          "metadata": {},
          "output_type": "display_data"
        },
        {
          "name": "stdout",
          "output_type": "stream",
          "text": [
            "\n"
          ]
        },
        {
          "data": {
            "text/markdown": [
              "<span style='color:None;font-size:None'>**Aprimorar Habilidade _(Enhance Ability)_** lvl 2<br></span><span style='color:None;font-size:13px'>&emsp;**Escola(s):** elemental, necromancia, espiritual, musical, psíquica (_água, terra, ar, luz, relâmpago, metal, veneno_)<br>&emsp;**Tempo conjuração:** 1 ação<br>&emsp;**Alcance:** toque<br>&emsp;**Componentes:** VSM _(pelo ou penas de uma besta)_<br>&emsp;**Mana:** 750 (_+ 10 a cada 10 minutos_)<br>&emsp;**Duração:** concentração, até 1 hora<br></span><span style='color:None;font-size:None'>Você toca uma criatura e a agracia com aprimoramento mágico (ladinos e guerreiros podem escolher apenas si próprios). Escolha um dos efeitos a seguir; o alvo ganha esse efeito até o fim da magia.<br>&emsp;[Ar|Relâmpago] **_Agilidade do Gato._** O alvo tem vantagem em testes de Destreza. Ele também não sofre dano ao cair de 6 metros ou menos, se não estiver incapacitado.<br>&emsp;[Psíquica|Água|Luz] **_Esperteza da Raposa._** O alvo tem vantagem em testes de Inteligência.<br>&emsp;[Musical|Água|Luz] **_Esplendor da Águia._** O alvo tem vantagem em testes de Carisma.<br>&emsp;[Terra|Metal] **_Força do Touro._** O alvo tem vantagem em testes de Força e sua capacidade de carga é dobrada.  <br>&emsp;[Musical|Psíquica|Água|Luz] **_Sabedoria da Coruja._** O alvo tem vantagem em testes de Sabedoria.<br>&emsp;[Terra|Metal|Veneno] **_Vigor do Urso._** O alvo tem vantagem em testes de Constituição.<br>&emsp;[Necrótico|Espiritual] **_Resistência do Leão_** O alvo recebe 2d6 pontos de vida temporários, que são perdidos quando a magia termina.<br></span><span style='color:gray;font-size:11px'>[buff, toque]<br></span><span style='color:gray;font-size:11px'>[bardo, bruxo, clérigo, feiticeiro, guerreiro, ladino, mago, monge, paladino]<br></span><span style='color:gray;font-size:10px'>_LDJ_</span>"
            ],
            "text/plain": [
              "<IPython.core.display.Markdown object>"
            ]
          },
          "metadata": {},
          "output_type": "display_data"
        },
        {
          "name": "stdout",
          "output_type": "stream",
          "text": [
            "\n"
          ]
        },
        {
          "data": {
            "text/markdown": [
              "<span style='color:None;font-size:None'>**Arma Espiritual _(Spiritual Weapon)_** lvl 2<br></span><span style='color:None;font-size:13px'>&emsp;**Escola(s):** elemental, necromancia, espiritual (_água, terra, fogo, ar, luz, sombras, relâmpago, metal, veneno_)<br>&emsp;**Tempo conjuração:** 1 ação bônus<br>&emsp;**Alcance:** 18 metros<br>&emsp;**Componentes:** VS<br>&emsp;**Mana:** 900<br>&emsp;**Duração:** 1 minuto<br>&emsp;**Dano**: 1d8<br>&emsp;**Dmg/effect:** elemental<br></span><span style='color:None;font-size:None'>Você cria uma arma espectral flutuante, dentro do alcance, que permanece pela duração ou até você conjurar essa magia novamente. Quando você conjura essa magia, você pode realizar um ataque corpo-a-corpo com magia contra uma criatura a 1,5 metro da arma. Se atingir, o alvo sofre dano de elemental igual a 1d8 + seu modificador de habilidade de conjuração.<br>&emsp;Com uma ação bônus, no seu turno, você pode mover a arma até 6 metros e repetir o ataque contra uma criatura a 1,5 metro dela.<br>&emsp;A arma pode ter a forma que você desejar.<br>&emsp;**Melhorar Magia**. Para cada 600 de mana extras gastos, aumente o dano da magia em 1d8 até um máximo de 4d8 adicionais.<br></span><span style='color:gray;font-size:11px'>[dano]<br></span><span style='color:gray;font-size:11px'>[bardo, guerreiro, mago, monge]<br></span><span style='color:gray;font-size:10px'>_LDJ_</span>"
            ],
            "text/plain": [
              "<IPython.core.display.Markdown object>"
            ]
          },
          "metadata": {},
          "output_type": "display_data"
        },
        {
          "name": "stdout",
          "output_type": "stream",
          "text": [
            "\n"
          ]
        },
        {
          "data": {
            "text/markdown": [
              "<span style='color:None;font-size:None'>**Arma Mágica _(Magic Weapon)_** lvl 2<br></span><span style='color:None;font-size:13px'>&emsp;**Escola(s):** elemental, necromancia, espiritual, ilusionista, musical, psíquica, receita (_água, terra, fogo, ar, luz, sombras, relâmpago, metal, veneno_)<br>&emsp;**Tempo conjuração:** 1 ação bônus<br>&emsp;**Alcance:** toque<br>&emsp;**Componentes:** VS<br>&emsp;**Mana:** 750 (_+ 10 a cada 5 minutos_)<br>&emsp;**Duração:** concentração, até 1 hora<br></span><span style='color:None;font-size:None'>Você toca uma arma não-magica. Até a magia acabar, a arma se torna uma arma mágica com +1 de bônus nas jogadas de ataque e jogadas de dano.<br>&emsp;**Melhorar Magia** Gastando um total de 5000 de mana e 50 de mana a cada 5 minutos, você torna a arma em uma arma +2. Gastando um total de 50000 de mana e 500 de mana a cada 5 minutos, você torna a arma em uma arma +3.<br></span><span style='color:gray;font-size:11px'>[arma, buff, dano, toque]<br></span><span style='color:gray;font-size:11px'>[bardo, bruxo, clérigo, feiticeiro, guerreiro, ladino, mago, monge, paladino]<br></span><span style='color:gray;font-size:10px'>_LDJ_</span>"
            ],
            "text/plain": [
              "<IPython.core.display.Markdown object>"
            ]
          },
          "metadata": {},
          "output_type": "display_data"
        },
        {
          "name": "stdout",
          "output_type": "stream",
          "text": [
            "\n"
          ]
        },
        {
          "data": {
            "text/markdown": [
              "<span style='color:None;font-size:None'>**Arrombar _(Knock)_** lvl 2<br></span><span style='color:None;font-size:13px'>&emsp;**Escola(s):** elemental (_terra, metal_)<br>&emsp;**Tempo conjuração:** 1 ação<br>&emsp;**Alcance:** 18 metros<br>&emsp;**Componentes:** V<br>&emsp;**Mana:** 800<br>&emsp;**Duração:** instantânea<br></span><span style='color:None;font-size:None'>Escolha um objeto que você possa ver, dentro do alcance. O objeto pode ser uma porta, uma caixa, um baú ou um par de algemas, um cadeado ou outro objeto que contenha um meio mundano ou mágico que previne o acesso.<br>&emsp;Um alvo que esteja fechado por uma fechadura mundana ou preso ou barrado torna-se destrancado, destravado ou desbloqueado. Se o objeto tiver múltiplas fechaduras, apenas uma delas é destrancada.<br>&emsp;Se você escolher um alvo que esteja travado pela magia _tranca arcana_, essa magia será suprimida por 10 minutos, durante esse período o alvo pode ser aberto e fechado normalmente.<br>&emsp;Quando você conjurar essa magia, uma batida forte, audível a até 90 metros de distância, emana do objeto alvo.<br></span><span style='color:gray;font-size:11px'>[exploração]<br></span><span style='color:gray;font-size:11px'>[bardo, bruxo, clérigo, feiticeiro, guerreiro, ladino, mago, monge, paladino]<br></span><span style='color:gray;font-size:10px'>_LDJ_</span>"
            ],
            "text/plain": [
              "<IPython.core.display.Markdown object>"
            ]
          },
          "metadata": {},
          "output_type": "display_data"
        },
        {
          "name": "stdout",
          "output_type": "stream",
          "text": [
            "\n"
          ]
        },
        {
          "data": {
            "text/markdown": [
              "<span style='color:None;font-size:None'>**Augúrio _(Augury)_** lvl 2 - ritual<br></span><span style='color:None;font-size:13px'>&emsp;**Escola(s):** espiritual<br>&emsp;**Tempo conjuração:** 1 minuto<br>&emsp;**Alcance:** pessoal<br>&emsp;**Componentes:** VSM _(varetas, ossos ou objetos similarmente marcados valendo, no mínimo, 25 po)_<br>&emsp;**Mana:** 1000<br>&emsp;**Duração:** instantânea<br></span><span style='color:None;font-size:None'>Ao lançar varetas cravejados com gemas, rolar ossos de dragão, puxar cartas ornamentadas ou usar outro tipo de ferramenta de adivinhação, você recebe um pressagio de uma entidade de outro mundo, sobre os resultados de cursos de ação específicos que você planeja tomar nos próximos 30 minutos. O Mestre escolhe dentre os possíveis presságios a seguir: • _Êxito_, para resultados bons<br>&emsp;• _Fracasso_, para resultados maus<br>&emsp;• _Êxito e fracasso_, para resultados bons e maus<br>&emsp;• _Nada_, para resultados que não são especialmente bons ou ruins<br><br>&emsp;A magia não leva em conta qualquer possível circunstancia que possa mudar o resultado, como a conjuração de magias adicionais ou a perda ou ganho de um companheiro.<br>&emsp;Se você conjurar a magia duas ou mais vezes antes de completar seu próximo descanso longo, existe uma chance cumulativa de 25 por cento de cada conjuração, depois da primeira que você fez, ter um resultado aleatório. O Mestre faz essa jogada secretamente.<br></span><span style='color:gray;font-size:11px'>[detecção, exploração, utilidade]<br></span><span style='color:gray;font-size:11px'>[bardo, bruxo, clérigo, feiticeiro, guerreiro, ladino, mago, monge, paladino]<br></span><span style='color:gray;font-size:10px'>_LDJ_</span>"
            ],
            "text/plain": [
              "<IPython.core.display.Markdown object>"
            ]
          },
          "metadata": {},
          "output_type": "display_data"
        },
        {
          "name": "stdout",
          "output_type": "stream",
          "text": [
            "\n"
          ]
        },
        {
          "data": {
            "text/markdown": [
              "<span style='color:None;font-size:None'>**Aura Mágica Ilusionista (de Nystul) _(Arcanist's Magic Aura)_** lvl 2<br></span><span style='color:None;font-size:13px'>&emsp;**Escola(s):** ilusionista<br>&emsp;**Tempo conjuração:** 1 ação<br>&emsp;**Alcance:** toque<br>&emsp;**Componentes:** VSM _(um pequeno quadrado de seda)_<br>&emsp;**Mana:** 650<br>&emsp;**Duração:** 24 horas<br></span><span style='color:None;font-size:None'>Você coloca uma ilusão em uma criatura ou objeto que você tocar, então magias de adivinhação revelarão informações falsas sobre ele. O alvo pode ser uma criatura voluntária ou um objeto que não esteja sendo carregado ou vestido por outra criatura.  Quando você conjura essa magia, escolha um ou ambos os efeitos seguintes. O efeito permanece pela duração. Se você conjurar essa magia na mesma criatura ou objeto a cada dia por 30 dias, colocando o mesmo efeito nele todas as vezes, a ilusão durará até ser dissipada.<br>&emsp;**_Aura Falsa._** Você modifica a forma como o alvo aparece para magias e efeitos mágicos, como _detectar magia_, que detectam auras mágicas. Você pode fazer um objeto não-mágico parecer mágico ou mudar a aura mágica de um objeto para que ela pareça pertencer a outra escola de magia a sua escolha (exceto Atrativa e Pura). Quando você usar esse efeito num objeto, você pode fazer a aura falsa aparente a qualquer criatura que manusear o item.<br>&emsp;**_Máscara._** Você modifica a forma como o alvo aparece para magias e efeitos que detectam tipos de criaturas, como o Sentido Divino do paladino ou o gatilho de um magia _símbolo_. Você escolhe o tipo de criatura e outras magias e efeitos mágicos consideram o alvo como se ele fosse uma criatura desse tipo ou tendência.<br></span><span style='color:gray;font-size:11px'>[buff, detecção, toque, toque, utilidade]<br></span><span style='color:gray;font-size:11px'>[bardo, bruxo, clérigo, feiticeiro, guerreiro, ladino, mago, monge, paladino]<br></span><span style='color:gray;font-size:10px'>_LDJ_</span>"
            ],
            "text/plain": [
              "<IPython.core.display.Markdown object>"
            ]
          },
          "metadata": {},
          "output_type": "display_data"
        },
        {
          "name": "stdout",
          "output_type": "stream",
          "text": [
            "\n"
          ]
        },
        {
          "data": {
            "text/markdown": [
              "<span style='color:None;font-size:None'>**Bafo de Dragão _(Dragon's Breath)_** lvl 2<br></span><span style='color:None;font-size:13px'>&emsp;**Escola(s):** elemental (_água, terra, fogo, ar, luz, sombras, relâmpago, metal, veneno_)<br>&emsp;**Tempo conjuração:** 1 ação bônus<br>&emsp;**Alcance:** toque<br>&emsp;**Componentes:** VSM _(uma pimenta ardida)_<br>&emsp;**Mana:** 800 (_+ 10 por turno_)<br>&emsp;**Duração:** concentração, até 1 minuto<br>&emsp;**Dano**: 3d6<br>&emsp;**Attack/Save:** DEX Save<br>&emsp;**Dmg/effect:** elemental<br></span><span style='color:None;font-size:None'>Você toca uma criatura voluntária e a imbui com o poder de cuspir energia elemental de sua boca, desde que tenha uma. Até a magia terminar, a criatura pode usar uma ação para exalar energia do seu elemento em um cone de 4,5 metros. Cada criatura nessa área deve fazer um teste de resistência de Destreza, tomando um dano de 3d6 elemental em uma falha, ou metade de dano em um bem sucedido.<br>&emsp;**Melhorar Magia**. Para cada 500 de mana adicionais gastos, adicione mais 1d6 até um máximo de 7d6 adicionais.<br></span><span style='color:gray;font-size:11px'>[buff, dano, toque]<br></span><span style='color:gray;font-size:11px'>[bardo, mago]<br></span><span style='color:gray;font-size:10px'>_LDJ_</span>"
            ],
            "text/plain": [
              "<IPython.core.display.Markdown object>"
            ]
          },
          "metadata": {},
          "output_type": "display_data"
        },
        {
          "name": "stdout",
          "output_type": "stream",
          "text": [
            "\n"
          ]
        },
        {
          "data": {
            "text/markdown": [
              "<span style='color:None;font-size:None'>**Boca Encantada _(Magic Month)_** lvl 2<br></span><span style='color:None;font-size:13px'>&emsp;**Escola(s):** musical, receita<br>&emsp;**Tempo conjuração:** 1 minuto<br>&emsp;**Alcance:** 9 metros<br>&emsp;**Componentes:** VSM _(um pedaço de favo de mel e pó de jade valendo, no mínimo, 10 po, consumidos pela magia)_<br>&emsp;**Mana:** 850<br>&emsp;**Duração:** até ser dissipada<br></span><span style='color:None;font-size:None'>Você implanta uma mensagem em um objeto dentro do alcance, uma mensagem que é pronunciada quando uma condição de ativação é satisfeita. Escolha um objeto que você possa ver e não esteja sendo vestido ou carregado por outra criatura. Então, fale a mensagem, que deve conter 25 palavras ou menos, apesar de ela poder ser entregue durante um período de até 10 minutos. Finalmente, determine a circunstância que irá ativar a magia para que sua mensagem seja entregue.<br>&emsp;Quando essa circunstância ocorrer, a boca encantada aparecerá no objeto e recitará a mensagem com sua voz e com o mesmo volume que você falou. Se o objeto que você escolheu tiver uma boca ou algo semelhante a uma boca (por exemplo, a boca de uma estátua), a boca mágica aparece ai, então, as palavras parecerão vir da boca do objeto. Quando você conjura essa magia, você pode fazer a magia acabar depois de enviar sua mensagem ou ela pode permanecer e repetir a mensagem sempre que a circunstância de ativação ocorrer.<br>&emsp;A circunstância de ativação pode ser tão genérica ou tão detalhada quando você quiser, apesar de ela precisar ser baseada em condições visuais ou audíveis que ocorram a até 9 metros do objeto. Por exemplo, você pode instruir a boca a falar quando uma criatura se aproximar a menos de 9 metros do objeto ou quando um sino de prata tocar a menos de 9 metros dela.<br></span><span style='color:gray;font-size:11px'>[comunicação, utilidade]<br></span><span style='color:gray;font-size:11px'>[bardo, bruxo, clérigo, feiticeiro, guerreiro, ladino, mago, monge, paladino]<br></span><span style='color:gray;font-size:10px'>_LDJ_</span>"
            ],
            "text/plain": [
              "<IPython.core.display.Markdown object>"
            ]
          },
          "metadata": {},
          "output_type": "display_data"
        },
        {
          "name": "stdout",
          "output_type": "stream",
          "text": [
            "\n"
          ]
        },
        {
          "data": {
            "text/markdown": [
              "<span style='color:None;font-size:None'>**Braza (de Aganazzar) _(Aganazzar's Sorcher)_** lvl 2<br></span><span style='color:None;font-size:13px'>&emsp;**Escola(s):** elemental (_água, fogo, ar, sombras, relâmpago, metal, veneno_)<br>&emsp;**Tempo conjuração:** 1 ação<br>&emsp;**Alcance:** 9 metros<br>&emsp;**Componentes:** VSM _(uma escama de dragão vermelho)_<br>&emsp;**Mana:** 800<br>&emsp;**Duração:** instantânea<br>&emsp;**Dano**: 3d8<br>&emsp;**Attack/Save:** DEX Save<br>&emsp;**Dmg/effect:** elemental<br></span><span style='color:None;font-size:None'>Uma linha elemental vibrante de 9 por 1,5 metros emana de você em uma direção que você escolher. Cada criatura na linha deve fazer uma salvaguarda de Destreza. A criatura recebe 3d8 de dano elemental em uma falha ou metade em um sucesso.<br>&emsp;**Melhorar Magia**. Para cada 650 de mana adicionais, adicione 1d8 no dano até um máximo de 5d8 adicionais.<br></span><span style='color:gray;font-size:11px'>[dano]<br></span><span style='color:gray;font-size:11px'>[bardo, bruxo, clérigo, feiticeiro, mago, paladino]<br></span><span style='color:gray;font-size:10px'>_LDJ_</span>"
            ],
            "text/plain": [
              "<IPython.core.display.Markdown object>"
            ]
          },
          "metadata": {},
          "output_type": "display_data"
        },
        {
          "name": "stdout",
          "output_type": "stream",
          "text": [
            "\n"
          ]
        },
        {
          "data": {
            "text/markdown": [
              "<span style='color:None;font-size:None'>**Cativar _(Enthrall)_** lvl 2<br></span><span style='color:None;font-size:13px'>&emsp;**Escola(s):** musical, psíquica<br>&emsp;**Tempo conjuração:** 1 ação<br>&emsp;**Alcance:** 18 metros<br>&emsp;**Componentes:** VS<br>&emsp;**Mana:** 700<br>&emsp;**Duração:** 1 minuto<br>&emsp;**Attack/Save:** WIS Save<br></span><span style='color:None;font-size:None'>Você tece um cordão de palavras distrativas, fazendo as criaturas, à sua escolha, que você puder ver dentro do alcance e que puderem ouvir você, realizarem um teste de resistência de Sabedoria. Qualquer criatura que não puder ser enfeitiçada, passa automaticamente nesse teste de resistência e, se você ou seus companheiros estiverem lutando com a criatura, ela terá vantagem na resistência.<br>&emsp;Se falhar na resistência, a criatura terá desvantagem em testes de Sabedoria (Percepção) feitos para notar qualquer criatura além de você, até a magia acabar ou até o alvo não poder mais ouvir você. A magia acaba se você estiver incapacitado ou incapaz de falar<br></span><span style='color:gray;font-size:11px'>[controle, debuff, social]<br></span><span style='color:gray;font-size:11px'>[bardo, bruxo, clérigo, feiticeiro, guerreiro, ladino, mago, monge, paladino]<br></span><span style='color:gray;font-size:10px'>_LDJ_</span>"
            ],
            "text/plain": [
              "<IPython.core.display.Markdown object>"
            ]
          },
          "metadata": {},
          "output_type": "display_data"
        },
        {
          "name": "stdout",
          "output_type": "stream",
          "text": [
            "\n"
          ]
        },
        {
          "data": {
            "text/markdown": [
              "<span style='color:None;font-size:None'>**Cegueira/Surdez _(Blindness/Deafness)_** lvl 2<br></span><span style='color:None;font-size:13px'>&emsp;**Escola(s):** necromancia, ilusionista, espiritual, musical, elemental (_luz, sombras_)<br>&emsp;**Tempo conjuração:** 1 ação<br>&emsp;**Alcance:** 9 metros<br>&emsp;**Componentes:** VS<br>&emsp;**Mana:** 700<br>&emsp;**Duração:** 1 minuto<br></span><span style='color:None;font-size:None'>Você pode cegar ou ensurdecer um oponente. Escolha uma criatura que você possa ver dentro do alcance para fazer um teste de resistência de Constituição. Se ela falhar, ficará ou cega ou surda (à sua escolha) pela duração. No final de cada um dos turnos dele, o alvo pode realizar um teste de resistência de Constituição. Se obtiver sucesso, a magia termina.<br>&emsp;[Musical] Você pode apenas utilizar essa magia para deixar uma criatura surda.<br>&emsp;[Luz|Ilusão] Você pode apenas cegar um oponente.<br>&emsp;[Necromancia] Você não pode utilizar essa magia em corruptores, mortos-vivos ou aberrações.<br>&emsp;[Espiritual] Você não pode utilizar essa magia em celestiais ou fadas.<br>&emsp;**Melhorar Magia**. Para cada 1000 pontos de mana adicionais gastos, adicione mais um alvo para a magia até um total de 5 alvos máximos.<br></span><span style='color:gray;font-size:11px'>[controle, debuff]<br></span><span style='color:gray;font-size:11px'>[bardo, bruxo, clérigo, feiticeiro, guerreiro, ladino, mago, monge, paladino]<br></span><span style='color:gray;font-size:10px'>_LDJ_</span>"
            ],
            "text/plain": [
              "<IPython.core.display.Markdown object>"
            ]
          },
          "metadata": {},
          "output_type": "display_data"
        },
        {
          "name": "stdout",
          "output_type": "stream",
          "text": [
            "\n"
          ]
        },
        {
          "data": {
            "text/markdown": [
              "<span style='color:None;font-size:None'>**Chama Contínua _(Continual Flame)_** lvl 2<br></span><span style='color:None;font-size:13px'>&emsp;**Escola(s):** elemental (_fogo, luz, relâmpago_)<br>&emsp;**Tempo conjuração:** 1 ação<br>&emsp;**Alcance:** toque<br>&emsp;**Componentes:** VSM _(pó de rubi no valor de 50 po, consumido pela magia)_<br>&emsp;**Mana:** 1500<br>&emsp;**Duração:** até ser dissipada<br></span><span style='color:None;font-size:None'>Uma chama, que produz iluminação equivalente a uma tocha, surge de um objeto que você tocar. O efeito é parecido com o de uma chama normal, mas ele não produz calor e não consome oxigênio. Uma chama continua pode ser coberta ou escondida, mas não sufocada ou extinta.<br></span><span style='color:gray;font-size:11px'>[defesa, toque, utilidade]<br></span><span style='color:gray;font-size:11px'>[bardo, bruxo, clérigo, feiticeiro, mago, paladino]<br></span><span style='color:gray;font-size:10px'>_LDJ_</span>"
            ],
            "text/plain": [
              "<IPython.core.display.Markdown object>"
            ]
          },
          "metadata": {},
          "output_type": "display_data"
        },
        {
          "name": "stdout",
          "output_type": "stream",
          "text": [
            "\n"
          ]
        },
        {
          "data": {
            "text/markdown": [
              "<span style='color:None;font-size:None'>**Chicote Mental (de Tasha) _(Tasha's Mind Whip)_** lvl 2<br></span><span style='color:None;font-size:13px'>&emsp;**Escola(s):** ilusionista, musical<br>&emsp;**Tempo conjuração:** 1 ação<br>&emsp;**Alcance:** 27 metros<br>&emsp;**Componentes:** V<br>&emsp;**Mana:** 900<br>&emsp;**Duração:** 1 rodada<br>&emsp;**Dano**: 3d6<br>&emsp;**Attack/Save:** INT Save<br>&emsp;**Dmg/effect:** psíquico<br></span><span style='color:None;font-size:None'>Você enlaça psiquicamente uma criatura a sua vista dentro do alcance. O alvo deve ser bem-sucedido em uma salvaguarda de Inteligência. Em caso de falha, O alvo sofre 3d6 de dano psíquico, e não pode realizar reações até o final do próximo turno dele. Além disso, no próximo turno dele, ele deve escolher entre se mover, realizar uma ação, ou realizar uma ação bônus; ele pode fazer apenas uma das três coisas. Caso passe na salvaguarda, o alvo recebe metade do dano e não sofre os outros efeitos da magia.<br>&emsp;**Melhorar Magia**. Para cada 1200 de mana adicionais gastos, você pode adicionar mais uma criatura como alvo da magia até um total de 5 criaturas. Elas devem estar até 9m de distância umas das outras quando você as marcar como alvo.<br></span><span style='color:gray;font-size:11px'>[controle, dano, debuff]<br></span><span style='color:gray;font-size:11px'>[bardo, bruxo, clérigo, feiticeiro, guerreiro, ladino, mago, monge, paladino]<br></span><span style='color:gray;font-size:10px'>_Tasha_</span>"
            ],
            "text/plain": [
              "<IPython.core.display.Markdown object>"
            ]
          },
          "metadata": {},
          "output_type": "display_data"
        },
        {
          "name": "stdout",
          "output_type": "stream",
          "text": [
            "\n"
          ]
        },
        {
          "data": {
            "text/markdown": [
              "<span style='color:None;font-size:None'>**Chuva de Bolas de Neve _(Snilloc's Snowball Swarm)_** lvl 2<br></span><span style='color:None;font-size:13px'>&emsp;**Escola(s):** elemental (_água_)<br>&emsp;**Tempo conjuração:** 1 ação<br>&emsp;**Alcance:** 27 metros<br>&emsp;**Componentes:** VSM _(um pedaço de gelo ou um pequena lasca de pedra branca)_<br>&emsp;**Mana:** 750<br>&emsp;**Duração:** instantânea<br>&emsp;**Dano**: 3d6<br>&emsp;**Attack/Save:** DEX Save<br>&emsp;**Dmg/effect:** frio<br></span><span style='color:None;font-size:None'>Uma rajada de bolas de neve mágicas emerge de um ponto que você escolher, dentro do alcance. Cada criatura numa esfera de 1,5 metro de raio centrada no ponto deve realizar um teste de resistência de Destreza. Uma criatura sofre 3d6 de dano de frio se falhar na resistência, ou metade desse dano se obtiver sucesso.<br>&emsp;**Melhorar Magia**. Para cada 600 de mana adicionais, adicione 1d6 ao dano até o máximo de 5d6 extras.<br></span><span style='color:gray;font-size:11px'>[dano]<br></span><span style='color:gray;font-size:11px'>[bardo, mago]<br></span><span style='color:gray;font-size:10px'>_Xanathar_</span>"
            ],
            "text/plain": [
              "<IPython.core.display.Markdown object>"
            ]
          },
          "metadata": {},
          "output_type": "display_data"
        },
        {
          "name": "stdout",
          "output_type": "stream",
          "text": [
            "\n"
          ]
        },
        {
          "data": {
            "text/markdown": [
              "<span style='color:None;font-size:None'>**Convocar Montaria _(Find Steed)_** lvl 2 (Rara)<br></span><span style='color:None;font-size:13px'>&emsp;**Escola(s):** invocação, necromancia, espiritual<br>&emsp;**Tempo conjuração:** 10 minutos<br>&emsp;**Alcance:** 9 metros<br>&emsp;**Componentes:** VS<br>&emsp;**Mana:** 1400<br>&emsp;**Duração:** instantânea<br></span><span style='color:None;font-size:None'>Você convoca um espírito que assume a forma de uma montaria excepcionalmente inteligente, forte e leal, criando uma ligação duradoura com ela. Aparecendo em um espaço desocupado dentro do alcance, a montaria adquire a forma que você escolher, como um cavalo de guerra, um pônei, um camelo, um alce ou um mastim.  (Seu Mestre pode permitir outros animais para serem convocados como montarias.) A montaria tem as estatísticas da forma escolhida, no entanto, ele é um celestial, corruptor ou fada (à sua escolha) ao invés do seu tipo normal. Além disso, se sua montaria tiver Inteligência 5 ou menor, a Inteligência dela se torna 6 e ela ganha a capacidade de compreender um idioma, à sua escolha, que você fala.<br>&emsp;Sua montaria serve tanto para cavalgar quando para o combate e você tem uma ligação instintiva com ela que permite a vocês lutarem como uma unidade singular.  Enquanto estiver montado na sua montaria, você pode fazer com que qualquer magia que você conjure que tenha alcance pessoal, também afete a sua montaria.<br>&emsp;Quando a montaria cair a 0 pontos de vida, ela desaparece, não deixando qualquer corpo físico para trás.  Você também pode dispensar sua montaria a qualquer momento, com uma ação, fazendo-a desaparecer. Em ambos os casos, conjurar essa magia novamente convocará a mesma montaria, restaurando-a ao seu máximo de pontos de vida.<br>&emsp;Enquanto sua montaria estiver a até 1,5 quilômetro de você, você pode se comunicar telepaticamente com ela.<br>&emsp;Você não pode ter mais de uma montaria ligado por essa magia por vez. Com uma ação, você pode liberar a montaria da ligação a qualquer momento, fazendo-a desaparecer.<br></span><span style='color:gray;font-size:11px'>[comunicação, dano, exploração]<br></span><span style='color:gray;font-size:11px'>[bardo, bruxo, clérigo, feiticeiro, guerreiro, mago, paladino]<br></span><span style='color:gray;font-size:10px'>_LDJ_</span>"
            ],
            "text/plain": [
              "<IPython.core.display.Markdown object>"
            ]
          },
          "metadata": {},
          "output_type": "display_data"
        },
        {
          "name": "stdout",
          "output_type": "stream",
          "text": [
            "\n"
          ]
        },
        {
          "data": {
            "text/markdown": [
              "<span style='color:None;font-size:None'>**Coroa da Loucura _(Crown of Madness)_** lvl 2<br></span><span style='color:None;font-size:13px'>&emsp;**Escola(s):** musical, psíquica, necromancia, elemental (_metal_)<br>&emsp;**Tempo conjuração:** 1 ação<br>&emsp;**Alcance:** 36 metros<br>&emsp;**Componentes:** VS<br>&emsp;**Mana:** 700 (_+ 10 por turno_)<br>&emsp;**Duração:** concentração, até 1 minuto<br>&emsp;**Attack/Save:** WIS Save<br></span><span style='color:None;font-size:None'>Um humanoide, à sua escolha, que você possa ver dentro do alcance, deve ser bem sucedido num teste de resistência de Sabedoria ou ficará enfeitiçado por você pela duração. Enquanto o alvo estiver enfeitiçado dessa forma, uma coroa retorcida de ferro denteado aparece na cabeça dele e a loucura brilha em seus olhos.<br>&emsp;A criatura enfeitiçada deve usar sua ação antes de se mover, em cada um dos turnos dela, para realizar um ataque corpo-a-corpo contra uma criatura, diferente de si mesma, que você escolher mentalmente.<br>&emsp;O alvo pode agir normalmente no turno dele se você não escolher uma criatura ou se você não estiver dentro do alcance.<br>&emsp;Nos seus turnos subsequentes, você deve usar sua ação para manter o controle sobre o alvo, ou a magia termina. Igualmente, o alvo pode realizar um teste de resistência de Sabedoria no final de cada um dos turnos dele. Se obtiver sucesso, a magia termina.<br></span><span style='color:gray;font-size:11px'>[controle, dano, debuff]<br></span><span style='color:gray;font-size:11px'>[bardo, mago, monge]<br></span><span style='color:gray;font-size:10px'>_LDJ_</span>"
            ],
            "text/plain": [
              "<IPython.core.display.Markdown object>"
            ]
          },
          "metadata": {},
          "output_type": "display_data"
        },
        {
          "name": "stdout",
          "output_type": "stream",
          "text": [
            "\n"
          ]
        },
        {
          "data": {
            "text/markdown": [
              "<span style='color:None;font-size:None'>**Crescer Espinhos _(Spike Growth)_** lvl 2<br></span><span style='color:None;font-size:13px'>&emsp;**Escola(s):** elemental (_terra, metal_)<br>&emsp;**Tempo conjuração:** 1 ação<br>&emsp;**Alcance:** 45 metros<br>&emsp;**Componentes:** VSM _(sete espinhos afiados ou sete gravetos, todos com uma ponta afiada)_<br>&emsp;**Mana:** 600 (_+ 10 por minuto_)<br>&emsp;**Duração:** concentração, até 10 minutos<br>&emsp;**Dano**: 4d4<br>&emsp;**Attack/Save:** WIS Save<br>&emsp;**Dmg/effect:** perfurante<br></span><span style='color:None;font-size:None'>O solo em 6 metros quadrados, centrado num ponto dentro do alcance, se retorce e brotam cavilhas rígidas e espinhos. A área se torna terreno difícil pela duração. Quando uma criatura entrar ou se mover dentro da área, ela sofrerá 4d4 de dano perfurante para cada 1,5 metro que ela atravessar.<br>&emsp;A transformação do terreno é camuflada para parecer natural. Qualquer criatura que não puder ver a área no momento que a magia for conjurada, deve realizar um teste de Sabedoria (Percepção) contra a CD da magia para reconhecer o terreno como perigoso, antes de adentra-lo.<br>&emsp;**Melhorar Magia**. Para cada 550 de mana extras gastos, adicione mais 2d4 de dano até um máximo de 8d4 adicionais.<br></span><span style='color:gray;font-size:11px'>[controle, dano]<br></span><span style='color:gray;font-size:11px'>[bardo, mago, monge]<br></span><span style='color:gray;font-size:10px'>_LDJ_</span>"
            ],
            "text/plain": [
              "<IPython.core.display.Markdown object>"
            ]
          },
          "metadata": {},
          "output_type": "display_data"
        },
        {
          "name": "stdout",
          "output_type": "stream",
          "text": [
            "\n"
          ]
        },
        {
          "data": {
            "text/markdown": [
              "<span style='color:None;font-size:None'>**Despedaçar _(Shatter)_** lvl 2<br></span><span style='color:None;font-size:13px'>&emsp;**Escola(s):** elemental, musical (_ar, sombras, relâmpago, metal, veneno_)<br>&emsp;**Tempo conjuração:** 1 ação<br>&emsp;**Alcance:** 18 metros<br>&emsp;**Componentes:** VSM _(uma lasca de mica)_<br>&emsp;**Mana:** 800<br>&emsp;**Duração:** instantânea<br>&emsp;**Dano**: 3d8<br>&emsp;**Attack/Save:** CON Save<br>&emsp;**Dmg/effect:** elemental<br></span><span style='color:None;font-size:None'>Um alto som estridente, dolorosamente intenso, emerge de um ponto, à sua escolha, dentro do alcance. Cada criatura, numa esfera de 3 metros de raio, centrada no ponto deve fazer um teste de resistência de Constituição.<br>&emsp;Uma criatura sofre 3d8 de dano elemental se falhar na resistência ou metade desse dano se obtiver sucesso.<br>&emsp;[Relâmpago|Metal|Veneno] Uma criatura feita de material orgânico tem desvantagem nesse teste de resistência.<br>&emsp;[Sombras] Uma criatura feita de material inorgânico como pedra, cristal ou metal, tem desvantagem nesse teste de resistência.<br>&emsp;Um objeto não-mágico que não esteja sendo vestido ou carregado, também sofre o dano, se estiver na área da magia.<br>&emsp;**Melhorar Magia**. Para cada 1000 de mana adicionais, adicione 1d8 ao dano da magia.<br></span><span style='color:gray;font-size:11px'>[dano]<br></span><span style='color:gray;font-size:11px'>[bardo, bruxo, clérigo, feiticeiro, mago, monge, paladino]<br></span><span style='color:gray;font-size:10px'>_LDJ_</span>"
            ],
            "text/plain": [
              "<IPython.core.display.Markdown object>"
            ]
          },
          "metadata": {},
          "output_type": "display_data"
        },
        {
          "name": "stdout",
          "output_type": "stream",
          "text": [
            "\n"
          ]
        },
        {
          "data": {
            "text/markdown": [
              "<span style='color:None;font-size:None'>**Detectar Pensamentos _(Detect Thoughts)_** lvl 2<br></span><span style='color:None;font-size:13px'>&emsp;**Escola(s):** psíquica<br>&emsp;**Tempo conjuração:** 1 ação<br>&emsp;**Alcance:** 9 metros<br>&emsp;**Componentes:** VSM _(um pedaço de cobre)_<br>&emsp;**Mana:** 600 (_+ 10 por turno_)<br>&emsp;**Duração:** concentração, até 1 minuto<br>&emsp;**Attack/Save:** WIS Save<br></span><span style='color:None;font-size:None'>Pela duração, você pode ler os pensamentos de certas criaturas. Quando você conjura essa magia e, com sua ação e 10 de mana a cada turno até o fim da magia, você pode focar sua mente em qualquer criatura que você puder ver a até 9 metros de você. Se a criatura escolhida possuir Inteligência 3 ou inferior ou não falar nenhum tipo de idioma, a criatura não poderá ser afetada.<br>&emsp;Você, inicialmente, descobre os pensamentos superficiais da criatura – o que está mais presente na sua mente no momento. Com uma ação e 10 de mana, você pode tanto mudar sua atenção para os pensamentos de outra criatura, como tentar sondar mais profundamente na mente da mesma criatura. Se você resolver sondar profundamente, a criatura deve realizar um teste de resistência de Sabedoria. Se falhar, você ganha ciência do seu raciocínio (se possuir), seu estado emocional e algo que tome grande parte da sua mente (como algo que ele se preocupe, amores ou ódios). Se ele for bem sucedido, a magia termina. Em ambas situações, o alvo saberá que você está sondando a mente dele e, a não ser que você mude sua atenção para os pensamentos de outra criatura, a criatura pode usar a ação dela, no turno dela, para realizar um teste de Inteligência resistido por seu teste de Inteligência; se ela for bem sucedida, a magia termina.<br>&emsp;Perguntas feitas diretamente para a criatura alvo, normalmente moldarão o curso dos seus pensamentos, portanto, essa magia é particularmente eficiente como parte de um interrogatório.<br>&emsp;Você pode, também, usar essa magia para detectar a presença que criaturas pensantes que você não possa ver.  Quando você conjura essa magia ou, com sua ação e 20 de mana enquanto ela durar, você pode procurar por pensamentos a até 9 metros de você. A magia pode penetrar a maioria das barreiras, mas é bloqueada por 30 centímetros de rocha, 2,5 centímetros de metal comum, uma fina camada de chumbo, ou 90 centímetros de madeira ou terra. Você não pode detectar uma criatura com Inteligência 3 ou inferior ou uma que não fale qualquer idioma.<br>&emsp;Uma vez que você tenha detectado a presença de uma criatura dessa forma, você pode ler os pensamentos dela pelo resto da duração, como descrito acima, mesmo que você não possa vê-la, mas ela ainda precisa estar dentro do alcance.<br></span><span style='color:gray;font-size:11px'>[detecção, exploração, social]<br></span><span style='color:gray;font-size:11px'>[bardo, bruxo, clérigo, feiticeiro, guerreiro, ladino, mago, monge, paladino]<br></span><span style='color:gray;font-size:10px'>_LDJ_</span>"
            ],
            "text/plain": [
              "<IPython.core.display.Markdown object>"
            ]
          },
          "metadata": {},
          "output_type": "display_data"
        },
        {
          "name": "stdout",
          "output_type": "stream",
          "text": [
            "\n"
          ]
        },
        {
          "data": {
            "text/markdown": [
              "<span style='color:None;font-size:None'>**Diabo da Poeira _(Dust Devil)_** lvl 2<br></span><span style='color:None;font-size:13px'>&emsp;**Escola(s):** elemental (_terra, sombras, veneno_)<br>&emsp;**Tempo conjuração:** 1 ação<br>&emsp;**Alcance:** 18 metros<br>&emsp;**Componentes:** VSM _(um punhado de pó)_<br>&emsp;**Mana:** 700 (_+ 10 por turno_)<br>&emsp;**Duração:** concentração, até 1 minuto<br>&emsp;**Dano**: 1d8<br>&emsp;**Attack/Save:** STR Save<br>&emsp;**Dmg/effect:** concussão<br></span><span style='color:None;font-size:None'>Escolha um cubo de ar de 1,5 metro desocupado que você possa ver, dentro do alcance. Uma força elemental que se parece com um diabo da poeira aparece no cubo e permanece pela duração da magia.<br>&emsp;Qualquer criatura que terminar seu turno a até 1,5 metro do diabo da poeira deve realizar um teste de resistência de Força. Se falhar na resistência, a criatura sofre 1d8 de dano de concussão e é empurrada 3 metros de distância. Se obtiver sucesso a criatura sofre metade do dano e não é empurrada.<br>&emsp;Com uma ação bônus, você pode mover diabo da poeira até 9 metros em qualquer direção. Se o diabo da poeira se mover sobre areia, poeira, terra solta ou cascalho, ele suga o material e forma uma nuvem de 3 metros de raio de detritos envolta de si que dura até o início do seu próximo turno. A nuvem na área é de escuridão densa.<br></span><span style='color:gray;font-size:11px'>[controle, dano]<br></span><span style='color:gray;font-size:11px'>[bardo, guerreiro, mago, monge]<br></span><span style='color:gray;font-size:10px'>_LDJ_</span>"
            ],
            "text/plain": [
              "<IPython.core.display.Markdown object>"
            ]
          },
          "metadata": {},
          "output_type": "display_data"
        },
        {
          "name": "stdout",
          "output_type": "stream",
          "text": [
            "\n"
          ]
        },
        {
          "data": {
            "text/markdown": [
              "<span style='color:None;font-size:None'>**Discurso Enganoso _(Gift of Gab)_** lvl 2<br></span><span style='color:None;font-size:13px'>&emsp;**Escola(s):** psíquica<br>&emsp;**Tempo conjuração:** 1 reação<br>&emsp;**Alcance:** pessoal<br>&emsp;**Componentes:** VSM _(2 po)_<br>&emsp;**Mana:** 700<br>&emsp;**Duração:** instantânea<br></span><span style='color:None;font-size:None'>Quando você conjura essa magia, você habilidosa mente reformula as memórias dos seus ouvintes próximos. Cada criatura a sua escolha até 1,5 metros de você esquece tudo o que você falou nos últimos 6 segundos. Essas criaturas então se lembram apenas das palavras que você falou para conjurar a magia.<br></span><span style='color:gray;font-size:11px'>[social]<br></span><span style='color:gray;font-size:11px'>[bardo, bruxo, clérigo, feiticeiro, guerreiro, ladino, mago, monge, paladino]<br></span><span style='color:gray;font-size:10px'>_LDJ_</span>"
            ],
            "text/plain": [
              "<IPython.core.display.Markdown object>"
            ]
          },
          "metadata": {},
          "output_type": "display_data"
        },
        {
          "name": "stdout",
          "output_type": "stream",
          "text": [
            "\n"
          ]
        },
        {
          "data": {
            "text/markdown": [
              "<span style='color:None;font-size:None'>**Emprestar Conhecimento _(Borrowed Knowledge)_** lvl 2<br></span><span style='color:None;font-size:13px'>&emsp;**Escola(s):** espiritual<br>&emsp;**Tempo conjuração:** 1 ação<br>&emsp;**Alcance:** pessoal<br>&emsp;**Componentes:** VSM _(um livro que custe pelo menos 25 po)_<br>&emsp;**Mana:** 1000<br>&emsp;**Duração:** 1 hora<br></span><span style='color:None;font-size:None'>Você recebe conhecimento de espíritos do passado. Você escolhe uma proficiência na qual não seja proficiente. Pela duração da magia, você é proficiente na proficiência. A magia termina antecipadamente se você conjurá-la novamente.<br></span><span style='color:gray;font-size:11px'>[buff]<br></span><span style='color:gray;font-size:11px'>[bardo, bruxo, clérigo, feiticeiro, guerreiro, ladino, mago, monge, paladino]<br></span><span style='color:gray;font-size:10px'>_Etc._</span>"
            ],
            "text/plain": [
              "<IPython.core.display.Markdown object>"
            ]
          },
          "metadata": {},
          "output_type": "display_data"
        },
        {
          "name": "stdout",
          "output_type": "stream",
          "text": [
            "\n"
          ]
        },
        {
          "data": {
            "text/markdown": [
              "<span style='color:None;font-size:None'>**Encontrar Armadilhas _(Find Traps)_** lvl 2<br></span><span style='color:None;font-size:13px'>&emsp;**Escola(s):** espiritual<br>&emsp;**Tempo conjuração:** 1 ação<br>&emsp;**Alcance:** 36 metros<br>&emsp;**Componentes:** VS<br>&emsp;**Mana:** 700<br>&emsp;**Duração:** instantânea<br></span><span style='color:None;font-size:None'>Você sente a presença de qualquer armadilha dentro do alcance a qual você tenha linha de visão. Uma armadilha, para os propósitos dessa magia, inclui qualquer coisa que possa causar um efeito repentino ou inesperado em você, considerado nocivo ou indesejável, que foi especificamente planejado para ser por seu criador. Portanto, a magia sentirá a área afetada pela magia alarme, um glifo de vigilância ou uma armadilha mecânica de fosso, mas ela não revelará uma fragilidade natural no piso, um teto instável ou um sumidouro escondido.<br>&emsp;Essa magia apenas revela que existe uma magia presente. Você não descobre a localização de cada armadilha, mas você também descobre a natureza genérica do perigo representando pela armadilha que você sentiu.<br></span><span style='color:gray;font-size:11px'>[defesa, detecção, exploração]<br></span><span style='color:gray;font-size:11px'>[bardo, bruxo, clérigo, feiticeiro, guerreiro, ladino, mago, monge, paladino]<br></span><span style='color:gray;font-size:10px'>_LDJ_</span>"
            ],
            "text/plain": [
              "<IPython.core.display.Markdown object>"
            ]
          },
          "metadata": {},
          "output_type": "display_data"
        },
        {
          "name": "stdout",
          "output_type": "stream",
          "text": [
            "\n"
          ]
        },
        {
          "data": {
            "text/markdown": [
              "<span style='color:None;font-size:None'>**Escrita Celeste _(Skywrite)_** lvl 2<br></span><span style='color:None;font-size:13px'>&emsp;**Escola(s):** elemental, ilusionista (_ar_)<br>&emsp;**Tempo conjuração:** 1 ação<br>&emsp;**Alcance:** pessoal<br>&emsp;**Componentes:** VS<br>&emsp;**Mana:** 700<br>&emsp;**Duração:** 1 hora<br></span><span style='color:None;font-size:None'>Você cria até dez palavras em uma parte do céu que você consiga ver. As palavras parecem ser feitas de nuvens e ficam lá até o final do feitiço.<br>&emsp;[Ar] Um vento forte pode fazer as palavras desaparecerem.<br></span><span style='color:gray;font-size:11px'>[comunicação]<br></span><span style='color:gray;font-size:11px'>[bardo, bruxo, clérigo, feiticeiro, guerreiro, ladino, mago, monge, paladino]<br></span><span style='color:gray;font-size:10px'>_LDJ_</span>"
            ],
            "text/plain": [
              "<IPython.core.display.Markdown object>"
            ]
          },
          "metadata": {},
          "output_type": "display_data"
        },
        {
          "name": "stdout",
          "output_type": "stream",
          "text": [
            "\n"
          ]
        },
        {
          "data": {
            "text/markdown": [
              "<span style='color:None;font-size:None'>**Escuridão _(Darkness)_** lvl 2<br></span><span style='color:None;font-size:13px'>&emsp;**Escola(s):** elemental, necromancia (_sombras_)<br>&emsp;**Tempo conjuração:** 1 ação<br>&emsp;**Alcance:** 18 metros<br>&emsp;**Componentes:** VM _(pelo de morcego e uma gota de piche ou pedaço de carvão)_<br>&emsp;**Mana:** 600 (_+ 10 por minuto_)<br>&emsp;**Duração:** concentração, até 10 minutos<br></span><span style='color:None;font-size:None'>Escuridão mágica se espalha a partir de um ponto, à sua escolha, dentro do alcance e preenche uma esfera de 4,5 metros de raio pela duração. A escuridão se estende, dobrando esquinas. Uma criatura com visão no escuro não pode ver através dessa escuridão e luz não-mágica não pode iluminar dentro dela.<br>&emsp;Se o ponto que você escolheu for um objeto que você esteja segurando, ou um que não esteja sendo vestido ou carregado, a escuridão emanará do objeto e se moverá com ele. Cobrir completamente a fonte da escuridão com um objeto opaco, como uma vasilha ou um elmo, bloqueará a escuridão.<br>&emsp;Se qualquer área dessa magia sobrepor uma área de luz criada por uma magia de 2° ou inferior, a magia que criou a luz será dissipada.<br></span><span style='color:gray;font-size:11px'>[controle, debuff]<br></span><span style='color:gray;font-size:11px'>[bardo, bruxo, clérigo, feiticeiro, guerreiro, ladino, mago, monge, paladino]<br></span><span style='color:gray;font-size:10px'>_LDJ_</span>"
            ],
            "text/plain": [
              "<IPython.core.display.Markdown object>"
            ]
          },
          "metadata": {},
          "output_type": "display_data"
        },
        {
          "name": "stdout",
          "output_type": "stream",
          "text": [
            "\n"
          ]
        },
        {
          "data": {
            "text/markdown": [
              "<span style='color:None;font-size:None'>**Esfera Elemental _(Flaming Sphere)_** lvl 2<br></span><span style='color:None;font-size:13px'>&emsp;**Escola(s):** elemental (_água, terra, fogo, ar, luz, sombras, relâmpago, metal, veneno_)<br>&emsp;**Tempo conjuração:** 1 ação<br>&emsp;**Alcance:** 18 metros<br>&emsp;**Componentes:** VSM _(uma pitada de enxofre e uma camada de pó de ferro)_<br>&emsp;**Mana:** 750 (_+ 10 por turno_)<br>&emsp;**Duração:** concentração, até 1 minuto<br>&emsp;**Dano**: 2d6<br>&emsp;**Attack/Save:** DEX Save<br>&emsp;**Dmg/effect:** elemental<br></span><span style='color:None;font-size:None'>Uma esfera elemental, com 1,5 metro de diâmetro, aparece em um espaço desocupado, à sua escolha, dentro do alcance e permanece pela duração. Qualquer criatura que terminar seu turno a até 1,5 metro da esfera, deve realizar um teste de resistência de Destreza. A criatura sofre 2d6 de dano elemental se falhar na resistência, ou metade desse dano se obtiver sucesso.<br>&emsp;Com uma ação bônus, você pode mover a esfera até 9 metros. Se você arremessar a esfera contra uma criatura, essa criatura deve realizar o teste de resistência contra o dano da esfera e a esfera para de se mover esse turno.<br>&emsp;Quando você move a esfera, você pode direciona-la para barreira de até 1,5 metro de altura e ela salta sobre fossos de até 3 metros de distância.<br>&emsp;[Fogo|Luz|Relâmpago] A esfera incendeia objetos inflamáveis que não estejam sendo vestidos ou carregados e emite luz plena a 6 metros de raio e penumbra por mais 6 metros adicionais.<br>&emsp;**Melhorar Magia**. Para cada 550 pontos de mana gastos adicionalmente, adicione 1d6 ao dano da esfera até um máximo de 6d6 extras.<br></span><span style='color:gray;font-size:11px'>[controle, dano]<br></span><span style='color:gray;font-size:11px'>[bardo, bruxo, clérigo, feiticeiro, guerreiro, ladino, mago, monge, paladino]<br></span><span style='color:gray;font-size:10px'>_LDJ_</span>"
            ],
            "text/plain": [
              "<IPython.core.display.Markdown object>"
            ]
          },
          "metadata": {},
          "output_type": "display_data"
        },
        {
          "name": "stdout",
          "output_type": "stream",
          "text": [
            "\n"
          ]
        },
        {
          "data": {
            "text/markdown": [
              "<span style='color:None;font-size:None'>**Espinho Mental _(Mind Spike)_** lvl 2<br></span><span style='color:None;font-size:13px'>&emsp;**Escola(s):** psíquica<br>&emsp;**Tempo conjuração:** 1 ação<br>&emsp;**Alcance:** 18 metros<br>&emsp;**Componentes:** S<br>&emsp;**Mana:** 800 (_+ 10 a cada 10 minutos_)<br>&emsp;**Duração:** concentração, até 1 hora<br>&emsp;**Dano**: 3d8<br>&emsp;**Attack/Save:** WIS Save<br>&emsp;**Dmg/effect:** psíquico<br></span><span style='color:None;font-size:None'>Você alcança a mente de uma criatura que você pode ver dentro do alcance. O alvo deve fazer um teste de resistência de Sabedoria, sofrendo 3d8 de dano psíquico em um teste falho, ou metade do dano em um sucesso. Em uma falha do teste de resistência, você também sempre conhece a localização do alvo até a magia terminar, mas somente enquanto vocês dois estiverem no mesmo plano de existência. Enquanto você tiver esse conhecimento, o alvo não pode se esconder de você, e se for invisível, não ganha nenhum beneficio dessa condição contra você.<br>&emsp;**Melhorar Magia**. Para cada 500 de mana adicionais, você adiciona mais 1d8 ao dano, até um máximo de 5d8 adicionais.<br></span><span style='color:gray;font-size:11px'>[dano, debuff, detecção]<br></span><span style='color:gray;font-size:11px'>[bardo, bruxo, clérigo, feiticeiro, guerreiro, ladino, mago, monge, paladino]<br></span><span style='color:gray;font-size:10px'>_Xanathar_</span>"
            ],
            "text/plain": [
              "<IPython.core.display.Markdown object>"
            ]
          },
          "metadata": {},
          "output_type": "display_data"
        },
        {
          "name": "stdout",
          "output_type": "stream",
          "text": [
            "\n"
          ]
        },
        {
          "data": {
            "text/markdown": [
              "<span style='color:None;font-size:None'>**Espírito Curativo _(Healing Spirits)_** lvl 2<br></span><span style='color:None;font-size:13px'>&emsp;**Escola(s):** elemental, invocação, espiritual (_água, terra, luz_)<br>&emsp;**Tempo conjuração:** 1 ação bônus<br>&emsp;**Alcance:** 18 metros<br>&emsp;**Componentes:** VS<br>&emsp;**Mana:** 700 (_+ 15 por turno_)<br>&emsp;**Duração:** concentração, até 1 minuto<br>&emsp;**Dano**: 1d6<br></span><span style='color:None;font-size:None'>Você invoca um espírito de natureza para confortar os feridos. O espírito intangível aparece em um espaço que é um cubo de 1,5 metros você pode ver dentro do alcance. O espírito parece uma besta ou fada transparente (sua escolha).<br>&emsp;Até que a magia termine, sempre que você ou uma criatura que você pode ver se move para o espaço do espírito pela primeira vez em um turno, ou começa seu turno lá, você pode fazer com que o espírito restaure 1d6 pontos de vida dessa criatura (não é necessária nenhuma ação) . O espírito não pode curar construtos ou mortos-vivos. Como uma ação bônus na sua vez, você pode mover o espírito até 9 metros para um espaço dentro do alcance que você pode ver.<br>&emsp;**Melhorar Magia**. Para cada 1000 pontos de mana adicionais gastos, você pode adicionar mais 1d6 à cura do espírito, até um máximo de 3d6 adicionais.<br></span><span style='color:gray;font-size:11px'>[cura]<br></span><span style='color:gray;font-size:11px'>[bardo, bruxo, clérigo, feiticeiro, mago, monge, paladino]<br></span><span style='color:gray;font-size:10px'>_LDJ_</span>"
            ],
            "text/plain": [
              "<IPython.core.display.Markdown object>"
            ]
          },
          "metadata": {},
          "output_type": "display_data"
        },
        {
          "name": "stdout",
          "output_type": "stream",
          "text": [
            "\n"
          ]
        },
        {
          "data": {
            "text/markdown": [
              "<span style='color:None;font-size:None'>**Esquentar Metal _(Heat Metal)_** lvl 2<br></span><span style='color:None;font-size:13px'>&emsp;**Escola(s):** elemental (_metal_)<br>&emsp;**Tempo conjuração:** 1 ação<br>&emsp;**Alcance:** 18 metros<br>&emsp;**Componentes:** VSM _(um pedaço de ferro e uma chama)_<br>&emsp;**Mana:** 700 (_+ 10 por turno_)<br>&emsp;**Duração:** concentração, até 1 minuto<br>&emsp;**Dano**: 2d8<br>&emsp;**Attack/Save:** CON Save<br>&emsp;**Dmg/effect:** fogo<br></span><span style='color:None;font-size:None'>Escolha uma objeto manufaturado de metal, como uma arma de metal ou uma armadura pesada ou média de metal, que você possa ver dentro do alcance. Você faz com que o objeto brilhe vermelho-incandescente. Qualquer criatura em contato físico com o objeto sofrerá 2d8 de dano de fogo quando você conjurar a magia. Até a magia acabar, você pode usar uma ação bônus, em cada um dos seus turnos subsequentes, para causar esse dano novamente.<br>&emsp;Se uma criatura estiver segurando ou vestindo o objeto e sofrer o dano dele, a criatura deve ser bem sucedida num teste de resistência de Constituição ou largará o objeto se ela puder. Se ela não largar o objeto, ela terá desvantagem em jogadas de ataque e testes de habilidade até o início do seu próximo turno.<br>&emsp;**Melhorar Magia**. Para cada 1000 pontos de mana adicionais gastos, adicione mais 1d8 ao dano, até um máximo de 4d8 adicionais.<br></span><span style='color:gray;font-size:11px'>[controle, dano, debuff]<br></span><span style='color:gray;font-size:11px'>[bardo, bruxo, clérigo, feiticeiro, guerreiro, ladino, mago, monge, paladino]<br></span><span style='color:gray;font-size:10px'>_LDJ_</span>"
            ],
            "text/plain": [
              "<IPython.core.display.Markdown object>"
            ]
          },
          "metadata": {},
          "output_type": "display_data"
        },
        {
          "name": "stdout",
          "output_type": "stream",
          "text": [
            "\n"
          ]
        },
        {
          "data": {
            "text/markdown": [
              "<span style='color:None;font-size:None'>**Flecha Ácida (de Melf) _(Acid Arrow)_** lvl 2<br></span><span style='color:None;font-size:13px'>&emsp;**Escola(s):** elemental (_veneno_)<br>&emsp;**Tempo conjuração:** 1 ação<br>&emsp;**Alcance:** 36 metros<br>&emsp;**Componentes:** VSM _(folha de ruibarbo em pó eo estômago de uma víbora)_<br>&emsp;**Mana:** 550<br>&emsp;**Duração:** instantânea<br>&emsp;**Dano**: 4d4 + 2d4<br>&emsp;**Attack/Save:** distância<br>&emsp;**Dmg/effect:** ácido<br></span><span style='color:None;font-size:None'>Você cospe uma flecha esverdeada cintilante que voa em direção de um alvo dentro do alcance e explode em um jato de ácido.<br>&emsp;Faça um ataque à distância com magia contra o alvo. Se atingir, o alvo sofre 4d4 de dano de ácido imediatamente e 2d4 de dano de ácido no final do próximo turno dele. Se errar, a flecha salpica o alvo com ácido, causando metade do dano inicial e nenhum dano no final do próximo turno dele.<br>&emsp;**Melhorar Magia**. Para cada 550 de mana gastos adicionalmente, você pode adicionar mais 1d4 ao dano inicial e final.<br></span><span style='color:gray;font-size:11px'>[dano, distância]<br></span><span style='color:gray;font-size:11px'>[bardo, bruxo, clérigo, feiticeiro, guerreiro, ladino, mago, monge, paladino]<br></span><span style='color:gray;font-size:10px'>_LDJ_</span>"
            ],
            "text/plain": [
              "<IPython.core.display.Markdown object>"
            ]
          },
          "metadata": {},
          "output_type": "display_data"
        },
        {
          "name": "stdout",
          "output_type": "stream",
          "text": [
            "\n"
          ]
        },
        {
          "data": {
            "text/markdown": [
              "<span style='color:None;font-size:None'>**Força Fantasmagórica _(Phantasmal Force)_** lvl 2<br></span><span style='color:None;font-size:13px'>&emsp;**Escola(s):** ilusionista, psíquica<br>&emsp;**Tempo conjuração:** 1 ação<br>&emsp;**Alcance:** 18 metros<br>&emsp;**Componentes:** VSM _(um pouco de lã)_<br>&emsp;**Mana:** 800 (_+ 5 por turno_)<br>&emsp;**Duração:** concentração, até 1 minuto<br>&emsp;**Dano**: 1d6<br>&emsp;**Attack/Save:** INT Save<br>&emsp;**Dmg/effect:** psíquico<br></span><span style='color:None;font-size:None'>Você constrói uma ilusão que se enraíza na mente de uma criatura que você possa ver, dentro do alcance. O alvo deve realizar um teste de resistência de Inteligência. Se falhar na resistência, você cria um objeto, criatura ou outro fenômeno visível – porém, fantasmagórico – à sua escolha, com não mais de 3 metros cúbicos e que será percebido apenas pelo alvo, pela duração. Essa magia não afeta mortos-vivos ou constructos.<br>&emsp;O fantasma inclui som, temperatura e outros estímulos, também evidentes apenas para o alvo.<br>&emsp;O alvo pode usar sua ação para examinar o fantasma com um teste de Inteligência (Investigação) contra a CD da as magia. Se for bem sucedido, o alvo percebe que o fantasma é uma ilusão e a magia acaba.<br>&emsp;Enquanto o alvo estiver sob efeito dessa magia, ele considerará o fantasma como sendo real. O alvo racionalizará quaisquer resultados ilógicos ao interagir com o fantasma. Por exemplo, um alvo tentado atravessar uma ponte fantasmagórica que atravesse um abismo, cairá quando pisar na ponte. Se o alvo sobreviver a queda, ele ainda acreditará que a ponte existe e procurará outra explicação para a sua queda – ele foi puxado, ele escorregou ou um vento forte pode ter o jogado pra fora.<br>&emsp;Um alvo afetado está tão convencido da realidade do fantasma que pode até mesmo sofrer dano da ilusão. Um fantasma criado para se parecer com uma criatura pode atacar o alvo. Similarmente, um fantasma criado para se parecer com fogo, um poço de ácido ou lava, podem queimar o alvo. A cada rodada, no seu turno, o fantasma pode causar 1d6 de dano psíquico no alvo, se ele estiver na área do fantasma ou a 1,5 metro dele, considerando que a ilusão é de uma criatura ou perigo que, logicamente, possa causar dano, como por atacar. O alvo entende o dano como sendo de um tipo apropriado para a ilusão.<br></span><span style='color:gray;font-size:11px'>[dano, debuff]<br></span><span style='color:gray;font-size:11px'>[bardo, bruxo, clérigo, feiticeiro, guerreiro, ladino, mago, monge, paladino]<br></span><span style='color:gray;font-size:10px'>_LDJ_</span>"
            ],
            "text/plain": [
              "<IPython.core.display.Markdown object>"
            ]
          },
          "metadata": {},
          "output_type": "display_data"
        },
        {
          "name": "stdout",
          "output_type": "stream",
          "text": [
            "\n"
          ]
        },
        {
          "data": {
            "text/markdown": [
              "<span style='color:None;font-size:None'>**Garra Terrestre _(Maximilian's Earthen Grasp)_** lvl 2<br></span><span style='color:None;font-size:13px'>&emsp;**Escola(s):** elemental (_terra, sombras, metal_)<br>&emsp;**Tempo conjuração:** 1 ação<br>&emsp;**Alcance:** 9 metros<br>&emsp;**Componentes:** VSM _(uma mão em miniatura de argila)_<br>&emsp;**Mana:** 750 (_+ 10 por turno_)<br>&emsp;**Duração:** concentração, até 1 minuto<br>&emsp;**Dano**: 2d6<br>&emsp;**Attack/Save:** STR Save<br>&emsp;**Dmg/effect:** concussão<br></span><span style='color:None;font-size:None'>Você escolhe um quadrado de 1,5 metros desocupado no solo que você possa ver dentro do alcance. Uma mão Média elemental surge do solo e ataca uma criatura que você possa ver a até 1,5 metros dela. O alvo deve fazer uma salvaguarda de Força. Se falhar, ele recebe 2d6 de dano de concussão e fica agarrado pela duração da magia.<br>&emsp;Como uma ação, você pode fazer a mão esmagar o algo agarrado, que deve fazer uma salvaguarda de Força. O alvo recebe 2d6 de dano se falhar ou metade se obtiver sucesso.<br>&emsp;Para sair, o alvo pode utilizar a sua ação para fazer um teste de Força contra a CD da magia. Se obtiver sucesso, o alvo escapa e não está mais agarrado pela mão.<br>&emsp;Como uma ação, você pode fazer a mão atacar outra criatura ou mover para uma área desocupada dentro do alcance. A mão solta um alvo agarrado por ela se você fizer qualquer uma dessas ações.<br></span><span style='color:gray;font-size:11px'>[controle, dano, debuff]<br></span><span style='color:gray;font-size:11px'>[bardo, bruxo, clérigo, feiticeiro, mago]<br></span><span style='color:gray;font-size:10px'>_Etc._</span>"
            ],
            "text/plain": [
              "<IPython.core.display.Markdown object>"
            ]
          },
          "metadata": {},
          "output_type": "display_data"
        },
        {
          "name": "stdout",
          "output_type": "stream",
          "text": [
            "\n"
          ]
        },
        {
          "data": {
            "text/markdown": [
              "<span style='color:None;font-size:None'>**Imobilizar Pessoa _(Hold Person)_** lvl 2<br></span><span style='color:None;font-size:13px'>&emsp;**Escola(s):** psíquica, musical<br>&emsp;**Tempo conjuração:** 1 ação<br>&emsp;**Alcance:** 18 metros<br>&emsp;**Componentes:** VSM _(uma pequena peça de ferro reta)_<br>&emsp;**Mana:** 700 (_+ 10 por turno_)<br>&emsp;**Duração:** concentração, até 1 minuto<br>&emsp;**Attack/Save:** WIS Save<br></span><span style='color:None;font-size:None'>Escolha um humanoide que você possa ver, dentro do alcance. O alvo deve ser bem sucedido num teste de resistência de Sabedoria ou ficará paralisado pela duração. Essa magia não tem efeito em mortos-vivos. No final de cada um dos turnos dele, o alvo pode realizar outro teste de resistência de Sabedoria. Se obtiver sucesso, a magia termina no alvo.<br>&emsp;**Melhorar Magia**. Para cada 600 de mana adicionais e mais 10 por turno, você pode ter mais um humanoide como alvo da magia até um máximo de 5. Os humanoides devem estar a 9 metros entre si para serem afetados.<br></span><span style='color:gray;font-size:11px'>[controle]<br></span><span style='color:gray;font-size:11px'>[bardo, guerreiro, mago, monge]<br></span><span style='color:gray;font-size:10px'>_LDJ_</span>"
            ],
            "text/plain": [
              "<IPython.core.display.Markdown object>"
            ]
          },
          "metadata": {},
          "output_type": "display_data"
        },
        {
          "name": "stdout",
          "output_type": "stream",
          "text": [
            "\n"
          ]
        },
        {
          "data": {
            "text/markdown": [
              "<span style='color:None;font-size:None'>**Imobilizar Pessoa no Chão _(Hold Person)_** lvl 2<br></span><span style='color:None;font-size:13px'>&emsp;**Escola(s):** elemental (_terra, metal_)<br>&emsp;**Tempo conjuração:** 1 ação<br>&emsp;**Alcance:** 18 metros<br>&emsp;**Componentes:** VSM _(uma pequena peça de ferro reta)_<br>&emsp;**Mana:** 700 (_+ 10 por turno_)<br>&emsp;**Duração:** concentração, até 1 minuto<br>&emsp;**Attack/Save:** DEX Save<br></span><span style='color:None;font-size:None'>Escolha um humanoide que você possa ver dentro do alcance e que esteja no chão. O alvo deve ser bem sucedido num teste de resistência de Destreza ou ficará paralisado pela duração. No final de cada um dos turnos dele, o alvo pode realizar um teste de resistência de Força para tentar se soltar. Se obtiver sucesso, a magia termina no alvo.<br>&emsp;**Melhorar Magia**. Para cada 600 de mana adicionais e mais 10 por turno, você pode ter mais um humanoide como alvo da magia até um máximo de 5. Os humanoides devem estar a 9 metros entre si para serem afetados.<br></span><span style='color:gray;font-size:11px'>[controle]<br></span><span style='color:gray;font-size:11px'>[bardo, guerreiro, mago, monge]<br></span><span style='color:gray;font-size:10px'>_LDJ_</span>"
            ],
            "text/plain": [
              "<IPython.core.display.Markdown object>"
            ]
          },
          "metadata": {},
          "output_type": "display_data"
        },
        {
          "name": "stdout",
          "output_type": "stream",
          "text": [
            "\n"
          ]
        },
        {
          "data": {
            "text/markdown": [
              "<span style='color:None;font-size:None'>**Invisibilidade _(Invisibility)_** lvl 2<br></span><span style='color:None;font-size:13px'>&emsp;**Escola(s):** elemental (_luz, sombras_)<br>&emsp;**Tempo conjuração:** 1 ação<br>&emsp;**Alcance:** toque<br>&emsp;**Componentes:** VSM _(uma pestana envolta em goma-arábica)_<br>&emsp;**Mana:** 700 (_+ 20 a cada 10 minutos_)<br>&emsp;**Duração:** concentração, até 1 hora<br></span><span style='color:None;font-size:None'>Uma criatura que você tocar, se torna invisível até a magia acabar. Qualquer coisa que o alvo esteja vestindo ou carregando fica invisível enquanto estiver de posse do alvo. A magia termina para o alvo caso ele ataque ou conjure uma magia.<br>&emsp;[Sombras] O efeito só funciona se a criatura estiver em um ambiente sem nenhuma luz.<br>&emsp;**Melhorar Magia**. Gastando mais 600 e 20 de mana a cada 10 minutos, você pode adicionar mais uma criatura como alvo da magia, até um máximo de 6 criaturas no total.<br></span><span style='color:gray;font-size:11px'>[buff, exploração, toque]<br></span><span style='color:gray;font-size:11px'>[bardo, mago]<br></span><span style='color:gray;font-size:10px'>_LDJ_</span>"
            ],
            "text/plain": [
              "<IPython.core.display.Markdown object>"
            ]
          },
          "metadata": {},
          "output_type": "display_data"
        },
        {
          "name": "stdout",
          "output_type": "stream",
          "text": [
            "\n"
          ]
        },
        {
          "data": {
            "text/markdown": [
              "<span style='color:None;font-size:None'>**Invocar Fera _(Summon Beast)_** lvl 2<br></span><span style='color:None;font-size:13px'>&emsp;**Escola(s):** elemental, invocação (_água, terra, fogo, ar_)<br>&emsp;**Tempo conjuração:** 1 ação<br>&emsp;**Alcance:** 18 metros<br>&emsp;**Componentes:** V<br>&emsp;**Mana:** 800<br>&emsp;**Duração:** 1 hora<br></span><span style='color:None;font-size:None'>Você convoca um espírito feral. Ele se manifesta em um espaço desocupado a sua vista dentro do alcance. Essa forma corpórea utiliza o bloco de estatísticas do Espírito Feral. Quando você conjura a magia, escolha um tipo de ambiente: Ar, Terra ou Água. A criatura se assemelha a um animal a sua escolha que vive nesse tipo de habitat, o que determina algumas características no bloco de estatísticas.  A criatura desaparece se chegar a 0 pontos de vida ou quando a magia se encerra. A criatura é uma aliada para você e seus companheiros.  Em combate, a criatura compartilha sua contagem de iniciativa, mas realiza o turno dela imediatamente após o seu. Ela obedece a seus comandos verbais (nenhuma ação é exigida de você). Se não indicar nenhuma ação, ela realiza a ação de Esquiva e usa seu deslocamento para evitar o perigo.  Em círculos superiores. Quando você conjura essa magia usando um espaço de magia de 3° círculo ou superior, utilize o nível mais alto sempre que o bloco de estatísticas indicar o círculo da magia. (MAGIA INCOMPLETA. SERÁ REVISADA DEPOIS DE CRIAR O XAMÃ)<br></span><span style='color:gray;font-size:11px'>[dano]<br></span><span style='color:gray;font-size:11px'>[bardo, bruxo, feiticeiro, mago, xamã]<br></span><span style='color:gray;font-size:10px'>_Tasha_</span>"
            ],
            "text/plain": [
              "<IPython.core.display.Markdown object>"
            ]
          },
          "metadata": {},
          "output_type": "display_data"
        },
        {
          "name": "stdout",
          "output_type": "stream",
          "text": [
            "\n"
          ]
        },
        {
          "data": {
            "text/markdown": [
              "<span style='color:None;font-size:None'>**Invocar Lâmina Elemental (Lâmina Flamejante) _(Flame Blade)_** lvl 2<br></span><span style='color:None;font-size:13px'>&emsp;**Escola(s):** elemental (_água, terra, fogo, ar, luz, sombras, relâmpago, metal, veneno_)<br>&emsp;**Tempo conjuração:** 1 ação bônus<br>&emsp;**Alcance:** pessoal<br>&emsp;**Componentes:** VSM _(folha de sumagre)_<br>&emsp;**Mana:** 700 (_+ 10 por minuto_)<br>&emsp;**Duração:** concentração, até 10 minutos<br>&emsp;**Dano**: 3d6<br>&emsp;**Attack/Save:** corpo-a-corpo<br>&emsp;**Dmg/effect:** elemental<br></span><span style='color:None;font-size:None'>Você evoca uma lâmina elemental ardente em sua mão livre. A lâmina é similar em tamanho e formato a uma cimitarra e ela permanece pela duração. Se você soltar a lâmina, ela desaparece, mas você pode evocar a lâmina novamente com uma ação bônus e gastando apenas mais 50 de mana.<br>&emsp;Você pode usar sua ação para realizar ataques corpo-a-corpo com magia com a lâmina ardente. Se atingir, o alvo sofrerá 3d6 de dano elemental.<br>&emsp;Você pode gastar mais 500 de mana para fazer que, no seu próximo ataque, a lâmina exploda no alvo, causa mais 2d6 de dano elemental extra e suma. Se você usar essa opção e errar, o alvo recebe apenas 2d6 de dano e a lâmina explode, desaparecendo.<br>&emsp;[Fogo|Luz|Relâmpago] A lâmina elemental emite luz plena a 3 metros de raio e penumbra por mais 3 metros adicionais.<br>&emsp;**Melhorar Magia**. Para cada 550 pontos de mana adicionais gastos, adicione 1d6 ao dano até um máximo de 6d6 adicionais.<br></span><span style='color:gray;font-size:11px'>[corpo-a-corpo, dano]<br></span><span style='color:gray;font-size:11px'>[bardo, bruxo, clérigo, feiticeiro, guerreiro, ladino, mago, monge, paladino]<br></span><span style='color:gray;font-size:10px'>_LDJ_</span>"
            ],
            "text/plain": [
              "<IPython.core.display.Markdown object>"
            ]
          },
          "metadata": {},
          "output_type": "display_data"
        },
        {
          "name": "stdout",
          "output_type": "stream",
          "text": [
            "\n"
          ]
        },
        {
          "data": {
            "text/markdown": [
              "<span style='color:None;font-size:None'>**Levitação _(Levitation)_** lvl 2<br></span><span style='color:None;font-size:13px'>&emsp;**Escola(s):** elemental, atrativa (_ar, luz_)<br>&emsp;**Tempo conjuração:** 1 ação<br>&emsp;**Alcance:** 18 metros<br>&emsp;**Componentes:** VSM _(uma pequena presilha de couro ou um pedaço de fio dourado dobrado)_<br>&emsp;**Mana:** 700 (_+ 10 por minuto_)<br>&emsp;**Duração:** concentração, 10 minutos<br>&emsp;**Attack/Save:** CON Save<br></span><span style='color:None;font-size:None'>Uma criatura ou objeto, à sua escolha, que você possa ver, dentro do alcance, ergue-se verticalmente, até 6 metros e permanece suspenso lá pela duração. A magia pode levitar um alvo pesando até 250 quilos. Uma criatura involuntária que for bem sucedida num teste de resistência de Constituição não é afetada. Além disso, se o alvo for uma criatura involuntária, você deve gastar 20 de mana por minuto ao invés de 10.<br>&emsp;O alvo pode se mover apenas ao puxar ou empurrar um objeto fixo ou superfície ao seu alcance (como um muro ou teto), permitindo que ele se mova como se estivesse escalando. Você pode mudar a altitude do alvo em até 6 metros em ambas as direções no seu turno. Se você for o alvo, você pode se mover para cima ou para baixo como parte do seu movimento. Do contrário, você precisa usar sua ação para mover o alvo, que deve permanecer dentro do alcance da magia.  <br>&emsp;Quando a magia acaba, o alvo flutua suavemente até o chão, se ele ainda estiver no ar.<br></span><span style='color:gray;font-size:11px'>[buff, controle, debuff, exploração]<br></span><span style='color:gray;font-size:11px'>[bardo, bruxo, feiticeiro, mago]<br></span><span style='color:gray;font-size:10px'>_LDJ_</span>"
            ],
            "text/plain": [
              "<IPython.core.display.Markdown object>"
            ]
          },
          "metadata": {},
          "output_type": "display_data"
        },
        {
          "name": "stdout",
          "output_type": "stream",
          "text": [
            "\n"
          ]
        },
        {
          "data": {
            "text/markdown": [
              "<span style='color:None;font-size:None'>**Localizar Animais ou Plantas _(Locate Animals or Plants)_** lvl 2<br></span><span style='color:None;font-size:13px'>&emsp;**Escola(s):** elemental (_terra_)<br>&emsp;**Tempo conjuração:** 1 ação<br>&emsp;**Alcance:** pessoal<br>&emsp;**Componentes:** VSM _(um pouco de pelo de um cão de caça)_<br>&emsp;**Mana:** 750<br>&emsp;**Duração:** instantânea<br></span><span style='color:None;font-size:None'>Descreva ou nomeia um tipo específico de besta ou planta. Concentra-se na voz da natureza ao seu redor, você descobre a direção e distância da criatura ou plana mais próxima desse tipo dentro de 7,5 quilômetros, se houver alguma presente.<br></span><span style='color:gray;font-size:11px'>[detecção, exploração]<br></span><span style='color:gray;font-size:11px'>[bardo, bruxo, clérigo, feiticeiro, guerreiro, ladino, mago, monge, paladino]<br></span><span style='color:gray;font-size:10px'>_LDJ_</span>"
            ],
            "text/plain": [
              "<IPython.core.display.Markdown object>"
            ]
          },
          "metadata": {},
          "output_type": "display_data"
        },
        {
          "name": "stdout",
          "output_type": "stream",
          "text": [
            "\n"
          ]
        },
        {
          "data": {
            "text/markdown": [
              "<span style='color:None;font-size:None'>**Localizar Objeto _(Locate Object)_** lvl 2<br></span><span style='color:None;font-size:13px'>&emsp;**Escola(s):** elemental, receita (_terra, metal_)<br>&emsp;**Tempo conjuração:** 1 ação<br>&emsp;**Alcance:** pessoal<br>&emsp;**Componentes:** VSM _(um galho bifurcado)_<br>&emsp;**Mana:** 750 (_+ 10 por minuto_)<br>&emsp;**Duração:** concentração, até 10 minutos<br></span><span style='color:None;font-size:None'>Descreva ou nomeie um objeto que seja familiar a você. Você sente a direção da localização do objeto, contanto que o objeto esteja a até 300 metros de você. Se o objeto estiver em movimento, você saberá a direção do movimento dele.<br>&emsp;A magia pode localizar um objeto especifico que você, desde que você já tenha o visto de perto – a até 9 metros – pelo menos uma vez. Alternativamente, a magia pode localizar o objeto de um tipo em particular mais próximo, como certo tipo de vestuário, joia, móvel, ferramenta ou arma.<br>&emsp;Essa magia não pode localizar um objeto se qualquer espessura de chumbo, até mesmo uma folha fina, bloquear o caminho direto entre você e o objeto.<br>&emsp;[Metal] Você pode detectar apenas objetos de metal.<br>&emsp;[Terra] Você pode detectar apenas objetos de madeira.<br>&emsp;[Receita] Você pode colocar uma receita de _Localizar Objeto_ em qualquer objeto.<br></span><span style='color:gray;font-size:11px'>[detecção, exploração]<br></span><span style='color:gray;font-size:11px'>[bardo, bruxo, clérigo, feiticeiro, guerreiro, ladino, mago, monge, paladino]<br></span><span style='color:gray;font-size:10px'>_LDJ_</span>"
            ],
            "text/plain": [
              "<IPython.core.display.Markdown object>"
            ]
          },
          "metadata": {},
          "output_type": "display_data"
        },
        {
          "name": "stdout",
          "output_type": "stream",
          "text": [
            "\n"
          ]
        },
        {
          "data": {
            "text/markdown": [
              "<span style='color:None;font-size:None'>**Lufada de Vento _(Gust of Wind)_** lvl 2<br></span><span style='color:None;font-size:13px'>&emsp;**Escola(s):** elemental (_ar_)<br>&emsp;**Tempo conjuração:** 1 ação<br>&emsp;**Alcance:** pessoal<br>&emsp;**Componentes:** VSM _(uma semente de legume)_<br>&emsp;**Mana:** 700 (_+ 10 por turno_)<br>&emsp;**Duração:** concentração, até 1 minuto<br>&emsp;**Attack/Save:** STR Save<br></span><span style='color:None;font-size:None'>Uma linha de vento forte, com 18 metros de comprimento e 3 metros de largura, é soprada de você em uma direção, à sua escolha, pela duração da magia. Cada criatura que começar seu turno na linha, deve ser bem sucedida num teste de resistência de Força ou será empurrada 4,5 metros para trás, na direção seguida pela linha. Qualquer criatura na linha deve gastar 3 metros de movimentação para cada 1,5 metro que ela se mover enquanto se aproxima de você.<br>&emsp;As lufadas dispersam gases ou vapores e apagam velas, tochas e chamas similares desprotegidas na área. Elas fazem com que chamas protegidas, como as de lanternas, vibrem descontroladamente e tenham 50 por cento de chance de serem extintas.<br>&emsp;Com uma ação bônus e 50 de mana, em cada um dos seus turnos, antes da magia acabar, você pode mudar a direção à qual a linha é soprada de você.<br></span><span style='color:gray;font-size:11px'>[controle]<br></span><span style='color:gray;font-size:11px'>[bardo, bruxo, clérigo, feiticeiro, guerreiro, ladino, mago, monge, paladino]<br></span><span style='color:gray;font-size:10px'>_LDJ_</span>"
            ],
            "text/plain": [
              "<IPython.core.display.Markdown object>"
            ]
          },
          "metadata": {},
          "output_type": "display_data"
        },
        {
          "name": "stdout",
          "output_type": "stream",
          "text": [
            "\n"
          ]
        },
        {
          "data": {
            "text/markdown": [
              "<span style='color:None;font-size:None'>**Lâmina Sombria _(Shadow Blade)_** lvl 2<br></span><span style='color:None;font-size:13px'>&emsp;**Escola(s):** elemental (_sombras_)<br>&emsp;**Tempo conjuração:** 1 ação bônus<br>&emsp;**Alcance:** pessoal<br>&emsp;**Componentes:** VS<br>&emsp;**Mana:** 650 (_+ 10 por turno_)<br>&emsp;**Duração:** concentração, até 1 minuto<br>&emsp;**Dano**: 2d8<br>&emsp;**Dmg/effect:** sombras<br></span><span style='color:None;font-size:None'>Você entrelaça fios de sombras para criar uma espada de trevas solidas em sua mão. Esta espada mágica dura até a magia terminar. Ele conta como uma arma simples de combate corpo-a-corpo com a qual você é proficiente. Ela provoca um dano sombrio de 2d8 em um golpe e possui propriedades sutileza, leve e arremessável (alcance 6/ 18). Além disso, quando você usa a espada para atacar um alvo que está em luz fraca ou na escuridão, você faz a rolagem de ataque com vantagem.<br>&emsp;Se você soltar a arma ou arremessá-la, ela se dissipa no final do turno. Posteriormente, enquanto a magia persistir, você pode usar uma ação bônus para que a espada reapareça na sua mão.<br>&emsp;**Em Níveis Superiores**. Gastando 1000 de mana extras e mais 10 por turno, o dano aumenta para 3d8. Gastando mais 5000 de mana e mais 30 por turno, o dano aumenta para 4d8. Gastando mais 15000 de mana e mais 50 por turno, o dano aumenta para 5d8.<br></span><span style='color:gray;font-size:11px'>[arma, corpo-a-corpo, dano]<br></span><span style='color:gray;font-size:11px'>[bardo, bruxo, clérigo, feiticeiro, guerreiro, ladino, mago, monge, paladino]<br></span><span style='color:gray;font-size:10px'>_LDJ_</span>"
            ],
            "text/plain": [
              "<IPython.core.display.Markdown object>"
            ]
          },
          "metadata": {},
          "output_type": "display_data"
        },
        {
          "name": "stdout",
          "output_type": "stream",
          "text": [
            "\n"
          ]
        },
        {
          "data": {
            "text/markdown": [
              "<span style='color:None;font-size:None'>**Marca Reveladora _(Branding Smite)_** lvl 2<br></span><span style='color:None;font-size:13px'>&emsp;**Escola(s):** elemental (_luz_)<br>&emsp;**Tempo conjuração:** 1 ação bônus<br>&emsp;**Alcance:** pessoal<br>&emsp;**Componentes:** V<br>&emsp;**Mana:** 650 (_+ 10 de mana a cada turno_)<br>&emsp;**Duração:** concentração, até 1 minuto<br>&emsp;**Dano**: 2d6<br>&emsp;**Dmg/effect:** luz<br></span><span style='color:None;font-size:None'>Da próxima vez que você atingir uma criatura com um ataque com arma, antes do fim da magia, a arma cintilará com radiação astral quando você golpear. O ataque causa 2d6 de dano radiante extra ao alvo, que se torna visível, se estava invisível, e o alvo emite penumbra em um raio de 1,5 metro e não pode ficar invisível até a magia acabar.<br>&emsp;**Melhorar Magia**. Para cada 500 de mana adicionais gastos, você pode adicionar mais 1d6 ao dano até o máximo de 5d6 adicionais.<br></span><span style='color:gray;font-size:11px'>[arma, controle, corpo-a-corpo, dano, debuff, detecção]<br></span><span style='color:gray;font-size:11px'>[bardo, bruxo, clérigo, feiticeiro, guerreiro, ladino, mago, monge, paladino]<br></span><span style='color:gray;font-size:10px'>_LDJ_</span>"
            ],
            "text/plain": [
              "<IPython.core.display.Markdown object>"
            ]
          },
          "metadata": {},
          "output_type": "display_data"
        },
        {
          "name": "stdout",
          "output_type": "stream",
          "text": [
            "\n"
          ]
        },
        {
          "data": {
            "text/markdown": [
              "<span style='color:None;font-size:None'>**Mensageiro Animal _(Animal Messenger)_** lvl 2 - ritual<br></span><span style='color:None;font-size:13px'>&emsp;**Escola(s):** elemental, invocação, musical (_terra_)<br>&emsp;**Tempo conjuração:** 1 ação<br>&emsp;**Alcance:** 9 metros<br>&emsp;**Componentes:** VSM _(um punhado de comida)_<br>&emsp;**Mana:** 650<br>&emsp;**Duração:** 24 horas<br></span><span style='color:None;font-size:None'>Através dessa magia, você usa um animal para entregar uma mensagem. Escolha uma besta Miúda que você possa ver dentro do alcance, como um esquilo, um gaio-azul ou um morcego. Você especifica um local, que você já deve ter visitado, e um remetente com uma descrição geral, como “um homem ou mulher vestido em um uniforme da guarda da cidade” ou “um anão ruivo vestindo um chapéu pontudo”. Você também fala uma mensagem com até vinte e cindo palavras. A besta alvo viaja pela duração da magia para o local especifico, cobrindo 75 quilômetros em 24 horas para um mensageiro voador ou 37,5 quilômetros para outros animais.<br>&emsp;Quando o mensageiro chegar, ele entrega sua mensagem para a criatura que você descreveu, repetindo o som da sua voz. O mensageiro fala apenas para uma criatura que tenha uma descrição compatível com a que ele recebeu. Se o mensageiro não alcançar o destino antes do fim da magia, a mensagem é perdida e a besta faz seu caminho de volta para onde você conjurou a magia.<br>&emsp;**Melhorar Magia**. Para cada 600 de mana adicionais gastos, a duração da magia aumenta em 48 horas.<br></span><span style='color:gray;font-size:11px'>[comunicação, utilidade]<br></span><span style='color:gray;font-size:11px'>[bardo, clérigo, guerreiro, mago, monge, paladino]<br></span><span style='color:gray;font-size:10px'>_LDJ_</span>"
            ],
            "text/plain": [
              "<IPython.core.display.Markdown object>"
            ]
          },
          "metadata": {},
          "output_type": "display_data"
        },
        {
          "name": "stdout",
          "output_type": "stream",
          "text": [
            "\n"
          ]
        },
        {
          "data": {
            "text/markdown": [
              "<span style='color:None;font-size:None'>**Murchar e Florescer _(Wither and Bloom)_** lvl 2<br></span><span style='color:None;font-size:13px'>&emsp;**Escola(s):** necromancia<br>&emsp;**Tempo conjuração:** 1 ação<br>&emsp;**Alcance:** 18 metros<br>&emsp;**Componentes:** VSM _(uma vinha murcha torcida em um loop)_<br>&emsp;**Mana:** 700<br>&emsp;**Duração:** instantânea<br>&emsp;**Dano**: 2d6<br>&emsp;**Attack/Save:** CON Save<br>&emsp;**Dmg/effect:** necrótico<br></span><span style='color:None;font-size:None'>Você invoca ambos vida e morte em uma esfera de até 3 metros centrada em um ponto dentro do alcance. Cada criatura a sua escolha na área deve fazer uma salvaguarda de Constituição, recebendo 2d6 de dano necrótico em uma falha ou metade em um sucesso. Vegetação não mágica na área murcha.<br>&emsp;Além disso, uma criatura da sua escolha pode gastar um Dado de Vida não gasto e recuperar o valor rolado mais seu modificador de conjuração.<br>&emsp;**Melhorar Magia**. Para cada 800 de mana adicionais, você adiciona mais 1d6 ao dano e permite a criatura gastar um dado de vida a mais até um máximo de 3600 pontos adicionais de mana gastos.<br></span><span style='color:gray;font-size:11px'>[cura, dano]<br></span><span style='color:gray;font-size:11px'>[bardo, bruxo, clérigo, feiticeiro, guerreiro, ladino, mago, monge, paladino]<br></span><span style='color:gray;font-size:10px'>_LDJ_</span>"
            ],
            "text/plain": [
              "<IPython.core.display.Markdown object>"
            ]
          },
          "metadata": {},
          "output_type": "display_data"
        },
        {
          "name": "stdout",
          "output_type": "stream",
          "text": [
            "\n"
          ]
        },
        {
          "data": {
            "text/markdown": [
              "<span style='color:None;font-size:None'>**Nublar _(Blur)_** lvl 2<br></span><span style='color:None;font-size:13px'>&emsp;**Escola(s):** ilusionista<br>&emsp;**Tempo conjuração:** 1 ação<br>&emsp;**Alcance:** pessoal<br>&emsp;**Componentes:** V<br>&emsp;**Mana:** 600 (_+ 10 por turno_)<br>&emsp;**Duração:** concentração, até 1 minuto<br></span><span style='color:None;font-size:None'>Seu corpo se torna turvo, mudando e oscilando para todos que puderem ver você. Pela duração, qualquer criatura terá desvantagem nas jogadas de ataque contra você. Um atacante é imune a esse efeito se não depender de visão, como os que tenham percepção às cegas ou os que puderem ver através de ilusões, como os com visão verdadeira. **Melhorar Magia**. Gastando mais 1000 de mana e mais 20 por turno, você pode escolher uma criatura amigável que não seja você para ser o alvo da magia.<br></span><span style='color:gray;font-size:11px'>[buff, defesa]<br></span><span style='color:gray;font-size:11px'>[bardo, bruxo, clérigo, feiticeiro, guerreiro, ladino, mago, monge, paladino]<br></span><span style='color:gray;font-size:10px'>_LDJ_</span>"
            ],
            "text/plain": [
              "<IPython.core.display.Markdown object>"
            ]
          },
          "metadata": {},
          "output_type": "display_data"
        },
        {
          "name": "stdout",
          "output_type": "stream",
          "text": [
            "\n"
          ]
        },
        {
          "data": {
            "text/markdown": [
              "<span style='color:None;font-size:None'>**Nuvem de Adagas _(Cloud of Daggers)_** lvl 2<br></span><span style='color:None;font-size:13px'>&emsp;**Escola(s):** elemental (_água, terra, fogo, ar, luz, sombras, relâmpago, metal, veneno_)<br>&emsp;**Tempo conjuração:** 1 ação<br>&emsp;**Alcance:** 18 metros<br>&emsp;**Componentes:** VSM _(uma lasca de vidro)_<br>&emsp;**Mana:** 650 (_+ 10 por turno_)<br>&emsp;**Duração:** concentração, até 1 minuto<br>&emsp;**Dano**: 4d4<br>&emsp;**Dmg/effect:** elemental<br></span><span style='color:None;font-size:None'>Você preenche o ar com adagas giratórias num cubo de 1,5 metro quadrado, centrado em um ponto, à sua escolha, dentro do alcance. Uma criatura sofre 4d4 de dano cortante quando entra na área da magia pela primeira vez no turno dela ou começa seu turno na área.<br>&emsp;**Melhorar Magia**. Para cada 650 de pontos de mana adicionais gastos, adicione mais 2d4 ao dano, até um máximo de 10d4 adicionais.<br></span><span style='color:gray;font-size:11px'>[controle, dano]<br></span><span style='color:gray;font-size:11px'>[bardo, ladino, mago]<br></span><span style='color:gray;font-size:10px'>_LDJ_</span>"
            ],
            "text/plain": [
              "<IPython.core.display.Markdown object>"
            ]
          },
          "metadata": {},
          "output_type": "display_data"
        },
        {
          "name": "stdout",
          "output_type": "stream",
          "text": [
            "\n"
          ]
        },
        {
          "data": {
            "text/markdown": [
              "<span style='color:None;font-size:None'>**Oração Curativa _(Prayer of Healing)_** lvl 2<br></span><span style='color:None;font-size:13px'>&emsp;**Escola(s):** elemental, espiritual, musical (_água, luz_)<br>&emsp;**Tempo conjuração:** 10 minutos<br>&emsp;**Alcance:** 9 metros<br>&emsp;**Componentes:** V<br>&emsp;**Mana:** 750<br>&emsp;**Duração:** instantânea<br>&emsp;**Dano**: 1d6<br>&emsp;**Attack/Save:** DEX Save<br>&emsp;**Dmg/effect:** fogo<br></span><span style='color:None;font-size:None'>Até seis criaturas, à sua escolha, que você possa ver, dentro do alcance, recuperam uma quantidade de pontos de vida igual a 2d8 + seu modificador de habilidade de conjuração, cada uma. Essa magia não afeta mortos-vivos ou constructos.<br>&emsp;**Melhorar Magia**. Para cada 700 de mana adicionais gastos, adicione 1d8 à cura, até um máximo de 5d8 adicionais.<br></span><span style='color:gray;font-size:11px'>[cura]<br></span><span style='color:gray;font-size:11px'>[bardo, clérigo, monge, paladino]<br></span><span style='color:gray;font-size:10px'>_LDJ_</span>"
            ],
            "text/plain": [
              "<IPython.core.display.Markdown object>"
            ]
          },
          "metadata": {},
          "output_type": "display_data"
        },
        {
          "name": "stdout",
          "output_type": "stream",
          "text": [
            "\n"
          ]
        },
        {
          "data": {
            "text/markdown": [
              "<span style='color:None;font-size:None'>**Parede de Vento _(Custom)_** lvl 2<br></span><span style='color:None;font-size:13px'>&emsp;**Escola(s):** elemental (_ar_)<br>&emsp;**Tempo conjuração:** 1 ação<br>&emsp;**Alcance:** pessoal<br>&emsp;**Componentes:** VS<br>&emsp;**Mana:** 400<br>&emsp;**Duração:** 1 turno<br></span><span style='color:None;font-size:None'>Você conjura uma parede de vento de 1,5m de largura em um quadrado desocupado a 1,5m de você.<br>&emsp;Se uma criatura tentar fazer qualquer tipo de ataque à distância que passe pela parede, então você deve gastar 50 vezes o nível da magia utilizada (mínimo 50 caso não seja magia ou seja um truque) e você anula completamente a magia. Você pode escolhe não gastar a quantidade de mana necessária para defender o ataque, nesse caso, ele passará pela parede normalmente.<br>&emsp;Os quadrados ocupados pela parede se tornam terreno difícil, exceto para você.<br>&emsp;**Melhorar Magia** Você pode gastar mais 500 de mana e aumentar o multiplicador para 100 vezes o nível da magia utilizada para aumentar a largura da parede para 3m. Ou você pode gastar mais 2000 de mana e aumentar o multiplicador para 250 vezes o nível da magia utilizada para aumentar a largura da parede para 4,5m.<br></span><span style='color:gray;font-size:11px'>[defesa]<br></span><span style='color:gray;font-size:11px'>[bardo, guerreiro, ladino, mago, monge]<br></span><span style='color:gray;font-size:10px'>_Custom_</span>"
            ],
            "text/plain": [
              "<IPython.core.display.Markdown object>"
            ]
          },
          "metadata": {},
          "output_type": "display_data"
        },
        {
          "name": "stdout",
          "output_type": "stream",
          "text": [
            "\n"
          ]
        },
        {
          "data": {
            "text/markdown": [
              "<span style='color:None;font-size:None'>**Passeio Cinético _(Kinetic Jaunt)_** lvl 2<br></span><span style='color:None;font-size:13px'>&emsp;**Escola(s):** elemental (_ar, luz, relâmpago_)<br>&emsp;**Tempo conjuração:** 1 ação bônus<br>&emsp;**Alcance:** pessoal<br>&emsp;**Componentes:** S<br>&emsp;**Mana:** 750 (_+ 10 por turno_)<br>&emsp;**Duração:** concentração, até 1 minuto<br></span><span style='color:None;font-size:None'>Você magicamente empodera seu movimento com passos leves como de uma dança, dando a você mesmo os seguintes benefícios:<br>&emsp;- Seu movimento de caminhada aumenta em 3 metros;<br>&emsp;- Você não provoca ataques de oportunidade;<br>&emsp;- Você pode mover pelo espaço de outra criatura e ele não isso não conta como terreno difícil.<br></span><span style='color:gray;font-size:11px'>[buff]<br></span><span style='color:gray;font-size:11px'>[bardo, bruxo, clérigo, feiticeiro, guerreiro, ladino, mago, monge, paladino]<br></span><span style='color:gray;font-size:10px'>_Etc._</span>"
            ],
            "text/plain": [
              "<IPython.core.display.Markdown object>"
            ]
          },
          "metadata": {},
          "output_type": "display_data"
        },
        {
          "name": "stdout",
          "output_type": "stream",
          "text": [
            "\n"
          ]
        },
        {
          "data": {
            "text/markdown": [
              "<span style='color:None;font-size:None'>**Passo Nebuloso _(Misty Step)_** lvl 2<br></span><span style='color:None;font-size:13px'>&emsp;**Escola(s):** elemental (_luz, sombras, relâmpago_)<br>&emsp;**Tempo conjuração:** 1 ação bônus<br>&emsp;**Alcance:** pessoal<br>&emsp;**Componentes:** V<br>&emsp;**Mana:** 700<br>&emsp;**Duração:** instantânea<br></span><span style='color:None;font-size:None'>Você se teletransporta a até 9 metro para um espaço desocupado que você possa ver.<br></span><span style='color:gray;font-size:11px'>[exploração]<br></span><span style='color:gray;font-size:11px'>[bardo, bruxo, clérigo, feiticeiro, guerreiro, ladino, mago, monge, paladino]<br></span><span style='color:gray;font-size:10px'>_LDJ_</span>"
            ],
            "text/plain": [
              "<IPython.core.display.Markdown object>"
            ]
          },
          "metadata": {},
          "output_type": "display_data"
        },
        {
          "name": "stdout",
          "output_type": "stream",
          "text": [
            "\n"
          ]
        },
        {
          "data": {
            "text/markdown": [
              "<span style='color:None;font-size:None'>**Passos sem Pegadas _(Pass without Trace)_** lvl 2<br></span><span style='color:None;font-size:13px'>&emsp;**Escola(s):** elemental, ilusionista (_sombras_)<br>&emsp;**Tempo conjuração:** 1 ação<br>&emsp;**Alcance:** pessoal<br>&emsp;**Componentes:** VSM _(cinzas de uma folha de visco queimada e um ramo de pinheiro)_<br>&emsp;**Mana:** 700 (_+ 10 a cada 10 minutos_)<br>&emsp;**Duração:** instantânea<br></span><span style='color:None;font-size:None'>Um véu de sombras e silêncio irradia de você, encobrindo você e seus companheiros contra detecção. Pela duração, cada criatura, à sua escolha, a até 9 metros de você (incluindo você) recebe +10 de bônus em testes de Destreza (Furtividade) e não pode ser rastreada, exceto por meio mágicos. Uma criatura que receber esse bônus não deixa quaisquer pegadas ou outros vestígios da sua passagem<br></span><span style='color:gray;font-size:11px'>[buff, exploração]<br></span><span style='color:gray;font-size:11px'>[bardo, bruxo, clérigo, feiticeiro, guerreiro, ladino, mago, monge, paladino]<br></span><span style='color:gray;font-size:10px'>_LDJ_</span>"
            ],
            "text/plain": [
              "<IPython.core.display.Markdown object>"
            ]
          },
          "metadata": {},
          "output_type": "display_data"
        },
        {
          "name": "stdout",
          "output_type": "stream",
          "text": [
            "\n"
          ]
        },
        {
          "data": {
            "text/markdown": [
              "<span style='color:None;font-size:None'>**Patas de Aranha _(Spider Climb)_** lvl 2<br></span><span style='color:None;font-size:13px'>&emsp;**Escola(s):** elemental (_água, terra, metal_)<br>&emsp;**Tempo conjuração:** 1 ação<br>&emsp;**Alcance:** toque<br>&emsp;**Componentes:** VSM _(uma gota de betume e uma aranha)_<br>&emsp;**Mana:** 640 (_+ 10 a cada 10 minutos_)<br>&emsp;**Duração:** concentração, até 1 hora<br></span><span style='color:None;font-size:None'>Até a magia acabar, uma criatura voluntária que você tocar, recebe a habilidade de se mover para cima, para baixo e através de superfícies verticais e de cabeça para baixo pelos tetos, enquanto deixa suas mãos livres. O alvo também ganha deslocamento de escalada igual a seu deslocamento de caminhada.<br></span><span style='color:gray;font-size:11px'>[buff, exploração, toque]<br></span><span style='color:gray;font-size:11px'>[bardo, bruxo, clérigo, feiticeiro, guerreiro, ladino, mago, monge, paladino]<br></span><span style='color:gray;font-size:10px'>_LDJ_</span>"
            ],
            "text/plain": [
              "<IPython.core.display.Markdown object>"
            ]
          },
          "metadata": {},
          "output_type": "display_data"
        },
        {
          "name": "stdout",
          "output_type": "stream",
          "text": [
            "\n"
          ]
        },
        {
          "data": {
            "text/markdown": [
              "<span style='color:None;font-size:None'>**Pele de Árvore _(Barkskin)_** lvl 2<br></span><span style='color:None;font-size:13px'>&emsp;**Escola(s):** elemental (_terra, metal_)<br>&emsp;**Tempo conjuração:** 1 ação<br>&emsp;**Alcance:** toque<br>&emsp;**Componentes:** VSM _(um pedaço de casca de carvalho)_<br>&emsp;**Mana:** 700 (_+ 10 a cada 5 minutos_)<br>&emsp;**Duração:** concentração, até 1 hora<br></span><span style='color:None;font-size:None'>Você toca uma criatura voluntária. Até o fim da magia, a pele da criatura fica rígida e a CA agora é no mínimo 16, independentemente do tipo de armadura que ela esteja vestindo.<br></span><span style='color:gray;font-size:11px'>[buff, defesa, toque]<br></span><span style='color:gray;font-size:11px'>[bardo, clérigo, guerreiro, ladino, mago, monge]<br></span><span style='color:gray;font-size:10px'>_LDJ_</span>"
            ],
            "text/plain": [
              "<IPython.core.display.Markdown object>"
            ]
          },
          "metadata": {},
          "output_type": "display_data"
        },
        {
          "name": "stdout",
          "output_type": "stream",
          "text": [
            "\n"
          ]
        },
        {
          "data": {
            "text/markdown": [
              "<span style='color:None;font-size:None'>**Pirotecnia _(Pyrotechnics)_** lvl 2<br></span><span style='color:None;font-size:13px'>&emsp;**Escola(s):** elemental (_fogo_)<br>&emsp;**Tempo conjuração:** 1 ação<br>&emsp;**Alcance:** 18 metros<br>&emsp;**Componentes:** VS<br>&emsp;**Mana:** 750<br>&emsp;**Duração:** instantânea<br>&emsp;**Attack/Save:** CON Save<br></span><span style='color:None;font-size:None'>Escolha uma área de chamas que você possa ver e que caiba num cubo de 1,5 metros, dentro do alcance. Você pode extinguir o fogo na área e criar tanto fogos de artificio quanto fumaça.<br>&emsp;**_Fogos de Artifício_**. O alvo explode em uma apresentação incrível de cores. Cada criatura a até 3 metros do alvo deve ser bem sucedida num teste de resistência de Constituição ou ficará cega até o final do seu próximo turno.<br>&emsp;**_Fumaça_**. Uma fumaça negra e espessa se espalha do alvo num raio de 6 metros, dobrando esquinas. A área da fumaça é de escuridão densa.  A fumaça persiste por 1 minuto ou até um vento forte dispersa-la.<br></span><span style='color:gray;font-size:11px'>[controle, debuff]<br></span><span style='color:gray;font-size:11px'>[bardo, bruxo, clérigo, feiticeiro, guerreiro, ladino, mago, monge, paladino]<br></span><span style='color:gray;font-size:10px'>_Xanathar_</span>"
            ],
            "text/plain": [
              "<IPython.core.display.Markdown object>"
            ]
          },
          "metadata": {},
          "output_type": "display_data"
        },
        {
          "name": "stdout",
          "output_type": "stream",
          "text": [
            "\n"
          ]
        },
        {
          "data": {
            "text/markdown": [
              "<span style='color:None;font-size:None'>**Proteção contra o Veneno _(Protection from Poison)_** lvl 2 (Rara)<br></span><span style='color:None;font-size:13px'>&emsp;**Escola(s):** elemental (_água, luz, veneno_)<br>&emsp;**Tempo conjuração:** 1 ação<br>&emsp;**Alcance:** toque<br>&emsp;**Componentes:** VS<br>&emsp;**Mana:** 1000<br>&emsp;**Duração:** 1 hora<br></span><span style='color:None;font-size:None'>Você toca uma criatura. Se ela estiver envenenada, você neutraliza o veneno. Se mais de um veneno estiver afligindo o alvo, você neutraliza um veneno, que você saiba estar presente, ou neutraliza um aleatório.<br>&emsp;Pela duração, o alvo terá vantagem em testes de resistência para não envenenado e terá resistência a dano de veneno.<br></span><span style='color:gray;font-size:11px'>[defesa, toque]<br></span><span style='color:gray;font-size:11px'>[bardo, bruxo, clérigo, feiticeiro, guerreiro, ladino, mago, monge, paladino]<br></span><span style='color:gray;font-size:10px'>_LDJ_</span>"
            ],
            "text/plain": [
              "<IPython.core.display.Markdown object>"
            ]
          },
          "metadata": {},
          "output_type": "display_data"
        },
        {
          "name": "stdout",
          "output_type": "stream",
          "text": [
            "\n"
          ]
        },
        {
          "data": {
            "text/markdown": [
              "<span style='color:None;font-size:None'>**Raio Elemental _(Scorching Ray)_** lvl 2<br></span><span style='color:None;font-size:13px'>&emsp;**Escola(s):** elemental (_água, terra, fogo, ar, luz, sombras, relâmpago, metal, veneno_)<br>&emsp;**Tempo conjuração:** 1 ação<br>&emsp;**Alcance:** 36 metros<br>&emsp;**Componentes:** VS<br>&emsp;**Mana:** 800<br>&emsp;**Duração:** instantânea<br>&emsp;**Dano**: 6d6<br></span><span style='color:None;font-size:None'>Você cria três raios elementais e os arremessa em alvos dentro do alcance. Você pode arremessa-los em um alvo ou em vários.<br>&emsp;Realize um ataque à distância com magia para cada raio. Se atingir, o alvo sofrerá 2d6 de dano elemental.<br>&emsp;**Melhorar Magia**. Para cada 600 de mana adicionais gastos, adicione mais 1d6 ao dano de cada raio.<br></span><span style='color:gray;font-size:11px'>[dano, distância]<br></span><span style='color:gray;font-size:11px'>[bardo, bruxo, clérigo, feiticeiro, guerreiro, ladino, mago, monge, paladino]<br></span><span style='color:gray;font-size:10px'>_LDJ_</span>"
            ],
            "text/plain": [
              "<IPython.core.display.Markdown object>"
            ]
          },
          "metadata": {},
          "output_type": "display_data"
        },
        {
          "name": "stdout",
          "output_type": "stream",
          "text": [
            "\n"
          ]
        },
        {
          "data": {
            "text/markdown": [
              "<span style='color:None;font-size:None'>**Raio Lunar _(Moonbeam)_** lvl 2<br></span><span style='color:None;font-size:13px'>&emsp;**Escola(s):** elemental (_fogo, luz_)<br>&emsp;**Tempo conjuração:** 1 ação<br>&emsp;**Alcance:** 36 metros<br>&emsp;**Componentes:** VSM _(várias sementes de qualquer planta lunar e um pedaço de feldspato opalescente)_<br>&emsp;**Mana:** 750 (_+ 10 por turno_)<br>&emsp;**Duração:** concentração, até 1 minuto<br>&emsp;**Dano**: 2d10<br>&emsp;**Attack/Save:** CON Save<br>&emsp;**Dmg/effect:** radiante<br></span><span style='color:None;font-size:None'>Um raio prateado de luz pálida brilha para baixo em um cilindro com 1,5 metro de raio e 12 metros de altura, centrado num ponto dentro do alcance. Até a magia acabar, penumbra preenche o cilindro.<br>&emsp;Quando uma criatura entrar na área da magia pela primeira vez em um turno, ou começar seu turno lá, ela é engolfada por chamas fantasmagóricas que causam dores lancinantes e ela deve realizar um teste de resistência de Constituição. Ela sofre 2d10 de dano radiante se falhar na resistência ou metade desse dano se passar.<br>&emsp;Um metamorfo faz seu teste de resistência com desvantagem. Se ele falhar, ele, também, reverte instantaneamente para sua forma original e não pode assumir uma forma diferente até deixar a luz da magia.<br>&emsp;Em cada um dos seus turnos após conjurar essa magia, você pode usar uma ação e mais 10 de mana para mover o raio 18 metros em qualquer direção.<br>&emsp;**Melhorar Magia**. Gastando 600 a mais de mana e 10 a mais por turno, você pode adicionar mais 1d10 ao dano, até um máximo de 3d10 extras.<br></span><span style='color:gray;font-size:11px'>[controle, dano]<br></span><span style='color:gray;font-size:11px'>[bardo, mago, monge]<br></span><span style='color:gray;font-size:10px'>_LDJ_</span>"
            ],
            "text/plain": [
              "<IPython.core.display.Markdown object>"
            ]
          },
          "metadata": {},
          "output_type": "display_data"
        },
        {
          "name": "stdout",
          "output_type": "stream",
          "text": [
            "\n"
          ]
        },
        {
          "data": {
            "text/markdown": [
              "<span style='color:None;font-size:None'>**Raio do Enfraquecimento _(Ray of Enfeeblement)_** lvl 2<br></span><span style='color:None;font-size:13px'>&emsp;**Escola(s):** elemental, necromancia, musical (_sombras, metal, veneno_)<br>&emsp;**Tempo conjuração:** 1 ação<br>&emsp;**Alcance:** 18 metros<br>&emsp;**Componentes:** VS<br>&emsp;**Mana:** 750 (_+ 10 de mana por turno_)<br>&emsp;**Duração:** concentração, até 1 minuto<br>&emsp;**Attack/Save:** CON Save<br></span><span style='color:None;font-size:None'>Um raio negro de energia enervante parte em direção de uma criatura, dentro do alcance. Faça um ataque à distância com magia contra o alvo. Se atingir, o alvo causará metade do dano com ataques com armas que usem Força, até a magia acabar.<br>&emsp;No final de cada um dos turnos do alvo, ele pode realizar um teste de resistência de Constituição contra a magia. Se obtiver sucesso, a magia acaba.<br></span><span style='color:gray;font-size:11px'>[debuff, distância]<br></span><span style='color:gray;font-size:11px'>[bardo, bruxo, clérigo, feiticeiro, mago]<br></span><span style='color:gray;font-size:10px'>_LDJ_</span>"
            ],
            "text/plain": [
              "<IPython.core.display.Markdown object>"
            ]
          },
          "metadata": {},
          "output_type": "display_data"
        },
        {
          "name": "stdout",
          "output_type": "stream",
          "text": [
            "\n"
          ]
        },
        {
          "data": {
            "text/markdown": [
              "<span style='color:None;font-size:None'>**Rebanho de Familiares _(Flock of Familiars)_** lvl 2<br></span><span style='color:None;font-size:13px'>&emsp;**Escola(s):** invocação<br>&emsp;**Tempo conjuração:** 1 minuto<br>&emsp;**Alcance:** toque<br>&emsp;**Componentes:** VS<br>&emsp;**Mana:** 1400 (_+ 50 a cada 5 minutos_)<br>&emsp;**Duração:** concentração, até 1 hora<br></span><span style='color:None;font-size:None'>Você temporariamente invoca três familiares - espíritos que tomam formas animais a sua escolha. Cada familiar usa as mesmas regras e opções de familiar invocado pela magia _Conjurar Familiar_.<br>&emsp;Familiares invocador por essa magia podem se comunicar telepaticamente com você e compartilhar sua visão e audição enquanto eles estão a até 1,6 quilômetros de você.<br>&emsp;Quando você conjura uma magia com alcance de Toque, um dos familiares pode transmitir essa magia normalmente. Entretanto, você só pode usar apenas um familiar por turno para conjurar uma magia de Toque.<br>&emsp;**Melhorar Magia**. Para cada 1000 pontos de mana adicionais, você pode convocar mais um familiar, até um máximo de 5 familiares.<br></span><span style='color:gray;font-size:11px'>[comunicação, detecção, exploração]<br></span><span style='color:gray;font-size:11px'>[bardo, bruxo, clérigo, feiticeiro, guerreiro, ladino, mago, monge, paladino]<br></span><span style='color:gray;font-size:10px'>_Etc._</span>"
            ],
            "text/plain": [
              "<IPython.core.display.Markdown object>"
            ]
          },
          "metadata": {},
          "output_type": "display_data"
        },
        {
          "name": "stdout",
          "output_type": "stream",
          "text": [
            "\n"
          ]
        },
        {
          "data": {
            "text/markdown": [
              "<span style='color:None;font-size:None'>**Reflexos _(Mirror Image)_** lvl 2<br></span><span style='color:None;font-size:13px'>&emsp;**Escola(s):** ilusionista<br>&emsp;**Tempo conjuração:** 1 ação<br>&emsp;**Alcance:** pessoal<br>&emsp;**Componentes:** VS<br>&emsp;**Mana:** 750<br>&emsp;**Duração:** 1 minuto<br></span><span style='color:None;font-size:None'>Três duplicatas ilusórias de você aparecem no seu espaço.  Até a magia acabar, as duplicatas se movem com você e copiam as suas ações, trocando de posição, tornando impossível rastrear qual imagem é real. Você pode usar sua ação para dissipar as duplicatas ilusórias.<br>&emsp;Cada vez que uma criatura mirar você com um ataque enquanto a magia durar, role um d20 para determinar se o ataque, em vez de você, mira uma das suas duplicatas.<br>&emsp;Se você tiver três duplicatas, você deve rolar um 6 ou maior para mudar o alvo do ataque para uma duplicata.  Com duas duplicatas, você deve rolar um 8 ou maior. Com uma duplicata, você deve rolar um 11 ou maior.<br>&emsp;A CA de uma duplicata é igual a 10 + seu modificador de Destreza. Se um ataque atingir uma duplicata, ela é destruída. Uma duplicata só pode ser destruída por um ataque que a atinja. Ela ignora todos os outros danos e efeitos. A magia acaba quando todas as três duplicatas forem destruídas.<br>&emsp;Uma criatura não pode ser afetada por essa magia se não puder enxergar, se ela contar com outros sentidos além da visão, como percepção às cegas, ou se ela puder perceber ilusões como falsas, como com visão verdadeira.<br></span><span style='color:gray;font-size:11px'>[debuff, defesa]<br></span><span style='color:gray;font-size:11px'>[bardo, bruxo, clérigo, feiticeiro, guerreiro, ladino, mago, monge, paladino]<br></span><span style='color:gray;font-size:10px'>_LDJ_</span>"
            ],
            "text/plain": [
              "<IPython.core.display.Markdown object>"
            ]
          },
          "metadata": {},
          "output_type": "display_data"
        },
        {
          "name": "stdout",
          "output_type": "stream",
          "text": [
            "\n"
          ]
        },
        {
          "data": {
            "text/markdown": [
              "<span style='color:None;font-size:None'>**Repouso Tranquilo _(Gentle Repose)_** lvl 2<br></span><span style='color:None;font-size:13px'>&emsp;**Escola(s):** elemental, necromancia, espiritual (_água, luz, veneno_)<br>&emsp;**Tempo conjuração:** 1 ação<br>&emsp;**Alcance:** toque<br>&emsp;**Componentes:** VSM _(uma pitada de sal e uma peça de cobre colocada em cada um dos olhos do corpo, que devem permanecer ai pela duração)_<br>&emsp;**Mana:** 1000<br>&emsp;**Duração:** 10 dias<br></span><span style='color:None;font-size:None'>Você toca um corpo ou outros restos mortais. Pela duração, o alvo estará protegido de decomposição e não pode se tornar um morto-vivo.<br>&emsp;A magia também estende, efetivamente, o limite de tempo para que o alvo seja trazido de volta a vida, já que os dias passados sob a influência dessa magia não contam no tempo limite de tais magias, como _reviver os mortos_.<br></span><span style='color:gray;font-size:11px'>[defesa, toque]<br></span><span style='color:gray;font-size:11px'>[bardo, bruxo, clérigo, feiticeiro, mago, monge, paladino]<br></span><span style='color:gray;font-size:10px'>_LDJ_</span>"
            ],
            "text/plain": [
              "<IPython.core.display.Markdown object>"
            ]
          },
          "metadata": {},
          "output_type": "display_data"
        },
        {
          "name": "stdout",
          "output_type": "stream",
          "text": [
            "\n"
          ]
        },
        {
          "data": {
            "text/markdown": [
              "<span style='color:None;font-size:None'>**Restauração Menor _(Lesser Restoration)_** lvl 2<br></span><span style='color:None;font-size:13px'>&emsp;**Escola(s):** elemental (_água, terra, luz, veneno_)<br>&emsp;**Tempo conjuração:** 1 ação<br>&emsp;**Alcance:** toque<br>&emsp;**Componentes:** VS<br>&emsp;**Mana:** 800<br>&emsp;**Duração:** instantânea<br></span><span style='color:None;font-size:None'>Você toca uma criatura e pode ou acabar com uma doença ou uma condição que a esteja afligindo. A condição pode ser cega, surda, paralisada ou envenenada.<br></span><span style='color:gray;font-size:11px'>[buff, defesa]<br></span><span style='color:gray;font-size:11px'>[bardo, bruxo, clérigo, feiticeiro, mago, monge, paladino]<br></span><span style='color:gray;font-size:10px'>_LDJ_</span>"
            ],
            "text/plain": [
              "<IPython.core.display.Markdown object>"
            ]
          },
          "metadata": {},
          "output_type": "display_data"
        },
        {
          "name": "stdout",
          "output_type": "stream",
          "text": [
            "\n"
          ]
        },
        {
          "data": {
            "text/markdown": [
              "<span style='color:None;font-size:None'>**Sentido Bestial _(Beast Sense)_** lvl 2<br></span><span style='color:None;font-size:13px'>&emsp;**Escola(s):** elemental, musical, invocação (_terra_)<br>&emsp;**Tempo conjuração:** 1 ação<br>&emsp;**Alcance:** toque<br>&emsp;**Componentes:** S<br>&emsp;**Mana:** 500 (_+ 20 a cada 5 minutos_)<br>&emsp;**Duração:** concentração, até 1 hora<br></span><span style='color:None;font-size:None'>Você toca uma besta voluntária. Pela duração da magia, você pode usar sua ação para ver através dos olhos e ouvir através dos ouvidos da besta e continua a fazê-lo até você usar sua ação para retornar aos seus sentidos normais.<br>&emsp;Enquanto estiver utilizando os sentidos da besta, você ganha os benefícios de qualquer sentido especial possuído pela criatura, no entanto, você estará cego e surdo em relação aos seus próprios sentidos.<br></span><span style='color:gray;font-size:11px'>[exploração, toque]<br></span><span style='color:gray;font-size:11px'>[bardo, bruxo, clérigo, feiticeiro, guerreiro, ladino, mago, monge, paladino]<br></span><span style='color:gray;font-size:10px'>_LDJ_</span>"
            ],
            "text/plain": [
              "<IPython.core.display.Markdown object>"
            ]
          },
          "metadata": {},
          "output_type": "display_data"
        },
        {
          "name": "stdout",
          "output_type": "stream",
          "text": [
            "\n"
          ]
        },
        {
          "data": {
            "text/markdown": [
              "<span style='color:None;font-size:None'>**Silêncio _(Silence)_** lvl 2<br></span><span style='color:None;font-size:13px'>&emsp;**Escola(s):** ilusionista, musical<br>&emsp;**Tempo conjuração:** 1 ação<br>&emsp;**Alcance:** 36 metros<br>&emsp;**Componentes:** VS<br>&emsp;**Mana:** 700 (_+ 15 por minuto_)<br>&emsp;**Duração:** concentração, até 10 minutos<br></span><span style='color:None;font-size:None'>Pela duração, nenhum som pode ser criado dentro ou atravessar uma esfera de 6 metros de raio centrada num ponto, à sua escolha, dentro do alcance. Qualquer criatura ou objeto totalmente dentro da esfera é imune a dano trovejante e as criaturas estarão surdas enquanto estiverem completamente dentro dela. Conjurar magias que inclua a componente verbal é impossível ai.<br></span><span style='color:gray;font-size:11px'>[controle, debuff, defesa]<br></span><span style='color:gray;font-size:11px'>[bardo, bruxo, clérigo, feiticeiro, mago, monge, paladino]<br></span><span style='color:gray;font-size:10px'>_LDJ_</span>"
            ],
            "text/plain": [
              "<IPython.core.display.Markdown object>"
            ]
          },
          "metadata": {},
          "output_type": "display_data"
        },
        {
          "name": "stdout",
          "output_type": "stream",
          "text": [
            "\n"
          ]
        },
        {
          "data": {
            "text/markdown": [
              "<span style='color:None;font-size:None'>**Sopro de Gelo _(Rime's Binding Ice)_** lvl 2<br></span><span style='color:None;font-size:13px'>&emsp;**Escola(s):** elemental (_água_)<br>&emsp;**Tempo conjuração:** 1 ação<br>&emsp;**Alcance:** pessoal<br>&emsp;**Componentes:** SM _(uma gota de água)_<br>&emsp;**Mana:** 850<br>&emsp;**Duração:** instantânea<br>&emsp;**Dano**: 3d8<br>&emsp;**Attack/Save:** CON Save<br>&emsp;**Dmg/effect:** congelante<br></span><span style='color:None;font-size:None'>Uma explosão de frio emana de você em um cone de 9 metros. Cada criatura na área deve fazer uma salvaguarda de Constituição. Se falhar, a criatura recebe 3d8 de dano de frio e fica impedido por uma formação de gelo por 1 minuto ou até uma criatura dentro de 1,5m da impedida utilizar sua ação para quebrar o gelo. Em um sucesso, a criatura recebe metade do dano e não fica impedida pelo gelo.<br>&emsp;**Melhorar Magia**. Para cada 600 pontos de mana adicionais gastos, adicione 1d8 ao dano, até um máximo de 4d8 adicionais.<br></span><span style='color:gray;font-size:11px'>[controle, dano]<br></span><span style='color:gray;font-size:11px'>[bardo, bruxo, clérigo, feiticeiro, guerreiro, mago, paladino]<br></span><span style='color:gray;font-size:10px'>_LDJ_</span>"
            ],
            "text/plain": [
              "<IPython.core.display.Markdown object>"
            ]
          },
          "metadata": {},
          "output_type": "display_data"
        },
        {
          "name": "stdout",
          "output_type": "stream",
          "text": [
            "\n"
          ]
        },
        {
          "data": {
            "text/markdown": [
              "<span style='color:None;font-size:None'>**Sugestão _(Suggestion)_** lvl 2<br></span><span style='color:None;font-size:13px'>&emsp;**Escola(s):** ilusionista, musical<br>&emsp;**Tempo conjuração:** 1 ação<br>&emsp;**Alcance:** 9 metros<br>&emsp;**Componentes:** VM _(uma língua de cobra e, ou um pedaço de favo de mel ou uma gota de azeite doce)_<br>&emsp;**Mana:** 600 (_+ 10 por hora_)<br>&emsp;**Duração:** concentração, até 8 horas<br>&emsp;**Attack/Save:** WIS Save<br></span><span style='color:None;font-size:None'>Você sugere um curso de atividade (limitado a uma ou duas sentenças) e, magicamente, influencia um criatura que você possa ver, dentro do alcance, e que possa ouvir e compreender você. Criaturas que não podem ser enfeitiçadas são imunes a esse efeito. A sugestão deve ser formulada de modo que o curso de ação soe razoável. Dizer para a criatura se esfaquear, se arremessar em uma lança, tocar fogo em si mesma ou fazer algum outro ato obviamente nocivo anulará o efeito da magia.<br>&emsp;O alvo deve realizar um teste de resistência de Sabedoria. Se falhar na resistência, ele seguirá o curso de ação que você descreveu, da melhor forma possível. O curso de ação sugerido pode continuar por toda a duração. Se a atividade sugerida puder ser completada em um tempo menor, a magia termina quando o alvo completar o que lhe foi dito para que fizesse.<br>&emsp;Você pode, também, especificar condições que irão ativar uma atividade especial pela duração. Por exemplo, você poderia sugerir a um cavaleiro que entregasse seu cavalo de guerra ao primeiro mendigo que ele encontrar. Se a condição não for satisfeita antes da magia expirar, a atividade não será concluída.<br>&emsp;Se você ou um dos seus companheiros causar dano a uma criatura afetada por essa magia, a magia termina.<br></span><span style='color:gray;font-size:11px'>[controle, debuff, social]<br></span><span style='color:gray;font-size:11px'>[bardo, bruxo, clérigo, feiticeiro, guerreiro, ladino, mago, monge, paladino]<br></span><span style='color:gray;font-size:10px'>_LDJ_</span>"
            ],
            "text/plain": [
              "<IPython.core.display.Markdown object>"
            ]
          },
          "metadata": {},
          "output_type": "display_data"
        },
        {
          "name": "stdout",
          "output_type": "stream",
          "text": [
            "\n"
          ]
        },
        {
          "data": {
            "text/markdown": [
              "<span style='color:None;font-size:None'>**Teia _(Web)_** lvl 2<br></span><span style='color:None;font-size:13px'>&emsp;**Escola(s):** elemental, necromancia (_terra, veneno_)<br>&emsp;**Tempo conjuração:** 1 ação<br>&emsp;**Alcance:** 18 metros<br>&emsp;**Componentes:** VSM _(um pedaço de teia de aranha)_<br>&emsp;**Mana:** 540 (_+ 10 a cada 10 minutos_)<br>&emsp;**Duração:** concentração, até 1 hora<br>&emsp;**Dano**: 2d4<br>&emsp;**Attack/Save:** DEX Save<br>&emsp;**Dmg/effect:** fogo<br></span><span style='color:None;font-size:None'>Você conjura uma massa de teias espessas e pegajosas num ponto, à sua escolha, dentro do alcance. As teias preenchem um cubo de 6 metros naquele ponto, pela duração. As teias são terreno difícil e causam escuridão leve na área delas.<br>&emsp;Se as teias não estiverem sendo suportadas por duas massas sólidas (como duas paredes ou árvores) ou em camadas sobre um chão, parede ou teto, a teia conjurada desaba sobre si mesma e a magia termina no início do seu próximo turno. As teias em camadas sobre uma superfície plana terão 1,5 metro de profundidade.<br>&emsp;Cada criatura que começar seu turno nas teias ou entrar nelas durante seu turno, deve realizar um teste de resistência de Destreza. Se falhar na resistência, a criatura estará impedida enquanto permanecer nas teias ou até se libertar.<br>&emsp;Uma criatura impedida pelas teias pode usar sua ação para realizar um teste de Força contra a CD da magia. Se obtiver sucesso, ela não estará mais impedida.<br>&emsp;As teias são inflamáveis. Qualquer cubo de 1,5 metro de teia exposto ao fogo, é consumida por ele em 1 rodada, causando 2d4 de dano de fogo a qualquer criatura que começar seu turno nas chamas.<br>&emsp;[Veneno | Necromancia] Sempre que uma criatura se move dentro da área ocupada pela teia ou quando começa o turna nela, ela recebe 1d4 de dano de veneno.<br></span><span style='color:gray;font-size:11px'>[controle, dano, debuff]<br></span><span style='color:gray;font-size:11px'>[bardo, bruxo, clérigo, feiticeiro, guerreiro, ladino, mago, monge, paladino]<br></span><span style='color:gray;font-size:10px'>_LDJ_</span>"
            ],
            "text/plain": [
              "<IPython.core.display.Markdown object>"
            ]
          },
          "metadata": {},
          "output_type": "display_data"
        },
        {
          "name": "stdout",
          "output_type": "stream",
          "text": [
            "\n"
          ]
        },
        {
          "data": {
            "text/markdown": [
              "<span style='color:None;font-size:None'>**Torção Espacial _(Vortex Twist)_** lvl 2<br></span><span style='color:None;font-size:13px'>&emsp;**Escola(s):** elemental, espiritual, necromancia, pura (_sombras_)<br>&emsp;**Tempo conjuração:** 1 ação<br>&emsp;**Alcance:** 27 metros<br>&emsp;**Componentes:** VS<br>&emsp;**Mana:** 800<br>&emsp;**Duração:** instantânea<br>&emsp;**Attack/Save:** CON Save<br></span><span style='color:None;font-size:None'>Você magicamente torce o espaço ao redor de outra criatura que você possa ver dentro do alcance. O alvo deve ser bem sucedido em um teste de Constituição ou o alvo é teleportado para um espaço desocupado de sua escolha que você possa ver dentro do alcance. O espaço escolhido deve estar em uma superfície ou em um líquido que possa suportar o alvo sem que o alvo precise se espremer.<br>&emsp;**Melhorar Magia**. Para cada 600 de mana adicionais, você pode aumentar o alcance da magia em 9 metros.<br></span><span style='color:gray;font-size:11px'>[controle]<br></span><span style='color:gray;font-size:11px'>[bardo, bruxo, clérigo, feiticeiro, mago, monge, paladino]<br></span><span style='color:gray;font-size:10px'>_Etc._</span>"
            ],
            "text/plain": [
              "<IPython.core.display.Markdown object>"
            ]
          },
          "metadata": {},
          "output_type": "display_data"
        },
        {
          "name": "stdout",
          "output_type": "stream",
          "text": [
            "\n"
          ]
        },
        {
          "data": {
            "text/markdown": [
              "<span style='color:None;font-size:None'>**Tranca Arcana _(Arcane Lock)_** lvl 2<br></span><span style='color:None;font-size:13px'>&emsp;**Escola(s):** elemental (_terra, metal_)<br>&emsp;**Tempo conjuração:** 1 ação<br>&emsp;**Alcance:** toque<br>&emsp;**Componentes:** VSM _(pó de ouro valendo, no mínimo, 25 po, consumido pela magia)_<br>&emsp;**Mana:** 1000<br>&emsp;**Duração:** até ser dissipada<br></span><span style='color:None;font-size:None'>Você toca uma porta, janela, portão, baú ou outra entrada fechada e ela ficará trancada pela duração. Você e as criaturas que você designar, quando você conjurar essa magia, podem abrir o objeto normalmente. Você também pode definir uma senha que, quando falada a 1,5 metro do objeto, suprime a magia por 1 minuto. De outra forma, ele é intransponível até ser quebrado ou a magia seja dissipada ou suprimida. Conjurar _arrombar_ no objeto suprime a _tranca arcana_ por 10 minutos.<br>&emsp;Enquanto estiver sob efeito dessa magia, o objeto é mais difícil de quebrar ou de forçar para abrir; a CD para quebra-lo ou de arromba-lo aumenta em 10.<br></span><span style='color:gray;font-size:11px'>[controle, defesa, toque]<br></span><span style='color:gray;font-size:11px'>[bardo, bruxo, clérigo, feiticeiro, guerreiro, ladino, mago, monge, paladino]<br></span><span style='color:gray;font-size:10px'>_LDJ_</span>"
            ],
            "text/plain": [
              "<IPython.core.display.Markdown object>"
            ]
          },
          "metadata": {},
          "output_type": "display_data"
        },
        {
          "name": "stdout",
          "output_type": "stream",
          "text": [
            "\n"
          ]
        },
        {
          "data": {
            "text/markdown": [
              "<span style='color:None;font-size:None'>**Truque de Corda _(Rope Trick)_** lvl 2<br></span><span style='color:None;font-size:13px'>&emsp;**Escola(s):** pura<br>&emsp;**Tempo conjuração:** 1 ação<br>&emsp;**Alcance:** toque<br>&emsp;**Componentes:** VSM _(pó de extrato de milho e um laço de pergaminho trançado)_<br>&emsp;**Mana:** 3000<br>&emsp;**Duração:** 1 hora<br></span><span style='color:None;font-size:None'>Você toca um pedaço de corda que tenha até 18 metros de comprimento. Uma ponta da corda então, se ergue no ar até toda a corda estar erguida e perpendicular ao solo. Na ponta de cima da corda, uma entrada invisível se abre para um espaço extradimensional que permanece até a magia acabar.<br>&emsp;O espaço extradimensional pode ser alcançado escalando a corda até o topo. O espaço pode abrigar até oito criaturas Médias ou menores. A corda pode ser puxada para dentro do buraco, fazendo-a desaparecer para os observadores do lado de fora do espaço.<br>&emsp;Ataques e magias não podem ultrapassar a entrada, entrando ou saindo do espaço extradimensional, mas quem está dentro pode ver o lado de fora, como se estivesse olhando por uma janela de 0,9 metro por 1,5 metro, centrada na corda.<br>&emsp;Tudo que estiver dentro do espaço extradimensional cai quando a magia acabar.<br></span><span style='color:gray;font-size:11px'>[toque, utilidade]<br></span><span style='color:gray;font-size:11px'>[bardo, bruxo, clérigo, feiticeiro, guerreiro, ladino, mago, monge, paladino]<br></span><span style='color:gray;font-size:10px'>_LDJ_</span>"
            ],
            "text/plain": [
              "<IPython.core.display.Markdown object>"
            ]
          },
          "metadata": {},
          "output_type": "display_data"
        },
        {
          "name": "stdout",
          "output_type": "stream",
          "text": [
            "\n"
          ]
        },
        {
          "data": {
            "text/markdown": [
              "<span style='color:None;font-size:None'>**Vento Protetor _(Warding Wind)_** lvl 2<br></span><span style='color:None;font-size:13px'>&emsp;**Escola(s):** elemental (_ar_)<br>&emsp;**Tempo conjuração:** 1 ação<br>&emsp;**Alcance:** pessoal<br>&emsp;**Componentes:** V<br>&emsp;**Mana:** 500 (_+ 5 por minuto_)<br>&emsp;**Duração:** concentração, até 10 minutos<br></span><span style='color:None;font-size:None'>Um vento forte (30 quilômetros por hora) sopra a sua volta num raio de 3 metros e se move com você, permanecendo centrado em você. O vento permanece pela duração da magia.<br>&emsp;O vento tem os seguintes efeitos:<br>&emsp;• Ele ensurdece você e outras criaturas na área.<br>&emsp;• Ele extingue chamas desprotegidas na área que tenham o tamanho de tochas ou menores.<br>&emsp;• A área é de terreno difícil para outras criaturas diferentes de você.<br>&emsp;• As jogadas de ataque à distância com armas tem desvantagem se passarem para dentro ou para fora do vento.<br>&emsp;• Ele afasta vapor, gás e névoa que possa ser dissipado por um vento forte.<br></span><span style='color:gray;font-size:11px'>[debuff, defesa]<br></span><span style='color:gray;font-size:11px'>[bardo, bruxo, clérigo, feiticeiro, guerreiro, ladino, mago, monge, paladino]<br></span><span style='color:gray;font-size:10px'>_LDJ_</span>"
            ],
            "text/plain": [
              "<IPython.core.display.Markdown object>"
            ]
          },
          "metadata": {},
          "output_type": "display_data"
        },
        {
          "name": "stdout",
          "output_type": "stream",
          "text": [
            "\n"
          ]
        },
        {
          "data": {
            "text/markdown": [
              "<span style='color:None;font-size:None'>**Ver o Invisível _(See Invisibility)_** lvl 2<br></span><span style='color:None;font-size:13px'>&emsp;**Escola(s):** espiritual, necromancia, pura, elemental (_sombras_)<br>&emsp;**Tempo conjuração:** 1 ação<br>&emsp;**Alcance:** pessoal<br>&emsp;**Componentes:** VSM _(um pouco de talco e um pó de prata polvilhado)_<br>&emsp;**Mana:** 700<br>&emsp;**Duração:** 1 hora<br></span><span style='color:None;font-size:None'>Pela duração, você vê criaturas e objetos invisíveis como se eles fossem visíveis e você pode ver no Plano Etéreo. Criaturas e objetos etéreos parecem espectrais e translúcidos.<br></span><span style='color:gray;font-size:11px'>[buff, detecção]<br></span><span style='color:gray;font-size:11px'>[bardo, bruxo, clérigo, feiticeiro, guerreiro, ladino, mago, monge, paladino]<br></span><span style='color:gray;font-size:10px'>_LDJ_</span>"
            ],
            "text/plain": [
              "<IPython.core.display.Markdown object>"
            ]
          },
          "metadata": {},
          "output_type": "display_data"
        },
        {
          "name": "stdout",
          "output_type": "stream",
          "text": [
            "\n"
          ]
        },
        {
          "data": {
            "text/markdown": [
              "<span style='color:None;font-size:None'>**Visão no Escuro _(Darkvision)_** lvl 2<br></span><span style='color:None;font-size:13px'>&emsp;**Escola(s):** elemental, necromancia, espiritual (_luz, sombras_)<br>&emsp;**Tempo conjuração:** 1 ação<br>&emsp;**Alcance:** toque<br>&emsp;**Componentes:** VSM _(ou um pedaço de cenoura seca ou uma ágata)_<br>&emsp;**Mana:** 700<br>&emsp;**Duração:** 8 horas<br></span><span style='color:None;font-size:None'>Você toca uma criatura voluntária para conceder a ela a habilidade de ver nas trevas. Pela duração, a criatura terá visão no escuro com alcance de 18 metros.<br></span><span style='color:gray;font-size:11px'>[buff, exploração, toque]<br></span><span style='color:gray;font-size:11px'>[bardo, bruxo, clérigo, feiticeiro, guerreiro, ladino, mago, monge, paladino]<br></span><span style='color:gray;font-size:10px'>_LDJ_</span>"
            ],
            "text/plain": [
              "<IPython.core.display.Markdown object>"
            ]
          },
          "metadata": {},
          "output_type": "display_data"
        },
        {
          "name": "stdout",
          "output_type": "stream",
          "text": [
            "\n"
          ]
        },
        {
          "data": {
            "text/markdown": [
              "<span style='color:None;font-size:None'>**Vínculo Protetor _(Warding Bond)_** lvl 2<br></span><span style='color:None;font-size:13px'>&emsp;**Escola(s):** elemental, musical, espiritual (_água, terra, ar, luz, metal_)<br>&emsp;**Tempo conjuração:** 1 ação<br>&emsp;**Alcance:** toque<br>&emsp;**Componentes:** VSM _(um par de anéis de platina valendo, no mínimo, 50 po cada, que você e o alvo devem usar pela duração)_<br>&emsp;**Mana:** 750<br>&emsp;**Duração:** 1 hora<br></span><span style='color:None;font-size:None'>Essa magia protege uma criatura voluntária que você tocar e cria uma conexão mística entre você e o alvo até a magia acabar. Enquanto o alvo estiver a até 18 metros de você, ele recebe +1 de bônus na CA, nos testes de resistência e terá resistência a todos os danos. No entanto, a cada vez que ele sofrer dano, você sofrerá a mesma quantidade de dano.<br>&emsp;A magia acaba se você cair a 0 pontos de vida ou se você e o alvo ficarem separados a mais de 18 metros. Ela também termina se a magia for conjurada novamente em quaisquer das criaturas conectadas. Você também pode dissipar a magia com uma ação.<br></span><span style='color:gray;font-size:11px'>[buff, defesa, toque]<br></span><span style='color:gray;font-size:11px'>[bardo, guerreiro, monge]<br></span><span style='color:gray;font-size:10px'>_LDJ_</span>"
            ],
            "text/plain": [
              "<IPython.core.display.Markdown object>"
            ]
          },
          "metadata": {},
          "output_type": "display_data"
        },
        {
          "name": "stdout",
          "output_type": "stream",
          "text": [
            "\n"
          ]
        },
        {
          "data": {
            "text/markdown": [
              "<span style='color:None;font-size:None'>**Zona da Verdade _(Zone of Truth)_** lvl 2<br></span><span style='color:None;font-size:13px'>&emsp;**Escola(s):** elemental, espiritual, necromancia, ilusionista (_terra, ar, luz, sombras, veneno_)<br>&emsp;**Tempo conjuração:** 1 ação<br>&emsp;**Alcance:** 18 metros<br>&emsp;**Componentes:** VS<br>&emsp;**Mana:** 750<br>&emsp;**Duração:** 10 minutos<br>&emsp;**Attack/Save:** CHA Save<br></span><span style='color:None;font-size:None'>Você cria uma zona mágica protegida contra enganação, numa esfera com 4,5 metros de raio, centrada num ponto, à sua escolha, dentro do alcance. Até a magia acabar, uma criatura que entrar na área da magia pela primeira vez num turno ou começar seu turno nela, deve realizar um teste de resistência de Carisma. Se falhar na resistência, a criatura não poderá mentir deliberadamente enquanto estiver no raio. Você saberá cada criatura que passou ou falhou nesse teste de resistência.<br>&emsp;Uma criatura afetada está ciente da magia e pode, portanto, evitar responder perguntas as quais ela normalmente responderia com uma mentira. Tais criaturas podem ser evasivas em suas respostas, contanto que permaneçam dentro dos limites da verdade.<br></span><span style='color:gray;font-size:11px'>[comunicação, controle, debuff, detecção, social]<br></span><span style='color:gray;font-size:11px'>[bardo, mago]<br></span><span style='color:gray;font-size:10px'>_LDJ_</span>"
            ],
            "text/plain": [
              "<IPython.core.display.Markdown object>"
            ]
          },
          "metadata": {},
          "output_type": "display_data"
        },
        {
          "name": "stdout",
          "output_type": "stream",
          "text": [
            "\n"
          ]
        }
      ],
      "source": [
        "from dfs.DFFilter import filter_df\n",
        "from spell.SpellPrinter import print_spell, print_spells_by_name, print_spells_for_df\n",
        "\n",
        "my_filter = {\n",
        "    \"classes\": \"arqueiro\",\n",
        "    #\"escola\": \"musical\"\n",
        "    #\"magia_rara\": True\n",
        "    \"nivel\": 2\n",
        "}\n",
        "filtered_df = filter_df(spells_df, my_filter)\n",
        "\n",
        "print_spells_for_df(filtered_df)"
      ]
    },
    {
      "cell_type": "code",
      "execution_count": 3,
      "metadata": {},
      "outputs": [
        {
          "data": {
            "text/html": [
              "<div>\n",
              "<style scoped>\n",
              "    .dataframe tbody tr th:only-of-type {\n",
              "        vertical-align: middle;\n",
              "    }\n",
              "\n",
              "    .dataframe tbody tr th {\n",
              "        vertical-align: top;\n",
              "    }\n",
              "\n",
              "    .dataframe thead th {\n",
              "        text-align: right;\n",
              "    }\n",
              "</style>\n",
              "<table border=\"1\" class=\"dataframe\">\n",
              "  <thead>\n",
              "    <tr style=\"text-align: right;\">\n",
              "      <th></th>\n",
              "      <th>nome</th>\n",
              "      <th>name</th>\n",
              "      <th>nivel</th>\n",
              "      <th>escola</th>\n",
              "      <th>ritual</th>\n",
              "      <th>elementos</th>\n",
              "      <th>tempo_conjuracao</th>\n",
              "      <th>alcance_area</th>\n",
              "      <th>componentes</th>\n",
              "      <th>mana</th>\n",
              "      <th>duracao</th>\n",
              "      <th>attack_save</th>\n",
              "      <th>dmg_effect</th>\n",
              "      <th>dmg</th>\n",
              "      <th>classes</th>\n",
              "      <th>tags</th>\n",
              "      <th>descricao</th>\n",
              "      <th>source</th>\n",
              "      <th>mana_adicional</th>\n",
              "      <th>magia_rara</th>\n",
              "    </tr>\n",
              "  </thead>\n",
              "  <tbody>\n",
              "    <tr>\n",
              "      <th>0</th>\n",
              "      <td>Amizade</td>\n",
              "      <td>Friends</td>\n",
              "      <td>0</td>\n",
              "      <td>[psíquica]</td>\n",
              "      <td>False</td>\n",
              "      <td>[]</td>\n",
              "      <td>1 ação</td>\n",
              "      <td>pessoal</td>\n",
              "      <td>SM (uma pequena quantidade de maquiagem)</td>\n",
              "      <td>100</td>\n",
              "      <td>concentração, até 1 minuto</td>\n",
              "      <td>N/A</td>\n",
              "      <td>N/A</td>\n",
              "      <td>N/A</td>\n",
              "      <td>[arqueiro, bardo, mago, ladino, guerreiro]</td>\n",
              "      <td>[buff]</td>\n",
              "      <td>Pela duração, você terá vantagem em todos os t...</td>\n",
              "      <td>LDJ</td>\n",
              "      <td>10 por turno</td>\n",
              "      <td>False</td>\n",
              "    </tr>\n",
              "    <tr>\n",
              "      <th>1</th>\n",
              "      <td>Ataque Certeiro</td>\n",
              "      <td>True Strike</td>\n",
              "      <td>0</td>\n",
              "      <td>[psíquica]</td>\n",
              "      <td>False</td>\n",
              "      <td>[]</td>\n",
              "      <td>1 ação</td>\n",
              "      <td>9 metros</td>\n",
              "      <td>S</td>\n",
              "      <td>100</td>\n",
              "      <td>1 rodada</td>\n",
              "      <td>N/A</td>\n",
              "      <td>N/A</td>\n",
              "      <td>N/A</td>\n",
              "      <td>[arqueiro, guerreiro, ladino, mago, monge]</td>\n",
              "      <td>[buff]</td>\n",
              "      <td>Você encara um alvo no alcance, vasculhando se...</td>\n",
              "      <td>LDJ</td>\n",
              "      <td>N/A</td>\n",
              "      <td>False</td>\n",
              "    </tr>\n",
              "    <tr>\n",
              "      <th>2</th>\n",
              "      <td>Ataque Elemental</td>\n",
              "      <td>Custom</td>\n",
              "      <td>0</td>\n",
              "      <td>[elemental, musical, ilusionista, necromancia,...</td>\n",
              "      <td>False</td>\n",
              "      <td>[água, terra, fogo, ar, luz, sombras, relâmpag...</td>\n",
              "      <td>1 ação</td>\n",
              "      <td>18 metros</td>\n",
              "      <td>S</td>\n",
              "      <td>0</td>\n",
              "      <td>instantânea</td>\n",
              "      <td>N/A</td>\n",
              "      <td>elemental</td>\n",
              "      <td>1d6</td>\n",
              "      <td>[arqueiro, bardo, mago, guerreiro, ladino]</td>\n",
              "      <td>[dano]</td>\n",
              "      <td>Essa é a magia mais básica de dano que qualque...</td>\n",
              "      <td>Custom</td>\n",
              "      <td>N/A</td>\n",
              "      <td>False</td>\n",
              "    </tr>\n",
              "    <tr>\n",
              "      <th>3</th>\n",
              "      <td>Chama Sagrada</td>\n",
              "      <td>Secred Flame</td>\n",
              "      <td>0</td>\n",
              "      <td>[elemental]</td>\n",
              "      <td>False</td>\n",
              "      <td>[luz]</td>\n",
              "      <td>1 ação</td>\n",
              "      <td>18 metros</td>\n",
              "      <td>VS</td>\n",
              "      <td>150</td>\n",
              "      <td>instantânea</td>\n",
              "      <td>DEX Save</td>\n",
              "      <td>luz</td>\n",
              "      <td>1d8</td>\n",
              "      <td>[clérigo, paladino, monge, bardo, ladino, guer...</td>\n",
              "      <td>[dano]</td>\n",
              "      <td>Radiação similar a uma chama desce sobre uma c...</td>\n",
              "      <td>LDJ</td>\n",
              "      <td>N/A</td>\n",
              "      <td>False</td>\n",
              "    </tr>\n",
              "    <tr>\n",
              "      <th>4</th>\n",
              "      <td>Chicote</td>\n",
              "      <td>Lightning Lure</td>\n",
              "      <td>0</td>\n",
              "      <td>[elemental]</td>\n",
              "      <td>False</td>\n",
              "      <td>[relâmpago, luz, sombras, metal, terra, fogo]</td>\n",
              "      <td>1 ação</td>\n",
              "      <td>4,5 metros</td>\n",
              "      <td>VS</td>\n",
              "      <td>150</td>\n",
              "      <td>instantânea</td>\n",
              "      <td>STR Save</td>\n",
              "      <td>elemental</td>\n",
              "      <td>1d8</td>\n",
              "      <td>[clérigo, paladino, bruxo, mago, feiticeiro, m...</td>\n",
              "      <td>[dano, controle]</td>\n",
              "      <td>Você cria um chicote elemental que golpeia uma...</td>\n",
              "      <td>Tasha</td>\n",
              "      <td>N/A</td>\n",
              "      <td>False</td>\n",
              "    </tr>\n",
              "    <tr>\n",
              "      <th>...</th>\n",
              "      <td>...</td>\n",
              "      <td>...</td>\n",
              "      <td>...</td>\n",
              "      <td>...</td>\n",
              "      <td>...</td>\n",
              "      <td>...</td>\n",
              "      <td>...</td>\n",
              "      <td>...</td>\n",
              "      <td>...</td>\n",
              "      <td>...</td>\n",
              "      <td>...</td>\n",
              "      <td>...</td>\n",
              "      <td>...</td>\n",
              "      <td>...</td>\n",
              "      <td>...</td>\n",
              "      <td>...</td>\n",
              "      <td>...</td>\n",
              "      <td>...</td>\n",
              "      <td>...</td>\n",
              "      <td>...</td>\n",
              "    </tr>\n",
              "    <tr>\n",
              "      <th>195</th>\n",
              "      <td>Vento Protetor</td>\n",
              "      <td>Warding Wind</td>\n",
              "      <td>2</td>\n",
              "      <td>[elemental]</td>\n",
              "      <td>False</td>\n",
              "      <td>[ar]</td>\n",
              "      <td>1 ação</td>\n",
              "      <td>pessoal</td>\n",
              "      <td>V</td>\n",
              "      <td>500</td>\n",
              "      <td>concentração, até 10 minutos</td>\n",
              "      <td>N/A</td>\n",
              "      <td>N/A</td>\n",
              "      <td>N/A</td>\n",
              "      <td>[clérigo, paladino, ladino, guerreiro, bardo, ...</td>\n",
              "      <td>[debuff, defesa]</td>\n",
              "      <td>Um vento forte (30 quilômetros por hora) sopra...</td>\n",
              "      <td>LDJ</td>\n",
              "      <td>5 por minuto</td>\n",
              "      <td>False</td>\n",
              "    </tr>\n",
              "    <tr>\n",
              "      <th>196</th>\n",
              "      <td>Ver o Invisível</td>\n",
              "      <td>See Invisibility</td>\n",
              "      <td>2</td>\n",
              "      <td>[espiritual, necromancia, pura, elemental]</td>\n",
              "      <td>False</td>\n",
              "      <td>[sombras]</td>\n",
              "      <td>1 ação</td>\n",
              "      <td>pessoal</td>\n",
              "      <td>VSM (um pouco de talco e um pó de prata polvil...</td>\n",
              "      <td>700</td>\n",
              "      <td>1 hora</td>\n",
              "      <td>N/A</td>\n",
              "      <td>N/A</td>\n",
              "      <td>N/A</td>\n",
              "      <td>[clérigo, paladino, ladino, guerreiro, bardo, ...</td>\n",
              "      <td>[buff, detecção]</td>\n",
              "      <td>Pela duração, você vê criaturas e objetos invi...</td>\n",
              "      <td>LDJ</td>\n",
              "      <td>N/A</td>\n",
              "      <td>False</td>\n",
              "    </tr>\n",
              "    <tr>\n",
              "      <th>197</th>\n",
              "      <td>Visão no Escuro</td>\n",
              "      <td>Darkvision</td>\n",
              "      <td>2</td>\n",
              "      <td>[elemental, necromancia, espiritual]</td>\n",
              "      <td>False</td>\n",
              "      <td>[luz, sombras]</td>\n",
              "      <td>1 ação</td>\n",
              "      <td>toque</td>\n",
              "      <td>VSM (ou um pedaço de cenoura seca ou uma ágata)</td>\n",
              "      <td>700</td>\n",
              "      <td>8 horas</td>\n",
              "      <td>N/A</td>\n",
              "      <td>N/A</td>\n",
              "      <td>N/A</td>\n",
              "      <td>[clérigo, paladino, ladino, guerreiro, bardo, ...</td>\n",
              "      <td>[buff, exploração, toque]</td>\n",
              "      <td>Você toca uma criatura voluntária para concede...</td>\n",
              "      <td>LDJ</td>\n",
              "      <td>N/A</td>\n",
              "      <td>False</td>\n",
              "    </tr>\n",
              "    <tr>\n",
              "      <th>198</th>\n",
              "      <td>Vínculo Protetor</td>\n",
              "      <td>Warding Bond</td>\n",
              "      <td>2</td>\n",
              "      <td>[elemental, musical, espiritual]</td>\n",
              "      <td>False</td>\n",
              "      <td>[água, terra, ar, luz, metal]</td>\n",
              "      <td>1 ação</td>\n",
              "      <td>toque</td>\n",
              "      <td>VSM (um par de anéis de platina valendo, no mí...</td>\n",
              "      <td>750</td>\n",
              "      <td>1 hora</td>\n",
              "      <td>N/A</td>\n",
              "      <td>N/A</td>\n",
              "      <td>N/A</td>\n",
              "      <td>[guerreiro, bardo, monge]</td>\n",
              "      <td>[buff, defesa, toque]</td>\n",
              "      <td>Essa magia protege uma criatura voluntária que...</td>\n",
              "      <td>LDJ</td>\n",
              "      <td>N/A</td>\n",
              "      <td>False</td>\n",
              "    </tr>\n",
              "    <tr>\n",
              "      <th>199</th>\n",
              "      <td>Zona da Verdade</td>\n",
              "      <td>Zone of Truth</td>\n",
              "      <td>2</td>\n",
              "      <td>[elemental, espiritual, necromancia, ilusionista]</td>\n",
              "      <td>False</td>\n",
              "      <td>[terra, ar, luz, sombras, veneno]</td>\n",
              "      <td>1 ação</td>\n",
              "      <td>18 metros</td>\n",
              "      <td>VS</td>\n",
              "      <td>750</td>\n",
              "      <td>10 minutos</td>\n",
              "      <td>CHA Save</td>\n",
              "      <td>N/A</td>\n",
              "      <td>N/A</td>\n",
              "      <td>[bardo, mago]</td>\n",
              "      <td>[debuff, controle, comunicação, social, detecção]</td>\n",
              "      <td>Você cria uma zona mágica protegida contra eng...</td>\n",
              "      <td>LDJ</td>\n",
              "      <td>N/A</td>\n",
              "      <td>False</td>\n",
              "    </tr>\n",
              "  </tbody>\n",
              "</table>\n",
              "<p>200 rows × 20 columns</p>\n",
              "</div>"
            ],
            "text/plain": [
              "                 nome              name  nivel  \\\n",
              "0             Amizade           Friends      0   \n",
              "1     Ataque Certeiro       True Strike      0   \n",
              "2    Ataque Elemental            Custom      0   \n",
              "3       Chama Sagrada      Secred Flame      0   \n",
              "4             Chicote    Lightning Lure      0   \n",
              "..                ...               ...    ...   \n",
              "195    Vento Protetor      Warding Wind      2   \n",
              "196   Ver o Invisível  See Invisibility      2   \n",
              "197   Visão no Escuro        Darkvision      2   \n",
              "198  Vínculo Protetor      Warding Bond      2   \n",
              "199   Zona da Verdade     Zone of Truth      2   \n",
              "\n",
              "                                                escola  ritual  \\\n",
              "0                                           [psíquica]   False   \n",
              "1                                           [psíquica]   False   \n",
              "2    [elemental, musical, ilusionista, necromancia,...   False   \n",
              "3                                          [elemental]   False   \n",
              "4                                          [elemental]   False   \n",
              "..                                                 ...     ...   \n",
              "195                                        [elemental]   False   \n",
              "196         [espiritual, necromancia, pura, elemental]   False   \n",
              "197               [elemental, necromancia, espiritual]   False   \n",
              "198                   [elemental, musical, espiritual]   False   \n",
              "199  [elemental, espiritual, necromancia, ilusionista]   False   \n",
              "\n",
              "                                             elementos tempo_conjuracao  \\\n",
              "0                                                   []           1 ação   \n",
              "1                                                   []           1 ação   \n",
              "2    [água, terra, fogo, ar, luz, sombras, relâmpag...           1 ação   \n",
              "3                                                [luz]           1 ação   \n",
              "4        [relâmpago, luz, sombras, metal, terra, fogo]           1 ação   \n",
              "..                                                 ...              ...   \n",
              "195                                               [ar]           1 ação   \n",
              "196                                          [sombras]           1 ação   \n",
              "197                                     [luz, sombras]           1 ação   \n",
              "198                      [água, terra, ar, luz, metal]           1 ação   \n",
              "199                  [terra, ar, luz, sombras, veneno]           1 ação   \n",
              "\n",
              "    alcance_area                                        componentes  mana  \\\n",
              "0        pessoal           SM (uma pequena quantidade de maquiagem)   100   \n",
              "1       9 metros                                                  S   100   \n",
              "2      18 metros                                                  S     0   \n",
              "3      18 metros                                                 VS   150   \n",
              "4     4,5 metros                                                 VS   150   \n",
              "..           ...                                                ...   ...   \n",
              "195      pessoal                                                  V   500   \n",
              "196      pessoal  VSM (um pouco de talco e um pó de prata polvil...   700   \n",
              "197        toque    VSM (ou um pedaço de cenoura seca ou uma ágata)   700   \n",
              "198        toque  VSM (um par de anéis de platina valendo, no mí...   750   \n",
              "199    18 metros                                                 VS   750   \n",
              "\n",
              "                          duracao attack_save dmg_effect  dmg  \\\n",
              "0      concentração, até 1 minuto         N/A        N/A  N/A   \n",
              "1                        1 rodada         N/A        N/A  N/A   \n",
              "2                     instantânea         N/A  elemental  1d6   \n",
              "3                     instantânea    DEX Save        luz  1d8   \n",
              "4                     instantânea    STR Save  elemental  1d8   \n",
              "..                            ...         ...        ...  ...   \n",
              "195  concentração, até 10 minutos         N/A        N/A  N/A   \n",
              "196                        1 hora         N/A        N/A  N/A   \n",
              "197                       8 horas         N/A        N/A  N/A   \n",
              "198                        1 hora         N/A        N/A  N/A   \n",
              "199                    10 minutos    CHA Save        N/A  N/A   \n",
              "\n",
              "                                               classes  \\\n",
              "0           [arqueiro, bardo, mago, ladino, guerreiro]   \n",
              "1           [arqueiro, guerreiro, ladino, mago, monge]   \n",
              "2           [arqueiro, bardo, mago, guerreiro, ladino]   \n",
              "3    [clérigo, paladino, monge, bardo, ladino, guer...   \n",
              "4    [clérigo, paladino, bruxo, mago, feiticeiro, m...   \n",
              "..                                                 ...   \n",
              "195  [clérigo, paladino, ladino, guerreiro, bardo, ...   \n",
              "196  [clérigo, paladino, ladino, guerreiro, bardo, ...   \n",
              "197  [clérigo, paladino, ladino, guerreiro, bardo, ...   \n",
              "198                          [guerreiro, bardo, monge]   \n",
              "199                                      [bardo, mago]   \n",
              "\n",
              "                                                  tags  \\\n",
              "0                                               [buff]   \n",
              "1                                               [buff]   \n",
              "2                                               [dano]   \n",
              "3                                               [dano]   \n",
              "4                                     [dano, controle]   \n",
              "..                                                 ...   \n",
              "195                                   [debuff, defesa]   \n",
              "196                                   [buff, detecção]   \n",
              "197                          [buff, exploração, toque]   \n",
              "198                              [buff, defesa, toque]   \n",
              "199  [debuff, controle, comunicação, social, detecção]   \n",
              "\n",
              "                                             descricao  source mana_adicional  \\\n",
              "0    Pela duração, você terá vantagem em todos os t...     LDJ   10 por turno   \n",
              "1    Você encara um alvo no alcance, vasculhando se...     LDJ            N/A   \n",
              "2    Essa é a magia mais básica de dano que qualque...  Custom            N/A   \n",
              "3    Radiação similar a uma chama desce sobre uma c...     LDJ            N/A   \n",
              "4    Você cria um chicote elemental que golpeia uma...   Tasha            N/A   \n",
              "..                                                 ...     ...            ...   \n",
              "195  Um vento forte (30 quilômetros por hora) sopra...     LDJ   5 por minuto   \n",
              "196  Pela duração, você vê criaturas e objetos invi...     LDJ            N/A   \n",
              "197  Você toca uma criatura voluntária para concede...     LDJ            N/A   \n",
              "198  Essa magia protege uma criatura voluntária que...     LDJ            N/A   \n",
              "199  Você cria uma zona mágica protegida contra eng...     LDJ            N/A   \n",
              "\n",
              "     magia_rara  \n",
              "0         False  \n",
              "1         False  \n",
              "2         False  \n",
              "3         False  \n",
              "4         False  \n",
              "..          ...  \n",
              "195       False  \n",
              "196       False  \n",
              "197       False  \n",
              "198       False  \n",
              "199       False  \n",
              "\n",
              "[200 rows x 20 columns]"
            ]
          },
          "execution_count": 3,
          "metadata": {},
          "output_type": "execute_result"
        }
      ],
      "source": [
        "filtered_df"
      ]
    },
    {
      "cell_type": "code",
      "execution_count": 4,
      "metadata": {},
      "outputs": [
        {
          "data": {
            "text/plain": [
              "3000     1\n",
              "1500     1\n",
              "1400     2\n",
              "1000     6\n",
              "900      3\n",
              "850      2\n",
              "800     10\n",
              "750     15\n",
              "700     24\n",
              "650      6\n",
              "640      1\n",
              "600      7\n",
              "550      3\n",
              "540      1\n",
              "500      5\n",
              "450      4\n",
              "400     11\n",
              "350     17\n",
              "300     20\n",
              "250      7\n",
              "200     11\n",
              "150     17\n",
              "100     15\n",
              "75       2\n",
              "50       8\n",
              "0        1\n",
              "Name: mana, dtype: int64"
            ]
          },
          "metadata": {},
          "output_type": "display_data"
        },
        {
          "name": "stdout",
          "output_type": "stream",
          "text": [
            "Mean =\t469.400\n",
            "Std  =\t342.784\n"
          ]
        }
      ],
      "source": [
        "from IPython.display import display\n",
        "\n",
        "\n",
        "def get_mana_stats(spells_df):\n",
        "    display(spells_df.mana.value_counts().sort_index(ascending=False))\n",
        "    print(f\"Mean =\\t{filtered_df.mana.mean():.3f}\")\n",
        "    print(f\"Std  =\\t{filtered_df.mana.std():.3f}\")\n",
        "\n",
        "\n",
        "get_mana_stats(filtered_df)\n"
      ]
    },
    {
      "cell_type": "code",
      "execution_count": 5,
      "metadata": {},
      "outputs": [
        {
          "data": {
            "text/plain": [
              "20.0"
            ]
          },
          "execution_count": 5,
          "metadata": {},
          "output_type": "execute_result"
        }
      ],
      "source": [
        "import dice.DiceCalculator as dice\n",
        "\n",
        "dice.get_dice_formula_mean('4d8+2')"
      ]
    },
    {
      "cell_type": "code",
      "execution_count": null,
      "metadata": {},
      "outputs": [],
      "source": []
    }
  ],
  "metadata": {
    "interpreter": {
      "hash": "d36adf45757a947aebb41e19531952e79d7da656c5a3acf675af965b060eaf9d"
    },
    "kernelspec": {
      "display_name": "Python 3.10.2 64-bit",
      "language": "python",
      "name": "python3"
    },
    "language_info": {
      "codemirror_mode": {
        "name": "ipython",
        "version": 3
      },
      "file_extension": ".py",
      "mimetype": "text/x-python",
      "name": "python",
      "nbconvert_exporter": "python",
      "pygments_lexer": "ipython3",
      "version": "3.10.6"
    },
    "orig_nbformat": 4
  },
  "nbformat": 4,
  "nbformat_minor": 2
}
