{
  "cells": [
    {
      "cell_type": "code",
      "execution_count": 1,
      "metadata": {},
      "outputs": [
        {
          "name": "stderr",
          "output_type": "stream",
          "text": [
            "Spells: 100%|██████████| 201/201 [00:00<00:00, 447.55it/s]\n"
          ]
        }
      ],
      "source": [
        "from dfs.DFReader import get_asserted_spells_df\n",
        "\n",
        "spells_df = get_asserted_spells_df(verbose=True)"
      ]
    },
    {
      "cell_type": "code",
      "execution_count": 2,
      "metadata": {},
      "outputs": [
        {
          "data": {
            "text/markdown": [
              "<span style='color:None;font-size:None'>**Alterar-se _(Alter Self)_** lvl 2<br></span><span style='color:None;font-size:13px'>&emsp;**Escola(s):** elemental, ilusionista (_água, terra, fogo, ar, luz, sombras, relâmpago, metal, veneno_)<br>&emsp;**Tempo conjuração:** 1 ação<br>&emsp;**Alcance:** pessoal<br>&emsp;**Componentes:** VS<br>&emsp;**Mana:** 600 (_+ 15 a cada 5 minutos_)<br>&emsp;**Duração:** concentração, até 1 hora<br></span><span style='color:None;font-size:None'>Você assume uma forma diferente. Quando conjurar essa magia, escolha uma das seguintes opções, o efeito durará pela duração da magia. Enquanto a magia durar, você pode terminar uma opção com uma ação para ganhar os benefícios de uma diferente.<br>&emsp;**_Adaptação Aquática._** [Água] Você adapta seu corpo para um ambiente aquático, brotando guelras e crescendo membranas entre seus dedos. Você pode respirar embaixo d’água e ganha deslocamento de natação igual a seu deslocamento terrestre.<br>&emsp;**_Mudar Aparência._** [Ilusão] Você transforam sua aparência. Você decide com o que você parece, incluindo altura, peso, traços faciais, timbre da sua voz, comprimento do cabelo, coloração e características distintas, se tiverem. Você pode ficar parecido com um membro de outra raça, apesar de nenhuma de suas estatísticas mudar. Você também não pode parecer com uma criatura de um tamanho diferente do seu, e seu formado básico permanece o mesmo; se você for bípede, você não pode usar essa magia para se tornar quadrupede, por exemplo. A qualquer momento, pela duração da magia, você pode usar sua ação para mudar sua aparência dessa forma, novamente.<br>&emsp;**_Armas Naturais._** [Elemental] Você faz crescerem garras, presas, espinhos, chifres ou armas naturais diferentes, à sua escolha de acordo com seu elemento. Seus ataques desarmados causam 1d6 de dano de concussão, perfurante ou cortante, como apropriado para a arma natural que você escolheu, e você é proficiente com seus ataques desarmados. Finalmente, a arma natural é mágica e você tem +1 de bônus nas jogadas de ataque e dano que você fizer com ela.<br></span><span style='color:gray;font-size:11px'>[buff, dano, exploração, utilidade]<br></span><span style='color:gray;font-size:11px'>[arqueiro, bardo, guerreiro, ladino, mago, monge]<br></span><span style='color:gray;font-size:10px'>_LDJ_</span>"
            ],
            "text/plain": [
              "<IPython.core.display.Markdown object>"
            ]
          },
          "metadata": {},
          "output_type": "display_data"
        },
        {
          "name": "stdout",
          "output_type": "stream",
          "text": [
            "\n"
          ]
        },
        {
          "data": {
            "text/markdown": [
              "<span style='color:None;font-size:None'>**Arma Mágica _(Magic Weapon)_** lvl 2<br></span><span style='color:None;font-size:13px'>&emsp;**Escola(s):** elemental, necromancia, espiritual, ilusionista, musical, psíquica, receita (_água, terra, fogo, ar, luz, sombras, relâmpago, metal, veneno_)<br>&emsp;**Tempo conjuração:** 1 ação bônus<br>&emsp;**Alcance:** toque<br>&emsp;**Componentes:** VS<br>&emsp;**Mana:** 750 (_+ 10 a cada 5 minutos_)<br>&emsp;**Duração:** concentração, até 1 hora<br></span><span style='color:None;font-size:None'>Você toca uma arma não-magica. Até a magia acabar, a arma se torna uma arma mágica com +1 de bônus nas jogadas de ataque e jogadas de dano.<br>&emsp;**Melhorar Magia** Gastando um total de 5000 de mana e 50 de mana a cada 5 minutos, você torna a arma em uma arma +2. Gastando um total de 50000 de mana e 500 de mana a cada 5 minutos, você torna a arma em uma arma +3.<br></span><span style='color:gray;font-size:11px'>[arma, buff, dano, toque]<br></span><span style='color:gray;font-size:11px'>[arqueiro, bardo, guerreiro, ladino, mago, monge]<br></span><span style='color:gray;font-size:10px'>_LDJ_</span>"
            ],
            "text/plain": [
              "<IPython.core.display.Markdown object>"
            ]
          },
          "metadata": {},
          "output_type": "display_data"
        },
        {
          "name": "stdout",
          "output_type": "stream",
          "text": [
            "\n"
          ]
        },
        {
          "data": {
            "text/markdown": [
              "<span style='color:None;font-size:None'>**Aura Mágica Ilusionista (de Nystul) _(Arcanist's Magic Aura)_** lvl 2<br></span><span style='color:None;font-size:13px'>&emsp;**Escola(s):** ilusionista<br>&emsp;**Tempo conjuração:** 1 ação<br>&emsp;**Alcance:** toque<br>&emsp;**Componentes:** VSM _(um pequeno quadrado de seda)_<br>&emsp;**Mana:** 650<br>&emsp;**Duração:** 24 horas<br></span><span style='color:None;font-size:None'>Você coloca uma ilusão em uma criatura ou objeto que você tocar, então magias de adivinhação revelarão informações falsas sobre ele. O alvo pode ser uma criatura voluntária ou um objeto que não esteja sendo carregado ou vestido por outra criatura.  Quando você conjura essa magia, escolha um ou ambos os efeitos seguintes. O efeito permanece pela duração. Se você conjurar essa magia na mesma criatura ou objeto a cada dia por 30 dias, colocando o mesmo efeito nele todas as vezes, a ilusão durará até ser dissipada.<br>&emsp;**_Aura Falsa._** Você modifica a forma como o alvo aparece para magias e efeitos mágicos, como _detectar magia_, que detectam auras mágicas. Você pode fazer um objeto não-mágico parecer mágico ou mudar a aura mágica de um objeto para que ela pareça pertencer a outra escola de magia a sua escolha (exceto Atrativa e Pura). Quando você usar esse efeito num objeto, você pode fazer a aura falsa aparente a qualquer criatura que manusear o item.<br>&emsp;**_Máscara._** Você modifica a forma como o alvo aparece para magias e efeitos que detectam tipos de criaturas, como o Sentido Divino do paladino ou o gatilho de um magia _símbolo_. Você escolhe o tipo de criatura e outras magias e efeitos mágicos consideram o alvo como se ele fosse uma criatura desse tipo ou tendência.<br></span><span style='color:gray;font-size:11px'>[buff, detecção, toque, toque, utilidade]<br></span><span style='color:gray;font-size:11px'>[arqueiro, bardo, guerreiro, ladino, mago, monge]<br></span><span style='color:gray;font-size:10px'>_LDJ_</span>"
            ],
            "text/plain": [
              "<IPython.core.display.Markdown object>"
            ]
          },
          "metadata": {},
          "output_type": "display_data"
        },
        {
          "name": "stdout",
          "output_type": "stream",
          "text": [
            "\n"
          ]
        },
        {
          "data": {
            "text/markdown": [
              "<span style='color:None;font-size:None'>**Boca Encantada _(Magic Month)_** lvl 2<br></span><span style='color:None;font-size:13px'>&emsp;**Escola(s):** musical, receita<br>&emsp;**Tempo conjuração:** 1 minuto<br>&emsp;**Alcance:** 9 metros<br>&emsp;**Componentes:** VSM _(um pedaço de favo de mel e pó de jade valendo, no mínimo, 10 po, consumidos pela magia)_<br>&emsp;**Mana:** 850<br>&emsp;**Duração:** até ser dissipada<br></span><span style='color:None;font-size:None'>Você implanta uma mensagem em um objeto dentro do alcance, uma mensagem que é pronunciada quando uma condição de ativação é satisfeita. Escolha um objeto que você possa ver e não esteja sendo vestido ou carregado por outra criatura. Então, fale a mensagem, que deve conter 25 palavras ou menos, apesar de ela poder ser entregue durante um período de até 10 minutos. Finalmente, determine a circunstância que irá ativar a magia para que sua mensagem seja entregue.<br>&emsp;Quando essa circunstância ocorrer, a boca encantada aparecerá no objeto e recitará a mensagem com sua voz e com o mesmo volume que você falou. Se o objeto que você escolheu tiver uma boca ou algo semelhante a uma boca (por exemplo, a boca de uma estátua), a boca mágica aparece ai, então, as palavras parecerão vir da boca do objeto. Quando você conjura essa magia, você pode fazer a magia acabar depois de enviar sua mensagem ou ela pode permanecer e repetir a mensagem sempre que a circunstância de ativação ocorrer.<br>&emsp;A circunstância de ativação pode ser tão genérica ou tão detalhada quando você quiser, apesar de ela precisar ser baseada em condições visuais ou audíveis que ocorram a até 9 metros do objeto. Por exemplo, você pode instruir a boca a falar quando uma criatura se aproximar a menos de 9 metros do objeto ou quando um sino de prata tocar a menos de 9 metros dela.<br></span><span style='color:gray;font-size:11px'>[comunicação, utilidade]<br></span><span style='color:gray;font-size:11px'>[arqueiro, bardo, guerreiro, ladino, mago, monge]<br></span><span style='color:gray;font-size:10px'>_LDJ_</span>"
            ],
            "text/plain": [
              "<IPython.core.display.Markdown object>"
            ]
          },
          "metadata": {},
          "output_type": "display_data"
        },
        {
          "name": "stdout",
          "output_type": "stream",
          "text": [
            "\n"
          ]
        },
        {
          "data": {
            "text/markdown": [
              "<span style='color:None;font-size:None'>**Cegueira/Surdez _(Blindness/Deafness)_** lvl 2<br></span><span style='color:None;font-size:13px'>&emsp;**Escola(s):** necromancia, ilusionista, espiritual, musical, elemental (_luz, sombras_)<br>&emsp;**Tempo conjuração:** 1 ação<br>&emsp;**Alcance:** 9 metros<br>&emsp;**Componentes:** VS<br>&emsp;**Mana:** 700<br>&emsp;**Duração:** 1 minuto<br></span><span style='color:None;font-size:None'>Você pode cegar ou ensurdecer um oponente. Escolha uma criatura que você possa ver dentro do alcance para fazer um teste de resistência de Constituição. Se ela falhar, ficará ou cega ou surda (à sua escolha) pela duração. No final de cada um dos turnos dele, o alvo pode realizar um teste de resistência de Constituição. Se obtiver sucesso, a magia termina.<br>&emsp;[Musical] Você pode apenas utilizar essa magia para deixar uma criatura surda.<br>&emsp;[Luz|Ilusão] Você pode apenas cegar um oponente.<br>&emsp;[Necromancia] Você não pode utilizar essa magia em corruptores, mortos-vivos ou aberrações.<br>&emsp;[Espiritual] Você não pode utilizar essa magia em celestiais ou fadas.<br>&emsp;**Melhorar Magia**. Para cada 1000 pontos de mana adicionais gastos, adicione mais um alvo para a magia até um total de 5 alvos máximos.<br></span><span style='color:gray;font-size:11px'>[controle, debuff]<br></span><span style='color:gray;font-size:11px'>[arqueiro, bardo, guerreiro, ladino, mago, monge]<br></span><span style='color:gray;font-size:10px'>_LDJ_</span>"
            ],
            "text/plain": [
              "<IPython.core.display.Markdown object>"
            ]
          },
          "metadata": {},
          "output_type": "display_data"
        },
        {
          "name": "stdout",
          "output_type": "stream",
          "text": [
            "\n"
          ]
        },
        {
          "data": {
            "text/markdown": [
              "<span style='color:None;font-size:None'>**Chama Contínua _(Continual Flame)_** lvl 2<br></span><span style='color:None;font-size:13px'>&emsp;**Escola(s):** elemental (_fogo, luz, relâmpago_)<br>&emsp;**Tempo conjuração:** 1 ação<br>&emsp;**Alcance:** toque<br>&emsp;**Componentes:** VSM _(pó de rubi no valor de 50 po, consumido pela magia)_<br>&emsp;**Mana:** 1500<br>&emsp;**Duração:** até ser dissipada<br></span><span style='color:None;font-size:None'>Uma chama, que produz iluminação equivalente a uma tocha, surge de um objeto que você tocar. O efeito é parecido com o de uma chama normal, mas ele não produz calor e não consome oxigênio. Uma chama continua pode ser coberta ou escondida, mas não sufocada ou extinta.<br></span><span style='color:gray;font-size:11px'>[defesa, toque, utilidade]<br></span><span style='color:gray;font-size:11px'>[arqueiro, bardo, mago]<br></span><span style='color:gray;font-size:10px'>_LDJ_</span>"
            ],
            "text/plain": [
              "<IPython.core.display.Markdown object>"
            ]
          },
          "metadata": {},
          "output_type": "display_data"
        },
        {
          "name": "stdout",
          "output_type": "stream",
          "text": [
            "\n"
          ]
        },
        {
          "data": {
            "text/markdown": [
              "<span style='color:None;font-size:None'>**Chicote Mental (de Tasha) _(Tasha's Mind Whip)_** lvl 2<br></span><span style='color:None;font-size:13px'>&emsp;**Escola(s):** ilusionista, musical<br>&emsp;**Tempo conjuração:** 1 ação<br>&emsp;**Alcance:** 27 metros<br>&emsp;**Componentes:** V<br>&emsp;**Mana:** 900<br>&emsp;**Duração:** 1 rodada<br>&emsp;**Dano**: 3d6<br>&emsp;**Attack/Save:** INT Save<br>&emsp;**Dmg/effect:** psíquico<br></span><span style='color:None;font-size:None'>Você enlaça psiquicamente uma criatura a sua vista dentro do alcance. O alvo deve ser bem-sucedido em uma salvaguarda de Inteligência. Em caso de falha, O alvo sofre 3d6 de dano psíquico, e não pode realizar reações até o final do próximo turno dele. Além disso, no próximo turno dele, ele deve escolher entre se mover, realizar uma ação, ou realizar uma ação bônus; ele pode fazer apenas uma das três coisas. Caso passe na salvaguarda, o alvo recebe metade do dano e não sofre os outros efeitos da magia.<br>&emsp;**Melhorar Magia**. Para cada 1200 de mana adicionais gastos, você pode adicionar mais uma criatura como alvo da magia até um total de 5 criaturas. Elas devem estar até 9m de distância umas das outras quando você as marcar como alvo.<br></span><span style='color:gray;font-size:11px'>[controle, dano, debuff]<br></span><span style='color:gray;font-size:11px'>[arqueiro, bardo, guerreiro, ladino, mago, monge]<br></span><span style='color:gray;font-size:10px'>_Tasha_</span>"
            ],
            "text/plain": [
              "<IPython.core.display.Markdown object>"
            ]
          },
          "metadata": {},
          "output_type": "display_data"
        },
        {
          "name": "stdout",
          "output_type": "stream",
          "text": [
            "\n"
          ]
        },
        {
          "data": {
            "text/markdown": [
              "<span style='color:None;font-size:None'>**Convocar Montaria _(Find Steed)_** lvl 2 (Rara)<br></span><span style='color:None;font-size:13px'>&emsp;**Escola(s):** invocação, necromancia, espiritual<br>&emsp;**Tempo conjuração:** 10 minutos<br>&emsp;**Alcance:** 9 metros<br>&emsp;**Componentes:** VS<br>&emsp;**Mana:** 1400<br>&emsp;**Duração:** instantânea<br></span><span style='color:None;font-size:None'>Você convoca um espírito que assume a forma de uma montaria excepcionalmente inteligente, forte e leal, criando uma ligação duradoura com ela. Aparecendo em um espaço desocupado dentro do alcance, a montaria adquire a forma que você escolher, como um cavalo de guerra, um pônei, um camelo, um alce ou um mastim.  (Seu Mestre pode permitir outros animais para serem convocados como montarias.) A montaria tem as estatísticas da forma escolhida, no entanto, ele é um celestial, corruptor ou fada (à sua escolha) ao invés do seu tipo normal. Além disso, se sua montaria tiver Inteligência 5 ou menor, a Inteligência dela se torna 6 e ela ganha a capacidade de compreender um idioma, à sua escolha, que você fala.<br>&emsp;Sua montaria serve tanto para cavalgar quando para o combate e você tem uma ligação instintiva com ela que permite a vocês lutarem como uma unidade singular.  Enquanto estiver montado na sua montaria, você pode fazer com que qualquer magia que você conjure que tenha alcance pessoal, também afete a sua montaria.<br>&emsp;Quando a montaria cair a 0 pontos de vida, ela desaparece, não deixando qualquer corpo físico para trás.  Você também pode dispensar sua montaria a qualquer momento, com uma ação, fazendo-a desaparecer. Em ambos os casos, conjurar essa magia novamente convocará a mesma montaria, restaurando-a ao seu máximo de pontos de vida.<br>&emsp;Enquanto sua montaria estiver a até 1,5 quilômetro de você, você pode se comunicar telepaticamente com ela.<br>&emsp;Você não pode ter mais de uma montaria ligado por essa magia por vez. Com uma ação, você pode liberar a montaria da ligação a qualquer momento, fazendo-a desaparecer.<br></span><span style='color:gray;font-size:11px'>[comunicação, dano, exploração]<br></span><span style='color:gray;font-size:11px'>[arqueiro, bardo, guerreiro, mago]<br></span><span style='color:gray;font-size:10px'>_LDJ_</span>"
            ],
            "text/plain": [
              "<IPython.core.display.Markdown object>"
            ]
          },
          "metadata": {},
          "output_type": "display_data"
        },
        {
          "name": "stdout",
          "output_type": "stream",
          "text": [
            "\n"
          ]
        },
        {
          "data": {
            "text/markdown": [
              "<span style='color:None;font-size:None'>**Despedaçar _(Shatter)_** lvl 2<br></span><span style='color:None;font-size:13px'>&emsp;**Escola(s):** elemental, musical (_ar, sombras, relâmpago, metal, veneno_)<br>&emsp;**Tempo conjuração:** 1 ação<br>&emsp;**Alcance:** 18 metros<br>&emsp;**Componentes:** VSM _(uma lasca de mica)_<br>&emsp;**Mana:** 800<br>&emsp;**Duração:** instantânea<br>&emsp;**Dano**: 3d8<br>&emsp;**Attack/Save:** CON Save<br>&emsp;**Dmg/effect:** elemental<br></span><span style='color:None;font-size:None'>Um alto som estridente, dolorosamente intenso, emerge de um ponto, à sua escolha, dentro do alcance. Cada criatura, numa esfera de 3 metros de raio, centrada no ponto deve fazer um teste de resistência de Constituição.<br>&emsp;Uma criatura sofre 3d8 de dano elemental se falhar na resistência ou metade desse dano se obtiver sucesso.<br>&emsp;[Relâmpago|Metal|Veneno] Uma criatura feita de material orgânico tem desvantagem nesse teste de resistência.<br>&emsp;[Sombras] Uma criatura feita de material inorgânico como pedra, cristal ou metal, tem desvantagem nesse teste de resistência.<br>&emsp;Um objeto não-mágico que não esteja sendo vestido ou carregado, também sofre o dano, se estiver na área da magia.<br>&emsp;**Melhorar Magia**. Para cada 1000 de mana adicionais, adicione 1d8 ao dano da magia.<br></span><span style='color:gray;font-size:11px'>[dano]<br></span><span style='color:gray;font-size:11px'>[arqueiro, bardo, mago, monge]<br></span><span style='color:gray;font-size:10px'>_LDJ_</span>"
            ],
            "text/plain": [
              "<IPython.core.display.Markdown object>"
            ]
          },
          "metadata": {},
          "output_type": "display_data"
        },
        {
          "name": "stdout",
          "output_type": "stream",
          "text": [
            "\n"
          ]
        },
        {
          "data": {
            "text/markdown": [
              "<span style='color:None;font-size:None'>**Detectar Pensamentos _(Detect Thoughts)_** lvl 2<br></span><span style='color:None;font-size:13px'>&emsp;**Escola(s):** psíquica<br>&emsp;**Tempo conjuração:** 1 ação<br>&emsp;**Alcance:** 9 metros<br>&emsp;**Componentes:** VSM _(um pedaço de cobre)_<br>&emsp;**Mana:** 600 (_+ 10 por turno_)<br>&emsp;**Duração:** concentração, até 1 minuto<br>&emsp;**Attack/Save:** WIS Save<br></span><span style='color:None;font-size:None'>Pela duração, você pode ler os pensamentos de certas criaturas. Quando você conjura essa magia e, com sua ação e 10 de mana a cada turno até o fim da magia, você pode focar sua mente em qualquer criatura que você puder ver a até 9 metros de você. Se a criatura escolhida possuir Inteligência 3 ou inferior ou não falar nenhum tipo de idioma, a criatura não poderá ser afetada.<br>&emsp;Você, inicialmente, descobre os pensamentos superficiais da criatura – o que está mais presente na sua mente no momento. Com uma ação e 10 de mana, você pode tanto mudar sua atenção para os pensamentos de outra criatura, como tentar sondar mais profundamente na mente da mesma criatura. Se você resolver sondar profundamente, a criatura deve realizar um teste de resistência de Sabedoria. Se falhar, você ganha ciência do seu raciocínio (se possuir), seu estado emocional e algo que tome grande parte da sua mente (como algo que ele se preocupe, amores ou ódios). Se ele for bem sucedido, a magia termina. Em ambas situações, o alvo saberá que você está sondando a mente dele e, a não ser que você mude sua atenção para os pensamentos de outra criatura, a criatura pode usar a ação dela, no turno dela, para realizar um teste de Inteligência resistido por seu teste de Inteligência; se ela for bem sucedida, a magia termina.<br>&emsp;Perguntas feitas diretamente para a criatura alvo, normalmente moldarão o curso dos seus pensamentos, portanto, essa magia é particularmente eficiente como parte de um interrogatório.<br>&emsp;Você pode, também, usar essa magia para detectar a presença que criaturas pensantes que você não possa ver.  Quando você conjura essa magia ou, com sua ação e 20 de mana enquanto ela durar, você pode procurar por pensamentos a até 9 metros de você. A magia pode penetrar a maioria das barreiras, mas é bloqueada por 30 centímetros de rocha, 2,5 centímetros de metal comum, uma fina camada de chumbo, ou 90 centímetros de madeira ou terra. Você não pode detectar uma criatura com Inteligência 3 ou inferior ou uma que não fale qualquer idioma.<br>&emsp;Uma vez que você tenha detectado a presença de uma criatura dessa forma, você pode ler os pensamentos dela pelo resto da duração, como descrito acima, mesmo que você não possa vê-la, mas ela ainda precisa estar dentro do alcance.<br></span><span style='color:gray;font-size:11px'>[detecção, exploração, social]<br></span><span style='color:gray;font-size:11px'>[arqueiro, bardo, guerreiro, ladino, mago, monge]<br></span><span style='color:gray;font-size:10px'>_LDJ_</span>"
            ],
            "text/plain": [
              "<IPython.core.display.Markdown object>"
            ]
          },
          "metadata": {},
          "output_type": "display_data"
        },
        {
          "name": "stdout",
          "output_type": "stream",
          "text": [
            "\n"
          ]
        },
        {
          "data": {
            "text/markdown": [
              "<span style='color:None;font-size:None'>**Discurso Enganoso _(Gift of Gab)_** lvl 2<br></span><span style='color:None;font-size:13px'>&emsp;**Escola(s):** psíquica<br>&emsp;**Tempo conjuração:** 1 reação<br>&emsp;**Alcance:** pessoal<br>&emsp;**Componentes:** VSM _(2 po)_<br>&emsp;**Mana:** 700<br>&emsp;**Duração:** instantânea<br></span><span style='color:None;font-size:None'>Quando você conjura essa magia, você habilidosa mente reformula as memórias dos seus ouvintes próximos. Cada criatura a sua escolha até 1,5 metros de você esquece tudo o que você falou nos últimos 6 segundos. Essas criaturas então se lembram apenas das palavras que você falou para conjurar a magia.<br></span><span style='color:gray;font-size:11px'>[social]<br></span><span style='color:gray;font-size:11px'>[arqueiro, bardo, guerreiro, ladino, mago, monge]<br></span><span style='color:gray;font-size:10px'>_LDJ_</span>"
            ],
            "text/plain": [
              "<IPython.core.display.Markdown object>"
            ]
          },
          "metadata": {},
          "output_type": "display_data"
        },
        {
          "name": "stdout",
          "output_type": "stream",
          "text": [
            "\n"
          ]
        },
        {
          "data": {
            "text/markdown": [
              "<span style='color:None;font-size:None'>**Emprestar Conhecimento _(Borrowed Knowledge)_** lvl 2<br></span><span style='color:None;font-size:13px'>&emsp;**Escola(s):** espiritual<br>&emsp;**Tempo conjuração:** 1 ação<br>&emsp;**Alcance:** pessoal<br>&emsp;**Componentes:** VSM _(um livro que custe pelo menos 25 po)_<br>&emsp;**Mana:** 1000<br>&emsp;**Duração:** 1 hora<br></span><span style='color:None;font-size:None'>Você recebe conhecimento de espíritos do passado. Você escolhe uma proficiência na qual não seja proficiente. Pela duração da magia, você é proficiente na proficiência. A magia termina antecipadamente se você conjurá-la novamente.<br></span><span style='color:gray;font-size:11px'>[buff]<br></span><span style='color:gray;font-size:11px'>[arqueiro, bardo, guerreiro, ladino, mago, monge]<br></span><span style='color:gray;font-size:10px'>_Etc._</span>"
            ],
            "text/plain": [
              "<IPython.core.display.Markdown object>"
            ]
          },
          "metadata": {},
          "output_type": "display_data"
        },
        {
          "name": "stdout",
          "output_type": "stream",
          "text": [
            "\n"
          ]
        },
        {
          "data": {
            "text/markdown": [
              "<span style='color:None;font-size:None'>**Encontrar Armadilhas _(Find Traps)_** lvl 2<br></span><span style='color:None;font-size:13px'>&emsp;**Escola(s):** espiritual<br>&emsp;**Tempo conjuração:** 1 ação<br>&emsp;**Alcance:** 36 metros<br>&emsp;**Componentes:** VS<br>&emsp;**Mana:** 700<br>&emsp;**Duração:** instantânea<br></span><span style='color:None;font-size:None'>Você sente a presença de qualquer armadilha dentro do alcance a qual você tenha linha de visão. Uma armadilha, para os propósitos dessa magia, inclui qualquer coisa que possa causar um efeito repentino ou inesperado em você, considerado nocivo ou indesejável, que foi especificamente planejado para ser por seu criador. Portanto, a magia sentirá a área afetada pela magia alarme, um glifo de vigilância ou uma armadilha mecânica de fosso, mas ela não revelará uma fragilidade natural no piso, um teto instável ou um sumidouro escondido.<br>&emsp;Essa magia apenas revela que existe uma magia presente. Você não descobre a localização de cada armadilha, mas você também descobre a natureza genérica do perigo representando pela armadilha que você sentiu.<br></span><span style='color:gray;font-size:11px'>[defesa, detecção, exploração]<br></span><span style='color:gray;font-size:11px'>[arqueiro, bardo, guerreiro, ladino, mago, monge]<br></span><span style='color:gray;font-size:10px'>_LDJ_</span>"
            ],
            "text/plain": [
              "<IPython.core.display.Markdown object>"
            ]
          },
          "metadata": {},
          "output_type": "display_data"
        },
        {
          "name": "stdout",
          "output_type": "stream",
          "text": [
            "\n"
          ]
        },
        {
          "data": {
            "text/markdown": [
              "<span style='color:None;font-size:None'>**Escrita Celeste _(Skywrite)_** lvl 2<br></span><span style='color:None;font-size:13px'>&emsp;**Escola(s):** elemental, ilusionista (_ar_)<br>&emsp;**Tempo conjuração:** 1 ação<br>&emsp;**Alcance:** pessoal<br>&emsp;**Componentes:** VS<br>&emsp;**Mana:** 700<br>&emsp;**Duração:** 1 hora<br></span><span style='color:None;font-size:None'>Você cria até dez palavras em uma parte do céu que você consiga ver. As palavras parecem ser feitas de nuvens e ficam lá até o final do feitiço.<br>&emsp;[Ar] Um vento forte pode fazer as palavras desaparecerem.<br></span><span style='color:gray;font-size:11px'>[comunicação]<br></span><span style='color:gray;font-size:11px'>[arqueiro, bardo, guerreiro, ladino, mago, monge]<br></span><span style='color:gray;font-size:10px'>_LDJ_</span>"
            ],
            "text/plain": [
              "<IPython.core.display.Markdown object>"
            ]
          },
          "metadata": {},
          "output_type": "display_data"
        },
        {
          "name": "stdout",
          "output_type": "stream",
          "text": [
            "\n"
          ]
        },
        {
          "data": {
            "text/markdown": [
              "<span style='color:None;font-size:None'>**Escuridão _(Darkness)_** lvl 2<br></span><span style='color:None;font-size:13px'>&emsp;**Escola(s):** elemental, necromancia (_sombras_)<br>&emsp;**Tempo conjuração:** 1 ação<br>&emsp;**Alcance:** 18 metros<br>&emsp;**Componentes:** VM _(pelo de morcego e uma gota de piche ou pedaço de carvão)_<br>&emsp;**Mana:** 600 (_+ 10 por minuto_)<br>&emsp;**Duração:** concentração, até 10 minutos<br></span><span style='color:None;font-size:None'>Escuridão mágica se espalha a partir de um ponto, à sua escolha, dentro do alcance e preenche uma esfera de 4,5 metros de raio pela duração. A escuridão se estende, dobrando esquinas. Uma criatura com visão no escuro não pode ver através dessa escuridão e luz não-mágica não pode iluminar dentro dela.<br>&emsp;Se o ponto que você escolheu for um objeto que você esteja segurando, ou um que não esteja sendo vestido ou carregado, a escuridão emanará do objeto e se moverá com ele. Cobrir completamente a fonte da escuridão com um objeto opaco, como uma vasilha ou um elmo, bloqueará a escuridão.<br>&emsp;Se qualquer área dessa magia sobrepor uma área de luz criada por uma magia de 2° ou inferior, a magia que criou a luz será dissipada.<br></span><span style='color:gray;font-size:11px'>[controle, debuff]<br></span><span style='color:gray;font-size:11px'>[arqueiro, bardo, guerreiro, ladino, mago, monge]<br></span><span style='color:gray;font-size:10px'>_LDJ_</span>"
            ],
            "text/plain": [
              "<IPython.core.display.Markdown object>"
            ]
          },
          "metadata": {},
          "output_type": "display_data"
        },
        {
          "name": "stdout",
          "output_type": "stream",
          "text": [
            "\n"
          ]
        },
        {
          "data": {
            "text/markdown": [
              "<span style='color:None;font-size:None'>**Espinho Mental _(Mind Spike)_** lvl 2<br></span><span style='color:None;font-size:13px'>&emsp;**Escola(s):** psíquica<br>&emsp;**Tempo conjuração:** 1 ação<br>&emsp;**Alcance:** 18 metros<br>&emsp;**Componentes:** S<br>&emsp;**Mana:** 800 (_+ 10 a cada 10 minutos_)<br>&emsp;**Duração:** concentração, até 1 hora<br>&emsp;**Dano**: 3d8<br>&emsp;**Attack/Save:** WIS Save<br>&emsp;**Dmg/effect:** psíquico<br></span><span style='color:None;font-size:None'>Você alcança a mente de uma criatura que você pode ver dentro do alcance. O alvo deve fazer um teste de resistência de Sabedoria, sofrendo 3d8 de dano psíquico em um teste falho, ou metade do dano em um sucesso. Em uma falha do teste de resistência, você também sempre conhece a localização do alvo até a magia terminar, mas somente enquanto vocês dois estiverem no mesmo plano de existência. Enquanto você tiver esse conhecimento, o alvo não pode se esconder de você, e se for invisível, não ganha nenhum beneficio dessa condição contra você.<br>&emsp;**Melhorar Magia**. Para cada 500 de mana adicionais, você adiciona mais 1d8 ao dano, até um máximo de 5d8 adicionais.<br></span><span style='color:gray;font-size:11px'>[dano, debuff, detecção]<br></span><span style='color:gray;font-size:11px'>[arqueiro, bardo, guerreiro, ladino, mago, monge]<br></span><span style='color:gray;font-size:10px'>_Xanathar_</span>"
            ],
            "text/plain": [
              "<IPython.core.display.Markdown object>"
            ]
          },
          "metadata": {},
          "output_type": "display_data"
        },
        {
          "name": "stdout",
          "output_type": "stream",
          "text": [
            "\n"
          ]
        },
        {
          "data": {
            "text/markdown": [
              "<span style='color:None;font-size:None'>**Flecha Perfurante _(Custom)_** lvl 2<br></span><span style='color:None;font-size:13px'>&emsp;**Escola(s):** elemental (_água, terra, fogo, ar, luz, sombras, relâmpago, metal, veneno_)<br>&emsp;**Tempo conjuração:** 1 ação<br>&emsp;**Alcance:** pessoal<br>&emsp;**Componentes:** VSM _(um pouco de pó de prata)_<br>&emsp;**Mana:** 650<br>&emsp;**Duração:** instantânea<br>&emsp;**Dano**: 1d6<br>&emsp;**Attack/Save:** DEX Save<br>&emsp;**Dmg/effect:** elemental<br></span><span style='color:None;font-size:None'>Você utiliza uma arma de ataque à distância com a propriedade munição para fazer um ataque a um inimigo dentro do alcance dessa arma. O alvo deve fazer um teste de resistência de Força. Se ele já tiver sofrido dano ou não estiver usando armadura ele o faz com desvantagem. Em uma falha, o alvo recebe os efeitos normais do ataque e mais 2d8 de dano elemental extra. Além disso, a energia elemental utilizada no disparo atravessa e continua em linha reta até atingir outro alvo, terminar o alcance da arma ou atingir um obstáculo.<br>Sempre que um novo alvo for atingido pelo disparo, ele deve fazer o mesmo teste de resistência de Força. O disparo continua enquanto os alvos falharem no teste. Assim que o primeiro alvo atingido obtiver um sucesso, ele recebe apenas metade do dano extra e o disparo para nele.<br>Apenas o primeiro alvo receberá os efeitos normais do ataque, os outros recebem apenas o dano extra.<br></span><span style='color:gray;font-size:11px'>[arma, dano, distância]<br></span><span style='color:gray;font-size:11px'>[arqueiro, bardo, guerreiro, ladino, mago, monge, xamã]<br></span><span style='color:gray;font-size:10px'>_LDJ_</span>"
            ],
            "text/plain": [
              "<IPython.core.display.Markdown object>"
            ]
          },
          "metadata": {},
          "output_type": "display_data"
        },
        {
          "name": "stdout",
          "output_type": "stream",
          "text": [
            "\n"
          ]
        },
        {
          "data": {
            "text/markdown": [
              "<span style='color:None;font-size:None'>**Flecha Ácida (de Melf) _(Acid Arrow)_** lvl 2<br></span><span style='color:None;font-size:13px'>&emsp;**Escola(s):** elemental (_veneno_)<br>&emsp;**Tempo conjuração:** 1 ação<br>&emsp;**Alcance:** 36 metros<br>&emsp;**Componentes:** VSM _(folha de ruibarbo em pó eo estômago de uma víbora)_<br>&emsp;**Mana:** 550<br>&emsp;**Duração:** instantânea<br>&emsp;**Dano**: 4d4 + 2d4<br>&emsp;**Attack/Save:** distância<br>&emsp;**Dmg/effect:** ácido<br></span><span style='color:None;font-size:None'>Você cospe uma flecha esverdeada cintilante que voa em direção de um alvo dentro do alcance e explode em um jato de ácido.<br>&emsp;Faça um ataque à distância com magia contra o alvo. Se atingir, o alvo sofre 4d4 de dano de ácido imediatamente e 2d4 de dano de ácido no final do próximo turno dele. Se errar, a flecha salpica o alvo com ácido, causando metade do dano inicial e nenhum dano no final do próximo turno dele.<br>&emsp;**Melhorar Magia**. Para cada 550 de mana gastos adicionalmente, você pode adicionar mais 1d4 ao dano inicial e final.<br></span><span style='color:gray;font-size:11px'>[dano, distância]<br></span><span style='color:gray;font-size:11px'>[arqueiro, bardo, guerreiro, ladino, mago, monge]<br></span><span style='color:gray;font-size:10px'>_LDJ_</span>"
            ],
            "text/plain": [
              "<IPython.core.display.Markdown object>"
            ]
          },
          "metadata": {},
          "output_type": "display_data"
        },
        {
          "name": "stdout",
          "output_type": "stream",
          "text": [
            "\n"
          ]
        },
        {
          "data": {
            "text/markdown": [
              "<span style='color:None;font-size:None'>**Força Fantasmagórica _(Phantasmal Force)_** lvl 2<br></span><span style='color:None;font-size:13px'>&emsp;**Escola(s):** ilusionista, psíquica<br>&emsp;**Tempo conjuração:** 1 ação<br>&emsp;**Alcance:** 18 metros<br>&emsp;**Componentes:** VSM _(um pouco de lã)_<br>&emsp;**Mana:** 800 (_+ 5 por turno_)<br>&emsp;**Duração:** concentração, até 1 minuto<br>&emsp;**Dano**: 1d6<br>&emsp;**Attack/Save:** INT Save<br>&emsp;**Dmg/effect:** psíquico<br></span><span style='color:None;font-size:None'>Você constrói uma ilusão que se enraíza na mente de uma criatura que você possa ver, dentro do alcance. O alvo deve realizar um teste de resistência de Inteligência. Se falhar na resistência, você cria um objeto, criatura ou outro fenômeno visível – porém, fantasmagórico – à sua escolha, com não mais de 3 metros cúbicos e que será percebido apenas pelo alvo, pela duração. Essa magia não afeta mortos-vivos ou constructos.<br>&emsp;O fantasma inclui som, temperatura e outros estímulos, também evidentes apenas para o alvo.<br>&emsp;O alvo pode usar sua ação para examinar o fantasma com um teste de Inteligência (Investigação) contra a CD da as magia. Se for bem sucedido, o alvo percebe que o fantasma é uma ilusão e a magia acaba.<br>&emsp;Enquanto o alvo estiver sob efeito dessa magia, ele considerará o fantasma como sendo real. O alvo racionalizará quaisquer resultados ilógicos ao interagir com o fantasma. Por exemplo, um alvo tentado atravessar uma ponte fantasmagórica que atravesse um abismo, cairá quando pisar na ponte. Se o alvo sobreviver a queda, ele ainda acreditará que a ponte existe e procurará outra explicação para a sua queda – ele foi puxado, ele escorregou ou um vento forte pode ter o jogado pra fora.<br>&emsp;Um alvo afetado está tão convencido da realidade do fantasma que pode até mesmo sofrer dano da ilusão. Um fantasma criado para se parecer com uma criatura pode atacar o alvo. Similarmente, um fantasma criado para se parecer com fogo, um poço de ácido ou lava, podem queimar o alvo. A cada rodada, no seu turno, o fantasma pode causar 1d6 de dano psíquico no alvo, se ele estiver na área do fantasma ou a 1,5 metro dele, considerando que a ilusão é de uma criatura ou perigo que, logicamente, possa causar dano, como por atacar. O alvo entende o dano como sendo de um tipo apropriado para a ilusão.<br></span><span style='color:gray;font-size:11px'>[dano, debuff]<br></span><span style='color:gray;font-size:11px'>[arqueiro, bardo, guerreiro, ladino, mago, monge]<br></span><span style='color:gray;font-size:10px'>_LDJ_</span>"
            ],
            "text/plain": [
              "<IPython.core.display.Markdown object>"
            ]
          },
          "metadata": {},
          "output_type": "display_data"
        },
        {
          "name": "stdout",
          "output_type": "stream",
          "text": [
            "\n"
          ]
        },
        {
          "data": {
            "text/markdown": [
              "<span style='color:None;font-size:None'>**Invocar Lâmina Elemental (Lâmina Flamejante) _(Flame Blade)_** lvl 2<br></span><span style='color:None;font-size:13px'>&emsp;**Escola(s):** elemental (_água, terra, fogo, ar, luz, sombras, relâmpago, metal, veneno_)<br>&emsp;**Tempo conjuração:** 1 ação bônus<br>&emsp;**Alcance:** pessoal<br>&emsp;**Componentes:** VSM _(folha de sumagre)_<br>&emsp;**Mana:** 700 (_+ 10 por minuto_)<br>&emsp;**Duração:** concentração, até 10 minutos<br>&emsp;**Dano**: 3d6<br>&emsp;**Attack/Save:** corpo-a-corpo<br>&emsp;**Dmg/effect:** elemental<br></span><span style='color:None;font-size:None'>Você evoca uma lâmina elemental ardente em sua mão livre. A lâmina é similar em tamanho e formato a uma cimitarra e ela permanece pela duração. Se você soltar a lâmina, ela desaparece, mas você pode evocar a lâmina novamente com uma ação bônus e gastando apenas mais 50 de mana.<br>&emsp;Você pode usar sua ação para realizar ataques corpo-a-corpo com magia com a lâmina ardente. Se atingir, o alvo sofrerá 3d6 de dano elemental.<br>&emsp;Você pode gastar mais 500 de mana para fazer que, no seu próximo ataque, a lâmina exploda no alvo, causa mais 2d6 de dano elemental extra e suma. Se você usar essa opção e errar, o alvo recebe apenas 2d6 de dano e a lâmina explode, desaparecendo.<br>&emsp;[Fogo|Luz|Relâmpago] A lâmina elemental emite luz plena a 3 metros de raio e penumbra por mais 3 metros adicionais.<br>&emsp;**Melhorar Magia**. Para cada 550 pontos de mana adicionais gastos, adicione 1d6 ao dano até um máximo de 6d6 adicionais.<br></span><span style='color:gray;font-size:11px'>[corpo-a-corpo, dano]<br></span><span style='color:gray;font-size:11px'>[arqueiro, bardo, guerreiro, ladino, mago, monge]<br></span><span style='color:gray;font-size:10px'>_LDJ_</span>"
            ],
            "text/plain": [
              "<IPython.core.display.Markdown object>"
            ]
          },
          "metadata": {},
          "output_type": "display_data"
        },
        {
          "name": "stdout",
          "output_type": "stream",
          "text": [
            "\n"
          ]
        },
        {
          "data": {
            "text/markdown": [
              "<span style='color:None;font-size:None'>**Localizar Animais ou Plantas _(Locate Animals or Plants)_** lvl 2<br></span><span style='color:None;font-size:13px'>&emsp;**Escola(s):** elemental (_terra_)<br>&emsp;**Tempo conjuração:** 1 ação<br>&emsp;**Alcance:** pessoal<br>&emsp;**Componentes:** VSM _(um pouco de pelo de um cão de caça)_<br>&emsp;**Mana:** 750<br>&emsp;**Duração:** instantânea<br></span><span style='color:None;font-size:None'>Descreva ou nomeia um tipo específico de besta ou planta. Concentra-se na voz da natureza ao seu redor, você descobre a direção e distância da criatura ou plana mais próxima desse tipo dentro de 7,5 quilômetros, se houver alguma presente.<br></span><span style='color:gray;font-size:11px'>[detecção, exploração]<br></span><span style='color:gray;font-size:11px'>[arqueiro, bardo, guerreiro, ladino, mago, monge]<br></span><span style='color:gray;font-size:10px'>_LDJ_</span>"
            ],
            "text/plain": [
              "<IPython.core.display.Markdown object>"
            ]
          },
          "metadata": {},
          "output_type": "display_data"
        },
        {
          "name": "stdout",
          "output_type": "stream",
          "text": [
            "\n"
          ]
        },
        {
          "data": {
            "text/markdown": [
              "<span style='color:None;font-size:None'>**Localizar Objeto _(Locate Object)_** lvl 2<br></span><span style='color:None;font-size:13px'>&emsp;**Escola(s):** elemental, receita (_terra, metal_)<br>&emsp;**Tempo conjuração:** 1 ação<br>&emsp;**Alcance:** pessoal<br>&emsp;**Componentes:** VSM _(um galho bifurcado)_<br>&emsp;**Mana:** 750 (_+ 10 por minuto_)<br>&emsp;**Duração:** concentração, até 10 minutos<br></span><span style='color:None;font-size:None'>Descreva ou nomeie um objeto que seja familiar a você. Você sente a direção da localização do objeto, contanto que o objeto esteja a até 300 metros de você. Se o objeto estiver em movimento, você saberá a direção do movimento dele.<br>&emsp;A magia pode localizar um objeto especifico que você, desde que você já tenha o visto de perto – a até 9 metros – pelo menos uma vez. Alternativamente, a magia pode localizar o objeto de um tipo em particular mais próximo, como certo tipo de vestuário, joia, móvel, ferramenta ou arma.<br>&emsp;Essa magia não pode localizar um objeto se qualquer espessura de chumbo, até mesmo uma folha fina, bloquear o caminho direto entre você e o objeto.<br>&emsp;[Metal] Você pode detectar apenas objetos de metal.<br>&emsp;[Terra] Você pode detectar apenas objetos de madeira.<br>&emsp;[Receita] Você pode colocar uma receita de _Localizar Objeto_ em qualquer objeto.<br></span><span style='color:gray;font-size:11px'>[detecção, exploração]<br></span><span style='color:gray;font-size:11px'>[arqueiro, bardo, guerreiro, ladino, mago, monge]<br></span><span style='color:gray;font-size:10px'>_LDJ_</span>"
            ],
            "text/plain": [
              "<IPython.core.display.Markdown object>"
            ]
          },
          "metadata": {},
          "output_type": "display_data"
        },
        {
          "name": "stdout",
          "output_type": "stream",
          "text": [
            "\n"
          ]
        },
        {
          "data": {
            "text/markdown": [
              "<span style='color:None;font-size:None'>**Lufada de Vento _(Gust of Wind)_** lvl 2<br></span><span style='color:None;font-size:13px'>&emsp;**Escola(s):** elemental (_ar_)<br>&emsp;**Tempo conjuração:** 1 ação<br>&emsp;**Alcance:** pessoal<br>&emsp;**Componentes:** VSM _(uma semente de legume)_<br>&emsp;**Mana:** 700 (_+ 10 por turno_)<br>&emsp;**Duração:** concentração, até 1 minuto<br>&emsp;**Attack/Save:** STR Save<br></span><span style='color:None;font-size:None'>Uma linha de vento forte, com 18 metros de comprimento e 3 metros de largura, é soprada de você em uma direção, à sua escolha, pela duração da magia. Cada criatura que começar seu turno na linha, deve ser bem sucedida num teste de resistência de Força ou será empurrada 4,5 metros para trás, na direção seguida pela linha. Qualquer criatura na linha deve gastar 3 metros de movimentação para cada 1,5 metro que ela se mover enquanto se aproxima de você.<br>&emsp;As lufadas dispersam gases ou vapores e apagam velas, tochas e chamas similares desprotegidas na área. Elas fazem com que chamas protegidas, como as de lanternas, vibrem descontroladamente e tenham 50 por cento de chance de serem extintas.<br>&emsp;Com uma ação bônus e 50 de mana, em cada um dos seus turnos, antes da magia acabar, você pode mudar a direção à qual a linha é soprada de você.<br></span><span style='color:gray;font-size:11px'>[controle]<br></span><span style='color:gray;font-size:11px'>[arqueiro, bardo, guerreiro, ladino, mago, monge]<br></span><span style='color:gray;font-size:10px'>_LDJ_</span>"
            ],
            "text/plain": [
              "<IPython.core.display.Markdown object>"
            ]
          },
          "metadata": {},
          "output_type": "display_data"
        },
        {
          "name": "stdout",
          "output_type": "stream",
          "text": [
            "\n"
          ]
        },
        {
          "data": {
            "text/markdown": [
              "<span style='color:None;font-size:None'>**Lâmina Sombria _(Shadow Blade)_** lvl 2<br></span><span style='color:None;font-size:13px'>&emsp;**Escola(s):** elemental (_sombras_)<br>&emsp;**Tempo conjuração:** 1 ação bônus<br>&emsp;**Alcance:** pessoal<br>&emsp;**Componentes:** VS<br>&emsp;**Mana:** 650 (_+ 10 por turno_)<br>&emsp;**Duração:** concentração, até 1 minuto<br>&emsp;**Dano**: 2d8<br>&emsp;**Dmg/effect:** sombras<br></span><span style='color:None;font-size:None'>Você entrelaça fios de sombras para criar uma espada de trevas solidas em sua mão. Esta espada mágica dura até a magia terminar. Ele conta como uma arma simples de combate corpo-a-corpo com a qual você é proficiente. Ela provoca um dano sombrio de 2d8 em um golpe e possui propriedades sutileza, leve e arremessável (alcance 6/ 18). Além disso, quando você usa a espada para atacar um alvo que está em luz fraca ou na escuridão, você faz a rolagem de ataque com vantagem.<br>&emsp;Se você soltar a arma ou arremessá-la, ela se dissipa no final do turno. Posteriormente, enquanto a magia persistir, você pode usar uma ação bônus para que a espada reapareça na sua mão.<br>&emsp;**Em Níveis Superiores**. Gastando 1000 de mana extras e mais 10 por turno, o dano aumenta para 3d8. Gastando mais 5000 de mana e mais 30 por turno, o dano aumenta para 4d8. Gastando mais 15000 de mana e mais 50 por turno, o dano aumenta para 5d8.<br></span><span style='color:gray;font-size:11px'>[arma, corpo-a-corpo, dano]<br></span><span style='color:gray;font-size:11px'>[arqueiro, bardo, guerreiro, ladino, mago, monge]<br></span><span style='color:gray;font-size:10px'>_LDJ_</span>"
            ],
            "text/plain": [
              "<IPython.core.display.Markdown object>"
            ]
          },
          "metadata": {},
          "output_type": "display_data"
        },
        {
          "name": "stdout",
          "output_type": "stream",
          "text": [
            "\n"
          ]
        },
        {
          "data": {
            "text/markdown": [
              "<span style='color:None;font-size:None'>**Marca Reveladora _(Branding Smite)_** lvl 2<br></span><span style='color:None;font-size:13px'>&emsp;**Escola(s):** elemental (_luz_)<br>&emsp;**Tempo conjuração:** 1 ação bônus<br>&emsp;**Alcance:** pessoal<br>&emsp;**Componentes:** V<br>&emsp;**Mana:** 650 (_+ 10 de mana a cada turno_)<br>&emsp;**Duração:** concentração, até 1 minuto<br>&emsp;**Dano**: 2d6<br>&emsp;**Dmg/effect:** luz<br></span><span style='color:None;font-size:None'>Da próxima vez que você atingir uma criatura com um ataque com arma, antes do fim da magia, a arma cintilará com radiação astral quando você golpear. O ataque causa 2d6 de dano radiante extra ao alvo, que se torna visível, se estava invisível, e o alvo emite penumbra em um raio de 1,5 metro e não pode ficar invisível até a magia acabar.<br>&emsp;**Melhorar Magia**. Para cada 500 de mana adicionais gastos, você pode adicionar mais 1d6 ao dano até o máximo de 5d6 adicionais.<br></span><span style='color:gray;font-size:11px'>[arma, controle, corpo-a-corpo, dano, debuff, detecção]<br></span><span style='color:gray;font-size:11px'>[arqueiro, bardo, guerreiro, ladino, mago, monge]<br></span><span style='color:gray;font-size:10px'>_LDJ_</span>"
            ],
            "text/plain": [
              "<IPython.core.display.Markdown object>"
            ]
          },
          "metadata": {},
          "output_type": "display_data"
        },
        {
          "name": "stdout",
          "output_type": "stream",
          "text": [
            "\n"
          ]
        },
        {
          "data": {
            "text/markdown": [
              "<span style='color:None;font-size:None'>**Mensageiro Animal _(Animal Messenger)_** lvl 2 - ritual<br></span><span style='color:None;font-size:13px'>&emsp;**Escola(s):** elemental, invocação, musical (_terra_)<br>&emsp;**Tempo conjuração:** 1 ação<br>&emsp;**Alcance:** 9 metros<br>&emsp;**Componentes:** VSM _(um punhado de comida)_<br>&emsp;**Mana:** 650<br>&emsp;**Duração:** 24 horas<br></span><span style='color:None;font-size:None'>Através dessa magia, você usa um animal para entregar uma mensagem. Escolha uma besta Miúda que você possa ver dentro do alcance, como um esquilo, um gaio-azul ou um morcego. Você especifica um local, que você já deve ter visitado, e um remetente com uma descrição geral, como “um homem ou mulher vestido em um uniforme da guarda da cidade” ou “um anão ruivo vestindo um chapéu pontudo”. Você também fala uma mensagem com até vinte e cindo palavras. A besta alvo viaja pela duração da magia para o local especifico, cobrindo 75 quilômetros em 24 horas para um mensageiro voador ou 37,5 quilômetros para outros animais.<br>&emsp;Quando o mensageiro chegar, ele entrega sua mensagem para a criatura que você descreveu, repetindo o som da sua voz. O mensageiro fala apenas para uma criatura que tenha uma descrição compatível com a que ele recebeu. Se o mensageiro não alcançar o destino antes do fim da magia, a mensagem é perdida e a besta faz seu caminho de volta para onde você conjurou a magia.<br>&emsp;**Melhorar Magia**. Para cada 600 de mana adicionais gastos, a duração da magia aumenta em 48 horas.<br></span><span style='color:gray;font-size:11px'>[comunicação, utilidade]<br></span><span style='color:gray;font-size:11px'>[arqueiro, bardo, guerreiro, mago, monge]<br></span><span style='color:gray;font-size:10px'>_LDJ_</span>"
            ],
            "text/plain": [
              "<IPython.core.display.Markdown object>"
            ]
          },
          "metadata": {},
          "output_type": "display_data"
        },
        {
          "name": "stdout",
          "output_type": "stream",
          "text": [
            "\n"
          ]
        },
        {
          "data": {
            "text/markdown": [
              "<span style='color:None;font-size:None'>**Murchar e Florescer _(Wither and Bloom)_** lvl 2<br></span><span style='color:None;font-size:13px'>&emsp;**Escola(s):** necromancia<br>&emsp;**Tempo conjuração:** 1 ação<br>&emsp;**Alcance:** 18 metros<br>&emsp;**Componentes:** VSM _(uma vinha murcha torcida em um loop)_<br>&emsp;**Mana:** 700<br>&emsp;**Duração:** instantânea<br>&emsp;**Dano**: 2d6<br>&emsp;**Attack/Save:** CON Save<br>&emsp;**Dmg/effect:** necrótico<br></span><span style='color:None;font-size:None'>Você invoca ambos vida e morte em uma esfera de até 3 metros centrada em um ponto dentro do alcance. Cada criatura a sua escolha na área deve fazer uma salvaguarda de Constituição, recebendo 2d6 de dano necrótico em uma falha ou metade em um sucesso. Vegetação não mágica na área murcha.<br>&emsp;Além disso, uma criatura da sua escolha pode gastar um Dado de Vida não gasto e recuperar o valor rolado mais seu modificador de conjuração.<br>&emsp;**Melhorar Magia**. Para cada 800 de mana adicionais, você adiciona mais 1d6 ao dano e permite a criatura gastar um dado de vida a mais até um máximo de 3600 pontos adicionais de mana gastos.<br></span><span style='color:gray;font-size:11px'>[cura, dano]<br></span><span style='color:gray;font-size:11px'>[arqueiro, bardo, guerreiro, ladino, mago, monge]<br></span><span style='color:gray;font-size:10px'>_LDJ_</span>"
            ],
            "text/plain": [
              "<IPython.core.display.Markdown object>"
            ]
          },
          "metadata": {},
          "output_type": "display_data"
        },
        {
          "name": "stdout",
          "output_type": "stream",
          "text": [
            "\n"
          ]
        },
        {
          "data": {
            "text/markdown": [
              "<span style='color:None;font-size:None'>**Nublar _(Blur)_** lvl 2<br></span><span style='color:None;font-size:13px'>&emsp;**Escola(s):** ilusionista<br>&emsp;**Tempo conjuração:** 1 ação<br>&emsp;**Alcance:** pessoal<br>&emsp;**Componentes:** V<br>&emsp;**Mana:** 600 (_+ 10 por turno_)<br>&emsp;**Duração:** concentração, até 1 minuto<br></span><span style='color:None;font-size:None'>Seu corpo se torna turvo, mudando e oscilando para todos que puderem ver você. Pela duração, qualquer criatura terá desvantagem nas jogadas de ataque contra você. Um atacante é imune a esse efeito se não depender de visão, como os que tenham percepção às cegas ou os que puderem ver através de ilusões, como os com visão verdadeira. **Melhorar Magia**. Gastando mais 1000 de mana e mais 20 por turno, você pode escolher uma criatura amigável que não seja você para ser o alvo da magia.<br></span><span style='color:gray;font-size:11px'>[buff, defesa]<br></span><span style='color:gray;font-size:11px'>[arqueiro, bardo, guerreiro, ladino, mago, monge]<br></span><span style='color:gray;font-size:10px'>_LDJ_</span>"
            ],
            "text/plain": [
              "<IPython.core.display.Markdown object>"
            ]
          },
          "metadata": {},
          "output_type": "display_data"
        },
        {
          "name": "stdout",
          "output_type": "stream",
          "text": [
            "\n"
          ]
        },
        {
          "data": {
            "text/markdown": [
              "<span style='color:None;font-size:None'>**Nuvem de Adagas _(Cloud of Daggers)_** lvl 2<br></span><span style='color:None;font-size:13px'>&emsp;**Escola(s):** elemental (_água, terra, fogo, ar, luz, sombras, relâmpago, metal, veneno_)<br>&emsp;**Tempo conjuração:** 1 ação<br>&emsp;**Alcance:** 18 metros<br>&emsp;**Componentes:** VSM _(uma lasca de vidro)_<br>&emsp;**Mana:** 650 (_+ 10 por turno_)<br>&emsp;**Duração:** concentração, até 1 minuto<br>&emsp;**Dano**: 4d4<br>&emsp;**Dmg/effect:** elemental<br></span><span style='color:None;font-size:None'>Você preenche o ar com adagas giratórias num cubo de 1,5 metro quadrado, centrado em um ponto, à sua escolha, dentro do alcance. Uma criatura sofre 4d4 de dano cortante quando entra na área da magia pela primeira vez no turno dela ou começa seu turno na área.<br>&emsp;**Melhorar Magia**. Para cada 650 de pontos de mana adicionais gastos, adicione mais 2d4 ao dano, até um máximo de 10d4 adicionais.<br></span><span style='color:gray;font-size:11px'>[controle, dano]<br></span><span style='color:gray;font-size:11px'>[arqueiro, bardo, ladino, mago]<br></span><span style='color:gray;font-size:10px'>_LDJ_</span>"
            ],
            "text/plain": [
              "<IPython.core.display.Markdown object>"
            ]
          },
          "metadata": {},
          "output_type": "display_data"
        },
        {
          "name": "stdout",
          "output_type": "stream",
          "text": [
            "\n"
          ]
        },
        {
          "data": {
            "text/markdown": [
              "<span style='color:None;font-size:None'>**Parede de Vento _(Custom)_** lvl 2<br></span><span style='color:None;font-size:13px'>&emsp;**Escola(s):** elemental (_ar_)<br>&emsp;**Tempo conjuração:** 1 ação<br>&emsp;**Alcance:** pessoal<br>&emsp;**Componentes:** VS<br>&emsp;**Mana:** 400<br>&emsp;**Duração:** 1 turno<br></span><span style='color:None;font-size:None'>Você conjura uma parede de vento de 1,5m de largura em um quadrado desocupado a 1,5m de você.<br>&emsp;Se uma criatura tentar fazer qualquer tipo de ataque à distância que passe pela parede, então você deve gastar 50 vezes o nível da magia utilizada (mínimo 50 caso não seja magia ou seja um truque) e você anula completamente a magia. Você pode escolhe não gastar a quantidade de mana necessária para defender o ataque, nesse caso, ele passará pela parede normalmente.<br>&emsp;Os quadrados ocupados pela parede se tornam terreno difícil, exceto para você.<br>&emsp;**Melhorar Magia.** Você pode gastar mais 500 de mana e aumentar o multiplicador para 100 vezes o nível da magia utilizada para aumentar a largura da parede para 3m. Ou você pode gastar mais 2000 de mana e aumentar o multiplicador para 250 vezes o nível da magia utilizada para aumentar a largura da parede para 4,5m.<br></span><span style='color:gray;font-size:11px'>[defesa]<br></span><span style='color:gray;font-size:11px'>[arqueiro, bardo, guerreiro, ladino, mago, monge]<br></span><span style='color:gray;font-size:10px'>_Custom_</span>"
            ],
            "text/plain": [
              "<IPython.core.display.Markdown object>"
            ]
          },
          "metadata": {},
          "output_type": "display_data"
        },
        {
          "name": "stdout",
          "output_type": "stream",
          "text": [
            "\n"
          ]
        },
        {
          "data": {
            "text/markdown": [
              "<span style='color:None;font-size:None'>**Passeio Cinético _(Kinetic Jaunt)_** lvl 2<br></span><span style='color:None;font-size:13px'>&emsp;**Escola(s):** elemental (_ar, luz, relâmpago_)<br>&emsp;**Tempo conjuração:** 1 ação bônus<br>&emsp;**Alcance:** pessoal<br>&emsp;**Componentes:** S<br>&emsp;**Mana:** 750 (_+ 10 por turno_)<br>&emsp;**Duração:** concentração, até 1 minuto<br></span><span style='color:None;font-size:None'>Você magicamente empodera seu movimento com passos leves como de uma dança, dando a você mesmo os seguintes benefícios:<br>&emsp;- Seu movimento de caminhada aumenta em 3 metros;<br>&emsp;- Você não provoca ataques de oportunidade;<br>&emsp;- Você pode mover pelo espaço de outra criatura e ele não isso não conta como terreno difícil.<br></span><span style='color:gray;font-size:11px'>[buff]<br></span><span style='color:gray;font-size:11px'>[arqueiro, bardo, guerreiro, ladino, mago, monge]<br></span><span style='color:gray;font-size:10px'>_Etc._</span>"
            ],
            "text/plain": [
              "<IPython.core.display.Markdown object>"
            ]
          },
          "metadata": {},
          "output_type": "display_data"
        },
        {
          "name": "stdout",
          "output_type": "stream",
          "text": [
            "\n"
          ]
        },
        {
          "data": {
            "text/markdown": [
              "<span style='color:None;font-size:None'>**Passo Nebuloso _(Misty Step)_** lvl 2<br></span><span style='color:None;font-size:13px'>&emsp;**Escola(s):** elemental (_luz, sombras, relâmpago_)<br>&emsp;**Tempo conjuração:** 1 ação bônus<br>&emsp;**Alcance:** pessoal<br>&emsp;**Componentes:** V<br>&emsp;**Mana:** 700<br>&emsp;**Duração:** instantânea<br></span><span style='color:None;font-size:None'>Você se teletransporta a até 9 metro para um espaço desocupado que você possa ver.<br></span><span style='color:gray;font-size:11px'>[exploração]<br></span><span style='color:gray;font-size:11px'>[arqueiro, bardo, guerreiro, ladino, mago, monge]<br></span><span style='color:gray;font-size:10px'>_LDJ_</span>"
            ],
            "text/plain": [
              "<IPython.core.display.Markdown object>"
            ]
          },
          "metadata": {},
          "output_type": "display_data"
        },
        {
          "name": "stdout",
          "output_type": "stream",
          "text": [
            "\n"
          ]
        },
        {
          "data": {
            "text/markdown": [
              "<span style='color:None;font-size:None'>**Passos sem Pegadas _(Pass without Trace)_** lvl 2<br></span><span style='color:None;font-size:13px'>&emsp;**Escola(s):** elemental, ilusionista (_sombras_)<br>&emsp;**Tempo conjuração:** 1 ação<br>&emsp;**Alcance:** pessoal<br>&emsp;**Componentes:** VSM _(cinzas de uma folha de visco queimada e um ramo de pinheiro)_<br>&emsp;**Mana:** 700 (_+ 10 a cada 10 minutos_)<br>&emsp;**Duração:** instantânea<br></span><span style='color:None;font-size:None'>Um véu de sombras e silêncio irradia de você, encobrindo você e seus companheiros contra detecção. Pela duração, cada criatura, à sua escolha, a até 9 metros de você (incluindo você) recebe +10 de bônus em testes de Destreza (Furtividade) e não pode ser rastreada, exceto por meio mágicos. Uma criatura que receber esse bônus não deixa quaisquer pegadas ou outros vestígios da sua passagem<br></span><span style='color:gray;font-size:11px'>[buff, exploração]<br></span><span style='color:gray;font-size:11px'>[arqueiro, bardo, guerreiro, ladino, mago, monge]<br></span><span style='color:gray;font-size:10px'>_LDJ_</span>"
            ],
            "text/plain": [
              "<IPython.core.display.Markdown object>"
            ]
          },
          "metadata": {},
          "output_type": "display_data"
        },
        {
          "name": "stdout",
          "output_type": "stream",
          "text": [
            "\n"
          ]
        },
        {
          "data": {
            "text/markdown": [
              "<span style='color:None;font-size:None'>**Patas de Aranha _(Spider Climb)_** lvl 2<br></span><span style='color:None;font-size:13px'>&emsp;**Escola(s):** elemental (_água, terra, metal_)<br>&emsp;**Tempo conjuração:** 1 ação<br>&emsp;**Alcance:** toque<br>&emsp;**Componentes:** VSM _(uma gota de betume e uma aranha)_<br>&emsp;**Mana:** 640 (_+ 10 a cada 10 minutos_)<br>&emsp;**Duração:** concentração, até 1 hora<br></span><span style='color:None;font-size:None'>Até a magia acabar, uma criatura voluntária que você tocar, recebe a habilidade de se mover para cima, para baixo e através de superfícies verticais e de cabeça para baixo pelos tetos, enquanto deixa suas mãos livres. O alvo também ganha deslocamento de escalada igual a seu deslocamento de caminhada.<br></span><span style='color:gray;font-size:11px'>[buff, exploração, toque]<br></span><span style='color:gray;font-size:11px'>[arqueiro, bardo, guerreiro, ladino, mago, monge]<br></span><span style='color:gray;font-size:10px'>_LDJ_</span>"
            ],
            "text/plain": [
              "<IPython.core.display.Markdown object>"
            ]
          },
          "metadata": {},
          "output_type": "display_data"
        },
        {
          "name": "stdout",
          "output_type": "stream",
          "text": [
            "\n"
          ]
        },
        {
          "data": {
            "text/markdown": [
              "<span style='color:None;font-size:None'>**Pirotecnia _(Pyrotechnics)_** lvl 2<br></span><span style='color:None;font-size:13px'>&emsp;**Escola(s):** elemental (_fogo_)<br>&emsp;**Tempo conjuração:** 1 ação<br>&emsp;**Alcance:** 18 metros<br>&emsp;**Componentes:** VS<br>&emsp;**Mana:** 750<br>&emsp;**Duração:** instantânea<br>&emsp;**Attack/Save:** CON Save<br></span><span style='color:None;font-size:None'>Escolha uma área de chamas que você possa ver e que caiba num cubo de 1,5 metros, dentro do alcance. Você pode extinguir o fogo na área e criar tanto fogos de artificio quanto fumaça.<br>&emsp;**_Fogos de Artifício_**. O alvo explode em uma apresentação incrível de cores. Cada criatura a até 3 metros do alvo deve ser bem sucedida num teste de resistência de Constituição ou ficará cega até o final do seu próximo turno.<br>&emsp;**_Fumaça_**. Uma fumaça negra e espessa se espalha do alvo num raio de 6 metros, dobrando esquinas. A área da fumaça é de escuridão densa.  A fumaça persiste por 1 minuto ou até um vento forte dispersa-la.<br></span><span style='color:gray;font-size:11px'>[controle, debuff]<br></span><span style='color:gray;font-size:11px'>[arqueiro, bardo, guerreiro, ladino, mago, monge]<br></span><span style='color:gray;font-size:10px'>_Xanathar_</span>"
            ],
            "text/plain": [
              "<IPython.core.display.Markdown object>"
            ]
          },
          "metadata": {},
          "output_type": "display_data"
        },
        {
          "name": "stdout",
          "output_type": "stream",
          "text": [
            "\n"
          ]
        },
        {
          "data": {
            "text/markdown": [
              "<span style='color:None;font-size:None'>**Proteção contra o Veneno _(Protection from Poison)_** lvl 2 (Rara)<br></span><span style='color:None;font-size:13px'>&emsp;**Escola(s):** elemental (_água, luz, veneno_)<br>&emsp;**Tempo conjuração:** 1 ação<br>&emsp;**Alcance:** toque<br>&emsp;**Componentes:** VS<br>&emsp;**Mana:** 1000<br>&emsp;**Duração:** 1 hora<br></span><span style='color:None;font-size:None'>Você toca uma criatura. Se ela estiver envenenada, você neutraliza o veneno. Se mais de um veneno estiver afligindo o alvo, você neutraliza um veneno, que você saiba estar presente, ou neutraliza um aleatório.<br>&emsp;Pela duração, o alvo terá vantagem em testes de resistência para não envenenado e terá resistência a dano de veneno.<br></span><span style='color:gray;font-size:11px'>[defesa, toque]<br></span><span style='color:gray;font-size:11px'>[arqueiro, bardo, guerreiro, ladino, mago, monge]<br></span><span style='color:gray;font-size:10px'>_LDJ_</span>"
            ],
            "text/plain": [
              "<IPython.core.display.Markdown object>"
            ]
          },
          "metadata": {},
          "output_type": "display_data"
        },
        {
          "name": "stdout",
          "output_type": "stream",
          "text": [
            "\n"
          ]
        },
        {
          "data": {
            "text/markdown": [
              "<span style='color:None;font-size:None'>**Raio Elemental _(Scorching Ray)_** lvl 2<br></span><span style='color:None;font-size:13px'>&emsp;**Escola(s):** elemental (_água, terra, fogo, ar, luz, sombras, relâmpago, metal, veneno_)<br>&emsp;**Tempo conjuração:** 1 ação<br>&emsp;**Alcance:** 36 metros<br>&emsp;**Componentes:** VS<br>&emsp;**Mana:** 800<br>&emsp;**Duração:** instantânea<br>&emsp;**Dano**: 6d6<br></span><span style='color:None;font-size:None'>Você cria três raios elementais e os arremessa em alvos dentro do alcance. Você pode arremessa-los em um alvo ou em vários.<br>&emsp;Realize um ataque à distância com magia para cada raio. Se atingir, o alvo sofrerá 2d6 de dano elemental.<br>&emsp;**Melhorar Magia**. Para cada 600 de mana adicionais gastos, adicione mais 1d6 ao dano de cada raio.<br></span><span style='color:gray;font-size:11px'>[dano, distância]<br></span><span style='color:gray;font-size:11px'>[arqueiro, bardo, guerreiro, ladino, mago, monge]<br></span><span style='color:gray;font-size:10px'>_LDJ_</span>"
            ],
            "text/plain": [
              "<IPython.core.display.Markdown object>"
            ]
          },
          "metadata": {},
          "output_type": "display_data"
        },
        {
          "name": "stdout",
          "output_type": "stream",
          "text": [
            "\n"
          ]
        },
        {
          "data": {
            "text/markdown": [
              "<span style='color:None;font-size:None'>**Raio do Enfraquecimento _(Ray of Enfeeblement)_** lvl 2<br></span><span style='color:None;font-size:13px'>&emsp;**Escola(s):** elemental, necromancia, musical (_sombras, metal, veneno_)<br>&emsp;**Tempo conjuração:** 1 ação<br>&emsp;**Alcance:** 18 metros<br>&emsp;**Componentes:** VS<br>&emsp;**Mana:** 750 (_+ 10 de mana por turno_)<br>&emsp;**Duração:** concentração, até 1 minuto<br>&emsp;**Attack/Save:** CON Save<br></span><span style='color:None;font-size:None'>Um raio negro de energia enervante parte em direção de uma criatura, dentro do alcance. Faça um ataque à distância com magia contra o alvo. Se atingir, o alvo causará metade do dano com ataques com armas que usem Força, até a magia acabar.<br>&emsp;No final de cada um dos turnos do alvo, ele pode realizar um teste de resistência de Constituição contra a magia. Se obtiver sucesso, a magia acaba.<br></span><span style='color:gray;font-size:11px'>[debuff, distância]<br></span><span style='color:gray;font-size:11px'>[arqueiro, bardo, mago]<br></span><span style='color:gray;font-size:10px'>_LDJ_</span>"
            ],
            "text/plain": [
              "<IPython.core.display.Markdown object>"
            ]
          },
          "metadata": {},
          "output_type": "display_data"
        },
        {
          "name": "stdout",
          "output_type": "stream",
          "text": [
            "\n"
          ]
        },
        {
          "data": {
            "text/markdown": [
              "<span style='color:None;font-size:None'>**Rebanho de Familiares _(Flock of Familiars)_** lvl 2<br></span><span style='color:None;font-size:13px'>&emsp;**Escola(s):** invocação<br>&emsp;**Tempo conjuração:** 1 minuto<br>&emsp;**Alcance:** toque<br>&emsp;**Componentes:** VS<br>&emsp;**Mana:** 1400 (_+ 50 a cada 5 minutos_)<br>&emsp;**Duração:** concentração, até 1 hora<br></span><span style='color:None;font-size:None'>Você temporariamente invoca três familiares - espíritos que tomam formas animais a sua escolha. Cada familiar usa as mesmas regras e opções de familiar invocado pela magia _Conjurar Familiar_.<br>&emsp;Familiares invocador por essa magia podem se comunicar telepaticamente com você e compartilhar sua visão e audição enquanto eles estão a até 1,6 quilômetros de você.<br>&emsp;Quando você conjura uma magia com alcance de Toque, um dos familiares pode transmitir essa magia normalmente. Entretanto, você só pode usar apenas um familiar por turno para conjurar uma magia de Toque.<br>&emsp;**Melhorar Magia**. Para cada 1000 pontos de mana adicionais, você pode convocar mais um familiar, até um máximo de 5 familiares.<br></span><span style='color:gray;font-size:11px'>[comunicação, detecção, exploração]<br></span><span style='color:gray;font-size:11px'>[arqueiro, bardo, guerreiro, ladino, mago, monge]<br></span><span style='color:gray;font-size:10px'>_Etc._</span>"
            ],
            "text/plain": [
              "<IPython.core.display.Markdown object>"
            ]
          },
          "metadata": {},
          "output_type": "display_data"
        },
        {
          "name": "stdout",
          "output_type": "stream",
          "text": [
            "\n"
          ]
        },
        {
          "data": {
            "text/markdown": [
              "<span style='color:None;font-size:None'>**Reflexos _(Mirror Image)_** lvl 2<br></span><span style='color:None;font-size:13px'>&emsp;**Escola(s):** ilusionista<br>&emsp;**Tempo conjuração:** 1 ação<br>&emsp;**Alcance:** pessoal<br>&emsp;**Componentes:** VS<br>&emsp;**Mana:** 750<br>&emsp;**Duração:** 1 minuto<br></span><span style='color:None;font-size:None'>Três duplicatas ilusórias de você aparecem no seu espaço.  Até a magia acabar, as duplicatas se movem com você e copiam as suas ações, trocando de posição, tornando impossível rastrear qual imagem é real. Você pode usar sua ação para dissipar as duplicatas ilusórias.<br>&emsp;Cada vez que uma criatura mirar você com um ataque enquanto a magia durar, role um d20 para determinar se o ataque, em vez de você, mira uma das suas duplicatas.<br>&emsp;Se você tiver três duplicatas, você deve rolar um 6 ou maior para mudar o alvo do ataque para uma duplicata.  Com duas duplicatas, você deve rolar um 8 ou maior. Com uma duplicata, você deve rolar um 11 ou maior.<br>&emsp;A CA de uma duplicata é igual a 10 + seu modificador de Destreza. Se um ataque atingir uma duplicata, ela é destruída. Uma duplicata só pode ser destruída por um ataque que a atinja. Ela ignora todos os outros danos e efeitos. A magia acaba quando todas as três duplicatas forem destruídas.<br>&emsp;Uma criatura não pode ser afetada por essa magia se não puder enxergar, se ela contar com outros sentidos além da visão, como percepção às cegas, ou se ela puder perceber ilusões como falsas, como com visão verdadeira.<br></span><span style='color:gray;font-size:11px'>[debuff, defesa]<br></span><span style='color:gray;font-size:11px'>[arqueiro, bardo, guerreiro, ladino, mago, monge]<br></span><span style='color:gray;font-size:10px'>_LDJ_</span>"
            ],
            "text/plain": [
              "<IPython.core.display.Markdown object>"
            ]
          },
          "metadata": {},
          "output_type": "display_data"
        },
        {
          "name": "stdout",
          "output_type": "stream",
          "text": [
            "\n"
          ]
        },
        {
          "data": {
            "text/markdown": [
              "<span style='color:None;font-size:None'>**Restauração Menor _(Lesser Restoration)_** lvl 2<br></span><span style='color:None;font-size:13px'>&emsp;**Escola(s):** elemental (_água, terra, luz, veneno_)<br>&emsp;**Tempo conjuração:** 1 ação<br>&emsp;**Alcance:** toque<br>&emsp;**Componentes:** VS<br>&emsp;**Mana:** 800<br>&emsp;**Duração:** instantânea<br></span><span style='color:None;font-size:None'>Você toca uma criatura e pode ou acabar com uma doença ou uma condição que a esteja afligindo. A condição pode ser cega, surda, paralisada ou envenenada.<br></span><span style='color:gray;font-size:11px'>[buff, defesa]<br></span><span style='color:gray;font-size:11px'>[arqueiro, bardo, mago, monge]<br></span><span style='color:gray;font-size:10px'>_LDJ_</span>"
            ],
            "text/plain": [
              "<IPython.core.display.Markdown object>"
            ]
          },
          "metadata": {},
          "output_type": "display_data"
        },
        {
          "name": "stdout",
          "output_type": "stream",
          "text": [
            "\n"
          ]
        },
        {
          "data": {
            "text/markdown": [
              "<span style='color:None;font-size:None'>**Sentido Bestial _(Beast Sense)_** lvl 2<br></span><span style='color:None;font-size:13px'>&emsp;**Escola(s):** elemental, musical, invocação (_terra_)<br>&emsp;**Tempo conjuração:** 1 ação<br>&emsp;**Alcance:** toque<br>&emsp;**Componentes:** S<br>&emsp;**Mana:** 500 (_+ 20 a cada 5 minutos_)<br>&emsp;**Duração:** concentração, até 1 hora<br></span><span style='color:None;font-size:None'>Você toca uma besta voluntária. Pela duração da magia, você pode usar sua ação para ver através dos olhos e ouvir através dos ouvidos da besta e continua a fazê-lo até você usar sua ação para retornar aos seus sentidos normais.<br>&emsp;Enquanto estiver utilizando os sentidos da besta, você ganha os benefícios de qualquer sentido especial possuído pela criatura, no entanto, você estará cego e surdo em relação aos seus próprios sentidos.<br></span><span style='color:gray;font-size:11px'>[exploração, toque]<br></span><span style='color:gray;font-size:11px'>[arqueiro, bardo, guerreiro, ladino, mago, monge]<br></span><span style='color:gray;font-size:10px'>_LDJ_</span>"
            ],
            "text/plain": [
              "<IPython.core.display.Markdown object>"
            ]
          },
          "metadata": {},
          "output_type": "display_data"
        },
        {
          "name": "stdout",
          "output_type": "stream",
          "text": [
            "\n"
          ]
        },
        {
          "data": {
            "text/markdown": [
              "<span style='color:None;font-size:None'>**Silêncio _(Silence)_** lvl 2<br></span><span style='color:None;font-size:13px'>&emsp;**Escola(s):** ilusionista, musical<br>&emsp;**Tempo conjuração:** 1 ação<br>&emsp;**Alcance:** 36 metros<br>&emsp;**Componentes:** VS<br>&emsp;**Mana:** 700 (_+ 15 por minuto_)<br>&emsp;**Duração:** concentração, até 10 minutos<br></span><span style='color:None;font-size:None'>Pela duração, nenhum som pode ser criado dentro ou atravessar uma esfera de 6 metros de raio centrada num ponto, à sua escolha, dentro do alcance. Qualquer criatura ou objeto totalmente dentro da esfera é imune a dano trovejante e as criaturas estarão surdas enquanto estiverem completamente dentro dela. Conjurar magias que inclua a componente verbal é impossível ai.<br></span><span style='color:gray;font-size:11px'>[controle, debuff, defesa]<br></span><span style='color:gray;font-size:11px'>[arqueiro, bardo, mago, monge]<br></span><span style='color:gray;font-size:10px'>_LDJ_</span>"
            ],
            "text/plain": [
              "<IPython.core.display.Markdown object>"
            ]
          },
          "metadata": {},
          "output_type": "display_data"
        },
        {
          "name": "stdout",
          "output_type": "stream",
          "text": [
            "\n"
          ]
        },
        {
          "data": {
            "text/markdown": [
              "<span style='color:None;font-size:None'>**Sugestão _(Suggestion)_** lvl 2<br></span><span style='color:None;font-size:13px'>&emsp;**Escola(s):** ilusionista, musical<br>&emsp;**Tempo conjuração:** 1 ação<br>&emsp;**Alcance:** 9 metros<br>&emsp;**Componentes:** VM _(uma língua de cobra e, ou um pedaço de favo de mel ou uma gota de azeite doce)_<br>&emsp;**Mana:** 600 (_+ 10 por hora_)<br>&emsp;**Duração:** concentração, até 8 horas<br>&emsp;**Attack/Save:** WIS Save<br></span><span style='color:None;font-size:None'>Você sugere um curso de atividade (limitado a uma ou duas sentenças) e, magicamente, influencia um criatura que você possa ver, dentro do alcance, e que possa ouvir e compreender você. Criaturas que não podem ser enfeitiçadas são imunes a esse efeito. A sugestão deve ser formulada de modo que o curso de ação soe razoável. Dizer para a criatura se esfaquear, se arremessar em uma lança, tocar fogo em si mesma ou fazer algum outro ato obviamente nocivo anulará o efeito da magia.<br>&emsp;O alvo deve realizar um teste de resistência de Sabedoria. Se falhar na resistência, ele seguirá o curso de ação que você descreveu, da melhor forma possível. O curso de ação sugerido pode continuar por toda a duração. Se a atividade sugerida puder ser completada em um tempo menor, a magia termina quando o alvo completar o que lhe foi dito para que fizesse.<br>&emsp;Você pode, também, especificar condições que irão ativar uma atividade especial pela duração. Por exemplo, você poderia sugerir a um cavaleiro que entregasse seu cavalo de guerra ao primeiro mendigo que ele encontrar. Se a condição não for satisfeita antes da magia expirar, a atividade não será concluída.<br>&emsp;Se você ou um dos seus companheiros causar dano a uma criatura afetada por essa magia, a magia termina.<br></span><span style='color:gray;font-size:11px'>[controle, debuff, social]<br></span><span style='color:gray;font-size:11px'>[arqueiro, bardo, guerreiro, ladino, mago, monge]<br></span><span style='color:gray;font-size:10px'>_LDJ_</span>"
            ],
            "text/plain": [
              "<IPython.core.display.Markdown object>"
            ]
          },
          "metadata": {},
          "output_type": "display_data"
        },
        {
          "name": "stdout",
          "output_type": "stream",
          "text": [
            "\n"
          ]
        },
        {
          "data": {
            "text/markdown": [
              "<span style='color:None;font-size:None'>**Truque de Corda _(Rope Trick)_** lvl 2<br></span><span style='color:None;font-size:13px'>&emsp;**Escola(s):** pura<br>&emsp;**Tempo conjuração:** 1 ação<br>&emsp;**Alcance:** toque<br>&emsp;**Componentes:** VSM _(pó de extrato de milho e um laço de pergaminho trançado)_<br>&emsp;**Mana:** 3000<br>&emsp;**Duração:** 1 hora<br></span><span style='color:None;font-size:None'>Você toca um pedaço de corda que tenha até 18 metros de comprimento. Uma ponta da corda então, se ergue no ar até toda a corda estar erguida e perpendicular ao solo. Na ponta de cima da corda, uma entrada invisível se abre para um espaço extradimensional que permanece até a magia acabar.<br>&emsp;O espaço extradimensional pode ser alcançado escalando a corda até o topo. O espaço pode abrigar até oito criaturas Médias ou menores. A corda pode ser puxada para dentro do buraco, fazendo-a desaparecer para os observadores do lado de fora do espaço.<br>&emsp;Ataques e magias não podem ultrapassar a entrada, entrando ou saindo do espaço extradimensional, mas quem está dentro pode ver o lado de fora, como se estivesse olhando por uma janela de 0,9 metro por 1,5 metro, centrada na corda.<br>&emsp;Tudo que estiver dentro do espaço extradimensional cai quando a magia acabar.<br></span><span style='color:gray;font-size:11px'>[toque, utilidade]<br></span><span style='color:gray;font-size:11px'>[arqueiro, bardo, guerreiro, ladino, mago, monge]<br></span><span style='color:gray;font-size:10px'>_LDJ_</span>"
            ],
            "text/plain": [
              "<IPython.core.display.Markdown object>"
            ]
          },
          "metadata": {},
          "output_type": "display_data"
        },
        {
          "name": "stdout",
          "output_type": "stream",
          "text": [
            "\n"
          ]
        },
        {
          "data": {
            "text/markdown": [
              "<span style='color:None;font-size:None'>**Ver o Invisível _(See Invisibility)_** lvl 2<br></span><span style='color:None;font-size:13px'>&emsp;**Escola(s):** espiritual, necromancia, pura, elemental (_sombras_)<br>&emsp;**Tempo conjuração:** 1 ação<br>&emsp;**Alcance:** pessoal<br>&emsp;**Componentes:** VSM _(um pouco de talco e um pó de prata polvilhado)_<br>&emsp;**Mana:** 700<br>&emsp;**Duração:** 1 hora<br></span><span style='color:None;font-size:None'>Pela duração, você vê criaturas e objetos invisíveis como se eles fossem visíveis e você pode ver no Plano Etéreo. Criaturas e objetos etéreos parecem espectrais e translúcidos.<br></span><span style='color:gray;font-size:11px'>[buff, detecção]<br></span><span style='color:gray;font-size:11px'>[arqueiro, bardo, guerreiro, ladino, mago, monge]<br></span><span style='color:gray;font-size:10px'>_LDJ_</span>"
            ],
            "text/plain": [
              "<IPython.core.display.Markdown object>"
            ]
          },
          "metadata": {},
          "output_type": "display_data"
        },
        {
          "name": "stdout",
          "output_type": "stream",
          "text": [
            "\n"
          ]
        },
        {
          "data": {
            "text/markdown": [
              "<span style='color:None;font-size:None'>**Visão no Escuro _(Darkvision)_** lvl 2<br></span><span style='color:None;font-size:13px'>&emsp;**Escola(s):** elemental, necromancia, espiritual (_luz, sombras_)<br>&emsp;**Tempo conjuração:** 1 ação<br>&emsp;**Alcance:** toque<br>&emsp;**Componentes:** VSM _(ou um pedaço de cenoura seca ou uma ágata)_<br>&emsp;**Mana:** 700<br>&emsp;**Duração:** 8 horas<br></span><span style='color:None;font-size:None'>Você toca uma criatura voluntária para conceder a ela a habilidade de ver nas trevas. Pela duração, a criatura terá visão no escuro com alcance de 18 metros.<br></span><span style='color:gray;font-size:11px'>[buff, exploração, toque]<br></span><span style='color:gray;font-size:11px'>[arqueiro, bardo, guerreiro, ladino, mago, monge]<br></span><span style='color:gray;font-size:10px'>_LDJ_</span>"
            ],
            "text/plain": [
              "<IPython.core.display.Markdown object>"
            ]
          },
          "metadata": {},
          "output_type": "display_data"
        },
        {
          "name": "stdout",
          "output_type": "stream",
          "text": [
            "\n"
          ]
        }
      ],
      "source": [
        "from dfs.DFFilter import filter_df\n",
        "from spell.SpellPrinter import print_spell, print_spells_by_name, print_spells_for_df\n",
        "\n",
        "my_filter = {\n",
        "    \"classes\": \"arqueiro\",\n",
        "    #\"escola\": \"musical\"\n",
        "    #\"magia_rara\": True\n",
        "    \"nivel\": 2\n",
        "}\n",
        "filtered_df = filter_df(spells_df, my_filter)\n",
        "\n",
        "print_spells_for_df(filtered_df)"
      ]
    },
    {
      "cell_type": "code",
      "execution_count": 3,
      "metadata": {},
      "outputs": [
        {
          "data": {
            "text/html": [
              "<div>\n",
              "<style scoped>\n",
              "    .dataframe tbody tr th:only-of-type {\n",
              "        vertical-align: middle;\n",
              "    }\n",
              "\n",
              "    .dataframe tbody tr th {\n",
              "        vertical-align: top;\n",
              "    }\n",
              "\n",
              "    .dataframe thead th {\n",
              "        text-align: right;\n",
              "    }\n",
              "</style>\n",
              "<table border=\"1\" class=\"dataframe\">\n",
              "  <thead>\n",
              "    <tr style=\"text-align: right;\">\n",
              "      <th></th>\n",
              "      <th>nome</th>\n",
              "      <th>name</th>\n",
              "      <th>nivel</th>\n",
              "      <th>escola</th>\n",
              "      <th>ritual</th>\n",
              "      <th>elementos</th>\n",
              "      <th>tempo_conjuracao</th>\n",
              "      <th>alcance_area</th>\n",
              "      <th>componentes</th>\n",
              "      <th>mana</th>\n",
              "      <th>duracao</th>\n",
              "      <th>attack_save</th>\n",
              "      <th>dmg_effect</th>\n",
              "      <th>dmg</th>\n",
              "      <th>classes</th>\n",
              "      <th>tags</th>\n",
              "      <th>descricao</th>\n",
              "      <th>source</th>\n",
              "      <th>mana_adicional</th>\n",
              "      <th>magia_rara</th>\n",
              "    </tr>\n",
              "  </thead>\n",
              "  <tbody>\n",
              "    <tr>\n",
              "      <th>123</th>\n",
              "      <td>Alterar-se</td>\n",
              "      <td>Alter Self</td>\n",
              "      <td>2</td>\n",
              "      <td>[elemental, ilusionista]</td>\n",
              "      <td>False</td>\n",
              "      <td>[água, terra, fogo, ar, luz, sombras, relâmpag...</td>\n",
              "      <td>1 ação</td>\n",
              "      <td>pessoal</td>\n",
              "      <td>VS</td>\n",
              "      <td>600</td>\n",
              "      <td>concentração, até 1 hora</td>\n",
              "      <td>N/A</td>\n",
              "      <td>N/A</td>\n",
              "      <td>N/A</td>\n",
              "      <td>[arqueiro, ladino, guerreiro, bardo, monge, mago]</td>\n",
              "      <td>[buff, utilidade, dano, exploração]</td>\n",
              "      <td>Você assume uma forma diferente. Quando conjur...</td>\n",
              "      <td>LDJ</td>\n",
              "      <td>15 a cada 5 minutos</td>\n",
              "      <td>False</td>\n",
              "    </tr>\n",
              "    <tr>\n",
              "      <th>126</th>\n",
              "      <td>Arma Mágica</td>\n",
              "      <td>Magic Weapon</td>\n",
              "      <td>2</td>\n",
              "      <td>[elemental, necromancia, espiritual, ilusionis...</td>\n",
              "      <td>False</td>\n",
              "      <td>[água, terra, fogo, ar, luz, sombras, relâmpag...</td>\n",
              "      <td>1 ação bônus</td>\n",
              "      <td>toque</td>\n",
              "      <td>VS</td>\n",
              "      <td>750</td>\n",
              "      <td>concentração, até 1 hora</td>\n",
              "      <td>N/A</td>\n",
              "      <td>N/A</td>\n",
              "      <td>N/A</td>\n",
              "      <td>[arqueiro, ladino, guerreiro, bardo, monge, mago]</td>\n",
              "      <td>[buff, dano, arma, toque]</td>\n",
              "      <td>Você toca uma arma não-magica. Até a magia aca...</td>\n",
              "      <td>LDJ</td>\n",
              "      <td>10 a cada 5 minutos</td>\n",
              "      <td>False</td>\n",
              "    </tr>\n",
              "    <tr>\n",
              "      <th>129</th>\n",
              "      <td>Aura Mágica Ilusionista (de Nystul)</td>\n",
              "      <td>Arcanist's Magic Aura</td>\n",
              "      <td>2</td>\n",
              "      <td>[ilusionista]</td>\n",
              "      <td>False</td>\n",
              "      <td>[]</td>\n",
              "      <td>1 ação</td>\n",
              "      <td>toque</td>\n",
              "      <td>VSM (um pequeno quadrado de seda)</td>\n",
              "      <td>650</td>\n",
              "      <td>24 horas</td>\n",
              "      <td>N/A</td>\n",
              "      <td>N/A</td>\n",
              "      <td>N/A</td>\n",
              "      <td>[arqueiro, ladino, guerreiro, bardo, monge, mago]</td>\n",
              "      <td>[toque, buff, utilidade, detecção, toque]</td>\n",
              "      <td>Você coloca uma ilusão em uma criatura ou obje...</td>\n",
              "      <td>LDJ</td>\n",
              "      <td>N/A</td>\n",
              "      <td>False</td>\n",
              "    </tr>\n",
              "    <tr>\n",
              "      <th>131</th>\n",
              "      <td>Boca Encantada</td>\n",
              "      <td>Magic Month</td>\n",
              "      <td>2</td>\n",
              "      <td>[musical, receita]</td>\n",
              "      <td>False</td>\n",
              "      <td>[]</td>\n",
              "      <td>1 minuto</td>\n",
              "      <td>9 metros</td>\n",
              "      <td>VSM (um pedaço de favo de mel e pó de jade val...</td>\n",
              "      <td>850</td>\n",
              "      <td>até ser dissipada</td>\n",
              "      <td>N/A</td>\n",
              "      <td>N/A</td>\n",
              "      <td>N/A</td>\n",
              "      <td>[arqueiro, ladino, guerreiro, bardo, monge, mago]</td>\n",
              "      <td>[utilidade, comunicação]</td>\n",
              "      <td>Você implanta uma mensagem em um objeto dentro...</td>\n",
              "      <td>LDJ</td>\n",
              "      <td>N/A</td>\n",
              "      <td>False</td>\n",
              "    </tr>\n",
              "    <tr>\n",
              "      <th>134</th>\n",
              "      <td>Cegueira/Surdez</td>\n",
              "      <td>Blindness/Deafness</td>\n",
              "      <td>2</td>\n",
              "      <td>[necromancia, ilusionista, espiritual, musical...</td>\n",
              "      <td>False</td>\n",
              "      <td>[luz, sombras]</td>\n",
              "      <td>1 ação</td>\n",
              "      <td>9 metros</td>\n",
              "      <td>VS</td>\n",
              "      <td>700</td>\n",
              "      <td>1 minuto</td>\n",
              "      <td>N/A</td>\n",
              "      <td>N/A</td>\n",
              "      <td>N/A</td>\n",
              "      <td>[arqueiro, ladino, guerreiro, bardo, monge, mago]</td>\n",
              "      <td>[debuff, controle]</td>\n",
              "      <td>Você pode cegar ou ensurdecer um oponente. Esc...</td>\n",
              "      <td>LDJ</td>\n",
              "      <td>N/A</td>\n",
              "      <td>False</td>\n",
              "    </tr>\n",
              "    <tr>\n",
              "      <th>135</th>\n",
              "      <td>Chama Contínua</td>\n",
              "      <td>Continual Flame</td>\n",
              "      <td>2</td>\n",
              "      <td>[elemental]</td>\n",
              "      <td>False</td>\n",
              "      <td>[fogo, luz, relâmpago]</td>\n",
              "      <td>1 ação</td>\n",
              "      <td>toque</td>\n",
              "      <td>VSM (pó de rubi no valor de 50 po, consumido p...</td>\n",
              "      <td>1500</td>\n",
              "      <td>até ser dissipada</td>\n",
              "      <td>N/A</td>\n",
              "      <td>N/A</td>\n",
              "      <td>N/A</td>\n",
              "      <td>[arqueiro, bardo, mago]</td>\n",
              "      <td>[utilidade, defesa, toque]</td>\n",
              "      <td>Uma chama, que produz iluminação equivalente a...</td>\n",
              "      <td>LDJ</td>\n",
              "      <td>N/A</td>\n",
              "      <td>False</td>\n",
              "    </tr>\n",
              "    <tr>\n",
              "      <th>136</th>\n",
              "      <td>Chicote Mental (de Tasha)</td>\n",
              "      <td>Tasha's Mind Whip</td>\n",
              "      <td>2</td>\n",
              "      <td>[ilusionista, musical]</td>\n",
              "      <td>False</td>\n",
              "      <td>[]</td>\n",
              "      <td>1 ação</td>\n",
              "      <td>27 metros</td>\n",
              "      <td>V</td>\n",
              "      <td>900</td>\n",
              "      <td>1 rodada</td>\n",
              "      <td>INT Save</td>\n",
              "      <td>psíquico</td>\n",
              "      <td>3d6</td>\n",
              "      <td>[arqueiro, ladino, guerreiro, bardo, monge, mago]</td>\n",
              "      <td>[debuff, controle, dano]</td>\n",
              "      <td>Você enlaça psiquicamente uma criatura a sua v...</td>\n",
              "      <td>Tasha</td>\n",
              "      <td>N/A</td>\n",
              "      <td>False</td>\n",
              "    </tr>\n",
              "    <tr>\n",
              "      <th>138</th>\n",
              "      <td>Convocar Montaria</td>\n",
              "      <td>Find Steed</td>\n",
              "      <td>2</td>\n",
              "      <td>[invocação, necromancia, espiritual]</td>\n",
              "      <td>False</td>\n",
              "      <td>[]</td>\n",
              "      <td>10 minutos</td>\n",
              "      <td>9 metros</td>\n",
              "      <td>VS</td>\n",
              "      <td>1400</td>\n",
              "      <td>instantânea</td>\n",
              "      <td>N/A</td>\n",
              "      <td>N/A</td>\n",
              "      <td>N/A</td>\n",
              "      <td>[arqueiro, guerreiro, bardo, mago]</td>\n",
              "      <td>[dano, comunicação, exploração]</td>\n",
              "      <td>Você convoca um espírito que assume a forma de...</td>\n",
              "      <td>LDJ</td>\n",
              "      <td>N/A</td>\n",
              "      <td>True</td>\n",
              "    </tr>\n",
              "    <tr>\n",
              "      <th>141</th>\n",
              "      <td>Despedaçar</td>\n",
              "      <td>Shatter</td>\n",
              "      <td>2</td>\n",
              "      <td>[elemental, musical]</td>\n",
              "      <td>False</td>\n",
              "      <td>[ar, sombras, relâmpago, metal, veneno]</td>\n",
              "      <td>1 ação</td>\n",
              "      <td>18 metros</td>\n",
              "      <td>VSM (uma lasca de mica)</td>\n",
              "      <td>800</td>\n",
              "      <td>instantânea</td>\n",
              "      <td>CON Save</td>\n",
              "      <td>elemental</td>\n",
              "      <td>3d8</td>\n",
              "      <td>[arqueiro, bardo, monge, mago]</td>\n",
              "      <td>[dano]</td>\n",
              "      <td>Um alto som estridente, dolorosamente intenso,...</td>\n",
              "      <td>LDJ</td>\n",
              "      <td>N/A</td>\n",
              "      <td>False</td>\n",
              "    </tr>\n",
              "    <tr>\n",
              "      <th>142</th>\n",
              "      <td>Detectar Pensamentos</td>\n",
              "      <td>Detect Thoughts</td>\n",
              "      <td>2</td>\n",
              "      <td>[psíquica]</td>\n",
              "      <td>False</td>\n",
              "      <td>[]</td>\n",
              "      <td>1 ação</td>\n",
              "      <td>9 metros</td>\n",
              "      <td>VSM (um pedaço de cobre)</td>\n",
              "      <td>600</td>\n",
              "      <td>concentração, até 1 minuto</td>\n",
              "      <td>WIS Save</td>\n",
              "      <td>N/A</td>\n",
              "      <td>N/A</td>\n",
              "      <td>[arqueiro, ladino, guerreiro, bardo, monge, mago]</td>\n",
              "      <td>[social, detecção, exploração]</td>\n",
              "      <td>Pela duração, você pode ler os pensamentos de ...</td>\n",
              "      <td>LDJ</td>\n",
              "      <td>10 por turno</td>\n",
              "      <td>False</td>\n",
              "    </tr>\n",
              "    <tr>\n",
              "      <th>144</th>\n",
              "      <td>Discurso Enganoso</td>\n",
              "      <td>Gift of Gab</td>\n",
              "      <td>2</td>\n",
              "      <td>[psíquica]</td>\n",
              "      <td>False</td>\n",
              "      <td>[]</td>\n",
              "      <td>1 reação</td>\n",
              "      <td>pessoal</td>\n",
              "      <td>VSM (2 po)</td>\n",
              "      <td>700</td>\n",
              "      <td>instantânea</td>\n",
              "      <td>N/A</td>\n",
              "      <td>N/A</td>\n",
              "      <td>N/A</td>\n",
              "      <td>[arqueiro, ladino, guerreiro, bardo, monge, mago]</td>\n",
              "      <td>[social]</td>\n",
              "      <td>Quando você conjura essa magia, você habilidos...</td>\n",
              "      <td>LDJ</td>\n",
              "      <td>N/A</td>\n",
              "      <td>False</td>\n",
              "    </tr>\n",
              "    <tr>\n",
              "      <th>145</th>\n",
              "      <td>Emprestar Conhecimento</td>\n",
              "      <td>Borrowed Knowledge</td>\n",
              "      <td>2</td>\n",
              "      <td>[espiritual]</td>\n",
              "      <td>False</td>\n",
              "      <td>[]</td>\n",
              "      <td>1 ação</td>\n",
              "      <td>pessoal</td>\n",
              "      <td>VSM (um livro que custe pelo menos 25 po)</td>\n",
              "      <td>1000</td>\n",
              "      <td>1 hora</td>\n",
              "      <td>N/A</td>\n",
              "      <td>N/A</td>\n",
              "      <td>N/A</td>\n",
              "      <td>[arqueiro, ladino, guerreiro, bardo, monge, mago]</td>\n",
              "      <td>[buff]</td>\n",
              "      <td>Você recebe conhecimento de espíritos do passa...</td>\n",
              "      <td>Etc.</td>\n",
              "      <td>N/A</td>\n",
              "      <td>False</td>\n",
              "    </tr>\n",
              "    <tr>\n",
              "      <th>146</th>\n",
              "      <td>Encontrar Armadilhas</td>\n",
              "      <td>Find Traps</td>\n",
              "      <td>2</td>\n",
              "      <td>[espiritual]</td>\n",
              "      <td>False</td>\n",
              "      <td>[]</td>\n",
              "      <td>1 ação</td>\n",
              "      <td>36 metros</td>\n",
              "      <td>VS</td>\n",
              "      <td>700</td>\n",
              "      <td>instantânea</td>\n",
              "      <td>N/A</td>\n",
              "      <td>N/A</td>\n",
              "      <td>N/A</td>\n",
              "      <td>[arqueiro, ladino, guerreiro, bardo, monge, mago]</td>\n",
              "      <td>[defesa, detecção, exploração]</td>\n",
              "      <td>Você sente a presença de qualquer armadilha de...</td>\n",
              "      <td>LDJ</td>\n",
              "      <td>N/A</td>\n",
              "      <td>False</td>\n",
              "    </tr>\n",
              "    <tr>\n",
              "      <th>147</th>\n",
              "      <td>Escrita Celeste</td>\n",
              "      <td>Skywrite</td>\n",
              "      <td>2</td>\n",
              "      <td>[elemental, ilusionista]</td>\n",
              "      <td>False</td>\n",
              "      <td>[ar]</td>\n",
              "      <td>1 ação</td>\n",
              "      <td>pessoal</td>\n",
              "      <td>VS</td>\n",
              "      <td>700</td>\n",
              "      <td>1 hora</td>\n",
              "      <td>N/A</td>\n",
              "      <td>N/A</td>\n",
              "      <td>N/A</td>\n",
              "      <td>[arqueiro, ladino, guerreiro, bardo, monge, mago]</td>\n",
              "      <td>[comunicação]</td>\n",
              "      <td>Você cria até dez palavras em uma parte do céu...</td>\n",
              "      <td>LDJ</td>\n",
              "      <td>N/A</td>\n",
              "      <td>False</td>\n",
              "    </tr>\n",
              "    <tr>\n",
              "      <th>148</th>\n",
              "      <td>Escuridão</td>\n",
              "      <td>Darkness</td>\n",
              "      <td>2</td>\n",
              "      <td>[elemental, necromancia]</td>\n",
              "      <td>False</td>\n",
              "      <td>[sombras]</td>\n",
              "      <td>1 ação</td>\n",
              "      <td>18 metros</td>\n",
              "      <td>VM (pelo de morcego e uma gota de piche ou ped...</td>\n",
              "      <td>600</td>\n",
              "      <td>concentração, até 10 minutos</td>\n",
              "      <td>N/A</td>\n",
              "      <td>N/A</td>\n",
              "      <td>N/A</td>\n",
              "      <td>[arqueiro, ladino, guerreiro, bardo, monge, mago]</td>\n",
              "      <td>[debuff, controle]</td>\n",
              "      <td>Escuridão mágica se espalha a partir de um pon...</td>\n",
              "      <td>LDJ</td>\n",
              "      <td>10 por minuto</td>\n",
              "      <td>False</td>\n",
              "    </tr>\n",
              "    <tr>\n",
              "      <th>150</th>\n",
              "      <td>Espinho Mental</td>\n",
              "      <td>Mind Spike</td>\n",
              "      <td>2</td>\n",
              "      <td>[psíquica]</td>\n",
              "      <td>False</td>\n",
              "      <td>[]</td>\n",
              "      <td>1 ação</td>\n",
              "      <td>18 metros</td>\n",
              "      <td>S</td>\n",
              "      <td>800</td>\n",
              "      <td>concentração, até 1 hora</td>\n",
              "      <td>WIS Save</td>\n",
              "      <td>psíquico</td>\n",
              "      <td>3d8</td>\n",
              "      <td>[arqueiro, ladino, guerreiro, bardo, monge, mago]</td>\n",
              "      <td>[debuff, dano, detecção]</td>\n",
              "      <td>Você alcança a mente de uma criatura que você ...</td>\n",
              "      <td>Xanathar</td>\n",
              "      <td>10 a cada 10 minutos</td>\n",
              "      <td>False</td>\n",
              "    </tr>\n",
              "    <tr>\n",
              "      <th>153</th>\n",
              "      <td>Flecha Perfurante</td>\n",
              "      <td>Custom</td>\n",
              "      <td>2</td>\n",
              "      <td>[elemental]</td>\n",
              "      <td>False</td>\n",
              "      <td>[água, terra, fogo, ar, luz, sombras, relâmpag...</td>\n",
              "      <td>1 ação</td>\n",
              "      <td>pessoal</td>\n",
              "      <td>VSM (um pouco de pó de prata)</td>\n",
              "      <td>650</td>\n",
              "      <td>instantânea</td>\n",
              "      <td>DEX Save</td>\n",
              "      <td>elemental</td>\n",
              "      <td>1d6</td>\n",
              "      <td>[arqueiro, bardo, guerreiro, ladino, mago, mon...</td>\n",
              "      <td>[dano, distância, arma]</td>\n",
              "      <td>Você utiliza uma arma de ataque à distância co...</td>\n",
              "      <td>LDJ</td>\n",
              "      <td>N/A</td>\n",
              "      <td>False</td>\n",
              "    </tr>\n",
              "    <tr>\n",
              "      <th>154</th>\n",
              "      <td>Flecha Ácida (de Melf)</td>\n",
              "      <td>Acid Arrow</td>\n",
              "      <td>2</td>\n",
              "      <td>[elemental]</td>\n",
              "      <td>False</td>\n",
              "      <td>[veneno]</td>\n",
              "      <td>1 ação</td>\n",
              "      <td>36 metros</td>\n",
              "      <td>VSM (folha de ruibarbo em pó eo estômago de um...</td>\n",
              "      <td>550</td>\n",
              "      <td>instantânea</td>\n",
              "      <td>distância</td>\n",
              "      <td>ácido</td>\n",
              "      <td>4d4 + 2d4</td>\n",
              "      <td>[arqueiro, ladino, guerreiro, bardo, monge, mago]</td>\n",
              "      <td>[dano, distância]</td>\n",
              "      <td>Você cospe uma flecha esverdeada cintilante qu...</td>\n",
              "      <td>LDJ</td>\n",
              "      <td>N/A</td>\n",
              "      <td>False</td>\n",
              "    </tr>\n",
              "    <tr>\n",
              "      <th>155</th>\n",
              "      <td>Força Fantasmagórica</td>\n",
              "      <td>Phantasmal Force</td>\n",
              "      <td>2</td>\n",
              "      <td>[ilusionista, psíquica]</td>\n",
              "      <td>False</td>\n",
              "      <td>[]</td>\n",
              "      <td>1 ação</td>\n",
              "      <td>18 metros</td>\n",
              "      <td>VSM (um pouco de lã)</td>\n",
              "      <td>800</td>\n",
              "      <td>concentração, até 1 minuto</td>\n",
              "      <td>INT Save</td>\n",
              "      <td>psíquico</td>\n",
              "      <td>1d6</td>\n",
              "      <td>[arqueiro, ladino, guerreiro, bardo, monge, mago]</td>\n",
              "      <td>[debuff, dano]</td>\n",
              "      <td>Você constrói uma ilusão que se enraíza na men...</td>\n",
              "      <td>LDJ</td>\n",
              "      <td>5 por turno</td>\n",
              "      <td>False</td>\n",
              "    </tr>\n",
              "    <tr>\n",
              "      <th>161</th>\n",
              "      <td>Invocar Lâmina Elemental (Lâmina Flamejante)</td>\n",
              "      <td>Flame Blade</td>\n",
              "      <td>2</td>\n",
              "      <td>[elemental]</td>\n",
              "      <td>False</td>\n",
              "      <td>[água, terra, fogo, ar, luz, sombras, relâmpag...</td>\n",
              "      <td>1 ação bônus</td>\n",
              "      <td>pessoal</td>\n",
              "      <td>VSM (folha de sumagre)</td>\n",
              "      <td>700</td>\n",
              "      <td>concentração, até 10 minutos</td>\n",
              "      <td>corpo-a-corpo</td>\n",
              "      <td>elemental</td>\n",
              "      <td>3d6</td>\n",
              "      <td>[arqueiro, ladino, guerreiro, bardo, monge, mago]</td>\n",
              "      <td>[dano, corpo-a-corpo]</td>\n",
              "      <td>Você evoca uma lâmina elemental ardente em sua...</td>\n",
              "      <td>LDJ</td>\n",
              "      <td>10 por minuto</td>\n",
              "      <td>False</td>\n",
              "    </tr>\n",
              "    <tr>\n",
              "      <th>163</th>\n",
              "      <td>Localizar Animais ou Plantas</td>\n",
              "      <td>Locate Animals or Plants</td>\n",
              "      <td>2</td>\n",
              "      <td>[elemental]</td>\n",
              "      <td>False</td>\n",
              "      <td>[terra]</td>\n",
              "      <td>1 ação</td>\n",
              "      <td>pessoal</td>\n",
              "      <td>VSM (um pouco de pelo de um cão de caça)</td>\n",
              "      <td>750</td>\n",
              "      <td>instantânea</td>\n",
              "      <td>N/A</td>\n",
              "      <td>N/A</td>\n",
              "      <td>N/A</td>\n",
              "      <td>[arqueiro, ladino, guerreiro, bardo, monge, mago]</td>\n",
              "      <td>[exploração, detecção]</td>\n",
              "      <td>Descreva ou nomeia um tipo específico de besta...</td>\n",
              "      <td>LDJ</td>\n",
              "      <td>N/A</td>\n",
              "      <td>False</td>\n",
              "    </tr>\n",
              "    <tr>\n",
              "      <th>164</th>\n",
              "      <td>Localizar Objeto</td>\n",
              "      <td>Locate Object</td>\n",
              "      <td>2</td>\n",
              "      <td>[elemental, receita]</td>\n",
              "      <td>False</td>\n",
              "      <td>[terra, metal]</td>\n",
              "      <td>1 ação</td>\n",
              "      <td>pessoal</td>\n",
              "      <td>VSM (um galho bifurcado)</td>\n",
              "      <td>750</td>\n",
              "      <td>concentração, até 10 minutos</td>\n",
              "      <td>N/A</td>\n",
              "      <td>N/A</td>\n",
              "      <td>N/A</td>\n",
              "      <td>[arqueiro, ladino, guerreiro, bardo, monge, mago]</td>\n",
              "      <td>[exploração, detecção]</td>\n",
              "      <td>Descreva ou nomeie um objeto que seja familiar...</td>\n",
              "      <td>LDJ</td>\n",
              "      <td>10 por minuto</td>\n",
              "      <td>False</td>\n",
              "    </tr>\n",
              "    <tr>\n",
              "      <th>165</th>\n",
              "      <td>Lufada de Vento</td>\n",
              "      <td>Gust of Wind</td>\n",
              "      <td>2</td>\n",
              "      <td>[elemental]</td>\n",
              "      <td>False</td>\n",
              "      <td>[ar]</td>\n",
              "      <td>1 ação</td>\n",
              "      <td>pessoal</td>\n",
              "      <td>VSM (uma semente de legume)</td>\n",
              "      <td>700</td>\n",
              "      <td>concentração, até 1 minuto</td>\n",
              "      <td>STR Save</td>\n",
              "      <td>N/A</td>\n",
              "      <td>N/A</td>\n",
              "      <td>[arqueiro, ladino, guerreiro, bardo, monge, mago]</td>\n",
              "      <td>[controle]</td>\n",
              "      <td>Uma linha de vento forte, com 18 metros de com...</td>\n",
              "      <td>LDJ</td>\n",
              "      <td>10 por turno</td>\n",
              "      <td>False</td>\n",
              "    </tr>\n",
              "    <tr>\n",
              "      <th>166</th>\n",
              "      <td>Lâmina Sombria</td>\n",
              "      <td>Shadow Blade</td>\n",
              "      <td>2</td>\n",
              "      <td>[elemental]</td>\n",
              "      <td>False</td>\n",
              "      <td>[sombras]</td>\n",
              "      <td>1 ação bônus</td>\n",
              "      <td>pessoal</td>\n",
              "      <td>VS</td>\n",
              "      <td>650</td>\n",
              "      <td>concentração, até 1 minuto</td>\n",
              "      <td>N/A</td>\n",
              "      <td>sombras</td>\n",
              "      <td>2d8</td>\n",
              "      <td>[arqueiro, ladino, guerreiro, bardo, monge, mago]</td>\n",
              "      <td>[dano, corpo-a-corpo, arma]</td>\n",
              "      <td>Você entrelaça fios de sombras para criar uma ...</td>\n",
              "      <td>LDJ</td>\n",
              "      <td>10 por turno</td>\n",
              "      <td>False</td>\n",
              "    </tr>\n",
              "    <tr>\n",
              "      <th>167</th>\n",
              "      <td>Marca Reveladora</td>\n",
              "      <td>Branding Smite</td>\n",
              "      <td>2</td>\n",
              "      <td>[elemental]</td>\n",
              "      <td>False</td>\n",
              "      <td>[luz]</td>\n",
              "      <td>1 ação bônus</td>\n",
              "      <td>pessoal</td>\n",
              "      <td>V</td>\n",
              "      <td>650</td>\n",
              "      <td>concentração, até 1 minuto</td>\n",
              "      <td>N/A</td>\n",
              "      <td>luz</td>\n",
              "      <td>2d6</td>\n",
              "      <td>[arqueiro, ladino, guerreiro, bardo, monge, mago]</td>\n",
              "      <td>[debuff, controle, dano, corpo-a-corpo, arma, ...</td>\n",
              "      <td>Da próxima vez que você atingir uma criatura c...</td>\n",
              "      <td>LDJ</td>\n",
              "      <td>10 de mana a cada turno</td>\n",
              "      <td>False</td>\n",
              "    </tr>\n",
              "    <tr>\n",
              "      <th>168</th>\n",
              "      <td>Mensageiro Animal</td>\n",
              "      <td>Animal Messenger</td>\n",
              "      <td>2</td>\n",
              "      <td>[elemental, invocação, musical]</td>\n",
              "      <td>True</td>\n",
              "      <td>[terra]</td>\n",
              "      <td>1 ação</td>\n",
              "      <td>9 metros</td>\n",
              "      <td>VSM (um punhado de comida)</td>\n",
              "      <td>650</td>\n",
              "      <td>24 horas</td>\n",
              "      <td>N/A</td>\n",
              "      <td>N/A</td>\n",
              "      <td>N/A</td>\n",
              "      <td>[arqueiro, guerreiro, bardo, monge, mago]</td>\n",
              "      <td>[utilidade, comunicação]</td>\n",
              "      <td>Através dessa magia, você usa um animal para e...</td>\n",
              "      <td>LDJ</td>\n",
              "      <td>N/A</td>\n",
              "      <td>False</td>\n",
              "    </tr>\n",
              "    <tr>\n",
              "      <th>169</th>\n",
              "      <td>Murchar e Florescer</td>\n",
              "      <td>Wither and Bloom</td>\n",
              "      <td>2</td>\n",
              "      <td>[necromancia]</td>\n",
              "      <td>False</td>\n",
              "      <td>[]</td>\n",
              "      <td>1 ação</td>\n",
              "      <td>18 metros</td>\n",
              "      <td>VSM (uma vinha murcha torcida em um loop)</td>\n",
              "      <td>700</td>\n",
              "      <td>instantânea</td>\n",
              "      <td>CON Save</td>\n",
              "      <td>necrótico</td>\n",
              "      <td>2d6</td>\n",
              "      <td>[arqueiro, ladino, guerreiro, bardo, monge, mago]</td>\n",
              "      <td>[dano, cura]</td>\n",
              "      <td>Você invoca ambos vida e morte em uma esfera d...</td>\n",
              "      <td>LDJ</td>\n",
              "      <td>N/A</td>\n",
              "      <td>False</td>\n",
              "    </tr>\n",
              "    <tr>\n",
              "      <th>170</th>\n",
              "      <td>Nublar</td>\n",
              "      <td>Blur</td>\n",
              "      <td>2</td>\n",
              "      <td>[ilusionista]</td>\n",
              "      <td>False</td>\n",
              "      <td>[]</td>\n",
              "      <td>1 ação</td>\n",
              "      <td>pessoal</td>\n",
              "      <td>V</td>\n",
              "      <td>600</td>\n",
              "      <td>concentração, até 1 minuto</td>\n",
              "      <td>N/A</td>\n",
              "      <td>N/A</td>\n",
              "      <td>N/A</td>\n",
              "      <td>[arqueiro, ladino, guerreiro, bardo, monge, mago]</td>\n",
              "      <td>[buff, defesa]</td>\n",
              "      <td>Seu corpo se torna turvo, mudando e oscilando ...</td>\n",
              "      <td>LDJ</td>\n",
              "      <td>10 por turno</td>\n",
              "      <td>False</td>\n",
              "    </tr>\n",
              "    <tr>\n",
              "      <th>171</th>\n",
              "      <td>Nuvem de Adagas</td>\n",
              "      <td>Cloud of Daggers</td>\n",
              "      <td>2</td>\n",
              "      <td>[elemental]</td>\n",
              "      <td>False</td>\n",
              "      <td>[água, terra, fogo, ar, luz, sombras, relâmpag...</td>\n",
              "      <td>1 ação</td>\n",
              "      <td>18 metros</td>\n",
              "      <td>VSM (uma lasca de vidro)</td>\n",
              "      <td>650</td>\n",
              "      <td>concentração, até 1 minuto</td>\n",
              "      <td>N/A</td>\n",
              "      <td>elemental</td>\n",
              "      <td>4d4</td>\n",
              "      <td>[arqueiro, ladino, bardo, mago]</td>\n",
              "      <td>[controle, dano]</td>\n",
              "      <td>Você preenche o ar com adagas giratórias num c...</td>\n",
              "      <td>LDJ</td>\n",
              "      <td>10 por turno</td>\n",
              "      <td>False</td>\n",
              "    </tr>\n",
              "    <tr>\n",
              "      <th>173</th>\n",
              "      <td>Parede de Vento</td>\n",
              "      <td>Custom</td>\n",
              "      <td>2</td>\n",
              "      <td>[elemental]</td>\n",
              "      <td>False</td>\n",
              "      <td>[ar]</td>\n",
              "      <td>1 ação</td>\n",
              "      <td>pessoal</td>\n",
              "      <td>VS</td>\n",
              "      <td>400</td>\n",
              "      <td>1 turno</td>\n",
              "      <td>N/A</td>\n",
              "      <td>N/A</td>\n",
              "      <td>N/A</td>\n",
              "      <td>[arqueiro, bardo, guerreiro, ladino, mago, monge]</td>\n",
              "      <td>[defesa]</td>\n",
              "      <td>Você conjura uma parede de vento de 1,5m de la...</td>\n",
              "      <td>Custom</td>\n",
              "      <td>N/A</td>\n",
              "      <td>False</td>\n",
              "    </tr>\n",
              "    <tr>\n",
              "      <th>174</th>\n",
              "      <td>Passeio Cinético</td>\n",
              "      <td>Kinetic Jaunt</td>\n",
              "      <td>2</td>\n",
              "      <td>[elemental]</td>\n",
              "      <td>False</td>\n",
              "      <td>[ar, luz, relâmpago]</td>\n",
              "      <td>1 ação bônus</td>\n",
              "      <td>pessoal</td>\n",
              "      <td>S</td>\n",
              "      <td>750</td>\n",
              "      <td>concentração, até 1 minuto</td>\n",
              "      <td>N/A</td>\n",
              "      <td>N/A</td>\n",
              "      <td>N/A</td>\n",
              "      <td>[arqueiro, ladino, guerreiro, bardo, monge, mago]</td>\n",
              "      <td>[buff]</td>\n",
              "      <td>Você magicamente empodera seu movimento com pa...</td>\n",
              "      <td>Etc.</td>\n",
              "      <td>10 por turno</td>\n",
              "      <td>False</td>\n",
              "    </tr>\n",
              "    <tr>\n",
              "      <th>175</th>\n",
              "      <td>Passo Nebuloso</td>\n",
              "      <td>Misty Step</td>\n",
              "      <td>2</td>\n",
              "      <td>[elemental]</td>\n",
              "      <td>False</td>\n",
              "      <td>[luz, sombras, relâmpago]</td>\n",
              "      <td>1 ação bônus</td>\n",
              "      <td>pessoal</td>\n",
              "      <td>V</td>\n",
              "      <td>700</td>\n",
              "      <td>instantânea</td>\n",
              "      <td>N/A</td>\n",
              "      <td>N/A</td>\n",
              "      <td>N/A</td>\n",
              "      <td>[arqueiro, ladino, guerreiro, bardo, monge, mago]</td>\n",
              "      <td>[exploração]</td>\n",
              "      <td>Você se teletransporta a até 9 metro para um e...</td>\n",
              "      <td>LDJ</td>\n",
              "      <td>N/A</td>\n",
              "      <td>False</td>\n",
              "    </tr>\n",
              "    <tr>\n",
              "      <th>176</th>\n",
              "      <td>Passos sem Pegadas</td>\n",
              "      <td>Pass without Trace</td>\n",
              "      <td>2</td>\n",
              "      <td>[elemental, ilusionista]</td>\n",
              "      <td>False</td>\n",
              "      <td>[sombras]</td>\n",
              "      <td>1 ação</td>\n",
              "      <td>pessoal</td>\n",
              "      <td>VSM (cinzas de uma folha de visco queimada e u...</td>\n",
              "      <td>700</td>\n",
              "      <td>instantânea</td>\n",
              "      <td>N/A</td>\n",
              "      <td>N/A</td>\n",
              "      <td>N/A</td>\n",
              "      <td>[arqueiro, ladino, guerreiro, bardo, monge, mago]</td>\n",
              "      <td>[buff, exploração]</td>\n",
              "      <td>Um véu de sombras e silêncio irradia de você, ...</td>\n",
              "      <td>LDJ</td>\n",
              "      <td>10 a cada 10 minutos</td>\n",
              "      <td>False</td>\n",
              "    </tr>\n",
              "    <tr>\n",
              "      <th>177</th>\n",
              "      <td>Patas de Aranha</td>\n",
              "      <td>Spider Climb</td>\n",
              "      <td>2</td>\n",
              "      <td>[elemental]</td>\n",
              "      <td>False</td>\n",
              "      <td>[água, terra, metal]</td>\n",
              "      <td>1 ação</td>\n",
              "      <td>toque</td>\n",
              "      <td>VSM (uma gota de betume e uma aranha)</td>\n",
              "      <td>640</td>\n",
              "      <td>concentração, até 1 hora</td>\n",
              "      <td>N/A</td>\n",
              "      <td>N/A</td>\n",
              "      <td>N/A</td>\n",
              "      <td>[arqueiro, ladino, guerreiro, bardo, monge, mago]</td>\n",
              "      <td>[buff, toque, exploração]</td>\n",
              "      <td>Até a magia acabar, uma criatura voluntária qu...</td>\n",
              "      <td>LDJ</td>\n",
              "      <td>10 a cada 10 minutos</td>\n",
              "      <td>False</td>\n",
              "    </tr>\n",
              "    <tr>\n",
              "      <th>179</th>\n",
              "      <td>Pirotecnia</td>\n",
              "      <td>Pyrotechnics</td>\n",
              "      <td>2</td>\n",
              "      <td>[elemental]</td>\n",
              "      <td>False</td>\n",
              "      <td>[fogo]</td>\n",
              "      <td>1 ação</td>\n",
              "      <td>18 metros</td>\n",
              "      <td>VS</td>\n",
              "      <td>750</td>\n",
              "      <td>instantânea</td>\n",
              "      <td>CON Save</td>\n",
              "      <td>N/A</td>\n",
              "      <td>N/A</td>\n",
              "      <td>[arqueiro, ladino, guerreiro, bardo, monge, mago]</td>\n",
              "      <td>[debuff, controle]</td>\n",
              "      <td>Escolha uma área de chamas que você possa ver ...</td>\n",
              "      <td>Xanathar</td>\n",
              "      <td>N/A</td>\n",
              "      <td>False</td>\n",
              "    </tr>\n",
              "    <tr>\n",
              "      <th>180</th>\n",
              "      <td>Proteção contra o Veneno</td>\n",
              "      <td>Protection from Poison</td>\n",
              "      <td>2</td>\n",
              "      <td>[elemental]</td>\n",
              "      <td>False</td>\n",
              "      <td>[água, luz, veneno]</td>\n",
              "      <td>1 ação</td>\n",
              "      <td>toque</td>\n",
              "      <td>VS</td>\n",
              "      <td>1000</td>\n",
              "      <td>1 hora</td>\n",
              "      <td>N/A</td>\n",
              "      <td>N/A</td>\n",
              "      <td>N/A</td>\n",
              "      <td>[arqueiro, ladino, guerreiro, bardo, monge, mago]</td>\n",
              "      <td>[defesa, toque]</td>\n",
              "      <td>Você toca uma criatura. Se ela estiver envenen...</td>\n",
              "      <td>LDJ</td>\n",
              "      <td>N/A</td>\n",
              "      <td>True</td>\n",
              "    </tr>\n",
              "    <tr>\n",
              "      <th>181</th>\n",
              "      <td>Raio Elemental</td>\n",
              "      <td>Scorching Ray</td>\n",
              "      <td>2</td>\n",
              "      <td>[elemental]</td>\n",
              "      <td>False</td>\n",
              "      <td>[água, terra, fogo, ar, luz, sombras, relâmpag...</td>\n",
              "      <td>1 ação</td>\n",
              "      <td>36 metros</td>\n",
              "      <td>VS</td>\n",
              "      <td>800</td>\n",
              "      <td>instantânea</td>\n",
              "      <td>N/A</td>\n",
              "      <td>N/A</td>\n",
              "      <td>6d6</td>\n",
              "      <td>[arqueiro, ladino, guerreiro, bardo, monge, mago]</td>\n",
              "      <td>[dano, distância]</td>\n",
              "      <td>Você cria três raios elementais e os arremessa...</td>\n",
              "      <td>LDJ</td>\n",
              "      <td>N/A</td>\n",
              "      <td>False</td>\n",
              "    </tr>\n",
              "    <tr>\n",
              "      <th>183</th>\n",
              "      <td>Raio do Enfraquecimento</td>\n",
              "      <td>Ray of Enfeeblement</td>\n",
              "      <td>2</td>\n",
              "      <td>[elemental, necromancia, musical]</td>\n",
              "      <td>False</td>\n",
              "      <td>[sombras, metal, veneno]</td>\n",
              "      <td>1 ação</td>\n",
              "      <td>18 metros</td>\n",
              "      <td>VS</td>\n",
              "      <td>750</td>\n",
              "      <td>concentração, até 1 minuto</td>\n",
              "      <td>CON Save</td>\n",
              "      <td>N/A</td>\n",
              "      <td>N/A</td>\n",
              "      <td>[arqueiro, bardo, mago]</td>\n",
              "      <td>[distância, debuff]</td>\n",
              "      <td>Um raio negro de energia enervante parte em di...</td>\n",
              "      <td>LDJ</td>\n",
              "      <td>10 de mana por turno</td>\n",
              "      <td>False</td>\n",
              "    </tr>\n",
              "    <tr>\n",
              "      <th>184</th>\n",
              "      <td>Rebanho de Familiares</td>\n",
              "      <td>Flock of Familiars</td>\n",
              "      <td>2</td>\n",
              "      <td>[invocação]</td>\n",
              "      <td>False</td>\n",
              "      <td>[]</td>\n",
              "      <td>1 minuto</td>\n",
              "      <td>toque</td>\n",
              "      <td>VS</td>\n",
              "      <td>1400</td>\n",
              "      <td>concentração, até 1 hora</td>\n",
              "      <td>N/A</td>\n",
              "      <td>N/A</td>\n",
              "      <td>N/A</td>\n",
              "      <td>[arqueiro, ladino, guerreiro, bardo, monge, mago]</td>\n",
              "      <td>[comunicação, detecção, exploração]</td>\n",
              "      <td>Você temporariamente invoca três familiares - ...</td>\n",
              "      <td>Etc.</td>\n",
              "      <td>50 a cada 5 minutos</td>\n",
              "      <td>False</td>\n",
              "    </tr>\n",
              "    <tr>\n",
              "      <th>185</th>\n",
              "      <td>Reflexos</td>\n",
              "      <td>Mirror Image</td>\n",
              "      <td>2</td>\n",
              "      <td>[ilusionista]</td>\n",
              "      <td>False</td>\n",
              "      <td>[]</td>\n",
              "      <td>1 ação</td>\n",
              "      <td>pessoal</td>\n",
              "      <td>VS</td>\n",
              "      <td>750</td>\n",
              "      <td>1 minuto</td>\n",
              "      <td>N/A</td>\n",
              "      <td>N/A</td>\n",
              "      <td>N/A</td>\n",
              "      <td>[arqueiro, ladino, guerreiro, bardo, monge, mago]</td>\n",
              "      <td>[debuff, defesa]</td>\n",
              "      <td>Três duplicatas ilusórias de você aparecem no ...</td>\n",
              "      <td>LDJ</td>\n",
              "      <td>N/A</td>\n",
              "      <td>False</td>\n",
              "    </tr>\n",
              "    <tr>\n",
              "      <th>187</th>\n",
              "      <td>Restauração Menor</td>\n",
              "      <td>Lesser Restoration</td>\n",
              "      <td>2</td>\n",
              "      <td>[elemental]</td>\n",
              "      <td>False</td>\n",
              "      <td>[água, terra, luz, veneno]</td>\n",
              "      <td>1 ação</td>\n",
              "      <td>toque</td>\n",
              "      <td>VS</td>\n",
              "      <td>800</td>\n",
              "      <td>instantânea</td>\n",
              "      <td>N/A</td>\n",
              "      <td>N/A</td>\n",
              "      <td>N/A</td>\n",
              "      <td>[arqueiro, bardo, monge, mago]</td>\n",
              "      <td>[buff, defesa]</td>\n",
              "      <td>Você toca uma criatura e pode ou acabar com um...</td>\n",
              "      <td>LDJ</td>\n",
              "      <td>N/A</td>\n",
              "      <td>False</td>\n",
              "    </tr>\n",
              "    <tr>\n",
              "      <th>188</th>\n",
              "      <td>Sentido Bestial</td>\n",
              "      <td>Beast Sense</td>\n",
              "      <td>2</td>\n",
              "      <td>[elemental, musical, invocação]</td>\n",
              "      <td>False</td>\n",
              "      <td>[terra]</td>\n",
              "      <td>1 ação</td>\n",
              "      <td>toque</td>\n",
              "      <td>S</td>\n",
              "      <td>500</td>\n",
              "      <td>concentração, até 1 hora</td>\n",
              "      <td>N/A</td>\n",
              "      <td>N/A</td>\n",
              "      <td>N/A</td>\n",
              "      <td>[arqueiro, ladino, guerreiro, bardo, monge, mago]</td>\n",
              "      <td>[exploração, toque]</td>\n",
              "      <td>Você toca uma besta voluntária. Pela duração d...</td>\n",
              "      <td>LDJ</td>\n",
              "      <td>20 a cada 5 minutos</td>\n",
              "      <td>False</td>\n",
              "    </tr>\n",
              "    <tr>\n",
              "      <th>189</th>\n",
              "      <td>Silêncio</td>\n",
              "      <td>Silence</td>\n",
              "      <td>2</td>\n",
              "      <td>[ilusionista, musical]</td>\n",
              "      <td>False</td>\n",
              "      <td>[]</td>\n",
              "      <td>1 ação</td>\n",
              "      <td>36 metros</td>\n",
              "      <td>VS</td>\n",
              "      <td>700</td>\n",
              "      <td>concentração, até 10 minutos</td>\n",
              "      <td>N/A</td>\n",
              "      <td>N/A</td>\n",
              "      <td>N/A</td>\n",
              "      <td>[arqueiro, bardo, monge, mago]</td>\n",
              "      <td>[debuff, controle, defesa]</td>\n",
              "      <td>Pela duração, nenhum som pode ser criado dentr...</td>\n",
              "      <td>LDJ</td>\n",
              "      <td>15 por minuto</td>\n",
              "      <td>False</td>\n",
              "    </tr>\n",
              "    <tr>\n",
              "      <th>191</th>\n",
              "      <td>Sugestão</td>\n",
              "      <td>Suggestion</td>\n",
              "      <td>2</td>\n",
              "      <td>[ilusionista, musical]</td>\n",
              "      <td>False</td>\n",
              "      <td>[]</td>\n",
              "      <td>1 ação</td>\n",
              "      <td>9 metros</td>\n",
              "      <td>VM (uma língua de cobra e, ou um pedaço de fav...</td>\n",
              "      <td>600</td>\n",
              "      <td>concentração, até 8 horas</td>\n",
              "      <td>WIS Save</td>\n",
              "      <td>N/A</td>\n",
              "      <td>N/A</td>\n",
              "      <td>[arqueiro, ladino, guerreiro, bardo, monge, mago]</td>\n",
              "      <td>[debuff, controle, social]</td>\n",
              "      <td>Você sugere um curso de atividade (limitado a ...</td>\n",
              "      <td>LDJ</td>\n",
              "      <td>10 por hora</td>\n",
              "      <td>False</td>\n",
              "    </tr>\n",
              "    <tr>\n",
              "      <th>195</th>\n",
              "      <td>Truque de Corda</td>\n",
              "      <td>Rope Trick</td>\n",
              "      <td>2</td>\n",
              "      <td>[pura]</td>\n",
              "      <td>False</td>\n",
              "      <td>[]</td>\n",
              "      <td>1 ação</td>\n",
              "      <td>toque</td>\n",
              "      <td>VSM (pó de extrato de milho e um laço de perga...</td>\n",
              "      <td>3000</td>\n",
              "      <td>1 hora</td>\n",
              "      <td>N/A</td>\n",
              "      <td>N/A</td>\n",
              "      <td>N/A</td>\n",
              "      <td>[arqueiro, ladino, guerreiro, bardo, monge, mago]</td>\n",
              "      <td>[utilidade, toque]</td>\n",
              "      <td>Você toca um pedaço de corda que tenha até 18 ...</td>\n",
              "      <td>LDJ</td>\n",
              "      <td>N/A</td>\n",
              "      <td>False</td>\n",
              "    </tr>\n",
              "    <tr>\n",
              "      <th>197</th>\n",
              "      <td>Ver o Invisível</td>\n",
              "      <td>See Invisibility</td>\n",
              "      <td>2</td>\n",
              "      <td>[espiritual, necromancia, pura, elemental]</td>\n",
              "      <td>False</td>\n",
              "      <td>[sombras]</td>\n",
              "      <td>1 ação</td>\n",
              "      <td>pessoal</td>\n",
              "      <td>VSM (um pouco de talco e um pó de prata polvil...</td>\n",
              "      <td>700</td>\n",
              "      <td>1 hora</td>\n",
              "      <td>N/A</td>\n",
              "      <td>N/A</td>\n",
              "      <td>N/A</td>\n",
              "      <td>[arqueiro, ladino, guerreiro, bardo, monge, mago]</td>\n",
              "      <td>[buff, detecção]</td>\n",
              "      <td>Pela duração, você vê criaturas e objetos invi...</td>\n",
              "      <td>LDJ</td>\n",
              "      <td>N/A</td>\n",
              "      <td>False</td>\n",
              "    </tr>\n",
              "    <tr>\n",
              "      <th>198</th>\n",
              "      <td>Visão no Escuro</td>\n",
              "      <td>Darkvision</td>\n",
              "      <td>2</td>\n",
              "      <td>[elemental, necromancia, espiritual]</td>\n",
              "      <td>False</td>\n",
              "      <td>[luz, sombras]</td>\n",
              "      <td>1 ação</td>\n",
              "      <td>toque</td>\n",
              "      <td>VSM (ou um pedaço de cenoura seca ou uma ágata)</td>\n",
              "      <td>700</td>\n",
              "      <td>8 horas</td>\n",
              "      <td>N/A</td>\n",
              "      <td>N/A</td>\n",
              "      <td>N/A</td>\n",
              "      <td>[arqueiro, ladino, guerreiro, bardo, monge, mago]</td>\n",
              "      <td>[buff, exploração, toque]</td>\n",
              "      <td>Você toca uma criatura voluntária para concede...</td>\n",
              "      <td>LDJ</td>\n",
              "      <td>N/A</td>\n",
              "      <td>False</td>\n",
              "    </tr>\n",
              "  </tbody>\n",
              "</table>\n",
              "</div>"
            ],
            "text/plain": [
              "                                             nome                      name  \\\n",
              "123                                    Alterar-se                Alter Self   \n",
              "126                                   Arma Mágica              Magic Weapon   \n",
              "129           Aura Mágica Ilusionista (de Nystul)     Arcanist's Magic Aura   \n",
              "131                                Boca Encantada               Magic Month   \n",
              "134                               Cegueira/Surdez        Blindness/Deafness   \n",
              "135                                Chama Contínua           Continual Flame   \n",
              "136                     Chicote Mental (de Tasha)         Tasha's Mind Whip   \n",
              "138                             Convocar Montaria                Find Steed   \n",
              "141                                    Despedaçar                   Shatter   \n",
              "142                          Detectar Pensamentos           Detect Thoughts   \n",
              "144                             Discurso Enganoso               Gift of Gab   \n",
              "145                        Emprestar Conhecimento        Borrowed Knowledge   \n",
              "146                          Encontrar Armadilhas                Find Traps   \n",
              "147                               Escrita Celeste                  Skywrite   \n",
              "148                                     Escuridão                  Darkness   \n",
              "150                                Espinho Mental                Mind Spike   \n",
              "153                             Flecha Perfurante                    Custom   \n",
              "154                        Flecha Ácida (de Melf)                Acid Arrow   \n",
              "155                          Força Fantasmagórica          Phantasmal Force   \n",
              "161  Invocar Lâmina Elemental (Lâmina Flamejante)               Flame Blade   \n",
              "163                  Localizar Animais ou Plantas  Locate Animals or Plants   \n",
              "164                              Localizar Objeto             Locate Object   \n",
              "165                               Lufada de Vento              Gust of Wind   \n",
              "166                                Lâmina Sombria              Shadow Blade   \n",
              "167                              Marca Reveladora            Branding Smite   \n",
              "168                             Mensageiro Animal          Animal Messenger   \n",
              "169                           Murchar e Florescer          Wither and Bloom   \n",
              "170                                        Nublar                      Blur   \n",
              "171                               Nuvem de Adagas          Cloud of Daggers   \n",
              "173                               Parede de Vento                    Custom   \n",
              "174                              Passeio Cinético             Kinetic Jaunt   \n",
              "175                                Passo Nebuloso                Misty Step   \n",
              "176                            Passos sem Pegadas        Pass without Trace   \n",
              "177                               Patas de Aranha              Spider Climb   \n",
              "179                                    Pirotecnia              Pyrotechnics   \n",
              "180                      Proteção contra o Veneno    Protection from Poison   \n",
              "181                                Raio Elemental             Scorching Ray   \n",
              "183                       Raio do Enfraquecimento       Ray of Enfeeblement   \n",
              "184                         Rebanho de Familiares        Flock of Familiars   \n",
              "185                                      Reflexos              Mirror Image   \n",
              "187                             Restauração Menor        Lesser Restoration   \n",
              "188                               Sentido Bestial               Beast Sense   \n",
              "189                                      Silêncio                   Silence   \n",
              "191                                      Sugestão                Suggestion   \n",
              "195                               Truque de Corda                Rope Trick   \n",
              "197                               Ver o Invisível          See Invisibility   \n",
              "198                               Visão no Escuro                Darkvision   \n",
              "\n",
              "     nivel                                             escola  ritual  \\\n",
              "123      2                           [elemental, ilusionista]   False   \n",
              "126      2  [elemental, necromancia, espiritual, ilusionis...   False   \n",
              "129      2                                      [ilusionista]   False   \n",
              "131      2                                 [musical, receita]   False   \n",
              "134      2  [necromancia, ilusionista, espiritual, musical...   False   \n",
              "135      2                                        [elemental]   False   \n",
              "136      2                             [ilusionista, musical]   False   \n",
              "138      2               [invocação, necromancia, espiritual]   False   \n",
              "141      2                               [elemental, musical]   False   \n",
              "142      2                                         [psíquica]   False   \n",
              "144      2                                         [psíquica]   False   \n",
              "145      2                                       [espiritual]   False   \n",
              "146      2                                       [espiritual]   False   \n",
              "147      2                           [elemental, ilusionista]   False   \n",
              "148      2                           [elemental, necromancia]   False   \n",
              "150      2                                         [psíquica]   False   \n",
              "153      2                                        [elemental]   False   \n",
              "154      2                                        [elemental]   False   \n",
              "155      2                            [ilusionista, psíquica]   False   \n",
              "161      2                                        [elemental]   False   \n",
              "163      2                                        [elemental]   False   \n",
              "164      2                               [elemental, receita]   False   \n",
              "165      2                                        [elemental]   False   \n",
              "166      2                                        [elemental]   False   \n",
              "167      2                                        [elemental]   False   \n",
              "168      2                    [elemental, invocação, musical]    True   \n",
              "169      2                                      [necromancia]   False   \n",
              "170      2                                      [ilusionista]   False   \n",
              "171      2                                        [elemental]   False   \n",
              "173      2                                        [elemental]   False   \n",
              "174      2                                        [elemental]   False   \n",
              "175      2                                        [elemental]   False   \n",
              "176      2                           [elemental, ilusionista]   False   \n",
              "177      2                                        [elemental]   False   \n",
              "179      2                                        [elemental]   False   \n",
              "180      2                                        [elemental]   False   \n",
              "181      2                                        [elemental]   False   \n",
              "183      2                  [elemental, necromancia, musical]   False   \n",
              "184      2                                        [invocação]   False   \n",
              "185      2                                      [ilusionista]   False   \n",
              "187      2                                        [elemental]   False   \n",
              "188      2                    [elemental, musical, invocação]   False   \n",
              "189      2                             [ilusionista, musical]   False   \n",
              "191      2                             [ilusionista, musical]   False   \n",
              "195      2                                             [pura]   False   \n",
              "197      2         [espiritual, necromancia, pura, elemental]   False   \n",
              "198      2               [elemental, necromancia, espiritual]   False   \n",
              "\n",
              "                                             elementos tempo_conjuracao  \\\n",
              "123  [água, terra, fogo, ar, luz, sombras, relâmpag...           1 ação   \n",
              "126  [água, terra, fogo, ar, luz, sombras, relâmpag...     1 ação bônus   \n",
              "129                                                 []           1 ação   \n",
              "131                                                 []         1 minuto   \n",
              "134                                     [luz, sombras]           1 ação   \n",
              "135                             [fogo, luz, relâmpago]           1 ação   \n",
              "136                                                 []           1 ação   \n",
              "138                                                 []       10 minutos   \n",
              "141            [ar, sombras, relâmpago, metal, veneno]           1 ação   \n",
              "142                                                 []           1 ação   \n",
              "144                                                 []         1 reação   \n",
              "145                                                 []           1 ação   \n",
              "146                                                 []           1 ação   \n",
              "147                                               [ar]           1 ação   \n",
              "148                                          [sombras]           1 ação   \n",
              "150                                                 []           1 ação   \n",
              "153  [água, terra, fogo, ar, luz, sombras, relâmpag...           1 ação   \n",
              "154                                           [veneno]           1 ação   \n",
              "155                                                 []           1 ação   \n",
              "161  [água, terra, fogo, ar, luz, sombras, relâmpag...     1 ação bônus   \n",
              "163                                            [terra]           1 ação   \n",
              "164                                     [terra, metal]           1 ação   \n",
              "165                                               [ar]           1 ação   \n",
              "166                                          [sombras]     1 ação bônus   \n",
              "167                                              [luz]     1 ação bônus   \n",
              "168                                            [terra]           1 ação   \n",
              "169                                                 []           1 ação   \n",
              "170                                                 []           1 ação   \n",
              "171  [água, terra, fogo, ar, luz, sombras, relâmpag...           1 ação   \n",
              "173                                               [ar]           1 ação   \n",
              "174                               [ar, luz, relâmpago]     1 ação bônus   \n",
              "175                          [luz, sombras, relâmpago]     1 ação bônus   \n",
              "176                                          [sombras]           1 ação   \n",
              "177                               [água, terra, metal]           1 ação   \n",
              "179                                             [fogo]           1 ação   \n",
              "180                                [água, luz, veneno]           1 ação   \n",
              "181  [água, terra, fogo, ar, luz, sombras, relâmpag...           1 ação   \n",
              "183                           [sombras, metal, veneno]           1 ação   \n",
              "184                                                 []         1 minuto   \n",
              "185                                                 []           1 ação   \n",
              "187                         [água, terra, luz, veneno]           1 ação   \n",
              "188                                            [terra]           1 ação   \n",
              "189                                                 []           1 ação   \n",
              "191                                                 []           1 ação   \n",
              "195                                                 []           1 ação   \n",
              "197                                          [sombras]           1 ação   \n",
              "198                                     [luz, sombras]           1 ação   \n",
              "\n",
              "    alcance_area                                        componentes  mana  \\\n",
              "123      pessoal                                                 VS   600   \n",
              "126        toque                                                 VS   750   \n",
              "129        toque                  VSM (um pequeno quadrado de seda)   650   \n",
              "131     9 metros  VSM (um pedaço de favo de mel e pó de jade val...   850   \n",
              "134     9 metros                                                 VS   700   \n",
              "135        toque  VSM (pó de rubi no valor de 50 po, consumido p...  1500   \n",
              "136    27 metros                                                  V   900   \n",
              "138     9 metros                                                 VS  1400   \n",
              "141    18 metros                            VSM (uma lasca de mica)   800   \n",
              "142     9 metros                           VSM (um pedaço de cobre)   600   \n",
              "144      pessoal                                         VSM (2 po)   700   \n",
              "145      pessoal          VSM (um livro que custe pelo menos 25 po)  1000   \n",
              "146    36 metros                                                 VS   700   \n",
              "147      pessoal                                                 VS   700   \n",
              "148    18 metros  VM (pelo de morcego e uma gota de piche ou ped...   600   \n",
              "150    18 metros                                                  S   800   \n",
              "153      pessoal                      VSM (um pouco de pó de prata)   650   \n",
              "154    36 metros  VSM (folha de ruibarbo em pó eo estômago de um...   550   \n",
              "155    18 metros                               VSM (um pouco de lã)   800   \n",
              "161      pessoal                             VSM (folha de sumagre)   700   \n",
              "163      pessoal           VSM (um pouco de pelo de um cão de caça)   750   \n",
              "164      pessoal                           VSM (um galho bifurcado)   750   \n",
              "165      pessoal                        VSM (uma semente de legume)   700   \n",
              "166      pessoal                                                 VS   650   \n",
              "167      pessoal                                                  V   650   \n",
              "168     9 metros                         VSM (um punhado de comida)   650   \n",
              "169    18 metros          VSM (uma vinha murcha torcida em um loop)   700   \n",
              "170      pessoal                                                  V   600   \n",
              "171    18 metros                           VSM (uma lasca de vidro)   650   \n",
              "173      pessoal                                                 VS   400   \n",
              "174      pessoal                                                  S   750   \n",
              "175      pessoal                                                  V   700   \n",
              "176      pessoal  VSM (cinzas de uma folha de visco queimada e u...   700   \n",
              "177        toque              VSM (uma gota de betume e uma aranha)   640   \n",
              "179    18 metros                                                 VS   750   \n",
              "180        toque                                                 VS  1000   \n",
              "181    36 metros                                                 VS   800   \n",
              "183    18 metros                                                 VS   750   \n",
              "184        toque                                                 VS  1400   \n",
              "185      pessoal                                                 VS   750   \n",
              "187        toque                                                 VS   800   \n",
              "188        toque                                                  S   500   \n",
              "189    36 metros                                                 VS   700   \n",
              "191     9 metros  VM (uma língua de cobra e, ou um pedaço de fav...   600   \n",
              "195        toque  VSM (pó de extrato de milho e um laço de perga...  3000   \n",
              "197      pessoal  VSM (um pouco de talco e um pó de prata polvil...   700   \n",
              "198        toque    VSM (ou um pedaço de cenoura seca ou uma ágata)   700   \n",
              "\n",
              "                          duracao    attack_save dmg_effect        dmg  \\\n",
              "123      concentração, até 1 hora            N/A        N/A        N/A   \n",
              "126      concentração, até 1 hora            N/A        N/A        N/A   \n",
              "129                      24 horas            N/A        N/A        N/A   \n",
              "131             até ser dissipada            N/A        N/A        N/A   \n",
              "134                      1 minuto            N/A        N/A        N/A   \n",
              "135             até ser dissipada            N/A        N/A        N/A   \n",
              "136                      1 rodada       INT Save   psíquico        3d6   \n",
              "138                   instantânea            N/A        N/A        N/A   \n",
              "141                   instantânea       CON Save  elemental        3d8   \n",
              "142    concentração, até 1 minuto       WIS Save        N/A        N/A   \n",
              "144                   instantânea            N/A        N/A        N/A   \n",
              "145                        1 hora            N/A        N/A        N/A   \n",
              "146                   instantânea            N/A        N/A        N/A   \n",
              "147                        1 hora            N/A        N/A        N/A   \n",
              "148  concentração, até 10 minutos            N/A        N/A        N/A   \n",
              "150      concentração, até 1 hora       WIS Save   psíquico        3d8   \n",
              "153                   instantânea       DEX Save  elemental        1d6   \n",
              "154                   instantânea      distância      ácido  4d4 + 2d4   \n",
              "155    concentração, até 1 minuto       INT Save   psíquico        1d6   \n",
              "161  concentração, até 10 minutos  corpo-a-corpo  elemental        3d6   \n",
              "163                   instantânea            N/A        N/A        N/A   \n",
              "164  concentração, até 10 minutos            N/A        N/A        N/A   \n",
              "165    concentração, até 1 minuto       STR Save        N/A        N/A   \n",
              "166    concentração, até 1 minuto            N/A    sombras        2d8   \n",
              "167    concentração, até 1 minuto            N/A        luz        2d6   \n",
              "168                      24 horas            N/A        N/A        N/A   \n",
              "169                   instantânea       CON Save  necrótico        2d6   \n",
              "170    concentração, até 1 minuto            N/A        N/A        N/A   \n",
              "171    concentração, até 1 minuto            N/A  elemental        4d4   \n",
              "173                       1 turno            N/A        N/A        N/A   \n",
              "174    concentração, até 1 minuto            N/A        N/A        N/A   \n",
              "175                   instantânea            N/A        N/A        N/A   \n",
              "176                   instantânea            N/A        N/A        N/A   \n",
              "177      concentração, até 1 hora            N/A        N/A        N/A   \n",
              "179                   instantânea       CON Save        N/A        N/A   \n",
              "180                        1 hora            N/A        N/A        N/A   \n",
              "181                   instantânea            N/A        N/A        6d6   \n",
              "183    concentração, até 1 minuto       CON Save        N/A        N/A   \n",
              "184      concentração, até 1 hora            N/A        N/A        N/A   \n",
              "185                      1 minuto            N/A        N/A        N/A   \n",
              "187                   instantânea            N/A        N/A        N/A   \n",
              "188      concentração, até 1 hora            N/A        N/A        N/A   \n",
              "189  concentração, até 10 minutos            N/A        N/A        N/A   \n",
              "191     concentração, até 8 horas       WIS Save        N/A        N/A   \n",
              "195                        1 hora            N/A        N/A        N/A   \n",
              "197                        1 hora            N/A        N/A        N/A   \n",
              "198                       8 horas            N/A        N/A        N/A   \n",
              "\n",
              "                                               classes  \\\n",
              "123  [arqueiro, ladino, guerreiro, bardo, monge, mago]   \n",
              "126  [arqueiro, ladino, guerreiro, bardo, monge, mago]   \n",
              "129  [arqueiro, ladino, guerreiro, bardo, monge, mago]   \n",
              "131  [arqueiro, ladino, guerreiro, bardo, monge, mago]   \n",
              "134  [arqueiro, ladino, guerreiro, bardo, monge, mago]   \n",
              "135                            [arqueiro, bardo, mago]   \n",
              "136  [arqueiro, ladino, guerreiro, bardo, monge, mago]   \n",
              "138                 [arqueiro, guerreiro, bardo, mago]   \n",
              "141                     [arqueiro, bardo, monge, mago]   \n",
              "142  [arqueiro, ladino, guerreiro, bardo, monge, mago]   \n",
              "144  [arqueiro, ladino, guerreiro, bardo, monge, mago]   \n",
              "145  [arqueiro, ladino, guerreiro, bardo, monge, mago]   \n",
              "146  [arqueiro, ladino, guerreiro, bardo, monge, mago]   \n",
              "147  [arqueiro, ladino, guerreiro, bardo, monge, mago]   \n",
              "148  [arqueiro, ladino, guerreiro, bardo, monge, mago]   \n",
              "150  [arqueiro, ladino, guerreiro, bardo, monge, mago]   \n",
              "153  [arqueiro, bardo, guerreiro, ladino, mago, mon...   \n",
              "154  [arqueiro, ladino, guerreiro, bardo, monge, mago]   \n",
              "155  [arqueiro, ladino, guerreiro, bardo, monge, mago]   \n",
              "161  [arqueiro, ladino, guerreiro, bardo, monge, mago]   \n",
              "163  [arqueiro, ladino, guerreiro, bardo, monge, mago]   \n",
              "164  [arqueiro, ladino, guerreiro, bardo, monge, mago]   \n",
              "165  [arqueiro, ladino, guerreiro, bardo, monge, mago]   \n",
              "166  [arqueiro, ladino, guerreiro, bardo, monge, mago]   \n",
              "167  [arqueiro, ladino, guerreiro, bardo, monge, mago]   \n",
              "168          [arqueiro, guerreiro, bardo, monge, mago]   \n",
              "169  [arqueiro, ladino, guerreiro, bardo, monge, mago]   \n",
              "170  [arqueiro, ladino, guerreiro, bardo, monge, mago]   \n",
              "171                    [arqueiro, ladino, bardo, mago]   \n",
              "173  [arqueiro, bardo, guerreiro, ladino, mago, monge]   \n",
              "174  [arqueiro, ladino, guerreiro, bardo, monge, mago]   \n",
              "175  [arqueiro, ladino, guerreiro, bardo, monge, mago]   \n",
              "176  [arqueiro, ladino, guerreiro, bardo, monge, mago]   \n",
              "177  [arqueiro, ladino, guerreiro, bardo, monge, mago]   \n",
              "179  [arqueiro, ladino, guerreiro, bardo, monge, mago]   \n",
              "180  [arqueiro, ladino, guerreiro, bardo, monge, mago]   \n",
              "181  [arqueiro, ladino, guerreiro, bardo, monge, mago]   \n",
              "183                            [arqueiro, bardo, mago]   \n",
              "184  [arqueiro, ladino, guerreiro, bardo, monge, mago]   \n",
              "185  [arqueiro, ladino, guerreiro, bardo, monge, mago]   \n",
              "187                     [arqueiro, bardo, monge, mago]   \n",
              "188  [arqueiro, ladino, guerreiro, bardo, monge, mago]   \n",
              "189                     [arqueiro, bardo, monge, mago]   \n",
              "191  [arqueiro, ladino, guerreiro, bardo, monge, mago]   \n",
              "195  [arqueiro, ladino, guerreiro, bardo, monge, mago]   \n",
              "197  [arqueiro, ladino, guerreiro, bardo, monge, mago]   \n",
              "198  [arqueiro, ladino, guerreiro, bardo, monge, mago]   \n",
              "\n",
              "                                                  tags  \\\n",
              "123                [buff, utilidade, dano, exploração]   \n",
              "126                          [buff, dano, arma, toque]   \n",
              "129          [toque, buff, utilidade, detecção, toque]   \n",
              "131                           [utilidade, comunicação]   \n",
              "134                                 [debuff, controle]   \n",
              "135                         [utilidade, defesa, toque]   \n",
              "136                           [debuff, controle, dano]   \n",
              "138                    [dano, comunicação, exploração]   \n",
              "141                                             [dano]   \n",
              "142                     [social, detecção, exploração]   \n",
              "144                                           [social]   \n",
              "145                                             [buff]   \n",
              "146                     [defesa, detecção, exploração]   \n",
              "147                                      [comunicação]   \n",
              "148                                 [debuff, controle]   \n",
              "150                           [debuff, dano, detecção]   \n",
              "153                            [dano, distância, arma]   \n",
              "154                                  [dano, distância]   \n",
              "155                                     [debuff, dano]   \n",
              "161                              [dano, corpo-a-corpo]   \n",
              "163                             [exploração, detecção]   \n",
              "164                             [exploração, detecção]   \n",
              "165                                         [controle]   \n",
              "166                        [dano, corpo-a-corpo, arma]   \n",
              "167  [debuff, controle, dano, corpo-a-corpo, arma, ...   \n",
              "168                           [utilidade, comunicação]   \n",
              "169                                       [dano, cura]   \n",
              "170                                     [buff, defesa]   \n",
              "171                                   [controle, dano]   \n",
              "173                                           [defesa]   \n",
              "174                                             [buff]   \n",
              "175                                       [exploração]   \n",
              "176                                 [buff, exploração]   \n",
              "177                          [buff, toque, exploração]   \n",
              "179                                 [debuff, controle]   \n",
              "180                                    [defesa, toque]   \n",
              "181                                  [dano, distância]   \n",
              "183                                [distância, debuff]   \n",
              "184                [comunicação, detecção, exploração]   \n",
              "185                                   [debuff, defesa]   \n",
              "187                                     [buff, defesa]   \n",
              "188                                [exploração, toque]   \n",
              "189                         [debuff, controle, defesa]   \n",
              "191                         [debuff, controle, social]   \n",
              "195                                 [utilidade, toque]   \n",
              "197                                   [buff, detecção]   \n",
              "198                          [buff, exploração, toque]   \n",
              "\n",
              "                                             descricao    source  \\\n",
              "123  Você assume uma forma diferente. Quando conjur...       LDJ   \n",
              "126  Você toca uma arma não-magica. Até a magia aca...       LDJ   \n",
              "129  Você coloca uma ilusão em uma criatura ou obje...       LDJ   \n",
              "131  Você implanta uma mensagem em um objeto dentro...       LDJ   \n",
              "134  Você pode cegar ou ensurdecer um oponente. Esc...       LDJ   \n",
              "135  Uma chama, que produz iluminação equivalente a...       LDJ   \n",
              "136  Você enlaça psiquicamente uma criatura a sua v...     Tasha   \n",
              "138  Você convoca um espírito que assume a forma de...       LDJ   \n",
              "141  Um alto som estridente, dolorosamente intenso,...       LDJ   \n",
              "142  Pela duração, você pode ler os pensamentos de ...       LDJ   \n",
              "144  Quando você conjura essa magia, você habilidos...       LDJ   \n",
              "145  Você recebe conhecimento de espíritos do passa...      Etc.   \n",
              "146  Você sente a presença de qualquer armadilha de...       LDJ   \n",
              "147  Você cria até dez palavras em uma parte do céu...       LDJ   \n",
              "148  Escuridão mágica se espalha a partir de um pon...       LDJ   \n",
              "150  Você alcança a mente de uma criatura que você ...  Xanathar   \n",
              "153  Você utiliza uma arma de ataque à distância co...       LDJ   \n",
              "154  Você cospe uma flecha esverdeada cintilante qu...       LDJ   \n",
              "155  Você constrói uma ilusão que se enraíza na men...       LDJ   \n",
              "161  Você evoca uma lâmina elemental ardente em sua...       LDJ   \n",
              "163  Descreva ou nomeia um tipo específico de besta...       LDJ   \n",
              "164  Descreva ou nomeie um objeto que seja familiar...       LDJ   \n",
              "165  Uma linha de vento forte, com 18 metros de com...       LDJ   \n",
              "166  Você entrelaça fios de sombras para criar uma ...       LDJ   \n",
              "167  Da próxima vez que você atingir uma criatura c...       LDJ   \n",
              "168  Através dessa magia, você usa um animal para e...       LDJ   \n",
              "169  Você invoca ambos vida e morte em uma esfera d...       LDJ   \n",
              "170  Seu corpo se torna turvo, mudando e oscilando ...       LDJ   \n",
              "171  Você preenche o ar com adagas giratórias num c...       LDJ   \n",
              "173  Você conjura uma parede de vento de 1,5m de la...    Custom   \n",
              "174  Você magicamente empodera seu movimento com pa...      Etc.   \n",
              "175  Você se teletransporta a até 9 metro para um e...       LDJ   \n",
              "176  Um véu de sombras e silêncio irradia de você, ...       LDJ   \n",
              "177  Até a magia acabar, uma criatura voluntária qu...       LDJ   \n",
              "179  Escolha uma área de chamas que você possa ver ...  Xanathar   \n",
              "180  Você toca uma criatura. Se ela estiver envenen...       LDJ   \n",
              "181  Você cria três raios elementais e os arremessa...       LDJ   \n",
              "183  Um raio negro de energia enervante parte em di...       LDJ   \n",
              "184  Você temporariamente invoca três familiares - ...      Etc.   \n",
              "185  Três duplicatas ilusórias de você aparecem no ...       LDJ   \n",
              "187  Você toca uma criatura e pode ou acabar com um...       LDJ   \n",
              "188  Você toca uma besta voluntária. Pela duração d...       LDJ   \n",
              "189  Pela duração, nenhum som pode ser criado dentr...       LDJ   \n",
              "191  Você sugere um curso de atividade (limitado a ...       LDJ   \n",
              "195  Você toca um pedaço de corda que tenha até 18 ...       LDJ   \n",
              "197  Pela duração, você vê criaturas e objetos invi...       LDJ   \n",
              "198  Você toca uma criatura voluntária para concede...       LDJ   \n",
              "\n",
              "              mana_adicional  magia_rara  \n",
              "123      15 a cada 5 minutos       False  \n",
              "126      10 a cada 5 minutos       False  \n",
              "129                      N/A       False  \n",
              "131                      N/A       False  \n",
              "134                      N/A       False  \n",
              "135                      N/A       False  \n",
              "136                      N/A       False  \n",
              "138                      N/A        True  \n",
              "141                      N/A       False  \n",
              "142             10 por turno       False  \n",
              "144                      N/A       False  \n",
              "145                      N/A       False  \n",
              "146                      N/A       False  \n",
              "147                      N/A       False  \n",
              "148            10 por minuto       False  \n",
              "150     10 a cada 10 minutos       False  \n",
              "153                      N/A       False  \n",
              "154                      N/A       False  \n",
              "155              5 por turno       False  \n",
              "161            10 por minuto       False  \n",
              "163                      N/A       False  \n",
              "164            10 por minuto       False  \n",
              "165             10 por turno       False  \n",
              "166             10 por turno       False  \n",
              "167  10 de mana a cada turno       False  \n",
              "168                      N/A       False  \n",
              "169                      N/A       False  \n",
              "170             10 por turno       False  \n",
              "171             10 por turno       False  \n",
              "173                      N/A       False  \n",
              "174             10 por turno       False  \n",
              "175                      N/A       False  \n",
              "176     10 a cada 10 minutos       False  \n",
              "177     10 a cada 10 minutos       False  \n",
              "179                      N/A       False  \n",
              "180                      N/A        True  \n",
              "181                      N/A       False  \n",
              "183     10 de mana por turno       False  \n",
              "184      50 a cada 5 minutos       False  \n",
              "185                      N/A       False  \n",
              "187                      N/A       False  \n",
              "188      20 a cada 5 minutos       False  \n",
              "189            15 por minuto       False  \n",
              "191              10 por hora       False  \n",
              "195                      N/A       False  \n",
              "197                      N/A       False  \n",
              "198                      N/A       False  "
            ]
          },
          "execution_count": 3,
          "metadata": {},
          "output_type": "execute_result"
        }
      ],
      "source": [
        "filtered_df"
      ]
    },
    {
      "cell_type": "code",
      "execution_count": 4,
      "metadata": {},
      "outputs": [
        {
          "data": {
            "text/plain": [
              "3000     1\n",
              "1500     1\n",
              "1400     2\n",
              "1000     2\n",
              "900      1\n",
              "850      1\n",
              "800      5\n",
              "750      7\n",
              "700     12\n",
              "650      6\n",
              "640      1\n",
              "600      5\n",
              "550      1\n",
              "500      1\n",
              "400      1\n",
              "Name: mana, dtype: int64"
            ]
          },
          "metadata": {},
          "output_type": "display_data"
        },
        {
          "name": "stdout",
          "output_type": "stream",
          "text": [
            "Mean =\t801.915\n",
            "Std  =\t388.781\n"
          ]
        }
      ],
      "source": [
        "from IPython.display import display\n",
        "\n",
        "\n",
        "def get_mana_stats(spells_df):\n",
        "    display(spells_df.mana.value_counts().sort_index(ascending=False))\n",
        "    print(f\"Mean =\\t{filtered_df.mana.mean():.3f}\")\n",
        "    print(f\"Std  =\\t{filtered_df.mana.std():.3f}\")\n",
        "\n",
        "\n",
        "get_mana_stats(filtered_df)\n"
      ]
    },
    {
      "cell_type": "code",
      "execution_count": 5,
      "metadata": {},
      "outputs": [
        {
          "data": {
            "text/plain": [
              "20.0"
            ]
          },
          "execution_count": 5,
          "metadata": {},
          "output_type": "execute_result"
        }
      ],
      "source": [
        "import dice.DiceCalculator as dice\n",
        "\n",
        "dice.get_dice_formula_mean('4d8+2')"
      ]
    },
    {
      "cell_type": "code",
      "execution_count": null,
      "metadata": {},
      "outputs": [],
      "source": []
    }
  ],
  "metadata": {
    "interpreter": {
      "hash": "d36adf45757a947aebb41e19531952e79d7da656c5a3acf675af965b060eaf9d"
    },
    "kernelspec": {
      "display_name": "Python 3.10.2 64-bit",
      "language": "python",
      "name": "python3"
    },
    "language_info": {
      "codemirror_mode": {
        "name": "ipython",
        "version": 3
      },
      "file_extension": ".py",
      "mimetype": "text/x-python",
      "name": "python",
      "nbconvert_exporter": "python",
      "pygments_lexer": "ipython3",
      "version": "3.10.6"
    },
    "orig_nbformat": 4
  },
  "nbformat": 4,
  "nbformat_minor": 2
}
