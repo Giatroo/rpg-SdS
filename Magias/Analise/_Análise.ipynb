{
  "cells": [
    {
      "cell_type": "code",
      "execution_count": 1,
      "metadata": {},
      "outputs": [
        {
          "name": "stderr",
          "output_type": "stream",
          "text": [
            "Spells: 100%|██████████| 199/199 [00:00<00:00, 565.45it/s]"
          ]
        },
        {
          "name": "stdout",
          "output_type": "stream",
          "text": [
            "Wrong values.\n",
            "Column 'classes' have wrong values:\n",
            "                   nome    name                classes\n",
            "84      Flecha Luminosa  Custom  [arqueiro, guerreiro]\n",
            "85  Flecha Obscurecente  Custom  [arqueiro, guerreiro]\n"
          ]
        },
        {
          "name": "stderr",
          "output_type": "stream",
          "text": [
            "\n"
          ]
        }
      ],
      "source": [
        "from dfs.DFReader import get_asserted_spells_df\n",
        "\n",
        "spells_df = get_asserted_spells_df(verbose=True)"
      ]
    },
    {
      "cell_type": "code",
      "execution_count": 2,
      "metadata": {},
      "outputs": [
        {
          "data": {
            "text/markdown": [
              "<span style='color:None;font-size:None'>**Amizade _(Friends)_** - truque<br></span><span style='color:None;font-size:13px'>&emsp;**Escola(s):** psíquica<br>&emsp;**Tempo conjuração:** 1 ação<br>&emsp;**Alcance:** pessoal<br>&emsp;**Componentes:** SM _(uma pequena quantidade de maquiagem)_<br>&emsp;**Mana:** 100 (_+ 10 por turno_)<br>&emsp;**Duração:** concentração, até 1 minuto<br></span><span style='color:None;font-size:None'>Pela duração, você terá vantagem em todos os testes de Carisma direcionados a uma criatura, à sua escolha, que não seja hostil a você. Quando a magia acabar, a criatura perceberá que você usou magia para influenciar o humor dela, e ficará hostil a você. Uma criatura propensa a violência irá atacar você. Outra criatura pode buscar outras formas de retaliação (a critério do Mestre), dependendo da natureza da sua interação com ela. Ao final da magia, você gasta mais 100 pontos de mana.<br></span><span style='color:gray;font-size:11px'>[buff]<br></span><span style='color:gray;font-size:11px'>[bardo, bruxo, clérigo, feiticeiro, guerreiro, ladino, mago, paladino]<br></span><span style='color:gray;font-size:10px'>_LDJ_</span>"
            ],
            "text/plain": [
              "<IPython.core.display.Markdown object>"
            ]
          },
          "metadata": {},
          "output_type": "display_data"
        },
        {
          "name": "stdout",
          "output_type": "stream",
          "text": [
            "\n"
          ]
        },
        {
          "data": {
            "text/markdown": [
              "<span style='color:None;font-size:None'>**Ataque Certeiro _(True Strike)_** - truque<br></span><span style='color:None;font-size:13px'>&emsp;**Escola(s):** psíquica<br>&emsp;**Tempo conjuração:** 1 ação<br>&emsp;**Alcance:** 9 metros<br>&emsp;**Componentes:** S<br>&emsp;**Mana:** 100<br>&emsp;**Duração:** 1 rodada<br></span><span style='color:None;font-size:None'>Você encara um alvo no alcance, vasculhando seus pensamentos superficiais. Sua magia garante a você uma breve intuição sobre as defesas do alvo. No seu próximo turno, você terá vantagem na primeira jogada de ataque contra o alvo.<br></span><span style='color:gray;font-size:11px'>[buff]<br></span><span style='color:gray;font-size:11px'>[bruxo, clérigo, feiticeiro, guerreiro, ladino, mago, monge, paladino]<br></span><span style='color:gray;font-size:10px'>_LDJ_</span>"
            ],
            "text/plain": [
              "<IPython.core.display.Markdown object>"
            ]
          },
          "metadata": {},
          "output_type": "display_data"
        },
        {
          "name": "stdout",
          "output_type": "stream",
          "text": [
            "\n"
          ]
        },
        {
          "data": {
            "text/markdown": [
              "<span style='color:None;font-size:None'>**Ataque Elemental _(Custom)_** - truque<br></span><span style='color:None;font-size:13px'>&emsp;**Escola(s):** elemental, musical, ilusionista, necromancia, psíquica (_água, terra, fogo, ar, luz, sombras, relâmpago, metal, veneno_)<br>&emsp;**Tempo conjuração:** 1 ação<br>&emsp;**Alcance:** 18 metros<br>&emsp;**Componentes:** S<br>&emsp;**Mana:** 0<br>&emsp;**Duração:** instantânea<br>&emsp;**Dano**: 1d6<br>&emsp;**Dmg/effect:** elemental<br></span><span style='color:None;font-size:None'>Essa é a magia mais básica de dano que qualquer mago sabe utilizar e utiliza uma quantidade de mana praticamente nula (se sua mana estiver abaixo do limite, você ainda deve fazer testes de exaustão).<br>&emsp;Você utiliza sua escola e elemento para causa 1d6 de dano no inimigo.<br>&emsp;O dano dessa magia aumenta em 1d6 quando você alcança o 5° nível (2d6), 11° nível (3d6) e 17° nível (4d6).<br></span><span style='color:gray;font-size:11px'>[dano]<br></span><span style='color:gray;font-size:11px'>[bardo, bruxo, clérigo, feiticeiro, mago, paladino]<br></span><span style='color:gray;font-size:10px'>_Custom_</span>"
            ],
            "text/plain": [
              "<IPython.core.display.Markdown object>"
            ]
          },
          "metadata": {},
          "output_type": "display_data"
        },
        {
          "name": "stdout",
          "output_type": "stream",
          "text": [
            "\n"
          ]
        },
        {
          "data": {
            "text/markdown": [
              "<span style='color:None;font-size:None'>**Chama Sagrada _(Secred Flame)_** - truque<br></span><span style='color:None;font-size:13px'>&emsp;**Escola(s):** elemental (_luz_)<br>&emsp;**Tempo conjuração:** 1 ação<br>&emsp;**Alcance:** 18 metros<br>&emsp;**Componentes:** VS<br>&emsp;**Mana:** 150<br>&emsp;**Duração:** instantânea<br>&emsp;**Dano**: 1d8<br>&emsp;**Attack/Save:** DEX Save<br>&emsp;**Dmg/effect:** luz<br></span><span style='color:None;font-size:None'>Radiação similar a uma chama desce sobre uma criatura que você possa ver, dentro do alcance. O alvo deve ser bem sucedido num teste de resistência de Destreza ou sofrerá 1d8 de dano radiante. O alvo não recebe qualquer benefício de cobertura contra esse teste de resistência.<br>&emsp;O dano da magia aumenta em 1d8 quando você alcança o 5° nível (2d8), 11° nível (3d8) e 17° nível (4d8).<br></span><span style='color:gray;font-size:11px'>[dano]<br></span><span style='color:gray;font-size:11px'>[bardo, bruxo, clérigo, feiticeiro, guerreiro, ladino, mago, monge, paladino]<br></span><span style='color:gray;font-size:10px'>_LDJ_</span>"
            ],
            "text/plain": [
              "<IPython.core.display.Markdown object>"
            ]
          },
          "metadata": {},
          "output_type": "display_data"
        },
        {
          "name": "stdout",
          "output_type": "stream",
          "text": [
            "\n"
          ]
        },
        {
          "data": {
            "text/markdown": [
              "<span style='color:None;font-size:None'>**Chicote _(Lightning Lure)_** - truque<br></span><span style='color:None;font-size:13px'>&emsp;**Escola(s):** elemental (_relâmpago, luz, sombras, metal, terra, fogo_)<br>&emsp;**Tempo conjuração:** 1 ação<br>&emsp;**Alcance:** 4,5 metros<br>&emsp;**Componentes:** VS<br>&emsp;**Mana:** 150<br>&emsp;**Duração:** instantânea<br>&emsp;**Dano**: 1d8<br>&emsp;**Attack/Save:** STR Save<br>&emsp;**Dmg/effect:** elemental<br></span><span style='color:None;font-size:None'>Você cria um chicote elemental que golpeia uma criatura a sua escolha a sua vista a até 4,5m de você. O alvo deve ser bem-sucedido em uma salvaguarda de Força ou é puxado por até 3m em linha reta na sua direção, e então recebe 1d8 de dano elemental se estiver a até 1,5m de você.<br>&emsp;O dano dessa magia aumenta em 1d8 quando você alcança o 5º nível (2d8), 11º nível (3d8), e 17º nível (4d8).<br></span><span style='color:gray;font-size:11px'>[controle, dano]<br></span><span style='color:gray;font-size:11px'>[bruxo, clérigo, feiticeiro, guerreiro, mago, monge, paladino]<br></span><span style='color:gray;font-size:10px'>_Tasha_</span>"
            ],
            "text/plain": [
              "<IPython.core.display.Markdown object>"
            ]
          },
          "metadata": {},
          "output_type": "display_data"
        },
        {
          "name": "stdout",
          "output_type": "stream",
          "text": [
            "\n"
          ]
        },
        {
          "data": {
            "text/markdown": [
              "<span style='color:None;font-size:None'>**Controlar Chamas _(Control Flames)_** - truque<br></span><span style='color:None;font-size:13px'>&emsp;**Escola(s):** elemental (_fogo, sombras_)<br>&emsp;**Tempo conjuração:** 1 ação<br>&emsp;**Alcance:** 18 metros<br>&emsp;**Componentes:** S<br>&emsp;**Mana:** 100 (_+ 5 a cada 5 minutos_)<br>&emsp;**Duração:** instantânea ou 1 hora<br></span><span style='color:None;font-size:None'>Você escolhe uma chama não mágica que você possa ver, dentro do alcance, e que ocupe até um cubo de 1,5 metros. Você afeta ela de uma das seguintes formas:<br>&emsp;• Você instantaneamente expande a chama em 1,5 metro em uma direção, considerando que exista madeira ou outro combustível no local novo.<br>&emsp;• Você instantaneamente extingue as chamas dentro do cubo.<br>&emsp;• Você dobra ou reduz à metade a área de luz plena e de penumbra emitida pela chama, muda a cor dela, ou ambos. As mudanças duram por 1 hora.<br>&emsp;• Você faz com que formas simples - como um forma imprecisa de uma criatura, objeto inanimado ou local - apareçam dentro das chamas e se animem como você quiser. As formas duram por 1 hora.<br>&emsp;Se você conjurar essa magia diversas vezes , você pode ter até três dos seus efeitos não instantâneos ativos ao mesmo tempo, e você pode dissipar um efeito desses com uma ação.<br></span><span style='color:gray;font-size:11px'>[controle, utilidade]<br></span><span style='color:gray;font-size:11px'>[bruxo, feiticeiro, mago]<br></span><span style='color:gray;font-size:10px'>_Xanathar_</span>"
            ],
            "text/plain": [
              "<IPython.core.display.Markdown object>"
            ]
          },
          "metadata": {},
          "output_type": "display_data"
        },
        {
          "name": "stdout",
          "output_type": "stream",
          "text": [
            "\n"
          ]
        },
        {
          "data": {
            "text/markdown": [
              "<span style='color:None;font-size:None'>**Criar Chamas _(Produce Flame)_** - truque<br></span><span style='color:None;font-size:13px'>&emsp;**Escola(s):** elemental (_fogo, luz, sombras_)<br>&emsp;**Tempo conjuração:** 1 ação<br>&emsp;**Alcance:** pessoal<br>&emsp;**Componentes:** VS<br>&emsp;**Mana:** 50 (_+ 5 por minuto_)<br>&emsp;**Duração:** 10 minutos<br>&emsp;**Dano**: 1d8<br>&emsp;**Attack/Save:** distância<br>&emsp;**Dmg/effect:** fogo<br></span><span style='color:None;font-size:None'>Uma chama tremulante aparece na sua mão. A chama permanece ai pela duração e não machuca nem você nem seu equipamento. A chama emite luz plena num raio de 3 metros e penumbra por 3 metros adicionais. A magia acaba se você dissipa-la usando uma ação ou se conjura-la novamente.<br>&emsp;Você pode, também, atacar com a chama, no entanto, fazer isso acaba com a magia. Quando você conjura essa magia ou com uma ação em um turno posterior, você pode arremessar a chama numa criatura a até 9 metros de você. Faça um ataque à distância com magia. Se atingir, o alvo sofre 1d8 de dano elemental.<br>&emsp;[Sombras] Todos os alcances de iluminação descritos anteriormente são metade para um Mago das Sombras.<br>&emsp;Você gasta 10 de mana por minuto até a magia acabar.<br>&emsp;O dano dessa magia aumenta em 1d8 quando você alcança o 5° nível (2d8), 11° nível (3d8) e 17° nível (4d8).<br></span><span style='color:gray;font-size:11px'>[dano, distância, utilidade]<br></span><span style='color:gray;font-size:11px'>[bardo, bruxo, clérigo, feiticeiro, guerreiro, ladino, mago, monge, paladino]<br></span><span style='color:gray;font-size:10px'>_LDJ_</span>"
            ],
            "text/plain": [
              "<IPython.core.display.Markdown object>"
            ]
          },
          "metadata": {},
          "output_type": "display_data"
        },
        {
          "name": "stdout",
          "output_type": "stream",
          "text": [
            "\n"
          ]
        },
        {
          "data": {
            "text/markdown": [
              "<span style='color:None;font-size:None'>**Criar Fogueira _(Create Bonfire)_** - truque<br></span><span style='color:None;font-size:13px'>&emsp;**Escola(s):** elemental (_fogo, sombras_)<br>&emsp;**Tempo conjuração:** 1 ação<br>&emsp;**Alcance:** 18 metros<br>&emsp;**Componentes:** VS<br>&emsp;**Mana:** 100 (_+ 25 por turno_)<br>&emsp;**Duração:** concentração, até 1 minuto<br>&emsp;**Dano**: 1d8<br>&emsp;**Attack/Save:** DEX Save<br>&emsp;**Dmg/effect:** fogo<br></span><span style='color:None;font-size:None'>Você cria uma fogueira no solo em um ponto que você possa ver, dentro do alcance. Até a magia acabar, a fogueira preenche um cubo de 1,5 metros. Qualquer criatura no espaço da fogueira quando você a conjura deve ser bem sucedida num teste de resistência de Destreza ou sofrerá 1d8 de dano de fogo. Uma criatura também deve realizar o teste de resistência quando entrar no espaço da fogueira pela primeira vez em um turno, ou terminar seu turno nela.<br>&emsp;Você gasta mais 25 de mana por turno para continuar se concentrando na magia.<br>&emsp;O dano da magia aumenta em 1d8 quando você alcança o 5º nível (2d8), 11º nível (3d8) e 17º nível (4d8).<br></span><span style='color:gray;font-size:11px'>[controle, dano]<br></span><span style='color:gray;font-size:11px'>[bruxo, feiticeiro, mago]<br></span><span style='color:gray;font-size:10px'>_Xanathar_</span>"
            ],
            "text/plain": [
              "<IPython.core.display.Markdown object>"
            ]
          },
          "metadata": {},
          "output_type": "display_data"
        },
        {
          "name": "stdout",
          "output_type": "stream",
          "text": [
            "\n"
          ]
        },
        {
          "data": {
            "text/markdown": [
              "<span style='color:None;font-size:None'>**Criar Fogueira Instantânea _(Create Bonfire)_** - truque<br></span><span style='color:None;font-size:13px'>&emsp;**Escola(s):** elemental (_fogo, sombras_)<br>&emsp;**Tempo conjuração:** 1 ação<br>&emsp;**Alcance:** 18 metros<br>&emsp;**Componentes:** VS<br>&emsp;**Mana:** 150<br>&emsp;**Duração:** instantânea<br>&emsp;**Dano**: 1d8<br>&emsp;**Attack/Save:** DEX Save<br>&emsp;**Dmg/effect:** fogo<br></span><span style='color:None;font-size:None'>Você cria uma fogueira no solo em um ponto que você possa ver, dentro do alcance. A fogueira preenche um cubo de 1,5 metros. Qualquer criatura no espaço da fogueira quando você a conjura deve ser bem sucedida num teste de resistência de Destreza ou sofrerá 1d8 de dano de fogo.<br>&emsp;O dano da magia aumenta em 1d8 quando você alcança o 5º nível (2d8), 11º nível (3d8) e 17º nível (4d8).<br></span><span style='color:gray;font-size:11px'>[dano]<br></span><span style='color:gray;font-size:11px'>[clérigo, guerreiro, ladino, paladino]<br></span><span style='color:gray;font-size:10px'>_Xanathar_</span>"
            ],
            "text/plain": [
              "<IPython.core.display.Markdown object>"
            ]
          },
          "metadata": {},
          "output_type": "display_data"
        },
        {
          "name": "stdout",
          "output_type": "stream",
          "text": [
            "\n"
          ]
        },
        {
          "data": {
            "text/markdown": [
              "<span style='color:None;font-size:None'>**Espiro Ácido _(Acid Splash)_** - truque<br></span><span style='color:None;font-size:13px'>&emsp;**Escola(s):** elemental (_veneno_)<br>&emsp;**Tempo conjuração:** 1 ação<br>&emsp;**Alcance:** 18 metros<br>&emsp;**Componentes:** VS<br>&emsp;**Mana:** 50<br>&emsp;**Duração:** instantânea<br>&emsp;**Dano**: 1d6<br>&emsp;**Attack/Save:** DEX Save<br>&emsp;**Dmg/effect:** ácido<br></span><span style='color:None;font-size:None'>Você arremessa uma bolha de ácido. Escolha uma criatura dentro do alcance, ou escolha duas criaturas dentro do alcance que estejam a 1,5 metro uma da outra.<br>&emsp;Um alvo deve ser bem sucedido num teste de resistência de Destreza ou sofrerá 1d6 de dano ácido.<br>&emsp;O dano dessa magia aumenta em 1d6 quando você alcança o 5° nível (2d6), 11° nível (3d6) e 17° nível (4d6).<br></span><span style='color:gray;font-size:11px'>[dano]<br></span><span style='color:gray;font-size:11px'>[ladino, mago]<br></span><span style='color:gray;font-size:10px'>_LDJ_</span>"
            ],
            "text/plain": [
              "<IPython.core.display.Markdown object>"
            ]
          },
          "metadata": {},
          "output_type": "display_data"
        },
        {
          "name": "stdout",
          "output_type": "stream",
          "text": [
            "\n"
          ]
        },
        {
          "data": {
            "text/markdown": [
              "<span style='color:None;font-size:None'>**Estabilizar _(Spare the Dying)_** - truque<br></span><span style='color:None;font-size:13px'>&emsp;**Escola(s):** elemental (_água, luz_)<br>&emsp;**Tempo conjuração:** 1 ação<br>&emsp;**Alcance:** toque<br>&emsp;**Componentes:** VS<br>&emsp;**Mana:** 100<br>&emsp;**Duração:** instantânea<br></span><span style='color:None;font-size:None'>Você toca uma criatura viva que esteja com 0 pontos de vida. A criatura é estabilizada.<br>&emsp;Essa magia não afeta mortos-vivos ou constructos.<br></span><span style='color:gray;font-size:11px'>[cura, toque]<br></span><span style='color:gray;font-size:11px'>[clérigo, paladino]<br></span><span style='color:gray;font-size:10px'>_LDJ_</span>"
            ],
            "text/plain": [
              "<IPython.core.display.Markdown object>"
            ]
          },
          "metadata": {},
          "output_type": "display_data"
        },
        {
          "name": "stdout",
          "output_type": "stream",
          "text": [
            "\n"
          ]
        },
        {
          "data": {
            "text/markdown": [
              "<span style='color:None;font-size:None'>**Estabilização Musical _(Spare the Dying)_** - truque<br></span><span style='color:None;font-size:13px'>&emsp;**Escola(s):** musical<br>&emsp;**Tempo conjuração:** 1 ação<br>&emsp;**Alcance:** 4,5 metros<br>&emsp;**Componentes:** VSM _(um instrumento musical)_<br>&emsp;**Mana:** 150<br>&emsp;**Duração:** instantânea<br></span><span style='color:None;font-size:None'>Você toca seu instrumento de forma mágica e ele pode ser ouvido até pelos caídos no campo de batalha. Escolha uma criatura viva que esteja com 0 pontos de vida que você possa ver dentro do alcance. A criatura é estabilizada.<br>&emsp;Essa magia não afeta mortos-vivos ou constructos.<br></span><span style='color:gray;font-size:11px'>[cura, toque]<br></span><span style='color:gray;font-size:11px'>[bardo, bruxo, clérigo, feiticeiro, guerreiro, ladino, mago, monge, paladino]<br></span><span style='color:gray;font-size:10px'>_LDJ_</span>"
            ],
            "text/plain": [
              "<IPython.core.display.Markdown object>"
            ]
          },
          "metadata": {},
          "output_type": "display_data"
        },
        {
          "name": "stdout",
          "output_type": "stream",
          "text": [
            "\n"
          ]
        },
        {
          "data": {
            "text/markdown": [
              "<span style='color:None;font-size:None'>**Farpa Mental _(Mind Sliver)_** - truque<br></span><span style='color:None;font-size:13px'>&emsp;**Escola(s):** psíquica<br>&emsp;**Tempo conjuração:** 1 ação<br>&emsp;**Alcance:** 18 metros<br>&emsp;**Componentes:** V<br>&emsp;**Mana:** 150<br>&emsp;**Duração:** instantânea<br>&emsp;**Dano**: 1d6<br>&emsp;**Attack/Save:** INT Save<br>&emsp;**Dmg/effect:** psíquico<br></span><span style='color:None;font-size:None'>Você direciona um espinho desorientador feito de energia psíquica para dentro da mente de uma criatura que você possa ver dentro do alcance da magia. O alvo deve ser bem sucedido em uma salvaguarda de Inteligência ou sofre 1d6 de dano psíquico e subtrai 1d4 da próxima salvaguarda que realizar antes do final do seu próximo turno.<br>&emsp;O dano dessa magia aumenta em 1d6 quando você alcança certos níveis: 5º nível (2d6), 11° nível (3d6), e 17º nível (4d6).<br></span><span style='color:gray;font-size:11px'>[dano]<br></span><span style='color:gray;font-size:11px'>[bardo, bruxo, clérigo, feiticeiro, guerreiro, ladino, mago, monge, paladino]<br></span><span style='color:gray;font-size:10px'>_Tasha_</span>"
            ],
            "text/plain": [
              "<IPython.core.display.Markdown object>"
            ]
          },
          "metadata": {},
          "output_type": "display_data"
        },
        {
          "name": "stdout",
          "output_type": "stream",
          "text": [
            "\n"
          ]
        },
        {
          "data": {
            "text/markdown": [
              "<span style='color:None;font-size:None'>**Ferroada do Enfraquecimento _(Sapping Sting)_** - truque<br></span><span style='color:None;font-size:13px'>&emsp;**Escola(s):** elemental (_sombras_)<br>&emsp;**Tempo conjuração:** 1 ação<br>&emsp;**Alcance:** 9 metros<br>&emsp;**Componentes:** VS<br>&emsp;**Mana:** 150<br>&emsp;**Duração:** instantânea<br>&emsp;**Dano**: 1d4<br>&emsp;**Attack/Save:** CON Save<br>&emsp;**Dmg/effect:** necrótico<br></span><span style='color:None;font-size:None'>Você extrai a vitalidade de uma criatura que você possa ver dentro do alcance. O alvo deve ter sucesso em uma salvaguarda de Constituição ou toma 1d4 de dano necrótico e cai no chão.<br></span><span style='color:gray;font-size:11px'>[controle, dano]<br></span><span style='color:gray;font-size:11px'>[bruxo, clérigo, feiticeiro, mago, monge, paladino]<br></span><span style='color:gray;font-size:10px'>_Etc._</span>"
            ],
            "text/plain": [
              "<IPython.core.display.Markdown object>"
            ]
          },
          "metadata": {},
          "output_type": "display_data"
        },
        {
          "name": "stdout",
          "output_type": "stream",
          "text": [
            "\n"
          ]
        },
        {
          "data": {
            "text/markdown": [
              "<span style='color:None;font-size:None'>**Globos de Luz _(Dancing Lights)_** - truque<br></span><span style='color:None;font-size:13px'>&emsp;**Escola(s):** elemental (_luz, fogo, sombras_)<br>&emsp;**Tempo conjuração:** 1 ação<br>&emsp;**Alcance:** 36 metros<br>&emsp;**Componentes:** VSM _(um pouco de fósforo ou wychwood ou um inseto luminoso)_<br>&emsp;**Mana:** 50 (_+ 5 por turno, 25 para mover_)<br>&emsp;**Duração:** concentração, até 1 minuto<br></span><span style='color:None;font-size:None'>Você cria até quatro luzes do tamanho de tochas dentro do alcance, fazendo-as parecerem tochas, lanternas ou esferas luminosas que flutuam no ar pela duração. Você também pode combinar as quatro luzes em uma forma luminosa, vagamente humanoide, de tamanho Médio. Qualquer que seja a forma que você escolher, cada luz produz penumbra num raio de 3 metros.<br>&emsp;Com uma ação bônus, no seu turno, você pode mover as luzes, até 18 metros, para um novo local dentro do alcance. Uma luz deve estar a, pelo menos, 6 metros de outra luz criada por essa magia e uma luz some se exceder o alcance da magia.<br>&emsp;[Sombras] Todos os alcances de iluminação descritos anteriormente são metade para um Mago das Sombras.<br>&emsp;Você gasta 5 de mana por turno para manter essa magia ativa.<br>&emsp;Você gasta 25 de mana caso queira mover as luzes.<br></span><span style='color:gray;font-size:11px'>[utilidade]<br></span><span style='color:gray;font-size:11px'>[bardo, bruxo, clérigo, feiticeiro, guerreiro, ladino, mago, monge, paladino]<br></span><span style='color:gray;font-size:10px'>_LDJ_</span>"
            ],
            "text/plain": [
              "<IPython.core.display.Markdown object>"
            ]
          },
          "metadata": {},
          "output_type": "display_data"
        },
        {
          "name": "stdout",
          "output_type": "stream",
          "text": [
            "\n"
          ]
        },
        {
          "data": {
            "text/markdown": [
              "<span style='color:None;font-size:None'>**Golpe Sonoro _(Thunderclap)_** - truque<br></span><span style='color:None;font-size:13px'>&emsp;**Escola(s):** musical<br>&emsp;**Tempo conjuração:** 1 ação<br>&emsp;**Alcance:** 4,5 metros<br>&emsp;**Componentes:** SM _(um instrumento musical)_<br>&emsp;**Mana:** 150<br>&emsp;**Duração:** instantânea<br>&emsp;**Dano**: 1d6<br>&emsp;**Attack/Save:** CON Save<br>&emsp;**Dmg/effect:** energia<br></span><span style='color:None;font-size:None'>Você cria uma violenta explosão sonora, que pode ser ouvida a até 30 metros de distância. Cada criatura diferente de você a até 4,5 metros de você deve realizar um teste de resistência de Constituição. Se falhar na resistência, o alvo sofre 1d6 de dano energético.<br>&emsp;O dano da magia aumenta em 1d6 quando você alcança o 5º nível (2d6), 11 º nível (3d6) e 17º nível (4d6).<br></span><span style='color:gray;font-size:11px'>[dano]<br></span><span style='color:gray;font-size:11px'>[bardo, mago, monge]<br></span><span style='color:gray;font-size:10px'>_Xanathar_</span>"
            ],
            "text/plain": [
              "<IPython.core.display.Markdown object>"
            ]
          },
          "metadata": {},
          "output_type": "display_data"
        },
        {
          "name": "stdout",
          "output_type": "stream",
          "text": [
            "\n"
          ]
        },
        {
          "data": {
            "text/markdown": [
              "<span style='color:None;font-size:None'>**Ilusão Menor _(Minor Ilusion)_** - truque<br></span><span style='color:None;font-size:13px'>&emsp;**Escola(s):** ilusionista<br>&emsp;**Tempo conjuração:** 1 ação<br>&emsp;**Alcance:** 9 metros<br>&emsp;**Componentes:** VM _(um pouco de lã)_<br>&emsp;**Mana:** 100<br>&emsp;**Duração:** 1 minuto<br>&emsp;**Attack/Save:** INT Test<br></span><span style='color:None;font-size:None'>Você cria um som ou uma imagem de um objeto, dentro do alcance, que permanece pela duração. A ilusão também termina se você dissipa-la usando uma ação ou conjurar essa magia novamente.<br>&emsp;Se você criar um som, seu volume pode variar entre um sussurro até um grito. Pode ser a sua voz, a voz de outrem, o rugido de um leão, batidas de tambor ou qualquer outro som que você quiser. O som permanece no mesmo volume durante toda duração ou você pode fazer sons distintos em momentos diferentes, antes da magia acabar.<br>&emsp;Se você criar uma imagem de um objeto – como uma cadeira, pegadas de lama ou um pequeno baú – ela não pode ter mais de 1,5 metro cúbico. A imagem não pode produzir som, luz, cheiro ou qualquer outro efeito sensorial. Interação física com a imagem revelará que ela é uma ilusão, já que as coisas podem atravessa-la.<br>&emsp;Se uma criatura usar sua ação para examinar a imagem, ela pode determinar que ela é uma ilusão se obtiver sucesso num teste de Inteligência (Investigação) contra a CD da magia. Se uma criatura discernir a ilusão como sendo isso, a ilusão se tornará suave para a criatura.<br></span><span style='color:gray;font-size:11px'>[utilidade]<br></span><span style='color:gray;font-size:11px'>[bardo, bruxo, clérigo, feiticeiro, guerreiro, ladino, mago, monge, paladino]<br></span><span style='color:gray;font-size:10px'>_LDJ_</span>"
            ],
            "text/plain": [
              "<IPython.core.display.Markdown object>"
            ]
          },
          "metadata": {},
          "output_type": "display_data"
        },
        {
          "name": "stdout",
          "output_type": "stream",
          "text": [
            "\n"
          ]
        },
        {
          "data": {
            "text/markdown": [
              "<span style='color:None;font-size:None'>**Infestação _(Infestation)_** - truque<br></span><span style='color:None;font-size:13px'>&emsp;**Escola(s):** invocação, necromancia<br>&emsp;**Tempo conjuração:** 1 ação<br>&emsp;**Alcance:** 9 metros<br>&emsp;**Componentes:** VSM _(uma pulga viva)_<br>&emsp;**Mana:** 100<br>&emsp;**Duração:** instantânea<br>&emsp;**Dano**: 1d6<br>&emsp;**Attack/Save:** CON Save<br>&emsp;**Dmg/effect:** veneno<br></span><span style='color:None;font-size:None'>Você provoca uma nuvem de ácaros, pulgas e outros parasitas a aparecer momentaneamente sobre uma criatura que você pode ver dentro alcance. O alvo deve ser bem-sucedido em teste de resistência de  Constituição, ou sofre 1d6 de dano de veneno e se move 1,5 metros em uma direção aleatória, se ele pode se mover e sua velocidade é de pelo menos 1,5 metros. Role 1d4 pela direção: 1, norte; 2, sul; 3, leste; ou 4, oeste. Este movimento não provoca ataques de oportunidade, e se a direção rolada estiver bloqueada, o alvo não se move.<br>&emsp;O dano da magia aumenta em 1d6 quando você alcança 5º nível (2d6), 11º nível (3d6) e 17º nível (4d6).<br></span><span style='color:gray;font-size:11px'>[controle, dano]<br></span><span style='color:gray;font-size:11px'>[bardo, bruxo, feiticeiro, ladino, mago]<br></span><span style='color:gray;font-size:10px'>_Xanathar_</span>"
            ],
            "text/plain": [
              "<IPython.core.display.Markdown object>"
            ]
          },
          "metadata": {},
          "output_type": "display_data"
        },
        {
          "name": "stdout",
          "output_type": "stream",
          "text": [
            "\n"
          ]
        },
        {
          "data": {
            "text/markdown": [
              "<span style='color:None;font-size:None'>**Lufada _(Gust)_** - truque<br></span><span style='color:None;font-size:13px'>&emsp;**Escola(s):** elemental (_água, terra, ar, sombras, metal_)<br>&emsp;**Tempo conjuração:** 1 ação<br>&emsp;**Alcance:** 9 metros<br>&emsp;**Componentes:** VS<br>&emsp;**Mana:** 150<br>&emsp;**Duração:** instantânea<br>&emsp;**Attack/Save:** STR Save<br></span><span style='color:None;font-size:None'>Você utiliza seu elemento para causar um dos efeitos em um ponto que você pode ver dentro do alcance:<br>&emsp;• Uma criatura Média ou menor que você escolher deve ser bem sucedido num teste de resistência de Força ou será afastada 1,5 metros de você.<br>&emsp;• Você cria uma pequena rajada elemental capaz de mover um objeto que não esteja sendo segurado nem carregado e que não pese mais de 2,5 quilos. O objeto é afastado 3 metros de você. Ele não é empurrado com força suficiente para causar dano.<br>&emsp;• [Ar] Você cria um efeito sensorial inofensível usando o ar, como fazer folhas farfalharem, ventos fecharem persianas, suas roupas balançarem com uma brisa.<br>&emsp;• [Sombras] Você cria um efeito sensorial inofensível usando as sombras, como deixar sua sombra maior, diminuir um pouco a luz do ambiente, fazer a sombra de alguém sumir ou criar uma sombra que pode distrair alguém.<br>&emsp;• [Terra] Você cria um efeito sensorial inofensível usando terra, como fazer um pequeno morrinho, um leve tremor capaz de desbalancear um pequeno objeto ou assustar alguém.<br>&emsp;• [Metal] Você cria um efeito sensorial inofensível como esquentar, esfriar ou deformar levemente um metal.<br></span><span style='color:gray;font-size:11px'>[controle, utilidade]<br></span><span style='color:gray;font-size:11px'>[bardo, bruxo, feiticeiro, ladino, mago, monge]<br></span><span style='color:gray;font-size:10px'>_Xanathar_</span>"
            ],
            "text/plain": [
              "<IPython.core.display.Markdown object>"
            ]
          },
          "metadata": {},
          "output_type": "display_data"
        },
        {
          "name": "stdout",
          "output_type": "stream",
          "text": [
            "\n"
          ]
        },
        {
          "data": {
            "text/markdown": [
              "<span style='color:None;font-size:None'>**Luz _(Light)_** - truque<br></span><span style='color:None;font-size:13px'>&emsp;**Escola(s):** elemental (_luz_)<br>&emsp;**Tempo conjuração:** 1 ação<br>&emsp;**Alcance:** toque<br>&emsp;**Componentes:** VSM _(um vaga-lume ou musgo fosforescente)_<br>&emsp;**Mana:** 100 (_+ 5 a cada 5 minutos_)<br>&emsp;**Duração:** concentração, até 1 hora<br>&emsp;**Attack/Save:** DEX Save<br></span><span style='color:None;font-size:None'>Você toca um objeto que não tenha mais 3 metros em qualquer dimensão. Até a magia acabar, o objeto emite luz plena num raio de 6 metros e penumbra por 6 metros adicionais. Cobrir o objeto completamente com alguma coisa opaca bloqueará a luz. A magia termina se você conjura-la novamente ou dissipa-la com uma ação.<br>&emsp;Se você tentar afetar um objeto segurado ou vestido por uma criatura hostil, a criatura deve ser bem sucedida num teste de Destreza para evitar a magia.<br>&emsp;Você gasta 5 de mana a cada cinco minutos passados.<br></span><span style='color:gray;font-size:11px'>[toque, utilidade]<br></span><span style='color:gray;font-size:11px'>[bardo, bruxo, clérigo, feiticeiro, guerreiro, ladino, mago, monge, paladino]<br></span><span style='color:gray;font-size:10px'>_LDJ_</span>"
            ],
            "text/plain": [
              "<IPython.core.display.Markdown object>"
            ]
          },
          "metadata": {},
          "output_type": "display_data"
        },
        {
          "name": "stdout",
          "output_type": "stream",
          "text": [
            "\n"
          ]
        },
        {
          "data": {
            "text/markdown": [
              "<span style='color:None;font-size:None'>**Lâmina Elemental _(Custom)_** - truque<br></span><span style='color:None;font-size:13px'>&emsp;**Escola(s):** elemental (_água, terra, fogo, ar, luz, sombras, relâmpago, metal, veneno_)<br>&emsp;**Tempo conjuração:** 1 ação bônus<br>&emsp;**Alcance:** pessoal<br>&emsp;**Componentes:** SM _(uma arma marcial corpo-a-corpo)_<br>&emsp;**Mana:** 150<br>&emsp;**Duração:** instantânea<br>&emsp;**Dano**: 1d4<br>&emsp;**Attack/Save:** corpo-a-corpo<br>&emsp;**Dmg/effect:** elemental<br></span><span style='color:None;font-size:None'>Você transmite sua mana pela lâmina de uma arma, encobrindo-a com seu elemento. Faça um ataque corpo-a-corpo contra uma criatura até 1,5m de você. Em um acerto, o alvo sofre os efeitos normais do ataque da arma e mais 1d4 de dano elemental.<br>&emsp;O dano dessa magia aumenta quando você alcança certos níveis. No 5º nível, o dano aumenta para 1d6, no 11º nível aumenta para 1d8 e no 17º nível aumenta para 1d10.<br></span><span style='color:gray;font-size:11px'>[arma, corpo-a-corpo, dano]<br></span><span style='color:gray;font-size:11px'>[guerreiro, ladino]<br></span><span style='color:gray;font-size:10px'>_Custom_</span>"
            ],
            "text/plain": [
              "<IPython.core.display.Markdown object>"
            ]
          },
          "metadata": {},
          "output_type": "display_data"
        },
        {
          "name": "stdout",
          "output_type": "stream",
          "text": [
            "\n"
          ]
        },
        {
          "data": {
            "text/markdown": [
              "<span style='color:None;font-size:None'>**Lâmina Estrondosa _(Booming Blade)_** - truque<br></span><span style='color:None;font-size:13px'>&emsp;**Escola(s):** elemental (_relâmpago, ar, luz, sombras_)<br>&emsp;**Tempo conjuração:** 1 ação<br>&emsp;**Alcance:** pessoal<br>&emsp;**Componentes:** VSM _(arma marcial corpo-a-corpo)_<br>&emsp;**Mana:** 100<br>&emsp;**Duração:** 1 rodada<br>&emsp;**Dano**: 1d8<br>&emsp;**Attack/Save:** corpo-a-corpo<br>&emsp;**Dmg/effect:** elemental<br></span><span style='color:None;font-size:None'>Você brande a arma utilizada na conjuração dessa magia e faz um ataque corpo a corpo contra uma criatura até 1,5m de você. Em um acerto, o alvo sofre os efeitos normais do ataque da arma e então fica envolvo em energia estrondosa até o começo do seu próximo turno. Se o alvo se mover 1,5m ou mais de forma voluntária após isso, ele recebe 1d8 de dano do seu elemento e a magia se encerra.<br>&emsp;O dano da magia aumenta quando você alcança certos níveis. No 5º nível, o ataque corpo a corpo provoca 1d8 de dano adicional se acertar, e o dano que o alvo recebe por se mover aumenta para 2d8. Ambos os danos aumentam em 1d8 no 11º nível (2d8 e 3d8) e novamente no 17º nível (3d8 e 4d8).<br></span><span style='color:gray;font-size:11px'>[arma, controle, corpo-a-corpo, dano]<br></span><span style='color:gray;font-size:11px'>[guerreiro, ladino, paladino]<br></span><span style='color:gray;font-size:10px'>_Tasha_</span>"
            ],
            "text/plain": [
              "<IPython.core.display.Markdown object>"
            ]
          },
          "metadata": {},
          "output_type": "display_data"
        },
        {
          "name": "stdout",
          "output_type": "stream",
          "text": [
            "\n"
          ]
        },
        {
          "data": {
            "text/markdown": [
              "<span style='color:None;font-size:None'>**Lâmina Saltitante _(Green-Flame Blade)_** - truque<br></span><span style='color:None;font-size:13px'>&emsp;**Escola(s):** elemental (_água, terra, fogo, ar, luz, sombras, relâmpago, metal, veneno_)<br>&emsp;**Tempo conjuração:** 1 ação<br>&emsp;**Alcance:** pessoal<br>&emsp;**Componentes:** SM _(uma arma marcial corpo-a-corpo)_<br>&emsp;**Mana:** 150<br>&emsp;**Duração:** instantânea<br>&emsp;**Dano**: mod<br>&emsp;**Attack/Save:** corpo-a-corpo<br>&emsp;**Dmg/effect:** elemental<br></span><span style='color:None;font-size:None'>Você brande a arma utilizada na conjuração dessa magia e faz um ataque corpo-a-corpo contra uma criatura até 1,5m de você. Em um acerto, o alvo sofre os efeitos normais do ataque da arma e você faz com que uma rajada elemental salte do alvo para uma criatura diferente a sua escolha que você possa ver a até 1,5m do primeiro alvo. A segunda criatura sofre dano elemental igual ao seu modificador de atributo de conjuração.<br>&emsp;O dano dessa magia aumenta quando você alcança certos níveis. No 5º nível, o ataque corpo-a-corpo provoca 1d8 de dano elemental adicional se acertar, e o dano elemental que a segunda criatura recebe aumenta para 1d8 + o modificador de seu atributo de conjuração. Ambos os danos aumentam em 1d8 no 11º nível (2d8 e 2d8) e novamente no 17º nível (3d8 e 3d8).<br></span><span style='color:gray;font-size:11px'>[arma, corpo-a-corpo, dano]<br></span><span style='color:gray;font-size:11px'>[bruxo, clérigo, feiticeiro, guerreiro, ladino, mago, monge, paladino]<br></span><span style='color:gray;font-size:10px'>_Tasha_</span>"
            ],
            "text/plain": [
              "<IPython.core.display.Markdown object>"
            ]
          },
          "metadata": {},
          "output_type": "display_data"
        },
        {
          "name": "stdout",
          "output_type": "stream",
          "text": [
            "\n"
          ]
        },
        {
          "data": {
            "text/markdown": [
              "<span style='color:None;font-size:None'>**Mensagem _(Message)_** - truque<br></span><span style='color:None;font-size:13px'>&emsp;**Escola(s):** psíquica<br>&emsp;**Tempo conjuração:** 1 ação<br>&emsp;**Alcance:** 36 metros<br>&emsp;**Componentes:** VSM _(um pedaço curto de fio de cobre)_<br>&emsp;**Mana:** 100<br>&emsp;**Duração:** 1 rodada<br></span><span style='color:None;font-size:None'>Você aponta seu dedo para uma criatura dentro do alcance e sussurra uma mensagem. O alvo (e apenas ele) ouvi a mensagem e pode responder com um sussurro que apenas você pode ouvir.<br>&emsp;Você pode conjurar essa magia através de objetos sólidos se você tiver familiaridade com o alvo. Silêncio mágico, 30 centímetros de rocha, 2,5 centímetros de metal comum, uma fina camada de chumbo, ou 90 centímetros de madeira ou terra bloqueiam a magia. A magia não precisa seguir uma linha reta e pode viajar livremente, dobrando esquinas ou através de aberturas.<br></span><span style='color:gray;font-size:11px'>[comunicação]<br></span><span style='color:gray;font-size:11px'>[bardo, bruxo, clérigo, feiticeiro, guerreiro, ladino, mago, monge, paladino]<br></span><span style='color:gray;font-size:10px'>_LDJ_</span>"
            ],
            "text/plain": [
              "<IPython.core.display.Markdown object>"
            ]
          },
          "metadata": {},
          "output_type": "display_data"
        },
        {
          "name": "stdout",
          "output_type": "stream",
          "text": [
            "\n"
          ]
        },
        {
          "data": {
            "text/markdown": [
              "<span style='color:None;font-size:None'>**Moldar Terra _(Mold Earth)_** - truque<br></span><span style='color:None;font-size:13px'>&emsp;**Escola(s):** elemental (_terra_)<br>&emsp;**Tempo conjuração:** 1 ação<br>&emsp;**Alcance:** 9 metros<br>&emsp;**Componentes:** S<br>&emsp;**Mana:** 50 (_+ 5 a cada 5 minutos_)<br>&emsp;**Duração:** instantâneo ou 1 hora<br></span><span style='color:None;font-size:None'>Você escolhe uma porção de detritos ou pedra que você possa ver, dentro do alcance, e que caiba num cubo de 1,5 metros. Você manipula-a de uma das seguintes maneiras: <br>&emsp;• Se você afetar uma área de terra solta, você pode escava-la instantaneamente, movendo-a pelo solo e depositando-a 1,5 metros de distância. Esse momento não tem força suficiente para causar dano.<br>&emsp;• Você faz com que formas, cores ou ambos apareçam na terra ou pedra, escrevendo palavras, criando imagens ou moldando padrões. As mudanças duram por 1 hora.<br>&emsp;• Se a terra ou pedra que você afetou estiver no solo, você faz com que ele se torne terreno difícil. Alternativamente, você pode fazer com que solo se torne terreno normal, caso ele já seja terreno difícil. Essa mudança dura por 1 hora.<br><br>Se você conjurar essa magia diversas vezes, você pode ter até dois dos seus efeitos não instantâneos ativos ao mesmo tempo, e você pode dissipar um efeito desses com uma ação.<br>&emsp;Você gasta 5 de mana a cada 5 minutos dessa magia.<br></span><span style='color:gray;font-size:11px'>[controle, utilidade]<br></span><span style='color:gray;font-size:11px'>[bardo, bruxo, clérigo, feiticeiro, guerreiro, ladino, mago, monge, paladino]<br></span><span style='color:gray;font-size:10px'>_Xanathar_</span>"
            ],
            "text/plain": [
              "<IPython.core.display.Markdown object>"
            ]
          },
          "metadata": {},
          "output_type": "display_data"
        },
        {
          "name": "stdout",
          "output_type": "stream",
          "text": [
            "\n"
          ]
        },
        {
          "data": {
            "text/markdown": [
              "<span style='color:None;font-size:None'>**Moldar Água _(Mold Water)_** - truque<br></span><span style='color:None;font-size:13px'>&emsp;**Escola(s):** elemental (_água_)<br>&emsp;**Tempo conjuração:** 1 ação<br>&emsp;**Alcance:** pessoal<br>&emsp;**Componentes:** S<br>&emsp;**Mana:** 50 (_+ 5 a cada 5 minutos_)<br>&emsp;**Duração:** instantânea ou 1 hora<br></span><span style='color:None;font-size:None'>Você escolhe uma área de água que você possa ver, dentro do alcance, e que caiba num cubo de 1,5 metros. Você manipula-a de uma das seguintes maneiras:<br>&emsp;• Você move instantaneamente ou, de alguma outra forma, muda o curso da água como você ordenar, até 1,5 metros em qualquer direção. Esse movimento não tem força suficiente para causar dano.<br>&emsp;• Você faz com que a água forme formas simples e se anime como você ordenar. Essa mudança dura por 1 hora.<br>&emsp;• Você muda a cor ou opacidade da água. A água deve ser modificada da mesma forma por inteiro. Essa mudança dura por 1 hora.<br>&emsp;• Você congela a água, considerando que não haja criaturas nela. A água descongela em 1 hora.<br>&emsp;Se você conjurar essa magia diversas vezes, você pode ter atê dois dos seus efeitos não instantâneos ativos ao mesmo tempo, e você pode dissipar um efeito desses com uma ação.<br>&emsp;Essa magia gasta 5 de mana a cada 5 minutos.<br></span><span style='color:gray;font-size:11px'>[controle, utilidade]<br></span><span style='color:gray;font-size:11px'>[bardo, bruxo, clérigo, feiticeiro, guerreiro, ladino, mago, monge, paladino]<br></span><span style='color:gray;font-size:10px'>_Xanathar_</span>"
            ],
            "text/plain": [
              "<IPython.core.display.Markdown object>"
            ]
          },
          "metadata": {},
          "output_type": "display_data"
        },
        {
          "name": "stdout",
          "output_type": "stream",
          "text": [
            "\n"
          ]
        },
        {
          "data": {
            "text/markdown": [
              "<span style='color:None;font-size:None'>**Mordida Congelante _(Frostbite)_** - truque<br></span><span style='color:None;font-size:13px'>&emsp;**Escola(s):** elemental (_água, terra, veneno, metal, sombras_)<br>&emsp;**Tempo conjuração:** 1 ação<br>&emsp;**Alcance:** 18 metros<br>&emsp;**Componentes:** VS<br>&emsp;**Mana:** 100<br>&emsp;**Duração:** instantânea<br>&emsp;**Dano**: 1d6<br>&emsp;**Attack/Save:** CON Save<br>&emsp;**Dmg/effect:** elemental<br></span><span style='color:None;font-size:None'>Você faz com que um frio entorpecente se forme em uma criatura que você possa ver, dentro do alcance. O alvo deve realizar um teste de resistência de Constituição. Se falhar na resistência, o alvo sofre 1d6 de dano elemental e terá desvantagem na próxima jogada de ataque com arma que fizer antes do final do seu próximo turno.<br>&emsp;O dano da magia aumenta em 1d6 quando você alcança o 5º nível (2d6), 11º nível (3d6) e 17º nível (4d6).<br></span><span style='color:gray;font-size:11px'>[dano, debuff]<br></span><span style='color:gray;font-size:11px'>[bruxo, clérigo, feiticeiro, guerreiro, ladino, mago, monge, paladino]<br></span><span style='color:gray;font-size:10px'>_Xanathar_</span>"
            ],
            "text/plain": [
              "<IPython.core.display.Markdown object>"
            ]
          },
          "metadata": {},
          "output_type": "display_data"
        },
        {
          "name": "stdout",
          "output_type": "stream",
          "text": [
            "\n"
          ]
        },
        {
          "data": {
            "text/markdown": [
              "<span style='color:None;font-size:None'>**Mãos Mágicas _(Mage Hand)_** - truque<br></span><span style='color:None;font-size:13px'>&emsp;**Escola(s):** necromancia, invocação<br>&emsp;**Tempo conjuração:** 1 ação<br>&emsp;**Alcance:** 9 metros<br>&emsp;**Componentes:** VS<br>&emsp;**Mana:** 150<br>&emsp;**Duração:** instantânea<br></span><span style='color:None;font-size:None'>Uma mão espectral flutuante aparece num ponto, à sua escolha, dentro do alcance. A mão permanece pela duração ou até você dissipa-la com uma ação. A mão some se estiver a mais de 9 metros de você ou se você conjurar essa magia novamente.<br>&emsp;Você pode usar sua ação para controlar a mão. Você pode usar a mão para manipular um objeto, abrir uma porta ou recipiente destrancado, guardar ou pegar um item de um recipiente aberto ou derramar o conteúdo de um frasco. Você pode mover a mão até 9 metros a cada vez que a usa.<br>&emsp;A mão não pode atacar, ativar itens mágicos.<br>&emsp;Você gasta 20 de mana para cada turno que passar, 50 de mana caso a mão esteja carregando algo que pese mais de 1 quilo e 100 caso ela esteja carregando algo com mais de três quilos. Se ela tentar carregar mais de 5 quilos, você deve fazer um teste de resistência de sua habilidade de conjuração CD 12 + a quantidade de quilos acima de 5. Além disso, você gasta 100 vezes a quantidade de quilos acima de 5 pontos de mana por turno.<br></span><span style='color:gray;font-size:11px'>[utilidade]<br></span><span style='color:gray;font-size:11px'>[bardo, bruxo, clérigo, feiticeiro, guerreiro, ladino, mago, monge, paladino]<br></span><span style='color:gray;font-size:10px'>_LDJ_</span>"
            ],
            "text/plain": [
              "<IPython.core.display.Markdown object>"
            ]
          },
          "metadata": {},
          "output_type": "display_data"
        },
        {
          "name": "stdout",
          "output_type": "stream",
          "text": [
            "\n"
          ]
        },
        {
          "data": {
            "text/markdown": [
              "<span style='color:None;font-size:None'>**Orientação _(Guidance)_** - truque<br></span><span style='color:None;font-size:13px'>&emsp;**Escola(s):** elemental (_luz, água_)<br>&emsp;**Tempo conjuração:** 1 ação<br>&emsp;**Alcance:** toque<br>&emsp;**Componentes:** VS<br>&emsp;**Mana:** 75 (_+ 50 por turno_)<br>&emsp;**Duração:** concentração, até 1 minuto<br></span><span style='color:None;font-size:None'>Você toca uma criatura voluntária e uma aura elemental envolve ela, desaparecendo após alguns segundos. Uma vez, antes da magia acabar, o alvo pode rolar 1d4 e adicionar o número rolado a um teste de habilidade a escolha dele. Ele pode rolar o dado antes ou depois de realizar o teste de habilidade. Após isso, a magia termina. Você gasta 50 de mana por turno até o final da magia.<br></span><span style='color:gray;font-size:11px'>[buff, toque]<br></span><span style='color:gray;font-size:11px'>[bardo, bruxo, clérigo, feiticeiro, mago, paladino]<br></span><span style='color:gray;font-size:10px'>_LDJ_</span>"
            ],
            "text/plain": [
              "<IPython.core.display.Markdown object>"
            ]
          },
          "metadata": {},
          "output_type": "display_data"
        },
        {
          "name": "stdout",
          "output_type": "stream",
          "text": [
            "\n"
          ]
        },
        {
          "data": {
            "text/markdown": [
              "<span style='color:None;font-size:None'>**Palavra do Esplendor _(Word of Radiance)_** - truque<br></span><span style='color:None;font-size:13px'>&emsp;**Escola(s):** elemental (_relâmpago, luz, sombras_)<br>&emsp;**Tempo conjuração:** 1 ação<br>&emsp;**Alcance:** 1,5 metros<br>&emsp;**Componentes:** VS<br>&emsp;**Mana:** 100<br>&emsp;**Duração:** instantânea<br>&emsp;**Dano**: 1d6<br>&emsp;**Attack/Save:** CON Save<br>&emsp;**Dmg/effect:** elemental<br></span><span style='color:None;font-size:None'>Você levanta sua mão para o alto, pronunciando uma palavra divina e um raio elementar cai como um trovão nos inimigos. Cada criatura a sua escolha que você pode ver dentro do alcance deve ter sucesso em um teste de resistência de Constituição o sofre 1d6 de dano elementar. O dano da magia aumenta em 1d6 guando você alcança o 5º nível (2d6), 11º nível (3d6) e 17 nível (4d6).<br></span><span style='color:gray;font-size:11px'>[dano]<br></span><span style='color:gray;font-size:11px'>[bruxo, clérigo, feiticeiro, mago, paladino]<br></span><span style='color:gray;font-size:10px'>_Xanathar_</span>"
            ],
            "text/plain": [
              "<IPython.core.display.Markdown object>"
            ]
          },
          "metadata": {},
          "output_type": "display_data"
        },
        {
          "name": "stdout",
          "output_type": "stream",
          "text": [
            "\n"
          ]
        },
        {
          "data": {
            "text/markdown": [
              "<span style='color:None;font-size:None'>**Pedra Encantada _(Magic Stone)_** - truque<br></span><span style='color:None;font-size:13px'>&emsp;**Escola(s):** elemental (_terra_)<br>&emsp;**Tempo conjuração:** 1 ação bônus<br>&emsp;**Alcance:** toque<br>&emsp;**Componentes:** VSM _(um pouco de pó de prata)_<br>&emsp;**Mana:** 50<br>&emsp;**Duração:** 1 minuto<br>&emsp;**Dano**: 1d6 + mod<br>&emsp;**Attack/Save:** distância<br>&emsp;**Dmg/effect:** concussão<br></span><span style='color:None;font-size:None'>Você toca de uma a três pedrinhas e as imbui com mágica. Você ou mais alguém pode realizar um ataque à distância com magia com uma dessas pedrinhas ao arremessa-las ou dispara-las com uma funda. Se for arremessada, ela tem um alcance de 18 metros. Se mais alguém atacar com a pedrinha, esse atacante adiciona seu modificador de habilidade de conjuração, não o do atacante, à jogada de ataque. Se atingir, o alvo sofre dano de concussão igual a 1d6 + seu modificador de habilidade de conjuração. Atingindo ou errando, a magia então termina na pedra.<br>&emsp;Se você conjurar essa magia novamente, ela acaba prematuramente em quaisquer pedrinhas que ainda estivessem sendo afetadas por ela.<br></span><span style='color:gray;font-size:11px'>[dano, distância, toque]<br></span><span style='color:gray;font-size:11px'>[bardo, bruxo, feiticeiro, mago, monge]<br></span><span style='color:gray;font-size:10px'>_Xanathar_</span>"
            ],
            "text/plain": [
              "<IPython.core.display.Markdown object>"
            ]
          },
          "metadata": {},
          "output_type": "display_data"
        },
        {
          "name": "stdout",
          "output_type": "stream",
          "text": [
            "\n"
          ]
        },
        {
          "data": {
            "text/markdown": [
              "<span style='color:None;font-size:None'>**Prestidigitação _(Prestidigitation)_** - truque<br></span><span style='color:None;font-size:13px'>&emsp;**Escola(s):** elemental (_água, terra, fogo, ar, sombras, relâmpago, metal, veneno_)<br>&emsp;**Tempo conjuração:** 1 ação<br>&emsp;**Alcance:** 3 metros<br>&emsp;**Componentes:** VS<br>&emsp;**Mana:** 50<br>&emsp;**Duração:** até 1 hora<br></span><span style='color:None;font-size:None'>Essa magia é um truque mágico simples que conjuradores iniciantes usam para praticar. Você cria um dos seguintes efeitos mágicos dentro do alcance:<br>&emsp;• Você cria, instantaneamente, um efeito sensorial inofensivo, como uma [relâmpago] chuva de faíscas, [ar] um sopro de vento, ou [veneno] um odor estranho.<br>&emsp;•[Fogo] Você, instantaneamente, acende ou apaga uma vela, uma tocha ou uma pequena fogueira.<br>&emsp;•[Terra] Você, instantaneamente, limpa ou suja um objeto de até 1 metro cúbico. Você pode limpar ou sujar uma parte de uma roupa com lama.<br>&emsp;•[Água] Você seca ou molha uma porção de tecido, madeira ou algo do tipo.<br>&emsp;•[Fogo] Você esfria, esquenta ou melhora o sabor de até 1 metro cubico de matéria orgânica não viva por 1 hora.<br>&emsp;•[Metal] Você faz uma cor, uma pequena marca ou um símbolo aparecer em um objeto ou superfície metálica por 1 hora.<br>&emsp;•[Ilusão] Você cria uma bugiganga não-mágica ou uma imagem ilusória que caiba na sua mão e que dura até o final do seu próximo turno.<br>&emsp;Se você conjurar essa magia diversas vezes, você pode ter até três dos seus efeitos não-instantâneos ativos, ao mesmo tempo, e você pode dissipar um desses efeitos com uma ação.<br></span><span style='color:gray;font-size:11px'>[utilidade]<br></span><span style='color:gray;font-size:11px'>[bruxo, clérigo, feiticeiro, guerreiro, ladino, mago, monge, paladino]<br></span><span style='color:gray;font-size:10px'>_LDJ_</span>"
            ],
            "text/plain": [
              "<IPython.core.display.Markdown object>"
            ]
          },
          "metadata": {},
          "output_type": "display_data"
        },
        {
          "name": "stdout",
          "output_type": "stream",
          "text": [
            "\n"
          ]
        },
        {
          "data": {
            "text/markdown": [
              "<span style='color:None;font-size:None'>**Proteção contra Lâminas _(Blade Ward)_** - truque<br></span><span style='color:None;font-size:13px'>&emsp;**Escola(s):** elemental (_água, terra, ar, metal_)<br>&emsp;**Tempo conjuração:** 1 ação<br>&emsp;**Alcance:** pessoal<br>&emsp;**Componentes:** VS<br>&emsp;**Mana:** 200<br>&emsp;**Duração:** 1 rodada<br></span><span style='color:None;font-size:None'>[Ar] Você estende sua mão e traça uma parede de vento que te protege.<br>[Água] Você cria um fluxo de água ao seu redor, protegendo sua pele de lâminas.<br>[Terra] Você torna sua pele mais resistente, como uma rocha.<br>[Metal] Você torna sua pele mais resistente, como metal.<br><br>&emsp;Até seu próximo turno, você tem resistência contra dano de concussão, cortante e perfurante de ataques com armas não-mágicas.<br>&emsp;[Metal] Como conjurador de metal, você pode usar esse truque independentemente da sua classe.<br></span><span style='color:gray;font-size:11px'>[defesa]<br></span><span style='color:gray;font-size:11px'>[bardo, mago]<br></span><span style='color:gray;font-size:10px'>_LDJ_</span>"
            ],
            "text/plain": [
              "<IPython.core.display.Markdown object>"
            ]
          },
          "metadata": {},
          "output_type": "display_data"
        },
        {
          "name": "stdout",
          "output_type": "stream",
          "text": [
            "\n"
          ]
        },
        {
          "data": {
            "text/markdown": [
              "<span style='color:None;font-size:None'>**Raio de Fogo _(Fire Bolt)_** - truque<br></span><span style='color:None;font-size:13px'>&emsp;**Escola(s):** elemental (_fogo, sombras, luz_)<br>&emsp;**Tempo conjuração:** 1 ação<br>&emsp;**Alcance:** 36 metros<br>&emsp;**Componentes:** VS<br>&emsp;**Mana:** 150<br>&emsp;**Duração:** instantânea<br>&emsp;**Dano**: 1d10<br>&emsp;**Attack/Save:** distância<br>&emsp;**Dmg/effect:** elemental<br></span><span style='color:None;font-size:None'>Você arremessa um cisco elemental em uma criatura ou objeto dentro do alcance. Faça um ataque à distância com magia contra o alvo. Se atingir, o alvo sofre 1d10 de dano de elemental.<br>&emsp;[Fogo|Sombras] Um objeto inflamável atingido por essa magia, incendeia se não estiver sendo vestido ou carregado.<br>&emsp;O dano dessa magia aumenta em 1d10 quando você alcança o 5° nível (2d10), 11° nível (3d10) e 17° nível (4d10).<br></span><span style='color:gray;font-size:11px'>[dano, distância, utilidade]<br></span><span style='color:gray;font-size:11px'>[bardo, bruxo, feiticeiro, guerreiro, ladino, mago, monge, paladino]<br></span><span style='color:gray;font-size:10px'>_LDJ_</span>"
            ],
            "text/plain": [
              "<IPython.core.display.Markdown object>"
            ]
          },
          "metadata": {},
          "output_type": "display_data"
        },
        {
          "name": "stdout",
          "output_type": "stream",
          "text": [
            "\n"
          ]
        },
        {
          "data": {
            "text/markdown": [
              "<span style='color:None;font-size:None'>**Raio de Gelo _(Ray of Frost)_** - truque<br></span><span style='color:None;font-size:13px'>&emsp;**Escola(s):** elemental (_água, ar, relâmpago_)<br>&emsp;**Tempo conjuração:** 1 ação<br>&emsp;**Alcance:** 18 metros<br>&emsp;**Componentes:** VS<br>&emsp;**Mana:** 150<br>&emsp;**Duração:** instantânea<br>&emsp;**Dano**: 1d8<br>&emsp;**Attack/Save:** distância<br>&emsp;**Dmg/effect:** elemental<br></span><span style='color:None;font-size:None'>Um raio elemental parte em direção de uma criatura, dentro do alcance. Realize um ataque à distância com magia contra o alvo. Se atingir, ele sofre 1d8 de dano elemental e seu deslocamento é reduzido em 3 metros até o começo do seu próximo turno.<br>&emsp;O dano da magia aumenta em 1d8 quando você alcança o 5° nível (2d8), 11° nível (3d8) e 17° nível (4d8).<br></span><span style='color:gray;font-size:11px'>[controle, dano, distância]<br></span><span style='color:gray;font-size:11px'>[bardo, bruxo, feiticeiro, guerreiro, ladino, mago, monge, paladino]<br></span><span style='color:gray;font-size:10px'>_LDJ_</span>"
            ],
            "text/plain": [
              "<IPython.core.display.Markdown object>"
            ]
          },
          "metadata": {},
          "output_type": "display_data"
        },
        {
          "name": "stdout",
          "output_type": "stream",
          "text": [
            "\n"
          ]
        },
        {
          "data": {
            "text/markdown": [
              "<span style='color:None;font-size:None'>**Rajada Mística _(Eldritch Blast)_** - truque<br></span><span style='color:None;font-size:13px'>&emsp;**Escola(s):** elemental (_água, terra, ar, fogo, luz, sombras, relâmpago_)<br>&emsp;**Tempo conjuração:** 1 ação<br>&emsp;**Alcance:** 36 metros<br>&emsp;**Componentes:** VS<br>&emsp;**Mana:** 150<br>&emsp;**Duração:** instantânea<br>&emsp;**Dano**: 1d10<br>&emsp;**Attack/Save:** distância<br>&emsp;**Dmg/effect:** elemental<br></span><span style='color:None;font-size:None'>Um feixe elemental vai em direção a uma criatura dentro do alcance. Realize uma jogada de ataque à distância com magia contra o alvo. Se atingir, o alvo sofre 1d10 de dano do seu elemento.<br>&emsp;A magia cria mais de um feixe quando você alcança níveis elevados: dois feixes no 5° nível, três feixes no 11° nível e quatro feixes no 17° nível. Você pode direcionar os feixes para o mesmo alvo ou para alvos diferentes. Realize jogadas de ataque separadas para cada feixe.<br></span><span style='color:gray;font-size:11px'>[dano, distância]<br></span><span style='color:gray;font-size:11px'>[bardo, bruxo, clérigo, feiticeiro, guerreiro, ladino, mago, monge, paladino]<br></span><span style='color:gray;font-size:10px'>_LDJ_</span>"
            ],
            "text/plain": [
              "<IPython.core.display.Markdown object>"
            ]
          },
          "metadata": {},
          "output_type": "display_data"
        },
        {
          "name": "stdout",
          "output_type": "stream",
          "text": [
            "\n"
          ]
        },
        {
          "data": {
            "text/markdown": [
              "<span style='color:None;font-size:None'>**Rajada de Veneno _(Poison Spray)_** - truque<br></span><span style='color:None;font-size:13px'>&emsp;**Escola(s):** elemental (_veneno, sombras, metal_)<br>&emsp;**Tempo conjuração:** 1 ação<br>&emsp;**Alcance:** 4,5 metros<br>&emsp;**Componentes:** VS<br>&emsp;**Mana:** 200<br>&emsp;**Duração:** instantânea<br>&emsp;**Dano**: 1d12<br>&emsp;**Attack/Save:** CON Save<br>&emsp;**Dmg/effect:** elemental<br></span><span style='color:None;font-size:None'>Você ergue sua mão em direção de uma criatura que você possa ver, dentro do alcance e projeta um sopro de gás tóxico da sua palma. A criatura deve ser bem sucedida num teste de resistência de Constituição ou sofrerá 1d12 de dano de veneno.<br>&emsp;O dano dessa magia aumenta em 1d12 quando você alcança o 5° nível (2d12), 11° nível (3d12) e 17° nível (4d12).<br></span><span style='color:gray;font-size:11px'>[dano]<br></span><span style='color:gray;font-size:11px'>[bardo, bruxo, clérigo, feiticeiro, guerreiro, ladino, mago, monge, paladino]<br></span><span style='color:gray;font-size:10px'>_LDJ_</span>"
            ],
            "text/plain": [
              "<IPython.core.display.Markdown object>"
            ]
          },
          "metadata": {},
          "output_type": "display_data"
        },
        {
          "name": "stdout",
          "output_type": "stream",
          "text": [
            "\n"
          ]
        },
        {
          "data": {
            "text/markdown": [
              "<span style='color:None;font-size:None'>**Reparo Metálico _(Mending)_** - truque<br></span><span style='color:None;font-size:13px'>&emsp;**Escola(s):** elemental (_metal_)<br>&emsp;**Tempo conjuração:** 1 minuto<br>&emsp;**Alcance:** toque<br>&emsp;**Componentes:** VSM _(dois ímas)_<br>&emsp;**Mana:** 200<br>&emsp;**Duração:** instantânea<br></span><span style='color:None;font-size:None'>Essa magia repara uma única quebra ou fissura em um objeto feito de metal que você tocar, como um elo quebrado de uma corrente, duas metades de uma chave partida ou uma arma arranhada. Contanto que a quebra ou fissura não tenha mais de 30 centímetros em qualquer dimensão, você pode remenda-la, não deixando qualquer vestígio do dano anterior.<br>&emsp;Essa magia pode reparar fisicamente um item mágico ou constructo, mas a magia não irá restaurar a magia em tais objetos.<br></span><span style='color:gray;font-size:11px'>[toque, utilidade]<br></span><span style='color:gray;font-size:11px'>[bardo, bruxo, clérigo, feiticeiro, guerreiro, mago, monge, paladino]<br></span><span style='color:gray;font-size:10px'>_LDJ_</span>"
            ],
            "text/plain": [
              "<IPython.core.display.Markdown object>"
            ]
          },
          "metadata": {},
          "output_type": "display_data"
        },
        {
          "name": "stdout",
          "output_type": "stream",
          "text": [
            "\n"
          ]
        },
        {
          "data": {
            "text/markdown": [
              "<span style='color:None;font-size:None'>**Resistência _(Resistence)_** - truque<br></span><span style='color:None;font-size:13px'>&emsp;**Escola(s):** elemental (_luz, água_)<br>&emsp;**Tempo conjuração:** 1 ação<br>&emsp;**Alcance:** toque<br>&emsp;**Componentes:** VSM _(um manto em miniatura)_<br>&emsp;**Mana:** 75 (_+ 50 por turno_)<br>&emsp;**Duração:** concentração, até 1 minuto<br></span><span style='color:None;font-size:None'>Você toca uma criatura voluntária e uma aura elemental envolve ela, desaparecendo após alguns segundos. Uma vez, antes da magia acabar, o alvo pode rolar 1d4 e adicionar o número rolado a um teste de resistência de sua escolha. Ele pode rolar o dado antes ou depois de realizar o teste de resistência. Após isso, a magia termina. Você gasta 50 de mana por turno até o final da magia.<br></span><span style='color:gray;font-size:11px'>[buff, toque]<br></span><span style='color:gray;font-size:11px'>[bardo, bruxo, clérigo, feiticeiro, mago, paladino]<br></span><span style='color:gray;font-size:10px'>_LDJ_</span>"
            ],
            "text/plain": [
              "<IPython.core.display.Markdown object>"
            ]
          },
          "metadata": {},
          "output_type": "display_data"
        },
        {
          "name": "stdout",
          "output_type": "stream",
          "text": [
            "\n"
          ]
        },
        {
          "data": {
            "text/markdown": [
              "<span style='color:None;font-size:None'>**Rompante de Espadas _(Sword Burst)_** - truque<br></span><span style='color:None;font-size:13px'>&emsp;**Escola(s):** elemental (_água, terra, ar, fogo, sombras, luz, metal_)<br>&emsp;**Tempo conjuração:** 1 ação<br>&emsp;**Alcance:** pessoal<br>&emsp;**Componentes:** VSM _(um pouco de pó de prata)_<br>&emsp;**Mana:** 100<br>&emsp;**Duração:** instantânea<br>&emsp;**Dano**: 1d6<br>&emsp;**Attack/Save:** DEX Save<br>&emsp;**Dmg/effect:** fogo<br></span><span style='color:None;font-size:None'>Você cria um círculo momentâneo de lâminas elementais que giram ao seu redor. Todas as outras criaturas a até 1,5m de você devem ser bem-sucedidas em uma salvaguarda de Destreza ou recebem 1d6 de dano elemental.<br>&emsp;O dano da magia aumenta em 1d6 quando você alcança o 5º nível (2d6), 11 nível (3d6), e 17º nível (4d6).<br></span><span style='color:gray;font-size:11px'>[dano]<br></span><span style='color:gray;font-size:11px'>[bruxo, clérigo, feiticeiro, guerreiro, ladino, mago, monge, paladino]<br></span><span style='color:gray;font-size:10px'>_Tasha_</span>"
            ],
            "text/plain": [
              "<IPython.core.display.Markdown object>"
            ]
          },
          "metadata": {},
          "output_type": "display_data"
        },
        {
          "name": "stdout",
          "output_type": "stream",
          "text": [
            "\n"
          ]
        },
        {
          "data": {
            "text/markdown": [
              "<span style='color:None;font-size:None'>**Soar os Mortos _(Toll the Dead)_** - truque<br></span><span style='color:None;font-size:13px'>&emsp;**Escola(s):** musical<br>&emsp;**Tempo conjuração:** 1 ação<br>&emsp;**Alcance:** 18 metros<br>&emsp;**Componentes:** VSM _(um instrumento musical ou canto)_<br>&emsp;**Mana:** 200<br>&emsp;**Duração:** instantânea<br>&emsp;**Dano**: 1d8 ou 1d12<br>&emsp;**Attack/Save:** WIS Save<br>&emsp;**Dmg/effect:** necrótico<br></span><span style='color:None;font-size:None'>Você toca uma melodia agoniante que preenche o ar em volta de uma criatura que você pode ver dentro do alcance. O alvo deve ter sucesso em um teste de resistência de Sabedoria ou sofrerá 1d8 de dano necrótico. Se o alvo tiver perdido qualquer de seus pontos de vida, ele sofre um dano necrótico de 1d12.<br>&emsp;O dano da magia aumenta em um dado quando atinge o 5º nível (2d8 ou 2d12), 11 º nível (3d8 ou 3d12) e 17º nível (4d8 ou 4d12)<br></span><span style='color:gray;font-size:11px'>[dano]<br></span><span style='color:gray;font-size:11px'>[bardo, mago, monge]<br></span><span style='color:gray;font-size:10px'>_Xanathar_</span>"
            ],
            "text/plain": [
              "<IPython.core.display.Markdown object>"
            ]
          },
          "metadata": {},
          "output_type": "display_data"
        },
        {
          "name": "stdout",
          "output_type": "stream",
          "text": [
            "\n"
          ]
        },
        {
          "data": {
            "text/markdown": [
              "<span style='color:None;font-size:None'>**Taumaturgia _(Thaumaturgy)_** - truque<br></span><span style='color:None;font-size:13px'>&emsp;**Escola(s):** ilusionista<br>&emsp;**Tempo conjuração:** 1 ação<br>&emsp;**Alcance:** 9 metros<br>&emsp;**Componentes:** V<br>&emsp;**Mana:** 50 (_+ 25 por turno_)<br>&emsp;**Duração:** até 1 minuto<br></span><span style='color:None;font-size:None'>Você manifesta pequenas maravilhas dentro do alcance. Você cria um dos seguintes efeitos mágicos:<br>&emsp;• Sua voz ressoa com o triplo do volume normal por 1 minuto.<br>&emsp;• Você provoca tremores inofensivos no solo por 1 minuto.<br>&emsp;• Você cria, instantaneamente, um som que se origina de um ponto, à sua escolha, dentro do alcance, como o barulho de um trovão, o gralhar de um corvo ou sussurros sinistros.<br>&emsp;• Você altera a aparência dos seus olhos por 1 minuto.  Se você conjurar essa magia diversas vezes, você pode ter até três dos efeitos de 1 minuto ativos por vez, e você pode dissipar um desses efeitos com uma ação. Você gasta 25 de mana a cada turno.<br></span><span style='color:gray;font-size:11px'>[utilidade]<br></span><span style='color:gray;font-size:11px'>[bruxo, clérigo, feiticeiro, guerreiro, ladino, mago, monge, paladino]<br></span><span style='color:gray;font-size:10px'>_LDJ_</span>"
            ],
            "text/plain": [
              "<IPython.core.display.Markdown object>"
            ]
          },
          "metadata": {},
          "output_type": "display_data"
        },
        {
          "name": "stdout",
          "output_type": "stream",
          "text": [
            "\n"
          ]
        },
        {
          "data": {
            "text/markdown": [
              "<span style='color:None;font-size:None'>**Toque Arrepiante _(Chill Touch)_** - truque<br></span><span style='color:None;font-size:13px'>&emsp;**Escola(s):** necromancia<br>&emsp;**Tempo conjuração:** 1 ação<br>&emsp;**Alcance:** 36 metros<br>&emsp;**Componentes:** VS<br>&emsp;**Mana:** 100<br>&emsp;**Duração:** 1 rodada<br>&emsp;**Dano**: 1d8<br>&emsp;**Dmg/effect:** necrótico<br></span><span style='color:None;font-size:None'>Você cria uma mão esquelética fantasmagórica no espaço de uma criatura, dentro do alcance. Realize um ataque à distância com magia contra a criatura para afeta-la com o frio sepulcral. Se atingir, a criatura sofre 1d8 de dano necrótico e não poderá recuperar pontos de vida até o início do seu próximo turno. Até lá, a mão ficará presa ao alvo.<br>Se você atingir um alvo morto-vivo, ele terá desvantagem nas jogadas de ataque contra você até o final do seu próximo turno.<br>O dano dessa magia aumenta em 1d8 quando você alcança o 5° nível (2d8), 11° nível (3d8) e 17° nível (4d8).<br></span><span style='color:gray;font-size:11px'>[dano, debuff, distância]<br></span><span style='color:gray;font-size:11px'>[bruxo, feiticeiro, guerreiro, ladino, mago]<br></span><span style='color:gray;font-size:10px'>_LDJ_</span>"
            ],
            "text/plain": [
              "<IPython.core.display.Markdown object>"
            ]
          },
          "metadata": {},
          "output_type": "display_data"
        },
        {
          "name": "stdout",
          "output_type": "stream",
          "text": [
            "\n"
          ]
        },
        {
          "data": {
            "text/markdown": [
              "<span style='color:None;font-size:None'>**Toque Chocante _(Shocking Grasp)_** - truque<br></span><span style='color:None;font-size:13px'>&emsp;**Escola(s):** elemental (_relâmpago_)<br>&emsp;**Tempo conjuração:** 1 ação<br>&emsp;**Alcance:** toque<br>&emsp;**Componentes:** VS<br>&emsp;**Mana:** 150<br>&emsp;**Duração:** instantânea<br>&emsp;**Dano**: 1d8<br>&emsp;**Dmg/effect:** relâmpago<br></span><span style='color:None;font-size:None'>Eletricidade surge da sua mão para transmitir um choque em uma criatura que você tentar tocar. Faça um ataque corpo-a-corpo com magia contra o alvo. Você tem vantagem na jogada de ataque se o alvo estiver vestindo qualquer armadura de metal. Se atingir, o alvo sofre 1d8 de dano elétrico e não pode usar reações até o início do próximo turno dele.<br>&emsp;O dano da magia aumenta em 1d8 quando você alcança o 5° nível (2d8), 11° nível (3d8) e 17° nível (4d8).<br></span><span style='color:gray;font-size:11px'>[corpo-a-corpo, dano, toque]<br></span><span style='color:gray;font-size:11px'>[bruxo, clérigo, feiticeiro, guerreiro, ladino, mago, monge, paladino]<br></span><span style='color:gray;font-size:10px'>_LDJ_</span>"
            ],
            "text/plain": [
              "<IPython.core.display.Markdown object>"
            ]
          },
          "metadata": {},
          "output_type": "display_data"
        },
        {
          "name": "stdout",
          "output_type": "stream",
          "text": [
            "\n"
          ]
        },
        {
          "data": {
            "text/markdown": [
              "<span style='color:None;font-size:None'>**Toque Metálico _(Shocking Grasp)_** - truque<br></span><span style='color:None;font-size:13px'>&emsp;**Escola(s):** elemental (_metal_)<br>&emsp;**Tempo conjuração:** 1 ação<br>&emsp;**Alcance:** toque<br>&emsp;**Componentes:** VS<br>&emsp;**Mana:** 150<br>&emsp;**Duração:** instantânea<br>&emsp;**Dano**: 1d8<br>&emsp;**Dmg/effect:** concussão<br></span><span style='color:None;font-size:None'>Magnetismo surge da sua mão capaz de alterar uma armadura metálica. Se o alvo estiver usando alguma vestimenta de metal, faça um ataque corpo-a-corpo com magia com vantagem contra o alvo. Se atingir, o alvo sofre 1d8 de dano metálico e não pode usar reações até o início do próximo turno dele.<br>&emsp;O dano da magia aumenta em 1d8 quando você alcança o 5° nível (2d8), 11° nível (3d8) e 17° nível (4d8).<br></span><span style='color:gray;font-size:11px'>[corpo-a-corpo, dano, toque]<br></span><span style='color:gray;font-size:11px'>[bruxo, clérigo, feiticeiro, guerreiro, ladino, mago, monge, paladino]<br></span><span style='color:gray;font-size:10px'>_LDJ_</span>"
            ],
            "text/plain": [
              "<IPython.core.display.Markdown object>"
            ]
          },
          "metadata": {},
          "output_type": "display_data"
        },
        {
          "name": "stdout",
          "output_type": "stream",
          "text": [
            "\n"
          ]
        },
        {
          "data": {
            "text/markdown": [
              "<span style='color:None;font-size:None'>**Zombaria Viciosa _(Vicious Mockery)_** - truque<br></span><span style='color:None;font-size:13px'>&emsp;**Escola(s):** musical<br>&emsp;**Tempo conjuração:** 1 ação<br>&emsp;**Alcance:** 18 metros<br>&emsp;**Componentes:** VSM _(um instrumento musical ou a voz)_<br>&emsp;**Mana:** 100<br>&emsp;**Duração:** instantânea<br>&emsp;**Dano**: 1d6<br>&emsp;**Attack/Save:** WIS Save<br>&emsp;**Dmg/effect:** psíquico<br></span><span style='color:None;font-size:None'>Você lança uma série de notas dissonantes atadas com encantamentos sutis numa criatura que você possa ver, dentro do alcance. Se o alvo puder ouvir você, ele deve ser bem sucedido num teste de resistência de Sabedoria ou sofrerá 1d6 de dano psíquico e terá desvantagem na próxima jogada de ataque que ele fizer antes do final do próximo turno dele.<br>&emsp;O dano dessa magia aumenta em 1d6 quando você alcança o 5° nível (2d6), 11° nível (3d6) e 17° nível (4d6).<br></span><span style='color:gray;font-size:11px'>[dano, debuff]<br></span><span style='color:gray;font-size:11px'>[bardo, mago, monge]<br></span><span style='color:gray;font-size:10px'>_LDJ_</span>"
            ],
            "text/plain": [
              "<IPython.core.display.Markdown object>"
            ]
          },
          "metadata": {},
          "output_type": "display_data"
        },
        {
          "name": "stdout",
          "output_type": "stream",
          "text": [
            "\n"
          ]
        },
        {
          "data": {
            "text/markdown": [
              "<span style='color:None;font-size:None'>**Absorver Elementos _(Absorve Elements)_** lvl 1<br></span><span style='color:None;font-size:13px'>&emsp;**Escola(s):** elemental (_sombras_)<br>&emsp;**Tempo conjuração:** 1 reação<br>&emsp;**Alcance:** pessoal<br>&emsp;**Componentes:** S<br>&emsp;**Mana:** 350<br>&emsp;**Duração:** 1 rodada<br>&emsp;**Dano**: 1d6<br>&emsp;**Dmg/effect:** elemental<br></span><span style='color:None;font-size:None'>A magia reverte parte da energia recebida, minimizando seu efeito em você e armazenando-a no seu próximo ataque corpo-a-corpo. Se você recebe um dano elemental, você pode usar sua reação para diminuir o dano pela metade. Além disso, da primeira vez que você atingir um ataque corpo-a-corpo no seu próximo turno, o alvo sofre 1d6 de dano extra do tipo relacionado e a magia termina.<br>&emsp;**Melhorar Magia**. A cada 500 de mana que você gasta a mais para conjurar essa magia, você adiciona 1d6 a mais (máximo de 5).<br></span><span style='color:gray;font-size:11px'>[corpo-a-corpo, dano, defesa]<br></span><span style='color:gray;font-size:11px'>[bardo, clérigo, guerreiro, guerreiro, ladino, mago, paladino]<br></span><span style='color:gray;font-size:10px'>_Xanathar_</span>"
            ],
            "text/plain": [
              "<IPython.core.display.Markdown object>"
            ]
          },
          "metadata": {},
          "output_type": "display_data"
        },
        {
          "name": "stdout",
          "output_type": "stream",
          "text": [
            "\n"
          ]
        },
        {
          "data": {
            "text/markdown": [
              "<span style='color:None;font-size:None'>**Alarme _(Alarm)_** lvl 1 - ritual<br></span><span style='color:None;font-size:13px'>&emsp;**Escola(s):** musical, ilusionista<br>&emsp;**Tempo conjuração:** 1 minuto<br>&emsp;**Alcance:** 9 metros<br>&emsp;**Componentes:** VSM _(um pequeno sino e um pequeno fio de prata)_<br>&emsp;**Mana:** 300<br>&emsp;**Duração:** 8 horas<br></span><span style='color:None;font-size:None'>Você coloca um alarme para intrusos desavisados.<br>&emsp;Escolha uma porta, uma janela ou uma área dentro do alcance que não seja maior que 6 metros cúbicos. Até a magia acabar, um alarme alerta você sempre que uma criatura Miúda ou maior tocarem ou entrarem na área protegida. Quando você conjura a magia, você pode designar as criaturas que não ativarão o alarme. Você também escolhe se o alarme será mental ou audível.<br>&emsp;Um alarme mental alerta você com um silvo na sua mente, se você estiver a até de 1,5 quilômetro da área protegida. Esse silvo acordará você se você estiver dormindo.<br>&emsp;Um alarme audível produz o som de um sino de mão por 10 minutos num raio de 18 metros. <br></span><span style='color:gray;font-size:11px'>[detecção, utilidade]<br></span><span style='color:gray;font-size:11px'>[bardo, ladino, mago, monge]<br></span><span style='color:gray;font-size:10px'>_LDJ_</span>"
            ],
            "text/plain": [
              "<IPython.core.display.Markdown object>"
            ]
          },
          "metadata": {},
          "output_type": "display_data"
        },
        {
          "name": "stdout",
          "output_type": "stream",
          "text": [
            "\n"
          ]
        },
        {
          "data": {
            "text/markdown": [
              "<span style='color:None;font-size:None'>**Amizade Animal _(Animal Friendship)_** lvl 1<br></span><span style='color:None;font-size:13px'>&emsp;**Escola(s):** musical<br>&emsp;**Tempo conjuração:** 1 ação<br>&emsp;**Alcance:** 9 metros<br>&emsp;**Componentes:** VSM _(um punhado de comida)_<br>&emsp;**Mana:** 300<br>&emsp;**Duração:** 24 horas<br>&emsp;**Attack/Save:** WIS Save<br></span><span style='color:None;font-size:None'>Essa magia deixa você convencer uma besta que você não quer prejudicar. Escolha uma besta que você possa ver dentro do alcance. Ela deve ver e ouvir você. Se a Inteligência da besta for 4 ou maior, a magia falha. Do contrário, a besta deve ser bem sucedida num teste de resistência de Sabedoria ou ficará enfeitiçada por você pela duração da magia. Se você ou um dos seus companheiros ferir o alvo, a magia termina.<br>&emsp;**Melhorar Magia**. A cada 500 de mana adicional que você gastar, você pode afetar uma besta adicional até o máximo de 5.<br></span><span style='color:gray;font-size:11px'>[controle, social]<br></span><span style='color:gray;font-size:11px'>[bardo, bruxo, clérigo, feiticeiro, guerreiro, ladino, mago, monge, paladino]<br></span><span style='color:gray;font-size:10px'>_LDJ_</span>"
            ],
            "text/plain": [
              "<IPython.core.display.Markdown object>"
            ]
          },
          "metadata": {},
          "output_type": "display_data"
        },
        {
          "name": "stdout",
          "output_type": "stream",
          "text": [
            "\n"
          ]
        },
        {
          "data": {
            "text/markdown": [
              "<span style='color:None;font-size:None'>**Armadura Arcana _(Mage Armor)_** lvl 1<br></span><span style='color:None;font-size:13px'>&emsp;**Escola(s):** elemental, psíquica (_água, terra, fogo, ar, luz, sombras, relâmpago, metal, veneno_)<br>&emsp;**Tempo conjuração:** 1 ação<br>&emsp;**Alcance:** toque<br>&emsp;**Componentes:** VSM _(um pedaço de couro curado)_<br>&emsp;**Mana:** 350<br>&emsp;**Duração:** 8 horas<br></span><span style='color:None;font-size:None'>Você toca uma criatura voluntária que não esteja vestindo armadura e uma energia mágica protetora a envolve até a magia acabar. A CA base do alvo se torna 13 ([Metal] 15) + o modificador de Destreza dele. A magia acaba se o alvo colocar uma armadura ou se você dissipa-la usando uma ação.<br></span><span style='color:gray;font-size:11px'>[buff, defesa, toque]<br></span><span style='color:gray;font-size:11px'>[mago]<br></span><span style='color:gray;font-size:10px'>_LDJ_</span>"
            ],
            "text/plain": [
              "<IPython.core.display.Markdown object>"
            ]
          },
          "metadata": {},
          "output_type": "display_data"
        },
        {
          "name": "stdout",
          "output_type": "stream",
          "text": [
            "\n"
          ]
        },
        {
          "data": {
            "text/markdown": [
              "<span style='color:None;font-size:None'>**Armadura Refletora _(Armor of Agathys)_** lvl 1<br></span><span style='color:None;font-size:13px'>&emsp;**Escola(s):** elemental, musical, psíquica (_água, terra, fogo, ar, luz, sombras, relâmpago, metal, veneno_)<br>&emsp;**Tempo conjuração:** 1 ação<br>&emsp;**Alcance:** pessoal<br>&emsp;**Componentes:** VS<br>&emsp;**Mana:** 300<br>&emsp;**Duração:** 1 hora<br>&emsp;**Dano**: 5<br>&emsp;**Dmg/effect:** elemental<br></span><span style='color:None;font-size:None'>Uma força mágica protetora envolve você, manifestando-se de acordo com o seu elemento. Você ganha 5 pontos de vida temporários pela duração. Se uma criatura atingir você com um ataque corpo-a-corpo enquanto estiver com esses pontos de vida, a criatura sofrerá 5 de dano elemental.<br>&emsp;**Melhorar Magia**. Para cada 500 de mana adicional gasto, tanto os pontos de vida temporários quanto o dano aumentam em 5.<br></span><span style='color:gray;font-size:11px'>[dano, defesa]<br></span><span style='color:gray;font-size:11px'>[bardo, bruxo, clérigo, feiticeiro, mago, monge, paladino]<br></span><span style='color:gray;font-size:10px'>_LDJ_</span>"
            ],
            "text/plain": [
              "<IPython.core.display.Markdown object>"
            ]
          },
          "metadata": {},
          "output_type": "display_data"
        },
        {
          "name": "stdout",
          "output_type": "stream",
          "text": [
            "\n"
          ]
        },
        {
          "data": {
            "text/markdown": [
              "<span style='color:None;font-size:None'>**Ataque Ilusório _(custom)_** lvl 1<br></span><span style='color:None;font-size:13px'>&emsp;**Escola(s):** ilusionista<br>&emsp;**Tempo conjuração:** 1 reação<br>&emsp;**Alcance:** 18 metros<br>&emsp;**Componentes:** VSM _(um pouco de pó de prata)_<br>&emsp;**Mana:** 350<br>&emsp;**Duração:** instantânea<br>&emsp;**Attack/Save:** INT Save<br></span><span style='color:None;font-size:None'>Quando uma criatura aliada dentro do alcance receber um ataque de uma criatura também dentro do alcance, você pode usar sua reação para distorcer a visão do atacante. Ele deve fazer um teste de resistência de Inteligência. Se ele falhar, então ele faz o ataque com desvantagem.<br></span><span style='color:gray;font-size:11px'>[debuff]<br></span><span style='color:gray;font-size:11px'>[bardo, bruxo, clérigo, feiticeiro, guerreiro, ladino, mago, monge, paladino]<br></span><span style='color:gray;font-size:10px'>_Custom_</span>"
            ],
            "text/plain": [
              "<IPython.core.display.Markdown object>"
            ]
          },
          "metadata": {},
          "output_type": "display_data"
        },
        {
          "name": "stdout",
          "output_type": "stream",
          "text": [
            "\n"
          ]
        },
        {
          "data": {
            "text/markdown": [
              "<span style='color:None;font-size:None'>**Beberagem Cáustica (de Tasha) _(Tasha's Caustic Brew)_** lvl 1<br></span><span style='color:None;font-size:13px'>&emsp;**Escola(s):** elemental (_veneno_)<br>&emsp;**Tempo conjuração:** 1 ação<br>&emsp;**Alcance:** pessoal<br>&emsp;**Componentes:** VSM _(um pedaço de comida apodrecida)_<br>&emsp;**Mana:** 350 (_+ 10 por turno_)<br>&emsp;**Duração:** concentração, até 1 minuto<br>&emsp;**Dano**: 2d4<br>&emsp;**Attack/Save:** DEX Save<br>&emsp;**Dmg/effect:** ácido<br></span><span style='color:None;font-size:None'>Um jorro de ácido emana de você em uma linha de 9m de comprimento e 1,5m de largura em uma direção a sua escolha. Cada criatura na linha deve ser bem-sucedida em uma salvaguarda de Destreza ou fica coberta de ácido pela duração da magia ou até que use sua ação para tirar ou lavar o ácido de si ou de outra criatura. Uma criatura coberta pelo ácido sofre 2d4 de dano ácido no começo de cada um dos turnos dela.<br>&emsp;**Melhorar Magia**. Você pode gastar mais 500 de mana para adicionar 2d4 até um máximo de 10d4 adicionais.<br></span><span style='color:gray;font-size:11px'>[controle, dano]<br></span><span style='color:gray;font-size:11px'>[bardo, bruxo, clérigo, feiticeiro, guerreiro, ladino, mago, monge, paladino]<br></span><span style='color:gray;font-size:10px'>_Tasha_</span>"
            ],
            "text/plain": [
              "<IPython.core.display.Markdown object>"
            ]
          },
          "metadata": {},
          "output_type": "display_data"
        },
        {
          "name": "stdout",
          "output_type": "stream",
          "text": [
            "\n"
          ]
        },
        {
          "data": {
            "text/markdown": [
              "<span style='color:None;font-size:None'>**Braços de Hadar _(Arms of Hadar)_** lvl 1<br></span><span style='color:None;font-size:13px'>&emsp;**Escola(s):** elemental (_sombras_)<br>&emsp;**Tempo conjuração:** 1 ação<br>&emsp;**Alcance:** 3 metros<br>&emsp;**Componentes:** VS<br>&emsp;**Mana:** 500<br>&emsp;**Duração:** instantânea<br>&emsp;**Dano**: 2d6<br>&emsp;**Attack/Save:** STR Save<br>&emsp;**Dmg/effect:** necrótico<br></span><span style='color:None;font-size:None'>Você invoca o poder de Hadar, o Faminto Sombrio.<br>&emsp;Tentáculos de energia negra brotam de você e golpeiam todas as criaturas a até 3 metros de você. Cada criatura na área deve realizar um teste de resistência de Força. Se falhar, o alvo sofre 2d6 de dano necrótico e não pode fazer reações até o próximo turno dela. Em um sucesso, uma criatura sofre metade do dano e não sofre qualquer outro efeito.<br>&emsp;**Melhorar Magia.** Para cada 600 de mana adicionais gastos, o dano aumenta 1d6 até um máximo de 5d6 adicionais.<br></span><span style='color:gray;font-size:11px'>[dano]<br></span><span style='color:gray;font-size:11px'>[bardo, bruxo, clérigo, feiticeiro, guerreiro, ladino, mago, monge, paladino]<br></span><span style='color:gray;font-size:10px'>_LDJ_</span>"
            ],
            "text/plain": [
              "<IPython.core.display.Markdown object>"
            ]
          },
          "metadata": {},
          "output_type": "display_data"
        },
        {
          "name": "stdout",
          "output_type": "stream",
          "text": [
            "\n"
          ]
        },
        {
          "data": {
            "text/markdown": [
              "<span style='color:None;font-size:None'>**Bruxaria _(Hex)_** lvl 1<br></span><span style='color:None;font-size:13px'>&emsp;**Escola(s):** necromancia, elemental (_sombras, veneno_)<br>&emsp;**Tempo conjuração:** 1 ação bônus<br>&emsp;**Alcance:** 18 metros<br>&emsp;**Componentes:** VSM _(o olho petrificado de um tritão)_<br>&emsp;**Mana:** 250 (_+ 50 por criatura amaldiçoada_)<br>&emsp;**Duração:** concentração, até 1 hora<br>&emsp;**Dano**: 1d6<br>&emsp;**Dmg/effect:** necrótico<br></span><span style='color:None;font-size:None'>Você coloca uma maldição em uma criatura que você possa ver, dentro do alcance. Até a magia acabar, você causa 1d6 de dano necrótico extra no alvo sempre que atingi-lo com um ataque. Além disso, escolha uma habilidade quando você conjurar a magia. O alvo tem desvantagem em testes de habilidade feitos com a habilidade escolhida.  Se o alvo cair a 0 pontos de vida antes da magia acabar, você pode usar uma ação bônus, no seu turno subsequente para amaldiçoar outra criatura.<br>&emsp;Uma magia _remover maldição_ conjurada no alvo acaba com a magia prematuramente.<br>&emsp;**Melhorar Magia**. A cada 1000 de mana adicionais, você pode adicionar 1d6 ao dano até um máximo de 3d6. A cada 3000 de mana adicionais, você pode adicionar uma desvantagem a mais, até um máximo de 2 desvantagens extras. Para cada dado de dano extra, você gasta 50 a mais ao trocar de alvo. Para cada desvantagem extra, você gasta 200 a mais para trocar de alvo.<br></span><span style='color:gray;font-size:11px'>[dano, debuff]<br></span><span style='color:gray;font-size:11px'>[bardo, bruxo, clérigo, feiticeiro, guerreiro, ladino, mago, monge, paladino]<br></span><span style='color:gray;font-size:10px'>_LDJ_</span>"
            ],
            "text/plain": [
              "<IPython.core.display.Markdown object>"
            ]
          },
          "metadata": {},
          "output_type": "display_data"
        },
        {
          "name": "stdout",
          "output_type": "stream",
          "text": [
            "\n"
          ]
        },
        {
          "data": {
            "text/markdown": [
              "<span style='color:None;font-size:None'>**Bênção _(Bless)_** lvl 1<br></span><span style='color:None;font-size:13px'>&emsp;**Escola(s):** elemental (_água, luz_)<br>&emsp;**Tempo conjuração:** 1 ação<br>&emsp;**Alcance:** 9 metros<br>&emsp;**Componentes:** VSM _(um borrifo de água benta)_<br>&emsp;**Mana:** 300 (_+ 30 por turno_)<br>&emsp;**Duração:** concentração, até 1 minuto<br></span><span style='color:None;font-size:None'>Você abençoa até três criaturas, à sua escolha, dentro do alcance. Sempre que um alvo realizar uma jogada de ataque ou teste de resistência antes da magia acabar, o alvo pode jogar um d4 e adicionar o valor jogado ao ataque ou teste de resistência.<br>&emsp;**Melhorar Magia**. Você pode gastar 500 de mana adicionais para adicionar mais uma pessoa até um máximo de 6 pessoas no total.<br></span><span style='color:gray;font-size:11px'>[buff]<br></span><span style='color:gray;font-size:11px'>[bardo, bruxo, clérigo, feiticeiro, mago, monge, paladino]<br></span><span style='color:gray;font-size:10px'>_LDJ_</span>"
            ],
            "text/plain": [
              "<IPython.core.display.Markdown object>"
            ]
          },
          "metadata": {},
          "output_type": "display_data"
        },
        {
          "name": "stdout",
          "output_type": "stream",
          "text": [
            "\n"
          ]
        },
        {
          "data": {
            "text/markdown": [
              "<span style='color:None;font-size:None'>**Catapulta _(Catapult)_** lvl 1<br></span><span style='color:None;font-size:13px'>&emsp;**Escola(s):** elemental (_terra, luz, sombras, metal_)<br>&emsp;**Tempo conjuração:** 1 ação<br>&emsp;**Alcance:** 45 metros<br>&emsp;**Componentes:** S<br>&emsp;**Mana:** 400<br>&emsp;**Duração:** instantânea<br>&emsp;**Dano**: 3d8<br>&emsp;**Attack/Save:** DEX Save<br>&emsp;**Dmg/effect:** concussão<br></span><span style='color:None;font-size:None'>Você cria uma pedra pesando entre 0,5 e 2,5 quilos. A pedra voa em linha reta até 18 metros na direção que você escolher, antes de cair no chão, parando prematuramente se atingir uma superfície sólida. Se a pedra puder atingir uma criatura, a criatura deve realizar um teste de resistência de Destreza. Se falhar na resistência, a pedra atinge o alvo e para de se mover. Em qualquer caso, tanto a pedra quanto a criatura ou superfície sólida sofrem 3d8 de dano de concussão.<br>&emsp;**Melhorar Magia.** A cada 600 de mana adicional gasto, o peso total da pedra pode aumentar em 2,5 quilos e o dano aumenta em 1d8 com um máximo de 5d8 adicionais.<br></span><span style='color:gray;font-size:11px'>[controle, dano]<br></span><span style='color:gray;font-size:11px'>[bardo, bruxo, clérigo, feiticeiro, mago]<br></span><span style='color:gray;font-size:10px'>_Xanathar_</span>"
            ],
            "text/plain": [
              "<IPython.core.display.Markdown object>"
            ]
          },
          "metadata": {},
          "output_type": "display_data"
        },
        {
          "name": "stdout",
          "output_type": "stream",
          "text": [
            "\n"
          ]
        },
        {
          "data": {
            "text/markdown": [
              "<span style='color:None;font-size:None'>**Causar Medo _(Cause Fear)_** lvl 1<br></span><span style='color:None;font-size:13px'>&emsp;**Escola(s):** psíquica<br>&emsp;**Tempo conjuração:** 1 ação<br>&emsp;**Alcance:** 18 metros<br>&emsp;**Componentes:** V<br>&emsp;**Mana:** 250 (_+ 25 por turno_)<br>&emsp;**Duração:** concentração, até 1 minuto<br>&emsp;**Dano**: 1d6<br>&emsp;**Attack/Save:** WIS Save<br>&emsp;**Dmg/effect:** amedrontado<br></span><span style='color:None;font-size:None'>Você desperta o senso de mortalidade em uma criatura que você possa ver dentro do alcance. O alvo precisa ser bem sucedido em teste de resistência de Sabedoria ou se tornará amedrontada por você até que a magia termine. O alvo amedrontado pode repetir o teste de resistência ao fim de cada um de seus turnos, terminando o efeito em si mesmo com um sucesso.<br>&emsp;**Melhorar Magia.** Para cada 500 de mana adicionais gastos, você adiciona uma criatura extra como alvo, com um máximo de 7 alvos. As criaturas precisam estar a no máximo 9 metros uma da outra quando você as incluir como alvos.<br></span><span style='color:gray;font-size:11px'>[controle, debuff]<br></span><span style='color:gray;font-size:11px'>[bardo, bruxo, clérigo, feiticeiro, mago]<br></span><span style='color:gray;font-size:10px'>_Xanathar_</span>"
            ],
            "text/plain": [
              "<IPython.core.display.Markdown object>"
            ]
          },
          "metadata": {},
          "output_type": "display_data"
        },
        {
          "name": "stdout",
          "output_type": "stream",
          "text": [
            "\n"
          ]
        },
        {
          "data": {
            "text/markdown": [
              "<span style='color:None;font-size:None'>**Comando _(Command)_** lvl 1<br></span><span style='color:None;font-size:13px'>&emsp;**Escola(s):** psíquica<br>&emsp;**Tempo conjuração:** 1 ação<br>&emsp;**Alcance:** pessoal<br>&emsp;**Componentes:** V<br>&emsp;**Mana:** 300<br>&emsp;**Duração:** instantânea<br>&emsp;**Attack/Save:** WIS Save<br></span><span style='color:None;font-size:None'>Você pronuncia uma palavra de comando para uma criatura que você possa ver dentro do alcance. O alvo deve ser bem sucedido num teste de resistência de Sabedoria ou seguirá seu comando no próximo turno dele. A magia não tem efeito se o alvo for um morto-vivo, se ele não entender seu idioma ou se o comando for diretamente nocivo a ele.<br>&emsp;Alguns comandos típicos e seus efeitos a seguir. Você pode proferir um comando diferente dos descritos aqui. Se o fizer, o Mestre descreve como o alvo reage. Se o alvo não puder cumprir o comando, a magia termina. <br>&emsp;__Aproxime-se.__ O alvo se move para próximo de você o máximo que puder na rota mais direta, terminando seu turno, se ele se mover a até 1,5 metro de você.<br>&emsp;__Largue.__ O alvo larga o que quer que ele esteja segurando, e termina seu turno.<br>&emsp;__Fuja.__ O alvo gasta seu turno se movendo para longe de você da forma mais rápida que puder.<br>&emsp;__Deite-se.__ O alvo deita-se no chão e então, termina seu turno.<br>&emsp;__Parado.__ O alvo não se move e não realiza nenhuma ação. Uma criatura voadora continua no alto, considerando que ela seja capaz de fazê-lo. Se ela tiver que se mover para continuar no alto, ela voa a mínima distância necessária para permanecer no ar.<br>&emsp;**Melhorar Magia.** Você pode gastar 500 de mana extra para adicionar mais uma criatura como alvo. As criaturas devem estar a 9 metros entre si para serem afetadas.<br></span><span style='color:gray;font-size:11px'>[controle, social]<br></span><span style='color:gray;font-size:11px'>[bardo, bruxo, clérigo, feiticeiro, guerreiro, ladino, mago, monge, paladino]<br></span><span style='color:gray;font-size:10px'>_LDJ_</span>"
            ],
            "text/plain": [
              "<IPython.core.display.Markdown object>"
            ]
          },
          "metadata": {},
          "output_type": "display_data"
        },
        {
          "name": "stdout",
          "output_type": "stream",
          "text": [
            "\n"
          ]
        },
        {
          "data": {
            "text/markdown": [
              "<span style='color:None;font-size:None'>**Compreender Idiomas _(Comprehend Languages)_** lvl 1 - ritual<br></span><span style='color:None;font-size:13px'>&emsp;**Escola(s):** psíquica<br>&emsp;**Tempo conjuração:** 1 ação<br>&emsp;**Alcance:** pessoal<br>&emsp;**Componentes:** VSM _(uma pitada de fuligem e sal)_<br>&emsp;**Mana:** 350<br>&emsp;**Duração:** 1 hora<br></span><span style='color:None;font-size:None'>Pela duração, você compreende o significado literal de qualquer idioma falado que você ouvir. Você também compreende qualquer idioma escrito que vir, mas você deve tocar a superfície onde as palavras estão escritas.<br>&emsp;Leva, aproximadamente, 1 minuto para ler uma página de texto.<br>&emsp;Essa magia não decifra mensagens secretas em textos ou glifos, como um selo arcano, que não seja parte de um idioma escrito.<br></span><span style='color:gray;font-size:11px'>[comunicação, social, toque]<br></span><span style='color:gray;font-size:11px'>[bardo, bruxo, clérigo, feiticeiro, guerreiro, ladino, mago, monge, paladino]<br></span><span style='color:gray;font-size:10px'>_LDJ_</span>"
            ],
            "text/plain": [
              "<IPython.core.display.Markdown object>"
            ]
          },
          "metadata": {},
          "output_type": "display_data"
        },
        {
          "name": "stdout",
          "output_type": "stream",
          "text": [
            "\n"
          ]
        },
        {
          "data": {
            "text/markdown": [
              "<span style='color:None;font-size:None'>**Constrição _(Entangle)_** lvl 1<br></span><span style='color:None;font-size:13px'>&emsp;**Escola(s):** elemental (_terra, sombras, relâmpago, metal, veneno_)<br>&emsp;**Tempo conjuração:** 1 ação<br>&emsp;**Alcance:** 27 metros<br>&emsp;**Componentes:** VS<br>&emsp;**Mana:** 400 (_+ 20 por turno_)<br>&emsp;**Duração:** concentração, até 1 minuto<br>&emsp;**Attack/Save:** STR Save<br></span><span style='color:None;font-size:None'>Ervas e vinhas poderosas brotam do solo num quadrado de 6 metros a partir de um ponto dentro do alcance. Pela duração, essas plantas transformam o solo na área em terreno difícil.<br>&emsp;Uma criatura na área quando você conjurar a magia deve ser bem sucedida num teste de resistência de Força ou ficará impedida pelo emaranhado de plantas, até a magia acabar. Uma criatura impedida pelas plantas pode usar sua ação para realizar um teste de Força, contra a CD da magia. Se for bem sucedido, irá se libertar.<br>&emsp;Quando a magia termina, as plantas conjuradas murcharão.<br></span><span style='color:gray;font-size:11px'>[controle]<br></span><span style='color:gray;font-size:11px'>[bardo, mago, monge]<br></span><span style='color:gray;font-size:10px'>_LDJ_</span>"
            ],
            "text/plain": [
              "<IPython.core.display.Markdown object>"
            ]
          },
          "metadata": {},
          "output_type": "display_data"
        },
        {
          "name": "stdout",
          "output_type": "stream",
          "text": [
            "\n"
          ]
        },
        {
          "data": {
            "text/markdown": [
              "<span style='color:None;font-size:None'>**Convocar Familiar _(Find Familiar)_** lvl 1<br></span><span style='color:None;font-size:13px'>&emsp;**Escola(s):** invocação<br>&emsp;**Tempo conjuração:** 1 hora<br>&emsp;**Alcance:** 3 metros<br>&emsp;**Componentes:** VSM _(carvão, incenso e ervas no valor de 10 po, que devem ser consumidos pelo fogo em um braseiro de bronze)_<br>&emsp;**Mana:** 700<br>&emsp;**Duração:** instantânea<br></span><span style='color:None;font-size:None'>Você adquire os serviços de uma familiar, um espírito que toma a forma de um animal, à sua escolha: aranha, caranguejo, cavalo marinho, coruja, corvo, doninha, gato, falcão, lagarto, morcego, peixe (arenque), polvo, rato, rã (sapo) ou serpente venenosa. Aparecendo em um espaço desocupado dentro do alcance, o familiar tem as mesmas estatísticas da forma escolhida, no entanto, ele é um celestial, corruptor ou fada (à sua escolha) ao invés de uma besta.<br>&emsp; Seu familiar até independentemente de você, mas ele sempre obedece aos seus comandos. Em combate, ele rola sua a própria iniciativa e age no seu próprio turno. Um familiar não pode atacar, mas ele pode realizar outras ações, como de costume.<br>&emsp; Quando um familiar cai a 0 pontos de vida, ele desaparece, não deixando qualquer corpo físico para trás.  Ele reaparece depois de você conjurar essa magia novamente.<br>&emsp; Enquanto seu familiar estiver a até 30 metros de você, você pode se comunicar telepaticamente com ele. Além disso, com uma ação e 50 de mana, você pode ver através dos olhos do familiar e ouvir através dos ouvidos dele, até o início do seu próximo turno, adquirindo os benefícios de qualquer sentido especial que o familiar possua. Durante esse período, você estará cego e surdo em relação aos seus próprios sentidos.<br>&emsp; Com uma ação, você pode, temporariamente, dispensar seu familiar. Ele desaparece dentro seu Plano Astral, onde ele aguarda sua convocação. Alternativamente, você pode dispensa-lo para sempre.  Com uma ação e 50 de mana, enquanto ele estiver temporariamente dispensado, você pode fazê-lo reaparecer em qualquer espaço desocupado a até 9 metros de você.<br>&emsp; Você não pode ter mais de um familiar por vez. Se você conjurar essa magia enquanto já tiver um familiar, ao invés disso, você faz seu familiar existente adotar uma nova forma. Escolha uma das formas da lista acima. Seu familiar se transforma na criatura escolhida.<br>&emsp; Finalmente, quando você conjura uma magia com alcance de toque, seu familiar pode transmitir a magia, como se ele tivesse conjurado ela. Seu familiar precisa estar a até 30 metros de você e deve usar a reação dele para transmitir a magia quando você a conjurar. Se a magia necessitar de uma jogada de ataque, você usa seu modificador de ataque para essa jogada.<br></span><span style='color:gray;font-size:11px'>[dano, exploração, utilidade]<br></span><span style='color:gray;font-size:11px'>[bruxo, feiticeiro, mago]<br></span><span style='color:gray;font-size:10px'>_LDJ_</span>"
            ],
            "text/plain": [
              "<IPython.core.display.Markdown object>"
            ]
          },
          "metadata": {},
          "output_type": "display_data"
        },
        {
          "name": "stdout",
          "output_type": "stream",
          "text": [
            "\n"
          ]
        },
        {
          "data": {
            "text/markdown": [
              "<span style='color:None;font-size:None'>**Criar ou Destruir Água _(Create or Destroy Water)_** lvl 1<br></span><span style='color:None;font-size:13px'>&emsp;**Escola(s):** elemental (_água_)<br>&emsp;**Tempo conjuração:** 1 ação<br>&emsp;**Alcance:** 9 metros<br>&emsp;**Componentes:** VSM _(uma gota de água se estiver criando ou alguns grãos de areia se estiver destruindo)_<br>&emsp;**Mana:** 300<br>&emsp;**Duração:** instantânea<br></span><span style='color:None;font-size:None'>Você pode tanto criar quanto destruir água.<br>&emsp;**Criar Água.** Você cria 30 litros de água limpa dentro do alcance, em um recipiente aberto. Alternativamente, a água pode cair como chuva em um cubo de 9 metros dentro do alcance, extinguindo chamas expostas na área.<br>&emsp;**Destruir Água.** Você destrói até 30 litros de água de um recipiente aberto dentro do alcance. Alternativamente, você pode destruir um nevoeiro em um cubo de 9 metros dentro do alcance.<br>&emsp;**Melhorar Magia.** Você pode adicionais mais 30 litros de água para cada 500 de mana gastos até um total de 150 litro adicionais máximos. Você pode aumentar o tamanho do cubo em 1,5 para cada 500 de mana gastos adicionalmente até um máximo de 7,5 metros.<br></span><span style='color:gray;font-size:11px'>[controle, utilidade]<br></span><span style='color:gray;font-size:11px'>[bardo, bruxo, clérigo, feiticeiro, guerreiro, ladino, mago, monge, paladino]<br></span><span style='color:gray;font-size:10px'>_LDJ_</span>"
            ],
            "text/plain": [
              "<IPython.core.display.Markdown object>"
            ]
          },
          "metadata": {},
          "output_type": "display_data"
        },
        {
          "name": "stdout",
          "output_type": "stream",
          "text": [
            "\n"
          ]
        },
        {
          "data": {
            "text/markdown": [
              "<span style='color:None;font-size:None'>**Curar Ferimentos _(Cure Wounds)_** lvl 1<br></span><span style='color:None;font-size:13px'>&emsp;**Escola(s):** elemental, musical (_água, luz_)<br>&emsp;**Tempo conjuração:** 1 ação<br>&emsp;**Alcance:** toque<br>&emsp;**Componentes:** VS<br>&emsp;**Mana:** 350<br>&emsp;**Duração:** instantânea<br>&emsp;**Dano**: 1d8 + mod<br></span><span style='color:None;font-size:None'>Uma criatura que você tocar recupera uma quantidade de pontos de vida igual a 1d8 + seu modificador de habilidade de conjuração. Essa magia não produz efeito em mortos-vivos ou constructos.<br>&emsp;**Melhorar Magia** Para cada 500 adicionais de mana gastos, a cura aumenta em 1d8 até um máximo de 5d8.<br></span><span style='color:gray;font-size:11px'>[cura, toque]<br></span><span style='color:gray;font-size:11px'>[bardo, guerreiro, ladino, mago, monge]<br></span><span style='color:gray;font-size:10px'>_LDJ_</span>"
            ],
            "text/plain": [
              "<IPython.core.display.Markdown object>"
            ]
          },
          "metadata": {},
          "output_type": "display_data"
        },
        {
          "name": "stdout",
          "output_type": "stream",
          "text": [
            "\n"
          ]
        },
        {
          "data": {
            "text/markdown": [
              "<span style='color:None;font-size:None'>**Dedos Congelantes _(Frost Fingers)_** lvl 1<br></span><span style='color:None;font-size:13px'>&emsp;**Escola(s):** elemental (_água_)<br>&emsp;**Tempo conjuração:** 1 ação<br>&emsp;**Alcance:** pessoal<br>&emsp;**Componentes:** VS<br>&emsp;**Mana:** 450<br>&emsp;**Duração:** instantânea<br>&emsp;**Dano**: 2d8<br>&emsp;**Attack/Save:** CON Save<br>&emsp;**Dmg/effect:** água<br></span><span style='color:None;font-size:None'>Um vento congelante assopra de seus dedos em um cone de 4,5 metros. Toda criatura nessa área deve fazer um Teste de Resistência de Constituição, levando 2d8 de dano congelante em uma falha ou metade em um sucesso.<br>&emsp;O vento congela líquidos não-mágicos na área que não estão sendo vestidos ou carregados.<br></span><span style='color:gray;font-size:11px'>[dano, utilidade]<br></span><span style='color:gray;font-size:11px'>[bardo, bruxo, clérigo, feiticeiro, mago, paladino]<br></span><span style='color:gray;font-size:10px'>_Etc._</span>"
            ],
            "text/plain": [
              "<IPython.core.display.Markdown object>"
            ]
          },
          "metadata": {},
          "output_type": "display_data"
        },
        {
          "name": "stdout",
          "output_type": "stream",
          "text": [
            "\n"
          ]
        },
        {
          "data": {
            "text/markdown": [
              "<span style='color:None;font-size:None'>**Destruição Lancinante _(Wrathful Smite)_** lvl 1<br></span><span style='color:None;font-size:13px'>&emsp;**Escola(s):** elemental (_fogo, luz, sombras_)<br>&emsp;**Tempo conjuração:** 1 ação bônus<br>&emsp;**Alcance:** pessoal<br>&emsp;**Componentes:** V<br>&emsp;**Mana:** 400 (_+ 10 por turno_)<br>&emsp;**Duração:** concentração, até 1 minuto<br>&emsp;**Dano**: 1d6<br>&emsp;**Attack/Save:** corpo-a-corpo<br>&emsp;**Dmg/effect:** elemental<br></span><span style='color:None;font-size:None'>Da próxima vez que você atingir uma criatura com um ataque corpo-a-corpo com arma enquanto essa magia durar, sua arma flameja com intensas chamas e o ataque causa 1d6 de dano elemental extra ao alvo, fazendo-o incendiar pelas chamas. No início de cada turno dele, até a magia acabar, o alvo deve realizar um teste de resistência de Constituição. Se falhar na resistência, ele sofre 1d6 de dano de fogo. Se passar na resistência, a magia acaba. Se o alvo ou uma criatura a 1,5 metro dele usar uma ação para apagar as chamas ou se algum outro efeito extinguir as chamas (como submergir o alvo em água), a magia acaba.<br>&emsp;**Melhorar Magia**. Você pode gastar 500 de mana adicionais e 10 por turno para adicionar 1d6 no dano até um máximo de 5d6 adicionais.<br></span><span style='color:gray;font-size:11px'>[arma, buff, corpo-a-corpo, dano]<br></span><span style='color:gray;font-size:11px'>[bardo, bruxo, clérigo, feiticeiro, guerreiro, ladino, mago, monge, paladino]<br></span><span style='color:gray;font-size:10px'>_LDJ_</span>"
            ],
            "text/plain": [
              "<IPython.core.display.Markdown object>"
            ]
          },
          "metadata": {},
          "output_type": "display_data"
        },
        {
          "name": "stdout",
          "output_type": "stream",
          "text": [
            "\n"
          ]
        },
        {
          "data": {
            "text/markdown": [
              "<span style='color:None;font-size:None'>**Destruição Trovejante _(Thunderous Smite)_** lvl 1<br></span><span style='color:None;font-size:13px'>&emsp;**Escola(s):** elemental (_relâmpago_)<br>&emsp;**Tempo conjuração:** 1 ação bônus<br>&emsp;**Alcance:** pessoal<br>&emsp;**Componentes:** V<br>&emsp;**Mana:** 450 (_+ 10 por turno_)<br>&emsp;**Duração:** concentração, até 1 minuto<br>&emsp;**Dano**: 2d6<br>&emsp;**Attack/Save:** STR Save<br>&emsp;**Dmg/effect:** trovejante<br></span><span style='color:None;font-size:None'>Da primeira vez que você atingir um ataque corpo-a-corpo enquanto essa magia durar, sua arma (ou mão) é rodeada por trovões que são audíveis a até 90 metros de você e o ataque causa 2d6 de dano trovejante extra no alvo. Além disso, se o alvo for uma criatura, ele deve ser bem sucedido num teste de resistência de Força ou será empurrado 3 metros para longe de você e cairá no chão.<br></span><span style='color:gray;font-size:11px'>[arma, controle, corpo-a-corpo, dano]<br></span><span style='color:gray;font-size:11px'>[clérigo, guerreiro, ladino, monge, paladino]<br></span><span style='color:gray;font-size:10px'>_LDJ_</span>"
            ],
            "text/plain": [
              "<IPython.core.display.Markdown object>"
            ]
          },
          "metadata": {},
          "output_type": "display_data"
        },
        {
          "name": "stdout",
          "output_type": "stream",
          "text": [
            "\n"
          ]
        },
        {
          "data": {
            "text/markdown": [
              "<span style='color:None;font-size:None'>**Detectar Magia _(Detect Magic)_** lvl 1<br></span><span style='color:None;font-size:13px'>&emsp;**Escola(s):** receita<br>&emsp;**Tempo conjuração:** 1 ação<br>&emsp;**Alcance:** 9 metros<br>&emsp;**Componentes:** VS<br>&emsp;**Mana:** 300 (_+ 10 por minuto_)<br>&emsp;**Duração:** concentração, até 10 minutos<br></span><span style='color:None;font-size:None'>Pela duração, você sente a presença de magia a até 9 metros de você. Se você sentir magia dessa forma, você pode usar sua ação para ver uma aura suave em volta de qualquer criatura ou objeto visível, na área que carrega magia, e você descobre a escolha de magia, se houver uma.<br>&emsp;A magia pode penetrar a maioria das barreiras, mas é bloqueada por 30 centímetros de rocha, 2,5 centímetros de metal comum, uma fina camada de chumbo, ou 90 centímetros de madeira ou terra.<br></span><span style='color:gray;font-size:11px'>[defesa, detecção]<br></span><span style='color:gray;font-size:11px'>[bardo, bruxo, clérigo, feiticeiro, guerreiro, ladino, mago, monge, paladino]<br></span><span style='color:gray;font-size:10px'>_LDJ_</span>"
            ],
            "text/plain": [
              "<IPython.core.display.Markdown object>"
            ]
          },
          "metadata": {},
          "output_type": "display_data"
        },
        {
          "name": "stdout",
          "output_type": "stream",
          "text": [
            "\n"
          ]
        },
        {
          "data": {
            "text/markdown": [
              "<span style='color:None;font-size:None'>**Detectar Veneno e Doença _(Detect Poison and Disease)_** lvl 1<br></span><span style='color:None;font-size:13px'>&emsp;**Escola(s):** receita<br>&emsp;**Tempo conjuração:** 1 ação<br>&emsp;**Alcance:** 9 metros<br>&emsp;**Componentes:** VS<br>&emsp;**Mana:** 300 (_+ 10 por minuto_)<br>&emsp;**Duração:** concentração, até 10 minutos<br></span><span style='color:None;font-size:None'>Pela duração, você sente a presença e localização de venenos, criaturas venenosas e doenças a até 9 metros de você. Você também identifica o tipo de veneno, criatura venenosa ou doença em cada caso.<br>&emsp;A magia pode penetrar a maioria das barreiras, mas é bloqueada por 30 centímetros de rocha, 2,5 centímetros de metal comum, uma fina camada de chumbo, ou 90 centímetros de madeira ou terra.<br>&emsp;Ao utilizar a magia, role 1d20 e some seu modificador de conjuração. Se o veneno ou doença foi criado por um mago do veneno, sua rolagem deve dar 10 + o modificador de conjuração do mago para você detectar a presença e deve dar 15 + o modificador de conjuração do mago para você identificar o tipo.<br></span><span style='color:gray;font-size:11px'>[defesa, detecção]<br></span><span style='color:gray;font-size:11px'>[bardo, bruxo, clérigo, feiticeiro, guerreiro, ladino, mago, monge, paladino]<br></span><span style='color:gray;font-size:10px'>_LDJ_</span>"
            ],
            "text/plain": [
              "<IPython.core.display.Markdown object>"
            ]
          },
          "metadata": {},
          "output_type": "display_data"
        },
        {
          "name": "stdout",
          "output_type": "stream",
          "text": [
            "\n"
          ]
        },
        {
          "data": {
            "text/markdown": [
              "<span style='color:None;font-size:None'>**Detectar o Bem e Mal _(Detect Evil and Good)_** lvl 1<br></span><span style='color:None;font-size:13px'>&emsp;**Escola(s):** receita<br>&emsp;**Tempo conjuração:** 1 ação<br>&emsp;**Alcance:** 9 metros<br>&emsp;**Componentes:** VS<br>&emsp;**Mana:** 300 (_+ 10 por minuto_)<br>&emsp;**Duração:** concentração, até 10 minutos<br></span><span style='color:None;font-size:None'>Pela duração, você sabe se existe uma aberração, celestial, corruptor, elemental, fada ou morto-vivo, a até 9 metros de você, assim como onde a criatura está localizada. Similarmente, você sabe se existe um local ou objeto, a até 9 metros de você, que tenha sido consagrado ou profanado magicamente.<br>&emsp;A magia pode penetrar a maioria das barreiras, mas é bloqueada por 30 centímetros de rocha, 2,5 centímetros de metal comum, uma fina camada de chumbo, ou 90 centímetros de madeira ou terra.<br></span><span style='color:gray;font-size:11px'>[defesa, detecção]<br></span><span style='color:gray;font-size:11px'>[bardo, bruxo, clérigo, feiticeiro, guerreiro, ladino, mago, monge, paladino]<br></span><span style='color:gray;font-size:10px'>_LDJ_</span>"
            ],
            "text/plain": [
              "<IPython.core.display.Markdown object>"
            ]
          },
          "metadata": {},
          "output_type": "display_data"
        },
        {
          "name": "stdout",
          "output_type": "stream",
          "text": [
            "\n"
          ]
        },
        {
          "data": {
            "text/markdown": [
              "<span style='color:None;font-size:None'>**Disco Flutuante _(Floating Disk)_** lvl 1<br></span><span style='color:None;font-size:13px'>&emsp;**Escola(s):** elemental (_água, terra, luz, sombras, metal_)<br>&emsp;**Tempo conjuração:** 1 ação<br>&emsp;**Alcance:** 9 metros<br>&emsp;**Componentes:** VSM _(uma gota de mercúrio)_<br>&emsp;**Mana:** 200 (_+ 5 a cada 5 minutos_)<br>&emsp;**Duração:** 1 hora<br></span><span style='color:None;font-size:None'>Essa magia cria um plano horizontal, circular elemental de 90 cm de diâmetro por 2,5 cm de espessura, que flutua 90 centímetros acima do chão em um espaço desocupado, à sua escolha, que você possa ver dentro do alcance. O disco permanece pela duração e pode suportar até 250 quilos. Se mais peso for colocado nele, a magia termina, e tudo em cima do disco cai no chão.<br>&emsp;O disco é imóvel enquanto você estiver a até 6 metros dele. Se você se afastar a mais de 6 metros dele, o disco seguirá você, mantendo-se a 6 metros de você. Ele pode atravessar terreno irregular, subir ou descer escadas, encostas e similares, mas ele não pode atravessar mudanças de elevação de 3 metros ou mais. Por exemplo, o disco não pode atravessar um fosso de 3 metros de profundidade nem poderia sair de tal fosso se tivesse sido criado no fundo dele.<br>&emsp;Se você se afastar mais de 30 metros do disco (tipicamente por ele não poder rodear um obstáculo para seguir você), a magia acaba.<br></span><span style='color:gray;font-size:11px'>[utilidade]<br></span><span style='color:gray;font-size:11px'>[bardo, bruxo, clérigo, feiticeiro, guerreiro, ladino, mago, monge, paladino]<br></span><span style='color:gray;font-size:10px'>_LDJ_</span>"
            ],
            "text/plain": [
              "<IPython.core.display.Markdown object>"
            ]
          },
          "metadata": {},
          "output_type": "display_data"
        },
        {
          "name": "stdout",
          "output_type": "stream",
          "text": [
            "\n"
          ]
        },
        {
          "data": {
            "text/markdown": [
              "<span style='color:None;font-size:None'>**Disfarçar-se _(Disguise Self)_** lvl 1<br></span><span style='color:None;font-size:13px'>&emsp;**Escola(s):** ilusionista<br>&emsp;**Tempo conjuração:** 1 ação<br>&emsp;**Alcance:** pessoal<br>&emsp;**Componentes:** VS<br>&emsp;**Mana:** 250 (_+ 20 a cada 10 minutos_)<br>&emsp;**Duração:** 1 hora<br>&emsp;**Attack/Save:** INT Test<br></span><span style='color:None;font-size:None'>Você faz com que você mesmo – incluindo suas roupas, armadura, armas e outros pertences no seu personagem – pareça diferente até a magia acabar ou até você usar sua ação para dispensa-la. Você pode se parecer 30 centímetros mais baixo ou mais alto, e pode parecer magro, gordo ou entre ambos. Você não pode mudar o tipo do seu corpo, portanto, você deve adotar uma forma que tenha a mesma disposição básica de membros. No mais, a extensão da sua ilusão cabe a você.<br>&emsp;As mudanças criadas por essa magia não conseguem se sustentar perante uma inspeção física. Por exemplo, se você usar essa magia para adicionar um chapéu ao seu visual, objetos que passarem pelo chapéu e qualquer um que tocá-lo não sentirá nada ou sentirá sua cabeça e cabelo. Se você usar essa magia para aparentar ser mais magro do que é, a mão de alguém que a erguer para tocar em você, irá esbarrar em você enquanto ainda está, aparentemente, está no ar.<br>&emsp;Para perceber que você está disfarçado, uma criatura pode usar a ação dela para inspecionar sua aparência e deve ser bem sucedida em um teste de Inteligência (Investigação) contra a CD da sua magia<br></span><span style='color:gray;font-size:11px'>[dano]<br></span><span style='color:gray;font-size:11px'>[bardo, bruxo, clérigo, feiticeiro, guerreiro, ladino, mago, monge, paladino]<br></span><span style='color:gray;font-size:10px'>_LDJ_</span>"
            ],
            "text/plain": [
              "<IPython.core.display.Markdown object>"
            ]
          },
          "metadata": {},
          "output_type": "display_data"
        },
        {
          "name": "stdout",
          "output_type": "stream",
          "text": [
            "\n"
          ]
        },
        {
          "data": {
            "text/markdown": [
              "<span style='color:None;font-size:None'>**Dissonância Ruidosa _(Custom)_** lvl 1<br></span><span style='color:None;font-size:13px'>&emsp;**Escola(s):** musical<br>&emsp;**Tempo conjuração:** 1 reação<br>&emsp;**Alcance:** 18 metros<br>&emsp;**Componentes:** VS<br>&emsp;**Mana:** 400<br>&emsp;**Duração:** instantânea<br>&emsp;**Attack/Save:** WIS Save<br></span><span style='color:None;font-size:None'>Quando uma criatura dentro do alcance atacar um aliado seu, você pode tocar notas dissonantes que tirarão a concentração da criatura. Ela deve fazer um teste de resistência de Sabedoria. Se ela não passar, então o dano do ataque é reduzido pela metade. Você pode usar sua reação depois do mestre ter falado o dano final do ataque.<br></span><span style='color:gray;font-size:11px'>[debuff, defesa]<br></span><span style='color:gray;font-size:11px'>[bardo, mago, monge]<br></span><span style='color:gray;font-size:10px'>_Custom_</span>"
            ],
            "text/plain": [
              "<IPython.core.display.Markdown object>"
            ]
          },
          "metadata": {},
          "output_type": "display_data"
        },
        {
          "name": "stdout",
          "output_type": "stream",
          "text": [
            "\n"
          ]
        },
        {
          "data": {
            "text/markdown": [
              "<span style='color:None;font-size:None'>**Distorcer Valor _(Distort Value)_** lvl 1<br></span><span style='color:None;font-size:13px'>&emsp;**Escola(s):** ilusionista<br>&emsp;**Tempo conjuração:** 1 minuto<br>&emsp;**Alcance:** toque<br>&emsp;**Componentes:** V<br>&emsp;**Mana:** 250<br>&emsp;**Duração:** 8 horas<br>&emsp;**Attack/Save:** INT Save<br></span><span style='color:None;font-size:None'>Você conjura essa magia em um objeto com não mais que 30 cm em qualquer dimensão e ou dobra o valor percebido do objeto ao adicionar um floreio ilusório ou reduz pela metade o valor percebido do objeto com amassados e arranhões ilusórios. Qualquer pessoa examinando o objeto deve rolar um Teste de Investigação contra seu CD de magia.<br>&emsp;**Melhorar Magia.** Você pode gastar mais 500 de mana para adicionar mais 30 cm de dimensão ao item.<br></span><span style='color:gray;font-size:11px'>[social, utilidade]<br></span><span style='color:gray;font-size:11px'>[bardo, bruxo, clérigo, feiticeiro, guerreiro, ladino, mago, monge, paladino]<br></span><span style='color:gray;font-size:10px'>_LDJ_</span>"
            ],
            "text/plain": [
              "<IPython.core.display.Markdown object>"
            ]
          },
          "metadata": {},
          "output_type": "display_data"
        },
        {
          "name": "stdout",
          "output_type": "stream",
          "text": [
            "\n"
          ]
        },
        {
          "data": {
            "text/markdown": [
              "<span style='color:None;font-size:None'>**Duelo Compelido _(Compelled Duel)_** lvl 1<br></span><span style='color:None;font-size:13px'>&emsp;**Escola(s):** receita<br>&emsp;**Tempo conjuração:** 1 ação<br>&emsp;**Alcance:** pessoal<br>&emsp;**Componentes:** VSM _(um conjuro de ferramentas de adivinhação - como ossos, bastões de marfim, dentes ou runas esculpidas - no valor de 100 po e um objeto do lugar que você deseja encontrar)_<br>&emsp;**Mana:** 1000 (_+ 100 por hora_)<br>&emsp;**Duração:** concentração, até 1 dia<br></span><span style='color:None;font-size:None'>Essa magia permite que você encontre a rota física mais curta e direta para um local especifico estático, que você seja familiar, no mesmo plano de existência. Se você denominar um destino em outro plano de existência, um local que se mova (como uma fortaleza andante) ou um destino que não seja especifico (como “o covil do dragão verde”), a magia falha.<br>&emsp;Pela duração, contanto que você esteja no mesmo plano de existência do destino, você saberá o quão longe ele está e em que direção ele se encontra. Enquanto estiver viajando, sempre que você se deparar com uma escolha de trajetória no caminho, você automaticamente determina qual trajetória tem a rota mais curta e direta (mas não necessariamente a rota mais segura) para o destino<br></span><span style='color:gray;font-size:11px'>[detecção, exploração, utilidade]<br></span><span style='color:gray;font-size:11px'>[bardo, bruxo, clérigo, feiticeiro, guerreiro, ladino, mago, monge, paladino]<br></span><span style='color:gray;font-size:10px'>_LDJ_</span>"
            ],
            "text/plain": [
              "<IPython.core.display.Markdown object>"
            ]
          },
          "metadata": {},
          "output_type": "display_data"
        },
        {
          "name": "stdout",
          "output_type": "stream",
          "text": [
            "\n"
          ]
        },
        {
          "data": {
            "text/markdown": [
              "<span style='color:None;font-size:None'>**Encantar Arma (Auxílio Divino) _(Searing Smite)_** lvl 1<br></span><span style='color:None;font-size:13px'>&emsp;**Escola(s):** elemental (_água, terra, fogo, ar, luz, sombras, relâmpago, metal, veneno_)<br>&emsp;**Tempo conjuração:** 1 ação bônus<br>&emsp;**Alcance:** pessoal<br>&emsp;**Componentes:** VS<br>&emsp;**Mana:** 300 (_+ 20 por turno_)<br>&emsp;**Duração:** concentração, até 1 minuto<br>&emsp;**Dano**: 1d4<br>&emsp;**Dmg/effect:** elemental<br></span><span style='color:None;font-size:None'>Você envolve sua arma com seu elemento. Até o final da magia, seus ataques com aruma causa 1d4 de dano elemento extra ao atingirem.<br>&emsp;**Melhorar Magia**. Você pode gastar mais 500 de mana e mais 30 de mana por turno para transformar o d4 em d6. Você pode gastar mais 1500 de mana e mais 50 de mana por turno para transformar o d6 em d8. Você pode gastar mais 5000 de mana e mais 100 de mana por turno para transformar o d8 em d10.<br></span><span style='color:gray;font-size:11px'>[arma, buff, dano]<br></span><span style='color:gray;font-size:11px'>[bardo, bruxo, clérigo, feiticeiro, guerreiro, ladino, mago, monge, paladino]<br></span><span style='color:gray;font-size:10px'>_LDJ_</span>"
            ],
            "text/plain": [
              "<IPython.core.display.Markdown object>"
            ]
          },
          "metadata": {},
          "output_type": "display_data"
        },
        {
          "name": "stdout",
          "output_type": "stream",
          "text": [
            "\n"
          ]
        },
        {
          "data": {
            "text/markdown": [
              "<span style='color:None;font-size:None'>**Enfeitiçar Pessoa _(Charm Person)_** lvl 1<br></span><span style='color:None;font-size:13px'>&emsp;**Escola(s):** psíquica, musical<br>&emsp;**Tempo conjuração:** 1 ação<br>&emsp;**Alcance:** 9 metros<br>&emsp;**Componentes:** VS<br>&emsp;**Mana:** 400<br>&emsp;**Duração:** 1 hora<br>&emsp;**Attack/Save:** WIS Save<br>&emsp;**Dmg/effect:** enfeitiçado<br></span><span style='color:None;font-size:None'>Você tenta enfeitiçar um humanoide que você possa ver dentro do alcance. Ele deve realizar um teste de resistência de Sabedoria, e recebe vantagem nesse teste se você ou seus companheiros estiverem lutando com ele.  Se ele falhar, ficará enfeitiçado por você até a magia acabar ou até você ou seus companheiros fizerem qualquer coisa nociva contra ele. A criatura enfeitiçada reconhece você como um conhecido amigável. Quando a magia acabar, a criatura saberá que foi enfeitiçada por você.<br>&emsp;**Melhorar Magia.** Para cada 500 de mana adicionais gastos, você pode afetar mais uma humanoide até um máximo de 5 humanoides. Para cada 500 de mana adicionais gastos por humanoide afetado, você pode extender o tempo de duração em 1 hora, até um máximo de 5 horas. Gastando 2500 de mana por humanoide afetado, você pode remover a parte da magia que fala que a criatura saberá que foi enfeitiçada por você.<br></span><span style='color:gray;font-size:11px'>[controle, debuff, social]<br></span><span style='color:gray;font-size:11px'>[bardo, mago, monge]<br></span><span style='color:gray;font-size:10px'>_LDJ_</span>"
            ],
            "text/plain": [
              "<IPython.core.display.Markdown object>"
            ]
          },
          "metadata": {},
          "output_type": "display_data"
        },
        {
          "name": "stdout",
          "output_type": "stream",
          "text": [
            "\n"
          ]
        },
        {
          "data": {
            "text/markdown": [
              "<span style='color:None;font-size:None'>**Escrita Ilusória _(Illusory Script)_** lvl 1 - ritual<br></span><span style='color:None;font-size:13px'>&emsp;**Escola(s):** ilusionista<br>&emsp;**Tempo conjuração:** 1 minuto<br>&emsp;**Alcance:** toque<br>&emsp;**Componentes:** SM _(uma tinta à base de chumbo valendo, no mínimo, 10 po, que é consumida pela magia)_<br>&emsp;**Mana:** 300<br>&emsp;**Duração:** 10 dias<br></span><span style='color:None;font-size:None'>Você escreve em um pergaminho, papel ou qualquer outro material adequado e tinge ele com uma poderosa ilusão que permanece pela duração.<br>&emsp;Para você e para qualquer criatura que você designar quando você conjura essa magia, a escrita parece normal, escrita com a sua caligrafia e transmite qualquer que seja a mensagem que você desejava quando escreveu o texto. Para todos os outros, a escrita aparece como se tivesse sido escrita com uma caligrafia desconhecida ou mágica que é inteligível. Alternativamente, você pode fazer a escrita parecer uma mensagem totalmente diferente, escrita com uma caligrafia e idioma diferentes, apesar de o idioma precisar ser um que você conheça.<br>&emsp;No caso da magia ser dissipada, tanto a escrita original quanto a ilusória desaparecem.<br>&emsp;Uma criatura com visão verdadeira pode ler a mensagem escondida.<br></span><span style='color:gray;font-size:11px'>[comunicação, social, utilidade]<br></span><span style='color:gray;font-size:11px'>[bardo, bruxo, clérigo, feiticeiro, guerreiro, ladino, mago, monge, paladino]<br></span><span style='color:gray;font-size:10px'>_LDJ_</span>"
            ],
            "text/plain": [
              "<IPython.core.display.Markdown object>"
            ]
          },
          "metadata": {},
          "output_type": "display_data"
        },
        {
          "name": "stdout",
          "output_type": "stream",
          "text": [
            "\n"
          ]
        },
        {
          "data": {
            "text/markdown": [
              "<span style='color:None;font-size:None'>**Escudo Arcano _(Shield)_** lvl 1<br></span><span style='color:None;font-size:13px'>&emsp;**Escola(s):** elemental, necromancia, musical, psíquica (_água, terra, fogo, ar, luz, sombras, relâmpago, metal, veneno_)<br>&emsp;**Tempo conjuração:** 1 reação<br>&emsp;**Alcance:** pessoal<br>&emsp;**Componentes:** VS<br>&emsp;**Mana:** 350<br>&emsp;**Duração:** instantânea<br></span><span style='color:None;font-size:None'>Uma barreira de energia aparece e protege você.<br>&emsp;Até o final do turno da criatura que fez a magia contra você, você recebe +3 de bônus na CA, incluindo contra o ataque que desencadeou a magia, e você não sofre dado de mísseis mágicos.<br>&emsp;Você não pode usar essa magia junto com outros escudos mágicos.<br>&emsp;**Melhorar Magia**. Você pode gastar mais 500 mana para transformar o efeito em +4 ou então mais 2000 de mana para transformar o efeito em +5.<br></span><span style='color:gray;font-size:11px'>[defesa]<br></span><span style='color:gray;font-size:11px'>[bardo, bruxo, clérigo, feiticeiro, guerreiro, ladino, mago, monge, paladino]<br></span><span style='color:gray;font-size:10px'>_LDJ_</span>"
            ],
            "text/plain": [
              "<IPython.core.display.Markdown object>"
            ]
          },
          "metadata": {},
          "output_type": "display_data"
        },
        {
          "name": "stdout",
          "output_type": "stream",
          "text": [
            "\n"
          ]
        },
        {
          "data": {
            "text/markdown": [
              "<span style='color:None;font-size:None'>**Escudo Protetor _(Shield of Faith)_** lvl 1<br></span><span style='color:None;font-size:13px'>&emsp;**Escola(s):** elemental, musical, psíquica (_água, terra, fogo, ar, luz, sombras, relâmpago, metal, veneno_)<br>&emsp;**Tempo conjuração:** 1 ação bônus<br>&emsp;**Alcance:** 18 metros<br>&emsp;**Componentes:** VSM _(um pequeno pergaminho com alguns textos sagrados escritos nele)_<br>&emsp;**Mana:** 350 (_+ 10 a cada minuto_)<br>&emsp;**Duração:** concentração, até 10 minuto<br></span><span style='color:None;font-size:None'>Um campo cintilante aparece ao redor de uma criatura, à sua escolha, dentro do alcance, concedendo +1 de bônus na CA pela duração.<br>&emsp;Esta magia não pode ser utilizada se a criatura já estiver sob efeito de outros escudos mágicos.<br>&emsp;**Melhorar Magia**. Você pode gastar mais 2000 mana para transformar o efeito em +2 ou então mais 5000 de mana para transformar o efeito em +3.<br></span><span style='color:gray;font-size:11px'>[buff, defesa]<br></span><span style='color:gray;font-size:11px'>[bardo, bruxo, clérigo, feiticeiro, mago, monge, paladino]<br></span><span style='color:gray;font-size:10px'>_LDJ_</span>"
            ],
            "text/plain": [
              "<IPython.core.display.Markdown object>"
            ]
          },
          "metadata": {},
          "output_type": "display_data"
        },
        {
          "name": "stdout",
          "output_type": "stream",
          "text": [
            "\n"
          ]
        },
        {
          "data": {
            "text/markdown": [
              "<span style='color:None;font-size:None'>**Faca de Gelo _(Ice Knife (adaptação))_** lvl 1<br></span><span style='color:None;font-size:13px'>&emsp;**Escola(s):** elemental (_água_)<br>&emsp;**Tempo conjuração:** 1 ação<br>&emsp;**Alcance:** pessoal<br>&emsp;**Componentes:** VSM _(uma arma corpo-a-corpo)_<br>&emsp;**Mana:** 400<br>&emsp;**Duração:** instantânea<br>&emsp;**Dano**: 1d6<br>&emsp;**Attack/Save:** corpo-a-corpo<br>&emsp;**Dmg/effect:** gelo<br></span><span style='color:None;font-size:None'>Você congela a lâmina de uma arma que estiver empunhando e faz um ataque contra uma criatura que esteja no alcance da arma. Em um acerto, o ataque causa 1d10 a mais de dano congelante e a criatura deve fazer um teste de resistência de Força ou terá seu movimento reduzido pela metade no seu próximo turno.<br>&emsp;**Melhorar Magia**. A cada 550 de mana adicionais gastos, você adiciona 1d10 ao dano.<br></span><span style='color:gray;font-size:11px'>[arma, controle, corpo-a-corpo, dano]<br></span><span style='color:gray;font-size:11px'>[bardo, guerreiro, ladino, mago, monge]<br></span><span style='color:gray;font-size:10px'>_LDJ_</span>"
            ],
            "text/plain": [
              "<IPython.core.display.Markdown object>"
            ]
          },
          "metadata": {},
          "output_type": "display_data"
        },
        {
          "name": "stdout",
          "output_type": "stream",
          "text": [
            "\n"
          ]
        },
        {
          "data": {
            "text/markdown": [
              "<span style='color:None;font-size:None'>**Falsa Vida _(False Life)_** lvl 1<br></span><span style='color:None;font-size:13px'>&emsp;**Escola(s):** necromancia, elemental (_sombras_)<br>&emsp;**Tempo conjuração:** 1 ação<br>&emsp;**Alcance:** pessoal<br>&emsp;**Componentes:** VSM _(uma pequena quantidade de álcool)_<br>&emsp;**Mana:** 400<br>&emsp;**Duração:** 1 hora<br></span><span style='color:None;font-size:None'>Você envolve-se com uma aura sombria e ganha 1d4 + 4 pontos de vida temporários pela duração da magia.<br>&emsp;**Melhorar Magia.** Você pode gastar 500 extras para adicionar 5 pontos de vida até um máximo de 20 pontos de vida adicionais.<br></span><span style='color:gray;font-size:11px'>[buff]<br></span><span style='color:gray;font-size:11px'>[bardo, bruxo, clérigo, feiticeiro, guerreiro, ladino, mago, monge, paladino]<br></span><span style='color:gray;font-size:10px'>_LDJ_</span>"
            ],
            "text/plain": [
              "<IPython.core.display.Markdown object>"
            ]
          },
          "metadata": {},
          "output_type": "display_data"
        },
        {
          "name": "stdout",
          "output_type": "stream",
          "text": [
            "\n"
          ]
        },
        {
          "data": {
            "text/markdown": [
              "<span style='color:None;font-size:None'>**Flash _(Color Spray)_** lvl 1<br></span><span style='color:None;font-size:13px'>&emsp;**Escola(s):** elemental (_luz_)<br>&emsp;**Tempo conjuração:** 1 ação<br>&emsp;**Alcance:** pessoal (cone de 4,5 metros)<br>&emsp;**Componentes:** VSM _(um punhado de pó ou areia)_<br>&emsp;**Mana:** 300<br>&emsp;**Duração:** 1 rodada<br>&emsp;**Dmg/effect:** cego<br></span><span style='color:None;font-size:None'>Um feixe de luzes surge da sua mão. Role 6d10; o total é a quantidade de pontos de vida de criaturas que essa magia pode afetar. As criaturas num cone de 4,5 metros, originado de você, são afetadas em ordem ascendente dos seus pontos de vida (ignorando criaturas inconsciente e que não podem ver).<br>&emsp;Começando com as criaturas que tiverem menos pontos de vida, cada criatura afetada por essa magia ficará cega até o fim da magia. Subtraia os pontos de vida de cada criatura do total antes de considerar os pontos de vida da próxima criatura. Os pontos de vida de uma criatura devem ser iguais ou menores que o total restante para que essa criatura seja afetada<br>&emsp;**Melhorar Magia.** Você pode gastar 500 de mana adicionais para receber 2d10 extras até um limite de 10d10 extras. Você pode gastar 1500 de mana adicionais para fazer o efeito durar mais uma rodada até um máximo de 3 rodadas.<br></span><span style='color:gray;font-size:11px'>[controle, debuff]<br></span><span style='color:gray;font-size:11px'>[bardo, bruxo, clérigo, feiticeiro, guerreiro, ladino, mago, monge, paladino]<br></span><span style='color:gray;font-size:10px'>_LDJ_</span>"
            ],
            "text/plain": [
              "<IPython.core.display.Markdown object>"
            ]
          },
          "metadata": {},
          "output_type": "display_data"
        },
        {
          "name": "stdout",
          "output_type": "stream",
          "text": [
            "\n"
          ]
        },
        {
          "data": {
            "text/markdown": [
              "<span style='color:None;font-size:None'>**Flash Sombrio _(Color Spray)_** lvl 1<br></span><span style='color:None;font-size:13px'>&emsp;**Escola(s):** elemental (_sombras_)<br>&emsp;**Tempo conjuração:** 1 ação<br>&emsp;**Alcance:** pessoal (cone de 4,5 metros)<br>&emsp;**Componentes:** VSM _(um punhado de pó ou areia)_<br>&emsp;**Mana:** 300<br>&emsp;**Duração:** 2 rodadas<br>&emsp;**Attack/Save:** WIS Save<br>&emsp;**Dmg/effect:** amedrontado<br></span><span style='color:None;font-size:None'>Um feixe de luzes negras surge da sua mão. Role 6d10; o total é a quantidade de pontos de vida de criaturas que essa magia pode afetar. As criaturas num cone de 4,5 metros, originado de você, são afetadas em ordem ascendente dos seus pontos de vida (ignorando criaturas inconsciente e que não podem ver).<br>&emsp;Começando com as criaturas que tiverem menos pontos de vida, cada criatura afetada por essa magia deve fazer um teste de Sabedoria CD 8 + seu modificador de magia. Se falhar, ficará amedrontada até o fim da magia. Subtraia os pontos de vida de cada criatura do total antes de considerar os pontos de vida da próxima criatura. Os pontos de vida de uma criatura devem ser iguais ou menores que o total restante para que essa criatura seja afetada<br>&emsp;**Melhorar Magia.** Você pode gastar 500 de mana adicionais para receber 2d10 extras até um limite de 10d10 extras. Você pode gastar 1500 de mana adicionais para fazer o efeito durar mais uma rodada até um máximo de 3 rodadas.<br></span><span style='color:gray;font-size:11px'>[controle, debuff]<br></span><span style='color:gray;font-size:11px'>[bardo, bruxo, clérigo, feiticeiro, guerreiro, ladino, mago, monge, paladino]<br></span><span style='color:gray;font-size:10px'>_LDJ_</span>"
            ],
            "text/plain": [
              "<IPython.core.display.Markdown object>"
            ]
          },
          "metadata": {},
          "output_type": "display_data"
        },
        {
          "name": "stdout",
          "output_type": "stream",
          "text": [
            "\n"
          ]
        },
        {
          "data": {
            "text/markdown": [
              "<span style='color:None;font-size:None'>**Flecha Luminosa _(Custom)_** lvl 1<br></span><span style='color:None;font-size:13px'>&emsp;**Escola(s):** elemental (_fogo, luz, relâmpago_)<br>&emsp;**Tempo conjuração:** 1 ação<br>&emsp;**Alcance:** pessoal<br>&emsp;**Componentes:** VSM _(uma pata de vagalume)_<br>&emsp;**Mana:** 350<br>&emsp;**Duração:** instantânea<br>&emsp;**Dano**: 1d6<br>&emsp;**Dmg/effect:** elemental<br></span><span style='color:None;font-size:None'>Você encanta uma munição de arma à distância e faz uma jogada de ataque contra um alvo dentro do alcance normal da arma. Independente de acertar ou errar, você cria uma explosão luminosa que cria uma esfera de 3m de luz plena e 3m de penumbra com foco no alvo. Em um acerto, você dá 1d4 de dano perfurante extra.<br></span><span style='color:gray;font-size:11px'>[arma, dano, detecção, distância]<br></span><span style='color:gray;font-size:11px'>[arqueiro, guerreiro]<br></span><span style='color:gray;font-size:10px'>_Custom_</span>"
            ],
            "text/plain": [
              "<IPython.core.display.Markdown object>"
            ]
          },
          "metadata": {},
          "output_type": "display_data"
        },
        {
          "name": "stdout",
          "output_type": "stream",
          "text": [
            "\n"
          ]
        },
        {
          "data": {
            "text/markdown": [
              "<span style='color:None;font-size:None'>**Flecha Obscurecente _(Custom)_** lvl 1<br></span><span style='color:None;font-size:13px'>&emsp;**Escola(s):** elemental (_terra, sombras, veneno_)<br>&emsp;**Tempo conjuração:** 1 ação<br>&emsp;**Alcance:** pessoal<br>&emsp;**Componentes:** VSM _(uma pata de aracnídeo)_<br>&emsp;**Mana:** 350<br>&emsp;**Duração:** instantânea<br>&emsp;**Dmg/effect:** elemental<br></span><span style='color:None;font-size:None'>Você encanta uma munição de arma à distância e faz uma jogada de ataque contra um alvo dentro do alcance normal da arma. Independente de acertar ou errar, você cria uma explosão de fumaça que cria uma esfera de 4,5m de escuridão total com foco no alvo. Em um acerto, você dá 1d4 de dano perfurante extra.<br></span><span style='color:gray;font-size:11px'>[arma, controle, dano, distância]<br></span><span style='color:gray;font-size:11px'>[arqueiro, guerreiro]<br></span><span style='color:gray;font-size:10px'>_Custom_</span>"
            ],
            "text/plain": [
              "<IPython.core.display.Markdown object>"
            ]
          },
          "metadata": {},
          "output_type": "display_data"
        },
        {
          "name": "stdout",
          "output_type": "stream",
          "text": [
            "\n"
          ]
        },
        {
          "data": {
            "text/markdown": [
              "<span style='color:None;font-size:None'>**Fogo das Fadas _(Faerie Fire)_** lvl 1<br></span><span style='color:None;font-size:13px'>&emsp;**Escola(s):** elemental (_luz_)<br>&emsp;**Tempo conjuração:** 1 ação<br>&emsp;**Alcance:** 18 metros<br>&emsp;**Componentes:** V<br>&emsp;**Mana:** 300 (_+ 10 por turno_)<br>&emsp;**Duração:** concentração, até 1 minuto<br>&emsp;**Attack/Save:** DEX Save<br></span><span style='color:None;font-size:None'>Cada objeto num cubo de 6 metros dentro do alcance fica delineado com luz azul, verde ou violeta (à sua escolha).<br>&emsp;Qualquer criatura na área, quando a magia é conjurada, também fica delineada com luz, se falhar num teste de resistência de Destreza. Pela duração, os objetos e criaturas afetadas emitem penumbra num raio de 3 metros.<br>&emsp;Qualquer jogada de ataque contra uma criatura afetada ou objeto tem vantagem, se o atacante puder ver o alvo e, a criatura afetada ou objeto não recebe benefício por estar invisível<br></span><span style='color:gray;font-size:11px'>[debuff]<br></span><span style='color:gray;font-size:11px'>[bardo, mago, monge]<br></span><span style='color:gray;font-size:10px'>_LDJ_</span>"
            ],
            "text/plain": [
              "<IPython.core.display.Markdown object>"
            ]
          },
          "metadata": {},
          "output_type": "display_data"
        },
        {
          "name": "stdout",
          "output_type": "stream",
          "text": [
            "\n"
          ]
        },
        {
          "data": {
            "text/markdown": [
              "<span style='color:None;font-size:None'>**Golpe Constritor _(Ensnaring Strike)_** lvl 1<br></span><span style='color:None;font-size:13px'>&emsp;**Escola(s):** elemental (_terra, sombras, relâmpago, metal, veneno_)<br>&emsp;**Tempo conjuração:** 1 ação bônus<br>&emsp;**Alcance:** pessoal<br>&emsp;**Componentes:** V<br>&emsp;**Mana:** 400 (_+ 20 por turno_)<br>&emsp;**Duração:** concentração, até 1 minuto<br>&emsp;**Dano**: 1d6<br>&emsp;**Attack/Save:** STR Save<br>&emsp;**Dmg/effect:** perfurante<br></span><span style='color:None;font-size:None'>Da próxima vez que você atingir uma criatura com um ataque com arma, antes do final da magia, um emaranhado maciço de vinhas espinhentas elementais aparecem no local do impacto e o alvo deve ser bem sucedido num teste de resistência de Força ou ficará impedido pelas vinhas mágicas, até o fim da magia. Uma criatura Grande ou maior tem vantagem no seu teste de resistência. Se o alvo for bem sucedido na resistência, as vinhas murcharão.<br>&emsp;Enquanto estiver impedido pela magia, um alvo sofre 1d6 de dano perfurante no início de cada um dos turnos dele. Uma criatura impedida pelas vinhas ou uma que possa tocar a criatura, pode usar sua ação para realizar um teste de Força contra a CD da magia. Num sucesso, o alvo é libertado.<br>&emsp;**Melhorar Magia.** Você pode gastar 500 de mana extras para adicionar 1d6 no dano até um máximo de 5d6 adicionais.<br></span><span style='color:gray;font-size:11px'>[arma, controle, dano]<br></span><span style='color:gray;font-size:11px'>[ladino, monge, paladino]<br></span><span style='color:gray;font-size:10px'>_LDJ_</span>"
            ],
            "text/plain": [
              "<IPython.core.display.Markdown object>"
            ]
          },
          "metadata": {},
          "output_type": "display_data"
        },
        {
          "name": "stdout",
          "output_type": "stream",
          "text": [
            "\n"
          ]
        },
        {
          "data": {
            "text/markdown": [
              "<span style='color:None;font-size:None'>**Golpe de Zephyr _(Zephyr Strike)_** lvl 1<br></span><span style='color:None;font-size:13px'>&emsp;**Escola(s):** elemental (_ar_)<br>&emsp;**Tempo conjuração:** 1 ação bônus<br>&emsp;**Alcance:** pessoal<br>&emsp;**Componentes:** V<br>&emsp;**Mana:** 300 (_+ 10 por turno_)<br>&emsp;**Duração:** concentração, até 1 minuto<br>&emsp;**Dano**: 1d8<br>&emsp;**Dmg/effect:** ar<br></span><span style='color:None;font-size:None'>Você se move como o vento. Até o fim da magia, seu movimento não provoca ataques de oportunidade.<br>&emsp;Uma vez até o fim da magia, você pode se dar vantagem em uma rolagem de ataque com arma no seu turno. Esse ataque infringe 1d8 de dano de ar extra caso acerte. Não importa se acertar ou errar, sua velocidade de deslocamento aumenta em 9 metros até o final desse turno.<br></span><span style='color:gray;font-size:11px'>[arma, buff, dano]<br></span><span style='color:gray;font-size:11px'>[bardo, clérigo, guerreiro, ladino, monge, paladino]<br></span><span style='color:gray;font-size:10px'>_Xanathar_</span>"
            ],
            "text/plain": [
              "<IPython.core.display.Markdown object>"
            ]
          },
          "metadata": {},
          "output_type": "display_data"
        },
        {
          "name": "stdout",
          "output_type": "stream",
          "text": [
            "\n"
          ]
        },
        {
          "data": {
            "text/markdown": [
              "<span style='color:None;font-size:None'>**Heroísmo _(Heroism)_** lvl 1<br></span><span style='color:None;font-size:13px'>&emsp;**Escola(s):** musical<br>&emsp;**Tempo conjuração:** 1 ação<br>&emsp;**Alcance:** toque<br>&emsp;**Componentes:** VS<br>&emsp;**Mana:** 200 (_+ 20 por turno_)<br>&emsp;**Duração:** concentração, até 1 minuto<br></span><span style='color:None;font-size:None'>Uma criatura voluntária que você tocar é imbuída com bravura. Até a magia acabar, a criatura é imune a ser amedrontada e ganha pontos de vida temporários igual ao seu modificador de habilidade de conjuração, no início de cada turno dela. Quando a magia acabar, o alvo perde qualquer ponto de vida temporário restante dessa magia.<br>&emsp;**Melhorar Magia**. Para cada 350 de mana adicionais (e gastando 10 a mais por turno), você pode adicionar mais uma criatura ao efeito da magia.<br></span><span style='color:gray;font-size:11px'>[buff, toque]<br></span><span style='color:gray;font-size:11px'>[bardo, mago, monge]<br></span><span style='color:gray;font-size:10px'>_LDJ_</span>"
            ],
            "text/plain": [
              "<IPython.core.display.Markdown object>"
            ]
          },
          "metadata": {},
          "output_type": "display_data"
        },
        {
          "name": "stdout",
          "output_type": "stream",
          "text": [
            "\n"
          ]
        },
        {
          "data": {
            "text/markdown": [
              "<span style='color:None;font-size:None'>**Identificação _(Identify)_** lvl 1 - ritual<br></span><span style='color:None;font-size:13px'>&emsp;**Escola(s):** espiritual<br>&emsp;**Tempo conjuração:** 1 minuto<br>&emsp;**Alcance:** toque<br>&emsp;**Componentes:** VSM _(uma perola valendo, no mínimo, 100 po e uma pena de coruja)_<br>&emsp;**Mana:** 500<br>&emsp;**Duração:** instantânea<br></span><span style='color:None;font-size:None'>Você escolhe um objeto que você deve tocar durante toda a conjuração da magia. Se ele for um item mágico ou algum outro objeto imbuído por magia, você descobre suas propriedades e como usá-lo, se exige sintonia para ser usado e quantas cargas ele tem, se aplicável. Você descobre se quaisquer magias estão afetando o item e quais eles são. Se o item foi criado por magia, você descobre que magia o criou.  <br>&emsp;Se você, ao invés, tocar uma criatura durante toda a conjuração, você descobre quais magias, se houver alguma, estão afetando-a atualmente.<br></span><span style='color:gray;font-size:11px'>[detecção, toque]<br></span><span style='color:gray;font-size:11px'>[bardo, bruxo, clérigo, feiticeiro, guerreiro, ladino, mago, monge, paladino]<br></span><span style='color:gray;font-size:10px'>_LDJ_</span>"
            ],
            "text/plain": [
              "<IPython.core.display.Markdown object>"
            ]
          },
          "metadata": {},
          "output_type": "display_data"
        },
        {
          "name": "stdout",
          "output_type": "stream",
          "text": [
            "\n"
          ]
        },
        {
          "data": {
            "text/markdown": [
              "<span style='color:None;font-size:None'>**Imagem Silenciosa _(Silent Image)_** lvl 1<br></span><span style='color:None;font-size:13px'>&emsp;**Escola(s):** ilusionista<br>&emsp;**Tempo conjuração:** 1 ação<br>&emsp;**Alcance:** 18 metros<br>&emsp;**Componentes:** VSM _(um pouco de lã)_<br>&emsp;**Mana:** 250 (_+ 10 por turno_)<br>&emsp;**Duração:** concentração, até 10 minutos<br>&emsp;**Attack/Save:** INT Save<br></span><span style='color:None;font-size:None'>Você cria a imagem de um objeto, criatura ou outro fenômeno visual que não tenha mais de 4,5 metros cúbicos. A imagem aparece num ponto, dentro do alcança, e permanece pela duração. A imagem é puramente visual; não é acompanhada por som, cheiro ou outros efeitos sensoriais.<br>&emsp;Você pode usar sua ação e 10 de mana para fazer a imagem se mover para qualquer ponto, dentro do alcance. À medida que a imagem muda de lugar, você pode alterar a aparência dela para que seu movimento pareça ser o natural para a imagem. Por exemplo, se você criar uma imagem de uma criatura e move-la, você pode alterar a imagem para que ela pareça estar andando.<br>&emsp;Interação física com a imagem, revelará que ela é uma ilusão, já que as coisas podem passar através dela. Uma criatura que usar sua ação para examinar a imagem, pode determinar que ela é uma ilusão com um teste de Inteligência (Investigação) bem sucedido contra a CD da magia. Se uma criatura discernir a ilusão como sendo isso, a criatura poderá ver através da imagem.<br></span><span style='color:gray;font-size:11px'>[utilidade]<br></span><span style='color:gray;font-size:11px'>[bardo, bruxo, clérigo, feiticeiro, guerreiro, ladino, mago, monge, paladino]<br></span><span style='color:gray;font-size:10px'>_LDJ_</span>"
            ],
            "text/plain": [
              "<IPython.core.display.Markdown object>"
            ]
          },
          "metadata": {},
          "output_type": "display_data"
        },
        {
          "name": "stdout",
          "output_type": "stream",
          "text": [
            "\n"
          ]
        },
        {
          "data": {
            "text/markdown": [
              "<span style='color:None;font-size:None'>**Infligir Ferimentos _(Inflict Wounds)_** lvl 1<br></span><span style='color:None;font-size:13px'>&emsp;**Escola(s):** necromancia, elemental (_sombras, veneno_)<br>&emsp;**Tempo conjuração:** 1 ação<br>&emsp;**Alcance:** toque<br>&emsp;**Componentes:** VS<br>&emsp;**Mana:** 550<br>&emsp;**Duração:** instantânea<br>&emsp;**Dano**: 3d10<br>&emsp;**Attack/Save:** corpo-a-corpo<br>&emsp;**Dmg/effect:** necrótico<br></span><span style='color:None;font-size:None'>Faça um ataque corpo-a-corpo com magia contra uma criatura dentro do alcance. Se atingir, o alvo sofre 3d10 de dano necrótico.<br>&emsp;Alternativamente, você pode escolher fazer um ataque com uma arma corpo-a-corpo, mas o dano era o mesmo de 3d10.<br>&emsp;**Melhorar Magia**. Para cada 700 de mana adicionais, adicione 1d10 ao dano até um máximo de 3d10. Você pode gastar 5000 de mana adicional e adicionar 1d4 total para acertar.<br></span><span style='color:gray;font-size:11px'>[arma, corpo-a-corpo, dano]<br></span><span style='color:gray;font-size:11px'>[bardo, guerreiro, ladino, mago, monge]<br></span><span style='color:gray;font-size:10px'>_LDJ_</span>"
            ],
            "text/plain": [
              "<IPython.core.display.Markdown object>"
            ]
          },
          "metadata": {},
          "output_type": "display_data"
        },
        {
          "name": "stdout",
          "output_type": "stream",
          "text": [
            "\n"
          ]
        },
        {
          "data": {
            "text/markdown": [
              "<span style='color:None;font-size:None'>**Mãos Flamejantes _(Burning Hands)_** lvl 1<br></span><span style='color:None;font-size:13px'>&emsp;**Escola(s):** elemental (_fogo, sombras, relâmpago, veneno_)<br>&emsp;**Tempo conjuração:** 1 ação<br>&emsp;**Alcance:** pessoal (cone de 4,5 metros)<br>&emsp;**Componentes:** VS<br>&emsp;**Mana:** 450<br>&emsp;**Duração:** instantânea<br>&emsp;**Dano**: 3d6<br>&emsp;**Attack/Save:** DEX Save<br>&emsp;**Dmg/effect:** elemental<br></span><span style='color:None;font-size:None'>Enquanto você mantiver suas mãos com os polegares juntos e os dedos abertos, um fino leque de chamas emerge das pontas dos seus dedos erguidos. Cada criatura num cone de 4,5 metros deve realizar um teste de resistência de Destreza. Uma criatura sofre 3d6 de dano elemental se falhar no teste, ou metade desse dano se obtiver sucesso.<br>&emsp;O fogo incendeia qualquer objeto inflamável na área que não esteja sendo vestido ou carregado.<br>&emsp;**Melhorar Magia.** Para cada 500 de mana a mais gasto, adicione 1d6 ao dano até um máximo de 5 dados extras.<br></span><span style='color:gray;font-size:11px'>[dano]<br></span><span style='color:gray;font-size:11px'>[bardo, bruxo, clérigo, feiticeiro, guerreiro, ladino, mago, monge, paladino]<br></span><span style='color:gray;font-size:10px'>_LDJ_</span>"
            ],
            "text/plain": [
              "<IPython.core.display.Markdown object>"
            ]
          },
          "metadata": {},
          "output_type": "display_data"
        },
        {
          "name": "stdout",
          "output_type": "stream",
          "text": [
            "\n"
          ]
        },
        {
          "data": {
            "text/markdown": [
              "<span style='color:None;font-size:None'>**Mísseis Mágicos _(Magic Missile)_** lvl 1<br></span><span style='color:None;font-size:13px'>&emsp;**Escola(s):** elemental (_água, terra, fogo, ar, luz, sombras, relâmpago, metal, veneno_)<br>&emsp;**Tempo conjuração:** 1 ação<br>&emsp;**Alcance:** 36 metros<br>&emsp;**Componentes:** VS<br>&emsp;**Mana:** 350<br>&emsp;**Duração:** instantânea<br>&emsp;**Dano**: 1d4 + 1<br>&emsp;**Dmg/effect:** elemental<br></span><span style='color:None;font-size:None'>Você cria três dardos elementais. Cada dardo atinge uma criatura, à sua escolha, que você possa ver, dentro do alcance. Um dardo causa 1d4 + 1 de dano elemental ao alvo. Todos os dardos atingem simultaneamente e você pode direciona-los para atingir uma criatura ou várias.<br>&emsp;**Melhorar Magia**. Para cada 500 de mana adicionais, você adiciona mais um dardo à magia, até um máximo de 10 dardos totais.<br></span><span style='color:gray;font-size:11px'>[dano]<br></span><span style='color:gray;font-size:11px'>[bardo, mago, monge]<br></span><span style='color:gray;font-size:10px'>_LDJ_</span>"
            ],
            "text/plain": [
              "<IPython.core.display.Markdown object>"
            ]
          },
          "metadata": {},
          "output_type": "display_data"
        },
        {
          "name": "stdout",
          "output_type": "stream",
          "text": [
            "\n"
          ]
        },
        {
          "data": {
            "text/markdown": [
              "<span style='color:None;font-size:None'>**Névoa Obscurecente _(Fog Cloud)_** lvl 1<br></span><span style='color:None;font-size:13px'>&emsp;**Escola(s):** elemental (_água, sombras, metal, veneno_)<br>&emsp;**Tempo conjuração:** 1 ação<br>&emsp;**Alcance:** 36 metros<br>&emsp;**Componentes:** VS<br>&emsp;**Mana:** 300 (_+ 10 a cada 5 minutos_)<br>&emsp;**Duração:** concentração, até 1 hora<br>&emsp;**Dano**: 1d6<br>&emsp;**Dmg/effect:** elemental<br></span><span style='color:None;font-size:None'>Você cria uma esfera de 6 metros de raio de névoa, centrada num ponto, dentro do alcance. A esfera se espalha, dobrando esquinas, e a área dela é de escuridão densa. Ela permanece pela duração ou até um vento moderado ou mais rápido (pelo menos 15 quilômetros por hora) dispersa-la. Caso o elemento da névoa seja Sombras, Metal ou Veneno, a magia também causa 1d4 de dano em todas as criaturas que começam seu turno dentro do efeito da magia, exceto o conjurador.<br>&emsp;**Melhorar Magia.** Para cada 500 de mana adicionais gastos, você pode aumentar em 6 metros o raio da nevoa até um adicional de 30 metros. Se seu elemento pode dar dano com essa magia, você pode gastar 500 adicionais para adicionar 1d4 ao dano até um máximo de 5d4 adicionais.<br></span><span style='color:gray;font-size:11px'>[controle, dano]<br></span><span style='color:gray;font-size:11px'>[bardo, bruxo, clérigo, feiticeiro, guerreiro, ladino, mago, monge, paladino]<br></span><span style='color:gray;font-size:10px'>_LDJ_</span>"
            ],
            "text/plain": [
              "<IPython.core.display.Markdown object>"
            ]
          },
          "metadata": {},
          "output_type": "display_data"
        },
        {
          "name": "stdout",
          "output_type": "stream",
          "text": [
            "\n"
          ]
        },
        {
          "data": {
            "text/markdown": [
              "<span style='color:None;font-size:None'>**Onda Trovejante _(Thunderwave)_** lvl 1<br></span><span style='color:None;font-size:13px'>&emsp;**Escola(s):** elemental (_relâmpago_)<br>&emsp;**Tempo conjuração:** 1 ação<br>&emsp;**Alcance:** pessoal<br>&emsp;**Componentes:** VS<br>&emsp;**Mana:** 450<br>&emsp;**Duração:** instantânea<br>&emsp;**Dano**: 2d8<br>&emsp;**Attack/Save:** CON Save<br>&emsp;**Dmg/effect:** trovejante<br></span><span style='color:None;font-size:None'>Uma onda de força trovejante varre tudo a partir de você.<br>&emsp;Cada criatura num cubo de 4,5 metros originado em você, deve realizar um teste de resistência de Constituição. Se falhar na resistência, uma criatura sofrerá 2d8 de dano trovejante e será empurrada 3 metros para longe de você.<br>&emsp;Se obtive sucesso na resistência, a criatura sofrerá metade desse dano e não será empurrada.<br>&emsp;Além disso, objetos soltos que estiverem completamente dentro da área de efeito serão automaticamente empurrados 3 metros para longe de você pelo efeito da magia e a magia emitirá um ressonante barulho de trovão audível a até 90 metros.<br>&emsp;**Melhorar Magia**. Você pode gastar 550 de mana adicionais para adicionar 1d8 ao dano, até um máximo de 5d8 adicionais.<br></span><span style='color:gray;font-size:11px'>[controle, dano]<br></span><span style='color:gray;font-size:11px'>[bardo, bruxo, clérigo, feiticeiro, guerreiro, ladino, mago, monge, paladino]<br></span><span style='color:gray;font-size:10px'>_LDJ_</span>"
            ],
            "text/plain": [
              "<IPython.core.display.Markdown object>"
            ]
          },
          "metadata": {},
          "output_type": "display_data"
        },
        {
          "name": "stdout",
          "output_type": "stream",
          "text": [
            "\n"
          ]
        },
        {
          "data": {
            "text/markdown": [
              "<span style='color:None;font-size:None'>**Orbe Elemental _(Chromatic Orb)_** lvl 1<br></span><span style='color:None;font-size:13px'>&emsp;**Escola(s):** elemental (_água, terra, fogo, ar, luz, sombras, relâmpago, metal, veneno_)<br>&emsp;**Tempo conjuração:** 1 ação<br>&emsp;**Alcance:** 27 metros<br>&emsp;**Componentes:** VS<br>&emsp;**Mana:** 400<br>&emsp;**Duração:** instantânea<br>&emsp;**Dano**: 3d8<br>&emsp;**Attack/Save:** distância<br>&emsp;**Dmg/effect:** elemental<br></span><span style='color:None;font-size:None'>Você arremessa uma esfera de energia elemental de 12 centímetros de diâmetro numa criatura que você possa ver dentro do alcance. Você realiza um ataque à distância com magia. Se o ataque atingir, a criatura sofre 3d8 de dano elemental.<br>&emsp;**Melhorar Magia.** Para cada 500 de mana adicional gasto, você pode adicionar 1d8 no dano até um máximo de 5d8 extras.<br></span><span style='color:gray;font-size:11px'>[dano, distância]<br></span><span style='color:gray;font-size:11px'>[bardo, bruxo, feiticeiro, mago]<br></span><span style='color:gray;font-size:10px'>_LDJ_</span>"
            ],
            "text/plain": [
              "<IPython.core.display.Markdown object>"
            ]
          },
          "metadata": {},
          "output_type": "display_data"
        },
        {
          "name": "stdout",
          "output_type": "stream",
          "text": [
            "\n"
          ]
        },
        {
          "data": {
            "text/markdown": [
              "<span style='color:None;font-size:None'>**Palavra Curativa _(Healing Word)_** lvl 1<br></span><span style='color:None;font-size:13px'>&emsp;**Escola(s):** elemental, musical (_água, luz_)<br>&emsp;**Tempo conjuração:** 1 ação bônus<br>&emsp;**Alcance:** 18 metros<br>&emsp;**Componentes:** V<br>&emsp;**Mana:** 250<br>&emsp;**Duração:** instantânea<br>&emsp;**Dano**: 1d4 + mod<br>&emsp;**Dmg/effect:** cura<br></span><span style='color:None;font-size:None'>Uma criatura, à sua escolha, que você possa ver dentro do alcance recupera uma quantidade de pontos de vida igual a 1d4 + seu modificador de habilidade de conjuração. Essa magia não tem efeito em mortos-vivos ou constructos.<br>&emsp;**Melhorar Magia**. Para cada 500 de mana adicionais, você pode adicionar 1d4 na cura total. Para cada 500 de mana adicional, você pode escolher uma criatura a mais para ser curada. O valor rolado é o total de cura, você determina como essa cura é distribuída entre as criaturas curadas.<br></span><span style='color:gray;font-size:11px'>[cura]<br></span><span style='color:gray;font-size:11px'>[bardo, bruxo, clérigo, feiticeiro, guerreiro, ladino, mago, monge, paladino]<br></span><span style='color:gray;font-size:10px'>_LDJ_</span>"
            ],
            "text/plain": [
              "<IPython.core.display.Markdown object>"
            ]
          },
          "metadata": {},
          "output_type": "display_data"
        },
        {
          "name": "stdout",
          "output_type": "stream",
          "text": [
            "\n"
          ]
        },
        {
          "data": {
            "text/markdown": [
              "<span style='color:None;font-size:None'>**Passos Longos _(Longstrider)_** lvl 1<br></span><span style='color:None;font-size:13px'>&emsp;**Escola(s):** elemental (_ar, luz_)<br>&emsp;**Tempo conjuração:** 1 ação<br>&emsp;**Alcance:** toque<br>&emsp;**Componentes:** VSM _(um pouco de barro)_<br>&emsp;**Mana:** 200<br>&emsp;**Duração:** 1 hora<br></span><span style='color:None;font-size:None'>Você toca uma criatura. O deslocamento da criatura aumenta em 3 metros até a magia acabar.<br>&emsp;**Melhorar Magia**. Você pode gastar mais 500 de mana para aumentar em mais 3 metros e, depois, gastar mais 1500 para aumentar em mais 3 metros, totalizando 9 metros adicionais.<br></span><span style='color:gray;font-size:11px'>[buff, toque]<br></span><span style='color:gray;font-size:11px'>[bruxo, feiticeiro, ladino, mago, monge]<br></span><span style='color:gray;font-size:10px'>_LDJ_</span>"
            ],
            "text/plain": [
              "<IPython.core.display.Markdown object>"
            ]
          },
          "metadata": {},
          "output_type": "display_data"
        },
        {
          "name": "stdout",
          "output_type": "stream",
          "text": [
            "\n"
          ]
        },
        {
          "data": {
            "text/markdown": [
              "<span style='color:None;font-size:None'>**Perdição _(Bane)_** lvl 1<br></span><span style='color:None;font-size:13px'>&emsp;**Escola(s):** musical<br>&emsp;**Tempo conjuração:** 1 ação<br>&emsp;**Alcance:** 9 metros<br>&emsp;**Componentes:** VSM _(uma gota de sangue)_<br>&emsp;**Mana:** 350 (_+ 75 por turno_)<br>&emsp;**Duração:** concentração, até 1 minuto<br>&emsp;**Attack/Save:** CHA Save<br></span><span style='color:None;font-size:None'>Até três criaturas, à sua escolha, que você possa ver dentro do alcance, devem realizar um teste de resistência de Carisma. Sempre que um alvo que falhou nessa resistência realizar uma jogada de ataque ou um teste de resistência antes da magia acabar, o alvo deve rolar 1d4 e subtrair o valor rolado da jogada de ataque ou teste de resistência.<br>&emsp;**Melhorar Magia:** Para cada 500 de mana adicional gasto, mais uma criatura é afetada até um máximo de 5. Você pode gastar mais 500 para cada criatura criatura afetada para transformar o d4 em d6.<br></span><span style='color:gray;font-size:11px'>[debuff]<br></span><span style='color:gray;font-size:11px'>[bardo, bruxo, clérigo, feiticeiro, mago, paladino]<br></span><span style='color:gray;font-size:10px'>_LDJ_</span>"
            ],
            "text/plain": [
              "<IPython.core.display.Markdown object>"
            ]
          },
          "metadata": {},
          "output_type": "display_data"
        },
        {
          "name": "stdout",
          "output_type": "stream",
          "text": [
            "\n"
          ]
        },
        {
          "data": {
            "text/markdown": [
              "<span style='color:None;font-size:None'>**Proteção contra o Bem e Mal _(Protection from Evil and Good)_** lvl 1<br></span><span style='color:None;font-size:13px'>&emsp;**Escola(s):** elemental (_água, terra, luz, veneno_)<br>&emsp;**Tempo conjuração:** 1 ação<br>&emsp;**Alcance:** toque<br>&emsp;**Componentes:** VSM _(água benta ou pó de prata e ferro, consumidos pela magia)_<br>&emsp;**Mana:** 350 (_+ 10 de mana por minuto_)<br>&emsp;**Duração:** concentração, até 10 minutos<br></span><span style='color:None;font-size:None'>Até a magia acabar, uma criatura voluntária que você tocar estará protegida contra certos tipos de criaturas: aberrações, celestiais, corruptores, elementais, fadas e mortos-vivos.<br>&emsp;A proteção garante diversos benefícios. As criaturas desse tipo tem desvantagem nas jogadas de ataque contra o alvo. O alvo não pode ser enfeitiçado, amedrontado ou possuído por elas. Se o alvo já estiver enfeitiçado, amedrontado ou possuído por uma dessas criaturas, o alvo terá vantagem em qualquer novo teste de resistência contra o efeito relevante.<br></span><span style='color:gray;font-size:11px'>[buff, debuff, defesa, toque]<br></span><span style='color:gray;font-size:11px'>[bardo, bruxo, clérigo, feiticeiro, guerreiro, ladino, mago, monge, paladino]<br></span><span style='color:gray;font-size:10px'>_LDJ_</span>"
            ],
            "text/plain": [
              "<IPython.core.display.Markdown object>"
            ]
          },
          "metadata": {},
          "output_type": "display_data"
        },
        {
          "name": "stdout",
          "output_type": "stream",
          "text": [
            "\n"
          ]
        },
        {
          "data": {
            "text/markdown": [
              "<span style='color:None;font-size:None'>**Purificar Alimentos _(Purify Food and Drink)_** lvl 1 - ritual<br></span><span style='color:None;font-size:13px'>&emsp;**Escola(s):** elemental (_água, terra, luz, veneno_)<br>&emsp;**Tempo conjuração:** 1 ação<br>&emsp;**Alcance:** 3 metros<br>&emsp;**Componentes:** VS<br>&emsp;**Mana:** 300<br>&emsp;**Duração:** instantânea<br></span><span style='color:None;font-size:None'>Toda comida e bebida não-mágica dentro de uma esfera de 1,5 metro de raio centrada num ponto, à sua escolha, dentro do alcance é purificada e se livrada de venenos ou doenças.<br></span><span style='color:gray;font-size:11px'>[defesa, utilidade]<br></span><span style='color:gray;font-size:11px'>[bardo, bruxo, clérigo, feiticeiro, guerreiro, ladino, mago, monge, paladino]<br></span><span style='color:gray;font-size:10px'>_LDJ_</span>"
            ],
            "text/plain": [
              "<IPython.core.display.Markdown object>"
            ]
          },
          "metadata": {},
          "output_type": "display_data"
        },
        {
          "name": "stdout",
          "output_type": "stream",
          "text": [
            "\n"
          ]
        },
        {
          "data": {
            "text/markdown": [
              "<span style='color:None;font-size:None'>**Pés Leves (Recuo Acelerado) _(Expeditious Retreat)_** lvl 1<br></span><span style='color:None;font-size:13px'>&emsp;**Escola(s):** elemental (_ar, luz, relâmpago_)<br>&emsp;**Tempo conjuração:** 1 ação bônus<br>&emsp;**Alcance:** pessoal<br>&emsp;**Componentes:** VS<br>&emsp;**Mana:** 250 (_+ 10 por minuto_)<br>&emsp;**Duração:** concentração, até 10 minutos<br></span><span style='color:None;font-size:None'>Essa magia permite que você se mova a um ritmo incrível. Quando você a conjura, a partir de então, você pode, com uma ação bônus em cada um de seus turnos até a magia terminar, realizar a ação de Disparada.<br></span><span style='color:gray;font-size:11px'>[buff]<br></span><span style='color:gray;font-size:11px'>[clérigo, guerreiro, ladino, monge, paladino]<br></span><span style='color:gray;font-size:10px'>_LDJ_</span>"
            ],
            "text/plain": [
              "<IPython.core.display.Markdown object>"
            ]
          },
          "metadata": {},
          "output_type": "display_data"
        },
        {
          "name": "stdout",
          "output_type": "stream",
          "text": [
            "\n"
          ]
        },
        {
          "data": {
            "text/markdown": [
              "<span style='color:None;font-size:None'>**Queda Suave _(Feather Fall)_** lvl 1<br></span><span style='color:None;font-size:13px'>&emsp;**Escola(s):** elemental (_ar, luz_)<br>&emsp;**Tempo conjuração:** 1 reação<br>&emsp;**Alcance:** 18 metros<br>&emsp;**Componentes:** VM _(uma pequena pena ou penugem similar)_<br>&emsp;**Mana:** 200<br>&emsp;**Duração:** 1 minuto<br></span><span style='color:None;font-size:None'>Escolha até cinco criaturas caindo, dentro do alcance. A taxa de descendência de uma criatura caindo é reduzida para 18 metros por rodada, até o fim da magia. Se a criatura aterrissar antes da magia acabar, ela não sofre nenhum dano de queda, pode aterrissar em pé e a magia termina para essa criatura.<br></span><span style='color:gray;font-size:11px'>[exploração, utilidade]<br></span><span style='color:gray;font-size:11px'>[bardo, bruxo, clérigo, feiticeiro, guerreiro, ladino, mago, monge, paladino]<br></span><span style='color:gray;font-size:10px'>_LDJ_</span>"
            ],
            "text/plain": [
              "<IPython.core.display.Markdown object>"
            ]
          },
          "metadata": {},
          "output_type": "display_data"
        },
        {
          "name": "stdout",
          "output_type": "stream",
          "text": [
            "\n"
          ]
        },
        {
          "data": {
            "text/markdown": [
              "<span style='color:None;font-size:None'>**Raio Guiador _(Guiding Boat)_** lvl 1<br></span><span style='color:None;font-size:13px'>&emsp;**Escola(s):** elemental (_luz, sombras, relâmpago_)<br>&emsp;**Tempo conjuração:** 1 ação<br>&emsp;**Alcance:** 36 metros<br>&emsp;**Componentes:** VS<br>&emsp;**Mana:** 550<br>&emsp;**Duração:** 1 rodada<br>&emsp;**Dano**: 4d6<br>&emsp;**Dmg/effect:** elemental<br></span><span style='color:None;font-size:None'>Um lampejo de luz se lança em direção de uma criatura, à sua escolha, dentro do alcance. Realize um ataque à distância com magia contra o alvo. Se atingir, o alvo sofre 4d6 de dano radiante e, a próxima jogada de ataque contra esse alvo, antes do final do seu próximo turno, terá vantagem, graças a penumbra mística cintilando no alvo, até então.<br>&emsp;**Melhorar Magia.** Para cada 600 de mana adicionais gastos, você pode adicionar 2d6 ao dano até um máximo de 6d6 adicionais. Você pode gastar mais mana para reforçar a penumbra mística e adicionais mais uma jogada de ataque a cada 300 de mana adicionais gastos, até um máximo de 3000 de mana.<br></span><span style='color:gray;font-size:11px'>[buff, dano, distância]<br></span><span style='color:gray;font-size:11px'>[bardo, bruxo, clérigo, feiticeiro, guerreiro, ladino, mago, monge, paladino]<br></span><span style='color:gray;font-size:10px'>_LDJ_</span>"
            ],
            "text/plain": [
              "<IPython.core.display.Markdown object>"
            ]
          },
          "metadata": {},
          "output_type": "display_data"
        },
        {
          "name": "stdout",
          "output_type": "stream",
          "text": [
            "\n"
          ]
        },
        {
          "data": {
            "text/markdown": [
              "<span style='color:None;font-size:None'>**Raio da Doença _(Ray of Sickness)_** lvl 1<br></span><span style='color:None;font-size:13px'>&emsp;**Escola(s):** elemental, necromancia (_sombras, metal, veneno_)<br>&emsp;**Tempo conjuração:** 1 ação<br>&emsp;**Alcance:** 18 metros<br>&emsp;**Componentes:** VS<br>&emsp;**Mana:** 400<br>&emsp;**Duração:** instantânea<br>&emsp;**Dano**: 2d8<br>&emsp;**Attack/Save:** CON Save<br>&emsp;**Dmg/effect:** veneno<br></span><span style='color:None;font-size:None'>Um raio adoecente de energia esverdeada chicoteia na direção de uma criatura dentro do alcance. Faça um ataque à distância com magia contra o alvo. Se atingir, o alvo sofrerá 2d8 de dano de veneno e deve realizar um teste de resistência de Constituição. Se falhar na resistência, ele também ficará envenenado até o final do seu próximo turno.<br>&emsp;Alternativamente, você pode escolher fazer um ataque corpo-a-corpo com arma, mas o dano será o mesmo e 2d8.<br>&emsp;**Melhorar Magia**. Para cada 550 de mana adicionais gastos, adicione 1d8 até um máximo de 5d8.<br></span><span style='color:gray;font-size:11px'>[arma, corpo-a-corpo, dano, debuff, distância]<br></span><span style='color:gray;font-size:11px'>[bardo, bruxo, clérigo, feiticeiro, guerreiro, ladino, mago, monge, paladino]<br></span><span style='color:gray;font-size:10px'>_LDJ_</span>"
            ],
            "text/plain": [
              "<IPython.core.display.Markdown object>"
            ]
          },
          "metadata": {},
          "output_type": "display_data"
        },
        {
          "name": "stdout",
          "output_type": "stream",
          "text": [
            "\n"
          ]
        },
        {
          "data": {
            "text/markdown": [
              "<span style='color:None;font-size:None'>**Raio de Bruxa _(Witch Bolt)_** lvl 1<br></span><span style='color:None;font-size:13px'>&emsp;**Escola(s):** elemental (_sombras, relâmpago_)<br>&emsp;**Tempo conjuração:** 1 ação<br>&emsp;**Alcance:** 9 metros<br>&emsp;**Componentes:** VSM _(um galho de uma árvore que tenha sido atingida por um relâmpago)_<br>&emsp;**Mana:** 500 (_+ 20 por turno_)<br>&emsp;**Duração:** concentração, até 1 minuto<br>&emsp;**Dano**: 1d12<br>&emsp;**Attack/Save:** distância<br>&emsp;**Dmg/effect:** elemental<br></span><span style='color:None;font-size:None'>Um raio crepitante de energia elemental é arremessado em uma criatura dentro do alcance, formando um arco elétrico contínuo entre você e o alvo. Faça um ataque à distância com magia contra a criatura. Se atingir, o alvo sofrerá 1d12 de dano elemental e, em cada um dos seus turnos, pela duração, você pode usar sua ação para causar 1d12 de dano elétrico ao alvo, automaticamente. A magia acaba se você usar sua ação para fazer qualquer outra coisa. A magia também acaba se o alvo estiver fora do alcance da magia ou se você tiver cobertura total para ele.<br>&emsp;**Melhorar Magia**. Você pode gastar mais 600 de mana e mais 20 por turno para adicionar 1d12 ao dano, até um máximo de 3d12 adicionais.<br></span><span style='color:gray;font-size:11px'>[dano]<br></span><span style='color:gray;font-size:11px'>[bardo, bruxo, clérigo, feiticeiro, mago, monge, paladino]<br></span><span style='color:gray;font-size:10px'>_LDJ_</span>"
            ],
            "text/plain": [
              "<IPython.core.display.Markdown object>"
            ]
          },
          "metadata": {},
          "output_type": "display_data"
        },
        {
          "name": "stdout",
          "output_type": "stream",
          "text": [
            "\n"
          ]
        },
        {
          "data": {
            "text/markdown": [
              "<span style='color:None;font-size:None'>**Raio de Caos _(Chaos Boat)_** lvl 1<br></span><span style='color:None;font-size:13px'>&emsp;**Escola(s):** elemental (_água, terra, fogo, ar, luz, sombras, relâmpago, metal, veneno_)<br>&emsp;**Tempo conjuração:** 1 ação<br>&emsp;**Alcance:** 36 metros<br>&emsp;**Componentes:** VS<br>&emsp;**Mana:** 600<br>&emsp;**Duração:** instantânea<br>&emsp;**Dano**: 2d8 + 1d6<br>&emsp;**Attack/Save:** distância<br>&emsp;**Dmg/effect:** elemental<br></span><span style='color:None;font-size:None'>Você conjura uma massa ondulante de energia caótica elemental em uma criatura no alcance. Faça um ataque à distância com magia contra o alvo. Se atingir, o alvo leva 2d8 + 1d6 de dano elemental.<br>&emsp;Se os dois d8 rolados possuírem o mesmo valor, então a energia caótica salta para um alvo dentro de 9 metros de distância a sua escolha. Faça uma nova rolagem de ataque à distância contra o novo e role novamente o dano, fazendo com que a magia possa novamente saltar para outro alvo.<br>&emsp;Alternativamente, você pode utilizar uma arma corpo-a-corpo para fazer o ataque. Sua arma se enche dessa energia caótica e o efeito é o mesmo, mas a diferença é que o alvo inicial sofre 2d8 + o dano que sua arma possui naturalmente.<br>&emsp;**Melhorar Magia.** Para cada 500 adicionais de mana gasto, o dano da magia aumenta em 1d6, com um limite de 5d6 extras.<br></span><span style='color:gray;font-size:11px'>[arma, corpo-a-corpo, dano]<br></span><span style='color:gray;font-size:11px'>[bardo, bruxo, clérigo, feiticeiro, guerreiro, ladino, mago, monge, paladino]<br></span><span style='color:gray;font-size:10px'>_Xanathar_</span>"
            ],
            "text/plain": [
              "<IPython.core.display.Markdown object>"
            ]
          },
          "metadata": {},
          "output_type": "display_data"
        },
        {
          "name": "stdout",
          "output_type": "stream",
          "text": [
            "\n"
          ]
        },
        {
          "data": {
            "text/markdown": [
              "<span style='color:None;font-size:None'>**Repreensão Infernal _(Hellish Rebuke)_** lvl 1<br></span><span style='color:None;font-size:13px'>&emsp;**Escola(s):** elemental (_fogo, sombras, relâmpago, veneno_)<br>&emsp;**Tempo conjuração:** 1 reação<br>&emsp;**Alcance:** 18 metros<br>&emsp;**Componentes:** VS<br>&emsp;**Mana:** 350<br>&emsp;**Duração:** instantânea<br>&emsp;**Dano**: 2d10<br>&emsp;**Attack/Save:** DEX Save<br>&emsp;**Dmg/effect:** elemental<br></span><span style='color:None;font-size:None'>Você aponta seu dedo e a criatura que causou dano a você é, momentaneamente, envolta por chamas infernais. A criatura deve realizar um teste de resistência de Destreza. Ela sofre 2d10 de dano elemental se falhar na resistência ou metade desse dano se obtiver sucesso.<br>&emsp;**Melhorar Magia**. Para cada 600 adicionais de mana gastos, você pode adicionar 1d10 no dano.<br></span><span style='color:gray;font-size:11px'>[dano]<br></span><span style='color:gray;font-size:11px'>[bardo, bruxo, clérigo, feiticeiro, mago, monge, paladino]<br></span><span style='color:gray;font-size:10px'>_LDJ_</span>"
            ],
            "text/plain": [
              "<IPython.core.display.Markdown object>"
            ]
          },
          "metadata": {},
          "output_type": "display_data"
        },
        {
          "name": "stdout",
          "output_type": "stream",
          "text": [
            "\n"
          ]
        },
        {
          "data": {
            "text/markdown": [
              "<span style='color:None;font-size:None'>**Riso Histérico (de Tasha) _(Hideous Laughter)_** lvl 1<br></span><span style='color:None;font-size:13px'>&emsp;**Escola(s):** musical<br>&emsp;**Tempo conjuração:** 1 ação<br>&emsp;**Alcance:** 9 metros<br>&emsp;**Componentes:** VSM _(pequenas tortas e uma pena que é balançada no ar)_<br>&emsp;**Mana:** 300 (_+ 10 por turno_)<br>&emsp;**Duração:** concentração, até 1 minuto<br>&emsp;**Attack/Save:** WIS Save<br>&emsp;**Dmg/effect:** incapacitado<br></span><span style='color:None;font-size:None'>Uma criatura, à sua escolha, que você possa ver, dentro do alcance, acha tudo hilariantemente engraçado e cai na gargalhada, se essa magia afeta-la. O alvo deve ser bem sucedido em um teste de resistência de Sabedoria ou cairá no chão, ficando incapacitado e incapaz de se levantar pela duração. Uma criatura com valor de Inteligência 4 ou inferior não é afetada.<br>&emsp;Ao final de cada um dos turnos dela e toda vez que sofrer dano o alvo pode realizar outro teste de resistência de Sabedoria. O alvo terá vantagem no teste de resistência se ele for garantido por ele ter sofrido dano. Se obtiver sucesso, a magia acaba.<br></span><span style='color:gray;font-size:11px'>[controle, debuff]<br></span><span style='color:gray;font-size:11px'>[bardo, mago, monge]<br></span><span style='color:gray;font-size:10px'>_LDJ_</span>"
            ],
            "text/plain": [
              "<IPython.core.display.Markdown object>"
            ]
          },
          "metadata": {},
          "output_type": "display_data"
        },
        {
          "name": "stdout",
          "output_type": "stream",
          "text": [
            "\n"
          ]
        },
        {
          "data": {
            "text/markdown": [
              "<span style='color:None;font-size:None'>**Salto _(Jump)_** lvl 1<br></span><span style='color:None;font-size:13px'>&emsp;**Escola(s):** elemental (_água, terra, ar, luz, relâmpago, metal_)<br>&emsp;**Tempo conjuração:** 1 ação<br>&emsp;**Alcance:** toque<br>&emsp;**Componentes:** VSM _(uma perna de gafanhoto)_<br>&emsp;**Mana:** 200<br>&emsp;**Duração:** 1 minuto<br></span><span style='color:None;font-size:None'>Você toca uma criatura. A distância de salto da criatura é triplicada até a magia acabar.<br></span><span style='color:gray;font-size:11px'>[buff, toque]<br></span><span style='color:gray;font-size:11px'>[bruxo, feiticeiro, ladino, mago, monge]<br></span><span style='color:gray;font-size:10px'>_LDJ_</span>"
            ],
            "text/plain": [
              "<IPython.core.display.Markdown object>"
            ]
          },
          "metadata": {},
          "output_type": "display_data"
        },
        {
          "name": "stdout",
          "output_type": "stream",
          "text": [
            "\n"
          ]
        },
        {
          "data": {
            "text/markdown": [
              "<span style='color:None;font-size:None'>**Santuário _(Santuary)_** lvl 1<br></span><span style='color:None;font-size:13px'>&emsp;**Escola(s):** psíquica<br>&emsp;**Tempo conjuração:** 1 ação bônus<br>&emsp;**Alcance:** 9 metros<br>&emsp;**Componentes:** VSM _(um pequeno espelho de prata)_<br>&emsp;**Mana:** 300<br>&emsp;**Duração:** 1 minuto<br>&emsp;**Attack/Save:** WIS Save<br></span><span style='color:None;font-size:None'>Você protege uma criatura, dentro do alcance, contra ataques. Até a magia acabar, qualquer criatura que tentar atacar ou usar magias que causem dano contra criatura protegida deve, primeiro, realizar um teste de resistência de Sabedoria. Se falhar na resistência, a criatura deve escolher um novo alvo ou perderá o ataque ou magia. Essa magia não protege a criatura contra efeitos de área, como a explosão de uma bola de fogo.<br>&emsp;Se a criatura protegida realizar um ataque ou conjurar uma magia que afete uma criatura inimiga, essa magia acaba.<br></span><span style='color:gray;font-size:11px'>[buff, defesa]<br></span><span style='color:gray;font-size:11px'>[bardo, bruxo, clérigo, feiticeiro, mago, monge, paladino]<br></span><span style='color:gray;font-size:10px'>_LDJ_</span>"
            ],
            "text/plain": [
              "<IPython.core.display.Markdown object>"
            ]
          },
          "metadata": {},
          "output_type": "display_data"
        },
        {
          "name": "stdout",
          "output_type": "stream",
          "text": [
            "\n"
          ]
        },
        {
          "data": {
            "text/markdown": [
              "<span style='color:None;font-size:None'>**Servo Invisível _(Unseen Servant)_** lvl 1 - ritual<br></span><span style='color:None;font-size:13px'>&emsp;**Escola(s):** invocação<br>&emsp;**Tempo conjuração:** 1 ação<br>&emsp;**Alcance:** 18 metros<br>&emsp;**Componentes:** VSM _(um pedaço de barbante e um pouco de madeira)_<br>&emsp;**Mana:** 200<br>&emsp;**Duração:** 1 hora<br></span><span style='color:None;font-size:None'>Essa magia cria uma força invisível, sem mente e sem forma que realiza tarefas simples, ao seu comando, até a magia acabar. O servo aparece do nada em um espaço desocupado no chão, dentro do alcance. Ele tem CA 10, 1 ponto de vida, Força 2 e não pode atacar. Se ele cair a 0 pontos de vida, a magia acaba.<br>&emsp;Uma vez em cada um dos seus turnos, com uma ação bônus, você pode comandar, mentalmente, o servo para se mover até 4,5 metros e interagir com um objeto. O servo pode realizar tarefas simples que um serviçal humano faria, como buscar coisas, limpar, consertar, dobrar roupas, acender chamas, servir comida ou derramar vinho. Uma vez que um comando seja dado, o servo realiza a tarefa da melhor forma possível, até completar a tarefa, então esperará o seu próximo comando.<br>&emsp;Se você comandar o servo a realizar uma tarefa que poderia afasta-lo a mais de 18 metros de você, a magia termina.<br></span><span style='color:gray;font-size:11px'>[exploração, utilidade]<br></span><span style='color:gray;font-size:11px'>[bardo, bruxo, clérigo, feiticeiro, guerreiro, ladino, mago, monge, paladino]<br></span><span style='color:gray;font-size:10px'>_LDJ_</span>"
            ],
            "text/plain": [
              "<IPython.core.display.Markdown object>"
            ]
          },
          "metadata": {},
          "output_type": "display_data"
        },
        {
          "name": "stdout",
          "output_type": "stream",
          "text": [
            "\n"
          ]
        },
        {
          "data": {
            "text/markdown": [
              "<span style='color:None;font-size:None'>**Sono _(Sleep)_** lvl 1<br></span><span style='color:None;font-size:13px'>&emsp;**Escola(s):** elemental, musical (_veneno_)<br>&emsp;**Tempo conjuração:** 1 ação<br>&emsp;**Alcance:** 36 metros<br>&emsp;**Componentes:** VSM _(um punhado de areia fina, pétalas de rosa ou um grilo)_<br>&emsp;**Mana:** 300<br>&emsp;**Duração:** 1 minuto<br>&emsp;**Attack/Save:** DEX Save<br>&emsp;**Dmg/effect:** inconsciente<br></span><span style='color:None;font-size:None'>Essa magia coloca as criaturas num entorpecimento mágico. Jogue 5d8, o total é a quantidade de pontos de vida de criaturas afetados pela magia. As criaturas numa área de 6 metros de raio, centrada no ponto escolhido, dentro do alcance, são afetadas em ordem ascendente dos pontos de vida atuais delas (ignorando criaturas inconscientes).<br>&emsp;Começando com as criaturas com menos pontos de vida atuais, cada criatura afetada por essa magia cai inconsciente até a magia acabar, sofrer dano ou alguém usar sua ação para sacudi-la ou esbofeteá-la até acordar.<br>&emsp;Subtraia os pontos de vida de cada criatura do total antes de seguir para a próxima criatura com menos pontos de vida atuais. Os pontos de vida atuais da criatura devem ser iguais ou menores que o valor restante para que a criatura possa ser afetada.<br>&emsp;Mortos-vivos e criaturas imunes a serem enfeitiçadas não são afetadas por essa magia.<br>&emsp;**Melhorar Magia**. Para cada 500 de mana adicionais, adicione mais 2d8 até um máximo de 10d8 adicionais.<br></span><span style='color:gray;font-size:11px'>[debuff]<br></span><span style='color:gray;font-size:11px'>[bardo, bruxo, clérigo, feiticeiro, guerreiro, ladino, mago, monge, paladino]<br></span><span style='color:gray;font-size:10px'>_LDJ_</span>"
            ],
            "text/plain": [
              "<IPython.core.display.Markdown object>"
            ]
          },
          "metadata": {},
          "output_type": "display_data"
        },
        {
          "name": "stdout",
          "output_type": "stream",
          "text": [
            "\n"
          ]
        },
        {
          "data": {
            "text/markdown": [
              "<span style='color:None;font-size:None'>**Sussorros Dissonantes _(Dissonant Whispers)_** lvl 1<br></span><span style='color:None;font-size:13px'>&emsp;**Escola(s):** musical<br>&emsp;**Tempo conjuração:** 1 ação<br>&emsp;**Alcance:** 18 metros<br>&emsp;**Componentes:** V<br>&emsp;**Mana:** 350<br>&emsp;**Duração:** instantânea<br>&emsp;**Dano**: 3d6<br>&emsp;**Attack/Save:** WIS Save<br>&emsp;**Dmg/effect:** psíquico<br></span><span style='color:None;font-size:None'>Você sussurra uma melodia dissonante que apenas uma criatura, à sua escolha, dentro do alcance pode ouvir, causando-lhe uma terrível dor. O alvo deve realizar um teste de resistência de Sabedoria. Se falhar na resistência, ele sofrerá 3d6 de dano psíquico e deve, imediatamente, usar sua reação, se disponível, para se mover para o mais longe possível de você. A criatura não se moverá para um terreno obviamente perigoso, como uma fogueira ou abismo. Se obtiver sucesso na resistência, o alvo sofre metade do dano e não precisa se afastar de você. Uma criatura surda obtém sucesso automaticamente na sua resistência.<br>&emsp;**Melhorar Magia**. Você pode adicionar mais uma criatura, à sua escolha, dentro do alcance para cada 500 de mana até um máximo de 5 criaturas adicionais. Além disso, você pode adicionar mais 1d6 de dano para cada 500 de mana adicionais até um máximo de 5d6.<br></span><span style='color:gray;font-size:11px'>[controle, dano]<br></span><span style='color:gray;font-size:11px'>[bardo, bruxo, clérigo, feiticeiro, guerreiro, ladino, mago, monge, paladino]<br></span><span style='color:gray;font-size:10px'>_LDJ_</span>"
            ],
            "text/plain": [
              "<IPython.core.display.Markdown object>"
            ]
          },
          "metadata": {},
          "output_type": "display_data"
        },
        {
          "name": "stdout",
          "output_type": "stream",
          "text": [
            "\n"
          ]
        },
        {
          "data": {
            "text/markdown": [
              "<span style='color:None;font-size:None'>**Tremor de Terra _(Earth Tremor)_** lvl 1<br></span><span style='color:None;font-size:13px'>&emsp;**Escola(s):** elemental (_terra, relâmpago_)<br>&emsp;**Tempo conjuração:** 1 ação<br>&emsp;**Alcance:** 3 metros<br>&emsp;**Componentes:** VS<br>&emsp;**Mana:** 350<br>&emsp;**Duração:** instantânea<br>&emsp;**Dano**: 1d6<br>&emsp;**Attack/Save:** DEX Save<br>&emsp;**Dmg/effect:** concussão<br></span><span style='color:None;font-size:None'>Você causa um tremor no solo dentro do alcance. Toda criatura além de você deve fazer um Teste de Resistência de Destreza. Se falhar, a criatura recebe 1d6 de dano de concussão e cai no chão. Se o terreno for de terra solta ou pedra, ele se torna terreno difícil.<br>&emsp;**Melhorar Magia.** Você pode adicionar mais 500 de mana para adicionar mais 1d6 de dano até um máximo de 5d6 adicionais. Você pode adicionar mais 600 de mana para aumentar o alcance da magia em 1,5m até um máximo de 4,5m adicionais.<br></span><span style='color:gray;font-size:11px'>[controle, dano]<br></span><span style='color:gray;font-size:11px'>[bardo, bruxo, clérigo, feiticeiro, guerreiro, ladino, mago, monge, paladino]<br></span><span style='color:gray;font-size:10px'>_Custom_</span>"
            ],
            "text/plain": [
              "<IPython.core.display.Markdown object>"
            ]
          },
          "metadata": {},
          "output_type": "display_data"
        },
        {
          "name": "stdout",
          "output_type": "stream",
          "text": [
            "\n"
          ]
        },
        {
          "data": {
            "text/markdown": [
              "<span style='color:None;font-size:None'>**Vínculo com a Besta _(Beast Bond)_** lvl 1<br></span><span style='color:None;font-size:13px'>&emsp;**Escola(s):** psíquica<br>&emsp;**Tempo conjuração:** 1 ação<br>&emsp;**Alcance:** toque<br>&emsp;**Componentes:** VSM _(um tufo de pelos envolto por um pano)_<br>&emsp;**Mana:** 150 (_+ 10 por minuto_)<br>&emsp;**Duração:** concentração, até 10 minutos<br></span><span style='color:None;font-size:None'>Você estabelece um elo telepático com uma besta que você tocar que seja amigável a você ou que esteja enfeitiçada por você. A magia falha se o valor de Inteligência da besta for 4 ou maior. Até a magia acabar, o elo permanece ativo contato que você e a besta tenham linha de visão um do outro. Através do elo, a besta pode compreender suas mensagens telepáticas para ela e pode comunicar telepaticamente emoções e conceitos simples de volta para você.<br>&emsp;Enquanto o elo estiver ativo, a besta ganha vantagem nas jogadas de ataque contra qualquer criatura a até 1,5 metros de você que você possa ver.<br></span><span style='color:gray;font-size:11px'>[buff, comunicação, toque]<br></span><span style='color:gray;font-size:11px'>[bardo, bruxo, clérigo, feiticeiro, guerreiro, ladino, mago, monge, paladino]<br></span><span style='color:gray;font-size:10px'>_Xanathar_</span>"
            ],
            "text/plain": [
              "<IPython.core.display.Markdown object>"
            ]
          },
          "metadata": {},
          "output_type": "display_data"
        },
        {
          "name": "stdout",
          "output_type": "stream",
          "text": [
            "\n"
          ]
        },
        {
          "data": {
            "text/markdown": [
              "<span style='color:None;font-size:None'>**Área Escorregadia _(Grease)_** lvl 1<br></span><span style='color:None;font-size:13px'>&emsp;**Escola(s):** elemental (_terra_)<br>&emsp;**Tempo conjuração:** 1 ação<br>&emsp;**Alcance:** 18 metros<br>&emsp;**Componentes:** VSM _(um pouco de pele de porco ou manteiga)_<br>&emsp;**Mana:** 350<br>&emsp;**Duração:** 1 minuto<br>&emsp;**Attack/Save:** DEX Save<br>&emsp;**Dmg/effect:** caído<br></span><span style='color:None;font-size:None'>Se o terreno for de pedra, você transforma essa pedra em uma pedra extremamente polida em um quadrado de 3 metros centrado em um ponto, dentro do alcance, tornando essa área terreno difícil pela duração.<br>&emsp;Quando a pedra fica polida, cada criatura de pé na área deve ser bem sucedida num teste de resistência de Destreza ou cairá no chão. Uma criatura que entre na área ou termine seu turno nela também deve passar um teste de resistência de Destreza ou cairá no chão.<br></span><span style='color:gray;font-size:11px'>[controle]<br></span><span style='color:gray;font-size:11px'>[bardo, bruxo, clérigo, feiticeiro, guerreiro, ladino, mago, monge, paladino]<br></span><span style='color:gray;font-size:10px'>_LDJ_</span>"
            ],
            "text/plain": [
              "<IPython.core.display.Markdown object>"
            ]
          },
          "metadata": {},
          "output_type": "display_data"
        },
        {
          "name": "stdout",
          "output_type": "stream",
          "text": [
            "\n"
          ]
        },
        {
          "data": {
            "text/markdown": [
              "<span style='color:None;font-size:None'>**Acalmar Emoções _(Calm Emotions)_** lvl 2<br></span><span style='color:None;font-size:13px'>&emsp;**Escola(s):** elemental, musical, psíquica (_água, terra, luz_)<br>&emsp;**Tempo conjuração:** 1 ação<br>&emsp;**Alcance:** 18 metros<br>&emsp;**Componentes:** VS<br>&emsp;**Mana:** 650 (_+ 10 de mana por turno_)<br>&emsp;**Duração:** concentração, até 1 minuto<br>&emsp;**Attack/Save:** CHA Save<br></span><span style='color:None;font-size:None'>Você tenta suprimir emoções fortes em um grupo de pessoas. Cada humanoide em uma esfera de 6 metros de raio, centrada em um ponto que você escolher dentro do alcance, deve realizar um teste de resistência de Carisma; uma criatura pode escolher falhar nesse teste, se desejar.  Se uma criatura falhar na resistência, escolha um dentre os dois efeitos a seguir.<br>&emsp;Você pode suprimir qualquer efeito que esteja deixando a criatura enfeitiçada ou amedrontada. Quando essa magia terminar, qualquer efeito suprimido volta a funcionar, considerando que sua duração não tenha acabado nesse meio tempo.<br>&emsp;Alternativamente, você pode tornar um alvo indiferente às criaturas que você escolher que forem hostis a ele. Essa indiferença acaba se o alvo for atacado ou ferido por uma magia ou se ele testemunhar qualquer dos seus amigos sendo ferido. Quando a magia terminar, a criatura se tornará hostil novamente, a não ser que o Mestre diga o contrário.<br></span><span style='color:gray;font-size:11px'>[buff, controle, debuff, defesa]<br></span><span style='color:gray;font-size:11px'>[bardo, bruxo, clérigo, feiticeiro, guerreiro, mago, monge, paladino]<br></span><span style='color:gray;font-size:10px'>_LDJ_</span>"
            ],
            "text/plain": [
              "<IPython.core.display.Markdown object>"
            ]
          },
          "metadata": {},
          "output_type": "display_data"
        },
        {
          "name": "stdout",
          "output_type": "stream",
          "text": [
            "\n"
          ]
        },
        {
          "data": {
            "text/markdown": [
              "<span style='color:None;font-size:None'>**Agarrão da Terra _(Earthbind)_** lvl 2<br></span><span style='color:None;font-size:13px'>&emsp;**Escola(s):** elemental (_terra, sombras, metal_)<br>&emsp;**Tempo conjuração:** 1 ação<br>&emsp;**Alcance:** 90 metros<br>&emsp;**Componentes:** VS<br>&emsp;**Mana:** 900 (_+ 10 por turno_)<br>&emsp;**Duração:** concentração, até 1 minuto<br>&emsp;**Attack/Save:** STR Save<br></span><span style='color:None;font-size:None'>Escolha uma criatura que você possa ver, dentro do alcance. Laços de energia mágica rodeiam a criatura. O alvo deve ser bem sucedido num teste de resistência de Força ou seu deslocamento de voo (se possuir) será reduzido para 0 metros pela duração da magia. Uma criatura voadora afetada por essa magia desce 18 metros por turno até aterrissar no solo ou a magia acabar.<br></span><span style='color:gray;font-size:11px'>[controle]<br></span><span style='color:gray;font-size:11px'>[bruxo, clérigo, feiticeiro, guerreiro, mago, paladino]<br></span><span style='color:gray;font-size:10px'>_LDJ_</span>"
            ],
            "text/plain": [
              "<IPython.core.display.Markdown object>"
            ]
          },
          "metadata": {},
          "output_type": "display_data"
        },
        {
          "name": "stdout",
          "output_type": "stream",
          "text": [
            "\n"
          ]
        },
        {
          "data": {
            "text/markdown": [
              "<span style='color:None;font-size:None'>**Ajuda _(Aid)_** lvl 2<br></span><span style='color:None;font-size:13px'>&emsp;**Escola(s):** elemental, musical (_água, luz_)<br>&emsp;**Tempo conjuração:** 1 ação<br>&emsp;**Alcance:** 9 metros<br>&emsp;**Componentes:** VSM _(uma pequena fita de tecido branco)_<br>&emsp;**Mana:** 700<br>&emsp;**Duração:** 8 horas<br>&emsp;**Dano**: 5<br></span><span style='color:None;font-size:None'>Sua magia inspira seus aliados com vigor e determinação.<br>&emsp;Escolha até três criaturas dentro do alcance. O máximo de pontos de vida e os pontos de vida atuais de cada alvo aumentam em 5, pela duração.<br>&emsp;**Melhorar Magia**. Para cada 600 de mana adicionais gastos, você aumenta em 5 o total de pontos de vida até um máximo de 25 totais.<br></span><span style='color:gray;font-size:11px'>[buff, cura]<br></span><span style='color:gray;font-size:11px'>[bardo, guerreiro, mago, monge]<br></span><span style='color:gray;font-size:10px'>_LDJ_</span>"
            ],
            "text/plain": [
              "<IPython.core.display.Markdown object>"
            ]
          },
          "metadata": {},
          "output_type": "display_data"
        },
        {
          "name": "stdout",
          "output_type": "stream",
          "text": [
            "\n"
          ]
        },
        {
          "data": {
            "text/markdown": [
              "<span style='color:None;font-size:None'>**Alterar-se _(Alter Self)_** lvl 2<br></span><span style='color:None;font-size:13px'>&emsp;**Escola(s):** elemental, ilusionista (_água, terra, fogo, ar, luz, sombras, relâmpago, metal, veneno_)<br>&emsp;**Tempo conjuração:** 1 ação<br>&emsp;**Alcance:** pessoal<br>&emsp;**Componentes:** VS<br>&emsp;**Mana:** 600 (_+ 15 a cada 5 minutos_)<br>&emsp;**Duração:** concentração, até 1 hora<br></span><span style='color:None;font-size:None'>Você assume uma forma diferente. Quando conjurar essa magia, escolha uma das seguintes opções, o efeito durará pela duração da magia. Enquanto a magia durar, você pode terminar uma opção com uma ação para ganhar os benefícios de uma diferente.<br>&emsp;**_Adaptação Aquática._** [Água] Você adapta seu corpo para um ambiente aquático, brotando guelras e crescendo membranas entre seus dedos. Você pode respirar embaixo d’água e ganha deslocamento de natação igual a seu deslocamento terrestre.<br>&emsp;**_Mudar Aparência._** [Ilusão] Você transforam sua aparência. Você decide com o que você parece, incluindo altura, peso, traços faciais, timbre da sua voz, comprimento do cabelo, coloração e características distintas, se tiverem. Você pode ficar parecido com um membro de outra raça, apesar de nenhuma de suas estatísticas mudar. Você também não pode parecer com uma criatura de um tamanho diferente do seu, e seu formado básico permanece o mesmo; se você for bípede, você não pode usar essa magia para se tornar quadrupede, por exemplo. A qualquer momento, pela duração da magia, você pode usar sua ação para mudar sua aparência dessa forma, novamente.<br>&emsp;**_Armas Naturais._** [Elemental] Você faz crescerem garras, presas, espinhos, chifres ou armas naturais diferentes, à sua escolha de acordo com seu elemento. Seus ataques desarmados causam 1d6 de dano de concussão, perfurante ou cortante, como apropriado para a arma natural que você escolheu, e você é proficiente com seus ataques desarmados. Finalmente, a arma natural é mágica e você tem +1 de bônus nas jogadas de ataque e dano que você fizer com ela.<br></span><span style='color:gray;font-size:11px'>[buff, dano, exploração, utilidade]<br></span><span style='color:gray;font-size:11px'>[bardo, bruxo, clérigo, feiticeiro, guerreiro, ladino, mago, monge, paladino]<br></span><span style='color:gray;font-size:10px'>_LDJ_</span>"
            ],
            "text/plain": [
              "<IPython.core.display.Markdown object>"
            ]
          },
          "metadata": {},
          "output_type": "display_data"
        },
        {
          "name": "stdout",
          "output_type": "stream",
          "text": [
            "\n"
          ]
        },
        {
          "data": {
            "text/markdown": [
              "<span style='color:None;font-size:None'>**Aprimorar Habilidade _(Enhance Ability)_** lvl 2<br></span><span style='color:None;font-size:13px'>&emsp;**Escola(s):** elemental, necromancia, espiritual, musical, psíquica (_água, terra, ar, luz, relâmpago, metal, veneno_)<br>&emsp;**Tempo conjuração:** 1 ação<br>&emsp;**Alcance:** toque<br>&emsp;**Componentes:** VSM _(pelo ou penas de uma besta)_<br>&emsp;**Mana:** 750 (_+ 10 a cada 10 minutos_)<br>&emsp;**Duração:** concentração, até 1 hora<br></span><span style='color:None;font-size:None'>Você toca uma criatura e a agracia com aprimoramento mágico (ladinos e guerreiros podem escolher apenas si próprios). Escolha um dos efeitos a seguir; o alvo ganha esse efeito até o fim da magia.<br>&emsp;[Ar|Relâmpago] **_Agilidade do Gato._** O alvo tem vantagem em testes de Destreza. Ele também não sofre dano ao cair de 6 metros ou menos, se não estiver incapacitado.<br>&emsp;[Psíquica|Água|Luz] **_Esperteza da Raposa._** O alvo tem vantagem em testes de Inteligência.<br>&emsp;[Musical|Água|Luz] **_Esplendor da Águia._** O alvo tem vantagem em testes de Carisma.<br>&emsp;[Terra|Metal] **_Força do Touro._** O alvo tem vantagem em testes de Força e sua capacidade de carga é dobrada.  <br>&emsp;[Musical|Psíquica|Água|Luz] **_Sabedoria da Coruja._** O alvo tem vantagem em testes de Sabedoria.<br>&emsp;[Terra|Metal|Veneno] **_Vigor do Urso._** O alvo tem vantagem em testes de Constituição.<br>&emsp;[Necrótico|Espiritual] **_Resistência do Leão_** O alvo recebe 2d6 pontos de vida temporários, que são perdidos quando a magia termina.<br></span><span style='color:gray;font-size:11px'>[buff, toque]<br></span><span style='color:gray;font-size:11px'>[bardo, bruxo, clérigo, feiticeiro, guerreiro, ladino, mago, monge, paladino]<br></span><span style='color:gray;font-size:10px'>_LDJ_</span>"
            ],
            "text/plain": [
              "<IPython.core.display.Markdown object>"
            ]
          },
          "metadata": {},
          "output_type": "display_data"
        },
        {
          "name": "stdout",
          "output_type": "stream",
          "text": [
            "\n"
          ]
        },
        {
          "data": {
            "text/markdown": [
              "<span style='color:None;font-size:None'>**Arma Espiritual _(Spiritual Weapon)_** lvl 2<br></span><span style='color:None;font-size:13px'>&emsp;**Escola(s):** elemental, necromancia, espiritual (_água, terra, fogo, ar, luz, sombras, relâmpago, metal, veneno_)<br>&emsp;**Tempo conjuração:** 1 ação bônus<br>&emsp;**Alcance:** 18 metros<br>&emsp;**Componentes:** VS<br>&emsp;**Mana:** 900<br>&emsp;**Duração:** 1 minuto<br>&emsp;**Dano**: 1d8<br>&emsp;**Dmg/effect:** elemental<br></span><span style='color:None;font-size:None'>Você cria uma arma espectral flutuante, dentro do alcance, que permanece pela duração ou até você conjurar essa magia novamente. Quando você conjura essa magia, você pode realizar um ataque corpo-a-corpo com magia contra uma criatura a 1,5 metro da arma. Se atingir, o alvo sofre dano de elemental igual a 1d8 + seu modificador de habilidade de conjuração.<br>&emsp;Com uma ação bônus, no seu turno, você pode mover a arma até 6 metros e repetir o ataque contra uma criatura a 1,5 metro dela.<br>&emsp;A arma pode ter a forma que você desejar.<br>&emsp;**Melhorar Magia**. Para cada 600 de mana extras gastos, aumente o dano da magia em 1d8 até um máximo de 4d8 adicionais.<br></span><span style='color:gray;font-size:11px'>[dano]<br></span><span style='color:gray;font-size:11px'>[bardo, guerreiro, mago, monge]<br></span><span style='color:gray;font-size:10px'>_LDJ_</span>"
            ],
            "text/plain": [
              "<IPython.core.display.Markdown object>"
            ]
          },
          "metadata": {},
          "output_type": "display_data"
        },
        {
          "name": "stdout",
          "output_type": "stream",
          "text": [
            "\n"
          ]
        },
        {
          "data": {
            "text/markdown": [
              "<span style='color:None;font-size:None'>**Arma Mágica _(Magic Weapon)_** lvl 2<br></span><span style='color:None;font-size:13px'>&emsp;**Escola(s):** elemental, necromancia, espiritual, ilusionista, musical, psíquica, receita (_água, terra, fogo, ar, luz, sombras, relâmpago, metal, veneno_)<br>&emsp;**Tempo conjuração:** 1 ação bônus<br>&emsp;**Alcance:** toque<br>&emsp;**Componentes:** VS<br>&emsp;**Mana:** 750 (_+ 10 a cada 5 minutos_)<br>&emsp;**Duração:** concentração, até 1 hora<br></span><span style='color:None;font-size:None'>Você toca uma arma não-magica. Até a magia acabar, a arma se torna uma arma mágica com +1 de bônus nas jogadas de ataque e jogadas de dano.<br>&emsp;**Melhorar Magia** Gastando um total de 5000 de mana e 50 de mana a cada 5 minutos, você torna a arma em uma arma +2. Gastando um total de 50000 de mana e 500 de mana a cada 5 minutos, você torna a arma em uma arma +3.<br></span><span style='color:gray;font-size:11px'>[arma, buff, dano, toque]<br></span><span style='color:gray;font-size:11px'>[bardo, bruxo, clérigo, feiticeiro, guerreiro, ladino, mago, monge, paladino]<br></span><span style='color:gray;font-size:10px'>_LDJ_</span>"
            ],
            "text/plain": [
              "<IPython.core.display.Markdown object>"
            ]
          },
          "metadata": {},
          "output_type": "display_data"
        },
        {
          "name": "stdout",
          "output_type": "stream",
          "text": [
            "\n"
          ]
        },
        {
          "data": {
            "text/markdown": [
              "<span style='color:None;font-size:None'>**Arrombar _(Knock)_** lvl 2<br></span><span style='color:None;font-size:13px'>&emsp;**Escola(s):** elemental (_terra, metal_)<br>&emsp;**Tempo conjuração:** 1 ação<br>&emsp;**Alcance:** 18 metros<br>&emsp;**Componentes:** V<br>&emsp;**Mana:** 800<br>&emsp;**Duração:** instantânea<br></span><span style='color:None;font-size:None'>Escolha um objeto que você possa ver, dentro do alcance. O objeto pode ser uma porta, uma caixa, um baú ou um par de algemas, um cadeado ou outro objeto que contenha um meio mundano ou mágico que previne o acesso.<br>&emsp;Um alvo que esteja fechado por uma fechadura mundana ou preso ou barrado torna-se destrancado, destravado ou desbloqueado. Se o objeto tiver múltiplas fechaduras, apenas uma delas é destrancada.<br>&emsp;Se você escolher um alvo que esteja travado pela magia _tranca arcana_, essa magia será suprimida por 10 minutos, durante esse período o alvo pode ser aberto e fechado normalmente.<br>&emsp;Quando você conjurar essa magia, uma batida forte, audível a até 90 metros de distância, emana do objeto alvo.<br></span><span style='color:gray;font-size:11px'>[exploração]<br></span><span style='color:gray;font-size:11px'>[bardo, bruxo, clérigo, feiticeiro, guerreiro, ladino, mago, monge, paladino]<br></span><span style='color:gray;font-size:10px'>_LDJ_</span>"
            ],
            "text/plain": [
              "<IPython.core.display.Markdown object>"
            ]
          },
          "metadata": {},
          "output_type": "display_data"
        },
        {
          "name": "stdout",
          "output_type": "stream",
          "text": [
            "\n"
          ]
        },
        {
          "data": {
            "text/markdown": [
              "<span style='color:None;font-size:None'>**Augúrio _(Augury)_** lvl 2 - ritual<br></span><span style='color:None;font-size:13px'>&emsp;**Escola(s):** espiritual<br>&emsp;**Tempo conjuração:** 1 minuto<br>&emsp;**Alcance:** pessoal<br>&emsp;**Componentes:** VSM _(varetas, ossos ou objetos similarmente marcados valendo, no mínimo, 25 po)_<br>&emsp;**Mana:** 1000<br>&emsp;**Duração:** instantânea<br></span><span style='color:None;font-size:None'>Ao lançar varetas cravejados com gemas, rolar ossos de dragão, puxar cartas ornamentadas ou usar outro tipo de ferramenta de adivinhação, você recebe um pressagio de uma entidade de outro mundo, sobre os resultados de cursos de ação específicos que você planeja tomar nos próximos 30 minutos. O Mestre escolhe dentre os possíveis presságios a seguir: • _Êxito_, para resultados bons<br>&emsp;• _Fracasso_, para resultados maus<br>&emsp;• _Êxito e fracasso_, para resultados bons e maus<br>&emsp;• _Nada_, para resultados que não são especialmente bons ou ruins<br><br>&emsp;A magia não leva em conta qualquer possível circunstancia que possa mudar o resultado, como a conjuração de magias adicionais ou a perda ou ganho de um companheiro.<br>&emsp;Se você conjurar a magia duas ou mais vezes antes de completar seu próximo descanso longo, existe uma chance cumulativa de 25 por cento de cada conjuração, depois da primeira que você fez, ter um resultado aleatório. O Mestre faz essa jogada secretamente.<br></span><span style='color:gray;font-size:11px'>[detecção, exploração, utilidade]<br></span><span style='color:gray;font-size:11px'>[bardo, bruxo, clérigo, feiticeiro, guerreiro, ladino, mago, monge, paladino]<br></span><span style='color:gray;font-size:10px'>_LDJ_</span>"
            ],
            "text/plain": [
              "<IPython.core.display.Markdown object>"
            ]
          },
          "metadata": {},
          "output_type": "display_data"
        },
        {
          "name": "stdout",
          "output_type": "stream",
          "text": [
            "\n"
          ]
        },
        {
          "data": {
            "text/markdown": [
              "<span style='color:None;font-size:None'>**Aura Mágica Ilusionista (de Nystul) _(Arcanist's Magic Aura)_** lvl 2<br></span><span style='color:None;font-size:13px'>&emsp;**Escola(s):** ilusionista<br>&emsp;**Tempo conjuração:** 1 ação<br>&emsp;**Alcance:** toque<br>&emsp;**Componentes:** VSM _(um pequeno quadrado de seda)_<br>&emsp;**Mana:** 650<br>&emsp;**Duração:** 24 horas<br></span><span style='color:None;font-size:None'>Você coloca uma ilusão em uma criatura ou objeto que você tocar, então magias de adivinhação revelarão informações falsas sobre ele. O alvo pode ser uma criatura voluntária ou um objeto que não esteja sendo carregado ou vestido por outra criatura.  Quando você conjura essa magia, escolha um ou ambos os efeitos seguintes. O efeito permanece pela duração. Se você conjurar essa magia na mesma criatura ou objeto a cada dia por 30 dias, colocando o mesmo efeito nele todas as vezes, a ilusão durará até ser dissipada.<br>&emsp;**_Aura Falsa._** Você modifica a forma como o alvo aparece para magias e efeitos mágicos, como _detectar magia_, que detectam auras mágicas. Você pode fazer um objeto não-mágico parecer mágico ou mudar a aura mágica de um objeto para que ela pareça pertencer a outra escola de magia a sua escolha (exceto Atrativa e Pura). Quando você usar esse efeito num objeto, você pode fazer a aura falsa aparente a qualquer criatura que manusear o item.<br>&emsp;**_Máscara._** Você modifica a forma como o alvo aparece para magias e efeitos que detectam tipos de criaturas, como o Sentido Divino do paladino ou o gatilho de um magia _símbolo_. Você escolhe o tipo de criatura e outras magias e efeitos mágicos consideram o alvo como se ele fosse uma criatura desse tipo ou tendência.<br></span><span style='color:gray;font-size:11px'>[buff, detecção, toque, toque, utilidade]<br></span><span style='color:gray;font-size:11px'>[bardo, bruxo, clérigo, feiticeiro, guerreiro, ladino, mago, monge, paladino]<br></span><span style='color:gray;font-size:10px'>_LDJ_</span>"
            ],
            "text/plain": [
              "<IPython.core.display.Markdown object>"
            ]
          },
          "metadata": {},
          "output_type": "display_data"
        },
        {
          "name": "stdout",
          "output_type": "stream",
          "text": [
            "\n"
          ]
        },
        {
          "data": {
            "text/markdown": [
              "<span style='color:None;font-size:None'>**Bafo de Dragão _(Dragon's Breath)_** lvl 2<br></span><span style='color:None;font-size:13px'>&emsp;**Escola(s):** elemental (_água, terra, fogo, ar, luz, sombras, relâmpago, metal, veneno_)<br>&emsp;**Tempo conjuração:** 1 ação bônus<br>&emsp;**Alcance:** toque<br>&emsp;**Componentes:** VSM _(uma pimenta ardida)_<br>&emsp;**Mana:** 800 (_+ 10 por turno_)<br>&emsp;**Duração:** concentração, até 1 minuto<br>&emsp;**Dano**: 3d6<br>&emsp;**Attack/Save:** DEX Save<br>&emsp;**Dmg/effect:** elemental<br></span><span style='color:None;font-size:None'>Você toca uma criatura voluntária e a imbui com o poder de cuspir energia elemental de sua boca, desde que tenha uma. Até a magia terminar, a criatura pode usar uma ação para exalar energia do seu elemento em um cone de 4,5 metros. Cada criatura nessa área deve fazer um teste de resistência de Destreza, tomando um dano de 3d6 elemental em uma falha, ou metade de dano em um bem sucedido.<br>&emsp;**Melhorar Magia**. Para cada 500 de mana adicionais gastos, adicione mais 1d6 até um máximo de 7d6 adicionais.<br></span><span style='color:gray;font-size:11px'>[buff, dano, toque]<br></span><span style='color:gray;font-size:11px'>[bardo, mago]<br></span><span style='color:gray;font-size:10px'>_LDJ_</span>"
            ],
            "text/plain": [
              "<IPython.core.display.Markdown object>"
            ]
          },
          "metadata": {},
          "output_type": "display_data"
        },
        {
          "name": "stdout",
          "output_type": "stream",
          "text": [
            "\n"
          ]
        },
        {
          "data": {
            "text/markdown": [
              "<span style='color:None;font-size:None'>**Boca Encantada _(Magic Month)_** lvl 2<br></span><span style='color:None;font-size:13px'>&emsp;**Escola(s):** musical, receita<br>&emsp;**Tempo conjuração:** 1 minuto<br>&emsp;**Alcance:** 9 metros<br>&emsp;**Componentes:** VSM _(um pedaço de favo de mel e pó de jade valendo, no mínimo, 10 po, consumidos pela magia)_<br>&emsp;**Mana:** 850<br>&emsp;**Duração:** até ser dissipada<br></span><span style='color:None;font-size:None'>Você implanta uma mensagem em um objeto dentro do alcance, uma mensagem que é pronunciada quando uma condição de ativação é satisfeita. Escolha um objeto que você possa ver e não esteja sendo vestido ou carregado por outra criatura. Então, fale a mensagem, que deve conter 25 palavras ou menos, apesar de ela poder ser entregue durante um período de até 10 minutos. Finalmente, determine a circunstância que irá ativar a magia para que sua mensagem seja entregue.<br>&emsp;Quando essa circunstância ocorrer, a boca encantada aparecerá no objeto e recitará a mensagem com sua voz e com o mesmo volume que você falou. Se o objeto que você escolheu tiver uma boca ou algo semelhante a uma boca (por exemplo, a boca de uma estátua), a boca mágica aparece ai, então, as palavras parecerão vir da boca do objeto. Quando você conjura essa magia, você pode fazer a magia acabar depois de enviar sua mensagem ou ela pode permanecer e repetir a mensagem sempre que a circunstância de ativação ocorrer.<br>&emsp;A circunstância de ativação pode ser tão genérica ou tão detalhada quando você quiser, apesar de ela precisar ser baseada em condições visuais ou audíveis que ocorram a até 9 metros do objeto. Por exemplo, você pode instruir a boca a falar quando uma criatura se aproximar a menos de 9 metros do objeto ou quando um sino de prata tocar a menos de 9 metros dela.<br></span><span style='color:gray;font-size:11px'>[comunicação, utilidade]<br></span><span style='color:gray;font-size:11px'>[bardo, bruxo, clérigo, feiticeiro, guerreiro, ladino, mago, monge, paladino]<br></span><span style='color:gray;font-size:10px'>_LDJ_</span>"
            ],
            "text/plain": [
              "<IPython.core.display.Markdown object>"
            ]
          },
          "metadata": {},
          "output_type": "display_data"
        },
        {
          "name": "stdout",
          "output_type": "stream",
          "text": [
            "\n"
          ]
        },
        {
          "data": {
            "text/markdown": [
              "<span style='color:None;font-size:None'>**Braza (de Aganazzar) _(Aganazzar's Sorcher)_** lvl 2<br></span><span style='color:None;font-size:13px'>&emsp;**Escola(s):** elemental (_água, fogo, ar, sombras, relâmpago, metal, veneno_)<br>&emsp;**Tempo conjuração:** 1 ação<br>&emsp;**Alcance:** 9 metros<br>&emsp;**Componentes:** VSM _(uma escama de dragão vermelho)_<br>&emsp;**Mana:** 800<br>&emsp;**Duração:** instantânea<br>&emsp;**Dano**: 3d8<br>&emsp;**Attack/Save:** DEX Save<br>&emsp;**Dmg/effect:** elemental<br></span><span style='color:None;font-size:None'>Uma linha elemental vibrante de 9 por 1,5 metros emana de você em uma direção que você escolher. Cada criatura na linha deve fazer uma salvaguarda de Destreza. A criatura recebe 3d8 de dano elemental em uma falha ou metade em um sucesso.<br>&emsp;**Melhorar Magia**. Para cada 650 de mana adicionais, adicione 1d8 no dano até um máximo de 5d8 adicionais.<br></span><span style='color:gray;font-size:11px'>[dano]<br></span><span style='color:gray;font-size:11px'>[bardo, bruxo, clérigo, feiticeiro, mago, paladino]<br></span><span style='color:gray;font-size:10px'>_LDJ_</span>"
            ],
            "text/plain": [
              "<IPython.core.display.Markdown object>"
            ]
          },
          "metadata": {},
          "output_type": "display_data"
        },
        {
          "name": "stdout",
          "output_type": "stream",
          "text": [
            "\n"
          ]
        },
        {
          "data": {
            "text/markdown": [
              "<span style='color:None;font-size:None'>**Cativar _(Enthrall)_** lvl 2<br></span><span style='color:None;font-size:13px'>&emsp;**Escola(s):** musical, psíquica<br>&emsp;**Tempo conjuração:** 1 ação<br>&emsp;**Alcance:** 18 metros<br>&emsp;**Componentes:** VS<br>&emsp;**Mana:** 700<br>&emsp;**Duração:** 1 minuto<br>&emsp;**Attack/Save:** WIS Save<br></span><span style='color:None;font-size:None'>Você tece um cordão de palavras distrativas, fazendo as criaturas, à sua escolha, que você puder ver dentro do alcance e que puderem ouvir você, realizarem um teste de resistência de Sabedoria. Qualquer criatura que não puder ser enfeitiçada, passa automaticamente nesse teste de resistência e, se você ou seus companheiros estiverem lutando com a criatura, ela terá vantagem na resistência.<br>&emsp;Se falhar na resistência, a criatura terá desvantagem em testes de Sabedoria (Percepção) feitos para notar qualquer criatura além de você, até a magia acabar ou até o alvo não poder mais ouvir você. A magia acaba se você estiver incapacitado ou incapaz de falar<br></span><span style='color:gray;font-size:11px'>[controle, debuff, social]<br></span><span style='color:gray;font-size:11px'>[bardo, bruxo, clérigo, feiticeiro, guerreiro, ladino, mago, monge, paladino]<br></span><span style='color:gray;font-size:10px'>_LDJ_</span>"
            ],
            "text/plain": [
              "<IPython.core.display.Markdown object>"
            ]
          },
          "metadata": {},
          "output_type": "display_data"
        },
        {
          "name": "stdout",
          "output_type": "stream",
          "text": [
            "\n"
          ]
        },
        {
          "data": {
            "text/markdown": [
              "<span style='color:None;font-size:None'>**Cegueira/Surdez _(Blindness/Deafness)_** lvl 2<br></span><span style='color:None;font-size:13px'>&emsp;**Escola(s):** necromancia, ilusionista, espiritual, musical, elemental (_luz, sombras_)<br>&emsp;**Tempo conjuração:** 1 ação<br>&emsp;**Alcance:** 9 metros<br>&emsp;**Componentes:** VS<br>&emsp;**Mana:** 700<br>&emsp;**Duração:** 1 minuto<br></span><span style='color:None;font-size:None'>Você pode cegar ou ensurdecer um oponente. Escolha uma criatura que você possa ver dentro do alcance para fazer um teste de resistência de Constituição. Se ela falhar, ficará ou cega ou surda (à sua escolha) pela duração. No final de cada um dos turnos dele, o alvo pode realizar um teste de resistência de Constituição. Se obtiver sucesso, a magia termina.<br>&emsp;[Musical] Você pode apenas utilizar essa magia para deixar uma criatura surda.<br>&emsp;[Luz|Ilusão] Você pode apenas cegar um oponente.<br>&emsp;[Necromancia] Você não pode utilizar essa magia em corruptores, mortos-vivos ou aberrações.<br>&emsp;[Espiritual] Você não pode utilizar essa magia em celestiais ou fadas.<br>&emsp;**Melhorar Magia**. Para cada 1000 pontos de mana adicionais gastos, adicione mais um alvo para a magia até um total de 5 alvos máximos.<br></span><span style='color:gray;font-size:11px'>[controle, debuff]<br></span><span style='color:gray;font-size:11px'>[bardo, bruxo, clérigo, feiticeiro, guerreiro, ladino, mago, monge, paladino]<br></span><span style='color:gray;font-size:10px'>_LDJ_</span>"
            ],
            "text/plain": [
              "<IPython.core.display.Markdown object>"
            ]
          },
          "metadata": {},
          "output_type": "display_data"
        },
        {
          "name": "stdout",
          "output_type": "stream",
          "text": [
            "\n"
          ]
        },
        {
          "data": {
            "text/markdown": [
              "<span style='color:None;font-size:None'>**Chama Contínua _(Continual Flame)_** lvl 2<br></span><span style='color:None;font-size:13px'>&emsp;**Escola(s):** elemental (_fogo, luz, relâmpago_)<br>&emsp;**Tempo conjuração:** 1 ação<br>&emsp;**Alcance:** toque<br>&emsp;**Componentes:** VSM _(pó de rubi no valor de 50 po, consumido pela magia)_<br>&emsp;**Mana:** 1500<br>&emsp;**Duração:** até ser dissipada<br></span><span style='color:None;font-size:None'>Uma chama, que produz iluminação equivalente a uma tocha, surge de um objeto que você tocar. O efeito é parecido com o de uma chama normal, mas ele não produz calor e não consome oxigênio. Uma chama continua pode ser coberta ou escondida, mas não sufocada ou extinta.<br></span><span style='color:gray;font-size:11px'>[defesa, toque, utilidade]<br></span><span style='color:gray;font-size:11px'>[bardo, bruxo, clérigo, feiticeiro, mago, paladino]<br></span><span style='color:gray;font-size:10px'>_LDJ_</span>"
            ],
            "text/plain": [
              "<IPython.core.display.Markdown object>"
            ]
          },
          "metadata": {},
          "output_type": "display_data"
        },
        {
          "name": "stdout",
          "output_type": "stream",
          "text": [
            "\n"
          ]
        },
        {
          "data": {
            "text/markdown": [
              "<span style='color:None;font-size:None'>**Chicote Mental (de Tasha) _(Tasha's Mind Whip)_** lvl 2<br></span><span style='color:None;font-size:13px'>&emsp;**Escola(s):** ilusionista, musical<br>&emsp;**Tempo conjuração:** 1 ação<br>&emsp;**Alcance:** 27 metros<br>&emsp;**Componentes:** V<br>&emsp;**Mana:** 900<br>&emsp;**Duração:** 1 rodada<br>&emsp;**Dano**: 3d6<br>&emsp;**Attack/Save:** INT Save<br>&emsp;**Dmg/effect:** psíquico<br></span><span style='color:None;font-size:None'>Você enlaça psiquicamente uma criatura a sua vista dentro do alcance. O alvo deve ser bem-sucedido em uma salvaguarda de Inteligência. Em caso de falha, O alvo sofre 3d6 de dano psíquico, e não pode realizar reações até o final do próximo turno dele. Além disso, no próximo turno dele, ele deve escolher entre se mover, realizar uma ação, ou realizar uma ação bônus; ele pode fazer apenas uma das três coisas. Caso passe na salvaguarda, o alvo recebe metade do dano e não sofre os outros efeitos da magia.<br>&emsp;**Melhorar Magia**. Para cada 1200 de mana adicionais gastos, você pode adicionar mais uma criatura como alvo da magia até um total de 5 criaturas. Elas devem estar até 9m de distância umas das outras quando você as marcar como alvo.<br></span><span style='color:gray;font-size:11px'>[controle, dano, debuff]<br></span><span style='color:gray;font-size:11px'>[bardo, bruxo, clérigo, feiticeiro, guerreiro, ladino, mago, monge, paladino]<br></span><span style='color:gray;font-size:10px'>_Tasha_</span>"
            ],
            "text/plain": [
              "<IPython.core.display.Markdown object>"
            ]
          },
          "metadata": {},
          "output_type": "display_data"
        },
        {
          "name": "stdout",
          "output_type": "stream",
          "text": [
            "\n"
          ]
        },
        {
          "data": {
            "text/markdown": [
              "<span style='color:None;font-size:None'>**Chuva de Bolas de Neve _(Snilloc's Snowball Swarm)_** lvl 2<br></span><span style='color:None;font-size:13px'>&emsp;**Escola(s):** elemental (_água_)<br>&emsp;**Tempo conjuração:** 1 ação<br>&emsp;**Alcance:** 27 metros<br>&emsp;**Componentes:** VSM _(um pedaço de gelo ou um pequena lasca de pedra branca)_<br>&emsp;**Mana:** 750<br>&emsp;**Duração:** instantânea<br>&emsp;**Dano**: 3d6<br>&emsp;**Attack/Save:** DEX Save<br>&emsp;**Dmg/effect:** frio<br></span><span style='color:None;font-size:None'>Uma rajada de bolas de neve mágicas emerge de um ponto que você escolher, dentro do alcance. Cada criatura numa esfera de 1,5 metro de raio centrada no ponto deve realizar um teste de resistência de Destreza. Uma criatura sofre 3d6 de dano de frio se falhar na resistência, ou metade desse dano se obtiver sucesso.<br>&emsp;**Melhorar Magia**. Para cada 600 de mana adicionais, adicione 1d6 ao dano até o máximo de 5d6 extras.<br></span><span style='color:gray;font-size:11px'>[dano]<br></span><span style='color:gray;font-size:11px'>[bardo, mago]<br></span><span style='color:gray;font-size:10px'>_Xanathar_</span>"
            ],
            "text/plain": [
              "<IPython.core.display.Markdown object>"
            ]
          },
          "metadata": {},
          "output_type": "display_data"
        },
        {
          "name": "stdout",
          "output_type": "stream",
          "text": [
            "\n"
          ]
        },
        {
          "data": {
            "text/markdown": [
              "<span style='color:None;font-size:None'>**Convocar Montaria _(Find Steed)_** lvl 2 (Rara)<br></span><span style='color:None;font-size:13px'>&emsp;**Escola(s):** invocação, necromancia, espiritual<br>&emsp;**Tempo conjuração:** 10 minutos<br>&emsp;**Alcance:** 9 metros<br>&emsp;**Componentes:** VS<br>&emsp;**Mana:** 1400<br>&emsp;**Duração:** instantânea<br></span><span style='color:None;font-size:None'>Você convoca um espírito que assume a forma de uma montaria excepcionalmente inteligente, forte e leal, criando uma ligação duradoura com ela. Aparecendo em um espaço desocupado dentro do alcance, a montaria adquire a forma que você escolher, como um cavalo de guerra, um pônei, um camelo, um alce ou um mastim.  (Seu Mestre pode permitir outros animais para serem convocados como montarias.) A montaria tem as estatísticas da forma escolhida, no entanto, ele é um celestial, corruptor ou fada (à sua escolha) ao invés do seu tipo normal. Além disso, se sua montaria tiver Inteligência 5 ou menor, a Inteligência dela se torna 6 e ela ganha a capacidade de compreender um idioma, à sua escolha, que você fala.<br>&emsp;Sua montaria serve tanto para cavalgar quando para o combate e você tem uma ligação instintiva com ela que permite a vocês lutarem como uma unidade singular.  Enquanto estiver montado na sua montaria, você pode fazer com que qualquer magia que você conjure que tenha alcance pessoal, também afete a sua montaria.<br>&emsp;Quando a montaria cair a 0 pontos de vida, ela desaparece, não deixando qualquer corpo físico para trás.  Você também pode dispensar sua montaria a qualquer momento, com uma ação, fazendo-a desaparecer. Em ambos os casos, conjurar essa magia novamente convocará a mesma montaria, restaurando-a ao seu máximo de pontos de vida.<br>&emsp;Enquanto sua montaria estiver a até 1,5 quilômetro de você, você pode se comunicar telepaticamente com ela.<br>&emsp;Você não pode ter mais de uma montaria ligado por essa magia por vez. Com uma ação, você pode liberar a montaria da ligação a qualquer momento, fazendo-a desaparecer.<br></span><span style='color:gray;font-size:11px'>[comunicação, dano, exploração]<br></span><span style='color:gray;font-size:11px'>[bardo, bruxo, clérigo, feiticeiro, guerreiro, mago, paladino]<br></span><span style='color:gray;font-size:10px'>_LDJ_</span>"
            ],
            "text/plain": [
              "<IPython.core.display.Markdown object>"
            ]
          },
          "metadata": {},
          "output_type": "display_data"
        },
        {
          "name": "stdout",
          "output_type": "stream",
          "text": [
            "\n"
          ]
        },
        {
          "data": {
            "text/markdown": [
              "<span style='color:None;font-size:None'>**Coroa da Loucura _(Crown of Madness)_** lvl 2<br></span><span style='color:None;font-size:13px'>&emsp;**Escola(s):** musical, psíquica, necromancia, elemental (_metal_)<br>&emsp;**Tempo conjuração:** 1 ação<br>&emsp;**Alcance:** 36 metros<br>&emsp;**Componentes:** VS<br>&emsp;**Mana:** 700 (_+ 10 por turno_)<br>&emsp;**Duração:** concentração, até 1 minuto<br>&emsp;**Attack/Save:** WIS Save<br></span><span style='color:None;font-size:None'>Um humanoide, à sua escolha, que você possa ver dentro do alcance, deve ser bem sucedido num teste de resistência de Sabedoria ou ficará enfeitiçado por você pela duração. Enquanto o alvo estiver enfeitiçado dessa forma, uma coroa retorcida de ferro denteado aparece na cabeça dele e a loucura brilha em seus olhos.<br>&emsp;A criatura enfeitiçada deve usar sua ação antes de se mover, em cada um dos turnos dela, para realizar um ataque corpo-a-corpo contra uma criatura, diferente de si mesma, que você escolher mentalmente.<br>&emsp;O alvo pode agir normalmente no turno dele se você não escolher uma criatura ou se você não estiver dentro do alcance.<br>&emsp;Nos seus turnos subsequentes, você deve usar sua ação para manter o controle sobre o alvo, ou a magia termina. Igualmente, o alvo pode realizar um teste de resistência de Sabedoria no final de cada um dos turnos dele. Se obtiver sucesso, a magia termina.<br></span><span style='color:gray;font-size:11px'>[controle, dano, debuff]<br></span><span style='color:gray;font-size:11px'>[bardo, mago, monge]<br></span><span style='color:gray;font-size:10px'>_LDJ_</span>"
            ],
            "text/plain": [
              "<IPython.core.display.Markdown object>"
            ]
          },
          "metadata": {},
          "output_type": "display_data"
        },
        {
          "name": "stdout",
          "output_type": "stream",
          "text": [
            "\n"
          ]
        },
        {
          "data": {
            "text/markdown": [
              "<span style='color:None;font-size:None'>**Crescer Espinhos _(Spike Growth)_** lvl 2<br></span><span style='color:None;font-size:13px'>&emsp;**Escola(s):** elemental (_terra, metal_)<br>&emsp;**Tempo conjuração:** 1 ação<br>&emsp;**Alcance:** 45 metros<br>&emsp;**Componentes:** VSM _(sete espinhos afiados ou sete gravetos, todos com uma ponta afiada)_<br>&emsp;**Mana:** 600 (_+ 10 por minuto_)<br>&emsp;**Duração:** concentração, até 10 minutos<br>&emsp;**Dano**: 4d4<br>&emsp;**Attack/Save:** WIS Save<br>&emsp;**Dmg/effect:** perfurante<br></span><span style='color:None;font-size:None'>O solo em 6 metros quadrados, centrado num ponto dentro do alcance, se retorce e brotam cavilhas rígidas e espinhos. A área se torna terreno difícil pela duração. Quando uma criatura entrar ou se mover dentro da área, ela sofrerá 4d4 de dano perfurante para cada 1,5 metro que ela atravessar.<br>&emsp;A transformação do terreno é camuflada para parecer natural. Qualquer criatura que não puder ver a área no momento que a magia for conjurada, deve realizar um teste de Sabedoria (Percepção) contra a CD da magia para reconhecer o terreno como perigoso, antes de adentra-lo.<br>&emsp;**Melhorar Magia**. Para cada 550 de mana extras gastos, adicione mais 2d4 de dano até um máximo de 8d4 adicionais.<br></span><span style='color:gray;font-size:11px'>[controle, dano]<br></span><span style='color:gray;font-size:11px'>[bardo, mago, monge]<br></span><span style='color:gray;font-size:10px'>_LDJ_</span>"
            ],
            "text/plain": [
              "<IPython.core.display.Markdown object>"
            ]
          },
          "metadata": {},
          "output_type": "display_data"
        },
        {
          "name": "stdout",
          "output_type": "stream",
          "text": [
            "\n"
          ]
        },
        {
          "data": {
            "text/markdown": [
              "<span style='color:None;font-size:None'>**Despedaçar _(Shatter)_** lvl 2<br></span><span style='color:None;font-size:13px'>&emsp;**Escola(s):** elemental, musical (_ar, sombras, relâmpago, metal, veneno_)<br>&emsp;**Tempo conjuração:** 1 ação<br>&emsp;**Alcance:** 18 metros<br>&emsp;**Componentes:** VSM _(uma lasca de mica)_<br>&emsp;**Mana:** 800<br>&emsp;**Duração:** instantânea<br>&emsp;**Dano**: 3d8<br>&emsp;**Attack/Save:** CON Save<br>&emsp;**Dmg/effect:** elemental<br></span><span style='color:None;font-size:None'>Um alto som estridente, dolorosamente intenso, emerge de um ponto, à sua escolha, dentro do alcance. Cada criatura, numa esfera de 3 metros de raio, centrada no ponto deve fazer um teste de resistência de Constituição.<br>&emsp;Uma criatura sofre 3d8 de dano elemental se falhar na resistência ou metade desse dano se obtiver sucesso.<br>&emsp;[Relâmpago|Metal|Veneno] Uma criatura feita de material orgânico tem desvantagem nesse teste de resistência.<br>&emsp;[Sombras] Uma criatura feita de material inorgânico como pedra, cristal ou metal, tem desvantagem nesse teste de resistência.<br>&emsp;Um objeto não-mágico que não esteja sendo vestido ou carregado, também sofre o dano, se estiver na área da magia.<br>&emsp;**Melhorar Magia**. Para cada 1000 de mana adicionais, adicione 1d8 ao dano da magia.<br></span><span style='color:gray;font-size:11px'>[dano]<br></span><span style='color:gray;font-size:11px'>[bardo, bruxo, clérigo, feiticeiro, mago, monge, paladino]<br></span><span style='color:gray;font-size:10px'>_LDJ_</span>"
            ],
            "text/plain": [
              "<IPython.core.display.Markdown object>"
            ]
          },
          "metadata": {},
          "output_type": "display_data"
        },
        {
          "name": "stdout",
          "output_type": "stream",
          "text": [
            "\n"
          ]
        },
        {
          "data": {
            "text/markdown": [
              "<span style='color:None;font-size:None'>**Detectar Pensamentos _(Detect Thoughts)_** lvl 2<br></span><span style='color:None;font-size:13px'>&emsp;**Escola(s):** psíquica<br>&emsp;**Tempo conjuração:** 1 ação<br>&emsp;**Alcance:** 9 metros<br>&emsp;**Componentes:** VSM _(um pedaço de cobre)_<br>&emsp;**Mana:** 600 (_+ 10 por turno_)<br>&emsp;**Duração:** concentração, até 1 minuto<br>&emsp;**Attack/Save:** WIS Save<br></span><span style='color:None;font-size:None'>Pela duração, você pode ler os pensamentos de certas criaturas. Quando você conjura essa magia e, com sua ação e 10 de mana a cada turno até o fim da magia, você pode focar sua mente em qualquer criatura que você puder ver a até 9 metros de você. Se a criatura escolhida possuir Inteligência 3 ou inferior ou não falar nenhum tipo de idioma, a criatura não poderá ser afetada.<br>&emsp;Você, inicialmente, descobre os pensamentos superficiais da criatura – o que está mais presente na sua mente no momento. Com uma ação e 10 de mana, você pode tanto mudar sua atenção para os pensamentos de outra criatura, como tentar sondar mais profundamente na mente da mesma criatura. Se você resolver sondar profundamente, a criatura deve realizar um teste de resistência de Sabedoria. Se falhar, você ganha ciência do seu raciocínio (se possuir), seu estado emocional e algo que tome grande parte da sua mente (como algo que ele se preocupe, amores ou ódios). Se ele for bem sucedido, a magia termina. Em ambas situações, o alvo saberá que você está sondando a mente dele e, a não ser que você mude sua atenção para os pensamentos de outra criatura, a criatura pode usar a ação dela, no turno dela, para realizar um teste de Inteligência resistido por seu teste de Inteligência; se ela for bem sucedida, a magia termina.<br>&emsp;Perguntas feitas diretamente para a criatura alvo, normalmente moldarão o curso dos seus pensamentos, portanto, essa magia é particularmente eficiente como parte de um interrogatório.<br>&emsp;Você pode, também, usar essa magia para detectar a presença que criaturas pensantes que você não possa ver.  Quando você conjura essa magia ou, com sua ação e 20 de mana enquanto ela durar, você pode procurar por pensamentos a até 9 metros de você. A magia pode penetrar a maioria das barreiras, mas é bloqueada por 30 centímetros de rocha, 2,5 centímetros de metal comum, uma fina camada de chumbo, ou 90 centímetros de madeira ou terra. Você não pode detectar uma criatura com Inteligência 3 ou inferior ou uma que não fale qualquer idioma.<br>&emsp;Uma vez que você tenha detectado a presença de uma criatura dessa forma, você pode ler os pensamentos dela pelo resto da duração, como descrito acima, mesmo que você não possa vê-la, mas ela ainda precisa estar dentro do alcance.<br></span><span style='color:gray;font-size:11px'>[detecção, exploração, social]<br></span><span style='color:gray;font-size:11px'>[bardo, bruxo, clérigo, feiticeiro, guerreiro, ladino, mago, monge, paladino]<br></span><span style='color:gray;font-size:10px'>_LDJ_</span>"
            ],
            "text/plain": [
              "<IPython.core.display.Markdown object>"
            ]
          },
          "metadata": {},
          "output_type": "display_data"
        },
        {
          "name": "stdout",
          "output_type": "stream",
          "text": [
            "\n"
          ]
        },
        {
          "data": {
            "text/markdown": [
              "<span style='color:None;font-size:None'>**Diabo da Poeira _(Dust Devil)_** lvl 2<br></span><span style='color:None;font-size:13px'>&emsp;**Escola(s):** elemental (_terra, sombras, veneno_)<br>&emsp;**Tempo conjuração:** 1 ação<br>&emsp;**Alcance:** 18 metros<br>&emsp;**Componentes:** VSM _(um punhado de pó)_<br>&emsp;**Mana:** 700 (_+ 10 por turno_)<br>&emsp;**Duração:** concentração, até 1 minuto<br>&emsp;**Dano**: 1d8<br>&emsp;**Attack/Save:** STR Save<br>&emsp;**Dmg/effect:** concussão<br></span><span style='color:None;font-size:None'>Escolha um cubo de ar de 1,5 metro desocupado que você possa ver, dentro do alcance. Uma força elemental que se parece com um diabo da poeira aparece no cubo e permanece pela duração da magia.<br>&emsp;Qualquer criatura que terminar seu turno a até 1,5 metro do diabo da poeira deve realizar um teste de resistência de Força. Se falhar na resistência, a criatura sofre 1d8 de dano de concussão e é empurrada 3 metros de distância. Se obtiver sucesso a criatura sofre metade do dano e não é empurrada.<br>&emsp;Com uma ação bônus, você pode mover diabo da poeira até 9 metros em qualquer direção. Se o diabo da poeira se mover sobre areia, poeira, terra solta ou cascalho, ele suga o material e forma uma nuvem de 3 metros de raio de detritos envolta de si que dura até o início do seu próximo turno. A nuvem na área é de escuridão densa.<br></span><span style='color:gray;font-size:11px'>[controle, dano]<br></span><span style='color:gray;font-size:11px'>[bardo, guerreiro, mago, monge]<br></span><span style='color:gray;font-size:10px'>_LDJ_</span>"
            ],
            "text/plain": [
              "<IPython.core.display.Markdown object>"
            ]
          },
          "metadata": {},
          "output_type": "display_data"
        },
        {
          "name": "stdout",
          "output_type": "stream",
          "text": [
            "\n"
          ]
        },
        {
          "data": {
            "text/markdown": [
              "<span style='color:None;font-size:None'>**Discurso Enganoso _(Gift of Gab)_** lvl 2<br></span><span style='color:None;font-size:13px'>&emsp;**Escola(s):** psíquica<br>&emsp;**Tempo conjuração:** 1 reação<br>&emsp;**Alcance:** pessoal<br>&emsp;**Componentes:** VSM _(2 po)_<br>&emsp;**Mana:** 700<br>&emsp;**Duração:** instantânea<br></span><span style='color:None;font-size:None'>Quando você conjura essa magia, você habilidosa mente reformula as memórias dos seus ouvintes próximos. Cada criatura a sua escolha até 1,5 metros de você esquece tudo o que você falou nos últimos 6 segundos. Essas criaturas então se lembram apenas das palavras que você falou para conjurar a magia.<br></span><span style='color:gray;font-size:11px'>[social]<br></span><span style='color:gray;font-size:11px'>[bardo, bruxo, clérigo, feiticeiro, guerreiro, ladino, mago, monge, paladino]<br></span><span style='color:gray;font-size:10px'>_LDJ_</span>"
            ],
            "text/plain": [
              "<IPython.core.display.Markdown object>"
            ]
          },
          "metadata": {},
          "output_type": "display_data"
        },
        {
          "name": "stdout",
          "output_type": "stream",
          "text": [
            "\n"
          ]
        },
        {
          "data": {
            "text/markdown": [
              "<span style='color:None;font-size:None'>**Emprestar Conhecimento _(Borrowed Knowledge)_** lvl 2<br></span><span style='color:None;font-size:13px'>&emsp;**Escola(s):** espiritual<br>&emsp;**Tempo conjuração:** 1 ação<br>&emsp;**Alcance:** pessoal<br>&emsp;**Componentes:** VSM _(um livro que custe pelo menos 25 po)_<br>&emsp;**Mana:** 1000<br>&emsp;**Duração:** 1 hora<br></span><span style='color:None;font-size:None'>Você recebe conhecimento de espíritos do passado. Você escolhe uma proficiência na qual não seja proficiente. Pela duração da magia, você é proficiente na proficiência. A magia termina antecipadamente se você conjurá-la novamente.<br></span><span style='color:gray;font-size:11px'>[buff]<br></span><span style='color:gray;font-size:11px'>[bardo, bruxo, clérigo, feiticeiro, guerreiro, ladino, mago, monge, paladino]<br></span><span style='color:gray;font-size:10px'>_Etc._</span>"
            ],
            "text/plain": [
              "<IPython.core.display.Markdown object>"
            ]
          },
          "metadata": {},
          "output_type": "display_data"
        },
        {
          "name": "stdout",
          "output_type": "stream",
          "text": [
            "\n"
          ]
        },
        {
          "data": {
            "text/markdown": [
              "<span style='color:None;font-size:None'>**Encontrar Armadilhas _(Find Traps)_** lvl 2<br></span><span style='color:None;font-size:13px'>&emsp;**Escola(s):** espiritual<br>&emsp;**Tempo conjuração:** 1 ação<br>&emsp;**Alcance:** 36 metros<br>&emsp;**Componentes:** VS<br>&emsp;**Mana:** 700<br>&emsp;**Duração:** instantânea<br></span><span style='color:None;font-size:None'>Você sente a presença de qualquer armadilha dentro do alcance a qual você tenha linha de visão. Uma armadilha, para os propósitos dessa magia, inclui qualquer coisa que possa causar um efeito repentino ou inesperado em você, considerado nocivo ou indesejável, que foi especificamente planejado para ser por seu criador. Portanto, a magia sentirá a área afetada pela magia alarme, um glifo de vigilância ou uma armadilha mecânica de fosso, mas ela não revelará uma fragilidade natural no piso, um teto instável ou um sumidouro escondido.<br>&emsp;Essa magia apenas revela que existe uma magia presente. Você não descobre a localização de cada armadilha, mas você também descobre a natureza genérica do perigo representando pela armadilha que você sentiu.<br></span><span style='color:gray;font-size:11px'>[defesa, detecção, exploração]<br></span><span style='color:gray;font-size:11px'>[bardo, bruxo, clérigo, feiticeiro, guerreiro, ladino, mago, monge, paladino]<br></span><span style='color:gray;font-size:10px'>_LDJ_</span>"
            ],
            "text/plain": [
              "<IPython.core.display.Markdown object>"
            ]
          },
          "metadata": {},
          "output_type": "display_data"
        },
        {
          "name": "stdout",
          "output_type": "stream",
          "text": [
            "\n"
          ]
        },
        {
          "data": {
            "text/markdown": [
              "<span style='color:None;font-size:None'>**Escrita Celeste _(Skywrite)_** lvl 2<br></span><span style='color:None;font-size:13px'>&emsp;**Escola(s):** elemental, ilusionista (_ar_)<br>&emsp;**Tempo conjuração:** 1 ação<br>&emsp;**Alcance:** pessoal<br>&emsp;**Componentes:** VS<br>&emsp;**Mana:** 700<br>&emsp;**Duração:** 1 hora<br></span><span style='color:None;font-size:None'>Você cria até dez palavras em uma parte do céu que você consiga ver. As palavras parecem ser feitas de nuvens e ficam lá até o final do feitiço.<br>&emsp;[Ar] Um vento forte pode fazer as palavras desaparecerem.<br></span><span style='color:gray;font-size:11px'>[comunicação]<br></span><span style='color:gray;font-size:11px'>[bardo, bruxo, clérigo, feiticeiro, guerreiro, ladino, mago, monge, paladino]<br></span><span style='color:gray;font-size:10px'>_LDJ_</span>"
            ],
            "text/plain": [
              "<IPython.core.display.Markdown object>"
            ]
          },
          "metadata": {},
          "output_type": "display_data"
        },
        {
          "name": "stdout",
          "output_type": "stream",
          "text": [
            "\n"
          ]
        },
        {
          "data": {
            "text/markdown": [
              "<span style='color:None;font-size:None'>**Escuridão _(Darkness)_** lvl 2<br></span><span style='color:None;font-size:13px'>&emsp;**Escola(s):** elemental, necromancia (_sombras_)<br>&emsp;**Tempo conjuração:** 1 ação<br>&emsp;**Alcance:** 18 metros<br>&emsp;**Componentes:** VM _(pelo de morcego e uma gota de piche ou pedaço de carvão)_<br>&emsp;**Mana:** 600 (_+ 10 por minuto_)<br>&emsp;**Duração:** concentração, até 10 minutos<br></span><span style='color:None;font-size:None'>Escuridão mágica se espalha a partir de um ponto, à sua escolha, dentro do alcance e preenche uma esfera de 4,5 metros de raio pela duração. A escuridão se estende, dobrando esquinas. Uma criatura com visão no escuro não pode ver através dessa escuridão e luz não-mágica não pode iluminar dentro dela.<br>&emsp;Se o ponto que você escolheu for um objeto que você esteja segurando, ou um que não esteja sendo vestido ou carregado, a escuridão emanará do objeto e se moverá com ele. Cobrir completamente a fonte da escuridão com um objeto opaco, como uma vasilha ou um elmo, bloqueará a escuridão.<br>&emsp;Se qualquer área dessa magia sobrepor uma área de luz criada por uma magia de 2° ou inferior, a magia que criou a luz será dissipada.<br></span><span style='color:gray;font-size:11px'>[controle, debuff]<br></span><span style='color:gray;font-size:11px'>[bardo, bruxo, clérigo, feiticeiro, guerreiro, ladino, mago, monge, paladino]<br></span><span style='color:gray;font-size:10px'>_LDJ_</span>"
            ],
            "text/plain": [
              "<IPython.core.display.Markdown object>"
            ]
          },
          "metadata": {},
          "output_type": "display_data"
        },
        {
          "name": "stdout",
          "output_type": "stream",
          "text": [
            "\n"
          ]
        },
        {
          "data": {
            "text/markdown": [
              "<span style='color:None;font-size:None'>**Esfera Elemental _(Flaming Sphere)_** lvl 2<br></span><span style='color:None;font-size:13px'>&emsp;**Escola(s):** elemental (_água, terra, fogo, ar, luz, sombras, relâmpago, metal, veneno_)<br>&emsp;**Tempo conjuração:** 1 ação<br>&emsp;**Alcance:** 18 metros<br>&emsp;**Componentes:** VSM _(uma pitada de enxofre e uma camada de pó de ferro)_<br>&emsp;**Mana:** 750 (_+ 10 por turno_)<br>&emsp;**Duração:** concentração, até 1 minuto<br>&emsp;**Dano**: 2d6<br>&emsp;**Attack/Save:** DEX Save<br>&emsp;**Dmg/effect:** elemental<br></span><span style='color:None;font-size:None'>Uma esfera elemental, com 1,5 metro de diâmetro, aparece em um espaço desocupado, à sua escolha, dentro do alcance e permanece pela duração. Qualquer criatura que terminar seu turno a até 1,5 metro da esfera, deve realizar um teste de resistência de Destreza. A criatura sofre 2d6 de dano elemental se falhar na resistência, ou metade desse dano se obtiver sucesso.<br>&emsp;Com uma ação bônus, você pode mover a esfera até 9 metros. Se você arremessar a esfera contra uma criatura, essa criatura deve realizar o teste de resistência contra o dano da esfera e a esfera para de se mover esse turno.<br>&emsp;Quando você move a esfera, você pode direciona-la para barreira de até 1,5 metro de altura e ela salta sobre fossos de até 3 metros de distância.<br>&emsp;[Fogo|Luz|Relâmpago] A esfera incendeia objetos inflamáveis que não estejam sendo vestidos ou carregados e emite luz plena a 6 metros de raio e penumbra por mais 6 metros adicionais.<br>&emsp;**Melhorar Magia**. Para cada 550 pontos de mana gastos adicionalmente, adicione 1d6 ao dano da esfera até um máximo de 6d6 extras.<br></span><span style='color:gray;font-size:11px'>[controle, dano]<br></span><span style='color:gray;font-size:11px'>[bardo, bruxo, clérigo, feiticeiro, guerreiro, ladino, mago, monge, paladino]<br></span><span style='color:gray;font-size:10px'>_LDJ_</span>"
            ],
            "text/plain": [
              "<IPython.core.display.Markdown object>"
            ]
          },
          "metadata": {},
          "output_type": "display_data"
        },
        {
          "name": "stdout",
          "output_type": "stream",
          "text": [
            "\n"
          ]
        },
        {
          "data": {
            "text/markdown": [
              "<span style='color:None;font-size:None'>**Espinho Mental _(Mind Spike)_** lvl 2<br></span><span style='color:None;font-size:13px'>&emsp;**Escola(s):** psíquica<br>&emsp;**Tempo conjuração:** 1 ação<br>&emsp;**Alcance:** 18 metros<br>&emsp;**Componentes:** S<br>&emsp;**Mana:** 800 (_+ 10 a cada 10 minutos_)<br>&emsp;**Duração:** concentração, até 1 hora<br>&emsp;**Dano**: 3d8<br>&emsp;**Attack/Save:** WIS Save<br>&emsp;**Dmg/effect:** psíquico<br></span><span style='color:None;font-size:None'>Você alcança a mente de uma criatura que você pode ver dentro do alcance. O alvo deve fazer um teste de resistência de Sabedoria, sofrendo 3d8 de dano psíquico em um teste falho, ou metade do dano em um sucesso. Em uma falha do teste de resistência, você também sempre conhece a localização do alvo até a magia terminar, mas somente enquanto vocês dois estiverem no mesmo plano de existência. Enquanto você tiver esse conhecimento, o alvo não pode se esconder de você, e se for invisível, não ganha nenhum beneficio dessa condição contra você.<br>&emsp;**Melhorar Magia**. Para cada 500 de mana adicionais, você adiciona mais 1d8 ao dano, até um máximo de 5d8 adicionais.<br></span><span style='color:gray;font-size:11px'>[dano, debuff, detecção]<br></span><span style='color:gray;font-size:11px'>[bardo, bruxo, clérigo, feiticeiro, guerreiro, ladino, mago, monge, paladino]<br></span><span style='color:gray;font-size:10px'>_Xanathar_</span>"
            ],
            "text/plain": [
              "<IPython.core.display.Markdown object>"
            ]
          },
          "metadata": {},
          "output_type": "display_data"
        },
        {
          "name": "stdout",
          "output_type": "stream",
          "text": [
            "\n"
          ]
        },
        {
          "data": {
            "text/markdown": [
              "<span style='color:None;font-size:None'>**Espírito Curativo _(Healing Spirits)_** lvl 2<br></span><span style='color:None;font-size:13px'>&emsp;**Escola(s):** elemental, invocação, espiritual (_água, terra, luz_)<br>&emsp;**Tempo conjuração:** 1 ação bônus<br>&emsp;**Alcance:** 18 metros<br>&emsp;**Componentes:** VS<br>&emsp;**Mana:** 700 (_+ 15 por turno_)<br>&emsp;**Duração:** concentração, até 1 minuto<br>&emsp;**Dano**: 1d6<br></span><span style='color:None;font-size:None'>Você invoca um espírito de natureza para confortar os feridos. O espírito intangível aparece em um espaço que é um cubo de 1,5 metros você pode ver dentro do alcance. O espírito parece uma besta ou fada transparente (sua escolha).<br>&emsp;Até que a magia termine, sempre que você ou uma criatura que você pode ver se move para o espaço do espírito pela primeira vez em um turno, ou começa seu turno lá, você pode fazer com que o espírito restaure 1d6 pontos de vida dessa criatura (não é necessária nenhuma ação) . O espírito não pode curar construtos ou mortos-vivos. Como uma ação bônus na sua vez, você pode mover o espírito até 9 metros para um espaço dentro do alcance que você pode ver.<br>&emsp;**Melhorar Magia**. Para cada 1000 pontos de mana adicionais gastos, você pode adicionar mais 1d6 à cura do espírito, até um máximo de 3d6 adicionais.<br></span><span style='color:gray;font-size:11px'>[cura]<br></span><span style='color:gray;font-size:11px'>[bardo, bruxo, clérigo, feiticeiro, mago, monge, paladino]<br></span><span style='color:gray;font-size:10px'>_LDJ_</span>"
            ],
            "text/plain": [
              "<IPython.core.display.Markdown object>"
            ]
          },
          "metadata": {},
          "output_type": "display_data"
        },
        {
          "name": "stdout",
          "output_type": "stream",
          "text": [
            "\n"
          ]
        },
        {
          "data": {
            "text/markdown": [
              "<span style='color:None;font-size:None'>**Esquentar Metal _(Heat Metal)_** lvl 2<br></span><span style='color:None;font-size:13px'>&emsp;**Escola(s):** elemental (_metal_)<br>&emsp;**Tempo conjuração:** 1 ação<br>&emsp;**Alcance:** 18 metros<br>&emsp;**Componentes:** VSM _(um pedaço de ferro e uma chama)_<br>&emsp;**Mana:** 700 (_+ 10 por turno_)<br>&emsp;**Duração:** concentração, até 1 minuto<br>&emsp;**Dano**: 2d8<br>&emsp;**Attack/Save:** CON Save<br>&emsp;**Dmg/effect:** fogo<br></span><span style='color:None;font-size:None'>Escolha uma objeto manufaturado de metal, como uma arma de metal ou uma armadura pesada ou média de metal, que você possa ver dentro do alcance. Você faz com que o objeto brilhe vermelho-incandescente. Qualquer criatura em contato físico com o objeto sofrerá 2d8 de dano de fogo quando você conjurar a magia. Até a magia acabar, você pode usar uma ação bônus, em cada um dos seus turnos subsequentes, para causar esse dano novamente.<br>&emsp;Se uma criatura estiver segurando ou vestindo o objeto e sofrer o dano dele, a criatura deve ser bem sucedida num teste de resistência de Constituição ou largará o objeto se ela puder. Se ela não largar o objeto, ela terá desvantagem em jogadas de ataque e testes de habilidade até o início do seu próximo turno.<br>&emsp;**Melhorar Magia**. Para cada 1000 pontos de mana adicionais gastos, adicione mais 1d8 ao dano, até um máximo de 4d8 adicionais.<br></span><span style='color:gray;font-size:11px'>[controle, dano, debuff]<br></span><span style='color:gray;font-size:11px'>[bardo, bruxo, clérigo, feiticeiro, guerreiro, ladino, mago, monge, paladino]<br></span><span style='color:gray;font-size:10px'>_LDJ_</span>"
            ],
            "text/plain": [
              "<IPython.core.display.Markdown object>"
            ]
          },
          "metadata": {},
          "output_type": "display_data"
        },
        {
          "name": "stdout",
          "output_type": "stream",
          "text": [
            "\n"
          ]
        },
        {
          "data": {
            "text/markdown": [
              "<span style='color:None;font-size:None'>**Flecha Ácida (de Melf) _(Acid Arrow)_** lvl 2<br></span><span style='color:None;font-size:13px'>&emsp;**Escola(s):** elemental (_veneno_)<br>&emsp;**Tempo conjuração:** 1 ação<br>&emsp;**Alcance:** 36 metros<br>&emsp;**Componentes:** VSM _(folha de ruibarbo em pó eo estômago de uma víbora)_<br>&emsp;**Mana:** 550<br>&emsp;**Duração:** instantânea<br>&emsp;**Dano**: 4d4 + 2d4<br>&emsp;**Attack/Save:** distância<br>&emsp;**Dmg/effect:** ácido<br></span><span style='color:None;font-size:None'>Você cospe uma flecha esverdeada cintilante que voa em direção de um alvo dentro do alcance e explode em um jato de ácido.<br>&emsp;Faça um ataque à distância com magia contra o alvo. Se atingir, o alvo sofre 4d4 de dano de ácido imediatamente e 2d4 de dano de ácido no final do próximo turno dele. Se errar, a flecha salpica o alvo com ácido, causando metade do dano inicial e nenhum dano no final do próximo turno dele.<br>&emsp;**Melhorar Magia**. Para cada 550 de mana gastos adicionalmente, você pode adicionar mais 1d4 ao dano inicial e final.<br></span><span style='color:gray;font-size:11px'>[dano, distância]<br></span><span style='color:gray;font-size:11px'>[bardo, bruxo, clérigo, feiticeiro, guerreiro, ladino, mago, monge, paladino]<br></span><span style='color:gray;font-size:10px'>_LDJ_</span>"
            ],
            "text/plain": [
              "<IPython.core.display.Markdown object>"
            ]
          },
          "metadata": {},
          "output_type": "display_data"
        },
        {
          "name": "stdout",
          "output_type": "stream",
          "text": [
            "\n"
          ]
        },
        {
          "data": {
            "text/markdown": [
              "<span style='color:None;font-size:None'>**Força Fantasmagórica _(Phantasmal Force)_** lvl 2<br></span><span style='color:None;font-size:13px'>&emsp;**Escola(s):** ilusionista, psíquica<br>&emsp;**Tempo conjuração:** 1 ação<br>&emsp;**Alcance:** 18 metros<br>&emsp;**Componentes:** VSM _(um pouco de lã)_<br>&emsp;**Mana:** 800 (_+ 5 por turno_)<br>&emsp;**Duração:** concentração, até 1 minuto<br>&emsp;**Dano**: 1d6<br>&emsp;**Attack/Save:** INT Save<br>&emsp;**Dmg/effect:** psíquico<br></span><span style='color:None;font-size:None'>Você constrói uma ilusão que se enraíza na mente de uma criatura que você possa ver, dentro do alcance. O alvo deve realizar um teste de resistência de Inteligência. Se falhar na resistência, você cria um objeto, criatura ou outro fenômeno visível – porém, fantasmagórico – à sua escolha, com não mais de 3 metros cúbicos e que será percebido apenas pelo alvo, pela duração. Essa magia não afeta mortos-vivos ou constructos.<br>&emsp;O fantasma inclui som, temperatura e outros estímulos, também evidentes apenas para o alvo.<br>&emsp;O alvo pode usar sua ação para examinar o fantasma com um teste de Inteligência (Investigação) contra a CD da as magia. Se for bem sucedido, o alvo percebe que o fantasma é uma ilusão e a magia acaba.<br>&emsp;Enquanto o alvo estiver sob efeito dessa magia, ele considerará o fantasma como sendo real. O alvo racionalizará quaisquer resultados ilógicos ao interagir com o fantasma. Por exemplo, um alvo tentado atravessar uma ponte fantasmagórica que atravesse um abismo, cairá quando pisar na ponte. Se o alvo sobreviver a queda, ele ainda acreditará que a ponte existe e procurará outra explicação para a sua queda – ele foi puxado, ele escorregou ou um vento forte pode ter o jogado pra fora.<br>&emsp;Um alvo afetado está tão convencido da realidade do fantasma que pode até mesmo sofrer dano da ilusão. Um fantasma criado para se parecer com uma criatura pode atacar o alvo. Similarmente, um fantasma criado para se parecer com fogo, um poço de ácido ou lava, podem queimar o alvo. A cada rodada, no seu turno, o fantasma pode causar 1d6 de dano psíquico no alvo, se ele estiver na área do fantasma ou a 1,5 metro dele, considerando que a ilusão é de uma criatura ou perigo que, logicamente, possa causar dano, como por atacar. O alvo entende o dano como sendo de um tipo apropriado para a ilusão.<br></span><span style='color:gray;font-size:11px'>[dano, debuff]<br></span><span style='color:gray;font-size:11px'>[bardo, bruxo, clérigo, feiticeiro, guerreiro, ladino, mago, monge, paladino]<br></span><span style='color:gray;font-size:10px'>_LDJ_</span>"
            ],
            "text/plain": [
              "<IPython.core.display.Markdown object>"
            ]
          },
          "metadata": {},
          "output_type": "display_data"
        },
        {
          "name": "stdout",
          "output_type": "stream",
          "text": [
            "\n"
          ]
        },
        {
          "data": {
            "text/markdown": [
              "<span style='color:None;font-size:None'>**Garra Terrestre _(Maximilian's Earthen Grasp)_** lvl 2<br></span><span style='color:None;font-size:13px'>&emsp;**Escola(s):** elemental (_terra, sombras, metal_)<br>&emsp;**Tempo conjuração:** 1 ação<br>&emsp;**Alcance:** 9 metros<br>&emsp;**Componentes:** VSM _(uma mão em miniatura de argila)_<br>&emsp;**Mana:** 750 (_+ 10 por turno_)<br>&emsp;**Duração:** concentração, até 1 minuto<br>&emsp;**Dano**: 2d6<br>&emsp;**Attack/Save:** STR Save<br>&emsp;**Dmg/effect:** concussão<br></span><span style='color:None;font-size:None'>Você escolhe um quadrado de 1,5 metros desocupado no solo que você possa ver dentro do alcance. Uma mão Média elemental surge do solo e ataca uma criatura que você possa ver a até 1,5 metros dela. O alvo deve fazer uma salvaguarda de Força. Se falhar, ele recebe 2d6 de dano de concussão e fica agarrado pela duração da magia.<br>&emsp;Como uma ação, você pode fazer a mão esmagar o algo agarrado, que deve fazer uma salvaguarda de Força. O alvo recebe 2d6 de dano se falhar ou metade se obtiver sucesso.<br>&emsp;Para sair, o alvo pode utilizar a sua ação para fazer um teste de Força contra a CD da magia. Se obtiver sucesso, o alvo escapa e não está mais agarrado pela mão.<br>&emsp;Como uma ação, você pode fazer a mão atacar outra criatura ou mover para uma área desocupada dentro do alcance. A mão solta um alvo agarrado por ela se você fizer qualquer uma dessas ações.<br></span><span style='color:gray;font-size:11px'>[controle, dano, debuff]<br></span><span style='color:gray;font-size:11px'>[bardo, bruxo, clérigo, feiticeiro, mago]<br></span><span style='color:gray;font-size:10px'>_Etc._</span>"
            ],
            "text/plain": [
              "<IPython.core.display.Markdown object>"
            ]
          },
          "metadata": {},
          "output_type": "display_data"
        },
        {
          "name": "stdout",
          "output_type": "stream",
          "text": [
            "\n"
          ]
        },
        {
          "data": {
            "text/markdown": [
              "<span style='color:None;font-size:None'>**Imobilizar Pessoa _(Hold Person)_** lvl 2<br></span><span style='color:None;font-size:13px'>&emsp;**Escola(s):** psíquica, musical<br>&emsp;**Tempo conjuração:** 1 ação<br>&emsp;**Alcance:** 18 metros<br>&emsp;**Componentes:** VSM _(uma pequena peça de ferro reta)_<br>&emsp;**Mana:** 700 (_+ 10 por turno_)<br>&emsp;**Duração:** concentração, até 1 minuto<br>&emsp;**Attack/Save:** WIS Save<br></span><span style='color:None;font-size:None'>Escolha um humanoide que você possa ver, dentro do alcance. O alvo deve ser bem sucedido num teste de resistência de Sabedoria ou ficará paralisado pela duração. Essa magia não tem efeito em mortos-vivos. No final de cada um dos turnos dele, o alvo pode realizar outro teste de resistência de Sabedoria. Se obtiver sucesso, a magia termina no alvo.<br>&emsp;**Melhorar Magia**. Para cada 600 de mana adicionais e mais 10 por turno, você pode ter mais um humanoide como alvo da magia até um máximo de 5. Os humanoides devem estar a 9 metros entre si para serem afetados.<br></span><span style='color:gray;font-size:11px'>[controle]<br></span><span style='color:gray;font-size:11px'>[bardo, guerreiro, mago, monge]<br></span><span style='color:gray;font-size:10px'>_LDJ_</span>"
            ],
            "text/plain": [
              "<IPython.core.display.Markdown object>"
            ]
          },
          "metadata": {},
          "output_type": "display_data"
        },
        {
          "name": "stdout",
          "output_type": "stream",
          "text": [
            "\n"
          ]
        },
        {
          "data": {
            "text/markdown": [
              "<span style='color:None;font-size:None'>**Imobilizar Pessoa no Chão _(Hold Person)_** lvl 2<br></span><span style='color:None;font-size:13px'>&emsp;**Escola(s):** elemental (_terra, metal_)<br>&emsp;**Tempo conjuração:** 1 ação<br>&emsp;**Alcance:** 18 metros<br>&emsp;**Componentes:** VSM _(uma pequena peça de ferro reta)_<br>&emsp;**Mana:** 700 (_+ 10 por turno_)<br>&emsp;**Duração:** concentração, até 1 minuto<br>&emsp;**Attack/Save:** DEX Save<br></span><span style='color:None;font-size:None'>Escolha um humanoide que você possa ver dentro do alcance e que esteja no chão. O alvo deve ser bem sucedido num teste de resistência de Destreza ou ficará paralisado pela duração. No final de cada um dos turnos dele, o alvo pode realizar um teste de resistência de Força para tentar se soltar. Se obtiver sucesso, a magia termina no alvo.<br>&emsp;**Melhorar Magia**. Para cada 600 de mana adicionais e mais 10 por turno, você pode ter mais um humanoide como alvo da magia até um máximo de 5. Os humanoides devem estar a 9 metros entre si para serem afetados.<br></span><span style='color:gray;font-size:11px'>[controle]<br></span><span style='color:gray;font-size:11px'>[bardo, guerreiro, mago, monge]<br></span><span style='color:gray;font-size:10px'>_LDJ_</span>"
            ],
            "text/plain": [
              "<IPython.core.display.Markdown object>"
            ]
          },
          "metadata": {},
          "output_type": "display_data"
        },
        {
          "name": "stdout",
          "output_type": "stream",
          "text": [
            "\n"
          ]
        },
        {
          "data": {
            "text/markdown": [
              "<span style='color:None;font-size:None'>**Invisibilidade _(Invisibility)_** lvl 2<br></span><span style='color:None;font-size:13px'>&emsp;**Escola(s):** elemental (_luz, sombras_)<br>&emsp;**Tempo conjuração:** 1 ação<br>&emsp;**Alcance:** toque<br>&emsp;**Componentes:** VSM _(uma pestana envolta em goma-arábica)_<br>&emsp;**Mana:** 700 (_+ 20 a cada 10 minutos_)<br>&emsp;**Duração:** concentração, até 1 hora<br></span><span style='color:None;font-size:None'>Uma criatura que você tocar, se torna invisível até a magia acabar. Qualquer coisa que o alvo esteja vestindo ou carregando fica invisível enquanto estiver de posse do alvo. A magia termina para o alvo caso ele ataque ou conjure uma magia.<br>&emsp;[Sombras] O efeito só funciona se a criatura estiver em um ambiente sem nenhuma luz.<br>&emsp;**Melhorar Magia**. Gastando mais 600 e 20 de mana a cada 10 minutos, você pode adicionar mais uma criatura como alvo da magia, até um máximo de 6 criaturas no total.<br></span><span style='color:gray;font-size:11px'>[buff, exploração, toque]<br></span><span style='color:gray;font-size:11px'>[bardo, mago]<br></span><span style='color:gray;font-size:10px'>_LDJ_</span>"
            ],
            "text/plain": [
              "<IPython.core.display.Markdown object>"
            ]
          },
          "metadata": {},
          "output_type": "display_data"
        },
        {
          "name": "stdout",
          "output_type": "stream",
          "text": [
            "\n"
          ]
        },
        {
          "data": {
            "text/markdown": [
              "<span style='color:None;font-size:None'>**Invocar Fera _(Summon Beast)_** lvl 2<br></span><span style='color:None;font-size:13px'>&emsp;**Escola(s):** elemental, invocação (_água, terra, fogo, ar_)<br>&emsp;**Tempo conjuração:** 1 ação<br>&emsp;**Alcance:** 18 metros<br>&emsp;**Componentes:** V<br>&emsp;**Mana:** 800<br>&emsp;**Duração:** 1 hora<br></span><span style='color:None;font-size:None'>Você convoca um espírito feral. Ele se manifesta em um espaço desocupado a sua vista dentro do alcance. Essa forma corpórea utiliza o bloco de estatísticas do Espírito Feral. Quando você conjura a magia, escolha um tipo de ambiente: Ar, Terra ou Água. A criatura se assemelha a um animal a sua escolha que vive nesse tipo de habitat, o que determina algumas características no bloco de estatísticas.  A criatura desaparece se chegar a 0 pontos de vida ou quando a magia se encerra. A criatura é uma aliada para você e seus companheiros.  Em combate, a criatura compartilha sua contagem de iniciativa, mas realiza o turno dela imediatamente após o seu. Ela obedece a seus comandos verbais (nenhuma ação é exigida de você). Se não indicar nenhuma ação, ela realiza a ação de Esquiva e usa seu deslocamento para evitar o perigo.  Em círculos superiores. Quando você conjura essa magia usando um espaço de magia de 3° círculo ou superior, utilize o nível mais alto sempre que o bloco de estatísticas indicar o círculo da magia. (MAGIA INCOMPLETA. SERÁ REVISADA DEPOIS DE CRIAR O XAMÃ)<br></span><span style='color:gray;font-size:11px'>[dano]<br></span><span style='color:gray;font-size:11px'>[bardo, bruxo, feiticeiro, mago, xamã]<br></span><span style='color:gray;font-size:10px'>_Tasha_</span>"
            ],
            "text/plain": [
              "<IPython.core.display.Markdown object>"
            ]
          },
          "metadata": {},
          "output_type": "display_data"
        },
        {
          "name": "stdout",
          "output_type": "stream",
          "text": [
            "\n"
          ]
        },
        {
          "data": {
            "text/markdown": [
              "<span style='color:None;font-size:None'>**Invocar Lâmina Elemental (Lâmina Flamejante) _(Flame Blade)_** lvl 2<br></span><span style='color:None;font-size:13px'>&emsp;**Escola(s):** elemental (_água, terra, fogo, ar, luz, sombras, relâmpago, metal, veneno_)<br>&emsp;**Tempo conjuração:** 1 ação bônus<br>&emsp;**Alcance:** pessoal<br>&emsp;**Componentes:** VSM _(folha de sumagre)_<br>&emsp;**Mana:** 700 (_+ 10 por minuto_)<br>&emsp;**Duração:** concentração, até 10 minutos<br>&emsp;**Dano**: 3d6<br>&emsp;**Attack/Save:** corpo-a-corpo<br>&emsp;**Dmg/effect:** elemental<br></span><span style='color:None;font-size:None'>Você evoca uma lâmina elemental ardente em sua mão livre. A lâmina é similar em tamanho e formato a uma cimitarra e ela permanece pela duração. Se você soltar a lâmina, ela desaparece, mas você pode evocar a lâmina novamente com uma ação bônus e gastando apenas mais 50 de mana.<br>&emsp;Você pode usar sua ação para realizar ataques corpo-a-corpo com magia com a lâmina ardente. Se atingir, o alvo sofrerá 3d6 de dano elemental.<br>&emsp;Você pode gastar mais 500 de mana para fazer que, no seu próximo ataque, a lâmina exploda no alvo, causa mais 2d6 de dano elemental extra e suma. Se você usar essa opção e errar, o alvo recebe apenas 2d6 de dano e a lâmina explode, desaparecendo.<br>&emsp;[Fogo|Luz|Relâmpago] A lâmina elemental emite luz plena a 3 metros de raio e penumbra por mais 3 metros adicionais.<br>&emsp;**Melhorar Magia**. Para cada 550 pontos de mana adicionais gastos, adicione 1d6 ao dano até um máximo de 6d6 adicionais.<br></span><span style='color:gray;font-size:11px'>[corpo-a-corpo, dano]<br></span><span style='color:gray;font-size:11px'>[bardo, bruxo, clérigo, feiticeiro, guerreiro, ladino, mago, monge, paladino]<br></span><span style='color:gray;font-size:10px'>_LDJ_</span>"
            ],
            "text/plain": [
              "<IPython.core.display.Markdown object>"
            ]
          },
          "metadata": {},
          "output_type": "display_data"
        },
        {
          "name": "stdout",
          "output_type": "stream",
          "text": [
            "\n"
          ]
        },
        {
          "data": {
            "text/markdown": [
              "<span style='color:None;font-size:None'>**Levitação _(Levitation)_** lvl 2<br></span><span style='color:None;font-size:13px'>&emsp;**Escola(s):** elemental, atrativa (_ar, luz_)<br>&emsp;**Tempo conjuração:** 1 ação<br>&emsp;**Alcance:** 18 metros<br>&emsp;**Componentes:** VSM _(uma pequena presilha de couro ou um pedaço de fio dourado dobrado)_<br>&emsp;**Mana:** 700 (_+ 10 por minuto_)<br>&emsp;**Duração:** concentração, 10 minutos<br>&emsp;**Attack/Save:** CON Save<br></span><span style='color:None;font-size:None'>Uma criatura ou objeto, à sua escolha, que você possa ver, dentro do alcance, ergue-se verticalmente, até 6 metros e permanece suspenso lá pela duração. A magia pode levitar um alvo pesando até 250 quilos. Uma criatura involuntária que for bem sucedida num teste de resistência de Constituição não é afetada. Além disso, se o alvo for uma criatura involuntária, você deve gastar 20 de mana por minuto ao invés de 10.<br>&emsp;O alvo pode se mover apenas ao puxar ou empurrar um objeto fixo ou superfície ao seu alcance (como um muro ou teto), permitindo que ele se mova como se estivesse escalando. Você pode mudar a altitude do alvo em até 6 metros em ambas as direções no seu turno. Se você for o alvo, você pode se mover para cima ou para baixo como parte do seu movimento. Do contrário, você precisa usar sua ação para mover o alvo, que deve permanecer dentro do alcance da magia.  <br>&emsp;Quando a magia acaba, o alvo flutua suavemente até o chão, se ele ainda estiver no ar.<br></span><span style='color:gray;font-size:11px'>[buff, controle, debuff, exploração]<br></span><span style='color:gray;font-size:11px'>[bardo, bruxo, feiticeiro, mago]<br></span><span style='color:gray;font-size:10px'>_LDJ_</span>"
            ],
            "text/plain": [
              "<IPython.core.display.Markdown object>"
            ]
          },
          "metadata": {},
          "output_type": "display_data"
        },
        {
          "name": "stdout",
          "output_type": "stream",
          "text": [
            "\n"
          ]
        },
        {
          "data": {
            "text/markdown": [
              "<span style='color:None;font-size:None'>**Localizar Animais ou Plantas _(Locate Animals or Plants)_** lvl 2<br></span><span style='color:None;font-size:13px'>&emsp;**Escola(s):** elemental (_terra_)<br>&emsp;**Tempo conjuração:** 1 ação<br>&emsp;**Alcance:** pessoal<br>&emsp;**Componentes:** VSM _(um pouco de pelo de um cão de caça)_<br>&emsp;**Mana:** 750<br>&emsp;**Duração:** instantânea<br></span><span style='color:None;font-size:None'>Descreva ou nomeia um tipo específico de besta ou planta. Concentra-se na voz da natureza ao seu redor, você descobre a direção e distância da criatura ou plana mais próxima desse tipo dentro de 7,5 quilômetros, se houver alguma presente.<br></span><span style='color:gray;font-size:11px'>[detecção, exploração]<br></span><span style='color:gray;font-size:11px'>[bardo, bruxo, clérigo, feiticeiro, guerreiro, ladino, mago, monge, paladino]<br></span><span style='color:gray;font-size:10px'>_LDJ_</span>"
            ],
            "text/plain": [
              "<IPython.core.display.Markdown object>"
            ]
          },
          "metadata": {},
          "output_type": "display_data"
        },
        {
          "name": "stdout",
          "output_type": "stream",
          "text": [
            "\n"
          ]
        },
        {
          "data": {
            "text/markdown": [
              "<span style='color:None;font-size:None'>**Localizar Objeto _(Locate Object)_** lvl 2<br></span><span style='color:None;font-size:13px'>&emsp;**Escola(s):** elemental, receita (_terra, metal_)<br>&emsp;**Tempo conjuração:** 1 ação<br>&emsp;**Alcance:** pessoal<br>&emsp;**Componentes:** VSM _(um galho bifurcado)_<br>&emsp;**Mana:** 750 (_+ 10 por minuto_)<br>&emsp;**Duração:** concentração, até 10 minutos<br></span><span style='color:None;font-size:None'>Descreva ou nomeie um objeto que seja familiar a você. Você sente a direção da localização do objeto, contanto que o objeto esteja a até 300 metros de você. Se o objeto estiver em movimento, você saberá a direção do movimento dele.<br>&emsp;A magia pode localizar um objeto especifico que você, desde que você já tenha o visto de perto – a até 9 metros – pelo menos uma vez. Alternativamente, a magia pode localizar o objeto de um tipo em particular mais próximo, como certo tipo de vestuário, joia, móvel, ferramenta ou arma.<br>&emsp;Essa magia não pode localizar um objeto se qualquer espessura de chumbo, até mesmo uma folha fina, bloquear o caminho direto entre você e o objeto.<br>&emsp;[Metal] Você pode detectar apenas objetos de metal.<br>&emsp;[Terra] Você pode detectar apenas objetos de madeira.<br>&emsp;[Receita] Você pode colocar uma receita de _Localizar Objeto_ em qualquer objeto.<br></span><span style='color:gray;font-size:11px'>[detecção, exploração]<br></span><span style='color:gray;font-size:11px'>[bardo, bruxo, clérigo, feiticeiro, guerreiro, ladino, mago, monge, paladino]<br></span><span style='color:gray;font-size:10px'>_LDJ_</span>"
            ],
            "text/plain": [
              "<IPython.core.display.Markdown object>"
            ]
          },
          "metadata": {},
          "output_type": "display_data"
        },
        {
          "name": "stdout",
          "output_type": "stream",
          "text": [
            "\n"
          ]
        },
        {
          "data": {
            "text/markdown": [
              "<span style='color:None;font-size:None'>**Lufada de Vento _(Gust of Wind)_** lvl 2<br></span><span style='color:None;font-size:13px'>&emsp;**Escola(s):** elemental (_ar_)<br>&emsp;**Tempo conjuração:** 1 ação<br>&emsp;**Alcance:** pessoal<br>&emsp;**Componentes:** VSM _(uma semente de legume)_<br>&emsp;**Mana:** 700 (_+ 10 por turno_)<br>&emsp;**Duração:** concentração, até 1 minuto<br>&emsp;**Attack/Save:** STR Save<br></span><span style='color:None;font-size:None'>Uma linha de vento forte, com 18 metros de comprimento e 3 metros de largura, é soprada de você em uma direção, à sua escolha, pela duração da magia. Cada criatura que começar seu turno na linha, deve ser bem sucedida num teste de resistência de Força ou será empurrada 4,5 metros para trás, na direção seguida pela linha. Qualquer criatura na linha deve gastar 3 metros de movimentação para cada 1,5 metro que ela se mover enquanto se aproxima de você.<br>&emsp;As lufadas dispersam gases ou vapores e apagam velas, tochas e chamas similares desprotegidas na área. Elas fazem com que chamas protegidas, como as de lanternas, vibrem descontroladamente e tenham 50 por cento de chance de serem extintas.<br>&emsp;Com uma ação bônus e 50 de mana, em cada um dos seus turnos, antes da magia acabar, você pode mudar a direção à qual a linha é soprada de você.<br></span><span style='color:gray;font-size:11px'>[controle]<br></span><span style='color:gray;font-size:11px'>[bardo, bruxo, clérigo, feiticeiro, guerreiro, ladino, mago, monge, paladino]<br></span><span style='color:gray;font-size:10px'>_LDJ_</span>"
            ],
            "text/plain": [
              "<IPython.core.display.Markdown object>"
            ]
          },
          "metadata": {},
          "output_type": "display_data"
        },
        {
          "name": "stdout",
          "output_type": "stream",
          "text": [
            "\n"
          ]
        },
        {
          "data": {
            "text/markdown": [
              "<span style='color:None;font-size:None'>**Lâmina Sombria _(Shadow Blade)_** lvl 2<br></span><span style='color:None;font-size:13px'>&emsp;**Escola(s):** elemental (_sombras_)<br>&emsp;**Tempo conjuração:** 1 ação bônus<br>&emsp;**Alcance:** pessoal<br>&emsp;**Componentes:** VS<br>&emsp;**Mana:** 650 (_+ 10 por turno_)<br>&emsp;**Duração:** concentração, até 1 minuto<br>&emsp;**Dano**: 2d8<br>&emsp;**Dmg/effect:** sombras<br></span><span style='color:None;font-size:None'>Você entrelaça fios de sombras para criar uma espada de trevas solidas em sua mão. Esta espada mágica dura até a magia terminar. Ele conta como uma arma simples de combate corpo-a-corpo com a qual você é proficiente. Ela provoca um dano sombrio de 2d8 em um golpe e possui propriedades sutileza, leve e arremessável (alcance 6/ 18). Além disso, quando você usa a espada para atacar um alvo que está em luz fraca ou na escuridão, você faz a rolagem de ataque com vantagem.<br>&emsp;Se você soltar a arma ou arremessá-la, ela se dissipa no final do turno. Posteriormente, enquanto a magia persistir, você pode usar uma ação bônus para que a espada reapareça na sua mão.<br>&emsp;**Em Níveis Superiores**. Gastando 1000 de mana extras e mais 10 por turno, o dano aumenta para 3d8. Gastando mais 5000 de mana e mais 30 por turno, o dano aumenta para 4d8. Gastando mais 15000 de mana e mais 50 por turno, o dano aumenta para 5d8.<br></span><span style='color:gray;font-size:11px'>[arma, corpo-a-corpo, dano]<br></span><span style='color:gray;font-size:11px'>[bardo, bruxo, clérigo, feiticeiro, guerreiro, ladino, mago, monge, paladino]<br></span><span style='color:gray;font-size:10px'>_LDJ_</span>"
            ],
            "text/plain": [
              "<IPython.core.display.Markdown object>"
            ]
          },
          "metadata": {},
          "output_type": "display_data"
        },
        {
          "name": "stdout",
          "output_type": "stream",
          "text": [
            "\n"
          ]
        },
        {
          "data": {
            "text/markdown": [
              "<span style='color:None;font-size:None'>**Marca Reveladora _(Branding Smite)_** lvl 2<br></span><span style='color:None;font-size:13px'>&emsp;**Escola(s):** elemental (_luz_)<br>&emsp;**Tempo conjuração:** 1 ação bônus<br>&emsp;**Alcance:** pessoal<br>&emsp;**Componentes:** V<br>&emsp;**Mana:** 650 (_+ 10 de mana a cada turno_)<br>&emsp;**Duração:** concentração, até 1 minuto<br>&emsp;**Dano**: 2d6<br>&emsp;**Dmg/effect:** luz<br></span><span style='color:None;font-size:None'>Da próxima vez que você atingir uma criatura com um ataque com arma, antes do fim da magia, a arma cintilará com radiação astral quando você golpear. O ataque causa 2d6 de dano radiante extra ao alvo, que se torna visível, se estava invisível, e o alvo emite penumbra em um raio de 1,5 metro e não pode ficar invisível até a magia acabar.<br>&emsp;**Melhorar Magia**. Para cada 500 de mana adicionais gastos, você pode adicionar mais 1d6 ao dano até o máximo de 5d6 adicionais.<br></span><span style='color:gray;font-size:11px'>[arma, controle, corpo-a-corpo, dano, debuff, detecção]<br></span><span style='color:gray;font-size:11px'>[bardo, bruxo, clérigo, feiticeiro, guerreiro, ladino, mago, monge, paladino]<br></span><span style='color:gray;font-size:10px'>_LDJ_</span>"
            ],
            "text/plain": [
              "<IPython.core.display.Markdown object>"
            ]
          },
          "metadata": {},
          "output_type": "display_data"
        },
        {
          "name": "stdout",
          "output_type": "stream",
          "text": [
            "\n"
          ]
        },
        {
          "data": {
            "text/markdown": [
              "<span style='color:None;font-size:None'>**Mensageiro Animal _(Animal Messenger)_** lvl 2 - ritual<br></span><span style='color:None;font-size:13px'>&emsp;**Escola(s):** elemental, invocação, musical (_terra_)<br>&emsp;**Tempo conjuração:** 1 ação<br>&emsp;**Alcance:** 9 metros<br>&emsp;**Componentes:** VSM _(um punhado de comida)_<br>&emsp;**Mana:** 650<br>&emsp;**Duração:** 24 horas<br></span><span style='color:None;font-size:None'>Através dessa magia, você usa um animal para entregar uma mensagem. Escolha uma besta Miúda que você possa ver dentro do alcance, como um esquilo, um gaio-azul ou um morcego. Você especifica um local, que você já deve ter visitado, e um remetente com uma descrição geral, como “um homem ou mulher vestido em um uniforme da guarda da cidade” ou “um anão ruivo vestindo um chapéu pontudo”. Você também fala uma mensagem com até vinte e cindo palavras. A besta alvo viaja pela duração da magia para o local especifico, cobrindo 75 quilômetros em 24 horas para um mensageiro voador ou 37,5 quilômetros para outros animais.<br>&emsp;Quando o mensageiro chegar, ele entrega sua mensagem para a criatura que você descreveu, repetindo o som da sua voz. O mensageiro fala apenas para uma criatura que tenha uma descrição compatível com a que ele recebeu. Se o mensageiro não alcançar o destino antes do fim da magia, a mensagem é perdida e a besta faz seu caminho de volta para onde você conjurou a magia.<br>&emsp;**Melhorar Magia**. Para cada 600 de mana adicionais gastos, a duração da magia aumenta em 48 horas.<br></span><span style='color:gray;font-size:11px'>[comunicação, utilidade]<br></span><span style='color:gray;font-size:11px'>[bardo, clérigo, guerreiro, mago, monge, paladino]<br></span><span style='color:gray;font-size:10px'>_LDJ_</span>"
            ],
            "text/plain": [
              "<IPython.core.display.Markdown object>"
            ]
          },
          "metadata": {},
          "output_type": "display_data"
        },
        {
          "name": "stdout",
          "output_type": "stream",
          "text": [
            "\n"
          ]
        },
        {
          "data": {
            "text/markdown": [
              "<span style='color:None;font-size:None'>**Murchar e Florescer _(Wither and Bloom)_** lvl 2<br></span><span style='color:None;font-size:13px'>&emsp;**Escola(s):** necromancia<br>&emsp;**Tempo conjuração:** 1 ação<br>&emsp;**Alcance:** 18 metros<br>&emsp;**Componentes:** VSM _(uma vinha murcha torcida em um loop)_<br>&emsp;**Mana:** 700<br>&emsp;**Duração:** instantânea<br>&emsp;**Dano**: 2d6<br>&emsp;**Attack/Save:** CON Save<br>&emsp;**Dmg/effect:** necrótico<br></span><span style='color:None;font-size:None'>Você invoca ambos vida e morte em uma esfera de até 3 metros centrada em um ponto dentro do alcance. Cada criatura a sua escolha na área deve fazer uma salvaguarda de Constituição, recebendo 2d6 de dano necrótico em uma falha ou metade em um sucesso. Vegetação não mágica na área murcha.<br>&emsp;Além disso, uma criatura da sua escolha pode gastar um Dado de Vida não gasto e recuperar o valor rolado mais seu modificador de conjuração.<br>&emsp;**Melhorar Magia**. Para cada 800 de mana adicionais, você adiciona mais 1d6 ao dano e permite a criatura gastar um dado de vida a mais até um máximo de 3600 pontos adicionais de mana gastos.<br></span><span style='color:gray;font-size:11px'>[cura, dano]<br></span><span style='color:gray;font-size:11px'>[bardo, bruxo, clérigo, feiticeiro, guerreiro, ladino, mago, monge, paladino]<br></span><span style='color:gray;font-size:10px'>_LDJ_</span>"
            ],
            "text/plain": [
              "<IPython.core.display.Markdown object>"
            ]
          },
          "metadata": {},
          "output_type": "display_data"
        },
        {
          "name": "stdout",
          "output_type": "stream",
          "text": [
            "\n"
          ]
        },
        {
          "data": {
            "text/markdown": [
              "<span style='color:None;font-size:None'>**Nublar _(Blur)_** lvl 2<br></span><span style='color:None;font-size:13px'>&emsp;**Escola(s):** ilusionista<br>&emsp;**Tempo conjuração:** 1 ação<br>&emsp;**Alcance:** pessoal<br>&emsp;**Componentes:** V<br>&emsp;**Mana:** 600 (_+ 10 por turno_)<br>&emsp;**Duração:** concentração, até 1 minuto<br></span><span style='color:None;font-size:None'>Seu corpo se torna turvo, mudando e oscilando para todos que puderem ver você. Pela duração, qualquer criatura terá desvantagem nas jogadas de ataque contra você. Um atacante é imune a esse efeito se não depender de visão, como os que tenham percepção às cegas ou os que puderem ver através de ilusões, como os com visão verdadeira. **Melhorar Magia**. Gastando mais 1000 de mana e mais 20 por turno, você pode escolher uma criatura amigável que não seja você para ser o alvo da magia.<br></span><span style='color:gray;font-size:11px'>[buff, defesa]<br></span><span style='color:gray;font-size:11px'>[bardo, bruxo, clérigo, feiticeiro, guerreiro, ladino, mago, monge, paladino]<br></span><span style='color:gray;font-size:10px'>_LDJ_</span>"
            ],
            "text/plain": [
              "<IPython.core.display.Markdown object>"
            ]
          },
          "metadata": {},
          "output_type": "display_data"
        },
        {
          "name": "stdout",
          "output_type": "stream",
          "text": [
            "\n"
          ]
        },
        {
          "data": {
            "text/markdown": [
              "<span style='color:None;font-size:None'>**Nuvem de Adagas _(Cloud of Daggers)_** lvl 2<br></span><span style='color:None;font-size:13px'>&emsp;**Escola(s):** elemental (_água, terra, fogo, ar, luz, sombras, relâmpago, metal, veneno_)<br>&emsp;**Tempo conjuração:** 1 ação<br>&emsp;**Alcance:** 18 metros<br>&emsp;**Componentes:** VSM _(uma lasca de vidro)_<br>&emsp;**Mana:** 650 (_+ 10 por turno_)<br>&emsp;**Duração:** concentração, até 1 minuto<br>&emsp;**Dano**: 4d4<br>&emsp;**Dmg/effect:** elemental<br></span><span style='color:None;font-size:None'>Você preenche o ar com adagas giratórias num cubo de 1,5 metro quadrado, centrado em um ponto, à sua escolha, dentro do alcance. Uma criatura sofre 4d4 de dano cortante quando entra na área da magia pela primeira vez no turno dela ou começa seu turno na área.<br>&emsp;**Melhorar Magia**. Para cada 650 de pontos de mana adicionais gastos, adicione mais 2d4 ao dano, até um máximo de 10d4 adicionais.<br></span><span style='color:gray;font-size:11px'>[controle, dano]<br></span><span style='color:gray;font-size:11px'>[bardo, ladino, mago]<br></span><span style='color:gray;font-size:10px'>_LDJ_</span>"
            ],
            "text/plain": [
              "<IPython.core.display.Markdown object>"
            ]
          },
          "metadata": {},
          "output_type": "display_data"
        },
        {
          "name": "stdout",
          "output_type": "stream",
          "text": [
            "\n"
          ]
        },
        {
          "data": {
            "text/markdown": [
              "<span style='color:None;font-size:None'>**Oração Curativa _(Prayer of Healing)_** lvl 2<br></span><span style='color:None;font-size:13px'>&emsp;**Escola(s):** elemental, espiritual, musical (_água, luz_)<br>&emsp;**Tempo conjuração:** 10 minutos<br>&emsp;**Alcance:** 9 metros<br>&emsp;**Componentes:** V<br>&emsp;**Mana:** 750<br>&emsp;**Duração:** instantânea<br>&emsp;**Dano**: 1d6<br>&emsp;**Attack/Save:** DEX Save<br>&emsp;**Dmg/effect:** fogo<br></span><span style='color:None;font-size:None'>Até seis criaturas, à sua escolha, que você possa ver, dentro do alcance, recuperam uma quantidade de pontos de vida igual a 2d8 + seu modificador de habilidade de conjuração, cada uma. Essa magia não afeta mortos-vivos ou constructos.<br>&emsp;**Melhorar Magia**. Para cada 700 de mana adicionais gastos, adicione 1d8 à cura, até um máximo de 5d8 adicionais.<br></span><span style='color:gray;font-size:11px'>[cura]<br></span><span style='color:gray;font-size:11px'>[bardo, clérigo, monge, paladino]<br></span><span style='color:gray;font-size:10px'>_LDJ_</span>"
            ],
            "text/plain": [
              "<IPython.core.display.Markdown object>"
            ]
          },
          "metadata": {},
          "output_type": "display_data"
        },
        {
          "name": "stdout",
          "output_type": "stream",
          "text": [
            "\n"
          ]
        },
        {
          "data": {
            "text/markdown": [
              "<span style='color:None;font-size:None'>**Parede de Vento _(Custom)_** lvl 2<br></span><span style='color:None;font-size:13px'>&emsp;**Escola(s):** elemental (_ar_)<br>&emsp;**Tempo conjuração:** 1 ação<br>&emsp;**Alcance:** pessoal<br>&emsp;**Componentes:** VS<br>&emsp;**Mana:** 400<br>&emsp;**Duração:** 1 turno<br></span><span style='color:None;font-size:None'>Você conjura uma parede de vento de 1,5m de largura em um quadrado desocupado a 1,5m de você.<br>&emsp;Se uma criatura tentar fazer qualquer tipo de ataque à distância que passe pela parede, então você deve gastar 50 vezes o nível da magia utilizada (mínimo 50 caso não seja magia ou seja um truque) e você anula completamente a magia. Você pode escolhe não gastar a quantidade de mana necessária para defender o ataque, nesse caso, ele passará pela parede normalmente.<br>&emsp;Os quadrados ocupados pela parede se tornam terreno difícil, exceto para você.<br>&emsp;**Melhorar Magia** Você pode gastar mais 500 de mana e aumentar o multiplicador para 100 vezes o nível da magia utilizada para aumentar a largura da parede para 3m. Ou você pode gastar mais 2000 de mana e aumentar o multiplicador para 250 vezes o nível da magia utilizada para aumentar a largura da parede para 4,5m.<br></span><span style='color:gray;font-size:11px'>[defesa]<br></span><span style='color:gray;font-size:11px'>[bardo, guerreiro, ladino, mago, monge]<br></span><span style='color:gray;font-size:10px'>_Custom_</span>"
            ],
            "text/plain": [
              "<IPython.core.display.Markdown object>"
            ]
          },
          "metadata": {},
          "output_type": "display_data"
        },
        {
          "name": "stdout",
          "output_type": "stream",
          "text": [
            "\n"
          ]
        },
        {
          "data": {
            "text/markdown": [
              "<span style='color:None;font-size:None'>**Passeio Cinético _(Kinetic Jaunt)_** lvl 2<br></span><span style='color:None;font-size:13px'>&emsp;**Escola(s):** elemental (_ar, luz, relâmpago_)<br>&emsp;**Tempo conjuração:** 1 ação bônus<br>&emsp;**Alcance:** pessoal<br>&emsp;**Componentes:** S<br>&emsp;**Mana:** 750 (_+ 10 por turno_)<br>&emsp;**Duração:** concentração, até 1 minuto<br></span><span style='color:None;font-size:None'>Você magicamente empodera seu movimento com passos leves como de uma dança, dando a você mesmo os seguintes benefícios:<br>&emsp;- Seu movimento de caminhada aumenta em 3 metros;<br>&emsp;- Você não provoca ataques de oportunidade;<br>&emsp;- Você pode mover pelo espaço de outra criatura e ele não isso não conta como terreno difícil.<br></span><span style='color:gray;font-size:11px'>[buff]<br></span><span style='color:gray;font-size:11px'>[bardo, bruxo, clérigo, feiticeiro, guerreiro, ladino, mago, monge, paladino]<br></span><span style='color:gray;font-size:10px'>_Etc._</span>"
            ],
            "text/plain": [
              "<IPython.core.display.Markdown object>"
            ]
          },
          "metadata": {},
          "output_type": "display_data"
        },
        {
          "name": "stdout",
          "output_type": "stream",
          "text": [
            "\n"
          ]
        },
        {
          "data": {
            "text/markdown": [
              "<span style='color:None;font-size:None'>**Passo Nebuloso _(Misty Step)_** lvl 2<br></span><span style='color:None;font-size:13px'>&emsp;**Escola(s):** elemental (_luz, sombras, relâmpago_)<br>&emsp;**Tempo conjuração:** 1 ação bônus<br>&emsp;**Alcance:** pessoal<br>&emsp;**Componentes:** V<br>&emsp;**Mana:** 700<br>&emsp;**Duração:** instantânea<br></span><span style='color:None;font-size:None'>Você se teletransporta a até 9 metro para um espaço desocupado que você possa ver.<br></span><span style='color:gray;font-size:11px'>[exploração]<br></span><span style='color:gray;font-size:11px'>[bardo, bruxo, clérigo, feiticeiro, guerreiro, ladino, mago, monge, paladino]<br></span><span style='color:gray;font-size:10px'>_LDJ_</span>"
            ],
            "text/plain": [
              "<IPython.core.display.Markdown object>"
            ]
          },
          "metadata": {},
          "output_type": "display_data"
        },
        {
          "name": "stdout",
          "output_type": "stream",
          "text": [
            "\n"
          ]
        },
        {
          "data": {
            "text/markdown": [
              "<span style='color:None;font-size:None'>**Passos sem Pegadas _(Pass without Trace)_** lvl 2<br></span><span style='color:None;font-size:13px'>&emsp;**Escola(s):** elemental, ilusionista (_sombras_)<br>&emsp;**Tempo conjuração:** 1 ação<br>&emsp;**Alcance:** pessoal<br>&emsp;**Componentes:** VSM _(cinzas de uma folha de visco queimada e um ramo de pinheiro)_<br>&emsp;**Mana:** 700 (_+ 10 a cada 10 minutos_)<br>&emsp;**Duração:** instantânea<br></span><span style='color:None;font-size:None'>Um véu de sombras e silêncio irradia de você, encobrindo você e seus companheiros contra detecção. Pela duração, cada criatura, à sua escolha, a até 9 metros de você (incluindo você) recebe +10 de bônus em testes de Destreza (Furtividade) e não pode ser rastreada, exceto por meio mágicos. Uma criatura que receber esse bônus não deixa quaisquer pegadas ou outros vestígios da sua passagem<br></span><span style='color:gray;font-size:11px'>[buff, exploração]<br></span><span style='color:gray;font-size:11px'>[bardo, bruxo, clérigo, feiticeiro, guerreiro, ladino, mago, monge, paladino]<br></span><span style='color:gray;font-size:10px'>_LDJ_</span>"
            ],
            "text/plain": [
              "<IPython.core.display.Markdown object>"
            ]
          },
          "metadata": {},
          "output_type": "display_data"
        },
        {
          "name": "stdout",
          "output_type": "stream",
          "text": [
            "\n"
          ]
        },
        {
          "data": {
            "text/markdown": [
              "<span style='color:None;font-size:None'>**Patas de Aranha _(Spider Climb)_** lvl 2<br></span><span style='color:None;font-size:13px'>&emsp;**Escola(s):** elemental (_água, terra, metal_)<br>&emsp;**Tempo conjuração:** 1 ação<br>&emsp;**Alcance:** toque<br>&emsp;**Componentes:** VSM _(uma gota de betume e uma aranha)_<br>&emsp;**Mana:** 640 (_+ 10 a cada 10 minutos_)<br>&emsp;**Duração:** concentração, até 1 hora<br></span><span style='color:None;font-size:None'>Até a magia acabar, uma criatura voluntária que você tocar, recebe a habilidade de se mover para cima, para baixo e através de superfícies verticais e de cabeça para baixo pelos tetos, enquanto deixa suas mãos livres. O alvo também ganha deslocamento de escalada igual a seu deslocamento de caminhada.<br></span><span style='color:gray;font-size:11px'>[buff, exploração, toque]<br></span><span style='color:gray;font-size:11px'>[bardo, bruxo, clérigo, feiticeiro, guerreiro, ladino, mago, monge, paladino]<br></span><span style='color:gray;font-size:10px'>_LDJ_</span>"
            ],
            "text/plain": [
              "<IPython.core.display.Markdown object>"
            ]
          },
          "metadata": {},
          "output_type": "display_data"
        },
        {
          "name": "stdout",
          "output_type": "stream",
          "text": [
            "\n"
          ]
        },
        {
          "data": {
            "text/markdown": [
              "<span style='color:None;font-size:None'>**Pele de Árvore _(Barkskin)_** lvl 2<br></span><span style='color:None;font-size:13px'>&emsp;**Escola(s):** elemental (_terra, metal_)<br>&emsp;**Tempo conjuração:** 1 ação<br>&emsp;**Alcance:** toque<br>&emsp;**Componentes:** VSM _(um pedaço de casca de carvalho)_<br>&emsp;**Mana:** 700 (_+ 10 a cada 5 minutos_)<br>&emsp;**Duração:** concentração, até 1 hora<br></span><span style='color:None;font-size:None'>Você toca uma criatura voluntária. Até o fim da magia, a pele da criatura fica rígida e a CA agora é no mínimo 16, independentemente do tipo de armadura que ela esteja vestindo.<br></span><span style='color:gray;font-size:11px'>[buff, defesa, toque]<br></span><span style='color:gray;font-size:11px'>[bardo, clérigo, guerreiro, ladino, mago, monge]<br></span><span style='color:gray;font-size:10px'>_LDJ_</span>"
            ],
            "text/plain": [
              "<IPython.core.display.Markdown object>"
            ]
          },
          "metadata": {},
          "output_type": "display_data"
        },
        {
          "name": "stdout",
          "output_type": "stream",
          "text": [
            "\n"
          ]
        },
        {
          "data": {
            "text/markdown": [
              "<span style='color:None;font-size:None'>**Pirotecnia _(Pyrotechnics)_** lvl 2<br></span><span style='color:None;font-size:13px'>&emsp;**Escola(s):** elemental (_fogo_)<br>&emsp;**Tempo conjuração:** 1 ação<br>&emsp;**Alcance:** 18 metros<br>&emsp;**Componentes:** VS<br>&emsp;**Mana:** 750<br>&emsp;**Duração:** instantânea<br>&emsp;**Attack/Save:** CON Save<br></span><span style='color:None;font-size:None'>Escolha uma área de chamas que você possa ver e que caiba num cubo de 1,5 metros, dentro do alcance. Você pode extinguir o fogo na área e criar tanto fogos de artificio quanto fumaça.<br>&emsp;**_Fogos de Artifício_**. O alvo explode em uma apresentação incrível de cores. Cada criatura a até 3 metros do alvo deve ser bem sucedida num teste de resistência de Constituição ou ficará cega até o final do seu próximo turno.<br>&emsp;**_Fumaça_**. Uma fumaça negra e espessa se espalha do alvo num raio de 6 metros, dobrando esquinas. A área da fumaça é de escuridão densa.  A fumaça persiste por 1 minuto ou até um vento forte dispersa-la.<br></span><span style='color:gray;font-size:11px'>[controle, debuff]<br></span><span style='color:gray;font-size:11px'>[bardo, bruxo, clérigo, feiticeiro, guerreiro, ladino, mago, monge, paladino]<br></span><span style='color:gray;font-size:10px'>_Xanathar_</span>"
            ],
            "text/plain": [
              "<IPython.core.display.Markdown object>"
            ]
          },
          "metadata": {},
          "output_type": "display_data"
        },
        {
          "name": "stdout",
          "output_type": "stream",
          "text": [
            "\n"
          ]
        },
        {
          "data": {
            "text/markdown": [
              "<span style='color:None;font-size:None'>**Proteção contra o Veneno _(Protection from Poison)_** lvl 2 (Rara)<br></span><span style='color:None;font-size:13px'>&emsp;**Escola(s):** elemental (_água, luz, veneno_)<br>&emsp;**Tempo conjuração:** 1 ação<br>&emsp;**Alcance:** toque<br>&emsp;**Componentes:** VS<br>&emsp;**Mana:** 1000<br>&emsp;**Duração:** 1 hora<br></span><span style='color:None;font-size:None'>Você toca uma criatura. Se ela estiver envenenada, você neutraliza o veneno. Se mais de um veneno estiver afligindo o alvo, você neutraliza um veneno, que você saiba estar presente, ou neutraliza um aleatório.<br>&emsp;Pela duração, o alvo terá vantagem em testes de resistência para não envenenado e terá resistência a dano de veneno.<br></span><span style='color:gray;font-size:11px'>[defesa, toque]<br></span><span style='color:gray;font-size:11px'>[bardo, bruxo, clérigo, feiticeiro, guerreiro, ladino, mago, monge, paladino]<br></span><span style='color:gray;font-size:10px'>_LDJ_</span>"
            ],
            "text/plain": [
              "<IPython.core.display.Markdown object>"
            ]
          },
          "metadata": {},
          "output_type": "display_data"
        },
        {
          "name": "stdout",
          "output_type": "stream",
          "text": [
            "\n"
          ]
        },
        {
          "data": {
            "text/markdown": [
              "<span style='color:None;font-size:None'>**Raio Elemental _(Scorching Ray)_** lvl 2<br></span><span style='color:None;font-size:13px'>&emsp;**Escola(s):** elemental (_água, terra, fogo, ar, luz, sombras, relâmpago, metal, veneno_)<br>&emsp;**Tempo conjuração:** 1 ação<br>&emsp;**Alcance:** 36 metros<br>&emsp;**Componentes:** VS<br>&emsp;**Mana:** 800<br>&emsp;**Duração:** instantânea<br>&emsp;**Dano**: 6d6<br></span><span style='color:None;font-size:None'>Você cria três raios elementais e os arremessa em alvos dentro do alcance. Você pode arremessa-los em um alvo ou em vários.<br>&emsp;Realize um ataque à distância com magia para cada raio. Se atingir, o alvo sofrerá 2d6 de dano elemental.<br>&emsp;**Melhorar Magia**. Para cada 600 de mana adicionais gastos, adicione mais 1d6 ao dano de cada raio.<br></span><span style='color:gray;font-size:11px'>[dano, distância]<br></span><span style='color:gray;font-size:11px'>[bardo, bruxo, clérigo, feiticeiro, guerreiro, ladino, mago, monge, paladino]<br></span><span style='color:gray;font-size:10px'>_LDJ_</span>"
            ],
            "text/plain": [
              "<IPython.core.display.Markdown object>"
            ]
          },
          "metadata": {},
          "output_type": "display_data"
        },
        {
          "name": "stdout",
          "output_type": "stream",
          "text": [
            "\n"
          ]
        },
        {
          "data": {
            "text/markdown": [
              "<span style='color:None;font-size:None'>**Raio Lunar _(Moonbeam)_** lvl 2<br></span><span style='color:None;font-size:13px'>&emsp;**Escola(s):** elemental (_fogo, luz_)<br>&emsp;**Tempo conjuração:** 1 ação<br>&emsp;**Alcance:** 36 metros<br>&emsp;**Componentes:** VSM _(várias sementes de qualquer planta lunar e um pedaço de feldspato opalescente)_<br>&emsp;**Mana:** 750 (_+ 10 por turno_)<br>&emsp;**Duração:** concentração, até 1 minuto<br>&emsp;**Dano**: 2d10<br>&emsp;**Attack/Save:** CON Save<br>&emsp;**Dmg/effect:** radiante<br></span><span style='color:None;font-size:None'>Um raio prateado de luz pálida brilha para baixo em um cilindro com 1,5 metro de raio e 12 metros de altura, centrado num ponto dentro do alcance. Até a magia acabar, penumbra preenche o cilindro.<br>&emsp;Quando uma criatura entrar na área da magia pela primeira vez em um turno, ou começar seu turno lá, ela é engolfada por chamas fantasmagóricas que causam dores lancinantes e ela deve realizar um teste de resistência de Constituição. Ela sofre 2d10 de dano radiante se falhar na resistência ou metade desse dano se passar.<br>&emsp;Um metamorfo faz seu teste de resistência com desvantagem. Se ele falhar, ele, também, reverte instantaneamente para sua forma original e não pode assumir uma forma diferente até deixar a luz da magia.<br>&emsp;Em cada um dos seus turnos após conjurar essa magia, você pode usar uma ação e mais 10 de mana para mover o raio 18 metros em qualquer direção.<br>&emsp;**Melhorar Magia**. Gastando 600 a mais de mana e 10 a mais por turno, você pode adicionar mais 1d10 ao dano, até um máximo de 3d10 extras.<br></span><span style='color:gray;font-size:11px'>[controle, dano]<br></span><span style='color:gray;font-size:11px'>[bardo, mago, monge]<br></span><span style='color:gray;font-size:10px'>_LDJ_</span>"
            ],
            "text/plain": [
              "<IPython.core.display.Markdown object>"
            ]
          },
          "metadata": {},
          "output_type": "display_data"
        },
        {
          "name": "stdout",
          "output_type": "stream",
          "text": [
            "\n"
          ]
        },
        {
          "data": {
            "text/markdown": [
              "<span style='color:None;font-size:None'>**Raio do Enfraquecimento _(Ray of Enfeeblement)_** lvl 2<br></span><span style='color:None;font-size:13px'>&emsp;**Escola(s):** elemental, necromancia, musical (_sombras, metal, veneno_)<br>&emsp;**Tempo conjuração:** 1 ação<br>&emsp;**Alcance:** 18 metros<br>&emsp;**Componentes:** VS<br>&emsp;**Mana:** 750 (_+ 10 de mana por turno_)<br>&emsp;**Duração:** concentração, até 1 minuto<br>&emsp;**Attack/Save:** CON Save<br></span><span style='color:None;font-size:None'>Um raio negro de energia enervante parte em direção de uma criatura, dentro do alcance. Faça um ataque à distância com magia contra o alvo. Se atingir, o alvo causará metade do dano com ataques com armas que usem Força, até a magia acabar.<br>&emsp;No final de cada um dos turnos do alvo, ele pode realizar um teste de resistência de Constituição contra a magia. Se obtiver sucesso, a magia acaba.<br></span><span style='color:gray;font-size:11px'>[debuff, distância]<br></span><span style='color:gray;font-size:11px'>[bardo, bruxo, clérigo, feiticeiro, mago]<br></span><span style='color:gray;font-size:10px'>_LDJ_</span>"
            ],
            "text/plain": [
              "<IPython.core.display.Markdown object>"
            ]
          },
          "metadata": {},
          "output_type": "display_data"
        },
        {
          "name": "stdout",
          "output_type": "stream",
          "text": [
            "\n"
          ]
        },
        {
          "data": {
            "text/markdown": [
              "<span style='color:None;font-size:None'>**Rebanho de Familiares _(Flock of Familiars)_** lvl 2<br></span><span style='color:None;font-size:13px'>&emsp;**Escola(s):** invocação<br>&emsp;**Tempo conjuração:** 1 minuto<br>&emsp;**Alcance:** toque<br>&emsp;**Componentes:** VS<br>&emsp;**Mana:** 1400 (_+ 50 a cada 5 minutos_)<br>&emsp;**Duração:** concentração, até 1 hora<br></span><span style='color:None;font-size:None'>Você temporariamente invoca três familiares - espíritos que tomam formas animais a sua escolha. Cada familiar usa as mesmas regras e opções de familiar invocado pela magia _Conjurar Familiar_.<br>&emsp;Familiares invocador por essa magia podem se comunicar telepaticamente com você e compartilhar sua visão e audição enquanto eles estão a até 1,6 quilômetros de você.<br>&emsp;Quando você conjura uma magia com alcance de Toque, um dos familiares pode transmitir essa magia normalmente. Entretanto, você só pode usar apenas um familiar por turno para conjurar uma magia de Toque.<br>&emsp;**Melhorar Magia**. Para cada 1000 pontos de mana adicionais, você pode convocar mais um familiar, até um máximo de 5 familiares.<br></span><span style='color:gray;font-size:11px'>[comunicação, detecção, exploração]<br></span><span style='color:gray;font-size:11px'>[bardo, bruxo, clérigo, feiticeiro, guerreiro, ladino, mago, monge, paladino]<br></span><span style='color:gray;font-size:10px'>_Etc._</span>"
            ],
            "text/plain": [
              "<IPython.core.display.Markdown object>"
            ]
          },
          "metadata": {},
          "output_type": "display_data"
        },
        {
          "name": "stdout",
          "output_type": "stream",
          "text": [
            "\n"
          ]
        },
        {
          "data": {
            "text/markdown": [
              "<span style='color:None;font-size:None'>**Reflexos _(Mirror Image)_** lvl 2<br></span><span style='color:None;font-size:13px'>&emsp;**Escola(s):** ilusionista<br>&emsp;**Tempo conjuração:** 1 ação<br>&emsp;**Alcance:** pessoal<br>&emsp;**Componentes:** VS<br>&emsp;**Mana:** 750<br>&emsp;**Duração:** 1 minuto<br></span><span style='color:None;font-size:None'>Três duplicatas ilusórias de você aparecem no seu espaço.  Até a magia acabar, as duplicatas se movem com você e copiam as suas ações, trocando de posição, tornando impossível rastrear qual imagem é real. Você pode usar sua ação para dissipar as duplicatas ilusórias.<br>&emsp;Cada vez que uma criatura mirar você com um ataque enquanto a magia durar, role um d20 para determinar se o ataque, em vez de você, mira uma das suas duplicatas.<br>&emsp;Se você tiver três duplicatas, você deve rolar um 6 ou maior para mudar o alvo do ataque para uma duplicata.  Com duas duplicatas, você deve rolar um 8 ou maior. Com uma duplicata, você deve rolar um 11 ou maior.<br>&emsp;A CA de uma duplicata é igual a 10 + seu modificador de Destreza. Se um ataque atingir uma duplicata, ela é destruída. Uma duplicata só pode ser destruída por um ataque que a atinja. Ela ignora todos os outros danos e efeitos. A magia acaba quando todas as três duplicatas forem destruídas.<br>&emsp;Uma criatura não pode ser afetada por essa magia se não puder enxergar, se ela contar com outros sentidos além da visão, como percepção às cegas, ou se ela puder perceber ilusões como falsas, como com visão verdadeira.<br></span><span style='color:gray;font-size:11px'>[debuff, defesa]<br></span><span style='color:gray;font-size:11px'>[bardo, bruxo, clérigo, feiticeiro, guerreiro, ladino, mago, monge, paladino]<br></span><span style='color:gray;font-size:10px'>_LDJ_</span>"
            ],
            "text/plain": [
              "<IPython.core.display.Markdown object>"
            ]
          },
          "metadata": {},
          "output_type": "display_data"
        },
        {
          "name": "stdout",
          "output_type": "stream",
          "text": [
            "\n"
          ]
        },
        {
          "data": {
            "text/markdown": [
              "<span style='color:None;font-size:None'>**Repouso Tranquilo _(Gentle Repose)_** lvl 2<br></span><span style='color:None;font-size:13px'>&emsp;**Escola(s):** elemental, necromancia, espiritual (_água, luz, veneno_)<br>&emsp;**Tempo conjuração:** 1 ação<br>&emsp;**Alcance:** toque<br>&emsp;**Componentes:** VSM _(uma pitada de sal e uma peça de cobre colocada em cada um dos olhos do corpo, que devem permanecer ai pela duração)_<br>&emsp;**Mana:** 1000<br>&emsp;**Duração:** 10 dias<br></span><span style='color:None;font-size:None'>Você toca um corpo ou outros restos mortais. Pela duração, o alvo estará protegido de decomposição e não pode se tornar um morto-vivo.<br>&emsp;A magia também estende, efetivamente, o limite de tempo para que o alvo seja trazido de volta a vida, já que os dias passados sob a influência dessa magia não contam no tempo limite de tais magias, como _reviver os mortos_.<br></span><span style='color:gray;font-size:11px'>[defesa, toque]<br></span><span style='color:gray;font-size:11px'>[bardo, bruxo, clérigo, feiticeiro, mago, monge, paladino]<br></span><span style='color:gray;font-size:10px'>_LDJ_</span>"
            ],
            "text/plain": [
              "<IPython.core.display.Markdown object>"
            ]
          },
          "metadata": {},
          "output_type": "display_data"
        },
        {
          "name": "stdout",
          "output_type": "stream",
          "text": [
            "\n"
          ]
        },
        {
          "data": {
            "text/markdown": [
              "<span style='color:None;font-size:None'>**Restauração Menor _(Lesser Restoration)_** lvl 2<br></span><span style='color:None;font-size:13px'>&emsp;**Escola(s):** elemental (_água, terra, luz, veneno_)<br>&emsp;**Tempo conjuração:** 1 ação<br>&emsp;**Alcance:** toque<br>&emsp;**Componentes:** VS<br>&emsp;**Mana:** 800<br>&emsp;**Duração:** instantânea<br></span><span style='color:None;font-size:None'>Você toca uma criatura e pode ou acabar com uma doença ou uma condição que a esteja afligindo. A condição pode ser cega, surda, paralisada ou envenenada.<br></span><span style='color:gray;font-size:11px'>[buff, defesa]<br></span><span style='color:gray;font-size:11px'>[bardo, bruxo, clérigo, feiticeiro, mago, monge, paladino]<br></span><span style='color:gray;font-size:10px'>_LDJ_</span>"
            ],
            "text/plain": [
              "<IPython.core.display.Markdown object>"
            ]
          },
          "metadata": {},
          "output_type": "display_data"
        },
        {
          "name": "stdout",
          "output_type": "stream",
          "text": [
            "\n"
          ]
        },
        {
          "data": {
            "text/markdown": [
              "<span style='color:None;font-size:None'>**Sentido Bestial _(Beast Sense)_** lvl 2<br></span><span style='color:None;font-size:13px'>&emsp;**Escola(s):** elemental, musical, invocação (_terra_)<br>&emsp;**Tempo conjuração:** 1 ação<br>&emsp;**Alcance:** toque<br>&emsp;**Componentes:** S<br>&emsp;**Mana:** 500 (_+ 20 a cada 5 minutos_)<br>&emsp;**Duração:** concentração, até 1 hora<br></span><span style='color:None;font-size:None'>Você toca uma besta voluntária. Pela duração da magia, você pode usar sua ação para ver através dos olhos e ouvir através dos ouvidos da besta e continua a fazê-lo até você usar sua ação para retornar aos seus sentidos normais.<br>&emsp;Enquanto estiver utilizando os sentidos da besta, você ganha os benefícios de qualquer sentido especial possuído pela criatura, no entanto, você estará cego e surdo em relação aos seus próprios sentidos.<br></span><span style='color:gray;font-size:11px'>[exploração, toque]<br></span><span style='color:gray;font-size:11px'>[bardo, bruxo, clérigo, feiticeiro, guerreiro, ladino, mago, monge, paladino]<br></span><span style='color:gray;font-size:10px'>_LDJ_</span>"
            ],
            "text/plain": [
              "<IPython.core.display.Markdown object>"
            ]
          },
          "metadata": {},
          "output_type": "display_data"
        },
        {
          "name": "stdout",
          "output_type": "stream",
          "text": [
            "\n"
          ]
        },
        {
          "data": {
            "text/markdown": [
              "<span style='color:None;font-size:None'>**Silêncio _(Silence)_** lvl 2<br></span><span style='color:None;font-size:13px'>&emsp;**Escola(s):** ilusionista, musical<br>&emsp;**Tempo conjuração:** 1 ação<br>&emsp;**Alcance:** 36 metros<br>&emsp;**Componentes:** VS<br>&emsp;**Mana:** 700 (_+ 15 por minuto_)<br>&emsp;**Duração:** concentração, até 10 minutos<br></span><span style='color:None;font-size:None'>Pela duração, nenhum som pode ser criado dentro ou atravessar uma esfera de 6 metros de raio centrada num ponto, à sua escolha, dentro do alcance. Qualquer criatura ou objeto totalmente dentro da esfera é imune a dano trovejante e as criaturas estarão surdas enquanto estiverem completamente dentro dela. Conjurar magias que inclua a componente verbal é impossível ai.<br></span><span style='color:gray;font-size:11px'>[controle, debuff, defesa]<br></span><span style='color:gray;font-size:11px'>[bardo, bruxo, clérigo, feiticeiro, mago, monge, paladino]<br></span><span style='color:gray;font-size:10px'>_LDJ_</span>"
            ],
            "text/plain": [
              "<IPython.core.display.Markdown object>"
            ]
          },
          "metadata": {},
          "output_type": "display_data"
        },
        {
          "name": "stdout",
          "output_type": "stream",
          "text": [
            "\n"
          ]
        },
        {
          "data": {
            "text/markdown": [
              "<span style='color:None;font-size:None'>**Sopro de Gelo _(Rime's Binding Ice)_** lvl 2<br></span><span style='color:None;font-size:13px'>&emsp;**Escola(s):** elemental (_água_)<br>&emsp;**Tempo conjuração:** 1 ação<br>&emsp;**Alcance:** pessoal<br>&emsp;**Componentes:** SM _(uma gota de água)_<br>&emsp;**Mana:** 850<br>&emsp;**Duração:** instantânea<br>&emsp;**Dano**: 3d8<br>&emsp;**Attack/Save:** CON Save<br>&emsp;**Dmg/effect:** congelante<br></span><span style='color:None;font-size:None'>Uma explosão de frio emana de você em um cone de 9 metros. Cada criatura na área deve fazer uma salvaguarda de Constituição. Se falhar, a criatura recebe 3d8 de dano de frio e fica impedido por uma formação de gelo por 1 minuto ou até uma criatura dentro de 1,5m da impedida utilizar sua ação para quebrar o gelo. Em um sucesso, a criatura recebe metade do dano e não fica impedida pelo gelo.<br>&emsp;**Melhorar Magia**. Para cada 600 pontos de mana adicionais gastos, adicione 1d8 ao dano, até um máximo de 4d8 adicionais.<br></span><span style='color:gray;font-size:11px'>[controle, dano]<br></span><span style='color:gray;font-size:11px'>[bardo, bruxo, clérigo, feiticeiro, guerreiro, mago, paladino]<br></span><span style='color:gray;font-size:10px'>_LDJ_</span>"
            ],
            "text/plain": [
              "<IPython.core.display.Markdown object>"
            ]
          },
          "metadata": {},
          "output_type": "display_data"
        },
        {
          "name": "stdout",
          "output_type": "stream",
          "text": [
            "\n"
          ]
        },
        {
          "data": {
            "text/markdown": [
              "<span style='color:None;font-size:None'>**Sugestão _(Suggestion)_** lvl 2<br></span><span style='color:None;font-size:13px'>&emsp;**Escola(s):** ilusionista, musical<br>&emsp;**Tempo conjuração:** 1 ação<br>&emsp;**Alcance:** 9 metros<br>&emsp;**Componentes:** VM _(uma língua de cobra e, ou um pedaço de favo de mel ou uma gota de azeite doce)_<br>&emsp;**Mana:** 600 (_+ 10 por hora_)<br>&emsp;**Duração:** concentração, até 8 horas<br>&emsp;**Attack/Save:** WIS Save<br></span><span style='color:None;font-size:None'>Você sugere um curso de atividade (limitado a uma ou duas sentenças) e, magicamente, influencia um criatura que você possa ver, dentro do alcance, e que possa ouvir e compreender você. Criaturas que não podem ser enfeitiçadas são imunes a esse efeito. A sugestão deve ser formulada de modo que o curso de ação soe razoável. Dizer para a criatura se esfaquear, se arremessar em uma lança, tocar fogo em si mesma ou fazer algum outro ato obviamente nocivo anulará o efeito da magia.<br>&emsp;O alvo deve realizar um teste de resistência de Sabedoria. Se falhar na resistência, ele seguirá o curso de ação que você descreveu, da melhor forma possível. O curso de ação sugerido pode continuar por toda a duração. Se a atividade sugerida puder ser completada em um tempo menor, a magia termina quando o alvo completar o que lhe foi dito para que fizesse.<br>&emsp;Você pode, também, especificar condições que irão ativar uma atividade especial pela duração. Por exemplo, você poderia sugerir a um cavaleiro que entregasse seu cavalo de guerra ao primeiro mendigo que ele encontrar. Se a condição não for satisfeita antes da magia expirar, a atividade não será concluída.<br>&emsp;Se você ou um dos seus companheiros causar dano a uma criatura afetada por essa magia, a magia termina.<br></span><span style='color:gray;font-size:11px'>[controle, debuff, social]<br></span><span style='color:gray;font-size:11px'>[bardo, bruxo, clérigo, feiticeiro, guerreiro, ladino, mago, monge, paladino]<br></span><span style='color:gray;font-size:10px'>_LDJ_</span>"
            ],
            "text/plain": [
              "<IPython.core.display.Markdown object>"
            ]
          },
          "metadata": {},
          "output_type": "display_data"
        },
        {
          "name": "stdout",
          "output_type": "stream",
          "text": [
            "\n"
          ]
        },
        {
          "data": {
            "text/markdown": [
              "<span style='color:None;font-size:None'>**Teia _(Web)_** lvl 2<br></span><span style='color:None;font-size:13px'>&emsp;**Escola(s):** elemental, necromancia (_terra, veneno_)<br>&emsp;**Tempo conjuração:** 1 ação<br>&emsp;**Alcance:** 18 metros<br>&emsp;**Componentes:** VSM _(um pedaço de teia de aranha)_<br>&emsp;**Mana:** 540 (_+ 10 a cada 10 minutos_)<br>&emsp;**Duração:** concentração, até 1 hora<br>&emsp;**Dano**: 2d4<br>&emsp;**Attack/Save:** DEX Save<br>&emsp;**Dmg/effect:** fogo<br></span><span style='color:None;font-size:None'>Você conjura uma massa de teias espessas e pegajosas num ponto, à sua escolha, dentro do alcance. As teias preenchem um cubo de 6 metros naquele ponto, pela duração. As teias são terreno difícil e causam escuridão leve na área delas.<br>&emsp;Se as teias não estiverem sendo suportadas por duas massas sólidas (como duas paredes ou árvores) ou em camadas sobre um chão, parede ou teto, a teia conjurada desaba sobre si mesma e a magia termina no início do seu próximo turno. As teias em camadas sobre uma superfície plana terão 1,5 metro de profundidade.<br>&emsp;Cada criatura que começar seu turno nas teias ou entrar nelas durante seu turno, deve realizar um teste de resistência de Destreza. Se falhar na resistência, a criatura estará impedida enquanto permanecer nas teias ou até se libertar.<br>&emsp;Uma criatura impedida pelas teias pode usar sua ação para realizar um teste de Força contra a CD da magia. Se obtiver sucesso, ela não estará mais impedida.<br>&emsp;As teias são inflamáveis. Qualquer cubo de 1,5 metro de teia exposto ao fogo, é consumida por ele em 1 rodada, causando 2d4 de dano de fogo a qualquer criatura que começar seu turno nas chamas.<br>&emsp;[Veneno | Necromancia] Sempre que uma criatura se move dentro da área ocupada pela teia ou quando começa o turna nela, ela recebe 1d4 de dano de veneno.<br></span><span style='color:gray;font-size:11px'>[controle, dano, debuff]<br></span><span style='color:gray;font-size:11px'>[bardo, bruxo, clérigo, feiticeiro, guerreiro, ladino, mago, monge, paladino]<br></span><span style='color:gray;font-size:10px'>_LDJ_</span>"
            ],
            "text/plain": [
              "<IPython.core.display.Markdown object>"
            ]
          },
          "metadata": {},
          "output_type": "display_data"
        },
        {
          "name": "stdout",
          "output_type": "stream",
          "text": [
            "\n"
          ]
        },
        {
          "data": {
            "text/markdown": [
              "<span style='color:None;font-size:None'>**Torção Espacial _(Vortex Twist)_** lvl 2<br></span><span style='color:None;font-size:13px'>&emsp;**Escola(s):** elemental, espiritual, necromancia, pura (_sombras_)<br>&emsp;**Tempo conjuração:** 1 ação<br>&emsp;**Alcance:** 27 metros<br>&emsp;**Componentes:** VS<br>&emsp;**Mana:** 800<br>&emsp;**Duração:** instantânea<br>&emsp;**Attack/Save:** CON Save<br></span><span style='color:None;font-size:None'>Você magicamente torce o espaço ao redor de outra criatura que você possa ver dentro do alcance. O alvo deve ser bem sucedido em um teste de Constituição ou o alvo é teleportado para um espaço desocupado de sua escolha que você possa ver dentro do alcance. O espaço escolhido deve estar em uma superfície ou em um líquido que possa suportar o alvo sem que o alvo precise se espremer.<br>&emsp;**Melhorar Magia**. Para cada 600 de mana adicionais, você pode aumentar o alcance da magia em 9 metros.<br></span><span style='color:gray;font-size:11px'>[controle]<br></span><span style='color:gray;font-size:11px'>[bardo, bruxo, clérigo, feiticeiro, mago, monge, paladino]<br></span><span style='color:gray;font-size:10px'>_Etc._</span>"
            ],
            "text/plain": [
              "<IPython.core.display.Markdown object>"
            ]
          },
          "metadata": {},
          "output_type": "display_data"
        },
        {
          "name": "stdout",
          "output_type": "stream",
          "text": [
            "\n"
          ]
        },
        {
          "data": {
            "text/markdown": [
              "<span style='color:None;font-size:None'>**Tranca Arcana _(Arcane Lock)_** lvl 2<br></span><span style='color:None;font-size:13px'>&emsp;**Escola(s):** elemental (_terra, metal_)<br>&emsp;**Tempo conjuração:** 1 ação<br>&emsp;**Alcance:** toque<br>&emsp;**Componentes:** VSM _(pó de ouro valendo, no mínimo, 25 po, consumido pela magia)_<br>&emsp;**Mana:** 1000<br>&emsp;**Duração:** até ser dissipada<br></span><span style='color:None;font-size:None'>Você toca uma porta, janela, portão, baú ou outra entrada fechada e ela ficará trancada pela duração. Você e as criaturas que você designar, quando você conjurar essa magia, podem abrir o objeto normalmente. Você também pode definir uma senha que, quando falada a 1,5 metro do objeto, suprime a magia por 1 minuto. De outra forma, ele é intransponível até ser quebrado ou a magia seja dissipada ou suprimida. Conjurar _arrombar_ no objeto suprime a _tranca arcana_ por 10 minutos.<br>&emsp;Enquanto estiver sob efeito dessa magia, o objeto é mais difícil de quebrar ou de forçar para abrir; a CD para quebra-lo ou de arromba-lo aumenta em 10.<br></span><span style='color:gray;font-size:11px'>[controle, defesa, toque]<br></span><span style='color:gray;font-size:11px'>[bardo, bruxo, clérigo, feiticeiro, guerreiro, ladino, mago, monge, paladino]<br></span><span style='color:gray;font-size:10px'>_LDJ_</span>"
            ],
            "text/plain": [
              "<IPython.core.display.Markdown object>"
            ]
          },
          "metadata": {},
          "output_type": "display_data"
        },
        {
          "name": "stdout",
          "output_type": "stream",
          "text": [
            "\n"
          ]
        },
        {
          "data": {
            "text/markdown": [
              "<span style='color:None;font-size:None'>**Truque de Corda _(Rope Trick)_** lvl 2<br></span><span style='color:None;font-size:13px'>&emsp;**Escola(s):** pura<br>&emsp;**Tempo conjuração:** 1 ação<br>&emsp;**Alcance:** toque<br>&emsp;**Componentes:** VSM _(pó de extrato de milho e um laço de pergaminho trançado)_<br>&emsp;**Mana:** 3000<br>&emsp;**Duração:** 1 hora<br></span><span style='color:None;font-size:None'>Você toca um pedaço de corda que tenha até 18 metros de comprimento. Uma ponta da corda então, se ergue no ar até toda a corda estar erguida e perpendicular ao solo. Na ponta de cima da corda, uma entrada invisível se abre para um espaço extradimensional que permanece até a magia acabar.<br>&emsp;O espaço extradimensional pode ser alcançado escalando a corda até o topo. O espaço pode abrigar até oito criaturas Médias ou menores. A corda pode ser puxada para dentro do buraco, fazendo-a desaparecer para os observadores do lado de fora do espaço.<br>&emsp;Ataques e magias não podem ultrapassar a entrada, entrando ou saindo do espaço extradimensional, mas quem está dentro pode ver o lado de fora, como se estivesse olhando por uma janela de 0,9 metro por 1,5 metro, centrada na corda.<br>&emsp;Tudo que estiver dentro do espaço extradimensional cai quando a magia acabar.<br></span><span style='color:gray;font-size:11px'>[toque, utilidade]<br></span><span style='color:gray;font-size:11px'>[bardo, bruxo, clérigo, feiticeiro, guerreiro, ladino, mago, monge, paladino]<br></span><span style='color:gray;font-size:10px'>_LDJ_</span>"
            ],
            "text/plain": [
              "<IPython.core.display.Markdown object>"
            ]
          },
          "metadata": {},
          "output_type": "display_data"
        },
        {
          "name": "stdout",
          "output_type": "stream",
          "text": [
            "\n"
          ]
        },
        {
          "data": {
            "text/markdown": [
              "<span style='color:None;font-size:None'>**Vento Protetor _(Warding Wind)_** lvl 2<br></span><span style='color:None;font-size:13px'>&emsp;**Escola(s):** elemental (_ar_)<br>&emsp;**Tempo conjuração:** 1 ação<br>&emsp;**Alcance:** pessoal<br>&emsp;**Componentes:** V<br>&emsp;**Mana:** 500 (_+ 5 por minuto_)<br>&emsp;**Duração:** concentração, até 10 minutos<br></span><span style='color:None;font-size:None'>Um vento forte (30 quilômetros por hora) sopra a sua volta num raio de 3 metros e se move com você, permanecendo centrado em você. O vento permanece pela duração da magia.<br>&emsp;O vento tem os seguintes efeitos:<br>&emsp;• Ele ensurdece você e outras criaturas na área.<br>&emsp;• Ele extingue chamas desprotegidas na área que tenham o tamanho de tochas ou menores.<br>&emsp;• A área é de terreno difícil para outras criaturas diferentes de você.<br>&emsp;• As jogadas de ataque à distância com armas tem desvantagem se passarem para dentro ou para fora do vento.<br>&emsp;• Ele afasta vapor, gás e névoa que possa ser dissipado por um vento forte.<br></span><span style='color:gray;font-size:11px'>[debuff, defesa]<br></span><span style='color:gray;font-size:11px'>[bardo, bruxo, clérigo, feiticeiro, guerreiro, ladino, mago, monge, paladino]<br></span><span style='color:gray;font-size:10px'>_LDJ_</span>"
            ],
            "text/plain": [
              "<IPython.core.display.Markdown object>"
            ]
          },
          "metadata": {},
          "output_type": "display_data"
        },
        {
          "name": "stdout",
          "output_type": "stream",
          "text": [
            "\n"
          ]
        },
        {
          "data": {
            "text/markdown": [
              "<span style='color:None;font-size:None'>**Ver o Invisível _(See Invisibility)_** lvl 2<br></span><span style='color:None;font-size:13px'>&emsp;**Escola(s):** espiritual, necromancia, pura, elemental (_sombras_)<br>&emsp;**Tempo conjuração:** 1 ação<br>&emsp;**Alcance:** pessoal<br>&emsp;**Componentes:** VSM _(um pouco de talco e um pó de prata polvilhado)_<br>&emsp;**Mana:** 700<br>&emsp;**Duração:** 1 hora<br></span><span style='color:None;font-size:None'>Pela duração, você vê criaturas e objetos invisíveis como se eles fossem visíveis e você pode ver no Plano Etéreo. Criaturas e objetos etéreos parecem espectrais e translúcidos.<br></span><span style='color:gray;font-size:11px'>[buff, detecção]<br></span><span style='color:gray;font-size:11px'>[bardo, bruxo, clérigo, feiticeiro, guerreiro, ladino, mago, monge, paladino]<br></span><span style='color:gray;font-size:10px'>_LDJ_</span>"
            ],
            "text/plain": [
              "<IPython.core.display.Markdown object>"
            ]
          },
          "metadata": {},
          "output_type": "display_data"
        },
        {
          "name": "stdout",
          "output_type": "stream",
          "text": [
            "\n"
          ]
        },
        {
          "data": {
            "text/markdown": [
              "<span style='color:None;font-size:None'>**Visão no Escuro _(Darkvision)_** lvl 2<br></span><span style='color:None;font-size:13px'>&emsp;**Escola(s):** elemental, necromancia, espiritual (_luz, sombras_)<br>&emsp;**Tempo conjuração:** 1 ação<br>&emsp;**Alcance:** toque<br>&emsp;**Componentes:** VSM _(ou um pedaço de cenoura seca ou uma ágata)_<br>&emsp;**Mana:** 700<br>&emsp;**Duração:** 8 horas<br></span><span style='color:None;font-size:None'>Você toca uma criatura voluntária para conceder a ela a habilidade de ver nas trevas. Pela duração, a criatura terá visão no escuro com alcance de 18 metros.<br></span><span style='color:gray;font-size:11px'>[buff, exploração, toque]<br></span><span style='color:gray;font-size:11px'>[bardo, bruxo, clérigo, feiticeiro, guerreiro, ladino, mago, monge, paladino]<br></span><span style='color:gray;font-size:10px'>_LDJ_</span>"
            ],
            "text/plain": [
              "<IPython.core.display.Markdown object>"
            ]
          },
          "metadata": {},
          "output_type": "display_data"
        },
        {
          "name": "stdout",
          "output_type": "stream",
          "text": [
            "\n"
          ]
        },
        {
          "data": {
            "text/markdown": [
              "<span style='color:None;font-size:None'>**Vínculo Protetor _(Warding Bond)_** lvl 2<br></span><span style='color:None;font-size:13px'>&emsp;**Escola(s):** elemental, musical, espiritual (_água, terra, ar, luz, metal_)<br>&emsp;**Tempo conjuração:** 1 ação<br>&emsp;**Alcance:** toque<br>&emsp;**Componentes:** VSM _(um par de anéis de platina valendo, no mínimo, 50 po cada, que você e o alvo devem usar pela duração)_<br>&emsp;**Mana:** 750<br>&emsp;**Duração:** 1 hora<br></span><span style='color:None;font-size:None'>Essa magia protege uma criatura voluntária que você tocar e cria uma conexão mística entre você e o alvo até a magia acabar. Enquanto o alvo estiver a até 18 metros de você, ele recebe +1 de bônus na CA, nos testes de resistência e terá resistência a todos os danos. No entanto, a cada vez que ele sofrer dano, você sofrerá a mesma quantidade de dano.<br>&emsp;A magia acaba se você cair a 0 pontos de vida ou se você e o alvo ficarem separados a mais de 18 metros. Ela também termina se a magia for conjurada novamente em quaisquer das criaturas conectadas. Você também pode dissipar a magia com uma ação.<br></span><span style='color:gray;font-size:11px'>[buff, defesa, toque]<br></span><span style='color:gray;font-size:11px'>[bardo, guerreiro, monge]<br></span><span style='color:gray;font-size:10px'>_LDJ_</span>"
            ],
            "text/plain": [
              "<IPython.core.display.Markdown object>"
            ]
          },
          "metadata": {},
          "output_type": "display_data"
        },
        {
          "name": "stdout",
          "output_type": "stream",
          "text": [
            "\n"
          ]
        },
        {
          "data": {
            "text/markdown": [
              "<span style='color:None;font-size:None'>**Zona da Verdade _(Zone of Truth)_** lvl 2<br></span><span style='color:None;font-size:13px'>&emsp;**Escola(s):** elemental, espiritual, necromancia, ilusionista (_terra, ar, luz, sombras, veneno_)<br>&emsp;**Tempo conjuração:** 1 ação<br>&emsp;**Alcance:** 18 metros<br>&emsp;**Componentes:** VS<br>&emsp;**Mana:** 750<br>&emsp;**Duração:** 10 minutos<br>&emsp;**Attack/Save:** CHA Save<br></span><span style='color:None;font-size:None'>Você cria uma zona mágica protegida contra enganação, numa esfera com 4,5 metros de raio, centrada num ponto, à sua escolha, dentro do alcance. Até a magia acabar, uma criatura que entrar na área da magia pela primeira vez num turno ou começar seu turno nela, deve realizar um teste de resistência de Carisma. Se falhar na resistência, a criatura não poderá mentir deliberadamente enquanto estiver no raio. Você saberá cada criatura que passou ou falhou nesse teste de resistência.<br>&emsp;Uma criatura afetada está ciente da magia e pode, portanto, evitar responder perguntas as quais ela normalmente responderia com uma mentira. Tais criaturas podem ser evasivas em suas respostas, contanto que permaneçam dentro dos limites da verdade.<br></span><span style='color:gray;font-size:11px'>[comunicação, controle, debuff, detecção, social]<br></span><span style='color:gray;font-size:11px'>[bardo, mago]<br></span><span style='color:gray;font-size:10px'>_LDJ_</span>"
            ],
            "text/plain": [
              "<IPython.core.display.Markdown object>"
            ]
          },
          "metadata": {},
          "output_type": "display_data"
        },
        {
          "name": "stdout",
          "output_type": "stream",
          "text": [
            "\n"
          ]
        }
      ],
      "source": [
        "from dfs.DFFilter import filter_df\n",
        "from spell.SpellPrinter import print_spell, print_spells_by_name, print_spells_for_df\n",
        "\n",
        "my_filter = {\n",
        "    #\"classes\": \"guerreiro\",\n",
        "    #\"escola\": \"musical\"\n",
        "    #\"magia_rara\": True\n",
        "}\n",
        "filtered_df = filter_df(spells_df, my_filter)\n",
        "\n",
        "print_spells_for_df(filtered_df)"
      ]
    },
    {
      "cell_type": "code",
      "execution_count": 3,
      "metadata": {},
      "outputs": [
        {
          "data": {
            "text/html": [
              "<div>\n",
              "<style scoped>\n",
              "    .dataframe tbody tr th:only-of-type {\n",
              "        vertical-align: middle;\n",
              "    }\n",
              "\n",
              "    .dataframe tbody tr th {\n",
              "        vertical-align: top;\n",
              "    }\n",
              "\n",
              "    .dataframe thead th {\n",
              "        text-align: right;\n",
              "    }\n",
              "</style>\n",
              "<table border=\"1\" class=\"dataframe\">\n",
              "  <thead>\n",
              "    <tr style=\"text-align: right;\">\n",
              "      <th></th>\n",
              "      <th>nome</th>\n",
              "      <th>name</th>\n",
              "      <th>nivel</th>\n",
              "      <th>escola</th>\n",
              "      <th>ritual</th>\n",
              "      <th>elementos</th>\n",
              "      <th>tempo_conjuracao</th>\n",
              "      <th>alcance_area</th>\n",
              "      <th>componentes</th>\n",
              "      <th>mana</th>\n",
              "      <th>duracao</th>\n",
              "      <th>attack_save</th>\n",
              "      <th>dmg_effect</th>\n",
              "      <th>dmg</th>\n",
              "      <th>classes</th>\n",
              "      <th>tags</th>\n",
              "      <th>descricao</th>\n",
              "      <th>source</th>\n",
              "      <th>mana_adicional</th>\n",
              "      <th>magia_rara</th>\n",
              "    </tr>\n",
              "  </thead>\n",
              "  <tbody>\n",
              "    <tr>\n",
              "      <th>0</th>\n",
              "      <td>Amizade</td>\n",
              "      <td>Friends</td>\n",
              "      <td>0</td>\n",
              "      <td>[psíquica]</td>\n",
              "      <td>False</td>\n",
              "      <td>[]</td>\n",
              "      <td>1 ação</td>\n",
              "      <td>pessoal</td>\n",
              "      <td>SM (uma pequena quantidade de maquiagem)</td>\n",
              "      <td>100</td>\n",
              "      <td>concentração, até 1 minuto</td>\n",
              "      <td>N/A</td>\n",
              "      <td>N/A</td>\n",
              "      <td>N/A</td>\n",
              "      <td>[clérigo, paladino, bardo, mago, bruxo, feitic...</td>\n",
              "      <td>[buff]</td>\n",
              "      <td>Pela duração, você terá vantagem em todos os t...</td>\n",
              "      <td>LDJ</td>\n",
              "      <td>10 por turno</td>\n",
              "      <td>False</td>\n",
              "    </tr>\n",
              "    <tr>\n",
              "      <th>1</th>\n",
              "      <td>Ataque Certeiro</td>\n",
              "      <td>True Strike</td>\n",
              "      <td>0</td>\n",
              "      <td>[psíquica]</td>\n",
              "      <td>False</td>\n",
              "      <td>[]</td>\n",
              "      <td>1 ação</td>\n",
              "      <td>9 metros</td>\n",
              "      <td>S</td>\n",
              "      <td>100</td>\n",
              "      <td>1 rodada</td>\n",
              "      <td>N/A</td>\n",
              "      <td>N/A</td>\n",
              "      <td>N/A</td>\n",
              "      <td>[clérigo, paladino, guerreiro, ladino, feitice...</td>\n",
              "      <td>[buff]</td>\n",
              "      <td>Você encara um alvo no alcance, vasculhando se...</td>\n",
              "      <td>LDJ</td>\n",
              "      <td>N/A</td>\n",
              "      <td>False</td>\n",
              "    </tr>\n",
              "    <tr>\n",
              "      <th>2</th>\n",
              "      <td>Ataque Elemental</td>\n",
              "      <td>Custom</td>\n",
              "      <td>0</td>\n",
              "      <td>[elemental, musical, ilusionista, necromancia,...</td>\n",
              "      <td>False</td>\n",
              "      <td>[água, terra, fogo, ar, luz, sombras, relâmpag...</td>\n",
              "      <td>1 ação</td>\n",
              "      <td>18 metros</td>\n",
              "      <td>S</td>\n",
              "      <td>0</td>\n",
              "      <td>instantânea</td>\n",
              "      <td>N/A</td>\n",
              "      <td>elemental</td>\n",
              "      <td>1d6</td>\n",
              "      <td>[clérigo, paladino, bardo, mago, feiticeiro, b...</td>\n",
              "      <td>[dano]</td>\n",
              "      <td>Essa é a magia mais básica de dano que qualque...</td>\n",
              "      <td>Custom</td>\n",
              "      <td>N/A</td>\n",
              "      <td>False</td>\n",
              "    </tr>\n",
              "    <tr>\n",
              "      <th>3</th>\n",
              "      <td>Chama Sagrada</td>\n",
              "      <td>Secred Flame</td>\n",
              "      <td>0</td>\n",
              "      <td>[elemental]</td>\n",
              "      <td>False</td>\n",
              "      <td>[luz]</td>\n",
              "      <td>1 ação</td>\n",
              "      <td>18 metros</td>\n",
              "      <td>VS</td>\n",
              "      <td>150</td>\n",
              "      <td>instantânea</td>\n",
              "      <td>DEX Save</td>\n",
              "      <td>luz</td>\n",
              "      <td>1d8</td>\n",
              "      <td>[clérigo, paladino, monge, bardo, ladino, guer...</td>\n",
              "      <td>[dano]</td>\n",
              "      <td>Radiação similar a uma chama desce sobre uma c...</td>\n",
              "      <td>LDJ</td>\n",
              "      <td>N/A</td>\n",
              "      <td>False</td>\n",
              "    </tr>\n",
              "    <tr>\n",
              "      <th>4</th>\n",
              "      <td>Chicote</td>\n",
              "      <td>Lightning Lure</td>\n",
              "      <td>0</td>\n",
              "      <td>[elemental]</td>\n",
              "      <td>False</td>\n",
              "      <td>[relâmpago, luz, sombras, metal, terra, fogo]</td>\n",
              "      <td>1 ação</td>\n",
              "      <td>4,5 metros</td>\n",
              "      <td>VS</td>\n",
              "      <td>150</td>\n",
              "      <td>instantânea</td>\n",
              "      <td>STR Save</td>\n",
              "      <td>elemental</td>\n",
              "      <td>1d8</td>\n",
              "      <td>[clérigo, paladino, bruxo, mago, feiticeiro, m...</td>\n",
              "      <td>[dano, controle]</td>\n",
              "      <td>Você cria um chicote elemental que golpeia uma...</td>\n",
              "      <td>Tasha</td>\n",
              "      <td>N/A</td>\n",
              "      <td>False</td>\n",
              "    </tr>\n",
              "    <tr>\n",
              "      <th>...</th>\n",
              "      <td>...</td>\n",
              "      <td>...</td>\n",
              "      <td>...</td>\n",
              "      <td>...</td>\n",
              "      <td>...</td>\n",
              "      <td>...</td>\n",
              "      <td>...</td>\n",
              "      <td>...</td>\n",
              "      <td>...</td>\n",
              "      <td>...</td>\n",
              "      <td>...</td>\n",
              "      <td>...</td>\n",
              "      <td>...</td>\n",
              "      <td>...</td>\n",
              "      <td>...</td>\n",
              "      <td>...</td>\n",
              "      <td>...</td>\n",
              "      <td>...</td>\n",
              "      <td>...</td>\n",
              "      <td>...</td>\n",
              "    </tr>\n",
              "    <tr>\n",
              "      <th>194</th>\n",
              "      <td>Vento Protetor</td>\n",
              "      <td>Warding Wind</td>\n",
              "      <td>2</td>\n",
              "      <td>[elemental]</td>\n",
              "      <td>False</td>\n",
              "      <td>[ar]</td>\n",
              "      <td>1 ação</td>\n",
              "      <td>pessoal</td>\n",
              "      <td>V</td>\n",
              "      <td>500</td>\n",
              "      <td>concentração, até 10 minutos</td>\n",
              "      <td>N/A</td>\n",
              "      <td>N/A</td>\n",
              "      <td>N/A</td>\n",
              "      <td>[clérigo, paladino, ladino, guerreiro, bardo, ...</td>\n",
              "      <td>[debuff, defesa]</td>\n",
              "      <td>Um vento forte (30 quilômetros por hora) sopra...</td>\n",
              "      <td>LDJ</td>\n",
              "      <td>5 por minuto</td>\n",
              "      <td>False</td>\n",
              "    </tr>\n",
              "    <tr>\n",
              "      <th>195</th>\n",
              "      <td>Ver o Invisível</td>\n",
              "      <td>See Invisibility</td>\n",
              "      <td>2</td>\n",
              "      <td>[espiritual, necromancia, pura, elemental]</td>\n",
              "      <td>False</td>\n",
              "      <td>[sombras]</td>\n",
              "      <td>1 ação</td>\n",
              "      <td>pessoal</td>\n",
              "      <td>VSM (um pouco de talco e um pó de prata polvil...</td>\n",
              "      <td>700</td>\n",
              "      <td>1 hora</td>\n",
              "      <td>N/A</td>\n",
              "      <td>N/A</td>\n",
              "      <td>N/A</td>\n",
              "      <td>[clérigo, paladino, ladino, guerreiro, bardo, ...</td>\n",
              "      <td>[buff, detecção]</td>\n",
              "      <td>Pela duração, você vê criaturas e objetos invi...</td>\n",
              "      <td>LDJ</td>\n",
              "      <td>N/A</td>\n",
              "      <td>False</td>\n",
              "    </tr>\n",
              "    <tr>\n",
              "      <th>196</th>\n",
              "      <td>Visão no Escuro</td>\n",
              "      <td>Darkvision</td>\n",
              "      <td>2</td>\n",
              "      <td>[elemental, necromancia, espiritual]</td>\n",
              "      <td>False</td>\n",
              "      <td>[luz, sombras]</td>\n",
              "      <td>1 ação</td>\n",
              "      <td>toque</td>\n",
              "      <td>VSM (ou um pedaço de cenoura seca ou uma ágata)</td>\n",
              "      <td>700</td>\n",
              "      <td>8 horas</td>\n",
              "      <td>N/A</td>\n",
              "      <td>N/A</td>\n",
              "      <td>N/A</td>\n",
              "      <td>[clérigo, paladino, ladino, guerreiro, bardo, ...</td>\n",
              "      <td>[buff, exploração, toque]</td>\n",
              "      <td>Você toca uma criatura voluntária para concede...</td>\n",
              "      <td>LDJ</td>\n",
              "      <td>N/A</td>\n",
              "      <td>False</td>\n",
              "    </tr>\n",
              "    <tr>\n",
              "      <th>197</th>\n",
              "      <td>Vínculo Protetor</td>\n",
              "      <td>Warding Bond</td>\n",
              "      <td>2</td>\n",
              "      <td>[elemental, musical, espiritual]</td>\n",
              "      <td>False</td>\n",
              "      <td>[água, terra, ar, luz, metal]</td>\n",
              "      <td>1 ação</td>\n",
              "      <td>toque</td>\n",
              "      <td>VSM (um par de anéis de platina valendo, no mí...</td>\n",
              "      <td>750</td>\n",
              "      <td>1 hora</td>\n",
              "      <td>N/A</td>\n",
              "      <td>N/A</td>\n",
              "      <td>N/A</td>\n",
              "      <td>[guerreiro, bardo, monge]</td>\n",
              "      <td>[buff, defesa, toque]</td>\n",
              "      <td>Essa magia protege uma criatura voluntária que...</td>\n",
              "      <td>LDJ</td>\n",
              "      <td>N/A</td>\n",
              "      <td>False</td>\n",
              "    </tr>\n",
              "    <tr>\n",
              "      <th>198</th>\n",
              "      <td>Zona da Verdade</td>\n",
              "      <td>Zone of Truth</td>\n",
              "      <td>2</td>\n",
              "      <td>[elemental, espiritual, necromancia, ilusionista]</td>\n",
              "      <td>False</td>\n",
              "      <td>[terra, ar, luz, sombras, veneno]</td>\n",
              "      <td>1 ação</td>\n",
              "      <td>18 metros</td>\n",
              "      <td>VS</td>\n",
              "      <td>750</td>\n",
              "      <td>10 minutos</td>\n",
              "      <td>CHA Save</td>\n",
              "      <td>N/A</td>\n",
              "      <td>N/A</td>\n",
              "      <td>[bardo, mago]</td>\n",
              "      <td>[debuff, controle, comunicação, social, detecção]</td>\n",
              "      <td>Você cria uma zona mágica protegida contra eng...</td>\n",
              "      <td>LDJ</td>\n",
              "      <td>N/A</td>\n",
              "      <td>False</td>\n",
              "    </tr>\n",
              "  </tbody>\n",
              "</table>\n",
              "<p>199 rows × 20 columns</p>\n",
              "</div>"
            ],
            "text/plain": [
              "                 nome              name  nivel  \\\n",
              "0             Amizade           Friends      0   \n",
              "1     Ataque Certeiro       True Strike      0   \n",
              "2    Ataque Elemental            Custom      0   \n",
              "3       Chama Sagrada      Secred Flame      0   \n",
              "4             Chicote    Lightning Lure      0   \n",
              "..                ...               ...    ...   \n",
              "194    Vento Protetor      Warding Wind      2   \n",
              "195   Ver o Invisível  See Invisibility      2   \n",
              "196   Visão no Escuro        Darkvision      2   \n",
              "197  Vínculo Protetor      Warding Bond      2   \n",
              "198   Zona da Verdade     Zone of Truth      2   \n",
              "\n",
              "                                                escola  ritual  \\\n",
              "0                                           [psíquica]   False   \n",
              "1                                           [psíquica]   False   \n",
              "2    [elemental, musical, ilusionista, necromancia,...   False   \n",
              "3                                          [elemental]   False   \n",
              "4                                          [elemental]   False   \n",
              "..                                                 ...     ...   \n",
              "194                                        [elemental]   False   \n",
              "195         [espiritual, necromancia, pura, elemental]   False   \n",
              "196               [elemental, necromancia, espiritual]   False   \n",
              "197                   [elemental, musical, espiritual]   False   \n",
              "198  [elemental, espiritual, necromancia, ilusionista]   False   \n",
              "\n",
              "                                             elementos tempo_conjuracao  \\\n",
              "0                                                   []           1 ação   \n",
              "1                                                   []           1 ação   \n",
              "2    [água, terra, fogo, ar, luz, sombras, relâmpag...           1 ação   \n",
              "3                                                [luz]           1 ação   \n",
              "4        [relâmpago, luz, sombras, metal, terra, fogo]           1 ação   \n",
              "..                                                 ...              ...   \n",
              "194                                               [ar]           1 ação   \n",
              "195                                          [sombras]           1 ação   \n",
              "196                                     [luz, sombras]           1 ação   \n",
              "197                      [água, terra, ar, luz, metal]           1 ação   \n",
              "198                  [terra, ar, luz, sombras, veneno]           1 ação   \n",
              "\n",
              "    alcance_area                                        componentes  mana  \\\n",
              "0        pessoal           SM (uma pequena quantidade de maquiagem)   100   \n",
              "1       9 metros                                                  S   100   \n",
              "2      18 metros                                                  S     0   \n",
              "3      18 metros                                                 VS   150   \n",
              "4     4,5 metros                                                 VS   150   \n",
              "..           ...                                                ...   ...   \n",
              "194      pessoal                                                  V   500   \n",
              "195      pessoal  VSM (um pouco de talco e um pó de prata polvil...   700   \n",
              "196        toque    VSM (ou um pedaço de cenoura seca ou uma ágata)   700   \n",
              "197        toque  VSM (um par de anéis de platina valendo, no mí...   750   \n",
              "198    18 metros                                                 VS   750   \n",
              "\n",
              "                          duracao attack_save dmg_effect  dmg  \\\n",
              "0      concentração, até 1 minuto         N/A        N/A  N/A   \n",
              "1                        1 rodada         N/A        N/A  N/A   \n",
              "2                     instantânea         N/A  elemental  1d6   \n",
              "3                     instantânea    DEX Save        luz  1d8   \n",
              "4                     instantânea    STR Save  elemental  1d8   \n",
              "..                            ...         ...        ...  ...   \n",
              "194  concentração, até 10 minutos         N/A        N/A  N/A   \n",
              "195                        1 hora         N/A        N/A  N/A   \n",
              "196                       8 horas         N/A        N/A  N/A   \n",
              "197                        1 hora         N/A        N/A  N/A   \n",
              "198                    10 minutos    CHA Save        N/A  N/A   \n",
              "\n",
              "                                               classes  \\\n",
              "0    [clérigo, paladino, bardo, mago, bruxo, feitic...   \n",
              "1    [clérigo, paladino, guerreiro, ladino, feitice...   \n",
              "2    [clérigo, paladino, bardo, mago, feiticeiro, b...   \n",
              "3    [clérigo, paladino, monge, bardo, ladino, guer...   \n",
              "4    [clérigo, paladino, bruxo, mago, feiticeiro, m...   \n",
              "..                                                 ...   \n",
              "194  [clérigo, paladino, ladino, guerreiro, bardo, ...   \n",
              "195  [clérigo, paladino, ladino, guerreiro, bardo, ...   \n",
              "196  [clérigo, paladino, ladino, guerreiro, bardo, ...   \n",
              "197                          [guerreiro, bardo, monge]   \n",
              "198                                      [bardo, mago]   \n",
              "\n",
              "                                                  tags  \\\n",
              "0                                               [buff]   \n",
              "1                                               [buff]   \n",
              "2                                               [dano]   \n",
              "3                                               [dano]   \n",
              "4                                     [dano, controle]   \n",
              "..                                                 ...   \n",
              "194                                   [debuff, defesa]   \n",
              "195                                   [buff, detecção]   \n",
              "196                          [buff, exploração, toque]   \n",
              "197                              [buff, defesa, toque]   \n",
              "198  [debuff, controle, comunicação, social, detecção]   \n",
              "\n",
              "                                             descricao  source mana_adicional  \\\n",
              "0    Pela duração, você terá vantagem em todos os t...     LDJ   10 por turno   \n",
              "1    Você encara um alvo no alcance, vasculhando se...     LDJ            N/A   \n",
              "2    Essa é a magia mais básica de dano que qualque...  Custom            N/A   \n",
              "3    Radiação similar a uma chama desce sobre uma c...     LDJ            N/A   \n",
              "4    Você cria um chicote elemental que golpeia uma...   Tasha            N/A   \n",
              "..                                                 ...     ...            ...   \n",
              "194  Um vento forte (30 quilômetros por hora) sopra...     LDJ   5 por minuto   \n",
              "195  Pela duração, você vê criaturas e objetos invi...     LDJ            N/A   \n",
              "196  Você toca uma criatura voluntária para concede...     LDJ            N/A   \n",
              "197  Essa magia protege uma criatura voluntária que...     LDJ            N/A   \n",
              "198  Você cria uma zona mágica protegida contra eng...     LDJ            N/A   \n",
              "\n",
              "     magia_rara  \n",
              "0         False  \n",
              "1         False  \n",
              "2         False  \n",
              "3         False  \n",
              "4         False  \n",
              "..          ...  \n",
              "194       False  \n",
              "195       False  \n",
              "196       False  \n",
              "197       False  \n",
              "198       False  \n",
              "\n",
              "[199 rows x 20 columns]"
            ]
          },
          "execution_count": 3,
          "metadata": {},
          "output_type": "execute_result"
        }
      ],
      "source": [
        "filtered_df"
      ]
    },
    {
      "cell_type": "code",
      "execution_count": 4,
      "metadata": {},
      "outputs": [
        {
          "data": {
            "text/plain": [
              "3000     1\n",
              "1500     1\n",
              "1400     2\n",
              "1000     6\n",
              "900      3\n",
              "850      2\n",
              "800     10\n",
              "750     15\n",
              "700     24\n",
              "650      6\n",
              "640      1\n",
              "600      7\n",
              "550      3\n",
              "540      1\n",
              "500      5\n",
              "450      4\n",
              "400     11\n",
              "350     17\n",
              "300     20\n",
              "250      7\n",
              "200     10\n",
              "150     17\n",
              "100     15\n",
              "75       2\n",
              "50       8\n",
              "0        1\n",
              "Name: mana, dtype: int64"
            ]
          },
          "metadata": {},
          "output_type": "display_data"
        },
        {
          "name": "stdout",
          "output_type": "stream",
          "text": [
            "Mean =\t470.754\n",
            "Std  =\t343.112\n"
          ]
        }
      ],
      "source": [
        "from IPython.display import display\n",
        "\n",
        "\n",
        "def get_mana_stats(spells_df):\n",
        "    display(spells_df.mana.value_counts().sort_index(ascending=False))\n",
        "    print(f\"Mean =\\t{filtered_df.mana.mean():.3f}\")\n",
        "    print(f\"Std  =\\t{filtered_df.mana.std():.3f}\")\n",
        "\n",
        "\n",
        "get_mana_stats(filtered_df)\n"
      ]
    },
    {
      "cell_type": "code",
      "execution_count": 5,
      "metadata": {},
      "outputs": [
        {
          "data": {
            "text/plain": [
              "20.0"
            ]
          },
          "execution_count": 5,
          "metadata": {},
          "output_type": "execute_result"
        }
      ],
      "source": [
        "import dice.DiceCalculator as dice\n",
        "\n",
        "dice.get_dice_formula_mean('4d8+2')"
      ]
    },
    {
      "cell_type": "code",
      "execution_count": null,
      "metadata": {},
      "outputs": [],
      "source": []
    }
  ],
  "metadata": {
    "interpreter": {
      "hash": "d36adf45757a947aebb41e19531952e79d7da656c5a3acf675af965b060eaf9d"
    },
    "kernelspec": {
      "display_name": "Python 3.10.2 64-bit",
      "language": "python",
      "name": "python3"
    },
    "language_info": {
      "codemirror_mode": {
        "name": "ipython",
        "version": 3
      },
      "file_extension": ".py",
      "mimetype": "text/x-python",
      "name": "python",
      "nbconvert_exporter": "python",
      "pygments_lexer": "ipython3",
      "version": "3.10.6"
    },
    "orig_nbformat": 4
  },
  "nbformat": 4,
  "nbformat_minor": 2
}
