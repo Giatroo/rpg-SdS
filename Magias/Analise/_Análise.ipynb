{
  "cells": [
    {
      "cell_type": "code",
      "execution_count": 1,
      "metadata": {},
      "outputs": [
        {
          "name": "stderr",
          "output_type": "stream",
          "text": [
            "Spells: 100%|██████████| 202/202 [00:00<00:00, 254.98it/s]\n"
          ]
        }
      ],
      "source": [
        "from dfs.DFReader import get_asserted_spells_df\n",
        "\n",
        "spells_df = get_asserted_spells_df(verbose=True)"
      ]
    },
    {
      "cell_type": "code",
      "execution_count": 6,
      "metadata": {},
      "outputs": [
        {
          "data": {
            "text/markdown": [
              "<span style='color:None;font-size:None'>**Amizade _(Friends)_** - truque<br></span><span style='color:None;font-size:13px'>&emsp;**Escola(s):** psíquica<br>&emsp;**Tempo conjuração:** 1 ação<br>&emsp;**Alcance:** pessoal<br>&emsp;**Componentes:** SM _(uma pequena quantidade de maquiagem)_<br>&emsp;**Mana:** 100 (_+ 10 por turno_)<br>&emsp;**Duração:** concentração, até 1 minuto<br></span><span style='color:None;font-size:None'>Pela duração, você terá vantagem em todos os testes de Carisma direcionados a uma criatura, à sua escolha, que não seja hostil a você. Quando a magia acabar, a criatura perceberá que você usou magia para influenciar o humor dela, e ficará hostil a você. Uma criatura propensa a violência irá atacar você. Outra criatura pode buscar outras formas de retaliação (a critério do Mestre), dependendo da natureza da sua interação com ela. Ao final da magia, você gasta mais 100 pontos de mana.<br></span><span style='color:gray;font-size:11px'>[buff]<br></span><span style='color:gray;font-size:11px'>[arqueiro, bardo, guerreiro, ladino, mago]<br></span><span style='color:gray;font-size:10px'>_LDJ_</span>"
            ],
            "text/plain": [
              "<IPython.core.display.Markdown object>"
            ]
          },
          "metadata": {},
          "output_type": "display_data"
        },
        {
          "name": "stdout",
          "output_type": "stream",
          "text": [
            "\n"
          ]
        },
        {
          "data": {
            "text/markdown": [
              "<span style='color:None;font-size:None'>**Ataque Certeiro _(True Strike)_** - truque<br></span><span style='color:None;font-size:13px'>&emsp;**Escola(s):** psíquica<br>&emsp;**Tempo conjuração:** 1 ação<br>&emsp;**Alcance:** 9 metros<br>&emsp;**Componentes:** S<br>&emsp;**Mana:** 100<br>&emsp;**Duração:** 1 rodada<br></span><span style='color:None;font-size:None'>Você encara um alvo no alcance, vasculhando seus pensamentos superficiais. Sua magia garante a você uma breve intuição sobre as defesas do alvo. No seu próximo turno, você terá vantagem na primeira jogada de ataque contra o alvo.<br></span><span style='color:gray;font-size:11px'>[buff]<br></span><span style='color:gray;font-size:11px'>[arqueiro, guerreiro, ladino, mago, monge]<br></span><span style='color:gray;font-size:10px'>_LDJ_</span>"
            ],
            "text/plain": [
              "<IPython.core.display.Markdown object>"
            ]
          },
          "metadata": {},
          "output_type": "display_data"
        },
        {
          "name": "stdout",
          "output_type": "stream",
          "text": [
            "\n"
          ]
        },
        {
          "data": {
            "text/markdown": [
              "<span style='color:None;font-size:None'>**Ataque Elemental _(Custom)_** - truque<br></span><span style='color:None;font-size:13px'>&emsp;**Escola(s):** elemental, musical, ilusionista, necromancia, psíquica (_água, terra, fogo, ar, luz, sombras, relâmpago, metal, veneno_)<br>&emsp;**Tempo conjuração:** 1 ação<br>&emsp;**Alcance:** 18 metros<br>&emsp;**Componentes:** S<br>&emsp;**Mana:** 0<br>&emsp;**Duração:** instantânea<br>&emsp;**Dano**: 1d6<br>&emsp;**Dmg/effect:** elemental<br></span><span style='color:None;font-size:None'>Essa é a magia mais básica de dano que qualquer mago sabe utilizar e utiliza uma quantidade de mana praticamente nula (se sua mana estiver abaixo do limite, você ainda deve fazer testes de exaustão).<br>&emsp;Você utiliza sua escola e elemento para causa 1d6 de dano no inimigo.<br>&emsp;O dano dessa magia aumenta em 1d6 quando você alcança o 5° nível (2d6), 11° nível (3d6) e 17° nível (4d6).<br></span><span style='color:gray;font-size:11px'>[dano]<br></span><span style='color:gray;font-size:11px'>[arqueiro, bardo, guerreiro, ladino, mago]<br></span><span style='color:gray;font-size:10px'>_Custom_</span>"
            ],
            "text/plain": [
              "<IPython.core.display.Markdown object>"
            ]
          },
          "metadata": {},
          "output_type": "display_data"
        },
        {
          "name": "stdout",
          "output_type": "stream",
          "text": [
            "\n"
          ]
        },
        {
          "data": {
            "text/markdown": [
              "<span style='color:None;font-size:None'>**Chama Sagrada _(Secred Flame)_** - truque<br></span><span style='color:None;font-size:13px'>&emsp;**Escola(s):** elemental (_luz_)<br>&emsp;**Tempo conjuração:** 1 ação<br>&emsp;**Alcance:** 18 metros<br>&emsp;**Componentes:** VS<br>&emsp;**Mana:** 150<br>&emsp;**Duração:** instantânea<br>&emsp;**Dano**: 1d8<br>&emsp;**Attack/Save:** DEX Save<br>&emsp;**Dmg/effect:** luz<br></span><span style='color:None;font-size:None'>Radiação similar a uma chama desce sobre uma criatura que você possa ver, dentro do alcance. O alvo deve ser bem sucedido num teste de resistência de Destreza ou sofrerá 1d8 de dano radiante. O alvo não recebe qualquer benefício de cobertura contra esse teste de resistência.<br>&emsp;O dano da magia aumenta em 1d8 quando você alcança o 5° nível (2d8), 11° nível (3d8) e 17° nível (4d8).<br></span><span style='color:gray;font-size:11px'>[dano]<br></span><span style='color:gray;font-size:11px'>[bardo, bruxo, clérigo, feiticeiro, guerreiro, ladino, mago, monge, paladino]<br></span><span style='color:gray;font-size:10px'>_LDJ_</span>"
            ],
            "text/plain": [
              "<IPython.core.display.Markdown object>"
            ]
          },
          "metadata": {},
          "output_type": "display_data"
        },
        {
          "name": "stdout",
          "output_type": "stream",
          "text": [
            "\n"
          ]
        },
        {
          "data": {
            "text/markdown": [
              "<span style='color:None;font-size:None'>**Chicote _(Lightning Lure)_** - truque<br></span><span style='color:None;font-size:13px'>&emsp;**Escola(s):** elemental (_relâmpago, luz, sombras, metal, terra, fogo_)<br>&emsp;**Tempo conjuração:** 1 ação<br>&emsp;**Alcance:** 4,5 metros<br>&emsp;**Componentes:** VS<br>&emsp;**Mana:** 150<br>&emsp;**Duração:** instantânea<br>&emsp;**Dano**: 1d8<br>&emsp;**Attack/Save:** STR Save<br>&emsp;**Dmg/effect:** elemental<br></span><span style='color:None;font-size:None'>Você cria um chicote elemental que golpeia uma criatura a sua escolha a sua vista a até 4,5m de você. O alvo deve ser bem-sucedido em uma salvaguarda de Força ou é puxado por até 3m em linha reta na sua direção, e então recebe 1d8 de dano elemental se estiver a até 1,5m de você.<br>&emsp;O dano dessa magia aumenta em 1d8 quando você alcança o 5º nível (2d8), 11º nível (3d8), e 17º nível (4d8).<br></span><span style='color:gray;font-size:11px'>[controle, dano]<br></span><span style='color:gray;font-size:11px'>[bruxo, clérigo, feiticeiro, guerreiro, mago, monge, paladino]<br></span><span style='color:gray;font-size:10px'>_Tasha_</span>"
            ],
            "text/plain": [
              "<IPython.core.display.Markdown object>"
            ]
          },
          "metadata": {},
          "output_type": "display_data"
        },
        {
          "name": "stdout",
          "output_type": "stream",
          "text": [
            "\n"
          ]
        },
        {
          "data": {
            "text/markdown": [
              "<span style='color:None;font-size:None'>**Controlar Chamas _(Control Flames)_** - truque<br></span><span style='color:None;font-size:13px'>&emsp;**Escola(s):** elemental (_fogo, sombras_)<br>&emsp;**Tempo conjuração:** 1 ação<br>&emsp;**Alcance:** 18 metros<br>&emsp;**Componentes:** S<br>&emsp;**Mana:** 100 (_+ 5 a cada 5 minutos_)<br>&emsp;**Duração:** instantânea ou 1 hora<br></span><span style='color:None;font-size:None'>Você escolhe uma chama não mágica que você possa ver, dentro do alcance, e que ocupe até um cubo de 1,5 metros. Você afeta ela de uma das seguintes formas:<br>&emsp;• Você instantaneamente expande a chama em 1,5 metro em uma direção, considerando que exista madeira ou outro combustível no local novo.<br>&emsp;• Você instantaneamente extingue as chamas dentro do cubo.<br>&emsp;• Você dobra ou reduz à metade a área de luz plena e de penumbra emitida pela chama, muda a cor dela, ou ambos. As mudanças duram por 1 hora.<br>&emsp;• Você faz com que formas simples - como um forma imprecisa de uma criatura, objeto inanimado ou local - apareçam dentro das chamas e se animem como você quiser. As formas duram por 1 hora.<br>&emsp;Se você conjurar essa magia diversas vezes , você pode ter até três dos seus efeitos não instantâneos ativos ao mesmo tempo, e você pode dissipar um efeito desses com uma ação.<br></span><span style='color:gray;font-size:11px'>[controle, utilidade]<br></span><span style='color:gray;font-size:11px'>[arqueiro, bardo, guerreiro, ladino, mago]<br></span><span style='color:gray;font-size:10px'>_Xanathar_</span>"
            ],
            "text/plain": [
              "<IPython.core.display.Markdown object>"
            ]
          },
          "metadata": {},
          "output_type": "display_data"
        },
        {
          "name": "stdout",
          "output_type": "stream",
          "text": [
            "\n"
          ]
        },
        {
          "data": {
            "text/markdown": [
              "<span style='color:None;font-size:None'>**Criar Chamas _(Produce Flame)_** - truque<br></span><span style='color:None;font-size:13px'>&emsp;**Escola(s):** elemental (_fogo, luz, sombras_)<br>&emsp;**Tempo conjuração:** 1 ação<br>&emsp;**Alcance:** pessoal<br>&emsp;**Componentes:** VS<br>&emsp;**Mana:** 50 (_+ 5 por minuto_)<br>&emsp;**Duração:** 10 minutos<br>&emsp;**Dano**: 1d8<br>&emsp;**Attack/Save:** distância<br>&emsp;**Dmg/effect:** fogo<br></span><span style='color:None;font-size:None'>Uma chama tremulante aparece na sua mão. A chama permanece ai pela duração e não machuca nem você nem seu equipamento. A chama emite luz plena num raio de 3 metros e penumbra por 3 metros adicionais. A magia acaba se você dissipa-la usando uma ação ou se conjura-la novamente.<br>&emsp;Você pode, também, atacar com a chama, no entanto, fazer isso acaba com a magia. Quando você conjura essa magia ou com uma ação em um turno posterior, você pode arremessar a chama numa criatura a até 9 metros de você. Faça um ataque à distância com magia. Se atingir, o alvo sofre 1d8 de dano elemental.<br>&emsp;[Sombras] Todos os alcances de iluminação descritos anteriormente são metade para um Mago das Sombras.<br>&emsp;Você gasta 10 de mana por minuto até a magia acabar.<br>&emsp;O dano dessa magia aumenta em 1d8 quando você alcança o 5° nível (2d8), 11° nível (3d8) e 17° nível (4d8).<br></span><span style='color:gray;font-size:11px'>[dano, distância, utilidade]<br></span><span style='color:gray;font-size:11px'>[arqueiro, bardo, guerreiro, ladino, mago, monge]<br></span><span style='color:gray;font-size:10px'>_LDJ_</span>"
            ],
            "text/plain": [
              "<IPython.core.display.Markdown object>"
            ]
          },
          "metadata": {},
          "output_type": "display_data"
        },
        {
          "name": "stdout",
          "output_type": "stream",
          "text": [
            "\n"
          ]
        },
        {
          "data": {
            "text/markdown": [
              "<span style='color:None;font-size:None'>**Criar Fogueira _(Create Bonfire)_** - truque<br></span><span style='color:None;font-size:13px'>&emsp;**Escola(s):** elemental (_fogo, sombras_)<br>&emsp;**Tempo conjuração:** 1 ação<br>&emsp;**Alcance:** 18 metros<br>&emsp;**Componentes:** VS<br>&emsp;**Mana:** 100 (_+ 25 por turno_)<br>&emsp;**Duração:** concentração, até 1 minuto<br>&emsp;**Dano**: 1d8<br>&emsp;**Attack/Save:** DEX Save<br>&emsp;**Dmg/effect:** fogo<br></span><span style='color:None;font-size:None'>Você cria uma fogueira no solo em um ponto que você possa ver, dentro do alcance. Até a magia acabar, a fogueira preenche um cubo de 1,5 metros. Qualquer criatura no espaço da fogueira quando você a conjura deve ser bem sucedida num teste de resistência de Destreza ou sofrerá 1d8 de dano de fogo. Uma criatura também deve realizar o teste de resistência quando entrar no espaço da fogueira pela primeira vez em um turno, ou terminar seu turno nela.<br>&emsp;Você gasta mais 25 de mana por turno para continuar se concentrando na magia.<br>&emsp;O dano da magia aumenta em 1d8 quando você alcança o 5º nível (2d8), 11º nível (3d8) e 17º nível (4d8).<br></span><span style='color:gray;font-size:11px'>[controle, dano]<br></span><span style='color:gray;font-size:11px'>[bruxo, feiticeiro, mago]<br></span><span style='color:gray;font-size:10px'>_Xanathar_</span>"
            ],
            "text/plain": [
              "<IPython.core.display.Markdown object>"
            ]
          },
          "metadata": {},
          "output_type": "display_data"
        },
        {
          "name": "stdout",
          "output_type": "stream",
          "text": [
            "\n"
          ]
        },
        {
          "data": {
            "text/markdown": [
              "<span style='color:None;font-size:None'>**Criar Fogueira Instantânea _(Create Bonfire)_** - truque<br></span><span style='color:None;font-size:13px'>&emsp;**Escola(s):** elemental (_fogo, sombras_)<br>&emsp;**Tempo conjuração:** 1 ação<br>&emsp;**Alcance:** 18 metros<br>&emsp;**Componentes:** VS<br>&emsp;**Mana:** 150<br>&emsp;**Duração:** instantânea<br>&emsp;**Dano**: 1d8<br>&emsp;**Attack/Save:** DEX Save<br>&emsp;**Dmg/effect:** fogo<br></span><span style='color:None;font-size:None'>Você cria uma fogueira no solo em um ponto que você possa ver, dentro do alcance. A fogueira preenche um cubo de 1,5 metros. Qualquer criatura no espaço da fogueira quando você a conjura deve ser bem sucedida num teste de resistência de Destreza ou sofrerá 1d8 de dano de fogo.<br>&emsp;O dano da magia aumenta em 1d8 quando você alcança o 5º nível (2d8), 11º nível (3d8) e 17º nível (4d8).<br></span><span style='color:gray;font-size:11px'>[dano]<br></span><span style='color:gray;font-size:11px'>[clérigo, guerreiro, ladino, paladino]<br></span><span style='color:gray;font-size:10px'>_Xanathar_</span>"
            ],
            "text/plain": [
              "<IPython.core.display.Markdown object>"
            ]
          },
          "metadata": {},
          "output_type": "display_data"
        },
        {
          "name": "stdout",
          "output_type": "stream",
          "text": [
            "\n"
          ]
        },
        {
          "data": {
            "text/markdown": [
              "<span style='color:None;font-size:None'>**Espirro Ácido _(Acid Splash)_** - truque<br></span><span style='color:None;font-size:13px'>&emsp;**Escola(s):** elemental (_veneno_)<br>&emsp;**Tempo conjuração:** 1 ação<br>&emsp;**Alcance:** 18 metros<br>&emsp;**Componentes:** VS<br>&emsp;**Mana:** 50<br>&emsp;**Duração:** instantânea<br>&emsp;**Dano**: 1d6<br>&emsp;**Attack/Save:** DEX Save<br>&emsp;**Dmg/effect:** ácido<br></span><span style='color:None;font-size:None'>Você arremessa uma bolha de ácido. Escolha uma criatura dentro do alcance, ou escolha duas criaturas dentro do alcance que estejam a 1,5 metro uma da outra.<br>&emsp;Um alvo deve ser bem sucedido num teste de resistência de Destreza ou sofrerá 1d6 de dano ácido.<br>&emsp;O dano dessa magia aumenta em 1d6 quando você alcança o 5° nível (2d6), 11° nível (3d6) e 17° nível (4d6).<br></span><span style='color:gray;font-size:11px'>[dano]<br></span><span style='color:gray;font-size:11px'>[arqueiro, ladino, mago]<br></span><span style='color:gray;font-size:10px'>_LDJ_</span>"
            ],
            "text/plain": [
              "<IPython.core.display.Markdown object>"
            ]
          },
          "metadata": {},
          "output_type": "display_data"
        },
        {
          "name": "stdout",
          "output_type": "stream",
          "text": [
            "\n"
          ]
        },
        {
          "data": {
            "text/markdown": [
              "<span style='color:None;font-size:None'>**Estabilizar _(Spare the Dying)_** - truque<br></span><span style='color:None;font-size:13px'>&emsp;**Escola(s):** elemental (_água, luz_)<br>&emsp;**Tempo conjuração:** 1 ação<br>&emsp;**Alcance:** toque<br>&emsp;**Componentes:** VS<br>&emsp;**Mana:** 100<br>&emsp;**Duração:** instantânea<br></span><span style='color:None;font-size:None'>Você toca uma criatura viva que esteja com 0 pontos de vida. A criatura é estabilizada.<br>&emsp;Essa magia não afeta mortos-vivos ou constructos.<br></span><span style='color:gray;font-size:11px'>[cura, toque]<br></span><span style='color:gray;font-size:11px'>[bardo, mago]<br></span><span style='color:gray;font-size:10px'>_LDJ_</span>"
            ],
            "text/plain": [
              "<IPython.core.display.Markdown object>"
            ]
          },
          "metadata": {},
          "output_type": "display_data"
        },
        {
          "name": "stdout",
          "output_type": "stream",
          "text": [
            "\n"
          ]
        },
        {
          "data": {
            "text/markdown": [
              "<span style='color:None;font-size:None'>**Estabilização Musical _(Spare the Dying)_** - truque<br></span><span style='color:None;font-size:13px'>&emsp;**Escola(s):** musical<br>&emsp;**Tempo conjuração:** 1 ação<br>&emsp;**Alcance:** 4,5 metros<br>&emsp;**Componentes:** VSM _(um instrumento musical)_<br>&emsp;**Mana:** 150<br>&emsp;**Duração:** instantânea<br></span><span style='color:None;font-size:None'>Você toca seu instrumento de forma mágica e ele pode ser ouvido até pelos caídos no campo de batalha. Escolha uma criatura viva que esteja com 0 pontos de vida que você possa ver dentro do alcance. A criatura é estabilizada.<br>&emsp;Essa magia não afeta mortos-vivos ou constructos.<br></span><span style='color:gray;font-size:11px'>[cura, toque]<br></span><span style='color:gray;font-size:11px'>[bardo, bruxo, clérigo, feiticeiro, guerreiro, ladino, mago, monge, paladino]<br></span><span style='color:gray;font-size:10px'>_LDJ_</span>"
            ],
            "text/plain": [
              "<IPython.core.display.Markdown object>"
            ]
          },
          "metadata": {},
          "output_type": "display_data"
        },
        {
          "name": "stdout",
          "output_type": "stream",
          "text": [
            "\n"
          ]
        },
        {
          "data": {
            "text/markdown": [
              "<span style='color:None;font-size:None'>**Farpa Mental _(Mind Sliver)_** - truque<br></span><span style='color:None;font-size:13px'>&emsp;**Escola(s):** psíquica<br>&emsp;**Tempo conjuração:** 1 ação<br>&emsp;**Alcance:** 18 metros<br>&emsp;**Componentes:** V<br>&emsp;**Mana:** 150<br>&emsp;**Duração:** instantânea<br>&emsp;**Dano**: 1d6<br>&emsp;**Attack/Save:** INT Save<br>&emsp;**Dmg/effect:** psíquico<br></span><span style='color:None;font-size:None'>Você direciona um espinho desorientador feito de energia psíquica para dentro da mente de uma criatura que você possa ver dentro do alcance da magia. O alvo deve ser bem sucedido em uma salvaguarda de Inteligência ou sofre 1d6 de dano psíquico e subtrai 1d4 da próxima salvaguarda que realizar antes do final do seu próximo turno.<br>&emsp;O dano dessa magia aumenta em 1d6 quando você alcança certos níveis: 5º nível (2d6), 11° nível (3d6), e 17º nível (4d6).<br></span><span style='color:gray;font-size:11px'>[dano]<br></span><span style='color:gray;font-size:11px'>[arqueiro, bardo, guerreiro, ladino, mago, monge]<br></span><span style='color:gray;font-size:10px'>_Tasha_</span>"
            ],
            "text/plain": [
              "<IPython.core.display.Markdown object>"
            ]
          },
          "metadata": {},
          "output_type": "display_data"
        },
        {
          "name": "stdout",
          "output_type": "stream",
          "text": [
            "\n"
          ]
        },
        {
          "data": {
            "text/markdown": [
              "<span style='color:None;font-size:None'>**Ferroada do Enfraquecimento _(Sapping Sting)_** - truque<br></span><span style='color:None;font-size:13px'>&emsp;**Escola(s):** elemental, necromancia (_sombras_)<br>&emsp;**Tempo conjuração:** 1 ação<br>&emsp;**Alcance:** 9 metros<br>&emsp;**Componentes:** VS<br>&emsp;**Mana:** 150<br>&emsp;**Duração:** instantânea<br>&emsp;**Dano**: 1d4<br>&emsp;**Attack/Save:** CON Save<br>&emsp;**Dmg/effect:** necrótico<br></span><span style='color:None;font-size:None'>Você extrai a vitalidade de uma criatura que você possa ver dentro do alcance. O alvo deve ter sucesso em uma salvaguarda de Constituição ou toma 1d4 de dano necrótico e cai no chão.<br></span><span style='color:gray;font-size:11px'>[controle, dano]<br></span><span style='color:gray;font-size:11px'>[arqueiro, bardo, guerreiro, ladino, mago, monge]<br></span><span style='color:gray;font-size:10px'>_Etc._</span>"
            ],
            "text/plain": [
              "<IPython.core.display.Markdown object>"
            ]
          },
          "metadata": {},
          "output_type": "display_data"
        },
        {
          "name": "stdout",
          "output_type": "stream",
          "text": [
            "\n"
          ]
        },
        {
          "data": {
            "text/markdown": [
              "<span style='color:None;font-size:None'>**Flecha Improvisada _(Custom)_** - truque - ritual<br></span><span style='color:None;font-size:13px'>&emsp;**Escola(s):** elemental (_terra, metal_)<br>&emsp;**Tempo conjuração:** 1 ação<br>&emsp;**Alcance:** pessoal<br>&emsp;**Componentes:** VS<br>&emsp;**Mana:** 200<br>&emsp;**Duração:** 10 minutos<br></span><span style='color:None;font-size:None'>Você cria flechas, virotes ou algum outro tipo de munição de forma improvisada. Você gasta sua ação criando essas munições e agora tem uma munição temporária, que pode ser gasta ao longo de dez minutos, dissolvendo-se após essa duração.<br>&emsp;A quantidade de munições dadas por essa magia aumenta em certos níveis. Para 2 no 5º nível, para 3 no 11º nível e para 4 no 17º nível.<br></span><span style='color:gray;font-size:11px'>[utilidade]<br></span><span style='color:gray;font-size:11px'>[arqueiro, guerreiro, ladino, xamã]<br></span><span style='color:gray;font-size:10px'>_LDJ_</span>"
            ],
            "text/plain": [
              "<IPython.core.display.Markdown object>"
            ]
          },
          "metadata": {},
          "output_type": "display_data"
        },
        {
          "name": "stdout",
          "output_type": "stream",
          "text": [
            "\n"
          ]
        },
        {
          "data": {
            "text/markdown": [
              "<span style='color:None;font-size:None'>**Globos de Luz _(Dancing Lights)_** - truque<br></span><span style='color:None;font-size:13px'>&emsp;**Escola(s):** elemental (_luz, fogo, sombras_)<br>&emsp;**Tempo conjuração:** 1 ação<br>&emsp;**Alcance:** 36 metros<br>&emsp;**Componentes:** VSM _(um pouco de fósforo ou wychwood ou um inseto luminoso)_<br>&emsp;**Mana:** 50 (_+ 5 por turno, 25 para mover_)<br>&emsp;**Duração:** concentração, até 1 minuto<br></span><span style='color:None;font-size:None'>Você cria até quatro luzes do tamanho de tochas dentro do alcance, fazendo-as parecerem tochas, lanternas ou esferas luminosas que flutuam no ar pela duração. Você também pode combinar as quatro luzes em uma forma luminosa, vagamente humanoide, de tamanho Médio. Qualquer que seja a forma que você escolher, cada luz produz penumbra num raio de 3 metros.<br>&emsp;Com uma ação bônus, no seu turno, você pode mover as luzes, até 18 metros, para um novo local dentro do alcance. Uma luz deve estar a, pelo menos, 6 metros de outra luz criada por essa magia e uma luz some se exceder o alcance da magia.<br>&emsp;[Sombras] Todos os alcances de iluminação descritos anteriormente são metade para um Mago das Sombras.<br>&emsp;Você gasta 5 de mana por turno para manter essa magia ativa.<br>&emsp;Você gasta 25 de mana caso queira mover as luzes.<br></span><span style='color:gray;font-size:11px'>[utilidade]<br></span><span style='color:gray;font-size:11px'>[arqueiro, bardo, guerreiro, ladino, mago, monge]<br></span><span style='color:gray;font-size:10px'>_LDJ_</span>"
            ],
            "text/plain": [
              "<IPython.core.display.Markdown object>"
            ]
          },
          "metadata": {},
          "output_type": "display_data"
        },
        {
          "name": "stdout",
          "output_type": "stream",
          "text": [
            "\n"
          ]
        },
        {
          "data": {
            "text/markdown": [
              "<span style='color:None;font-size:None'>**Golpe Sonoro _(Thunderclap)_** - truque<br></span><span style='color:None;font-size:13px'>&emsp;**Escola(s):** musical<br>&emsp;**Tempo conjuração:** 1 ação<br>&emsp;**Alcance:** 4,5 metros<br>&emsp;**Componentes:** SM _(um instrumento musical)_<br>&emsp;**Mana:** 150<br>&emsp;**Duração:** instantânea<br>&emsp;**Dano**: 1d6<br>&emsp;**Attack/Save:** CON Save<br>&emsp;**Dmg/effect:** energia<br></span><span style='color:None;font-size:None'>Você cria uma violenta explosão sonora, que pode ser ouvida a até 30 metros de distância. Cada criatura diferente de você a até 4,5 metros de você deve realizar um teste de resistência de Constituição. Se falhar na resistência, o alvo sofre 1d6 de dano energético.<br>&emsp;O dano da magia aumenta em 1d6 quando você alcança o 5º nível (2d6), 11 º nível (3d6) e 17º nível (4d6).<br></span><span style='color:gray;font-size:11px'>[dano]<br></span><span style='color:gray;font-size:11px'>[bardo, mago, monge]<br></span><span style='color:gray;font-size:10px'>_Xanathar_</span>"
            ],
            "text/plain": [
              "<IPython.core.display.Markdown object>"
            ]
          },
          "metadata": {},
          "output_type": "display_data"
        },
        {
          "name": "stdout",
          "output_type": "stream",
          "text": [
            "\n"
          ]
        },
        {
          "data": {
            "text/markdown": [
              "<span style='color:None;font-size:None'>**Ilusão Menor _(Minor Ilusion)_** - truque<br></span><span style='color:None;font-size:13px'>&emsp;**Escola(s):** ilusionista<br>&emsp;**Tempo conjuração:** 1 ação<br>&emsp;**Alcance:** 9 metros<br>&emsp;**Componentes:** VM _(um pouco de lã)_<br>&emsp;**Mana:** 100<br>&emsp;**Duração:** 1 minuto<br>&emsp;**Attack/Save:** INT Test<br></span><span style='color:None;font-size:None'>Você cria um som ou uma imagem de um objeto, dentro do alcance, que permanece pela duração. A ilusão também termina se você dissipa-la usando uma ação ou conjurar essa magia novamente.<br>&emsp;Se você criar um som, seu volume pode variar entre um sussurro até um grito. Pode ser a sua voz, a voz de outrem, o rugido de um leão, batidas de tambor ou qualquer outro som que você quiser. O som permanece no mesmo volume durante toda duração ou você pode fazer sons distintos em momentos diferentes, antes da magia acabar.<br>&emsp;Se você criar uma imagem de um objeto – como uma cadeira, pegadas de lama ou um pequeno baú – ela não pode ter mais de 1,5 metro cúbico. A imagem não pode produzir som, luz, cheiro ou qualquer outro efeito sensorial. Interação física com a imagem revelará que ela é uma ilusão, já que as coisas podem atravessa-la.<br>&emsp;Se uma criatura usar sua ação para examinar a imagem, ela pode determinar que ela é uma ilusão se obtiver sucesso num teste de Inteligência (Investigação) contra a CD da magia. Se uma criatura discernir a ilusão como sendo isso, a ilusão se tornará suave para a criatura.<br></span><span style='color:gray;font-size:11px'>[utilidade]<br></span><span style='color:gray;font-size:11px'>[arqueiro, bardo, guerreiro, ladino, mago, monge]<br></span><span style='color:gray;font-size:10px'>_LDJ_</span>"
            ],
            "text/plain": [
              "<IPython.core.display.Markdown object>"
            ]
          },
          "metadata": {},
          "output_type": "display_data"
        },
        {
          "name": "stdout",
          "output_type": "stream",
          "text": [
            "\n"
          ]
        },
        {
          "data": {
            "text/markdown": [
              "<span style='color:None;font-size:None'>**Infestação _(Infestation)_** - truque<br></span><span style='color:None;font-size:13px'>&emsp;**Escola(s):** invocação, necromancia<br>&emsp;**Tempo conjuração:** 1 ação<br>&emsp;**Alcance:** 9 metros<br>&emsp;**Componentes:** VSM _(uma pulga viva)_<br>&emsp;**Mana:** 100<br>&emsp;**Duração:** instantânea<br>&emsp;**Dano**: 1d6<br>&emsp;**Attack/Save:** CON Save<br>&emsp;**Dmg/effect:** veneno<br></span><span style='color:None;font-size:None'>Você provoca uma nuvem de ácaros, pulgas e outros parasitas a aparecer momentaneamente sobre uma criatura que você pode ver dentro alcance. O alvo deve ser bem-sucedido em teste de resistência de  Constituição, ou sofre 1d6 de dano de veneno e se move 1,5 metros em uma direção aleatória, se ele pode se mover e sua velocidade é de pelo menos 1,5 metros. Role 1d4 pela direção: 1, norte; 2, sul; 3, leste; ou 4, oeste. Este movimento não provoca ataques de oportunidade, e se a direção rolada estiver bloqueada, o alvo não se move.<br>&emsp;O dano da magia aumenta em 1d6 quando você alcança 5º nível (2d6), 11º nível (3d6) e 17º nível (4d6).<br></span><span style='color:gray;font-size:11px'>[controle, dano]<br></span><span style='color:gray;font-size:11px'>[arqueiro, bardo, ladino, mago]<br></span><span style='color:gray;font-size:10px'>_Xanathar_</span>"
            ],
            "text/plain": [
              "<IPython.core.display.Markdown object>"
            ]
          },
          "metadata": {},
          "output_type": "display_data"
        },
        {
          "name": "stdout",
          "output_type": "stream",
          "text": [
            "\n"
          ]
        },
        {
          "data": {
            "text/markdown": [
              "<span style='color:None;font-size:None'>**Lufada _(Gust)_** - truque<br></span><span style='color:None;font-size:13px'>&emsp;**Escola(s):** elemental (_água, terra, ar, sombras, metal_)<br>&emsp;**Tempo conjuração:** 1 ação<br>&emsp;**Alcance:** 9 metros<br>&emsp;**Componentes:** VS<br>&emsp;**Mana:** 150<br>&emsp;**Duração:** instantânea<br>&emsp;**Attack/Save:** STR Save<br></span><span style='color:None;font-size:None'>Você utiliza seu elemento para causar um dos efeitos em um ponto que você pode ver dentro do alcance:<br>&emsp;• Uma criatura Média ou menor que você escolher deve ser bem sucedido num teste de resistência de Força ou será afastada 1,5 metros de você.<br>&emsp;• Você cria uma pequena rajada elemental capaz de mover um objeto que não esteja sendo segurado nem carregado e que não pese mais de 2,5 quilos. O objeto é afastado 3 metros de você. Ele não é empurrado com força suficiente para causar dano.<br>&emsp;• [Ar] Você cria um efeito sensorial inofensível usando o ar, como fazer folhas farfalharem, ventos fecharem persianas, suas roupas balançarem com uma brisa.<br>&emsp;• [Sombras] Você cria um efeito sensorial inofensível usando as sombras, como deixar sua sombra maior, diminuir um pouco a luz do ambiente, fazer a sombra de alguém sumir ou criar uma sombra que pode distrair alguém.<br>&emsp;• [Terra] Você cria um efeito sensorial inofensível usando terra, como fazer um pequeno morrinho, um leve tremor capaz de desbalancear um pequeno objeto ou assustar alguém.<br>&emsp;• [Metal] Você cria um efeito sensorial inofensível como esquentar, esfriar ou deformar levemente um metal.<br></span><span style='color:gray;font-size:11px'>[controle, utilidade]<br></span><span style='color:gray;font-size:11px'>[arqueiro, bardo, ladino, mago, monge]<br></span><span style='color:gray;font-size:10px'>_Xanathar_</span>"
            ],
            "text/plain": [
              "<IPython.core.display.Markdown object>"
            ]
          },
          "metadata": {},
          "output_type": "display_data"
        },
        {
          "name": "stdout",
          "output_type": "stream",
          "text": [
            "\n"
          ]
        },
        {
          "data": {
            "text/markdown": [
              "<span style='color:None;font-size:None'>**Luz _(Light)_** - truque<br></span><span style='color:None;font-size:13px'>&emsp;**Escola(s):** elemental (_luz_)<br>&emsp;**Tempo conjuração:** 1 ação<br>&emsp;**Alcance:** toque<br>&emsp;**Componentes:** VSM _(um vaga-lume ou musgo fosforescente)_<br>&emsp;**Mana:** 100 (_+ 5 a cada 5 minutos_)<br>&emsp;**Duração:** concentração, até 1 hora<br>&emsp;**Attack/Save:** DEX Save<br></span><span style='color:None;font-size:None'>Você toca um objeto que não tenha mais 3 metros em qualquer dimensão. Até a magia acabar, o objeto emite luz plena num raio de 6 metros e penumbra por 6 metros adicionais. Cobrir o objeto completamente com alguma coisa opaca bloqueará a luz. A magia termina se você conjura-la novamente ou dissipa-la com uma ação.<br>&emsp;Se você tentar afetar um objeto segurado ou vestido por uma criatura hostil, a criatura deve ser bem sucedida num teste de Destreza para evitar a magia.<br>&emsp;Você gasta 5 de mana a cada cinco minutos passados.<br></span><span style='color:gray;font-size:11px'>[toque, utilidade]<br></span><span style='color:gray;font-size:11px'>[arqueiro, bardo, guerreiro, ladino, mago, monge]<br></span><span style='color:gray;font-size:10px'>_LDJ_</span>"
            ],
            "text/plain": [
              "<IPython.core.display.Markdown object>"
            ]
          },
          "metadata": {},
          "output_type": "display_data"
        },
        {
          "name": "stdout",
          "output_type": "stream",
          "text": [
            "\n"
          ]
        },
        {
          "data": {
            "text/markdown": [
              "<span style='color:None;font-size:None'>**Lâmina Elemental _(Custom)_** - truque<br></span><span style='color:None;font-size:13px'>&emsp;**Escola(s):** elemental (_água, terra, fogo, ar, luz, sombras, relâmpago, metal, veneno_)<br>&emsp;**Tempo conjuração:** 1 ação bônus<br>&emsp;**Alcance:** pessoal<br>&emsp;**Componentes:** SM _(uma arma marcial corpo-a-corpo)_<br>&emsp;**Mana:** 150<br>&emsp;**Duração:** instantânea<br>&emsp;**Dano**: 1d4<br>&emsp;**Attack/Save:** corpo-a-corpo<br>&emsp;**Dmg/effect:** elemental<br></span><span style='color:None;font-size:None'>Você transmite sua mana pela lâmina de uma arma, encobrindo-a com seu elemento. Faça um ataque corpo-a-corpo contra uma criatura até 1,5m de você. Em um acerto, o alvo sofre os efeitos normais do ataque da arma e mais 1d4 de dano elemental.<br>&emsp;O dano dessa magia aumenta quando você alcança certos níveis. No 5º nível, o dano aumenta para 1d6, no 11º nível aumenta para 1d8 e no 17º nível aumenta para 1d10.<br></span><span style='color:gray;font-size:11px'>[arma, corpo-a-corpo, dano]<br></span><span style='color:gray;font-size:11px'>[arqueiro, guerreiro, ladino]<br></span><span style='color:gray;font-size:10px'>_Custom_</span>"
            ],
            "text/plain": [
              "<IPython.core.display.Markdown object>"
            ]
          },
          "metadata": {},
          "output_type": "display_data"
        },
        {
          "name": "stdout",
          "output_type": "stream",
          "text": [
            "\n"
          ]
        },
        {
          "data": {
            "text/markdown": [
              "<span style='color:None;font-size:None'>**Lâmina Estrondosa _(Booming Blade)_** - truque<br></span><span style='color:None;font-size:13px'>&emsp;**Escola(s):** elemental (_relâmpago, ar, luz, sombras_)<br>&emsp;**Tempo conjuração:** 1 ação<br>&emsp;**Alcance:** pessoal<br>&emsp;**Componentes:** VSM _(arma marcial corpo-a-corpo)_<br>&emsp;**Mana:** 100<br>&emsp;**Duração:** 1 rodada<br>&emsp;**Dano**: 1d8<br>&emsp;**Attack/Save:** corpo-a-corpo<br>&emsp;**Dmg/effect:** elemental<br></span><span style='color:None;font-size:None'>Você brande a arma utilizada na conjuração dessa magia e faz um ataque corpo a corpo contra uma criatura até 1,5m de você. Em um acerto, o alvo sofre os efeitos normais do ataque da arma e então fica envolvo em energia estrondosa até o começo do seu próximo turno. Se o alvo se mover 1,5m ou mais de forma voluntária após isso, ele recebe 1d8 de dano do seu elemento e a magia se encerra.<br>&emsp;O dano da magia aumenta quando você alcança certos níveis. No 5º nível, o ataque corpo a corpo provoca 1d8 de dano adicional se acertar, e o dano que o alvo recebe por se mover aumenta para 2d8. Ambos os danos aumentam em 1d8 no 11º nível (2d8 e 3d8) e novamente no 17º nível (3d8 e 4d8).<br></span><span style='color:gray;font-size:11px'>[arma, controle, corpo-a-corpo, dano]<br></span><span style='color:gray;font-size:11px'>[guerreiro, ladino, paladino]<br></span><span style='color:gray;font-size:10px'>_Tasha_</span>"
            ],
            "text/plain": [
              "<IPython.core.display.Markdown object>"
            ]
          },
          "metadata": {},
          "output_type": "display_data"
        },
        {
          "name": "stdout",
          "output_type": "stream",
          "text": [
            "\n"
          ]
        },
        {
          "data": {
            "text/markdown": [
              "<span style='color:None;font-size:None'>**Lâmina Saltitante _(Green-Flame Blade)_** - truque<br></span><span style='color:None;font-size:13px'>&emsp;**Escola(s):** elemental (_água, terra, fogo, ar, luz, sombras, relâmpago, metal, veneno_)<br>&emsp;**Tempo conjuração:** 1 ação<br>&emsp;**Alcance:** pessoal<br>&emsp;**Componentes:** SM _(uma arma marcial corpo-a-corpo)_<br>&emsp;**Mana:** 150<br>&emsp;**Duração:** instantânea<br>&emsp;**Dano**: mod<br>&emsp;**Attack/Save:** corpo-a-corpo<br>&emsp;**Dmg/effect:** elemental<br></span><span style='color:None;font-size:None'>Você brande a arma utilizada na conjuração dessa magia e faz um ataque corpo-a-corpo contra uma criatura até 1,5m de você. Em um acerto, o alvo sofre os efeitos normais do ataque da arma e você faz com que uma rajada elemental salte do alvo para uma criatura diferente a sua escolha que você possa ver a até 1,5m do primeiro alvo. A segunda criatura sofre dano elemental igual ao seu modificador de atributo de conjuração.<br>&emsp;[Arqueiro] Pode usar uma arma de ataque à distância.<br>&emsp;O dano dessa magia aumenta quando você alcança certos níveis. No 5º nível, o ataque corpo-a-corpo provoca 1d8 de dano elemental adicional se acertar, e o dano elemental que a segunda criatura recebe aumenta para 1d8 + o modificador de seu atributo de conjuração. Ambos os danos aumentam em 1d8 no 11º nível (2d8 e 2d8) e novamente no 17º nível (3d8 e 3d8).<br></span><span style='color:gray;font-size:11px'>[arma, corpo-a-corpo, dano]<br></span><span style='color:gray;font-size:11px'>[arqueiro, guerreiro, ladino, mago, monge]<br></span><span style='color:gray;font-size:10px'>_Tasha_</span>"
            ],
            "text/plain": [
              "<IPython.core.display.Markdown object>"
            ]
          },
          "metadata": {},
          "output_type": "display_data"
        },
        {
          "name": "stdout",
          "output_type": "stream",
          "text": [
            "\n"
          ]
        },
        {
          "data": {
            "text/markdown": [
              "<span style='color:None;font-size:None'>**Mensagem _(Message)_** - truque<br></span><span style='color:None;font-size:13px'>&emsp;**Escola(s):** psíquica<br>&emsp;**Tempo conjuração:** 1 ação<br>&emsp;**Alcance:** 36 metros<br>&emsp;**Componentes:** VSM _(um pedaço curto de fio de cobre)_<br>&emsp;**Mana:** 100<br>&emsp;**Duração:** 1 rodada<br></span><span style='color:None;font-size:None'>Você aponta seu dedo para uma criatura dentro do alcance e sussurra uma mensagem. O alvo (e apenas ele) ouvi a mensagem e pode responder com um sussurro que apenas você pode ouvir.<br>&emsp;Você pode conjurar essa magia através de objetos sólidos se você tiver familiaridade com o alvo. Silêncio mágico, 30 centímetros de rocha, 2,5 centímetros de metal comum, uma fina camada de chumbo, ou 90 centímetros de madeira ou terra bloqueiam a magia. A magia não precisa seguir uma linha reta e pode viajar livremente, dobrando esquinas ou através de aberturas.<br></span><span style='color:gray;font-size:11px'>[comunicação]<br></span><span style='color:gray;font-size:11px'>[arqueiro, bardo, guerreiro, ladino, mago, monge]<br></span><span style='color:gray;font-size:10px'>_LDJ_</span>"
            ],
            "text/plain": [
              "<IPython.core.display.Markdown object>"
            ]
          },
          "metadata": {},
          "output_type": "display_data"
        },
        {
          "name": "stdout",
          "output_type": "stream",
          "text": [
            "\n"
          ]
        },
        {
          "data": {
            "text/markdown": [
              "<span style='color:None;font-size:None'>**Moldar Terra _(Mold Earth)_** - truque<br></span><span style='color:None;font-size:13px'>&emsp;**Escola(s):** elemental (_terra_)<br>&emsp;**Tempo conjuração:** 1 ação<br>&emsp;**Alcance:** 9 metros<br>&emsp;**Componentes:** S<br>&emsp;**Mana:** 50 (_+ 5 a cada 5 minutos_)<br>&emsp;**Duração:** instantâneo ou 1 hora<br></span><span style='color:None;font-size:None'>Você escolhe uma porção de detritos ou pedra que você possa ver, dentro do alcance, e que caiba num cubo de 1,5 metros. Você manipula-a de uma das seguintes maneiras: <br>&emsp;• Se você afetar uma área de terra solta, você pode escava-la instantaneamente, movendo-a pelo solo e depositando-a 1,5 metros de distância. Esse momento não tem força suficiente para causar dano.<br>&emsp;• Você faz com que formas, cores ou ambos apareçam na terra ou pedra, escrevendo palavras, criando imagens ou moldando padrões. As mudanças duram por 1 hora.<br>&emsp;• Se a terra ou pedra que você afetou estiver no solo, você faz com que ele se torne terreno difícil. Alternativamente, você pode fazer com que solo se torne terreno normal, caso ele já seja terreno difícil. Essa mudança dura por 1 hora.<br><br>Se você conjurar essa magia diversas vezes, você pode ter até dois dos seus efeitos não instantâneos ativos ao mesmo tempo, e você pode dissipar um efeito desses com uma ação.<br>&emsp;Você gasta 5 de mana a cada 5 minutos dessa magia.<br></span><span style='color:gray;font-size:11px'>[controle, utilidade]<br></span><span style='color:gray;font-size:11px'>[arqueiro, bardo, guerreiro, ladino, mago, monge]<br></span><span style='color:gray;font-size:10px'>_Xanathar_</span>"
            ],
            "text/plain": [
              "<IPython.core.display.Markdown object>"
            ]
          },
          "metadata": {},
          "output_type": "display_data"
        },
        {
          "name": "stdout",
          "output_type": "stream",
          "text": [
            "\n"
          ]
        },
        {
          "data": {
            "text/markdown": [
              "<span style='color:None;font-size:None'>**Moldar Água _(Mold Water)_** - truque<br></span><span style='color:None;font-size:13px'>&emsp;**Escola(s):** elemental (_água_)<br>&emsp;**Tempo conjuração:** 1 ação<br>&emsp;**Alcance:** pessoal<br>&emsp;**Componentes:** S<br>&emsp;**Mana:** 50 (_+ 5 a cada 5 minutos_)<br>&emsp;**Duração:** instantânea ou 1 hora<br></span><span style='color:None;font-size:None'>Você escolhe uma área de água que você possa ver, dentro do alcance, e que caiba num cubo de 1,5 metros. Você manipula-a de uma das seguintes maneiras:<br>&emsp;• Você move instantaneamente ou, de alguma outra forma, muda o curso da água como você ordenar, até 1,5 metros em qualquer direção. Esse movimento não tem força suficiente para causar dano.<br>&emsp;• Você faz com que a água forme formas simples e se anime como você ordenar. Essa mudança dura por 1 hora.<br>&emsp;• Você muda a cor ou opacidade da água. A água deve ser modificada da mesma forma por inteiro. Essa mudança dura por 1 hora.<br>&emsp;• Você congela a água, considerando que não haja criaturas nela. A água descongela em 1 hora.<br>&emsp;Se você conjurar essa magia diversas vezes, você pode ter atê dois dos seus efeitos não instantâneos ativos ao mesmo tempo, e você pode dissipar um efeito desses com uma ação.<br>&emsp;Essa magia gasta 5 de mana a cada 5 minutos.<br></span><span style='color:gray;font-size:11px'>[controle, utilidade]<br></span><span style='color:gray;font-size:11px'>[arqueiro, bardo, guerreiro, ladino, mago, monge]<br></span><span style='color:gray;font-size:10px'>_Xanathar_</span>"
            ],
            "text/plain": [
              "<IPython.core.display.Markdown object>"
            ]
          },
          "metadata": {},
          "output_type": "display_data"
        },
        {
          "name": "stdout",
          "output_type": "stream",
          "text": [
            "\n"
          ]
        },
        {
          "data": {
            "text/markdown": [
              "<span style='color:None;font-size:None'>**Mordida Congelante _(Frostbite)_** - truque<br></span><span style='color:None;font-size:13px'>&emsp;**Escola(s):** elemental (_água, terra, veneno, metal, sombras_)<br>&emsp;**Tempo conjuração:** 1 ação<br>&emsp;**Alcance:** 18 metros<br>&emsp;**Componentes:** VS<br>&emsp;**Mana:** 100<br>&emsp;**Duração:** instantânea<br>&emsp;**Dano**: 1d6<br>&emsp;**Attack/Save:** CON Save<br>&emsp;**Dmg/effect:** elemental<br></span><span style='color:None;font-size:None'>Você faz com que um frio entorpecente se forme em uma criatura que você possa ver, dentro do alcance. O alvo deve realizar um teste de resistência de Constituição. Se falhar na resistência, o alvo sofre 1d6 de dano elemental e terá desvantagem na próxima jogada de ataque com arma que fizer antes do final do seu próximo turno.<br>&emsp;O dano da magia aumenta em 1d6 quando você alcança o 5º nível (2d6), 11º nível (3d6) e 17º nível (4d6).<br></span><span style='color:gray;font-size:11px'>[dano, debuff]<br></span><span style='color:gray;font-size:11px'>[arqueiro, guerreiro, ladino, mago, monge]<br></span><span style='color:gray;font-size:10px'>_Xanathar_</span>"
            ],
            "text/plain": [
              "<IPython.core.display.Markdown object>"
            ]
          },
          "metadata": {},
          "output_type": "display_data"
        },
        {
          "name": "stdout",
          "output_type": "stream",
          "text": [
            "\n"
          ]
        },
        {
          "data": {
            "text/markdown": [
              "<span style='color:None;font-size:None'>**Mãos Mágicas _(Mage Hand)_** - truque<br></span><span style='color:None;font-size:13px'>&emsp;**Escola(s):** necromancia, invocação<br>&emsp;**Tempo conjuração:** 1 ação<br>&emsp;**Alcance:** 9 metros<br>&emsp;**Componentes:** VS<br>&emsp;**Mana:** 150<br>&emsp;**Duração:** instantânea<br></span><span style='color:None;font-size:None'>Uma mão espectral flutuante aparece num ponto, à sua escolha, dentro do alcance. A mão permanece pela duração ou até você dissipa-la com uma ação. A mão some se estiver a mais de 9 metros de você ou se você conjurar essa magia novamente.<br>&emsp;Você pode usar sua ação para controlar a mão. Você pode usar a mão para manipular um objeto, abrir uma porta ou recipiente destrancado, guardar ou pegar um item de um recipiente aberto ou derramar o conteúdo de um frasco. Você pode mover a mão até 9 metros a cada vez que a usa.<br>&emsp;A mão não pode atacar, ativar itens mágicos.<br>&emsp;Você gasta 20 de mana para cada turno que passar, 50 de mana caso a mão esteja carregando algo que pese mais de 1 quilo e 100 caso ela esteja carregando algo com mais de três quilos. Se ela tentar carregar mais de 5 quilos, você deve fazer um teste de resistência de sua habilidade de conjuração CD 12 + a quantidade de quilos acima de 5. Além disso, você gasta 100 vezes a quantidade de quilos acima de 5 pontos de mana por turno.<br></span><span style='color:gray;font-size:11px'>[utilidade]<br></span><span style='color:gray;font-size:11px'>[arqueiro, bardo, guerreiro, ladino, mago, monge]<br></span><span style='color:gray;font-size:10px'>_LDJ_</span>"
            ],
            "text/plain": [
              "<IPython.core.display.Markdown object>"
            ]
          },
          "metadata": {},
          "output_type": "display_data"
        },
        {
          "name": "stdout",
          "output_type": "stream",
          "text": [
            "\n"
          ]
        },
        {
          "data": {
            "text/markdown": [
              "<span style='color:None;font-size:None'>**Orientação _(Guidance)_** - truque<br></span><span style='color:None;font-size:13px'>&emsp;**Escola(s):** elemental (_luz, água_)<br>&emsp;**Tempo conjuração:** 1 ação<br>&emsp;**Alcance:** toque<br>&emsp;**Componentes:** VS<br>&emsp;**Mana:** 75 (_+ 50 por turno_)<br>&emsp;**Duração:** concentração, até 1 minuto<br></span><span style='color:None;font-size:None'>Você toca uma criatura voluntária e uma aura elemental envolve ela, desaparecendo após alguns segundos. Uma vez, antes da magia acabar, o alvo pode rolar 1d4 e adicionar o número rolado a um teste de habilidade a escolha dele. Ele pode rolar o dado antes ou depois de realizar o teste de habilidade. Após isso, a magia termina. Você gasta 50 de mana por turno até o final da magia.<br></span><span style='color:gray;font-size:11px'>[buff, toque]<br></span><span style='color:gray;font-size:11px'>[bardo, bruxo, clérigo, feiticeiro, mago, paladino]<br></span><span style='color:gray;font-size:10px'>_LDJ_</span>"
            ],
            "text/plain": [
              "<IPython.core.display.Markdown object>"
            ]
          },
          "metadata": {},
          "output_type": "display_data"
        },
        {
          "name": "stdout",
          "output_type": "stream",
          "text": [
            "\n"
          ]
        },
        {
          "data": {
            "text/markdown": [
              "<span style='color:None;font-size:None'>**Palavra do Esplendor _(Word of Radiance)_** - truque<br></span><span style='color:None;font-size:13px'>&emsp;**Escola(s):** elemental (_relâmpago, luz, sombras_)<br>&emsp;**Tempo conjuração:** 1 ação<br>&emsp;**Alcance:** 1,5 metros<br>&emsp;**Componentes:** VS<br>&emsp;**Mana:** 100<br>&emsp;**Duração:** instantânea<br>&emsp;**Dano**: 1d6<br>&emsp;**Attack/Save:** CON Save<br>&emsp;**Dmg/effect:** elemental<br></span><span style='color:None;font-size:None'>Você levanta sua mão para o alto, pronunciando uma palavra divina e um raio elementar cai como um trovão nos inimigos. Cada criatura a sua escolha que você pode ver dentro do alcance deve ter sucesso em um teste de resistência de Constituição o sofre 1d6 de dano elementar.<br>&emsp;O dano da magia aumenta em 1d6 guando você alcança o 5º nível (2d6), 11º nível (3d6) e 17 nível (4d6).<br></span><span style='color:gray;font-size:11px'>[dano]<br></span><span style='color:gray;font-size:11px'>[arqueiro, bardo, mago]<br></span><span style='color:gray;font-size:10px'>_Xanathar_</span>"
            ],
            "text/plain": [
              "<IPython.core.display.Markdown object>"
            ]
          },
          "metadata": {},
          "output_type": "display_data"
        },
        {
          "name": "stdout",
          "output_type": "stream",
          "text": [
            "\n"
          ]
        },
        {
          "data": {
            "text/markdown": [
              "<span style='color:None;font-size:None'>**Pedra Encantada _(Magic Stone)_** - truque<br></span><span style='color:None;font-size:13px'>&emsp;**Escola(s):** elemental (_terra_)<br>&emsp;**Tempo conjuração:** 1 ação bônus<br>&emsp;**Alcance:** toque<br>&emsp;**Componentes:** VSM _(um pouco de pó de prata)_<br>&emsp;**Mana:** 50<br>&emsp;**Duração:** 1 minuto<br>&emsp;**Dano**: 1d6 + mod<br>&emsp;**Attack/Save:** distância<br>&emsp;**Dmg/effect:** concussão<br></span><span style='color:None;font-size:None'>Você toca de uma a três pedrinhas e as imbui com mágica. Você ou mais alguém pode realizar um ataque à distância com magia com uma dessas pedrinhas ao arremessa-las ou dispara-las com uma funda. Se for arremessada, ela tem um alcance de 18 metros. Se mais alguém atacar com a pedrinha, esse atacante adiciona seu modificador de habilidade de conjuração, não o do atacante, à jogada de ataque. Se atingir, o alvo sofre dano de concussão igual a 1d6 + seu modificador de habilidade de conjuração. Atingindo ou errando, a magia então termina na pedra.<br>&emsp;Se você conjurar essa magia novamente, ela acaba prematuramente em quaisquer pedrinhas que ainda estivessem sendo afetadas por ela.<br></span><span style='color:gray;font-size:11px'>[dano, distância, toque]<br></span><span style='color:gray;font-size:11px'>[arqueiro, bardo, mago, monge]<br></span><span style='color:gray;font-size:10px'>_Xanathar_</span>"
            ],
            "text/plain": [
              "<IPython.core.display.Markdown object>"
            ]
          },
          "metadata": {},
          "output_type": "display_data"
        },
        {
          "name": "stdout",
          "output_type": "stream",
          "text": [
            "\n"
          ]
        },
        {
          "data": {
            "text/markdown": [
              "<span style='color:None;font-size:None'>**Prestidigitação _(Prestidigitation)_** - truque<br></span><span style='color:None;font-size:13px'>&emsp;**Escola(s):** elemental (_água, terra, fogo, ar, sombras, relâmpago, metal, veneno_)<br>&emsp;**Tempo conjuração:** 1 ação<br>&emsp;**Alcance:** 3 metros<br>&emsp;**Componentes:** VS<br>&emsp;**Mana:** 50<br>&emsp;**Duração:** até 1 hora<br></span><span style='color:None;font-size:None'>Essa magia é um truque mágico simples que conjuradores iniciantes usam para praticar. Você cria um dos seguintes efeitos mágicos dentro do alcance:<br>&emsp;• Você cria, instantaneamente, um efeito sensorial inofensivo, como uma [relâmpago] chuva de faíscas, [ar] um sopro de vento, ou [veneno] um odor estranho.<br>&emsp;•[Fogo] Você, instantaneamente, acende ou apaga uma vela, uma tocha ou uma pequena fogueira.<br>&emsp;•[Terra] Você, instantaneamente, limpa ou suja um objeto de até 1 metro cúbico. Você pode limpar ou sujar uma parte de uma roupa com lama.<br>&emsp;•[Água] Você seca ou molha uma porção de tecido, madeira ou algo do tipo.<br>&emsp;•[Fogo] Você esfria, esquenta ou melhora o sabor de até 1 metro cubico de matéria orgânica não viva por 1 hora.<br>&emsp;•[Metal] Você faz uma cor, uma pequena marca ou um símbolo aparecer em um objeto ou superfície metálica por 1 hora.<br>&emsp;•[Ilusão] Você cria uma bugiganga não-mágica ou uma imagem ilusória que caiba na sua mão e que dura até o final do seu próximo turno.<br>&emsp;Se você conjurar essa magia diversas vezes, você pode ter até três dos seus efeitos não-instantâneos ativos, ao mesmo tempo, e você pode dissipar um desses efeitos com uma ação.<br></span><span style='color:gray;font-size:11px'>[utilidade]<br></span><span style='color:gray;font-size:11px'>[arqueiro, bardo, guerreiro, ladino, mago, monge]<br></span><span style='color:gray;font-size:10px'>_LDJ_</span>"
            ],
            "text/plain": [
              "<IPython.core.display.Markdown object>"
            ]
          },
          "metadata": {},
          "output_type": "display_data"
        },
        {
          "name": "stdout",
          "output_type": "stream",
          "text": [
            "\n"
          ]
        },
        {
          "data": {
            "text/markdown": [
              "<span style='color:None;font-size:None'>**Proteção contra Lâminas _(Blade Ward)_** - truque<br></span><span style='color:None;font-size:13px'>&emsp;**Escola(s):** elemental (_água, terra, ar, metal_)<br>&emsp;**Tempo conjuração:** 1 ação<br>&emsp;**Alcance:** pessoal<br>&emsp;**Componentes:** VS<br>&emsp;**Mana:** 200<br>&emsp;**Duração:** 1 rodada<br></span><span style='color:None;font-size:None'>Até seu próximo turno, você tem resistência contra dano de concussão, cortante e perfurante de ataques com armas não-mágicas.<br>&emsp;[Metal] Como conjurador de metal, você pode usar esse truque independentemente da sua classe.<br></span><span style='color:gray;font-size:11px'>[defesa]<br></span><span style='color:gray;font-size:11px'>[bardo, mago]<br></span><span style='color:gray;font-size:10px'>_LDJ_</span>"
            ],
            "text/plain": [
              "<IPython.core.display.Markdown object>"
            ]
          },
          "metadata": {},
          "output_type": "display_data"
        },
        {
          "name": "stdout",
          "output_type": "stream",
          "text": [
            "\n"
          ]
        },
        {
          "data": {
            "text/markdown": [
              "<span style='color:None;font-size:None'>**Raio de Fogo _(Fire Bolt)_** - truque<br></span><span style='color:None;font-size:13px'>&emsp;**Escola(s):** elemental (_fogo, sombras, luz_)<br>&emsp;**Tempo conjuração:** 1 ação<br>&emsp;**Alcance:** 36 metros<br>&emsp;**Componentes:** VS<br>&emsp;**Mana:** 150<br>&emsp;**Duração:** instantânea<br>&emsp;**Dano**: 1d10<br>&emsp;**Attack/Save:** distância<br>&emsp;**Dmg/effect:** elemental<br></span><span style='color:None;font-size:None'>Você arremessa um cisco elemental em uma criatura ou objeto dentro do alcance. Faça um ataque à distância com magia contra o alvo. Se atingir, o alvo sofre 1d10 de dano de elemental.<br>&emsp;[Fogo|Sombras] Um objeto inflamável atingido por essa magia, incendeia se não estiver sendo vestido ou carregado.<br>&emsp;O dano dessa magia aumenta em 1d10 quando você alcança o 5° nível (2d10), 11° nível (3d10) e 17° nível (4d10).<br></span><span style='color:gray;font-size:11px'>[dano, distância, utilidade]<br></span><span style='color:gray;font-size:11px'>[arqueiro, bardo, guerreiro, mago, monge]<br></span><span style='color:gray;font-size:10px'>_LDJ_</span>"
            ],
            "text/plain": [
              "<IPython.core.display.Markdown object>"
            ]
          },
          "metadata": {},
          "output_type": "display_data"
        },
        {
          "name": "stdout",
          "output_type": "stream",
          "text": [
            "\n"
          ]
        },
        {
          "data": {
            "text/markdown": [
              "<span style='color:None;font-size:None'>**Raio de Gelo _(Ray of Frost)_** - truque<br></span><span style='color:None;font-size:13px'>&emsp;**Escola(s):** elemental (_água, ar, relâmpago_)<br>&emsp;**Tempo conjuração:** 1 ação<br>&emsp;**Alcance:** 18 metros<br>&emsp;**Componentes:** VS<br>&emsp;**Mana:** 150<br>&emsp;**Duração:** instantânea<br>&emsp;**Dano**: 1d8<br>&emsp;**Attack/Save:** distância<br>&emsp;**Dmg/effect:** elemental<br></span><span style='color:None;font-size:None'>Um raio elemental parte em direção de uma criatura, dentro do alcance. Realize um ataque à distância com magia contra o alvo. Se atingir, ele sofre 1d8 de dano elemental e seu deslocamento é reduzido em 3 metros até o começo do seu próximo turno.<br>&emsp;O dano da magia aumenta em 1d8 quando você alcança o 5° nível (2d8), 11° nível (3d8) e 17° nível (4d8).<br></span><span style='color:gray;font-size:11px'>[controle, dano, distância]<br></span><span style='color:gray;font-size:11px'>[arqueiro, bardo, guerreiro, ladino, mago, monge]<br></span><span style='color:gray;font-size:10px'>_LDJ_</span>"
            ],
            "text/plain": [
              "<IPython.core.display.Markdown object>"
            ]
          },
          "metadata": {},
          "output_type": "display_data"
        },
        {
          "name": "stdout",
          "output_type": "stream",
          "text": [
            "\n"
          ]
        },
        {
          "data": {
            "text/markdown": [
              "<span style='color:None;font-size:None'>**Rajada Mística _(Eldritch Blast)_** - truque<br></span><span style='color:None;font-size:13px'>&emsp;**Escola(s):** elemental (_água, terra, ar, fogo, luz, sombras, relâmpago, veneno_)<br>&emsp;**Tempo conjuração:** 1 ação<br>&emsp;**Alcance:** 36 metros<br>&emsp;**Componentes:** VS<br>&emsp;**Mana:** 150<br>&emsp;**Duração:** instantânea<br>&emsp;**Dano**: 1d10<br>&emsp;**Attack/Save:** distância<br>&emsp;**Dmg/effect:** elemental<br></span><span style='color:None;font-size:None'>Um feixe elemental vai em direção a uma criatura dentro do alcance. Realize uma jogada de ataque à distância com magia contra o alvo. Se atingir, o alvo sofre 1d10 de dano do seu elemento.<br>&emsp;A magia cria mais de um feixe quando você alcança níveis elevados: dois feixes no 5° nível, três feixes no 11° nível e quatro feixes no 17° nível. Você pode direcionar os feixes para o mesmo alvo ou para alvos diferentes. Realize jogadas de ataque separadas para cada feixe.<br></span><span style='color:gray;font-size:11px'>[dano, distância]<br></span><span style='color:gray;font-size:11px'>[arqueiro, bardo, guerreiro, ladino, mago, monge]<br></span><span style='color:gray;font-size:10px'>_LDJ_</span>"
            ],
            "text/plain": [
              "<IPython.core.display.Markdown object>"
            ]
          },
          "metadata": {},
          "output_type": "display_data"
        },
        {
          "name": "stdout",
          "output_type": "stream",
          "text": [
            "\n"
          ]
        },
        {
          "data": {
            "text/markdown": [
              "<span style='color:None;font-size:None'>**Rajada de Veneno _(Poison Spray)_** - truque<br></span><span style='color:None;font-size:13px'>&emsp;**Escola(s):** elemental (_veneno, sombras, metal_)<br>&emsp;**Tempo conjuração:** 1 ação<br>&emsp;**Alcance:** 4,5 metros<br>&emsp;**Componentes:** VS<br>&emsp;**Mana:** 200<br>&emsp;**Duração:** instantânea<br>&emsp;**Dano**: 1d12<br>&emsp;**Attack/Save:** CON Save<br>&emsp;**Dmg/effect:** elemental<br></span><span style='color:None;font-size:None'>Você ergue sua mão em direção de uma criatura que você possa ver, dentro do alcance e projeta um sopro de gás tóxico da sua palma. A criatura deve ser bem sucedida num teste de resistência de Constituição ou sofrerá 1d12 de dano de veneno.<br>&emsp;O dano dessa magia aumenta em 1d12 quando você alcança o 5° nível (2d12), 11° nível (3d12) e 17° nível (4d12).<br></span><span style='color:gray;font-size:11px'>[dano]<br></span><span style='color:gray;font-size:11px'>[arqueiro, bardo, guerreiro, ladino, mago, monge]<br></span><span style='color:gray;font-size:10px'>_LDJ_</span>"
            ],
            "text/plain": [
              "<IPython.core.display.Markdown object>"
            ]
          },
          "metadata": {},
          "output_type": "display_data"
        },
        {
          "name": "stdout",
          "output_type": "stream",
          "text": [
            "\n"
          ]
        },
        {
          "data": {
            "text/markdown": [
              "<span style='color:None;font-size:None'>**Reparo Metálico _(Mending)_** - truque<br></span><span style='color:None;font-size:13px'>&emsp;**Escola(s):** elemental (_metal_)<br>&emsp;**Tempo conjuração:** 1 minuto<br>&emsp;**Alcance:** toque<br>&emsp;**Componentes:** VSM _(dois ímas)_<br>&emsp;**Mana:** 200<br>&emsp;**Duração:** instantânea<br></span><span style='color:None;font-size:None'>Essa magia repara uma única quebra ou fissura em um objeto feito de metal que você tocar, como um elo quebrado de uma corrente, duas metades de uma chave partida ou uma arma arranhada. Contanto que a quebra ou fissura não tenha mais de 30 centímetros em qualquer dimensão, você pode remenda-la, não deixando qualquer vestígio do dano anterior.<br>&emsp;Essa magia pode reparar fisicamente um item mágico ou constructo, mas a magia não irá restaurar a magia em tais objetos.<br></span><span style='color:gray;font-size:11px'>[toque, utilidade]<br></span><span style='color:gray;font-size:11px'>[arqueiro, bardo, guerreiro, mago, monge]<br></span><span style='color:gray;font-size:10px'>_LDJ_</span>"
            ],
            "text/plain": [
              "<IPython.core.display.Markdown object>"
            ]
          },
          "metadata": {},
          "output_type": "display_data"
        },
        {
          "name": "stdout",
          "output_type": "stream",
          "text": [
            "\n"
          ]
        },
        {
          "data": {
            "text/markdown": [
              "<span style='color:None;font-size:None'>**Resistência _(Resistence)_** - truque<br></span><span style='color:None;font-size:13px'>&emsp;**Escola(s):** elemental (_luz, água_)<br>&emsp;**Tempo conjuração:** 1 ação<br>&emsp;**Alcance:** toque<br>&emsp;**Componentes:** VSM _(um manto em miniatura)_<br>&emsp;**Mana:** 75 (_+ 50 por turno_)<br>&emsp;**Duração:** concentração, até 1 minuto<br></span><span style='color:None;font-size:None'>Você toca uma criatura voluntária e uma aura elemental envolve ela, desaparecendo após alguns segundos. Uma vez, antes da magia acabar, o alvo pode rolar 1d4 e adicionar o número rolado a um teste de resistência de sua escolha. Ele pode rolar o dado antes ou depois de realizar o teste de resistência. Após isso, a magia termina. Você gasta 50 de mana por turno até o final da magia.<br></span><span style='color:gray;font-size:11px'>[buff, toque]<br></span><span style='color:gray;font-size:11px'>[bardo, bruxo, clérigo, feiticeiro, mago, paladino]<br></span><span style='color:gray;font-size:10px'>_LDJ_</span>"
            ],
            "text/plain": [
              "<IPython.core.display.Markdown object>"
            ]
          },
          "metadata": {},
          "output_type": "display_data"
        },
        {
          "name": "stdout",
          "output_type": "stream",
          "text": [
            "\n"
          ]
        },
        {
          "data": {
            "text/markdown": [
              "<span style='color:None;font-size:None'>**Rompante de Espadas _(Sword Burst)_** - truque<br></span><span style='color:None;font-size:13px'>&emsp;**Escola(s):** elemental (_água, terra, ar, fogo, sombras, luz, metal_)<br>&emsp;**Tempo conjuração:** 1 ação<br>&emsp;**Alcance:** pessoal<br>&emsp;**Componentes:** VSM _(um pouco de pó de prata)_<br>&emsp;**Mana:** 100<br>&emsp;**Duração:** instantânea<br>&emsp;**Dano**: 1d6<br>&emsp;**Attack/Save:** DEX Save<br>&emsp;**Dmg/effect:** fogo<br></span><span style='color:None;font-size:None'>Você cria um círculo momentâneo de lâminas elementais que giram ao seu redor. Todas as outras criaturas a até 1,5m de você devem ser bem-sucedidas em uma salvaguarda de Destreza ou recebem 1d6 de dano elemental.<br>&emsp;O dano da magia aumenta em 1d6 quando você alcança o 5º nível (2d6), 11 nível (3d6), e 17º nível (4d6).<br></span><span style='color:gray;font-size:11px'>[dano]<br></span><span style='color:gray;font-size:11px'>[bruxo, clérigo, feiticeiro, guerreiro, ladino, mago, monge, paladino]<br></span><span style='color:gray;font-size:10px'>_Tasha_</span>"
            ],
            "text/plain": [
              "<IPython.core.display.Markdown object>"
            ]
          },
          "metadata": {},
          "output_type": "display_data"
        },
        {
          "name": "stdout",
          "output_type": "stream",
          "text": [
            "\n"
          ]
        },
        {
          "data": {
            "text/markdown": [
              "<span style='color:None;font-size:None'>**Soar os Mortos _(Toll the Dead)_** - truque<br></span><span style='color:None;font-size:13px'>&emsp;**Escola(s):** musical<br>&emsp;**Tempo conjuração:** 1 ação<br>&emsp;**Alcance:** 18 metros<br>&emsp;**Componentes:** VSM _(um instrumento musical ou canto)_<br>&emsp;**Mana:** 200<br>&emsp;**Duração:** instantânea<br>&emsp;**Dano**: 1d8 ou 1d12<br>&emsp;**Attack/Save:** WIS Save<br>&emsp;**Dmg/effect:** necrótico<br></span><span style='color:None;font-size:None'>Você toca uma melodia agoniante que preenche o ar em volta de uma criatura que você pode ver dentro do alcance. O alvo deve ter sucesso em um teste de resistência de Sabedoria ou sofrerá 1d8 de dano necrótico. Se o alvo tiver perdido qualquer de seus pontos de vida, ele sofre um dano necrótico de 1d12.<br>&emsp;O dano da magia aumenta em um dado quando atinge o 5º nível (2d8 ou 2d12), 11 º nível (3d8 ou 3d12) e 17º nível (4d8 ou 4d12)<br></span><span style='color:gray;font-size:11px'>[dano]<br></span><span style='color:gray;font-size:11px'>[bardo, mago, monge]<br></span><span style='color:gray;font-size:10px'>_Xanathar_</span>"
            ],
            "text/plain": [
              "<IPython.core.display.Markdown object>"
            ]
          },
          "metadata": {},
          "output_type": "display_data"
        },
        {
          "name": "stdout",
          "output_type": "stream",
          "text": [
            "\n"
          ]
        },
        {
          "data": {
            "text/markdown": [
              "<span style='color:None;font-size:None'>**Taumaturgia _(Thaumaturgy)_** - truque<br></span><span style='color:None;font-size:13px'>&emsp;**Escola(s):** ilusionista<br>&emsp;**Tempo conjuração:** 1 ação<br>&emsp;**Alcance:** 9 metros<br>&emsp;**Componentes:** V<br>&emsp;**Mana:** 50 (_+ 25 por turno_)<br>&emsp;**Duração:** até 1 minuto<br></span><span style='color:None;font-size:None'>Você manifesta pequenas maravilhas dentro do alcance. Você cria um dos seguintes efeitos mágicos:<br>&emsp;• Sua voz ressoa com o triplo do volume normal por 1 minuto.<br>&emsp;• Você provoca tremores inofensivos no solo por 1 minuto.<br>&emsp;• Você cria, instantaneamente, um som que se origina de um ponto, à sua escolha, dentro do alcance, como o barulho de um trovão, o gralhar de um corvo ou sussurros sinistros.<br>&emsp;• Você altera a aparência dos seus olhos por 1 minuto.  Se você conjurar essa magia diversas vezes, você pode ter até três dos efeitos de 1 minuto ativos por vez, e você pode dissipar um desses efeitos com uma ação. Você gasta 25 de mana a cada turno.<br></span><span style='color:gray;font-size:11px'>[utilidade]<br></span><span style='color:gray;font-size:11px'>[arqueiro, bardo, guerreiro, ladino, mago, monge]<br></span><span style='color:gray;font-size:10px'>_LDJ_</span>"
            ],
            "text/plain": [
              "<IPython.core.display.Markdown object>"
            ]
          },
          "metadata": {},
          "output_type": "display_data"
        },
        {
          "name": "stdout",
          "output_type": "stream",
          "text": [
            "\n"
          ]
        },
        {
          "data": {
            "text/markdown": [
              "<span style='color:None;font-size:None'>**Toque Arrepiante _(Chill Touch)_** - truque<br></span><span style='color:None;font-size:13px'>&emsp;**Escola(s):** necromancia<br>&emsp;**Tempo conjuração:** 1 ação<br>&emsp;**Alcance:** 36 metros<br>&emsp;**Componentes:** VS<br>&emsp;**Mana:** 100<br>&emsp;**Duração:** 1 rodada<br>&emsp;**Dano**: 1d8<br>&emsp;**Dmg/effect:** necrótico<br></span><span style='color:None;font-size:None'>Você cria uma mão esquelética fantasmagórica no espaço de uma criatura, dentro do alcance. Realize um ataque à distância com magia contra a criatura para afeta-la com o frio sepulcral. Se atingir, a criatura sofre 1d8 de dano necrótico e não poderá recuperar pontos de vida até o início do seu próximo turno. Até lá, a mão ficará presa ao alvo.<br>Se você atingir um alvo morto-vivo, ele terá desvantagem nas jogadas de ataque contra você até o final do seu próximo turno.<br>O dano dessa magia aumenta em 1d8 quando você alcança o 5° nível (2d8), 11° nível (3d8) e 17° nível (4d8).<br></span><span style='color:gray;font-size:11px'>[dano, debuff, distância]<br></span><span style='color:gray;font-size:11px'>[bruxo, feiticeiro, guerreiro, ladino, mago]<br></span><span style='color:gray;font-size:10px'>_LDJ_</span>"
            ],
            "text/plain": [
              "<IPython.core.display.Markdown object>"
            ]
          },
          "metadata": {},
          "output_type": "display_data"
        },
        {
          "name": "stdout",
          "output_type": "stream",
          "text": [
            "\n"
          ]
        },
        {
          "data": {
            "text/markdown": [
              "<span style='color:None;font-size:None'>**Toque Chocante _(Shocking Grasp)_** - truque<br></span><span style='color:None;font-size:13px'>&emsp;**Escola(s):** elemental (_relâmpago_)<br>&emsp;**Tempo conjuração:** 1 ação<br>&emsp;**Alcance:** toque<br>&emsp;**Componentes:** VS<br>&emsp;**Mana:** 150<br>&emsp;**Duração:** instantânea<br>&emsp;**Dano**: 1d8<br>&emsp;**Dmg/effect:** relâmpago<br></span><span style='color:None;font-size:None'>Eletricidade surge da sua mão para transmitir um choque em uma criatura que você tentar tocar. Faça um ataque corpo-a-corpo com magia contra o alvo. Você tem vantagem na jogada de ataque se o alvo estiver vestindo qualquer armadura de metal. Se atingir, o alvo sofre 1d8 de dano elétrico e não pode usar reações até o início do próximo turno dele.<br>&emsp;O dano da magia aumenta em 1d8 quando você alcança o 5° nível (2d8), 11° nível (3d8) e 17° nível (4d8).<br></span><span style='color:gray;font-size:11px'>[corpo-a-corpo, dano, toque]<br></span><span style='color:gray;font-size:11px'>[bruxo, clérigo, feiticeiro, guerreiro, ladino, mago, monge, paladino]<br></span><span style='color:gray;font-size:10px'>_LDJ_</span>"
            ],
            "text/plain": [
              "<IPython.core.display.Markdown object>"
            ]
          },
          "metadata": {},
          "output_type": "display_data"
        },
        {
          "name": "stdout",
          "output_type": "stream",
          "text": [
            "\n"
          ]
        },
        {
          "data": {
            "text/markdown": [
              "<span style='color:None;font-size:None'>**Toque Metálico _(Shocking Grasp)_** - truque<br></span><span style='color:None;font-size:13px'>&emsp;**Escola(s):** elemental (_metal_)<br>&emsp;**Tempo conjuração:** 1 ação<br>&emsp;**Alcance:** toque<br>&emsp;**Componentes:** VS<br>&emsp;**Mana:** 150<br>&emsp;**Duração:** instantânea<br>&emsp;**Dano**: 1d8<br>&emsp;**Dmg/effect:** concussão<br></span><span style='color:None;font-size:None'>Magnetismo surge da sua mão capaz de alterar uma armadura metálica. Se o alvo estiver usando alguma vestimenta de metal, faça um ataque corpo-a-corpo com magia com vantagem contra o alvo. Se atingir, o alvo sofre 1d8 de dano metálico e não pode usar reações até o início do próximo turno dele.<br>&emsp;O dano da magia aumenta em 1d8 quando você alcança o 5° nível (2d8), 11° nível (3d8) e 17° nível (4d8).<br></span><span style='color:gray;font-size:11px'>[corpo-a-corpo, dano, toque]<br></span><span style='color:gray;font-size:11px'>[bruxo, clérigo, feiticeiro, guerreiro, ladino, mago, monge, paladino]<br></span><span style='color:gray;font-size:10px'>_LDJ_</span>"
            ],
            "text/plain": [
              "<IPython.core.display.Markdown object>"
            ]
          },
          "metadata": {},
          "output_type": "display_data"
        },
        {
          "name": "stdout",
          "output_type": "stream",
          "text": [
            "\n"
          ]
        },
        {
          "data": {
            "text/markdown": [
              "<span style='color:None;font-size:None'>**Zombaria Viciosa _(Vicious Mockery)_** - truque<br></span><span style='color:None;font-size:13px'>&emsp;**Escola(s):** musical<br>&emsp;**Tempo conjuração:** 1 ação<br>&emsp;**Alcance:** 18 metros<br>&emsp;**Componentes:** VSM _(um instrumento musical ou a voz)_<br>&emsp;**Mana:** 100<br>&emsp;**Duração:** instantânea<br>&emsp;**Dano**: 1d6<br>&emsp;**Attack/Save:** WIS Save<br>&emsp;**Dmg/effect:** psíquico<br></span><span style='color:None;font-size:None'>Você lança uma série de notas dissonantes atadas com encantamentos sutis numa criatura que você possa ver, dentro do alcance. Se o alvo puder ouvir você, ele deve ser bem sucedido num teste de resistência de Sabedoria ou sofrerá 1d6 de dano psíquico e terá desvantagem na próxima jogada de ataque que ele fizer antes do final do próximo turno dele.<br>&emsp;O dano dessa magia aumenta em 1d6 quando você alcança o 5° nível (2d6), 11° nível (3d6) e 17° nível (4d6).<br></span><span style='color:gray;font-size:11px'>[dano, debuff]<br></span><span style='color:gray;font-size:11px'>[bardo, mago, monge]<br></span><span style='color:gray;font-size:10px'>_LDJ_</span>"
            ],
            "text/plain": [
              "<IPython.core.display.Markdown object>"
            ]
          },
          "metadata": {},
          "output_type": "display_data"
        },
        {
          "name": "stdout",
          "output_type": "stream",
          "text": [
            "\n"
          ]
        }
      ],
      "source": [
        "from dfs.DFFilter import filter_df\n",
        "from spell.SpellPrinter import print_spell, print_spells_by_name, print_spells_for_df\n",
        "\n",
        "my_filter = {\n",
        "    #\"escola\": \"musical\"\n",
        "    #\"magia_rara\": True\n",
        "    \"nivel\": 1\n",
        "}\n",
        "filtered_df = filter_df(spells_df, my_filter)\n",
        "\n",
        "print_spells_for_df(filtered_df)"
      ]
    },
    {
      "cell_type": "code",
      "execution_count": 3,
      "metadata": {},
      "outputs": [
        {
          "data": {
            "text/html": [
              "<div>\n",
              "<style scoped>\n",
              "    .dataframe tbody tr th:only-of-type {\n",
              "        vertical-align: middle;\n",
              "    }\n",
              "\n",
              "    .dataframe tbody tr th {\n",
              "        vertical-align: top;\n",
              "    }\n",
              "\n",
              "    .dataframe thead th {\n",
              "        text-align: right;\n",
              "    }\n",
              "</style>\n",
              "<table border=\"1\" class=\"dataframe\">\n",
              "  <thead>\n",
              "    <tr style=\"text-align: right;\">\n",
              "      <th></th>\n",
              "      <th>nome</th>\n",
              "      <th>name</th>\n",
              "      <th>nivel</th>\n",
              "      <th>escola</th>\n",
              "      <th>ritual</th>\n",
              "      <th>elementos</th>\n",
              "      <th>tempo_conjuracao</th>\n",
              "      <th>alcance_area</th>\n",
              "      <th>componentes</th>\n",
              "      <th>mana</th>\n",
              "      <th>duracao</th>\n",
              "      <th>attack_save</th>\n",
              "      <th>dmg_effect</th>\n",
              "      <th>dmg</th>\n",
              "      <th>classes</th>\n",
              "      <th>tags</th>\n",
              "      <th>descricao</th>\n",
              "      <th>source</th>\n",
              "      <th>mana_adicional</th>\n",
              "      <th>magia_rara</th>\n",
              "    </tr>\n",
              "  </thead>\n",
              "  <tbody>\n",
              "    <tr>\n",
              "      <th>124</th>\n",
              "      <td>Alterar-se</td>\n",
              "      <td>Alter Self</td>\n",
              "      <td>2</td>\n",
              "      <td>[elemental, ilusionista]</td>\n",
              "      <td>False</td>\n",
              "      <td>[água, terra, fogo, ar, luz, sombras, relâmpag...</td>\n",
              "      <td>1 ação</td>\n",
              "      <td>pessoal</td>\n",
              "      <td>VS</td>\n",
              "      <td>600</td>\n",
              "      <td>concentração, até 1 hora</td>\n",
              "      <td>N/A</td>\n",
              "      <td>N/A</td>\n",
              "      <td>N/A</td>\n",
              "      <td>[arqueiro, ladino, guerreiro, bardo, monge, mago]</td>\n",
              "      <td>[buff, utilidade, dano, exploração]</td>\n",
              "      <td>Você assume uma forma diferente. Quando conjur...</td>\n",
              "      <td>LDJ</td>\n",
              "      <td>15 a cada 5 minutos</td>\n",
              "      <td>False</td>\n",
              "    </tr>\n",
              "    <tr>\n",
              "      <th>127</th>\n",
              "      <td>Arma Mágica</td>\n",
              "      <td>Magic Weapon</td>\n",
              "      <td>2</td>\n",
              "      <td>[elemental, necromancia, espiritual, ilusionis...</td>\n",
              "      <td>False</td>\n",
              "      <td>[água, terra, fogo, ar, luz, sombras, relâmpag...</td>\n",
              "      <td>1 ação bônus</td>\n",
              "      <td>toque</td>\n",
              "      <td>VS</td>\n",
              "      <td>750</td>\n",
              "      <td>concentração, até 1 hora</td>\n",
              "      <td>N/A</td>\n",
              "      <td>N/A</td>\n",
              "      <td>N/A</td>\n",
              "      <td>[arqueiro, ladino, guerreiro, bardo, monge, mago]</td>\n",
              "      <td>[buff, dano, arma, toque]</td>\n",
              "      <td>Você toca uma arma não-magica. Até a magia aca...</td>\n",
              "      <td>LDJ</td>\n",
              "      <td>10 a cada 5 minutos</td>\n",
              "      <td>False</td>\n",
              "    </tr>\n",
              "    <tr>\n",
              "      <th>130</th>\n",
              "      <td>Aura Mágica Ilusionista (de Nystul)</td>\n",
              "      <td>Arcanist's Magic Aura</td>\n",
              "      <td>2</td>\n",
              "      <td>[ilusionista]</td>\n",
              "      <td>False</td>\n",
              "      <td>[]</td>\n",
              "      <td>1 ação</td>\n",
              "      <td>toque</td>\n",
              "      <td>VSM (um pequeno quadrado de seda)</td>\n",
              "      <td>650</td>\n",
              "      <td>24 horas</td>\n",
              "      <td>N/A</td>\n",
              "      <td>N/A</td>\n",
              "      <td>N/A</td>\n",
              "      <td>[arqueiro, ladino, guerreiro, bardo, monge, mago]</td>\n",
              "      <td>[toque, buff, utilidade, detecção, toque]</td>\n",
              "      <td>Você coloca uma ilusão em uma criatura ou obje...</td>\n",
              "      <td>LDJ</td>\n",
              "      <td>N/A</td>\n",
              "      <td>False</td>\n",
              "    </tr>\n",
              "    <tr>\n",
              "      <th>132</th>\n",
              "      <td>Boca Encantada</td>\n",
              "      <td>Magic Month</td>\n",
              "      <td>2</td>\n",
              "      <td>[musical, receita]</td>\n",
              "      <td>False</td>\n",
              "      <td>[]</td>\n",
              "      <td>1 minuto</td>\n",
              "      <td>9 metros</td>\n",
              "      <td>VSM (um pedaço de favo de mel e pó de jade val...</td>\n",
              "      <td>850</td>\n",
              "      <td>até ser dissipada</td>\n",
              "      <td>N/A</td>\n",
              "      <td>N/A</td>\n",
              "      <td>N/A</td>\n",
              "      <td>[arqueiro, ladino, guerreiro, bardo, monge, mago]</td>\n",
              "      <td>[utilidade, comunicação]</td>\n",
              "      <td>Você implanta uma mensagem em um objeto dentro...</td>\n",
              "      <td>LDJ</td>\n",
              "      <td>N/A</td>\n",
              "      <td>False</td>\n",
              "    </tr>\n",
              "    <tr>\n",
              "      <th>135</th>\n",
              "      <td>Cegueira/Surdez</td>\n",
              "      <td>Blindness/Deafness</td>\n",
              "      <td>2</td>\n",
              "      <td>[necromancia, ilusionista, espiritual, musical...</td>\n",
              "      <td>False</td>\n",
              "      <td>[luz, sombras]</td>\n",
              "      <td>1 ação</td>\n",
              "      <td>9 metros</td>\n",
              "      <td>VS</td>\n",
              "      <td>700</td>\n",
              "      <td>1 minuto</td>\n",
              "      <td>N/A</td>\n",
              "      <td>N/A</td>\n",
              "      <td>N/A</td>\n",
              "      <td>[arqueiro, ladino, guerreiro, bardo, monge, mago]</td>\n",
              "      <td>[debuff, controle]</td>\n",
              "      <td>Você pode cegar ou ensurdecer um oponente. Esc...</td>\n",
              "      <td>LDJ</td>\n",
              "      <td>N/A</td>\n",
              "      <td>False</td>\n",
              "    </tr>\n",
              "    <tr>\n",
              "      <th>136</th>\n",
              "      <td>Chama Contínua</td>\n",
              "      <td>Continual Flame</td>\n",
              "      <td>2</td>\n",
              "      <td>[elemental]</td>\n",
              "      <td>False</td>\n",
              "      <td>[fogo, luz, relâmpago]</td>\n",
              "      <td>1 ação</td>\n",
              "      <td>toque</td>\n",
              "      <td>VSM (pó de rubi no valor de 50 po, consumido p...</td>\n",
              "      <td>1500</td>\n",
              "      <td>até ser dissipada</td>\n",
              "      <td>N/A</td>\n",
              "      <td>N/A</td>\n",
              "      <td>N/A</td>\n",
              "      <td>[arqueiro, bardo, mago]</td>\n",
              "      <td>[utilidade, defesa, toque]</td>\n",
              "      <td>Uma chama, que produz iluminação equivalente a...</td>\n",
              "      <td>LDJ</td>\n",
              "      <td>N/A</td>\n",
              "      <td>False</td>\n",
              "    </tr>\n",
              "    <tr>\n",
              "      <th>137</th>\n",
              "      <td>Chicote Mental (de Tasha)</td>\n",
              "      <td>Tasha's Mind Whip</td>\n",
              "      <td>2</td>\n",
              "      <td>[ilusionista, musical]</td>\n",
              "      <td>False</td>\n",
              "      <td>[]</td>\n",
              "      <td>1 ação</td>\n",
              "      <td>27 metros</td>\n",
              "      <td>V</td>\n",
              "      <td>900</td>\n",
              "      <td>1 rodada</td>\n",
              "      <td>INT Save</td>\n",
              "      <td>psíquico</td>\n",
              "      <td>3d6</td>\n",
              "      <td>[arqueiro, ladino, guerreiro, bardo, monge, mago]</td>\n",
              "      <td>[debuff, controle, dano]</td>\n",
              "      <td>Você enlaça psiquicamente uma criatura a sua v...</td>\n",
              "      <td>Tasha</td>\n",
              "      <td>N/A</td>\n",
              "      <td>False</td>\n",
              "    </tr>\n",
              "    <tr>\n",
              "      <th>139</th>\n",
              "      <td>Convocar Montaria</td>\n",
              "      <td>Find Steed</td>\n",
              "      <td>2</td>\n",
              "      <td>[invocação, necromancia, espiritual]</td>\n",
              "      <td>False</td>\n",
              "      <td>[]</td>\n",
              "      <td>10 minutos</td>\n",
              "      <td>9 metros</td>\n",
              "      <td>VS</td>\n",
              "      <td>1400</td>\n",
              "      <td>instantânea</td>\n",
              "      <td>N/A</td>\n",
              "      <td>N/A</td>\n",
              "      <td>N/A</td>\n",
              "      <td>[arqueiro, guerreiro, bardo, mago]</td>\n",
              "      <td>[dano, comunicação, exploração]</td>\n",
              "      <td>Você convoca um espírito que assume a forma de...</td>\n",
              "      <td>LDJ</td>\n",
              "      <td>N/A</td>\n",
              "      <td>True</td>\n",
              "    </tr>\n",
              "    <tr>\n",
              "      <th>142</th>\n",
              "      <td>Despedaçar</td>\n",
              "      <td>Shatter</td>\n",
              "      <td>2</td>\n",
              "      <td>[elemental, musical]</td>\n",
              "      <td>False</td>\n",
              "      <td>[ar, sombras, relâmpago, metal, veneno]</td>\n",
              "      <td>1 ação</td>\n",
              "      <td>18 metros</td>\n",
              "      <td>VSM (uma lasca de mica)</td>\n",
              "      <td>800</td>\n",
              "      <td>instantânea</td>\n",
              "      <td>CON Save</td>\n",
              "      <td>elemental</td>\n",
              "      <td>3d8</td>\n",
              "      <td>[arqueiro, bardo, monge, mago]</td>\n",
              "      <td>[dano]</td>\n",
              "      <td>Um alto som estridente, dolorosamente intenso,...</td>\n",
              "      <td>LDJ</td>\n",
              "      <td>N/A</td>\n",
              "      <td>False</td>\n",
              "    </tr>\n",
              "    <tr>\n",
              "      <th>143</th>\n",
              "      <td>Detectar Pensamentos</td>\n",
              "      <td>Detect Thoughts</td>\n",
              "      <td>2</td>\n",
              "      <td>[psíquica]</td>\n",
              "      <td>False</td>\n",
              "      <td>[]</td>\n",
              "      <td>1 ação</td>\n",
              "      <td>9 metros</td>\n",
              "      <td>VSM (um pedaço de cobre)</td>\n",
              "      <td>600</td>\n",
              "      <td>concentração, até 1 minuto</td>\n",
              "      <td>WIS Save</td>\n",
              "      <td>N/A</td>\n",
              "      <td>N/A</td>\n",
              "      <td>[arqueiro, ladino, guerreiro, bardo, monge, mago]</td>\n",
              "      <td>[social, detecção, exploração]</td>\n",
              "      <td>Pela duração, você pode ler os pensamentos de ...</td>\n",
              "      <td>LDJ</td>\n",
              "      <td>10 por turno</td>\n",
              "      <td>False</td>\n",
              "    </tr>\n",
              "    <tr>\n",
              "      <th>145</th>\n",
              "      <td>Discurso Enganoso</td>\n",
              "      <td>Gift of Gab</td>\n",
              "      <td>2</td>\n",
              "      <td>[psíquica]</td>\n",
              "      <td>False</td>\n",
              "      <td>[]</td>\n",
              "      <td>1 reação</td>\n",
              "      <td>pessoal</td>\n",
              "      <td>VSM (2 po)</td>\n",
              "      <td>700</td>\n",
              "      <td>instantânea</td>\n",
              "      <td>N/A</td>\n",
              "      <td>N/A</td>\n",
              "      <td>N/A</td>\n",
              "      <td>[arqueiro, ladino, guerreiro, bardo, monge, mago]</td>\n",
              "      <td>[social]</td>\n",
              "      <td>Quando você conjura essa magia, você habilidos...</td>\n",
              "      <td>LDJ</td>\n",
              "      <td>N/A</td>\n",
              "      <td>False</td>\n",
              "    </tr>\n",
              "    <tr>\n",
              "      <th>146</th>\n",
              "      <td>Emprestar Conhecimento</td>\n",
              "      <td>Borrowed Knowledge</td>\n",
              "      <td>2</td>\n",
              "      <td>[espiritual]</td>\n",
              "      <td>False</td>\n",
              "      <td>[]</td>\n",
              "      <td>1 ação</td>\n",
              "      <td>pessoal</td>\n",
              "      <td>VSM (um livro que custe pelo menos 25 po)</td>\n",
              "      <td>1000</td>\n",
              "      <td>1 hora</td>\n",
              "      <td>N/A</td>\n",
              "      <td>N/A</td>\n",
              "      <td>N/A</td>\n",
              "      <td>[arqueiro, ladino, guerreiro, bardo, monge, mago]</td>\n",
              "      <td>[buff]</td>\n",
              "      <td>Você recebe conhecimento de espíritos do passa...</td>\n",
              "      <td>Etc.</td>\n",
              "      <td>N/A</td>\n",
              "      <td>False</td>\n",
              "    </tr>\n",
              "    <tr>\n",
              "      <th>147</th>\n",
              "      <td>Encontrar Armadilhas</td>\n",
              "      <td>Find Traps</td>\n",
              "      <td>2</td>\n",
              "      <td>[espiritual]</td>\n",
              "      <td>False</td>\n",
              "      <td>[]</td>\n",
              "      <td>1 ação</td>\n",
              "      <td>36 metros</td>\n",
              "      <td>VS</td>\n",
              "      <td>700</td>\n",
              "      <td>instantânea</td>\n",
              "      <td>N/A</td>\n",
              "      <td>N/A</td>\n",
              "      <td>N/A</td>\n",
              "      <td>[arqueiro, ladino, guerreiro, bardo, monge, mago]</td>\n",
              "      <td>[defesa, detecção, exploração]</td>\n",
              "      <td>Você sente a presença de qualquer armadilha de...</td>\n",
              "      <td>LDJ</td>\n",
              "      <td>N/A</td>\n",
              "      <td>False</td>\n",
              "    </tr>\n",
              "    <tr>\n",
              "      <th>148</th>\n",
              "      <td>Escrita Celeste</td>\n",
              "      <td>Skywrite</td>\n",
              "      <td>2</td>\n",
              "      <td>[elemental, ilusionista]</td>\n",
              "      <td>False</td>\n",
              "      <td>[ar]</td>\n",
              "      <td>1 ação</td>\n",
              "      <td>pessoal</td>\n",
              "      <td>VS</td>\n",
              "      <td>700</td>\n",
              "      <td>1 hora</td>\n",
              "      <td>N/A</td>\n",
              "      <td>N/A</td>\n",
              "      <td>N/A</td>\n",
              "      <td>[arqueiro, ladino, guerreiro, bardo, monge, mago]</td>\n",
              "      <td>[comunicação]</td>\n",
              "      <td>Você cria até dez palavras em uma parte do céu...</td>\n",
              "      <td>LDJ</td>\n",
              "      <td>N/A</td>\n",
              "      <td>False</td>\n",
              "    </tr>\n",
              "    <tr>\n",
              "      <th>149</th>\n",
              "      <td>Escuridão</td>\n",
              "      <td>Darkness</td>\n",
              "      <td>2</td>\n",
              "      <td>[elemental, necromancia]</td>\n",
              "      <td>False</td>\n",
              "      <td>[sombras]</td>\n",
              "      <td>1 ação</td>\n",
              "      <td>18 metros</td>\n",
              "      <td>VM (pelo de morcego e uma gota de piche ou ped...</td>\n",
              "      <td>600</td>\n",
              "      <td>concentração, até 10 minutos</td>\n",
              "      <td>N/A</td>\n",
              "      <td>N/A</td>\n",
              "      <td>N/A</td>\n",
              "      <td>[arqueiro, ladino, guerreiro, bardo, monge, mago]</td>\n",
              "      <td>[debuff, controle]</td>\n",
              "      <td>Escuridão mágica se espalha a partir de um pon...</td>\n",
              "      <td>LDJ</td>\n",
              "      <td>10 por minuto</td>\n",
              "      <td>False</td>\n",
              "    </tr>\n",
              "    <tr>\n",
              "      <th>151</th>\n",
              "      <td>Espinho Mental</td>\n",
              "      <td>Mind Spike</td>\n",
              "      <td>2</td>\n",
              "      <td>[psíquica]</td>\n",
              "      <td>False</td>\n",
              "      <td>[]</td>\n",
              "      <td>1 ação</td>\n",
              "      <td>18 metros</td>\n",
              "      <td>S</td>\n",
              "      <td>800</td>\n",
              "      <td>concentração, até 1 hora</td>\n",
              "      <td>WIS Save</td>\n",
              "      <td>psíquico</td>\n",
              "      <td>3d8</td>\n",
              "      <td>[arqueiro, ladino, guerreiro, bardo, monge, mago]</td>\n",
              "      <td>[debuff, dano, detecção]</td>\n",
              "      <td>Você alcança a mente de uma criatura que você ...</td>\n",
              "      <td>Xanathar</td>\n",
              "      <td>10 a cada 10 minutos</td>\n",
              "      <td>False</td>\n",
              "    </tr>\n",
              "    <tr>\n",
              "      <th>154</th>\n",
              "      <td>Flecha Perfurante</td>\n",
              "      <td>Custom</td>\n",
              "      <td>2</td>\n",
              "      <td>[elemental]</td>\n",
              "      <td>False</td>\n",
              "      <td>[água, terra, fogo, ar, luz, sombras, relâmpag...</td>\n",
              "      <td>1 ação</td>\n",
              "      <td>pessoal</td>\n",
              "      <td>VSM (um pouco de pó de prata)</td>\n",
              "      <td>650</td>\n",
              "      <td>instantânea</td>\n",
              "      <td>STR Save</td>\n",
              "      <td>elemental</td>\n",
              "      <td>2d8</td>\n",
              "      <td>[arqueiro, bardo, guerreiro, ladino, mago, mon...</td>\n",
              "      <td>[dano, distância, arma]</td>\n",
              "      <td>Você utiliza uma arma de ataque à distância co...</td>\n",
              "      <td>LDJ</td>\n",
              "      <td>N/A</td>\n",
              "      <td>False</td>\n",
              "    </tr>\n",
              "    <tr>\n",
              "      <th>155</th>\n",
              "      <td>Flecha Ácida (de Melf)</td>\n",
              "      <td>Acid Arrow</td>\n",
              "      <td>2</td>\n",
              "      <td>[elemental]</td>\n",
              "      <td>False</td>\n",
              "      <td>[veneno]</td>\n",
              "      <td>1 ação</td>\n",
              "      <td>36 metros</td>\n",
              "      <td>VSM (folha de ruibarbo em pó eo estômago de um...</td>\n",
              "      <td>550</td>\n",
              "      <td>instantânea</td>\n",
              "      <td>distância</td>\n",
              "      <td>ácido</td>\n",
              "      <td>4d4 + 2d4</td>\n",
              "      <td>[arqueiro, ladino, guerreiro, bardo, monge, mago]</td>\n",
              "      <td>[dano, distância]</td>\n",
              "      <td>Você cospe uma flecha esverdeada cintilante qu...</td>\n",
              "      <td>LDJ</td>\n",
              "      <td>N/A</td>\n",
              "      <td>False</td>\n",
              "    </tr>\n",
              "    <tr>\n",
              "      <th>156</th>\n",
              "      <td>Força Fantasmagórica</td>\n",
              "      <td>Phantasmal Force</td>\n",
              "      <td>2</td>\n",
              "      <td>[ilusionista, psíquica]</td>\n",
              "      <td>False</td>\n",
              "      <td>[]</td>\n",
              "      <td>1 ação</td>\n",
              "      <td>18 metros</td>\n",
              "      <td>VSM (um pouco de lã)</td>\n",
              "      <td>800</td>\n",
              "      <td>concentração, até 1 minuto</td>\n",
              "      <td>INT Save</td>\n",
              "      <td>psíquico</td>\n",
              "      <td>1d6</td>\n",
              "      <td>[arqueiro, ladino, guerreiro, bardo, monge, mago]</td>\n",
              "      <td>[debuff, dano]</td>\n",
              "      <td>Você constrói uma ilusão que se enraíza na men...</td>\n",
              "      <td>LDJ</td>\n",
              "      <td>5 por turno</td>\n",
              "      <td>False</td>\n",
              "    </tr>\n",
              "    <tr>\n",
              "      <th>162</th>\n",
              "      <td>Invocar Lâmina Elemental (Lâmina Flamejante)</td>\n",
              "      <td>Flame Blade</td>\n",
              "      <td>2</td>\n",
              "      <td>[elemental]</td>\n",
              "      <td>False</td>\n",
              "      <td>[água, terra, fogo, ar, luz, sombras, relâmpag...</td>\n",
              "      <td>1 ação bônus</td>\n",
              "      <td>pessoal</td>\n",
              "      <td>VSM (folha de sumagre)</td>\n",
              "      <td>700</td>\n",
              "      <td>concentração, até 10 minutos</td>\n",
              "      <td>corpo-a-corpo</td>\n",
              "      <td>elemental</td>\n",
              "      <td>3d6</td>\n",
              "      <td>[arqueiro, ladino, guerreiro, bardo, monge, mago]</td>\n",
              "      <td>[dano, corpo-a-corpo]</td>\n",
              "      <td>Você evoca uma lâmina elemental ardente em sua...</td>\n",
              "      <td>LDJ</td>\n",
              "      <td>10 por minuto</td>\n",
              "      <td>False</td>\n",
              "    </tr>\n",
              "    <tr>\n",
              "      <th>164</th>\n",
              "      <td>Localizar Animais ou Plantas</td>\n",
              "      <td>Locate Animals or Plants</td>\n",
              "      <td>2</td>\n",
              "      <td>[elemental]</td>\n",
              "      <td>False</td>\n",
              "      <td>[terra]</td>\n",
              "      <td>1 ação</td>\n",
              "      <td>pessoal</td>\n",
              "      <td>VSM (um pouco de pelo de um cão de caça)</td>\n",
              "      <td>750</td>\n",
              "      <td>instantânea</td>\n",
              "      <td>N/A</td>\n",
              "      <td>N/A</td>\n",
              "      <td>N/A</td>\n",
              "      <td>[arqueiro, ladino, guerreiro, bardo, monge, mago]</td>\n",
              "      <td>[exploração, detecção]</td>\n",
              "      <td>Descreva ou nomeia um tipo específico de besta...</td>\n",
              "      <td>LDJ</td>\n",
              "      <td>N/A</td>\n",
              "      <td>False</td>\n",
              "    </tr>\n",
              "    <tr>\n",
              "      <th>165</th>\n",
              "      <td>Localizar Objeto</td>\n",
              "      <td>Locate Object</td>\n",
              "      <td>2</td>\n",
              "      <td>[elemental, receita]</td>\n",
              "      <td>False</td>\n",
              "      <td>[terra, metal]</td>\n",
              "      <td>1 ação</td>\n",
              "      <td>pessoal</td>\n",
              "      <td>VSM (um galho bifurcado)</td>\n",
              "      <td>750</td>\n",
              "      <td>concentração, até 10 minutos</td>\n",
              "      <td>N/A</td>\n",
              "      <td>N/A</td>\n",
              "      <td>N/A</td>\n",
              "      <td>[arqueiro, ladino, guerreiro, bardo, monge, mago]</td>\n",
              "      <td>[exploração, detecção]</td>\n",
              "      <td>Descreva ou nomeie um objeto que seja familiar...</td>\n",
              "      <td>LDJ</td>\n",
              "      <td>10 por minuto</td>\n",
              "      <td>False</td>\n",
              "    </tr>\n",
              "    <tr>\n",
              "      <th>166</th>\n",
              "      <td>Lufada de Vento</td>\n",
              "      <td>Gust of Wind</td>\n",
              "      <td>2</td>\n",
              "      <td>[elemental]</td>\n",
              "      <td>False</td>\n",
              "      <td>[ar]</td>\n",
              "      <td>1 ação</td>\n",
              "      <td>pessoal</td>\n",
              "      <td>VSM (uma semente de legume)</td>\n",
              "      <td>700</td>\n",
              "      <td>concentração, até 1 minuto</td>\n",
              "      <td>STR Save</td>\n",
              "      <td>N/A</td>\n",
              "      <td>N/A</td>\n",
              "      <td>[arqueiro, ladino, guerreiro, bardo, monge, mago]</td>\n",
              "      <td>[controle]</td>\n",
              "      <td>Uma linha de vento forte, com 18 metros de com...</td>\n",
              "      <td>LDJ</td>\n",
              "      <td>10 por turno</td>\n",
              "      <td>False</td>\n",
              "    </tr>\n",
              "    <tr>\n",
              "      <th>167</th>\n",
              "      <td>Lâmina Sombria</td>\n",
              "      <td>Shadow Blade</td>\n",
              "      <td>2</td>\n",
              "      <td>[elemental]</td>\n",
              "      <td>False</td>\n",
              "      <td>[sombras]</td>\n",
              "      <td>1 ação bônus</td>\n",
              "      <td>pessoal</td>\n",
              "      <td>VS</td>\n",
              "      <td>650</td>\n",
              "      <td>concentração, até 1 minuto</td>\n",
              "      <td>N/A</td>\n",
              "      <td>sombras</td>\n",
              "      <td>2d8</td>\n",
              "      <td>[arqueiro, ladino, guerreiro, bardo, monge, mago]</td>\n",
              "      <td>[dano, corpo-a-corpo, arma]</td>\n",
              "      <td>Você entrelaça fios de sombras para criar uma ...</td>\n",
              "      <td>LDJ</td>\n",
              "      <td>10 por turno</td>\n",
              "      <td>False</td>\n",
              "    </tr>\n",
              "    <tr>\n",
              "      <th>168</th>\n",
              "      <td>Marca Reveladora</td>\n",
              "      <td>Branding Smite</td>\n",
              "      <td>2</td>\n",
              "      <td>[elemental]</td>\n",
              "      <td>False</td>\n",
              "      <td>[luz]</td>\n",
              "      <td>1 ação bônus</td>\n",
              "      <td>pessoal</td>\n",
              "      <td>V</td>\n",
              "      <td>650</td>\n",
              "      <td>concentração, até 1 minuto</td>\n",
              "      <td>N/A</td>\n",
              "      <td>luz</td>\n",
              "      <td>2d6</td>\n",
              "      <td>[arqueiro, ladino, guerreiro, bardo, monge, mago]</td>\n",
              "      <td>[debuff, controle, dano, corpo-a-corpo, arma, ...</td>\n",
              "      <td>Da próxima vez que você atingir uma criatura c...</td>\n",
              "      <td>LDJ</td>\n",
              "      <td>10 de mana a cada turno</td>\n",
              "      <td>False</td>\n",
              "    </tr>\n",
              "    <tr>\n",
              "      <th>169</th>\n",
              "      <td>Mensageiro Animal</td>\n",
              "      <td>Animal Messenger</td>\n",
              "      <td>2</td>\n",
              "      <td>[elemental, invocação, musical]</td>\n",
              "      <td>True</td>\n",
              "      <td>[terra]</td>\n",
              "      <td>1 ação</td>\n",
              "      <td>9 metros</td>\n",
              "      <td>VSM (um punhado de comida)</td>\n",
              "      <td>650</td>\n",
              "      <td>24 horas</td>\n",
              "      <td>N/A</td>\n",
              "      <td>N/A</td>\n",
              "      <td>N/A</td>\n",
              "      <td>[arqueiro, guerreiro, bardo, monge, mago]</td>\n",
              "      <td>[utilidade, comunicação]</td>\n",
              "      <td>Através dessa magia, você usa um animal para e...</td>\n",
              "      <td>LDJ</td>\n",
              "      <td>N/A</td>\n",
              "      <td>False</td>\n",
              "    </tr>\n",
              "    <tr>\n",
              "      <th>170</th>\n",
              "      <td>Murchar e Florescer</td>\n",
              "      <td>Wither and Bloom</td>\n",
              "      <td>2</td>\n",
              "      <td>[necromancia]</td>\n",
              "      <td>False</td>\n",
              "      <td>[]</td>\n",
              "      <td>1 ação</td>\n",
              "      <td>18 metros</td>\n",
              "      <td>VSM (uma vinha murcha torcida em um loop)</td>\n",
              "      <td>700</td>\n",
              "      <td>instantânea</td>\n",
              "      <td>CON Save</td>\n",
              "      <td>necrótico</td>\n",
              "      <td>2d6</td>\n",
              "      <td>[arqueiro, ladino, guerreiro, bardo, monge, mago]</td>\n",
              "      <td>[dano, cura]</td>\n",
              "      <td>Você invoca ambos vida e morte em uma esfera d...</td>\n",
              "      <td>LDJ</td>\n",
              "      <td>N/A</td>\n",
              "      <td>False</td>\n",
              "    </tr>\n",
              "    <tr>\n",
              "      <th>171</th>\n",
              "      <td>Nublar</td>\n",
              "      <td>Blur</td>\n",
              "      <td>2</td>\n",
              "      <td>[ilusionista]</td>\n",
              "      <td>False</td>\n",
              "      <td>[]</td>\n",
              "      <td>1 ação</td>\n",
              "      <td>pessoal</td>\n",
              "      <td>V</td>\n",
              "      <td>600</td>\n",
              "      <td>concentração, até 1 minuto</td>\n",
              "      <td>N/A</td>\n",
              "      <td>N/A</td>\n",
              "      <td>N/A</td>\n",
              "      <td>[arqueiro, ladino, guerreiro, bardo, monge, mago]</td>\n",
              "      <td>[buff, defesa]</td>\n",
              "      <td>Seu corpo se torna turvo, mudando e oscilando ...</td>\n",
              "      <td>LDJ</td>\n",
              "      <td>10 por turno</td>\n",
              "      <td>False</td>\n",
              "    </tr>\n",
              "    <tr>\n",
              "      <th>172</th>\n",
              "      <td>Nuvem de Adagas</td>\n",
              "      <td>Cloud of Daggers</td>\n",
              "      <td>2</td>\n",
              "      <td>[elemental]</td>\n",
              "      <td>False</td>\n",
              "      <td>[água, terra, fogo, ar, luz, sombras, relâmpag...</td>\n",
              "      <td>1 ação</td>\n",
              "      <td>18 metros</td>\n",
              "      <td>VSM (uma lasca de vidro)</td>\n",
              "      <td>650</td>\n",
              "      <td>concentração, até 1 minuto</td>\n",
              "      <td>N/A</td>\n",
              "      <td>elemental</td>\n",
              "      <td>4d4</td>\n",
              "      <td>[arqueiro, ladino, bardo, mago]</td>\n",
              "      <td>[controle, dano]</td>\n",
              "      <td>Você preenche o ar com adagas giratórias num c...</td>\n",
              "      <td>LDJ</td>\n",
              "      <td>10 por turno</td>\n",
              "      <td>False</td>\n",
              "    </tr>\n",
              "    <tr>\n",
              "      <th>174</th>\n",
              "      <td>Parede de Vento</td>\n",
              "      <td>Custom</td>\n",
              "      <td>2</td>\n",
              "      <td>[elemental]</td>\n",
              "      <td>False</td>\n",
              "      <td>[ar]</td>\n",
              "      <td>1 ação</td>\n",
              "      <td>pessoal</td>\n",
              "      <td>VS</td>\n",
              "      <td>400</td>\n",
              "      <td>1 turno</td>\n",
              "      <td>N/A</td>\n",
              "      <td>N/A</td>\n",
              "      <td>N/A</td>\n",
              "      <td>[arqueiro, bardo, guerreiro, ladino, mago, monge]</td>\n",
              "      <td>[defesa]</td>\n",
              "      <td>Você conjura uma parede de vento de 1,5m de la...</td>\n",
              "      <td>Custom</td>\n",
              "      <td>N/A</td>\n",
              "      <td>False</td>\n",
              "    </tr>\n",
              "    <tr>\n",
              "      <th>175</th>\n",
              "      <td>Passeio Cinético</td>\n",
              "      <td>Kinetic Jaunt</td>\n",
              "      <td>2</td>\n",
              "      <td>[elemental]</td>\n",
              "      <td>False</td>\n",
              "      <td>[ar, luz, relâmpago]</td>\n",
              "      <td>1 ação bônus</td>\n",
              "      <td>pessoal</td>\n",
              "      <td>S</td>\n",
              "      <td>750</td>\n",
              "      <td>concentração, até 1 minuto</td>\n",
              "      <td>N/A</td>\n",
              "      <td>N/A</td>\n",
              "      <td>N/A</td>\n",
              "      <td>[arqueiro, ladino, guerreiro, bardo, monge, mago]</td>\n",
              "      <td>[buff]</td>\n",
              "      <td>Você magicamente empodera seu movimento com pa...</td>\n",
              "      <td>Etc.</td>\n",
              "      <td>10 por turno</td>\n",
              "      <td>False</td>\n",
              "    </tr>\n",
              "    <tr>\n",
              "      <th>176</th>\n",
              "      <td>Passo Nebuloso</td>\n",
              "      <td>Misty Step</td>\n",
              "      <td>2</td>\n",
              "      <td>[elemental]</td>\n",
              "      <td>False</td>\n",
              "      <td>[luz, sombras, relâmpago]</td>\n",
              "      <td>1 ação bônus</td>\n",
              "      <td>pessoal</td>\n",
              "      <td>V</td>\n",
              "      <td>700</td>\n",
              "      <td>instantânea</td>\n",
              "      <td>N/A</td>\n",
              "      <td>N/A</td>\n",
              "      <td>N/A</td>\n",
              "      <td>[arqueiro, ladino, guerreiro, bardo, monge, mago]</td>\n",
              "      <td>[exploração]</td>\n",
              "      <td>Você se teletransporta a até 9 metro para um e...</td>\n",
              "      <td>LDJ</td>\n",
              "      <td>N/A</td>\n",
              "      <td>False</td>\n",
              "    </tr>\n",
              "    <tr>\n",
              "      <th>177</th>\n",
              "      <td>Passos sem Pegadas</td>\n",
              "      <td>Pass without Trace</td>\n",
              "      <td>2</td>\n",
              "      <td>[elemental, ilusionista]</td>\n",
              "      <td>False</td>\n",
              "      <td>[sombras]</td>\n",
              "      <td>1 ação</td>\n",
              "      <td>pessoal</td>\n",
              "      <td>VSM (cinzas de uma folha de visco queimada e u...</td>\n",
              "      <td>700</td>\n",
              "      <td>instantânea</td>\n",
              "      <td>N/A</td>\n",
              "      <td>N/A</td>\n",
              "      <td>N/A</td>\n",
              "      <td>[arqueiro, ladino, guerreiro, bardo, monge, mago]</td>\n",
              "      <td>[buff, exploração]</td>\n",
              "      <td>Um véu de sombras e silêncio irradia de você, ...</td>\n",
              "      <td>LDJ</td>\n",
              "      <td>10 a cada 10 minutos</td>\n",
              "      <td>False</td>\n",
              "    </tr>\n",
              "    <tr>\n",
              "      <th>178</th>\n",
              "      <td>Patas de Aranha</td>\n",
              "      <td>Spider Climb</td>\n",
              "      <td>2</td>\n",
              "      <td>[elemental]</td>\n",
              "      <td>False</td>\n",
              "      <td>[água, terra, metal]</td>\n",
              "      <td>1 ação</td>\n",
              "      <td>toque</td>\n",
              "      <td>VSM (uma gota de betume e uma aranha)</td>\n",
              "      <td>640</td>\n",
              "      <td>concentração, até 1 hora</td>\n",
              "      <td>N/A</td>\n",
              "      <td>N/A</td>\n",
              "      <td>N/A</td>\n",
              "      <td>[arqueiro, ladino, guerreiro, bardo, monge, mago]</td>\n",
              "      <td>[buff, toque, exploração]</td>\n",
              "      <td>Até a magia acabar, uma criatura voluntária qu...</td>\n",
              "      <td>LDJ</td>\n",
              "      <td>10 a cada 10 minutos</td>\n",
              "      <td>False</td>\n",
              "    </tr>\n",
              "    <tr>\n",
              "      <th>180</th>\n",
              "      <td>Pirotecnia</td>\n",
              "      <td>Pyrotechnics</td>\n",
              "      <td>2</td>\n",
              "      <td>[elemental]</td>\n",
              "      <td>False</td>\n",
              "      <td>[fogo]</td>\n",
              "      <td>1 ação</td>\n",
              "      <td>18 metros</td>\n",
              "      <td>VS</td>\n",
              "      <td>750</td>\n",
              "      <td>instantânea</td>\n",
              "      <td>CON Save</td>\n",
              "      <td>N/A</td>\n",
              "      <td>N/A</td>\n",
              "      <td>[arqueiro, ladino, guerreiro, bardo, monge, mago]</td>\n",
              "      <td>[debuff, controle]</td>\n",
              "      <td>Escolha uma área de chamas que você possa ver ...</td>\n",
              "      <td>Xanathar</td>\n",
              "      <td>N/A</td>\n",
              "      <td>False</td>\n",
              "    </tr>\n",
              "    <tr>\n",
              "      <th>181</th>\n",
              "      <td>Proteção contra o Veneno</td>\n",
              "      <td>Protection from Poison</td>\n",
              "      <td>2</td>\n",
              "      <td>[elemental]</td>\n",
              "      <td>False</td>\n",
              "      <td>[água, luz, veneno]</td>\n",
              "      <td>1 ação</td>\n",
              "      <td>toque</td>\n",
              "      <td>VS</td>\n",
              "      <td>1000</td>\n",
              "      <td>1 hora</td>\n",
              "      <td>N/A</td>\n",
              "      <td>N/A</td>\n",
              "      <td>N/A</td>\n",
              "      <td>[arqueiro, ladino, guerreiro, bardo, monge, mago]</td>\n",
              "      <td>[defesa, toque]</td>\n",
              "      <td>Você toca uma criatura. Se ela estiver envenen...</td>\n",
              "      <td>LDJ</td>\n",
              "      <td>N/A</td>\n",
              "      <td>True</td>\n",
              "    </tr>\n",
              "    <tr>\n",
              "      <th>182</th>\n",
              "      <td>Raio Elemental</td>\n",
              "      <td>Scorching Ray</td>\n",
              "      <td>2</td>\n",
              "      <td>[elemental]</td>\n",
              "      <td>False</td>\n",
              "      <td>[água, terra, fogo, ar, luz, sombras, relâmpag...</td>\n",
              "      <td>1 ação</td>\n",
              "      <td>36 metros</td>\n",
              "      <td>VS</td>\n",
              "      <td>800</td>\n",
              "      <td>instantânea</td>\n",
              "      <td>N/A</td>\n",
              "      <td>N/A</td>\n",
              "      <td>6d6</td>\n",
              "      <td>[arqueiro, ladino, guerreiro, bardo, monge, mago]</td>\n",
              "      <td>[dano, distância]</td>\n",
              "      <td>Você cria três raios elementais e os arremessa...</td>\n",
              "      <td>LDJ</td>\n",
              "      <td>N/A</td>\n",
              "      <td>False</td>\n",
              "    </tr>\n",
              "    <tr>\n",
              "      <th>184</th>\n",
              "      <td>Raio do Enfraquecimento</td>\n",
              "      <td>Ray of Enfeeblement</td>\n",
              "      <td>2</td>\n",
              "      <td>[elemental, necromancia, musical]</td>\n",
              "      <td>False</td>\n",
              "      <td>[sombras, metal, veneno]</td>\n",
              "      <td>1 ação</td>\n",
              "      <td>18 metros</td>\n",
              "      <td>VS</td>\n",
              "      <td>750</td>\n",
              "      <td>concentração, até 1 minuto</td>\n",
              "      <td>CON Save</td>\n",
              "      <td>N/A</td>\n",
              "      <td>N/A</td>\n",
              "      <td>[arqueiro, bardo, mago]</td>\n",
              "      <td>[distância, debuff]</td>\n",
              "      <td>Um raio negro de energia enervante parte em di...</td>\n",
              "      <td>LDJ</td>\n",
              "      <td>10 de mana por turno</td>\n",
              "      <td>False</td>\n",
              "    </tr>\n",
              "    <tr>\n",
              "      <th>185</th>\n",
              "      <td>Rebanho de Familiares</td>\n",
              "      <td>Flock of Familiars</td>\n",
              "      <td>2</td>\n",
              "      <td>[invocação]</td>\n",
              "      <td>False</td>\n",
              "      <td>[]</td>\n",
              "      <td>1 minuto</td>\n",
              "      <td>toque</td>\n",
              "      <td>VS</td>\n",
              "      <td>1400</td>\n",
              "      <td>concentração, até 1 hora</td>\n",
              "      <td>N/A</td>\n",
              "      <td>N/A</td>\n",
              "      <td>N/A</td>\n",
              "      <td>[arqueiro, ladino, guerreiro, bardo, monge, mago]</td>\n",
              "      <td>[comunicação, detecção, exploração]</td>\n",
              "      <td>Você temporariamente invoca três familiares - ...</td>\n",
              "      <td>Etc.</td>\n",
              "      <td>50 a cada 5 minutos</td>\n",
              "      <td>False</td>\n",
              "    </tr>\n",
              "    <tr>\n",
              "      <th>186</th>\n",
              "      <td>Reflexos</td>\n",
              "      <td>Mirror Image</td>\n",
              "      <td>2</td>\n",
              "      <td>[ilusionista]</td>\n",
              "      <td>False</td>\n",
              "      <td>[]</td>\n",
              "      <td>1 ação</td>\n",
              "      <td>pessoal</td>\n",
              "      <td>VS</td>\n",
              "      <td>750</td>\n",
              "      <td>1 minuto</td>\n",
              "      <td>N/A</td>\n",
              "      <td>N/A</td>\n",
              "      <td>N/A</td>\n",
              "      <td>[arqueiro, ladino, guerreiro, bardo, monge, mago]</td>\n",
              "      <td>[debuff, defesa]</td>\n",
              "      <td>Três duplicatas ilusórias de você aparecem no ...</td>\n",
              "      <td>LDJ</td>\n",
              "      <td>N/A</td>\n",
              "      <td>False</td>\n",
              "    </tr>\n",
              "    <tr>\n",
              "      <th>188</th>\n",
              "      <td>Restauração Menor</td>\n",
              "      <td>Lesser Restoration</td>\n",
              "      <td>2</td>\n",
              "      <td>[elemental]</td>\n",
              "      <td>False</td>\n",
              "      <td>[água, terra, luz, veneno]</td>\n",
              "      <td>1 ação</td>\n",
              "      <td>toque</td>\n",
              "      <td>VS</td>\n",
              "      <td>800</td>\n",
              "      <td>instantânea</td>\n",
              "      <td>N/A</td>\n",
              "      <td>N/A</td>\n",
              "      <td>N/A</td>\n",
              "      <td>[arqueiro, bardo, monge, mago]</td>\n",
              "      <td>[buff, defesa]</td>\n",
              "      <td>Você toca uma criatura e pode ou acabar com um...</td>\n",
              "      <td>LDJ</td>\n",
              "      <td>N/A</td>\n",
              "      <td>False</td>\n",
              "    </tr>\n",
              "    <tr>\n",
              "      <th>189</th>\n",
              "      <td>Sentido Bestial</td>\n",
              "      <td>Beast Sense</td>\n",
              "      <td>2</td>\n",
              "      <td>[elemental, musical, invocação]</td>\n",
              "      <td>False</td>\n",
              "      <td>[terra]</td>\n",
              "      <td>1 ação</td>\n",
              "      <td>toque</td>\n",
              "      <td>S</td>\n",
              "      <td>500</td>\n",
              "      <td>concentração, até 1 hora</td>\n",
              "      <td>N/A</td>\n",
              "      <td>N/A</td>\n",
              "      <td>N/A</td>\n",
              "      <td>[arqueiro, ladino, guerreiro, bardo, monge, mago]</td>\n",
              "      <td>[exploração, toque]</td>\n",
              "      <td>Você toca uma besta voluntária. Pela duração d...</td>\n",
              "      <td>LDJ</td>\n",
              "      <td>20 a cada 5 minutos</td>\n",
              "      <td>False</td>\n",
              "    </tr>\n",
              "    <tr>\n",
              "      <th>190</th>\n",
              "      <td>Silêncio</td>\n",
              "      <td>Silence</td>\n",
              "      <td>2</td>\n",
              "      <td>[ilusionista, musical]</td>\n",
              "      <td>False</td>\n",
              "      <td>[]</td>\n",
              "      <td>1 ação</td>\n",
              "      <td>36 metros</td>\n",
              "      <td>VS</td>\n",
              "      <td>700</td>\n",
              "      <td>concentração, até 10 minutos</td>\n",
              "      <td>N/A</td>\n",
              "      <td>N/A</td>\n",
              "      <td>N/A</td>\n",
              "      <td>[arqueiro, bardo, monge, mago]</td>\n",
              "      <td>[debuff, controle, defesa]</td>\n",
              "      <td>Pela duração, nenhum som pode ser criado dentr...</td>\n",
              "      <td>LDJ</td>\n",
              "      <td>15 por minuto</td>\n",
              "      <td>False</td>\n",
              "    </tr>\n",
              "    <tr>\n",
              "      <th>192</th>\n",
              "      <td>Sugestão</td>\n",
              "      <td>Suggestion</td>\n",
              "      <td>2</td>\n",
              "      <td>[ilusionista, musical]</td>\n",
              "      <td>False</td>\n",
              "      <td>[]</td>\n",
              "      <td>1 ação</td>\n",
              "      <td>9 metros</td>\n",
              "      <td>VM (uma língua de cobra e, ou um pedaço de fav...</td>\n",
              "      <td>600</td>\n",
              "      <td>concentração, até 8 horas</td>\n",
              "      <td>WIS Save</td>\n",
              "      <td>N/A</td>\n",
              "      <td>N/A</td>\n",
              "      <td>[arqueiro, ladino, guerreiro, bardo, monge, mago]</td>\n",
              "      <td>[debuff, controle, social]</td>\n",
              "      <td>Você sugere um curso de atividade (limitado a ...</td>\n",
              "      <td>LDJ</td>\n",
              "      <td>10 por hora</td>\n",
              "      <td>False</td>\n",
              "    </tr>\n",
              "    <tr>\n",
              "      <th>196</th>\n",
              "      <td>Truque de Corda</td>\n",
              "      <td>Rope Trick</td>\n",
              "      <td>2</td>\n",
              "      <td>[pura]</td>\n",
              "      <td>False</td>\n",
              "      <td>[]</td>\n",
              "      <td>1 ação</td>\n",
              "      <td>toque</td>\n",
              "      <td>VSM (pó de extrato de milho e um laço de perga...</td>\n",
              "      <td>3000</td>\n",
              "      <td>1 hora</td>\n",
              "      <td>N/A</td>\n",
              "      <td>N/A</td>\n",
              "      <td>N/A</td>\n",
              "      <td>[arqueiro, ladino, guerreiro, bardo, monge, mago]</td>\n",
              "      <td>[utilidade, toque]</td>\n",
              "      <td>Você toca um pedaço de corda que tenha até 18 ...</td>\n",
              "      <td>LDJ</td>\n",
              "      <td>N/A</td>\n",
              "      <td>False</td>\n",
              "    </tr>\n",
              "    <tr>\n",
              "      <th>198</th>\n",
              "      <td>Ver o Invisível</td>\n",
              "      <td>See Invisibility</td>\n",
              "      <td>2</td>\n",
              "      <td>[espiritual, necromancia, pura, elemental]</td>\n",
              "      <td>False</td>\n",
              "      <td>[sombras]</td>\n",
              "      <td>1 ação</td>\n",
              "      <td>pessoal</td>\n",
              "      <td>VSM (um pouco de talco e um pó de prata polvil...</td>\n",
              "      <td>700</td>\n",
              "      <td>1 hora</td>\n",
              "      <td>N/A</td>\n",
              "      <td>N/A</td>\n",
              "      <td>N/A</td>\n",
              "      <td>[arqueiro, ladino, guerreiro, bardo, monge, mago]</td>\n",
              "      <td>[buff, detecção]</td>\n",
              "      <td>Pela duração, você vê criaturas e objetos invi...</td>\n",
              "      <td>LDJ</td>\n",
              "      <td>N/A</td>\n",
              "      <td>False</td>\n",
              "    </tr>\n",
              "    <tr>\n",
              "      <th>199</th>\n",
              "      <td>Visão no Escuro</td>\n",
              "      <td>Darkvision</td>\n",
              "      <td>2</td>\n",
              "      <td>[elemental, necromancia, espiritual]</td>\n",
              "      <td>False</td>\n",
              "      <td>[luz, sombras]</td>\n",
              "      <td>1 ação</td>\n",
              "      <td>toque</td>\n",
              "      <td>VSM (ou um pedaço de cenoura seca ou uma ágata)</td>\n",
              "      <td>700</td>\n",
              "      <td>8 horas</td>\n",
              "      <td>N/A</td>\n",
              "      <td>N/A</td>\n",
              "      <td>N/A</td>\n",
              "      <td>[arqueiro, ladino, guerreiro, bardo, monge, mago]</td>\n",
              "      <td>[buff, exploração, toque]</td>\n",
              "      <td>Você toca uma criatura voluntária para concede...</td>\n",
              "      <td>LDJ</td>\n",
              "      <td>N/A</td>\n",
              "      <td>False</td>\n",
              "    </tr>\n",
              "  </tbody>\n",
              "</table>\n",
              "</div>"
            ],
            "text/plain": [
              "                                             nome                      name  \\\n",
              "124                                    Alterar-se                Alter Self   \n",
              "127                                   Arma Mágica              Magic Weapon   \n",
              "130           Aura Mágica Ilusionista (de Nystul)     Arcanist's Magic Aura   \n",
              "132                                Boca Encantada               Magic Month   \n",
              "135                               Cegueira/Surdez        Blindness/Deafness   \n",
              "136                                Chama Contínua           Continual Flame   \n",
              "137                     Chicote Mental (de Tasha)         Tasha's Mind Whip   \n",
              "139                             Convocar Montaria                Find Steed   \n",
              "142                                    Despedaçar                   Shatter   \n",
              "143                          Detectar Pensamentos           Detect Thoughts   \n",
              "145                             Discurso Enganoso               Gift of Gab   \n",
              "146                        Emprestar Conhecimento        Borrowed Knowledge   \n",
              "147                          Encontrar Armadilhas                Find Traps   \n",
              "148                               Escrita Celeste                  Skywrite   \n",
              "149                                     Escuridão                  Darkness   \n",
              "151                                Espinho Mental                Mind Spike   \n",
              "154                             Flecha Perfurante                    Custom   \n",
              "155                        Flecha Ácida (de Melf)                Acid Arrow   \n",
              "156                          Força Fantasmagórica          Phantasmal Force   \n",
              "162  Invocar Lâmina Elemental (Lâmina Flamejante)               Flame Blade   \n",
              "164                  Localizar Animais ou Plantas  Locate Animals or Plants   \n",
              "165                              Localizar Objeto             Locate Object   \n",
              "166                               Lufada de Vento              Gust of Wind   \n",
              "167                                Lâmina Sombria              Shadow Blade   \n",
              "168                              Marca Reveladora            Branding Smite   \n",
              "169                             Mensageiro Animal          Animal Messenger   \n",
              "170                           Murchar e Florescer          Wither and Bloom   \n",
              "171                                        Nublar                      Blur   \n",
              "172                               Nuvem de Adagas          Cloud of Daggers   \n",
              "174                               Parede de Vento                    Custom   \n",
              "175                              Passeio Cinético             Kinetic Jaunt   \n",
              "176                                Passo Nebuloso                Misty Step   \n",
              "177                            Passos sem Pegadas        Pass without Trace   \n",
              "178                               Patas de Aranha              Spider Climb   \n",
              "180                                    Pirotecnia              Pyrotechnics   \n",
              "181                      Proteção contra o Veneno    Protection from Poison   \n",
              "182                                Raio Elemental             Scorching Ray   \n",
              "184                       Raio do Enfraquecimento       Ray of Enfeeblement   \n",
              "185                         Rebanho de Familiares        Flock of Familiars   \n",
              "186                                      Reflexos              Mirror Image   \n",
              "188                             Restauração Menor        Lesser Restoration   \n",
              "189                               Sentido Bestial               Beast Sense   \n",
              "190                                      Silêncio                   Silence   \n",
              "192                                      Sugestão                Suggestion   \n",
              "196                               Truque de Corda                Rope Trick   \n",
              "198                               Ver o Invisível          See Invisibility   \n",
              "199                               Visão no Escuro                Darkvision   \n",
              "\n",
              "     nivel                                             escola  ritual  \\\n",
              "124      2                           [elemental, ilusionista]   False   \n",
              "127      2  [elemental, necromancia, espiritual, ilusionis...   False   \n",
              "130      2                                      [ilusionista]   False   \n",
              "132      2                                 [musical, receita]   False   \n",
              "135      2  [necromancia, ilusionista, espiritual, musical...   False   \n",
              "136      2                                        [elemental]   False   \n",
              "137      2                             [ilusionista, musical]   False   \n",
              "139      2               [invocação, necromancia, espiritual]   False   \n",
              "142      2                               [elemental, musical]   False   \n",
              "143      2                                         [psíquica]   False   \n",
              "145      2                                         [psíquica]   False   \n",
              "146      2                                       [espiritual]   False   \n",
              "147      2                                       [espiritual]   False   \n",
              "148      2                           [elemental, ilusionista]   False   \n",
              "149      2                           [elemental, necromancia]   False   \n",
              "151      2                                         [psíquica]   False   \n",
              "154      2                                        [elemental]   False   \n",
              "155      2                                        [elemental]   False   \n",
              "156      2                            [ilusionista, psíquica]   False   \n",
              "162      2                                        [elemental]   False   \n",
              "164      2                                        [elemental]   False   \n",
              "165      2                               [elemental, receita]   False   \n",
              "166      2                                        [elemental]   False   \n",
              "167      2                                        [elemental]   False   \n",
              "168      2                                        [elemental]   False   \n",
              "169      2                    [elemental, invocação, musical]    True   \n",
              "170      2                                      [necromancia]   False   \n",
              "171      2                                      [ilusionista]   False   \n",
              "172      2                                        [elemental]   False   \n",
              "174      2                                        [elemental]   False   \n",
              "175      2                                        [elemental]   False   \n",
              "176      2                                        [elemental]   False   \n",
              "177      2                           [elemental, ilusionista]   False   \n",
              "178      2                                        [elemental]   False   \n",
              "180      2                                        [elemental]   False   \n",
              "181      2                                        [elemental]   False   \n",
              "182      2                                        [elemental]   False   \n",
              "184      2                  [elemental, necromancia, musical]   False   \n",
              "185      2                                        [invocação]   False   \n",
              "186      2                                      [ilusionista]   False   \n",
              "188      2                                        [elemental]   False   \n",
              "189      2                    [elemental, musical, invocação]   False   \n",
              "190      2                             [ilusionista, musical]   False   \n",
              "192      2                             [ilusionista, musical]   False   \n",
              "196      2                                             [pura]   False   \n",
              "198      2         [espiritual, necromancia, pura, elemental]   False   \n",
              "199      2               [elemental, necromancia, espiritual]   False   \n",
              "\n",
              "                                             elementos tempo_conjuracao  \\\n",
              "124  [água, terra, fogo, ar, luz, sombras, relâmpag...           1 ação   \n",
              "127  [água, terra, fogo, ar, luz, sombras, relâmpag...     1 ação bônus   \n",
              "130                                                 []           1 ação   \n",
              "132                                                 []         1 minuto   \n",
              "135                                     [luz, sombras]           1 ação   \n",
              "136                             [fogo, luz, relâmpago]           1 ação   \n",
              "137                                                 []           1 ação   \n",
              "139                                                 []       10 minutos   \n",
              "142            [ar, sombras, relâmpago, metal, veneno]           1 ação   \n",
              "143                                                 []           1 ação   \n",
              "145                                                 []         1 reação   \n",
              "146                                                 []           1 ação   \n",
              "147                                                 []           1 ação   \n",
              "148                                               [ar]           1 ação   \n",
              "149                                          [sombras]           1 ação   \n",
              "151                                                 []           1 ação   \n",
              "154  [água, terra, fogo, ar, luz, sombras, relâmpag...           1 ação   \n",
              "155                                           [veneno]           1 ação   \n",
              "156                                                 []           1 ação   \n",
              "162  [água, terra, fogo, ar, luz, sombras, relâmpag...     1 ação bônus   \n",
              "164                                            [terra]           1 ação   \n",
              "165                                     [terra, metal]           1 ação   \n",
              "166                                               [ar]           1 ação   \n",
              "167                                          [sombras]     1 ação bônus   \n",
              "168                                              [luz]     1 ação bônus   \n",
              "169                                            [terra]           1 ação   \n",
              "170                                                 []           1 ação   \n",
              "171                                                 []           1 ação   \n",
              "172  [água, terra, fogo, ar, luz, sombras, relâmpag...           1 ação   \n",
              "174                                               [ar]           1 ação   \n",
              "175                               [ar, luz, relâmpago]     1 ação bônus   \n",
              "176                          [luz, sombras, relâmpago]     1 ação bônus   \n",
              "177                                          [sombras]           1 ação   \n",
              "178                               [água, terra, metal]           1 ação   \n",
              "180                                             [fogo]           1 ação   \n",
              "181                                [água, luz, veneno]           1 ação   \n",
              "182  [água, terra, fogo, ar, luz, sombras, relâmpag...           1 ação   \n",
              "184                           [sombras, metal, veneno]           1 ação   \n",
              "185                                                 []         1 minuto   \n",
              "186                                                 []           1 ação   \n",
              "188                         [água, terra, luz, veneno]           1 ação   \n",
              "189                                            [terra]           1 ação   \n",
              "190                                                 []           1 ação   \n",
              "192                                                 []           1 ação   \n",
              "196                                                 []           1 ação   \n",
              "198                                          [sombras]           1 ação   \n",
              "199                                     [luz, sombras]           1 ação   \n",
              "\n",
              "    alcance_area                                        componentes  mana  \\\n",
              "124      pessoal                                                 VS   600   \n",
              "127        toque                                                 VS   750   \n",
              "130        toque                  VSM (um pequeno quadrado de seda)   650   \n",
              "132     9 metros  VSM (um pedaço de favo de mel e pó de jade val...   850   \n",
              "135     9 metros                                                 VS   700   \n",
              "136        toque  VSM (pó de rubi no valor de 50 po, consumido p...  1500   \n",
              "137    27 metros                                                  V   900   \n",
              "139     9 metros                                                 VS  1400   \n",
              "142    18 metros                            VSM (uma lasca de mica)   800   \n",
              "143     9 metros                           VSM (um pedaço de cobre)   600   \n",
              "145      pessoal                                         VSM (2 po)   700   \n",
              "146      pessoal          VSM (um livro que custe pelo menos 25 po)  1000   \n",
              "147    36 metros                                                 VS   700   \n",
              "148      pessoal                                                 VS   700   \n",
              "149    18 metros  VM (pelo de morcego e uma gota de piche ou ped...   600   \n",
              "151    18 metros                                                  S   800   \n",
              "154      pessoal                      VSM (um pouco de pó de prata)   650   \n",
              "155    36 metros  VSM (folha de ruibarbo em pó eo estômago de um...   550   \n",
              "156    18 metros                               VSM (um pouco de lã)   800   \n",
              "162      pessoal                             VSM (folha de sumagre)   700   \n",
              "164      pessoal           VSM (um pouco de pelo de um cão de caça)   750   \n",
              "165      pessoal                           VSM (um galho bifurcado)   750   \n",
              "166      pessoal                        VSM (uma semente de legume)   700   \n",
              "167      pessoal                                                 VS   650   \n",
              "168      pessoal                                                  V   650   \n",
              "169     9 metros                         VSM (um punhado de comida)   650   \n",
              "170    18 metros          VSM (uma vinha murcha torcida em um loop)   700   \n",
              "171      pessoal                                                  V   600   \n",
              "172    18 metros                           VSM (uma lasca de vidro)   650   \n",
              "174      pessoal                                                 VS   400   \n",
              "175      pessoal                                                  S   750   \n",
              "176      pessoal                                                  V   700   \n",
              "177      pessoal  VSM (cinzas de uma folha de visco queimada e u...   700   \n",
              "178        toque              VSM (uma gota de betume e uma aranha)   640   \n",
              "180    18 metros                                                 VS   750   \n",
              "181        toque                                                 VS  1000   \n",
              "182    36 metros                                                 VS   800   \n",
              "184    18 metros                                                 VS   750   \n",
              "185        toque                                                 VS  1400   \n",
              "186      pessoal                                                 VS   750   \n",
              "188        toque                                                 VS   800   \n",
              "189        toque                                                  S   500   \n",
              "190    36 metros                                                 VS   700   \n",
              "192     9 metros  VM (uma língua de cobra e, ou um pedaço de fav...   600   \n",
              "196        toque  VSM (pó de extrato de milho e um laço de perga...  3000   \n",
              "198      pessoal  VSM (um pouco de talco e um pó de prata polvil...   700   \n",
              "199        toque    VSM (ou um pedaço de cenoura seca ou uma ágata)   700   \n",
              "\n",
              "                          duracao    attack_save dmg_effect        dmg  \\\n",
              "124      concentração, até 1 hora            N/A        N/A        N/A   \n",
              "127      concentração, até 1 hora            N/A        N/A        N/A   \n",
              "130                      24 horas            N/A        N/A        N/A   \n",
              "132             até ser dissipada            N/A        N/A        N/A   \n",
              "135                      1 minuto            N/A        N/A        N/A   \n",
              "136             até ser dissipada            N/A        N/A        N/A   \n",
              "137                      1 rodada       INT Save   psíquico        3d6   \n",
              "139                   instantânea            N/A        N/A        N/A   \n",
              "142                   instantânea       CON Save  elemental        3d8   \n",
              "143    concentração, até 1 minuto       WIS Save        N/A        N/A   \n",
              "145                   instantânea            N/A        N/A        N/A   \n",
              "146                        1 hora            N/A        N/A        N/A   \n",
              "147                   instantânea            N/A        N/A        N/A   \n",
              "148                        1 hora            N/A        N/A        N/A   \n",
              "149  concentração, até 10 minutos            N/A        N/A        N/A   \n",
              "151      concentração, até 1 hora       WIS Save   psíquico        3d8   \n",
              "154                   instantânea       STR Save  elemental        2d8   \n",
              "155                   instantânea      distância      ácido  4d4 + 2d4   \n",
              "156    concentração, até 1 minuto       INT Save   psíquico        1d6   \n",
              "162  concentração, até 10 minutos  corpo-a-corpo  elemental        3d6   \n",
              "164                   instantânea            N/A        N/A        N/A   \n",
              "165  concentração, até 10 minutos            N/A        N/A        N/A   \n",
              "166    concentração, até 1 minuto       STR Save        N/A        N/A   \n",
              "167    concentração, até 1 minuto            N/A    sombras        2d8   \n",
              "168    concentração, até 1 minuto            N/A        luz        2d6   \n",
              "169                      24 horas            N/A        N/A        N/A   \n",
              "170                   instantânea       CON Save  necrótico        2d6   \n",
              "171    concentração, até 1 minuto            N/A        N/A        N/A   \n",
              "172    concentração, até 1 minuto            N/A  elemental        4d4   \n",
              "174                       1 turno            N/A        N/A        N/A   \n",
              "175    concentração, até 1 minuto            N/A        N/A        N/A   \n",
              "176                   instantânea            N/A        N/A        N/A   \n",
              "177                   instantânea            N/A        N/A        N/A   \n",
              "178      concentração, até 1 hora            N/A        N/A        N/A   \n",
              "180                   instantânea       CON Save        N/A        N/A   \n",
              "181                        1 hora            N/A        N/A        N/A   \n",
              "182                   instantânea            N/A        N/A        6d6   \n",
              "184    concentração, até 1 minuto       CON Save        N/A        N/A   \n",
              "185      concentração, até 1 hora            N/A        N/A        N/A   \n",
              "186                      1 minuto            N/A        N/A        N/A   \n",
              "188                   instantânea            N/A        N/A        N/A   \n",
              "189      concentração, até 1 hora            N/A        N/A        N/A   \n",
              "190  concentração, até 10 minutos            N/A        N/A        N/A   \n",
              "192     concentração, até 8 horas       WIS Save        N/A        N/A   \n",
              "196                        1 hora            N/A        N/A        N/A   \n",
              "198                        1 hora            N/A        N/A        N/A   \n",
              "199                       8 horas            N/A        N/A        N/A   \n",
              "\n",
              "                                               classes  \\\n",
              "124  [arqueiro, ladino, guerreiro, bardo, monge, mago]   \n",
              "127  [arqueiro, ladino, guerreiro, bardo, monge, mago]   \n",
              "130  [arqueiro, ladino, guerreiro, bardo, monge, mago]   \n",
              "132  [arqueiro, ladino, guerreiro, bardo, monge, mago]   \n",
              "135  [arqueiro, ladino, guerreiro, bardo, monge, mago]   \n",
              "136                            [arqueiro, bardo, mago]   \n",
              "137  [arqueiro, ladino, guerreiro, bardo, monge, mago]   \n",
              "139                 [arqueiro, guerreiro, bardo, mago]   \n",
              "142                     [arqueiro, bardo, monge, mago]   \n",
              "143  [arqueiro, ladino, guerreiro, bardo, monge, mago]   \n",
              "145  [arqueiro, ladino, guerreiro, bardo, monge, mago]   \n",
              "146  [arqueiro, ladino, guerreiro, bardo, monge, mago]   \n",
              "147  [arqueiro, ladino, guerreiro, bardo, monge, mago]   \n",
              "148  [arqueiro, ladino, guerreiro, bardo, monge, mago]   \n",
              "149  [arqueiro, ladino, guerreiro, bardo, monge, mago]   \n",
              "151  [arqueiro, ladino, guerreiro, bardo, monge, mago]   \n",
              "154  [arqueiro, bardo, guerreiro, ladino, mago, mon...   \n",
              "155  [arqueiro, ladino, guerreiro, bardo, monge, mago]   \n",
              "156  [arqueiro, ladino, guerreiro, bardo, monge, mago]   \n",
              "162  [arqueiro, ladino, guerreiro, bardo, monge, mago]   \n",
              "164  [arqueiro, ladino, guerreiro, bardo, monge, mago]   \n",
              "165  [arqueiro, ladino, guerreiro, bardo, monge, mago]   \n",
              "166  [arqueiro, ladino, guerreiro, bardo, monge, mago]   \n",
              "167  [arqueiro, ladino, guerreiro, bardo, monge, mago]   \n",
              "168  [arqueiro, ladino, guerreiro, bardo, monge, mago]   \n",
              "169          [arqueiro, guerreiro, bardo, monge, mago]   \n",
              "170  [arqueiro, ladino, guerreiro, bardo, monge, mago]   \n",
              "171  [arqueiro, ladino, guerreiro, bardo, monge, mago]   \n",
              "172                    [arqueiro, ladino, bardo, mago]   \n",
              "174  [arqueiro, bardo, guerreiro, ladino, mago, monge]   \n",
              "175  [arqueiro, ladino, guerreiro, bardo, monge, mago]   \n",
              "176  [arqueiro, ladino, guerreiro, bardo, monge, mago]   \n",
              "177  [arqueiro, ladino, guerreiro, bardo, monge, mago]   \n",
              "178  [arqueiro, ladino, guerreiro, bardo, monge, mago]   \n",
              "180  [arqueiro, ladino, guerreiro, bardo, monge, mago]   \n",
              "181  [arqueiro, ladino, guerreiro, bardo, monge, mago]   \n",
              "182  [arqueiro, ladino, guerreiro, bardo, monge, mago]   \n",
              "184                            [arqueiro, bardo, mago]   \n",
              "185  [arqueiro, ladino, guerreiro, bardo, monge, mago]   \n",
              "186  [arqueiro, ladino, guerreiro, bardo, monge, mago]   \n",
              "188                     [arqueiro, bardo, monge, mago]   \n",
              "189  [arqueiro, ladino, guerreiro, bardo, monge, mago]   \n",
              "190                     [arqueiro, bardo, monge, mago]   \n",
              "192  [arqueiro, ladino, guerreiro, bardo, monge, mago]   \n",
              "196  [arqueiro, ladino, guerreiro, bardo, monge, mago]   \n",
              "198  [arqueiro, ladino, guerreiro, bardo, monge, mago]   \n",
              "199  [arqueiro, ladino, guerreiro, bardo, monge, mago]   \n",
              "\n",
              "                                                  tags  \\\n",
              "124                [buff, utilidade, dano, exploração]   \n",
              "127                          [buff, dano, arma, toque]   \n",
              "130          [toque, buff, utilidade, detecção, toque]   \n",
              "132                           [utilidade, comunicação]   \n",
              "135                                 [debuff, controle]   \n",
              "136                         [utilidade, defesa, toque]   \n",
              "137                           [debuff, controle, dano]   \n",
              "139                    [dano, comunicação, exploração]   \n",
              "142                                             [dano]   \n",
              "143                     [social, detecção, exploração]   \n",
              "145                                           [social]   \n",
              "146                                             [buff]   \n",
              "147                     [defesa, detecção, exploração]   \n",
              "148                                      [comunicação]   \n",
              "149                                 [debuff, controle]   \n",
              "151                           [debuff, dano, detecção]   \n",
              "154                            [dano, distância, arma]   \n",
              "155                                  [dano, distância]   \n",
              "156                                     [debuff, dano]   \n",
              "162                              [dano, corpo-a-corpo]   \n",
              "164                             [exploração, detecção]   \n",
              "165                             [exploração, detecção]   \n",
              "166                                         [controle]   \n",
              "167                        [dano, corpo-a-corpo, arma]   \n",
              "168  [debuff, controle, dano, corpo-a-corpo, arma, ...   \n",
              "169                           [utilidade, comunicação]   \n",
              "170                                       [dano, cura]   \n",
              "171                                     [buff, defesa]   \n",
              "172                                   [controle, dano]   \n",
              "174                                           [defesa]   \n",
              "175                                             [buff]   \n",
              "176                                       [exploração]   \n",
              "177                                 [buff, exploração]   \n",
              "178                          [buff, toque, exploração]   \n",
              "180                                 [debuff, controle]   \n",
              "181                                    [defesa, toque]   \n",
              "182                                  [dano, distância]   \n",
              "184                                [distância, debuff]   \n",
              "185                [comunicação, detecção, exploração]   \n",
              "186                                   [debuff, defesa]   \n",
              "188                                     [buff, defesa]   \n",
              "189                                [exploração, toque]   \n",
              "190                         [debuff, controle, defesa]   \n",
              "192                         [debuff, controle, social]   \n",
              "196                                 [utilidade, toque]   \n",
              "198                                   [buff, detecção]   \n",
              "199                          [buff, exploração, toque]   \n",
              "\n",
              "                                             descricao    source  \\\n",
              "124  Você assume uma forma diferente. Quando conjur...       LDJ   \n",
              "127  Você toca uma arma não-magica. Até a magia aca...       LDJ   \n",
              "130  Você coloca uma ilusão em uma criatura ou obje...       LDJ   \n",
              "132  Você implanta uma mensagem em um objeto dentro...       LDJ   \n",
              "135  Você pode cegar ou ensurdecer um oponente. Esc...       LDJ   \n",
              "136  Uma chama, que produz iluminação equivalente a...       LDJ   \n",
              "137  Você enlaça psiquicamente uma criatura a sua v...     Tasha   \n",
              "139  Você convoca um espírito que assume a forma de...       LDJ   \n",
              "142  Um alto som estridente, dolorosamente intenso,...       LDJ   \n",
              "143  Pela duração, você pode ler os pensamentos de ...       LDJ   \n",
              "145  Quando você conjura essa magia, você habilidos...       LDJ   \n",
              "146  Você recebe conhecimento de espíritos do passa...      Etc.   \n",
              "147  Você sente a presença de qualquer armadilha de...       LDJ   \n",
              "148  Você cria até dez palavras em uma parte do céu...       LDJ   \n",
              "149  Escuridão mágica se espalha a partir de um pon...       LDJ   \n",
              "151  Você alcança a mente de uma criatura que você ...  Xanathar   \n",
              "154  Você utiliza uma arma de ataque à distância co...       LDJ   \n",
              "155  Você cospe uma flecha esverdeada cintilante qu...       LDJ   \n",
              "156  Você constrói uma ilusão que se enraíza na men...       LDJ   \n",
              "162  Você evoca uma lâmina elemental ardente em sua...       LDJ   \n",
              "164  Descreva ou nomeia um tipo específico de besta...       LDJ   \n",
              "165  Descreva ou nomeie um objeto que seja familiar...       LDJ   \n",
              "166  Uma linha de vento forte, com 18 metros de com...       LDJ   \n",
              "167  Você entrelaça fios de sombras para criar uma ...       LDJ   \n",
              "168  Da próxima vez que você atingir uma criatura c...       LDJ   \n",
              "169  Através dessa magia, você usa um animal para e...       LDJ   \n",
              "170  Você invoca ambos vida e morte em uma esfera d...       LDJ   \n",
              "171  Seu corpo se torna turvo, mudando e oscilando ...       LDJ   \n",
              "172  Você preenche o ar com adagas giratórias num c...       LDJ   \n",
              "174  Você conjura uma parede de vento de 1,5m de la...    Custom   \n",
              "175  Você magicamente empodera seu movimento com pa...      Etc.   \n",
              "176  Você se teletransporta a até 9 metro para um e...       LDJ   \n",
              "177  Um véu de sombras e silêncio irradia de você, ...       LDJ   \n",
              "178  Até a magia acabar, uma criatura voluntária qu...       LDJ   \n",
              "180  Escolha uma área de chamas que você possa ver ...  Xanathar   \n",
              "181  Você toca uma criatura. Se ela estiver envenen...       LDJ   \n",
              "182  Você cria três raios elementais e os arremessa...       LDJ   \n",
              "184  Um raio negro de energia enervante parte em di...       LDJ   \n",
              "185  Você temporariamente invoca três familiares - ...      Etc.   \n",
              "186  Três duplicatas ilusórias de você aparecem no ...       LDJ   \n",
              "188  Você toca uma criatura e pode ou acabar com um...       LDJ   \n",
              "189  Você toca uma besta voluntária. Pela duração d...       LDJ   \n",
              "190  Pela duração, nenhum som pode ser criado dentr...       LDJ   \n",
              "192  Você sugere um curso de atividade (limitado a ...       LDJ   \n",
              "196  Você toca um pedaço de corda que tenha até 18 ...       LDJ   \n",
              "198  Pela duração, você vê criaturas e objetos invi...       LDJ   \n",
              "199  Você toca uma criatura voluntária para concede...       LDJ   \n",
              "\n",
              "              mana_adicional  magia_rara  \n",
              "124      15 a cada 5 minutos       False  \n",
              "127      10 a cada 5 minutos       False  \n",
              "130                      N/A       False  \n",
              "132                      N/A       False  \n",
              "135                      N/A       False  \n",
              "136                      N/A       False  \n",
              "137                      N/A       False  \n",
              "139                      N/A        True  \n",
              "142                      N/A       False  \n",
              "143             10 por turno       False  \n",
              "145                      N/A       False  \n",
              "146                      N/A       False  \n",
              "147                      N/A       False  \n",
              "148                      N/A       False  \n",
              "149            10 por minuto       False  \n",
              "151     10 a cada 10 minutos       False  \n",
              "154                      N/A       False  \n",
              "155                      N/A       False  \n",
              "156              5 por turno       False  \n",
              "162            10 por minuto       False  \n",
              "164                      N/A       False  \n",
              "165            10 por minuto       False  \n",
              "166             10 por turno       False  \n",
              "167             10 por turno       False  \n",
              "168  10 de mana a cada turno       False  \n",
              "169                      N/A       False  \n",
              "170                      N/A       False  \n",
              "171             10 por turno       False  \n",
              "172             10 por turno       False  \n",
              "174                      N/A       False  \n",
              "175             10 por turno       False  \n",
              "176                      N/A       False  \n",
              "177     10 a cada 10 minutos       False  \n",
              "178     10 a cada 10 minutos       False  \n",
              "180                      N/A       False  \n",
              "181                      N/A        True  \n",
              "182                      N/A       False  \n",
              "184     10 de mana por turno       False  \n",
              "185      50 a cada 5 minutos       False  \n",
              "186                      N/A       False  \n",
              "188                      N/A       False  \n",
              "189      20 a cada 5 minutos       False  \n",
              "190            15 por minuto       False  \n",
              "192              10 por hora       False  \n",
              "196                      N/A       False  \n",
              "198                      N/A       False  \n",
              "199                      N/A       False  "
            ]
          },
          "execution_count": 3,
          "metadata": {},
          "output_type": "execute_result"
        }
      ],
      "source": [
        "filtered_df"
      ]
    },
    {
      "cell_type": "code",
      "execution_count": 4,
      "metadata": {},
      "outputs": [
        {
          "data": {
            "text/plain": [
              "3000     1\n",
              "1500     1\n",
              "1400     2\n",
              "1000     2\n",
              "900      1\n",
              "850      1\n",
              "800      5\n",
              "750      7\n",
              "700     12\n",
              "650      6\n",
              "640      1\n",
              "600      5\n",
              "550      1\n",
              "500      1\n",
              "400      1\n",
              "Name: mana, dtype: int64"
            ]
          },
          "metadata": {},
          "output_type": "display_data"
        },
        {
          "name": "stdout",
          "output_type": "stream",
          "text": [
            "Mean =\t801.915\n",
            "Std  =\t388.781\n"
          ]
        }
      ],
      "source": [
        "from IPython.display import display\n",
        "\n",
        "\n",
        "def get_mana_stats(spells_df):\n",
        "    display(spells_df.mana.value_counts().sort_index(ascending=False))\n",
        "    print(f\"Mean =\\t{filtered_df.mana.mean():.3f}\")\n",
        "    print(f\"Std  =\\t{filtered_df.mana.std():.3f}\")\n",
        "\n",
        "\n",
        "get_mana_stats(filtered_df)\n"
      ]
    },
    {
      "cell_type": "code",
      "execution_count": 5,
      "metadata": {},
      "outputs": [
        {
          "data": {
            "text/plain": [
              "20.0"
            ]
          },
          "execution_count": 5,
          "metadata": {},
          "output_type": "execute_result"
        }
      ],
      "source": [
        "import dice.DiceCalculator as dice\n",
        "\n",
        "dice.get_dice_formula_mean('4d8+2')"
      ]
    },
    {
      "cell_type": "code",
      "execution_count": null,
      "metadata": {},
      "outputs": [],
      "source": []
    }
  ],
  "metadata": {
    "interpreter": {
      "hash": "d36adf45757a947aebb41e19531952e79d7da656c5a3acf675af965b060eaf9d"
    },
    "kernelspec": {
      "display_name": "Python 3.10.2 64-bit",
      "language": "python",
      "name": "python3"
    },
    "language_info": {
      "codemirror_mode": {
        "name": "ipython",
        "version": 3
      },
      "file_extension": ".py",
      "mimetype": "text/x-python",
      "name": "python",
      "nbconvert_exporter": "python",
      "pygments_lexer": "ipython3",
      "version": "3.10.8"
    },
    "orig_nbformat": 4
  },
  "nbformat": 4,
  "nbformat_minor": 2
}
