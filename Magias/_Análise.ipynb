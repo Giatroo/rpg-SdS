{
  "cells": [
    {
      "cell_type": "code",
      "execution_count": 2,
      "metadata": {},
      "outputs": [
        {
          "name": "stderr",
          "output_type": "stream",
          "text": [
            "Spells: 100%|██████████| 202/202 [00:00<00:00, 268.39it/s]\n"
          ]
        }
      ],
      "source": [
        "from dfs.DFReader import get_asserted_spells_df\n",
        "\n",
        "spells_df = get_asserted_spells_df(verbose=True)"
      ]
    },
    {
      "cell_type": "code",
      "execution_count": 6,
      "metadata": {},
      "outputs": [
        {
          "data": {
            "text/markdown": [
              "<span style='color:None;font-size:None'>**Ataque Elemental _(Custom)_** - truque<br></span><span style='color:None;font-size:13px'>&emsp;**Escola(s):** elemental, musical, ilusionista, necromancia, psíquica (_água, terra, fogo, ar, luz, sombras, relâmpago, metal, veneno_)<br>&emsp;**Tempo conjuração:** 1 ação<br>&emsp;**Alcance:** 18 metros<br>&emsp;**Componentes:** S<br>&emsp;**Mana:** 0<br>&emsp;**Duração:** instantânea<br>&emsp;**Dano**: 1d6<br>&emsp;**Dmg/effect:** elemental<br></span><span style='color:None;font-size:None'>Essa é a magia mais básica de dano que qualquer mago sabe utilizar e utiliza uma quantidade de mana praticamente nula (se sua mana estiver abaixo do limite, você ainda deve fazer testes de exaustão).<br>&emsp;Você utiliza sua escola e elemento para causa 1d6 de dano no inimigo.<br>&emsp;O dano dessa magia aumenta em 1d6 quando você alcança o 5° nível (2d6), 11° nível (3d6) e 17° nível (4d6).<br></span><span style='color:gray;font-size:11px'>[dano]<br></span><span style='color:gray;font-size:11px'>[arqueiro, bardo, guerreiro, ladino, mago, monge, xamã]<br></span><span style='color:gray;font-size:10px'>_Custom_</span>"
            ],
            "text/plain": [
              "<IPython.core.display.Markdown object>"
            ]
          },
          "metadata": {},
          "output_type": "display_data"
        },
        {
          "name": "stdout",
          "output_type": "stream",
          "text": [
            "\n"
          ]
        },
        {
          "data": {
            "text/markdown": [
              "<span style='color:None;font-size:None'>**Chicote _(Lightning Lure)_** - truque<br></span><span style='color:None;font-size:13px'>&emsp;**Escola(s):** elemental (_relâmpago, luz, sombras, metal, terra, fogo_)<br>&emsp;**Tempo conjuração:** 1 ação<br>&emsp;**Alcance:** 4,5 metros<br>&emsp;**Componentes:** VS<br>&emsp;**Mana:** 150<br>&emsp;**Duração:** instantânea<br>&emsp;**Dano**: 1d8<br>&emsp;**Attack/Save:** STR Save<br>&emsp;**Dmg/effect:** elemental<br></span><span style='color:None;font-size:None'>Você cria um chicote elemental que golpeia uma criatura a sua escolha a sua vista a até 4,5m de você. O alvo deve ser bem-sucedido em uma salvaguarda de Força ou é puxado por até 3m em linha reta na sua direção, e então recebe 1d8 de dano elemental se estiver a até 1,5m de você.<br>&emsp;O dano dessa magia aumenta em 1d8 quando você alcança o 5º nível (2d8), 11º nível (3d8), e 17º nível (4d8).<br></span><span style='color:gray;font-size:11px'>[controle, dano]<br></span><span style='color:gray;font-size:11px'>[guerreiro, mago, monge]<br></span><span style='color:gray;font-size:10px'>_Tasha_</span>"
            ],
            "text/plain": [
              "<IPython.core.display.Markdown object>"
            ]
          },
          "metadata": {},
          "output_type": "display_data"
        },
        {
          "name": "stdout",
          "output_type": "stream",
          "text": [
            "\n"
          ]
        },
        {
          "data": {
            "text/markdown": [
              "<span style='color:None;font-size:None'>**Controlar Chamas _(Control Flames)_** - truque<br></span><span style='color:None;font-size:13px'>&emsp;**Escola(s):** elemental (_fogo, sombras_)<br>&emsp;**Tempo conjuração:** 1 ação<br>&emsp;**Alcance:** 18 metros<br>&emsp;**Componentes:** S<br>&emsp;**Mana:** 100 (_+ 5 a cada 5 minutos_)<br>&emsp;**Duração:** instantânea ou 1 hora<br></span><span style='color:None;font-size:None'>Você escolhe uma chama não mágica que você possa ver, dentro do alcance, e que ocupe até um cubo de 1,5 metros. Você afeta ela de uma das seguintes formas:<br>&emsp;• Você instantaneamente expande a chama em 1,5 metro em uma direção, considerando que exista madeira ou outro combustível no local novo.<br>&emsp;• Você instantaneamente extingue as chamas dentro do cubo.<br>&emsp;• Você dobra ou reduz à metade a área de luz plena e de penumbra emitida pela chama, muda a cor dela, ou ambos. As mudanças duram por 1 hora.<br>&emsp;• Você faz com que formas simples - como um forma imprecisa de uma criatura, objeto inanimado ou local - apareçam dentro das chamas e se animem como você quiser. As formas duram por 1 hora.<br>&emsp;Se você conjurar essa magia diversas vezes , você pode ter até três dos seus efeitos não instantâneos ativos ao mesmo tempo, e você pode dissipar um efeito desses com uma ação.<br></span><span style='color:gray;font-size:11px'>[controle, utilidade]<br></span><span style='color:gray;font-size:11px'>[arqueiro, bardo, guerreiro, ladino, mago, monge, xamã]<br></span><span style='color:gray;font-size:10px'>_Xanathar_</span>"
            ],
            "text/plain": [
              "<IPython.core.display.Markdown object>"
            ]
          },
          "metadata": {},
          "output_type": "display_data"
        },
        {
          "name": "stdout",
          "output_type": "stream",
          "text": [
            "\n"
          ]
        },
        {
          "data": {
            "text/markdown": [
              "<span style='color:None;font-size:None'>**Criar Chamas _(Produce Flame)_** - truque<br></span><span style='color:None;font-size:13px'>&emsp;**Escola(s):** elemental (_fogo, luz, sombras_)<br>&emsp;**Tempo conjuração:** 1 ação<br>&emsp;**Alcance:** pessoal<br>&emsp;**Componentes:** VS<br>&emsp;**Mana:** 50 (_+ 5 por minuto_)<br>&emsp;**Duração:** 10 minutos<br>&emsp;**Dano**: 1d8<br>&emsp;**Attack/Save:** distância<br>&emsp;**Dmg/effect:** fogo<br></span><span style='color:None;font-size:None'>Uma chama tremulante aparece na sua mão. A chama permanece ai pela duração e não machuca nem você nem seu equipamento. A chama emite luz plena num raio de 3 metros e penumbra por 3 metros adicionais. A magia acaba se você dissipa-la usando uma ação ou se conjura-la novamente.<br>&emsp;Você pode, também, atacar com a chama, no entanto, fazer isso acaba com a magia. Quando você conjura essa magia ou com uma ação em um turno posterior, você pode arremessar a chama numa criatura a até 9 metros de você. Faça um ataque à distância com magia. Se atingir, o alvo sofre 1d8 de dano elemental.<br>&emsp;[Sombras] Todos os alcances de iluminação descritos anteriormente são metade para um Mago das Sombras.<br>&emsp;Você gasta 10 de mana por minuto até a magia acabar.<br>&emsp;O dano dessa magia aumenta em 1d8 quando você alcança o 5° nível (2d8), 11° nível (3d8) e 17° nível (4d8).<br></span><span style='color:gray;font-size:11px'>[dano, distância, utilidade]<br></span><span style='color:gray;font-size:11px'>[arqueiro, bardo, guerreiro, ladino, mago, monge, xamã]<br></span><span style='color:gray;font-size:10px'>_LDJ_</span>"
            ],
            "text/plain": [
              "<IPython.core.display.Markdown object>"
            ]
          },
          "metadata": {},
          "output_type": "display_data"
        },
        {
          "name": "stdout",
          "output_type": "stream",
          "text": [
            "\n"
          ]
        },
        {
          "data": {
            "text/markdown": [
              "<span style='color:None;font-size:None'>**Criar Fogueira Instantânea _(Create Bonfire)_** - truque<br></span><span style='color:None;font-size:13px'>&emsp;**Escola(s):** elemental (_fogo, sombras_)<br>&emsp;**Tempo conjuração:** 1 ação<br>&emsp;**Alcance:** 18 metros<br>&emsp;**Componentes:** VS<br>&emsp;**Mana:** 150<br>&emsp;**Duração:** instantânea<br>&emsp;**Dano**: 1d8<br>&emsp;**Attack/Save:** DEX Save<br>&emsp;**Dmg/effect:** fogo<br></span><span style='color:None;font-size:None'>Você cria uma fogueira no solo em um ponto que você possa ver, dentro do alcance. A fogueira preenche um cubo de 1,5 metros. Qualquer criatura no espaço da fogueira quando você a conjura deve ser bem sucedida num teste de resistência de Destreza ou sofrerá 1d8 de dano de fogo.<br>&emsp;O dano da magia aumenta em 1d8 quando você alcança o 5º nível (2d8), 11º nível (3d8) e 17º nível (4d8).<br></span><span style='color:gray;font-size:11px'>[dano]<br></span><span style='color:gray;font-size:11px'>[guerreiro, ladino, monge]<br></span><span style='color:gray;font-size:10px'>_Xanathar_</span>"
            ],
            "text/plain": [
              "<IPython.core.display.Markdown object>"
            ]
          },
          "metadata": {},
          "output_type": "display_data"
        },
        {
          "name": "stdout",
          "output_type": "stream",
          "text": [
            "\n"
          ]
        },
        {
          "data": {
            "text/markdown": [
              "<span style='color:None;font-size:None'>**Globos de Luz _(Dancing Lights)_** - truque<br></span><span style='color:None;font-size:13px'>&emsp;**Escola(s):** elemental (_luz, fogo, sombras_)<br>&emsp;**Tempo conjuração:** 1 ação<br>&emsp;**Alcance:** 36 metros<br>&emsp;**Componentes:** VSM _(um pouco de fósforo ou wychwood ou um inseto luminoso)_<br>&emsp;**Mana:** 50 (_+ 5 por turno, 25 para mover_)<br>&emsp;**Duração:** concentração, até 1 minuto<br></span><span style='color:None;font-size:None'>Você cria até quatro luzes do tamanho de tochas dentro do alcance, fazendo-as parecerem tochas, lanternas ou esferas luminosas que flutuam no ar pela duração. Você também pode combinar as quatro luzes em uma forma luminosa, vagamente humanoide, de tamanho Médio. Qualquer que seja a forma que você escolher, cada luz produz penumbra num raio de 3 metros.<br>&emsp;Com uma ação bônus, no seu turno, você pode mover as luzes, até 18 metros, para um novo local dentro do alcance. Uma luz deve estar a, pelo menos, 6 metros de outra luz criada por essa magia e uma luz some se exceder o alcance da magia.<br>&emsp;[Sombras] Todos os alcances de iluminação descritos anteriormente são metade para um Mago das Sombras.<br>&emsp;Você gasta 5 de mana por turno para manter essa magia ativa.<br>&emsp;Você gasta 25 de mana caso queira mover as luzes.<br></span><span style='color:gray;font-size:11px'>[utilidade]<br></span><span style='color:gray;font-size:11px'>[arqueiro, bardo, guerreiro, ladino, mago, monge, xamã]<br></span><span style='color:gray;font-size:10px'>_LDJ_</span>"
            ],
            "text/plain": [
              "<IPython.core.display.Markdown object>"
            ]
          },
          "metadata": {},
          "output_type": "display_data"
        },
        {
          "name": "stdout",
          "output_type": "stream",
          "text": [
            "\n"
          ]
        },
        {
          "data": {
            "text/markdown": [
              "<span style='color:None;font-size:None'>**Lâmina Elemental _(Custom)_** - truque<br></span><span style='color:None;font-size:13px'>&emsp;**Escola(s):** elemental (_água, terra, fogo, ar, luz, sombras, relâmpago, metal, veneno_)<br>&emsp;**Tempo conjuração:** 1 ação bônus<br>&emsp;**Alcance:** pessoal<br>&emsp;**Componentes:** SM _(uma arma marcial corpo-a-corpo)_<br>&emsp;**Mana:** 150<br>&emsp;**Duração:** instantânea<br>&emsp;**Dano**: 1d4<br>&emsp;**Attack/Save:** corpo-a-corpo<br>&emsp;**Dmg/effect:** elemental<br></span><span style='color:None;font-size:None'>Você transmite sua mana pela lâmina de uma arma, encobrindo-a com seu elemento. Faça um ataque corpo-a-corpo contra uma criatura até 1,5m de você. Em um acerto, o alvo sofre os efeitos normais do ataque da arma e mais 1d4 de dano elemental.<br>&emsp;O dano dessa magia aumenta quando você alcança certos níveis. No 5º nível, o dano aumenta para 1d6, no 11º nível aumenta para 1d8 e no 17º nível aumenta para 1d10.<br></span><span style='color:gray;font-size:11px'>[arma, corpo-a-corpo, dano]<br></span><span style='color:gray;font-size:11px'>[arqueiro, guerreiro, ladino, monge]<br></span><span style='color:gray;font-size:10px'>_Custom_</span>"
            ],
            "text/plain": [
              "<IPython.core.display.Markdown object>"
            ]
          },
          "metadata": {},
          "output_type": "display_data"
        },
        {
          "name": "stdout",
          "output_type": "stream",
          "text": [
            "\n"
          ]
        },
        {
          "data": {
            "text/markdown": [
              "<span style='color:None;font-size:None'>**Lâmina Saltitante _(Green-Flame Blade)_** - truque<br></span><span style='color:None;font-size:13px'>&emsp;**Escola(s):** elemental (_água, terra, fogo, ar, luz, sombras, relâmpago, metal, veneno_)<br>&emsp;**Tempo conjuração:** 1 ação<br>&emsp;**Alcance:** pessoal<br>&emsp;**Componentes:** SM _(uma arma marcial corpo-a-corpo)_<br>&emsp;**Mana:** 150<br>&emsp;**Duração:** instantânea<br>&emsp;**Dano**: mod<br>&emsp;**Attack/Save:** corpo-a-corpo<br>&emsp;**Dmg/effect:** elemental<br></span><span style='color:None;font-size:None'>Você brande a arma utilizada na conjuração dessa magia e faz um ataque corpo-a-corpo contra uma criatura até 1,5m de você. Em um acerto, o alvo sofre os efeitos normais do ataque da arma e você faz com que uma rajada elemental salte do alvo para uma criatura diferente a sua escolha que você possa ver a até 1,5m do primeiro alvo. A segunda criatura sofre dano elemental igual ao seu modificador de atributo de conjuração.<br>&emsp;[Arqueiro] Pode usar uma arma de ataque à distância.<br>&emsp;O dano dessa magia aumenta quando você alcança certos níveis. No 5º nível, o ataque corpo-a-corpo provoca 1d8 de dano elemental adicional se acertar, e o dano elemental que a segunda criatura recebe aumenta para 1d8 + o modificador de seu atributo de conjuração. Ambos os danos aumentam em 1d8 no 11º nível (2d8 e 2d8) e novamente no 17º nível (3d8 e 3d8).<br></span><span style='color:gray;font-size:11px'>[arma, corpo-a-corpo, dano]<br></span><span style='color:gray;font-size:11px'>[arqueiro, guerreiro, ladino, mago, monge]<br></span><span style='color:gray;font-size:10px'>_Tasha_</span>"
            ],
            "text/plain": [
              "<IPython.core.display.Markdown object>"
            ]
          },
          "metadata": {},
          "output_type": "display_data"
        },
        {
          "name": "stdout",
          "output_type": "stream",
          "text": [
            "\n"
          ]
        },
        {
          "data": {
            "text/markdown": [
              "<span style='color:None;font-size:None'>**Prestidigitação _(Prestidigitation)_** - truque<br></span><span style='color:None;font-size:13px'>&emsp;**Escola(s):** elemental (_água, terra, fogo, ar, sombras, relâmpago, metal, veneno_)<br>&emsp;**Tempo conjuração:** 1 ação<br>&emsp;**Alcance:** 3 metros<br>&emsp;**Componentes:** VS<br>&emsp;**Mana:** 50<br>&emsp;**Duração:** até 1 hora<br></span><span style='color:None;font-size:None'>Essa magia é um truque mágico simples que conjuradores iniciantes usam para praticar. Você cria um dos seguintes efeitos mágicos dentro do alcance:<br>&emsp;• Você cria, instantaneamente, um efeito sensorial inofensivo, como uma [relâmpago] chuva de faíscas, [ar] um sopro de vento, ou [veneno] um odor estranho.<br>&emsp;•[Fogo] Você, instantaneamente, acende ou apaga uma vela, uma tocha ou uma pequena fogueira.<br>&emsp;•[Terra] Você, instantaneamente, limpa ou suja um objeto de até 1 metro cúbico. Você pode limpar ou sujar uma parte de uma roupa com lama.<br>&emsp;•[Água] Você seca ou molha uma porção de tecido, madeira ou algo do tipo.<br>&emsp;•[Fogo] Você esfria, esquenta ou melhora o sabor de até 1 metro cubico de matéria orgânica não viva por 1 hora.<br>&emsp;•[Metal] Você faz uma cor, uma pequena marca ou um símbolo aparecer em um objeto ou superfície metálica por 1 hora.<br>&emsp;•[Ilusão] Você cria uma bugiganga não-mágica ou uma imagem ilusória que caiba na sua mão e que dura até o final do seu próximo turno.<br>&emsp;Se você conjurar essa magia diversas vezes, você pode ter até três dos seus efeitos não-instantâneos ativos, ao mesmo tempo, e você pode dissipar um desses efeitos com uma ação.<br></span><span style='color:gray;font-size:11px'>[utilidade]<br></span><span style='color:gray;font-size:11px'>[arqueiro, bardo, guerreiro, ladino, mago, monge, xamã]<br></span><span style='color:gray;font-size:10px'>_LDJ_</span>"
            ],
            "text/plain": [
              "<IPython.core.display.Markdown object>"
            ]
          },
          "metadata": {},
          "output_type": "display_data"
        },
        {
          "name": "stdout",
          "output_type": "stream",
          "text": [
            "\n"
          ]
        },
        {
          "data": {
            "text/markdown": [
              "<span style='color:None;font-size:None'>**Raio de Fogo _(Fire Bolt)_** - truque<br></span><span style='color:None;font-size:13px'>&emsp;**Escola(s):** elemental (_fogo, sombras, luz_)<br>&emsp;**Tempo conjuração:** 1 ação<br>&emsp;**Alcance:** 36 metros<br>&emsp;**Componentes:** VS<br>&emsp;**Mana:** 150<br>&emsp;**Duração:** instantânea<br>&emsp;**Dano**: 1d10<br>&emsp;**Attack/Save:** distância<br>&emsp;**Dmg/effect:** elemental<br></span><span style='color:None;font-size:None'>Você arremessa um cisco elemental em uma criatura ou objeto dentro do alcance. Faça um ataque à distância com magia contra o alvo. Se atingir, o alvo sofre 1d10 de dano de elemental.<br>&emsp;[Fogo|Sombras] Um objeto inflamável atingido por essa magia, incendeia se não estiver sendo vestido ou carregado.<br>&emsp;O dano dessa magia aumenta em 1d10 quando você alcança o 5° nível (2d10), 11° nível (3d10) e 17° nível (4d10).<br></span><span style='color:gray;font-size:11px'>[dano, distância, utilidade]<br></span><span style='color:gray;font-size:11px'>[arqueiro, bardo, guerreiro, mago, monge, xamã]<br></span><span style='color:gray;font-size:10px'>_LDJ_</span>"
            ],
            "text/plain": [
              "<IPython.core.display.Markdown object>"
            ]
          },
          "metadata": {},
          "output_type": "display_data"
        },
        {
          "name": "stdout",
          "output_type": "stream",
          "text": [
            "\n"
          ]
        },
        {
          "data": {
            "text/markdown": [
              "<span style='color:None;font-size:None'>**Rajada Mística _(Eldritch Blast)_** - truque<br></span><span style='color:None;font-size:13px'>&emsp;**Escola(s):** elemental (_água, terra, ar, fogo, luz, sombras, relâmpago, veneno_)<br>&emsp;**Tempo conjuração:** 1 ação<br>&emsp;**Alcance:** 36 metros<br>&emsp;**Componentes:** VS<br>&emsp;**Mana:** 150<br>&emsp;**Duração:** instantânea<br>&emsp;**Dano**: 1d10<br>&emsp;**Attack/Save:** distância<br>&emsp;**Dmg/effect:** elemental<br></span><span style='color:None;font-size:None'>Um feixe elemental vai em direção a uma criatura dentro do alcance. Realize uma jogada de ataque à distância com magia contra o alvo. Se atingir, o alvo sofre 1d10 de dano do seu elemento.<br>&emsp;A magia cria mais de um feixe quando você alcança níveis elevados: dois feixes no 5° nível, três feixes no 11° nível e quatro feixes no 17° nível. Você pode direcionar os feixes para o mesmo alvo ou para alvos diferentes. Realize jogadas de ataque separadas para cada feixe.<br></span><span style='color:gray;font-size:11px'>[dano, distância]<br></span><span style='color:gray;font-size:11px'>[arqueiro, bardo, guerreiro, ladino, mago, monge, xamã]<br></span><span style='color:gray;font-size:10px'>_LDJ_</span>"
            ],
            "text/plain": [
              "<IPython.core.display.Markdown object>"
            ]
          },
          "metadata": {},
          "output_type": "display_data"
        },
        {
          "name": "stdout",
          "output_type": "stream",
          "text": [
            "\n"
          ]
        },
        {
          "data": {
            "text/markdown": [
              "<span style='color:None;font-size:None'>**Rompante de Espadas _(Sword Burst)_** - truque<br></span><span style='color:None;font-size:13px'>&emsp;**Escola(s):** elemental (_água, terra, ar, fogo, sombras, luz, metal_)<br>&emsp;**Tempo conjuração:** 1 ação<br>&emsp;**Alcance:** pessoal<br>&emsp;**Componentes:** VSM _(um pouco de pó de prata)_<br>&emsp;**Mana:** 100<br>&emsp;**Duração:** instantânea<br>&emsp;**Dano**: 1d6<br>&emsp;**Attack/Save:** DEX Save<br>&emsp;**Dmg/effect:** fogo<br></span><span style='color:None;font-size:None'>Você cria um círculo momentâneo de lâminas elementais que giram ao seu redor. Todas as outras criaturas a até 1,5m de você devem ser bem-sucedidas em uma salvaguarda de Destreza ou recebem 1d6 de dano elemental.<br>&emsp;O dano da magia aumenta em 1d6 quando você alcança o 5º nível (2d6), 11 nível (3d6), e 17º nível (4d6).<br></span><span style='color:gray;font-size:11px'>[dano]<br></span><span style='color:gray;font-size:11px'>[arqueiro, bardo, guerreiro, ladino, mago, monge, xamã]<br></span><span style='color:gray;font-size:10px'>_Tasha_</span>"
            ],
            "text/plain": [
              "<IPython.core.display.Markdown object>"
            ]
          },
          "metadata": {},
          "output_type": "display_data"
        },
        {
          "name": "stdout",
          "output_type": "stream",
          "text": [
            "\n"
          ]
        },
        {
          "data": {
            "text/markdown": [
              "<span style='color:None;font-size:None'>**Destruição Lancinante _(Wrathful Smite)_** lvl 1<br></span><span style='color:None;font-size:13px'>&emsp;**Escola(s):** elemental (_fogo, luz, sombras_)<br>&emsp;**Tempo conjuração:** 1 ação bônus<br>&emsp;**Alcance:** pessoal<br>&emsp;**Componentes:** V<br>&emsp;**Mana:** 400 (_+ 10 por turno_)<br>&emsp;**Duração:** concentração, até 1 minuto<br>&emsp;**Dano**: 1d6<br>&emsp;**Attack/Save:** corpo-a-corpo<br>&emsp;**Dmg/effect:** elemental<br></span><span style='color:None;font-size:None'>Da próxima vez que você atingir uma criatura com um ataque corpo-a-corpo com arma enquanto essa magia durar, sua arma flameja com intensas chamas e o ataque causa 1d6 de dano elemental extra ao alvo, fazendo-o incendiar pelas chamas. No início de cada turno dele, até a magia acabar, o alvo deve realizar um teste de resistência de Constituição. Se falhar na resistência, ele sofre 1d6 de dano de fogo. Se passar na resistência, a magia acaba. Se o alvo ou uma criatura a 1,5 metro dele usar uma ação para apagar as chamas ou se algum outro efeito extinguir as chamas (como submergir o alvo em água), a magia acaba.<br>&emsp;**Melhorar Magia**. Você pode gastar 500 de mana adicionais e 10 por turno para adicionar 1d6 no dano até um máximo de 5d6 adicionais.<br></span><span style='color:gray;font-size:11px'>[arma, corpo-a-corpo, dano]<br></span><span style='color:gray;font-size:11px'>[arqueiro, bardo, guerreiro, ladino, mago, monge, xamã]<br></span><span style='color:gray;font-size:10px'>_LDJ_</span>"
            ],
            "text/plain": [
              "<IPython.core.display.Markdown object>"
            ]
          },
          "metadata": {},
          "output_type": "display_data"
        },
        {
          "name": "stdout",
          "output_type": "stream",
          "text": [
            "\n"
          ]
        },
        {
          "data": {
            "text/markdown": [
              "<span style='color:None;font-size:None'>**Encantar Arma (Auxílio Divino) _(Searing Smite)_** lvl 1<br></span><span style='color:None;font-size:13px'>&emsp;**Escola(s):** elemental (_água, terra, fogo, ar, luz, sombras, relâmpago, metal, veneno_)<br>&emsp;**Tempo conjuração:** 1 ação bônus<br>&emsp;**Alcance:** pessoal<br>&emsp;**Componentes:** VS<br>&emsp;**Mana:** 300 (_+ 20 por turno_)<br>&emsp;**Duração:** concentração, até 1 minuto<br>&emsp;**Dano**: 1d4<br>&emsp;**Dmg/effect:** elemental<br></span><span style='color:None;font-size:None'>Você envolve sua arma com seu elemento. Até o final da magia, seus ataques com aruma causa 1d4 de dano elemento extra ao atingirem.<br>&emsp;**Melhorar Magia**. Você pode gastar mais 500 de mana e mais 30 de mana por turno para transformar o d4 em d6. Você pode gastar mais 1500 de mana e mais 50 de mana por turno para transformar o d6 em d8. Você pode gastar mais 5000 de mana e mais 100 de mana por turno para transformar o d8 em d10.<br></span><span style='color:gray;font-size:11px'>[arma, buff, dano]<br></span><span style='color:gray;font-size:11px'>[arqueiro, bardo, guerreiro, ladino, mago, monge, xamã]<br></span><span style='color:gray;font-size:10px'>_LDJ_</span>"
            ],
            "text/plain": [
              "<IPython.core.display.Markdown object>"
            ]
          },
          "metadata": {},
          "output_type": "display_data"
        },
        {
          "name": "stdout",
          "output_type": "stream",
          "text": [
            "\n"
          ]
        },
        {
          "data": {
            "text/markdown": [
              "<span style='color:None;font-size:None'>**Flecha Luminosa _(Custom)_** lvl 1<br></span><span style='color:None;font-size:13px'>&emsp;**Escola(s):** elemental (_fogo, luz, relâmpago_)<br>&emsp;**Tempo conjuração:** 1 ação<br>&emsp;**Alcance:** pessoal<br>&emsp;**Componentes:** VSM _(uma pata de vagalume)_<br>&emsp;**Mana:** 350<br>&emsp;**Duração:** instantânea<br>&emsp;**Dano**: 1d4<br>&emsp;**Dmg/effect:** perfurante<br></span><span style='color:None;font-size:None'>Você encanta uma munição de arma à distância e faz uma jogada de ataque contra um alvo dentro do alcance normal da arma. Independente de acertar ou errar, você cria uma explosão luminosa que cria uma esfera de 3m de luz plena e 3m de penumbra com foco no alvo. Em um acerto, você dá 1d4 de dano perfurante extra.<br></span><span style='color:gray;font-size:11px'>[arma, dano, detecção, distância]<br></span><span style='color:gray;font-size:11px'>[arqueiro, guerreiro]<br></span><span style='color:gray;font-size:10px'>_Custom_</span>"
            ],
            "text/plain": [
              "<IPython.core.display.Markdown object>"
            ]
          },
          "metadata": {},
          "output_type": "display_data"
        },
        {
          "name": "stdout",
          "output_type": "stream",
          "text": [
            "\n"
          ]
        },
        {
          "data": {
            "text/markdown": [
              "<span style='color:None;font-size:None'>**Raio de Caos _(Chaos Boat)_** lvl 1<br></span><span style='color:None;font-size:13px'>&emsp;**Escola(s):** elemental (_água, terra, fogo, ar, luz, sombras, relâmpago, metal, veneno_)<br>&emsp;**Tempo conjuração:** 1 ação<br>&emsp;**Alcance:** 36 metros<br>&emsp;**Componentes:** VS<br>&emsp;**Mana:** 600<br>&emsp;**Duração:** instantânea<br>&emsp;**Dano**: 2d8 + 1d6<br>&emsp;**Attack/Save:** distância<br>&emsp;**Dmg/effect:** elemental<br></span><span style='color:None;font-size:None'>Você conjura uma massa ondulante de energia caótica elemental em uma criatura no alcance. Faça um ataque à distância com magia contra o alvo. Se atingir, o alvo leva 2d8 + 1d6 de dano elemental.<br>&emsp;Se os dois d8 rolados possuírem o mesmo valor, então a energia caótica salta para um alvo dentro de 9 metros de distância a sua escolha. Faça uma nova rolagem de ataque à distância contra o novo e role novamente o dano, fazendo com que a magia possa novamente saltar para outro alvo.<br>&emsp;Alternativamente, você pode utilizar uma arma corpo-a-corpo para fazer o ataque. Sua arma se enche dessa energia caótica e o efeito é o mesmo, mas a diferença é que o alvo inicial sofre 2d8 + o dano que sua arma possui naturalmente.<br>&emsp;**Melhorar Magia.** Para cada 500 adicionais de mana gasto, o dano da magia aumenta em 1d6, com um limite de 5d6 extras.<br></span><span style='color:gray;font-size:11px'>[arma, corpo-a-corpo, dano]<br></span><span style='color:gray;font-size:11px'>[arqueiro, bardo, guerreiro, ladino, mago, xamã]<br></span><span style='color:gray;font-size:10px'>_Xanathar_</span>"
            ],
            "text/plain": [
              "<IPython.core.display.Markdown object>"
            ]
          },
          "metadata": {},
          "output_type": "display_data"
        },
        {
          "name": "stdout",
          "output_type": "stream",
          "text": [
            "\n"
          ]
        }
      ],
      "source": [
        "from dfs.DFFilter import filter_df\n",
        "from spell.SpellPrinter import print_spell, print_spells_by_name, print_spells_for_df\n",
        "\n",
        "my_filter = {\n",
        "    \"classes\": ['guerreiro'],\n",
        "    'escola': ['musical', 'elemental'],\n",
        "    'elementos': ['fogo'],\n",
        "    \"nivel\": [0, 1],\n",
        "}\n",
        "filtered_df = filter_df(spells_df, my_filter)\n",
        "\n",
        "print_spells_for_df(filtered_df)"
      ]
    },
    {
      "cell_type": "code",
      "execution_count": 3,
      "metadata": {},
      "outputs": [
        {
          "data": {
            "text/html": [
              "<div>\n",
              "<style scoped>\n",
              "    .dataframe tbody tr th:only-of-type {\n",
              "        vertical-align: middle;\n",
              "    }\n",
              "\n",
              "    .dataframe tbody tr th {\n",
              "        vertical-align: top;\n",
              "    }\n",
              "\n",
              "    .dataframe thead th {\n",
              "        text-align: right;\n",
              "    }\n",
              "</style>\n",
              "<table border=\"1\" class=\"dataframe\">\n",
              "  <thead>\n",
              "    <tr style=\"text-align: right;\">\n",
              "      <th></th>\n",
              "      <th>nome</th>\n",
              "      <th>name</th>\n",
              "      <th>nivel</th>\n",
              "      <th>escola</th>\n",
              "      <th>ritual</th>\n",
              "      <th>elementos</th>\n",
              "      <th>tempo_conjuracao</th>\n",
              "      <th>alcance_area</th>\n",
              "      <th>componentes</th>\n",
              "      <th>mana</th>\n",
              "      <th>duracao</th>\n",
              "      <th>attack_save</th>\n",
              "      <th>dmg_effect</th>\n",
              "      <th>dmg</th>\n",
              "      <th>classes</th>\n",
              "      <th>tags</th>\n",
              "      <th>descricao</th>\n",
              "      <th>source</th>\n",
              "      <th>mana_adicional</th>\n",
              "      <th>magia_rara</th>\n",
              "    </tr>\n",
              "  </thead>\n",
              "  <tbody>\n",
              "    <tr>\n",
              "      <th>18</th>\n",
              "      <td>Infestação</td>\n",
              "      <td>Infestation</td>\n",
              "      <td>0</td>\n",
              "      <td>[invocação, necromancia]</td>\n",
              "      <td>False</td>\n",
              "      <td>[]</td>\n",
              "      <td>1 ação</td>\n",
              "      <td>9 metros</td>\n",
              "      <td>VSM (uma pulga viva)</td>\n",
              "      <td>100</td>\n",
              "      <td>instantânea</td>\n",
              "      <td>CON Save</td>\n",
              "      <td>veneno</td>\n",
              "      <td>1d6</td>\n",
              "      <td>[arqueiro, mago, bardo, ladino, xamã]</td>\n",
              "      <td>[dano, controle]</td>\n",
              "      <td>Você provoca uma nuvem de ácaros, pulgas e out...</td>\n",
              "      <td>Xanathar</td>\n",
              "      <td>N/A</td>\n",
              "      <td>False</td>\n",
              "    </tr>\n",
              "    <tr>\n",
              "      <th>28</th>\n",
              "      <td>Mãos Mágicas</td>\n",
              "      <td>Mage Hand</td>\n",
              "      <td>0</td>\n",
              "      <td>[necromancia, invocação]</td>\n",
              "      <td>False</td>\n",
              "      <td>[]</td>\n",
              "      <td>1 ação</td>\n",
              "      <td>9 metros</td>\n",
              "      <td>VS</td>\n",
              "      <td>150</td>\n",
              "      <td>instantânea</td>\n",
              "      <td>N/A</td>\n",
              "      <td>N/A</td>\n",
              "      <td>N/A</td>\n",
              "      <td>[arqueiro, ladino, guerreiro, monge, bardo, ma...</td>\n",
              "      <td>[utilidade]</td>\n",
              "      <td>Uma mão espectral flutuante aparece num ponto,...</td>\n",
              "      <td>LDJ</td>\n",
              "      <td>N/A</td>\n",
              "      <td>False</td>\n",
              "    </tr>\n",
              "    <tr>\n",
              "      <th>62</th>\n",
              "      <td>Convocar Familiar</td>\n",
              "      <td>Find Familiar</td>\n",
              "      <td>1</td>\n",
              "      <td>[invocação]</td>\n",
              "      <td>False</td>\n",
              "      <td>[]</td>\n",
              "      <td>1 hora</td>\n",
              "      <td>3 metros</td>\n",
              "      <td>VSM (carvão, incenso e ervas no valor de 10 po...</td>\n",
              "      <td>700</td>\n",
              "      <td>instantânea</td>\n",
              "      <td>N/A</td>\n",
              "      <td>N/A</td>\n",
              "      <td>N/A</td>\n",
              "      <td>[arqueiro, mago, xamã]</td>\n",
              "      <td>[dano, utilidade, exploração]</td>\n",
              "      <td>Você adquire os serviços de uma familiar, um e...</td>\n",
              "      <td>LDJ</td>\n",
              "      <td>N/A</td>\n",
              "      <td>False</td>\n",
              "    </tr>\n",
              "    <tr>\n",
              "      <th>114</th>\n",
              "      <td>Servo Invisível</td>\n",
              "      <td>Unseen Servant</td>\n",
              "      <td>1</td>\n",
              "      <td>[invocação]</td>\n",
              "      <td>True</td>\n",
              "      <td>[]</td>\n",
              "      <td>1 ação</td>\n",
              "      <td>18 metros</td>\n",
              "      <td>VSM (um pedaço de barbante e um pouco de madeira)</td>\n",
              "      <td>200</td>\n",
              "      <td>1 hora</td>\n",
              "      <td>N/A</td>\n",
              "      <td>N/A</td>\n",
              "      <td>N/A</td>\n",
              "      <td>[arqueiro, ladino, guerreiro, bardo, monge, ma...</td>\n",
              "      <td>[exploração, utilidade]</td>\n",
              "      <td>Essa magia cria uma força invisível, sem mente...</td>\n",
              "      <td>LDJ</td>\n",
              "      <td>N/A</td>\n",
              "      <td>False</td>\n",
              "    </tr>\n",
              "    <tr>\n",
              "      <th>138</th>\n",
              "      <td>Convocar Montaria</td>\n",
              "      <td>Find Steed</td>\n",
              "      <td>2</td>\n",
              "      <td>[invocação, necromancia, espiritual]</td>\n",
              "      <td>False</td>\n",
              "      <td>[]</td>\n",
              "      <td>10 minutos</td>\n",
              "      <td>9 metros</td>\n",
              "      <td>VS</td>\n",
              "      <td>1400</td>\n",
              "      <td>instantânea</td>\n",
              "      <td>N/A</td>\n",
              "      <td>N/A</td>\n",
              "      <td>N/A</td>\n",
              "      <td>[arqueiro, guerreiro, bardo, mago]</td>\n",
              "      <td>[dano, comunicação, exploração]</td>\n",
              "      <td>Você convoca um espírito que assume a forma de...</td>\n",
              "      <td>LDJ</td>\n",
              "      <td>N/A</td>\n",
              "      <td>True</td>\n",
              "    </tr>\n",
              "    <tr>\n",
              "      <th>151</th>\n",
              "      <td>Espírito Curativo</td>\n",
              "      <td>Healing Spirits</td>\n",
              "      <td>2</td>\n",
              "      <td>[elemental, invocação, espiritual]</td>\n",
              "      <td>False</td>\n",
              "      <td>[água, terra, luz]</td>\n",
              "      <td>1 ação bônus</td>\n",
              "      <td>18 metros</td>\n",
              "      <td>VS</td>\n",
              "      <td>700</td>\n",
              "      <td>concentração, até 1 minuto</td>\n",
              "      <td>N/A</td>\n",
              "      <td>N/A</td>\n",
              "      <td>1d6</td>\n",
              "      <td>[bardo, monge, xamã]</td>\n",
              "      <td>[cura]</td>\n",
              "      <td>Você invoca um espírito de natureza para confo...</td>\n",
              "      <td>LDJ</td>\n",
              "      <td>15 por turno</td>\n",
              "      <td>False</td>\n",
              "    </tr>\n",
              "    <tr>\n",
              "      <th>160</th>\n",
              "      <td>Invocar Fera</td>\n",
              "      <td>Summon Beast</td>\n",
              "      <td>2</td>\n",
              "      <td>[elemental, invocação]</td>\n",
              "      <td>False</td>\n",
              "      <td>[água, terra, fogo, ar]</td>\n",
              "      <td>1 ação</td>\n",
              "      <td>18 metros</td>\n",
              "      <td>V</td>\n",
              "      <td>800</td>\n",
              "      <td>1 hora</td>\n",
              "      <td>N/A</td>\n",
              "      <td>N/A</td>\n",
              "      <td>N/A</td>\n",
              "      <td>[bardo, mago, feiticeiro, bruxo, xamã]</td>\n",
              "      <td>[dano]</td>\n",
              "      <td>Você convoca um espírito feral. Ele se manifes...</td>\n",
              "      <td>Tasha</td>\n",
              "      <td>N/A</td>\n",
              "      <td>False</td>\n",
              "    </tr>\n",
              "    <tr>\n",
              "      <th>168</th>\n",
              "      <td>Mensageiro Animal</td>\n",
              "      <td>Animal Messenger</td>\n",
              "      <td>2</td>\n",
              "      <td>[elemental, invocação, musical]</td>\n",
              "      <td>True</td>\n",
              "      <td>[terra]</td>\n",
              "      <td>1 ação</td>\n",
              "      <td>9 metros</td>\n",
              "      <td>VSM (um punhado de comida)</td>\n",
              "      <td>650</td>\n",
              "      <td>24 horas</td>\n",
              "      <td>N/A</td>\n",
              "      <td>N/A</td>\n",
              "      <td>N/A</td>\n",
              "      <td>[arqueiro, guerreiro, bardo, monge, mago, xamã]</td>\n",
              "      <td>[utilidade, comunicação]</td>\n",
              "      <td>Através dessa magia, você usa um animal para e...</td>\n",
              "      <td>LDJ</td>\n",
              "      <td>N/A</td>\n",
              "      <td>False</td>\n",
              "    </tr>\n",
              "    <tr>\n",
              "      <th>184</th>\n",
              "      <td>Rebanho de Familiares</td>\n",
              "      <td>Flock of Familiars</td>\n",
              "      <td>2</td>\n",
              "      <td>[invocação]</td>\n",
              "      <td>False</td>\n",
              "      <td>[]</td>\n",
              "      <td>1 minuto</td>\n",
              "      <td>toque</td>\n",
              "      <td>VS</td>\n",
              "      <td>1400</td>\n",
              "      <td>concentração, até 1 hora</td>\n",
              "      <td>N/A</td>\n",
              "      <td>N/A</td>\n",
              "      <td>N/A</td>\n",
              "      <td>[arqueiro, ladino, guerreiro, bardo, monge, ma...</td>\n",
              "      <td>[comunicação, detecção, exploração]</td>\n",
              "      <td>Você temporariamente invoca três familiares - ...</td>\n",
              "      <td>Etc.</td>\n",
              "      <td>50 a cada 5 minutos</td>\n",
              "      <td>False</td>\n",
              "    </tr>\n",
              "    <tr>\n",
              "      <th>188</th>\n",
              "      <td>Sentido Bestial</td>\n",
              "      <td>Beast Sense</td>\n",
              "      <td>2</td>\n",
              "      <td>[elemental, musical, invocação]</td>\n",
              "      <td>False</td>\n",
              "      <td>[terra]</td>\n",
              "      <td>1 ação</td>\n",
              "      <td>toque</td>\n",
              "      <td>S</td>\n",
              "      <td>500</td>\n",
              "      <td>concentração, até 1 hora</td>\n",
              "      <td>N/A</td>\n",
              "      <td>N/A</td>\n",
              "      <td>N/A</td>\n",
              "      <td>[arqueiro, ladino, guerreiro, bardo, monge, ma...</td>\n",
              "      <td>[exploração, toque]</td>\n",
              "      <td>Você toca uma besta voluntária. Pela duração d...</td>\n",
              "      <td>LDJ</td>\n",
              "      <td>20 a cada 5 minutos</td>\n",
              "      <td>False</td>\n",
              "    </tr>\n",
              "  </tbody>\n",
              "</table>\n",
              "</div>"
            ],
            "text/plain": [
              "                      nome                name  nivel  \\\n",
              "18              Infestação         Infestation      0   \n",
              "28            Mãos Mágicas           Mage Hand      0   \n",
              "62       Convocar Familiar       Find Familiar      1   \n",
              "114        Servo Invisível      Unseen Servant      1   \n",
              "138      Convocar Montaria          Find Steed      2   \n",
              "151      Espírito Curativo     Healing Spirits      2   \n",
              "160           Invocar Fera        Summon Beast      2   \n",
              "168      Mensageiro Animal    Animal Messenger      2   \n",
              "184  Rebanho de Familiares  Flock of Familiars      2   \n",
              "188        Sentido Bestial         Beast Sense      2   \n",
              "\n",
              "                                   escola  ritual                elementos  \\\n",
              "18               [invocação, necromancia]   False                       []   \n",
              "28               [necromancia, invocação]   False                       []   \n",
              "62                            [invocação]   False                       []   \n",
              "114                           [invocação]    True                       []   \n",
              "138  [invocação, necromancia, espiritual]   False                       []   \n",
              "151    [elemental, invocação, espiritual]   False       [água, terra, luz]   \n",
              "160                [elemental, invocação]   False  [água, terra, fogo, ar]   \n",
              "168       [elemental, invocação, musical]    True                  [terra]   \n",
              "184                           [invocação]   False                       []   \n",
              "188       [elemental, musical, invocação]   False                  [terra]   \n",
              "\n",
              "    tempo_conjuracao alcance_area  \\\n",
              "18            1 ação     9 metros   \n",
              "28            1 ação     9 metros   \n",
              "62            1 hora     3 metros   \n",
              "114           1 ação    18 metros   \n",
              "138       10 minutos     9 metros   \n",
              "151     1 ação bônus    18 metros   \n",
              "160           1 ação    18 metros   \n",
              "168           1 ação     9 metros   \n",
              "184         1 minuto        toque   \n",
              "188           1 ação        toque   \n",
              "\n",
              "                                           componentes  mana  \\\n",
              "18                                VSM (uma pulga viva)   100   \n",
              "28                                                  VS   150   \n",
              "62   VSM (carvão, incenso e ervas no valor de 10 po...   700   \n",
              "114  VSM (um pedaço de barbante e um pouco de madeira)   200   \n",
              "138                                                 VS  1400   \n",
              "151                                                 VS   700   \n",
              "160                                                  V   800   \n",
              "168                         VSM (um punhado de comida)   650   \n",
              "184                                                 VS  1400   \n",
              "188                                                  S   500   \n",
              "\n",
              "                        duracao attack_save dmg_effect  dmg  \\\n",
              "18                  instantânea    CON Save     veneno  1d6   \n",
              "28                  instantânea         N/A        N/A  N/A   \n",
              "62                  instantânea         N/A        N/A  N/A   \n",
              "114                      1 hora         N/A        N/A  N/A   \n",
              "138                 instantânea         N/A        N/A  N/A   \n",
              "151  concentração, até 1 minuto         N/A        N/A  1d6   \n",
              "160                      1 hora         N/A        N/A  N/A   \n",
              "168                    24 horas         N/A        N/A  N/A   \n",
              "184    concentração, até 1 hora         N/A        N/A  N/A   \n",
              "188    concentração, até 1 hora         N/A        N/A  N/A   \n",
              "\n",
              "                                               classes  \\\n",
              "18               [arqueiro, mago, bardo, ladino, xamã]   \n",
              "28   [arqueiro, ladino, guerreiro, monge, bardo, ma...   \n",
              "62                              [arqueiro, mago, xamã]   \n",
              "114  [arqueiro, ladino, guerreiro, bardo, monge, ma...   \n",
              "138                 [arqueiro, guerreiro, bardo, mago]   \n",
              "151                               [bardo, monge, xamã]   \n",
              "160             [bardo, mago, feiticeiro, bruxo, xamã]   \n",
              "168    [arqueiro, guerreiro, bardo, monge, mago, xamã]   \n",
              "184  [arqueiro, ladino, guerreiro, bardo, monge, ma...   \n",
              "188  [arqueiro, ladino, guerreiro, bardo, monge, ma...   \n",
              "\n",
              "                                    tags  \\\n",
              "18                      [dano, controle]   \n",
              "28                           [utilidade]   \n",
              "62         [dano, utilidade, exploração]   \n",
              "114              [exploração, utilidade]   \n",
              "138      [dano, comunicação, exploração]   \n",
              "151                               [cura]   \n",
              "160                               [dano]   \n",
              "168             [utilidade, comunicação]   \n",
              "184  [comunicação, detecção, exploração]   \n",
              "188                  [exploração, toque]   \n",
              "\n",
              "                                             descricao    source  \\\n",
              "18   Você provoca uma nuvem de ácaros, pulgas e out...  Xanathar   \n",
              "28   Uma mão espectral flutuante aparece num ponto,...       LDJ   \n",
              "62   Você adquire os serviços de uma familiar, um e...       LDJ   \n",
              "114  Essa magia cria uma força invisível, sem mente...       LDJ   \n",
              "138  Você convoca um espírito que assume a forma de...       LDJ   \n",
              "151  Você invoca um espírito de natureza para confo...       LDJ   \n",
              "160  Você convoca um espírito feral. Ele se manifes...     Tasha   \n",
              "168  Através dessa magia, você usa um animal para e...       LDJ   \n",
              "184  Você temporariamente invoca três familiares - ...      Etc.   \n",
              "188  Você toca uma besta voluntária. Pela duração d...       LDJ   \n",
              "\n",
              "          mana_adicional  magia_rara  \n",
              "18                   N/A       False  \n",
              "28                   N/A       False  \n",
              "62                   N/A       False  \n",
              "114                  N/A       False  \n",
              "138                  N/A        True  \n",
              "151         15 por turno       False  \n",
              "160                  N/A       False  \n",
              "168                  N/A       False  \n",
              "184  50 a cada 5 minutos       False  \n",
              "188  20 a cada 5 minutos       False  "
            ]
          },
          "execution_count": 3,
          "metadata": {},
          "output_type": "execute_result"
        }
      ],
      "source": [
        "filtered_df"
      ]
    },
    {
      "cell_type": "code",
      "execution_count": 4,
      "metadata": {},
      "outputs": [
        {
          "data": {
            "text/plain": [
              "1400    2\n",
              "800     1\n",
              "700     2\n",
              "650     1\n",
              "500     1\n",
              "200     1\n",
              "150     1\n",
              "100     1\n",
              "Name: mana, dtype: int64"
            ]
          },
          "metadata": {},
          "output_type": "display_data"
        },
        {
          "name": "stdout",
          "output_type": "stream",
          "text": [
            "Mean =\t660.000\n",
            "Std  =\t462.961\n"
          ]
        }
      ],
      "source": [
        "from IPython.display import display\n",
        "\n",
        "\n",
        "def get_mana_stats(spells_df):\n",
        "    display(spells_df.mana.value_counts().sort_index(ascending=False))\n",
        "    print(f\"Mean =\\t{filtered_df.mana.mean():.3f}\")\n",
        "    print(f\"Std  =\\t{filtered_df.mana.std():.3f}\")\n",
        "\n",
        "\n",
        "get_mana_stats(filtered_df)\n"
      ]
    },
    {
      "cell_type": "code",
      "execution_count": 5,
      "metadata": {},
      "outputs": [
        {
          "data": {
            "text/plain": [
              "20.0"
            ]
          },
          "execution_count": 5,
          "metadata": {},
          "output_type": "execute_result"
        }
      ],
      "source": [
        "import dice.DiceCalculator as dice\n",
        "\n",
        "dice.get_dice_formula_mean('4d8+2')"
      ]
    },
    {
      "cell_type": "code",
      "execution_count": null,
      "metadata": {},
      "outputs": [],
      "source": []
    }
  ],
  "metadata": {
    "interpreter": {
      "hash": "d36adf45757a947aebb41e19531952e79d7da656c5a3acf675af965b060eaf9d"
    },
    "kernelspec": {
      "display_name": "Python 3.10.2 64-bit",
      "language": "python",
      "name": "python3"
    },
    "language_info": {
      "codemirror_mode": {
        "name": "ipython",
        "version": 3
      },
      "file_extension": ".py",
      "mimetype": "text/x-python",
      "name": "python",
      "nbconvert_exporter": "python",
      "pygments_lexer": "ipython3",
      "version": "3.10.8"
    },
    "orig_nbformat": 4
  },
  "nbformat": 4,
  "nbformat_minor": 2
}
