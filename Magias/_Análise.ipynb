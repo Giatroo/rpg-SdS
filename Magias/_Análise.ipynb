{
  "cells": [
    {
      "cell_type": "code",
      "execution_count": null,
      "metadata": {},
      "outputs": [],
      "source": [
        "from dfs.df_reader import get_asserted_spells_df\n",
        "\n",
        "spells_df = get_asserted_spells_df(verbose=True)"
      ]
    },
    {
      "cell_type": "code",
      "execution_count": null,
      "metadata": {},
      "outputs": [],
      "source": [
        "elemento = 'fogo'"
      ]
    },
    {
      "cell_type": "code",
      "execution_count": null,
      "metadata": {},
      "outputs": [],
      "source": [
        "from dfs.df_filter import DFFilter\n",
        "from spell.spell_printer import print_spell, print_spells_by_name, print_spells_for_df\n",
        "\n",
        "my_filter = {\n",
        "    \"classes\": ['guerreiro'],\n",
        "    'escola': ['elemental'],\n",
        "    'elementos': [elemento],\n",
        "    \"nivel\": [2],\n",
        "}\n",
        "filtered_df = DFFilter.filter_df(spells_df, my_filter)\n",
        "\n",
        "print_spells_for_df(filtered_df, header=False, desc=False, tags=False, classes=False, source=False)"
      ]
    },
    {
      "cell_type": "code",
      "execution_count": null,
      "metadata": {},
      "outputs": [],
      "source": [
        "my_filter = {\n",
        "    \"classes\": ['mago'],\n",
        "    'escola': ['elemental'],\n",
        "    'elementos': [elemento],\n",
        "    \"nivel\": [2],\n",
        "}\n",
        "filtered_df = DFFilter.filter_df(spells_df, my_filter)\n",
        "\n",
        "print_spells_for_df(filtered_df, header=False, desc=False, tags=False, classes=False, source=False)\n"
      ]
    },
    {
      "cell_type": "code",
      "execution_count": null,
      "metadata": {},
      "outputs": [],
      "source": [
        "my_filter = {\n",
        "    \"classes\": ['arqueiro'],\n",
        "    'escola': ['elemental'],\n",
        "    'elementos': [elemento],\n",
        "    \"nivel\": [2],\n",
        "}\n",
        "filtered_df = DFFilter.filter_df(spells_df, my_filter)\n",
        "\n",
        "print_spells_for_df(filtered_df, header=False, desc=False, tags=False, classes=False, source=False)\n"
      ]
    },
    {
      "cell_type": "code",
      "execution_count": null,
      "metadata": {},
      "outputs": [],
      "source": []
    }
  ],
  "metadata": {
    "interpreter": {
      "hash": "d36adf45757a947aebb41e19531952e79d7da656c5a3acf675af965b060eaf9d"
    },
    "kernelspec": {
      "display_name": "Python 3.10.2 64-bit",
      "language": "python",
      "name": "python3"
    },
    "language_info": {
      "codemirror_mode": {
        "name": "ipython",
        "version": 3
      },
      "file_extension": ".py",
      "mimetype": "text/x-python",
      "name": "python",
      "nbconvert_exporter": "python",
      "pygments_lexer": "ipython3",
      "version": "3.10.8"
    },
    "orig_nbformat": 4
  },
  "nbformat": 4,
  "nbformat_minor": 2
}
